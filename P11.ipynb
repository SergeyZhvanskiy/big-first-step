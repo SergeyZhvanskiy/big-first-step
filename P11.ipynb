{
 "cells": [
  {
   "cell_type": "code",
   "execution_count": 1,
   "id": "2af98d35",
   "metadata": {},
   "outputs": [],
   "source": [
    "import pandas as pd\n",
    "from sqlalchemy import create_engine"
   ]
  },
  {
   "cell_type": "code",
   "execution_count": 4,
   "id": "01b2b811",
   "metadata": {},
   "outputs": [
    {
     "name": "stdout",
     "output_type": "stream",
     "text": [
      "   record_id item_topic source_topic age_segment                  dt  visits\n",
      "0    1040597     Деньги         Авто       18-25 2019-09-24 18:32:00       3\n",
      "1    1040598     Деньги         Авто       18-25 2019-09-24 18:35:00       1\n",
      "2    1040599     Деньги         Авто       18-25 2019-09-24 18:54:00       4\n",
      "3    1040600     Деньги         Авто       18-25 2019-09-24 18:55:00      17\n",
      "4    1040601     Деньги         Авто       18-25 2019-09-24 18:56:00      27\n"
     ]
    }
   ],
   "source": [
    "db_config = {'user': 'praktikum_student', # имя пользователя\n",
    "            'pwd': 'Sdf4$2;d-d30pp', # пароль\n",
    "            'host': 'rc1b-wcoijxj3yxfsf3fs.mdb.yandexcloud.net',\n",
    "            'port': 6432, # порт подключения\n",
    "            'db': 'data-analyst-zen-project-db'} # название базы данных\n",
    "\n",
    "connection_string = 'postgresql://{}:{}@{}:{}/{}'.format(db_config['user'],\n",
    "                                                db_config['pwd'],\n",
    "                                                db_config['host'],\n",
    "                                                db_config['port'],\n",
    "                                                db_config['db'])\n",
    "\n",
    "engine = create_engine(connection_string)\n",
    "\n",
    "query = ''' SELECT *\n",
    "            FROM dash_visits\n",
    "        '''\n",
    "\n",
    "data_raw = pd.io.sql.read_sql(query, con = engine)\n",
    "\n",
    "print(data_raw.head(5))"
   ]
  },
  {
   "cell_type": "code",
   "execution_count": 5,
   "id": "577061f1",
   "metadata": {},
   "outputs": [
    {
     "name": "stdout",
     "output_type": "stream",
     "text": [
      "<class 'pandas.core.frame.DataFrame'>\n",
      "RangeIndex: 30745 entries, 0 to 30744\n",
      "Data columns (total 6 columns):\n",
      " #   Column        Non-Null Count  Dtype         \n",
      "---  ------        --------------  -----         \n",
      " 0   record_id     30745 non-null  int64         \n",
      " 1   item_topic    30745 non-null  object        \n",
      " 2   source_topic  30745 non-null  object        \n",
      " 3   age_segment   30745 non-null  object        \n",
      " 4   dt            30745 non-null  datetime64[ns]\n",
      " 5   visits        30745 non-null  int64         \n",
      "dtypes: datetime64[ns](1), int64(2), object(3)\n",
      "memory usage: 1.4+ MB\n"
     ]
    }
   ],
   "source": [
    "data_raw.info()"
   ]
  },
  {
   "cell_type": "code",
   "execution_count": 6,
   "id": "c6b148d2",
   "metadata": {},
   "outputs": [
    {
     "name": "stdout",
     "output_type": "stream",
     "text": [
      "2019-09-24 18:28:00 2019-09-24 19:00:00\n"
     ]
    }
   ],
   "source": [
    "print(data_raw['dt'].min(), data_raw['dt'].max())"
   ]
  },
  {
   "cell_type": "code",
   "execution_count": 7,
   "id": "39a08699",
   "metadata": {},
   "outputs": [
    {
     "name": "stdout",
     "output_type": "stream",
     "text": [
      "       record_id item_topic source_topic age_segment                  dt  \\\n",
      "30740    1071337       Юмор      Финансы       36-40 2019-09-24 18:57:00   \n",
      "30741    1071338       Юмор      Финансы       36-40 2019-09-24 19:00:00   \n",
      "30742    1071339       Юмор      Финансы       41-45 2019-09-24 18:54:00   \n",
      "30743    1071340       Юмор      Финансы       41-45 2019-09-24 18:56:00   \n",
      "30744    1071341       Юмор      Финансы       41-45 2019-09-24 19:00:00   \n",
      "\n",
      "       visits  \n",
      "30740       2  \n",
      "30741       1  \n",
      "30742       1  \n",
      "30743       1  \n",
      "30744       1  \n"
     ]
    }
   ],
   "source": [
    "print(data_raw.tail(5))"
   ]
  },
  {
   "cell_type": "code",
   "execution_count": 3,
   "id": "75b4d94c",
   "metadata": {},
   "outputs": [],
   "source": [
    "# data_raw.to_csv('dash_visits.csv')"
   ]
  },
  {
   "cell_type": "code",
   "execution_count": null,
   "id": "18c3b888",
   "metadata": {},
   "outputs": [],
   "source": []
  }
 ],
 "metadata": {
  "kernelspec": {
   "display_name": "Python 3 (ipykernel)",
   "language": "python",
   "name": "python3"
  },
  "language_info": {
   "codemirror_mode": {
    "name": "ipython",
    "version": 3
   },
   "file_extension": ".py",
   "mimetype": "text/x-python",
   "name": "python",
   "nbconvert_exporter": "python",
   "pygments_lexer": "ipython3",
   "version": "3.9.7"
  }
 },
 "nbformat": 4,
 "nbformat_minor": 5
}
