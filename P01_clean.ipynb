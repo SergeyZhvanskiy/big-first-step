{
 "cells": [
  {
   "cell_type": "markdown",
   "metadata": {
    "id": "E0vqbgi9ay0H"
   },
   "source": [
    "# Яндекс.Музыка"
   ]
  },
  {
   "cell_type": "markdown",
   "metadata": {
    "id": "VUC88oWjTJw2"
   },
   "source": [
    "Сравнение Москвы и Петербурга окружено мифами. Например:\n",
    " * Москва — мегаполис, подчинённый жёсткому ритму рабочей недели;\n",
    " * Петербург — культурная столица, со своими вкусами.\n",
    "\n",
    "На данных Яндекс.Музыки вы сравните поведение пользователей двух столиц.\n",
    "\n",
    "**Цель исследования** — проверьте три гипотезы:\n",
    "1. Активность пользователей зависит от дня недели. Причём в Москве и Петербурге это проявляется по-разному.\n",
    "2. В понедельник утром в Москве преобладают одни жанры, а в Петербурге — другие. Так же и вечером пятницы преобладают разные жанры — в зависимости от города. \n",
    "3. Москва и Петербург предпочитают разные жанры музыки. В Москве чаще слушают поп-музыку, в Петербурге — русский рэп.\n",
    "\n",
    "**Ход исследования**\n",
    "\n",
    "Данные о поведении пользователей вы получите из файла `yandex_music_project.csv`. О качестве данных ничего не известно. Поэтому перед проверкой гипотез понадобится обзор данных. \n",
    "\n",
    "Вы проверите данные на ошибки и оцените их влияние на исследование. Затем, на этапе предобработки вы поищете возможность исправить самые критичные ошибки данных.\n",
    " \n",
    "Таким образом, исследование пройдёт в три этапа:\n",
    " 1. Обзор данных.\n",
    " 2. Предобработка данных.\n",
    " 3. Проверка гипотез.\n",
    "\n"
   ]
  },
  {
   "cell_type": "markdown",
   "metadata": {
    "id": "Ml1hmfXC_Zcs"
   },
   "source": [
    "## Обзор данных\n",
    "\n",
    "Составьте первое представление о данных Яндекс.Музыки.\n",
    "\n",
    "\n"
   ]
  },
  {
   "cell_type": "markdown",
   "metadata": {
    "id": "57eAOGIz_Zcs"
   },
   "source": [
    "Основной инструмент аналитика — `pandas`. Импортируйте эту библиотеку."
   ]
  },
  {
   "cell_type": "code",
   "execution_count": 1,
   "metadata": {
    "id": "AXN7PHPN_Zcs"
   },
   "outputs": [],
   "source": [
    "import pandas as pd # импорт би.блиотеки pandas"
   ]
  },
  {
   "cell_type": "markdown",
   "metadata": {
    "id": "SG23P8tt_Zcs"
   },
   "source": [
    "Прочитайте файл `yandex_music_project.csv` из папки `/datasets` и сохраните его в переменной `df`:"
   ]
  },
  {
   "cell_type": "code",
   "execution_count": 2,
   "metadata": {
    "id": "fFVu7vqh_Zct",
    "scrolled": true
   },
   "outputs": [],
   "source": [
    "df = pd.read_csv('/datasets/yandex_music_project.csv') # чтение файла с данными и сохранение в df"
   ]
  },
  {
   "cell_type": "markdown",
   "metadata": {
    "id": "rDoOMd3uTqnZ"
   },
   "source": [
    "Выведите на экран первые десять строк таблицы:"
   ]
  },
  {
   "cell_type": "code",
   "execution_count": 3,
   "metadata": {
    "id": "oWTVX3gW_Zct",
    "scrolled": true
   },
   "outputs": [
    {
     "data": {
      "text/html": [
       "<div>\n",
       "<style scoped>\n",
       "    .dataframe tbody tr th:only-of-type {\n",
       "        vertical-align: middle;\n",
       "    }\n",
       "\n",
       "    .dataframe tbody tr th {\n",
       "        vertical-align: top;\n",
       "    }\n",
       "\n",
       "    .dataframe thead th {\n",
       "        text-align: right;\n",
       "    }\n",
       "</style>\n",
       "<table border=\"1\" class=\"dataframe\">\n",
       "  <thead>\n",
       "    <tr style=\"text-align: right;\">\n",
       "      <th></th>\n",
       "      <th>userID</th>\n",
       "      <th>Track</th>\n",
       "      <th>artist</th>\n",
       "      <th>genre</th>\n",
       "      <th>City</th>\n",
       "      <th>time</th>\n",
       "      <th>Day</th>\n",
       "    </tr>\n",
       "  </thead>\n",
       "  <tbody>\n",
       "    <tr>\n",
       "      <td>0</td>\n",
       "      <td>FFB692EC</td>\n",
       "      <td>Kamigata To Boots</td>\n",
       "      <td>The Mass Missile</td>\n",
       "      <td>rock</td>\n",
       "      <td>Saint-Petersburg</td>\n",
       "      <td>20:28:33</td>\n",
       "      <td>Wednesday</td>\n",
       "    </tr>\n",
       "    <tr>\n",
       "      <td>1</td>\n",
       "      <td>55204538</td>\n",
       "      <td>Delayed Because of Accident</td>\n",
       "      <td>Andreas Rönnberg</td>\n",
       "      <td>rock</td>\n",
       "      <td>Moscow</td>\n",
       "      <td>14:07:09</td>\n",
       "      <td>Friday</td>\n",
       "    </tr>\n",
       "    <tr>\n",
       "      <td>2</td>\n",
       "      <td>20EC38</td>\n",
       "      <td>Funiculì funiculà</td>\n",
       "      <td>Mario Lanza</td>\n",
       "      <td>pop</td>\n",
       "      <td>Saint-Petersburg</td>\n",
       "      <td>20:58:07</td>\n",
       "      <td>Wednesday</td>\n",
       "    </tr>\n",
       "    <tr>\n",
       "      <td>3</td>\n",
       "      <td>A3DD03C9</td>\n",
       "      <td>Dragons in the Sunset</td>\n",
       "      <td>Fire + Ice</td>\n",
       "      <td>folk</td>\n",
       "      <td>Saint-Petersburg</td>\n",
       "      <td>08:37:09</td>\n",
       "      <td>Monday</td>\n",
       "    </tr>\n",
       "    <tr>\n",
       "      <td>4</td>\n",
       "      <td>E2DC1FAE</td>\n",
       "      <td>Soul People</td>\n",
       "      <td>Space Echo</td>\n",
       "      <td>dance</td>\n",
       "      <td>Moscow</td>\n",
       "      <td>08:34:34</td>\n",
       "      <td>Monday</td>\n",
       "    </tr>\n",
       "    <tr>\n",
       "      <td>5</td>\n",
       "      <td>842029A1</td>\n",
       "      <td>Преданная</td>\n",
       "      <td>IMPERVTOR</td>\n",
       "      <td>rusrap</td>\n",
       "      <td>Saint-Petersburg</td>\n",
       "      <td>13:09:41</td>\n",
       "      <td>Friday</td>\n",
       "    </tr>\n",
       "    <tr>\n",
       "      <td>6</td>\n",
       "      <td>4CB90AA5</td>\n",
       "      <td>True</td>\n",
       "      <td>Roman Messer</td>\n",
       "      <td>dance</td>\n",
       "      <td>Moscow</td>\n",
       "      <td>13:00:07</td>\n",
       "      <td>Wednesday</td>\n",
       "    </tr>\n",
       "    <tr>\n",
       "      <td>7</td>\n",
       "      <td>F03E1C1F</td>\n",
       "      <td>Feeling This Way</td>\n",
       "      <td>Polina Griffith</td>\n",
       "      <td>dance</td>\n",
       "      <td>Moscow</td>\n",
       "      <td>20:47:49</td>\n",
       "      <td>Wednesday</td>\n",
       "    </tr>\n",
       "    <tr>\n",
       "      <td>8</td>\n",
       "      <td>8FA1D3BE</td>\n",
       "      <td>И вновь продолжается бой</td>\n",
       "      <td>NaN</td>\n",
       "      <td>ruspop</td>\n",
       "      <td>Moscow</td>\n",
       "      <td>09:17:40</td>\n",
       "      <td>Friday</td>\n",
       "    </tr>\n",
       "    <tr>\n",
       "      <td>9</td>\n",
       "      <td>E772D5C0</td>\n",
       "      <td>Pessimist</td>\n",
       "      <td>NaN</td>\n",
       "      <td>dance</td>\n",
       "      <td>Saint-Petersburg</td>\n",
       "      <td>21:20:49</td>\n",
       "      <td>Wednesday</td>\n",
       "    </tr>\n",
       "  </tbody>\n",
       "</table>\n",
       "</div>"
      ],
      "text/plain": [
       "     userID                        Track            artist   genre  \\\n",
       "0  FFB692EC            Kamigata To Boots  The Mass Missile    rock   \n",
       "1  55204538  Delayed Because of Accident  Andreas Rönnberg    rock   \n",
       "2    20EC38            Funiculì funiculà       Mario Lanza     pop   \n",
       "3  A3DD03C9        Dragons in the Sunset        Fire + Ice    folk   \n",
       "4  E2DC1FAE                  Soul People        Space Echo   dance   \n",
       "5  842029A1                    Преданная         IMPERVTOR  rusrap   \n",
       "6  4CB90AA5                         True      Roman Messer   dance   \n",
       "7  F03E1C1F             Feeling This Way   Polina Griffith   dance   \n",
       "8  8FA1D3BE     И вновь продолжается бой               NaN  ruspop   \n",
       "9  E772D5C0                    Pessimist               NaN   dance   \n",
       "\n",
       "             City        time        Day  \n",
       "0  Saint-Petersburg  20:28:33  Wednesday  \n",
       "1            Moscow  14:07:09     Friday  \n",
       "2  Saint-Petersburg  20:58:07  Wednesday  \n",
       "3  Saint-Petersburg  08:37:09     Monday  \n",
       "4            Moscow  08:34:34     Monday  \n",
       "5  Saint-Petersburg  13:09:41     Friday  \n",
       "6            Moscow  13:00:07  Wednesday  \n",
       "7            Moscow  20:47:49  Wednesday  \n",
       "8            Moscow  09:17:40     Friday  \n",
       "9  Saint-Petersburg  21:20:49  Wednesday  "
      ]
     },
     "metadata": {},
     "output_type": "display_data"
    }
   ],
   "source": [
    "display(df.head(10)) # получение первых 10 строк таблицы df"
   ]
  },
  {
   "cell_type": "markdown",
   "metadata": {
    "id": "EO73Kwic_Zct"
   },
   "source": [
    "Одной командой получить общую информацию о таблице:"
   ]
  },
  {
   "cell_type": "code",
   "execution_count": 4,
   "metadata": {
    "id": "DSf2kIb-_Zct"
   },
   "outputs": [
    {
     "name": "stdout",
     "output_type": "stream",
     "text": [
      "<class 'pandas.core.frame.DataFrame'>\n",
      "RangeIndex: 65079 entries, 0 to 65078\n",
      "Data columns (total 7 columns):\n",
      "  userID    65079 non-null object\n",
      "Track       63848 non-null object\n",
      "artist      57876 non-null object\n",
      "genre       63881 non-null object\n",
      "  City      65079 non-null object\n",
      "time        65079 non-null object\n",
      "Day         65079 non-null object\n",
      "dtypes: object(7)\n",
      "memory usage: 3.5+ MB\n"
     ]
    }
   ],
   "source": [
    "df.info() # получение общей информации о данных в таблице df"
   ]
  },
  {
   "cell_type": "markdown",
   "metadata": {
    "id": "TaQ2Iwbr_Zct"
   },
   "source": [
    "Итак, в таблице семь столбцов. Тип данных во всех столбцах — `object`.\n",
    "\n",
    "Согласно документации к данным:\n",
    "* `userID` — идентификатор пользователя;\n",
    "* `Track` — название трека;  \n",
    "* `artist` — имя исполнителя;\n",
    "* `genre` — название жанра;\n",
    "* `City` — город пользователя;\n",
    "* `time` — время начала прослушивания;\n",
    "* `Day` — день недели.\n",
    "\n",
    "В названиях колонок видны три нарушения стиля:\n",
    "1. Строчные буквы сочетаются с прописными и для обеспечения стиля требуется замена на строчные.\n",
    "2. Встречаются пробелы, которые требуют замены на нижнее подчеркивание для обеспечения \"змеиного\" регистра.\n",
    "3. Встречаются пробелы (как следствие имитации отступов и центрирования), требующие удаления.\n",
    "4. В названии userID после перевода в нижний регистр потребуется вставить нижнее подчеркивание \n",
    "\n",
    "\n",
    "Количество значений в столбцах различается. Значит, в данных есть пропущенные значения.\n"
   ]
  },
  {
   "cell_type": "markdown",
   "metadata": {
    "id": "MCB6-dXG_Zct"
   },
   "source": [
    "**Выводы**\n",
    "\n",
    "В каждой строке таблицы — данные о прослушанном треке. Часть колонок описывает саму композицию: название, исполнителя и жанр. Остальные данные рассказывают о пользователе: из какого он города, когда он слушал музыку. \n",
    "\n",
    "Предварительно можно утверждать, что, данных достаточно для проверки гипотез. Но встречаются пропуски в данных, а в названиях колонок — расхождения с хорошим стилем.\n",
    "\n",
    "Чтобы двигаться дальше, нужно устранить проблемы в данных."
   ]
  },
  {
   "cell_type": "markdown",
   "metadata": {
    "id": "SjYF6Ub9_Zct"
   },
   "source": [
    "## Предобработка данных\n",
    "Исправьте стиль в заголовках столбцов, исключите пропуски. Затем проверьте данные на дубликаты."
   ]
  },
  {
   "cell_type": "markdown",
   "metadata": {
    "id": "dIaKXr29_Zct"
   },
   "source": [
    "### Стиль заголовков\n",
    "Выведите на экран названия столбцов:"
   ]
  },
  {
   "cell_type": "code",
   "execution_count": 5,
   "metadata": {
    "id": "oKOTdF_Q_Zct"
   },
   "outputs": [
    {
     "data": {
      "text/plain": [
       "Index(['  userID', 'Track', 'artist', 'genre', '  City  ', 'time', 'Day'], dtype='object')"
      ]
     },
     "execution_count": 5,
     "metadata": {},
     "output_type": "execute_result"
    }
   ],
   "source": [
    "df.columns # перечень названий столбцов таблицы df - print() убрано"
   ]
  },
  {
   "cell_type": "markdown",
   "metadata": {
    "id": "zj5534cv_Zct"
   },
   "source": [
    "Приведите названия в соответствие с хорошим стилем:\n",
    "* несколько слов в названии запишите в «змеином_регистре»,\n",
    "* все символы сделайте строчными,\n",
    "* устраните пробелы.\n",
    "\n",
    "Для этого переименуйте колонки так:\n",
    "* `'  userID'` → `'user_id'`;\n",
    "* `'Track'` → `'track'`;\n",
    "* `'  City  '` → `'city'`;\n",
    "* `'Day'` → `'day'`."
   ]
  },
  {
   "cell_type": "code",
   "execution_count": 6,
   "metadata": {
    "id": "ISlFqs5y_Zct"
   },
   "outputs": [],
   "source": [
    "df = df.rename(columns={'  userID':'user_id', 'Track':'track', '  City  ':'city', 'Day':'day'}) # переименование столбцов"
   ]
  },
  {
   "cell_type": "markdown",
   "metadata": {
    "id": "1dqbh00J_Zct"
   },
   "source": [
    "Проверьте результат. Для этого ещё раз выведите на экран названия столбцов:"
   ]
  },
  {
   "cell_type": "code",
   "execution_count": 7,
   "metadata": {
    "id": "d4NOAmTW_Zct"
   },
   "outputs": [
    {
     "data": {
      "text/plain": [
       "Index(['user_id', 'track', 'artist', 'genre', 'city', 'time', 'day'], dtype='object')"
      ]
     },
     "execution_count": 7,
     "metadata": {},
     "output_type": "execute_result"
    }
   ],
   "source": [
    "df.columns # проверка результатов - перечень названий столбцов"
   ]
  },
  {
   "cell_type": "markdown",
   "metadata": {
    "id": "5ISfbcfY_Zct"
   },
   "source": [
    "### Пропуски значений\n",
    "Сначала посчитайте, сколько в таблице пропущенных значений. Для этого достаточно двух методов `pandas`:"
   ]
  },
  {
   "cell_type": "code",
   "execution_count": 8,
   "metadata": {
    "id": "RskX29qr_Zct"
   },
   "outputs": [
    {
     "name": "stdout",
     "output_type": "stream",
     "text": [
      "user_id       0\n",
      "track      1231\n",
      "artist     7203\n",
      "genre      1198\n",
      "city          0\n",
      "time          0\n",
      "day           0\n",
      "dtype: int64\n"
     ]
    }
   ],
   "source": [
    "print(df.isna().sum())  # подсчёт пропусков: из двух методов isna() и isnull() применяем более стильный isna()"
   ]
  },
  {
   "cell_type": "markdown",
   "metadata": {
    "id": "qubhgnlO_Zct"
   },
   "source": [
    "Не все пропущенные значения влияют на исследование. Так в `track` и `artist` пропуски не важны для вашей работы. Достаточно заменить их явными обозначениями.\n",
    "\n",
    "Но пропуски в `genre` могут помешать сравнению музыкальных вкусов в Москве и Санкт-Петербурге. На практике было бы правильно установить причину пропусков и восстановить данные. Такой возможности нет в учебном проекте. Придётся:\n",
    "* заполнить и эти пропуски явными обозначениями,\n",
    "* оценить, насколько они повредят расчётам. "
   ]
  },
  {
   "cell_type": "markdown",
   "metadata": {
    "id": "fSv2laPA_Zct"
   },
   "source": [
    "Замените пропущенные значения в столбцах `track`, `artist` и `genre` на строку `'unknown'`. Для этого создайте список `columns_to_replace`, переберите его элементы циклом `for` и для каждого столбца выполните замену пропущенных значений:"
   ]
  },
  {
   "cell_type": "code",
   "execution_count": 9,
   "metadata": {
    "id": "KplB5qWs_Zct"
   },
   "outputs": [],
   "source": [
    "# перебор названий столбцов в цикле и замена пропущенных значений на 'unknown'\n",
    "columns_to_replace = ['track', 'artist', 'genre']\n",
    "for column in columns_to_replace:\n",
    "    df[column] = df[column].fillna('unknown')"
   ]
  },
  {
   "cell_type": "markdown",
   "metadata": {
    "id": "Ilsm-MZo_Zct"
   },
   "source": [
    "Убедитесь, что в таблице не осталось пропусков. Для этого ещё раз посчитайте пропущенные значения."
   ]
  },
  {
   "cell_type": "code",
   "execution_count": 10,
   "metadata": {
    "id": "Tq4nYRX4_Zct"
   },
   "outputs": [
    {
     "name": "stdout",
     "output_type": "stream",
     "text": [
      "user_id    0\n",
      "track      0\n",
      "artist     0\n",
      "genre      0\n",
      "city       0\n",
      "time       0\n",
      "day        0\n",
      "dtype: int64\n"
     ]
    }
   ],
   "source": [
    "print(df.isna().sum()) # подсчёт пропусков (показал, что пропусков больше нет!)"
   ]
  },
  {
   "cell_type": "markdown",
   "metadata": {
    "id": "BWKRtBJ3_Zct"
   },
   "source": [
    "### Дубликаты\n",
    "Посчитайте явные дубликаты в таблице одной командой:"
   ]
  },
  {
   "cell_type": "code",
   "execution_count": 11,
   "metadata": {
    "id": "36eES_S0_Zct"
   },
   "outputs": [
    {
     "name": "stdout",
     "output_type": "stream",
     "text": [
      "3826\n"
     ]
    }
   ],
   "source": [
    "print(df.duplicated().sum()) # подсчёт явных дубликатов"
   ]
  },
  {
   "cell_type": "markdown",
   "metadata": {
    "id": "Ot25h6XR_Zct"
   },
   "source": [
    "Вызовите специальный метод `pandas`, чтобы удалить явные дубликаты:"
   ]
  },
  {
   "cell_type": "code",
   "execution_count": 12,
   "metadata": {
    "id": "exFHq6tt_Zct"
   },
   "outputs": [],
   "source": [
    "df = df.drop_duplicates().reset_index(drop=True) # удаление явных дубликатов (с удалением старых индексов и формированием новых)"
   ]
  },
  {
   "cell_type": "markdown",
   "metadata": {
    "id": "Im2YwBEG_Zct"
   },
   "source": [
    "Ещё раз посчитайте явные дубликаты в таблице — убедитесь, что полностью от них избавились:"
   ]
  },
  {
   "cell_type": "code",
   "execution_count": 13,
   "metadata": {
    "id": "-8PuNWQ0_Zct"
   },
   "outputs": [
    {
     "name": "stdout",
     "output_type": "stream",
     "text": [
      "0\n"
     ]
    }
   ],
   "source": [
    "print(df.duplicated().sum()) # проверка на отсутствие дубликатов"
   ]
  },
  {
   "cell_type": "markdown",
   "metadata": {
    "id": "QlFBsxAr_Zct"
   },
   "source": [
    "Теперь избавьтесь от неявных дубликатов в колонке `genre`. Например, название одного и того же жанра может быть записано немного по-разному. Такие ошибки тоже повлияют на результат исследования."
   ]
  },
  {
   "cell_type": "markdown",
   "metadata": {
    "id": "eSjWwsOh_Zct"
   },
   "source": [
    "Выведите на экран список уникальных названий жанров, отсортированный в алфавитном порядке. Для этого:\n",
    "* извлеките нужный столбец датафрейма, \n",
    "* примените к нему метод сортировки,\n",
    "* для отсортированного столбца вызовите метод, который вернёт уникальные значения из столбца."
   ]
  },
  {
   "cell_type": "code",
   "execution_count": 14,
   "metadata": {
    "id": "JIUcqzZN_Zct",
    "scrolled": false
   },
   "outputs": [
    {
     "data": {
      "text/plain": [
       "array(['acid', 'acoustic', 'action', 'adult', 'africa', 'afrikaans',\n",
       "       'alternative', 'alternativepunk', 'ambient', 'americana',\n",
       "       'animated', 'anime', 'arabesk', 'arabic', 'arena',\n",
       "       'argentinetango', 'art', 'audiobook', 'author', 'avantgarde',\n",
       "       'axé', 'baile', 'balkan', 'beats', 'bigroom', 'black', 'bluegrass',\n",
       "       'blues', 'bollywood', 'bossa', 'brazilian', 'breakbeat', 'breaks',\n",
       "       'broadway', 'cantautori', 'cantopop', 'canzone', 'caribbean',\n",
       "       'caucasian', 'celtic', 'chamber', 'chanson', 'children', 'chill',\n",
       "       'chinese', 'choral', 'christian', 'christmas', 'classical',\n",
       "       'classicmetal', 'club', 'colombian', 'comedy', 'conjazz',\n",
       "       'contemporary', 'country', 'cuban', 'dance', 'dancehall',\n",
       "       'dancepop', 'dark', 'death', 'deep', 'deutschrock', 'deutschspr',\n",
       "       'dirty', 'disco', 'dnb', 'documentary', 'downbeat', 'downtempo',\n",
       "       'drum', 'dub', 'dubstep', 'eastern', 'easy', 'electronic',\n",
       "       'electropop', 'emo', 'entehno', 'epicmetal', 'estrada', 'ethnic',\n",
       "       'eurofolk', 'european', 'experimental', 'extrememetal', 'fado',\n",
       "       'fairytail', 'film', 'fitness', 'flamenco', 'folk', 'folklore',\n",
       "       'folkmetal', 'folkrock', 'folktronica', 'forró', 'frankreich',\n",
       "       'französisch', 'french', 'funk', 'future', 'gangsta', 'garage',\n",
       "       'german', 'ghazal', 'gitarre', 'glitch', 'gospel', 'gothic',\n",
       "       'grime', 'grunge', 'gypsy', 'handsup', \"hard'n'heavy\", 'hardcore',\n",
       "       'hardstyle', 'hardtechno', 'hip', 'hip-hop', 'hiphop',\n",
       "       'historisch', 'holiday', 'hop', 'horror', 'house', 'hymn', 'idm',\n",
       "       'independent', 'indian', 'indie', 'indipop', 'industrial',\n",
       "       'inspirational', 'instrumental', 'international', 'irish', 'jam',\n",
       "       'japanese', 'jazz', 'jewish', 'jpop', 'jungle', 'k-pop',\n",
       "       'karadeniz', 'karaoke', 'kayokyoku', 'korean', 'laiko', 'latin',\n",
       "       'latino', 'leftfield', 'local', 'lounge', 'loungeelectronic',\n",
       "       'lovers', 'malaysian', 'mandopop', 'marschmusik', 'meditative',\n",
       "       'mediterranean', 'melodic', 'metal', 'metalcore', 'mexican',\n",
       "       'middle', 'minimal', 'miscellaneous', 'modern', 'mood', 'mpb',\n",
       "       'muslim', 'native', 'neoklassik', 'neue', 'new', 'newage',\n",
       "       'newwave', 'nu', 'nujazz', 'numetal', 'oceania', 'old', 'opera',\n",
       "       'orchestral', 'other', 'piano', 'podcasts', 'pop', 'popdance',\n",
       "       'popelectronic', 'popeurodance', 'poprussian', 'post',\n",
       "       'posthardcore', 'postrock', 'power', 'progmetal', 'progressive',\n",
       "       'psychedelic', 'punjabi', 'punk', 'quebecois', 'ragga', 'ram',\n",
       "       'rancheras', 'rap', 'rave', 'reggae', 'reggaeton', 'regional',\n",
       "       'relax', 'religious', 'retro', 'rhythm', 'rnb', 'rnr', 'rock',\n",
       "       'rockabilly', 'rockalternative', 'rockindie', 'rockother',\n",
       "       'romance', 'roots', 'ruspop', 'rusrap', 'rusrock', 'russian',\n",
       "       'salsa', 'samba', 'scenic', 'schlager', 'self', 'sertanejo',\n",
       "       'shanson', 'shoegazing', 'showtunes', 'singer', 'ska', 'skarock',\n",
       "       'slow', 'smooth', 'soft', 'soul', 'soulful', 'sound', 'soundtrack',\n",
       "       'southern', 'specialty', 'speech', 'spiritual', 'sport',\n",
       "       'stonerrock', 'surf', 'swing', 'synthpop', 'synthrock',\n",
       "       'sängerportrait', 'tango', 'tanzorchester', 'taraftar', 'tatar',\n",
       "       'tech', 'techno', 'teen', 'thrash', 'top', 'traditional',\n",
       "       'tradjazz', 'trance', 'tribal', 'trip', 'triphop', 'tropical',\n",
       "       'türk', 'türkçe', 'ukrrock', 'unknown', 'urban', 'uzbek',\n",
       "       'variété', 'vi', 'videogame', 'vocal', 'western', 'world',\n",
       "       'worldbeat', 'ïîï', 'электроника'], dtype=object)"
      ]
     },
     "metadata": {},
     "output_type": "display_data"
    }
   ],
   "source": [
    "display(df['genre'].sort_values().unique()) # Просмотр уникальных названий жанров - теперь с сортировкой"
   ]
  },
  {
   "cell_type": "markdown",
   "metadata": {
    "id": "qej-Qmuo_Zct"
   },
   "source": [
    "Просмотрите список и найдите неявные дубликаты названия `hiphop`. Это могут быть названия с ошибками или альтернативные названия того же жанра.\n",
    "\n",
    "Вы увидите следующие неявные дубликаты:\n",
    "* *hip*,\n",
    "* *hop*,\n",
    "* *hip-hop*.\n",
    "\n",
    "Чтобы очистить от них таблицу, напишите функцию `replace_wrong_genres()` с двумя параметрами: \n",
    "* `wrong_genres` — список дубликатов,\n",
    "* `correct_genre` — строка с правильным значением.\n",
    "\n",
    "Функция должна исправить колонку `genre` в таблице `df`: заменить каждое значение из списка `wrong_genres` на значение из `correct_genre`."
   ]
  },
  {
   "cell_type": "code",
   "execution_count": 15,
   "metadata": {
    "id": "ErNDkmns_Zct"
   },
   "outputs": [],
   "source": [
    "# Функция для замены неявных дубликатов\n",
    "def replace_wrong_genres(wrong_genres, correct_genre):\n",
    "    for wrong_genre in wrong_genres:\n",
    "        df['genre'] = df['genre'].replace(wrong_genres, correct_genre)"
   ]
  },
  {
   "cell_type": "markdown",
   "metadata": {
    "id": "aDoBJxbA_Zct"
   },
   "source": [
    "Вызовите `replace_wrong_genres()` и передайте ей такие аргументы, чтобы она устранила неявные дубликаты: вместо `hip`, `hop` и `hip-hop` в таблице должно быть значение `hiphop`:"
   ]
  },
  {
   "cell_type": "code",
   "execution_count": 16,
   "metadata": {
    "id": "YN5i2hpmSo09"
   },
   "outputs": [],
   "source": [
    "# Устранение неявных дубликатов\n",
    "# Помимо хип-хопа выявлен еще и русский вариант написания электроники, а также еще кое-что.\n",
    "# Всё это также унифицируется (хотя, наверняка, есть и другие неявные дубли):\n",
    "\n",
    "wrong = [['hip', 'hop', 'hip-hop'], 'электроника', ['französisch', 'frankreich'], ['türk', 'türkçe']]\n",
    "correct = ['hiphop', 'electronic', 'french', 'turkish']\n",
    "\n",
    "for index in range(len(wrong)):\n",
    "    replace_wrong_genres(wrong[index], correct[index])"
   ]
  },
  {
   "cell_type": "markdown",
   "metadata": {
    "id": "zQKF16_RG15m"
   },
   "source": [
    "Проверьте, что заменили неправильные названия:\n",
    "\n",
    "*   hip\n",
    "*   hop\n",
    "*   hip-hop\n",
    "\n",
    "Выведите отсортированный список уникальных значений столбца `genre`:"
   ]
  },
  {
   "cell_type": "code",
   "execution_count": 17,
   "metadata": {
    "id": "wvixALnFG15m"
   },
   "outputs": [
    {
     "data": {
      "text/plain": [
       "array(['acid', 'acoustic', 'action', 'adult', 'africa', 'afrikaans',\n",
       "       'alternative', 'alternativepunk', 'ambient', 'americana',\n",
       "       'animated', 'anime', 'arabesk', 'arabic', 'arena',\n",
       "       'argentinetango', 'art', 'audiobook', 'author', 'avantgarde',\n",
       "       'axé', 'baile', 'balkan', 'beats', 'bigroom', 'black', 'bluegrass',\n",
       "       'blues', 'bollywood', 'bossa', 'brazilian', 'breakbeat', 'breaks',\n",
       "       'broadway', 'cantautori', 'cantopop', 'canzone', 'caribbean',\n",
       "       'caucasian', 'celtic', 'chamber', 'chanson', 'children', 'chill',\n",
       "       'chinese', 'choral', 'christian', 'christmas', 'classical',\n",
       "       'classicmetal', 'club', 'colombian', 'comedy', 'conjazz',\n",
       "       'contemporary', 'country', 'cuban', 'dance', 'dancehall',\n",
       "       'dancepop', 'dark', 'death', 'deep', 'deutschrock', 'deutschspr',\n",
       "       'dirty', 'disco', 'dnb', 'documentary', 'downbeat', 'downtempo',\n",
       "       'drum', 'dub', 'dubstep', 'eastern', 'easy', 'electronic',\n",
       "       'electropop', 'emo', 'entehno', 'epicmetal', 'estrada', 'ethnic',\n",
       "       'eurofolk', 'european', 'experimental', 'extrememetal', 'fado',\n",
       "       'fairytail', 'film', 'fitness', 'flamenco', 'folk', 'folklore',\n",
       "       'folkmetal', 'folkrock', 'folktronica', 'forró', 'french', 'funk',\n",
       "       'future', 'gangsta', 'garage', 'german', 'ghazal', 'gitarre',\n",
       "       'glitch', 'gospel', 'gothic', 'grime', 'grunge', 'gypsy',\n",
       "       'handsup', \"hard'n'heavy\", 'hardcore', 'hardstyle', 'hardtechno',\n",
       "       'hiphop', 'historisch', 'holiday', 'horror', 'house', 'hymn',\n",
       "       'idm', 'independent', 'indian', 'indie', 'indipop', 'industrial',\n",
       "       'inspirational', 'instrumental', 'international', 'irish', 'jam',\n",
       "       'japanese', 'jazz', 'jewish', 'jpop', 'jungle', 'k-pop',\n",
       "       'karadeniz', 'karaoke', 'kayokyoku', 'korean', 'laiko', 'latin',\n",
       "       'latino', 'leftfield', 'local', 'lounge', 'loungeelectronic',\n",
       "       'lovers', 'malaysian', 'mandopop', 'marschmusik', 'meditative',\n",
       "       'mediterranean', 'melodic', 'metal', 'metalcore', 'mexican',\n",
       "       'middle', 'minimal', 'miscellaneous', 'modern', 'mood', 'mpb',\n",
       "       'muslim', 'native', 'neoklassik', 'neue', 'new', 'newage',\n",
       "       'newwave', 'nu', 'nujazz', 'numetal', 'oceania', 'old', 'opera',\n",
       "       'orchestral', 'other', 'piano', 'podcasts', 'pop', 'popdance',\n",
       "       'popelectronic', 'popeurodance', 'poprussian', 'post',\n",
       "       'posthardcore', 'postrock', 'power', 'progmetal', 'progressive',\n",
       "       'psychedelic', 'punjabi', 'punk', 'quebecois', 'ragga', 'ram',\n",
       "       'rancheras', 'rap', 'rave', 'reggae', 'reggaeton', 'regional',\n",
       "       'relax', 'religious', 'retro', 'rhythm', 'rnb', 'rnr', 'rock',\n",
       "       'rockabilly', 'rockalternative', 'rockindie', 'rockother',\n",
       "       'romance', 'roots', 'ruspop', 'rusrap', 'rusrock', 'russian',\n",
       "       'salsa', 'samba', 'scenic', 'schlager', 'self', 'sertanejo',\n",
       "       'shanson', 'shoegazing', 'showtunes', 'singer', 'ska', 'skarock',\n",
       "       'slow', 'smooth', 'soft', 'soul', 'soulful', 'sound', 'soundtrack',\n",
       "       'southern', 'specialty', 'speech', 'spiritual', 'sport',\n",
       "       'stonerrock', 'surf', 'swing', 'synthpop', 'synthrock',\n",
       "       'sängerportrait', 'tango', 'tanzorchester', 'taraftar', 'tatar',\n",
       "       'tech', 'techno', 'teen', 'thrash', 'top', 'traditional',\n",
       "       'tradjazz', 'trance', 'tribal', 'trip', 'triphop', 'tropical',\n",
       "       'turkish', 'ukrrock', 'unknown', 'urban', 'uzbek', 'variété', 'vi',\n",
       "       'videogame', 'vocal', 'western', 'world', 'worldbeat', 'ïîï'],\n",
       "      dtype=object)"
      ]
     },
     "metadata": {},
     "output_type": "display_data"
    }
   ],
   "source": [
    "# Проверка на неявные дубликаты - заменено на .sort_values(), хотя с вариантом sorted() результат был нагляднее\n",
    "display(df['genre'].sort_values().unique())"
   ]
  },
  {
   "cell_type": "markdown",
   "metadata": {
    "id": "jz6a9-7HQUDd"
   },
   "source": [
    "**Выводы**\n",
    "\n",
    "Предобработка обнаружила три проблемы в данных:\n",
    "\n",
    "- нарушения в стиле заголовков,\n",
    "- пропущенные значения,\n",
    "- дубликаты — явные и неявные.\n",
    "\n",
    "Вы исправили заголовки, чтобы упростить работу с таблицей. Без дубликатов исследование станет более точным.\n",
    "\n",
    "Пропущенные значения вы заменили на `'unknown'`. Ещё предстоит увидеть, не повредят ли исследованию пропуски в колонке `genre`.\n",
    "\n",
    "Теперь можно перейти к проверке гипотез. "
   ]
  },
  {
   "cell_type": "markdown",
   "metadata": {
    "id": "WttZHXH0SqKk"
   },
   "source": [
    "## Проверка гипотез"
   ]
  },
  {
   "cell_type": "markdown",
   "metadata": {
    "id": "Im936VVi_Zcu"
   },
   "source": [
    "### Сравнение поведения пользователей двух столиц"
   ]
  },
  {
   "cell_type": "markdown",
   "metadata": {
    "id": "nwt_MuaL_Zcu"
   },
   "source": [
    "Первая гипотеза утверждает, что пользователи по-разному слушают музыку в Москве и Санкт-Петербурге. Проверьте это предположение по данным о трёх днях недели — понедельнике, среде и пятнице. Для этого:\n",
    "\n",
    "* Разделите пользователей Москвы и Санкт-Петербурга\n",
    "* Сравните, сколько треков послушала каждая группа пользователей в понедельник, среду и пятницу.\n"
   ]
  },
  {
   "cell_type": "markdown",
   "metadata": {
    "id": "8Dw_YMmT_Zcu"
   },
   "source": [
    "Для тренировки сначала выполните каждый из расчётов по отдельности. \n",
    "\n",
    "Оцените активность пользователей в каждом городе. Сгруппируйте данные по городу и посчитайте прослушивания в каждой группе.\n",
    "\n"
   ]
  },
  {
   "cell_type": "code",
   "execution_count": 18,
   "metadata": {
    "id": "0_Qs96oh_Zcu"
   },
   "outputs": [
    {
     "data": {
      "text/plain": [
       "city\n",
       "Moscow              42741\n",
       "Saint-Petersburg    18512\n",
       "Name: user_id, dtype: int64"
      ]
     },
     "execution_count": 18,
     "metadata": {},
     "output_type": "execute_result"
    }
   ],
   "source": [
    "# Подсчёт прослушиваний в каждом городе - добавлен выбор столбца (user_id)\n",
    "df.groupby('city')['user_id'].count()"
   ]
  },
  {
   "cell_type": "markdown",
   "metadata": {
    "id": "dzli3w8o_Zcu"
   },
   "source": [
    "В Москве прослушиваний больше, чем в Петербурге. Из этого не следует, что московские пользователи чаще слушают музыку. Просто самих пользователей в Москве больше.\n",
    "\n",
    "Теперь сгруппируйте данные по дню недели и подсчитайте прослушивания в понедельник, среду и пятницу. Учтите, что в данных есть информация только о прослушиваниях только за эти дни.\n"
   ]
  },
  {
   "cell_type": "code",
   "execution_count": 19,
   "metadata": {
    "id": "uZMKjiJz_Zcu"
   },
   "outputs": [
    {
     "data": {
      "text/plain": [
       "day\n",
       "Friday       21840\n",
       "Monday       21354\n",
       "Wednesday    18059\n",
       "Name: user_id, dtype: int64"
      ]
     },
     "execution_count": 19,
     "metadata": {},
     "output_type": "execute_result"
    }
   ],
   "source": [
    "# Подсчёт прослушиваний в каждый из трёх дней\n",
    "df.groupby('day')['user_id'].count()\n",
    "\n",
    "# Можно и без вывода display()"
   ]
  },
  {
   "cell_type": "markdown",
   "metadata": {
    "id": "cC2tNrlL_Zcu"
   },
   "source": [
    "В среднем пользователи из двух городов менее активны по средам. Но картина может измениться, если рассмотреть каждый город в отдельности."
   ]
  },
  {
   "cell_type": "markdown",
   "metadata": {
    "id": "POzs8bGa_Zcu"
   },
   "source": [
    "Вы видели, как работает группировка по городу и по дням недели. Теперь напишите функцию, которая объединит два эти расчёта.\n",
    "\n",
    "Создайте функцию `number_tracks()`, которая посчитает прослушивания для заданного дня и города. Ей понадобятся два параметра:\n",
    "* день недели,\n",
    "* название города.\n",
    "\n",
    "В функции сохраните в переменную строки исходной таблицы, у которых значение:\n",
    "  * в колонке `day` равно параметру `day`,\n",
    "  * в колонке `city` равно параметру `city`.\n",
    "\n",
    "Для этого примените последовательную фильтрацию с логической индексацией.\n",
    "\n",
    "Затем посчитайте значения в столбце `user_id` получившейся таблицы. Результат сохраните в новую переменную. Верните эту переменную из функции."
   ]
  },
  {
   "cell_type": "code",
   "execution_count": 20,
   "metadata": {
    "id": "Nz3GdQB1_Zcu"
   },
   "outputs": [],
   "source": [
    "# <создание функции number_tracks()>\n",
    "# Объявляется функция с двумя параметрами: day, city.\n",
    "# В переменной track_list сохраняются те строки таблицы df, для которых \n",
    "# значение в столбце 'day' равно параметру day и одновременно значение\n",
    "# в столбце 'city' равно параметру city (используйте последовательную фильтрацию\n",
    "# с помощью логической индексации).\n",
    "# В переменной track_list_count сохраняется число значений столбца 'user_id',\n",
    "# рассчитанное методом count() для таблицы track_list.\n",
    "# Функция возвращает число - значение track_list_count.\n",
    "\n",
    "def number_tracks(day, city):\n",
    "    track_list = df[df['day'] == day] # фильтр по дням недели\n",
    "    track_list = track_list[track_list['city'] == city] # второй фильтр по городам\n",
    "    track_list_count = track_list['user_id'].count() # подсчет слушателей после фильтрации\n",
    "    return track_list_count\n",
    "\n",
    "# Функция для подсчёта прослушиваний для конкретного города и дня.\n",
    "# С помощью последовательной фильтрации с логической индексацией она \n",
    "# сначала получит из исходной таблицы строки с нужным днём,\n",
    "# затем из результата отфильтрует строки с нужным городом,\n",
    "# методом count() посчитает количество значений в колонке user_id. \n",
    "# Это количество функция вернёт в качестве результата"
   ]
  },
  {
   "cell_type": "markdown",
   "metadata": {
    "id": "ytf7xFrFJQ2r"
   },
   "source": [
    "Вызовите `number_tracks()` шесть раз, меняя значение параметров — так, чтобы получить данные для каждого города в каждый из трёх дней."
   ]
  },
  {
   "cell_type": "code",
   "execution_count": 21,
   "metadata": {
    "id": "rJcRATNQ_Zcu"
   },
   "outputs": [
    {
     "data": {
      "text/plain": [
       "15740"
      ]
     },
     "execution_count": 21,
     "metadata": {},
     "output_type": "execute_result"
    }
   ],
   "source": [
    "# количество прослушиваний в Москве по понедельникам\n",
    "number_tracks('Monday', 'Moscow')"
   ]
  },
  {
   "cell_type": "code",
   "execution_count": 22,
   "metadata": {
    "id": "hq_ncZ5T_Zcu"
   },
   "outputs": [
    {
     "data": {
      "text/plain": [
       "5614"
      ]
     },
     "execution_count": 22,
     "metadata": {},
     "output_type": "execute_result"
    }
   ],
   "source": [
    "# количество прослушиваний в Санкт-Петербурге по понедельникам\n",
    "number_tracks('Monday', 'Saint-Petersburg')"
   ]
  },
  {
   "cell_type": "code",
   "execution_count": 23,
   "metadata": {
    "id": "_NTy2VPU_Zcu"
   },
   "outputs": [
    {
     "data": {
      "text/plain": [
       "11056"
      ]
     },
     "execution_count": 23,
     "metadata": {},
     "output_type": "execute_result"
    }
   ],
   "source": [
    "# количество прослушиваний в Москве по средам\n",
    "number_tracks('Wednesday', 'Moscow')"
   ]
  },
  {
   "cell_type": "code",
   "execution_count": 24,
   "metadata": {
    "id": "j2y3TAwo_Zcu"
   },
   "outputs": [
    {
     "data": {
      "text/plain": [
       "7003"
      ]
     },
     "execution_count": 24,
     "metadata": {},
     "output_type": "execute_result"
    }
   ],
   "source": [
    "# количество прослушиваний в Санкт-Петербурге по средам\n",
    "number_tracks('Wednesday', 'Saint-Petersburg')"
   ]
  },
  {
   "cell_type": "code",
   "execution_count": 25,
   "metadata": {
    "id": "vYDw5u_K_Zcu"
   },
   "outputs": [
    {
     "data": {
      "text/plain": [
       "15945"
      ]
     },
     "execution_count": 25,
     "metadata": {},
     "output_type": "execute_result"
    }
   ],
   "source": [
    "# количество прослушиваний в Москве по пятницам\n",
    "number_tracks('Friday', 'Moscow')"
   ]
  },
  {
   "cell_type": "code",
   "execution_count": 26,
   "metadata": {
    "id": "8_yzFtW3_Zcu"
   },
   "outputs": [
    {
     "data": {
      "text/plain": [
       "5895"
      ]
     },
     "execution_count": 26,
     "metadata": {},
     "output_type": "execute_result"
    }
   ],
   "source": [
    "# количество прослушиваний в Санкт-Петербурге по пятницам\n",
    "number_tracks('Friday', 'Saint-Petersburg')"
   ]
  },
  {
   "cell_type": "markdown",
   "metadata": {
    "id": "7QXffbO-_Zcu"
   },
   "source": [
    "Создайте c помощью конструктора `pd.DataFrame` таблицу, где\n",
    "* названия колонок — `['city', 'monday', 'wednesday', 'friday']`;\n",
    "* данные — результаты, которые вы получили с помощью `number_tracks`."
   ]
  },
  {
   "cell_type": "code",
   "execution_count": 27,
   "metadata": {
    "id": "APAcLpOr_Zcu"
   },
   "outputs": [
    {
     "data": {
      "text/html": [
       "<div>\n",
       "<style scoped>\n",
       "    .dataframe tbody tr th:only-of-type {\n",
       "        vertical-align: middle;\n",
       "    }\n",
       "\n",
       "    .dataframe tbody tr th {\n",
       "        vertical-align: top;\n",
       "    }\n",
       "\n",
       "    .dataframe thead th {\n",
       "        text-align: right;\n",
       "    }\n",
       "</style>\n",
       "<table border=\"1\" class=\"dataframe\">\n",
       "  <thead>\n",
       "    <tr style=\"text-align: right;\">\n",
       "      <th></th>\n",
       "      <th>city</th>\n",
       "      <th>monday</th>\n",
       "      <th>wednesday</th>\n",
       "      <th>friday</th>\n",
       "    </tr>\n",
       "  </thead>\n",
       "  <tbody>\n",
       "    <tr>\n",
       "      <td>0</td>\n",
       "      <td>Moscow</td>\n",
       "      <td>15740</td>\n",
       "      <td>11056</td>\n",
       "      <td>15945</td>\n",
       "    </tr>\n",
       "    <tr>\n",
       "      <td>1</td>\n",
       "      <td>Saint-Petersburg</td>\n",
       "      <td>5614</td>\n",
       "      <td>7003</td>\n",
       "      <td>5895</td>\n",
       "    </tr>\n",
       "  </tbody>\n",
       "</table>\n",
       "</div>"
      ],
      "text/plain": [
       "               city  monday  wednesday  friday\n",
       "0            Moscow   15740      11056   15945\n",
       "1  Saint-Petersburg    5614       7003    5895"
      ]
     },
     "metadata": {},
     "output_type": "display_data"
    }
   ],
   "source": [
    "# Таблица с результатами\n",
    "names_of_columns = ['city', 'monday', 'wednesday', 'friday']\n",
    "music_score = [\n",
    "    ['Moscow', 15740, 11056, 15945],\n",
    "    ['Saint-Petersburg', 5614, 7003, 5895]\n",
    "]\n",
    "music_map = pd.DataFrame(data=music_score, columns=names_of_columns)\n",
    "display(music_map)"
   ]
  },
  {
   "cell_type": "markdown",
   "metadata": {
    "id": "-EgPIHYu_Zcu"
   },
   "source": [
    "**Выводы**\n",
    "\n",
    "Данные показывают разницу поведения пользователей:\n",
    "\n",
    "- В Москве пик прослушиваний приходится на понедельник и пятницу, а в среду заметен спад.\n",
    "- В Петербурге, наоборот, больше слушают музыку по средам. Активность в понедельник и пятницу здесь почти в равной мере уступает среде.\n",
    "\n",
    "Значит, данные говорят в пользу первой гипотезы."
   ]
  },
  {
   "cell_type": "markdown",
   "metadata": {
    "id": "atZAxtq4_Zcu"
   },
   "source": [
    "### Музыка в начале и в конце недели"
   ]
  },
  {
   "cell_type": "markdown",
   "metadata": {
    "id": "eXrQqXFH_Zcu"
   },
   "source": [
    "Согласно второй гипотезе, утром в понедельник в Москве преобладают одни жанры, а в Петербурге — другие. Так же и вечером пятницы преобладают разные жанры — в зависимости от города."
   ]
  },
  {
   "cell_type": "markdown",
   "metadata": {
    "id": "S8UcW6Hw_Zcu"
   },
   "source": [
    "Сохраните таблицы с данными в две переменные:\n",
    "* по Москве — в `moscow_general`;\n",
    "* по Санкт-Петербургу — в `spb_general`."
   ]
  },
  {
   "cell_type": "code",
   "execution_count": 28,
   "metadata": {
    "id": "qeaFfM_P_Zcu"
   },
   "outputs": [],
   "source": [
    "# получение таблицы moscow_general из тех строк таблицы df, \n",
    "# для которых значение в столбце 'city' равно 'Moscow'\n",
    "moscow_general = df[df['city'] == 'Moscow']"
   ]
  },
  {
   "cell_type": "code",
   "execution_count": 29,
   "metadata": {
    "id": "ORaVRKto_Zcu"
   },
   "outputs": [],
   "source": [
    "# получение таблицы spb_general из тех строк таблицы df,\n",
    "# для которых значение в столбце 'city' равно 'Saint-Petersburg'\n",
    "spb_general = df[df['city'] == 'Saint-Petersburg']"
   ]
  },
  {
   "cell_type": "markdown",
   "metadata": {
    "id": "MEJV-CX2_Zcu"
   },
   "source": [
    "Создайте функцию `genre_weekday()` с четырьмя параметрами:\n",
    "* таблица (датафрейм) с данными,\n",
    "* день недели,\n",
    "* начальная временная метка в формате 'hh:mm', \n",
    "* последняя временная метка в формате 'hh:mm'.\n",
    "\n",
    "Функция должна вернуть информацию о топ-10 жанров тех треков, которые прослушивали в указанный день, в промежутке между двумя отметками времени."
   ]
  },
  {
   "cell_type": "code",
   "execution_count": 30,
   "metadata": {
    "id": "laJT9BYl_Zcu"
   },
   "outputs": [],
   "source": [
    "# Объявление функции genre_weekday() с параметрами table, day, time1, time2,\n",
    "# которая возвращает информацию о самых популярных жанрах в указанный день в\n",
    "# заданное время:\n",
    "# 1) в переменную genre_df сохраняются те строки переданного датафрейма table, для\n",
    "#    которых одновременно:\n",
    "#    - значение в столбце day равно значению аргумента day\n",
    "#    - значение в столбце time больше значения аргумента time1\n",
    "#    - значение в столбце time меньше значения аргумента time2\n",
    "#    Используйте последовательную фильтрацию с помощью логической индексации.\n",
    "# 2) сгруппировать датафрейм genre_df по столбцу genre, взять один из его\n",
    "#    столбцов и посчитать методом count() количество записей для каждого из\n",
    "#    присутствующих жанров, получившийся Series записать в переменную\n",
    "#    genre_df_count\n",
    "# 3) отсортировать genre_df_count по убыванию встречаемости и сохранить\n",
    "#    в переменную genre_df_sorted\n",
    "# 4) вернуть Series из 10 первых значений genre_df_sorted, это будут топ-10\n",
    "#    популярных жанров (в указанный день, в заданное время)\n",
    "def genre_weekday(table, day, time1, time2):\n",
    "    genre_df = table[table['day'] == day]\n",
    "    genre_df = genre_df[genre_df['time'] > time1]\n",
    "    genre_df = genre_df[genre_df['time'] < time2] # отбор сортировкой в три этапа (по трем критериям) завершен\n",
    "    genre_df_count = genre_df.groupby('genre')['user_id'].count() # сделана группировка по жанрам (число прослушиваний по каждому жанру)\n",
    "    genre_df_sorted = genre_df_count.sort_values(ascending=False) # сортировка Series по убыванию значений в нём\n",
    "    return genre_df_sorted.head(10)\n",
    "# В коде добавлением указания на столбец 'user_id' (5-я строчка кода) датафрейм \"сужен\" до Series.\n",
    "# Последующие результаты (работа функции genre_weekday) пересчитаны."
   ]
  },
  {
   "cell_type": "markdown",
   "metadata": {
    "id": "la2s2_PF_Zcu"
   },
   "source": [
    "Cравните результаты функции `genre_weekday()` для Москвы и Санкт-Петербурга в понедельник утром (с 7:00 до 11:00) и в пятницу вечером (с 17:00 до 23:00):"
   ]
  },
  {
   "cell_type": "code",
   "execution_count": 31,
   "metadata": {
    "id": "yz7itPUQ_Zcu"
   },
   "outputs": [
    {
     "data": {
      "text/plain": [
       "genre\n",
       "pop            781\n",
       "dance          549\n",
       "electronic     480\n",
       "rock           474\n",
       "hiphop         286\n",
       "ruspop         186\n",
       "world          181\n",
       "rusrap         175\n",
       "alternative    164\n",
       "unknown        161\n",
       "Name: user_id, dtype: int64"
      ]
     },
     "execution_count": 31,
     "metadata": {},
     "output_type": "execute_result"
    }
   ],
   "source": [
    "# вызов функции для утра понедельника в Москве (вместо df — таблица moscow_general)\n",
    "# объекты, хранящие время, являются строками и сравниваются как строки\n",
    "# пример вызова: genre_weekday(moscow_general, 'Monday', '07:00', '11:00')\n",
    "genre_weekday(moscow_general, 'Monday', '07:00', '11:00')"
   ]
  },
  {
   "cell_type": "code",
   "execution_count": 32,
   "metadata": {
    "id": "kwUcHPdy_Zcu"
   },
   "outputs": [
    {
     "data": {
      "text/plain": [
       "genre\n",
       "pop            218\n",
       "dance          182\n",
       "rock           162\n",
       "electronic     147\n",
       "hiphop          80\n",
       "ruspop          64\n",
       "alternative     58\n",
       "rusrap          55\n",
       "jazz            44\n",
       "classical       40\n",
       "Name: user_id, dtype: int64"
      ]
     },
     "execution_count": 32,
     "metadata": {},
     "output_type": "execute_result"
    }
   ],
   "source": [
    "# вызов функции для утра понедельника в Петербурге (вместо df — таблица spb_general)\n",
    "genre_weekday(spb_general, 'Monday', '07:00', '11:00')"
   ]
  },
  {
   "cell_type": "code",
   "execution_count": 33,
   "metadata": {
    "id": "EzXVRE1o_Zcu"
   },
   "outputs": [
    {
     "data": {
      "text/plain": [
       "genre\n",
       "pop            713\n",
       "rock           517\n",
       "dance          495\n",
       "electronic     482\n",
       "hiphop         273\n",
       "world          208\n",
       "ruspop         170\n",
       "classical      163\n",
       "alternative    163\n",
       "rusrap         142\n",
       "Name: user_id, dtype: int64"
      ]
     },
     "execution_count": 33,
     "metadata": {},
     "output_type": "execute_result"
    }
   ],
   "source": [
    "# вызов функции для вечера пятницы в Москве\n",
    "genre_weekday(moscow_general, 'Friday', '17:00', '23:00')"
   ]
  },
  {
   "cell_type": "code",
   "execution_count": 34,
   "metadata": {
    "id": "JZaEKu5v_Zcu"
   },
   "outputs": [
    {
     "data": {
      "text/plain": [
       "genre\n",
       "pop            256\n",
       "rock           216\n",
       "electronic     216\n",
       "dance          210\n",
       "hiphop          97\n",
       "alternative     63\n",
       "jazz            61\n",
       "classical       60\n",
       "rusrap          59\n",
       "world           54\n",
       "Name: user_id, dtype: int64"
      ]
     },
     "execution_count": 34,
     "metadata": {},
     "output_type": "execute_result"
    }
   ],
   "source": [
    "# вызов функции для вечера пятницы в Петербурге\n",
    "genre_weekday(spb_general, 'Friday', '17:00', '23:00')"
   ]
  },
  {
   "cell_type": "markdown",
   "metadata": {
    "id": "wrCe4MNX_Zcu"
   },
   "source": [
    "**Выводы**\n",
    "\n",
    "Если сравнить топ-10 жанров в понедельник утром, можно сделать такие выводы:\n",
    "\n",
    "1. В Москве и Петербурге слушают похожую музыку. Единственное отличие — в московский рейтинг вошёл жанр “world”, а в петербургский — джаз и классика.\n",
    "\n",
    "2. В Москве пропущенных значений оказалось так много, что значение `'unknown'` заняло десятое место среди самых популярных жанров. Значит, пропущенные значения занимают существенную долю в данных и угрожают достоверности исследования.\n",
    "\n",
    "Вечер пятницы не меняет эту картину. Некоторые жанры поднимаются немного выше, другие спускаются, но в целом топ-10 остаётся тем же самым.\n",
    "\n",
    "Таким образом, вторая гипотеза подтвердилась лишь частично:\n",
    "* Пользователи слушают похожую музыку в начале недели и в конце.\n",
    "* Разница между Москвой и Петербургом не слишком выражена. В Москве чаще слушают русскую популярную музыку, в Петербурге — джаз.\n",
    "\n",
    "Однако пропуски в данных ставят под сомнение этот результат. В Москве их так много, что рейтинг топ-10 мог бы выглядеть иначе, если бы не утерянные  данные о жанрах."
   ]
  },
  {
   "cell_type": "markdown",
   "metadata": {
    "id": "JolODAqr_Zcu"
   },
   "source": [
    "### Жанровые предпочтения в Москве и Петербурге\n",
    "\n",
    "Гипотеза: Петербург — столица рэпа, музыку этого жанра там слушают чаще, чем в Москве.  А Москва — город контрастов, в котором, тем не менее, преобладает поп-музыка."
   ]
  },
  {
   "cell_type": "markdown",
   "metadata": {
    "id": "DlegSvaT_Zcu"
   },
   "source": [
    "Сгруппируйте таблицу `moscow_general` по жанру и посчитайте прослушивания треков каждого жанра методом `count()`. Затем отсортируйте результат в порядке убывания и сохраните его в таблице `moscow_genres`."
   ]
  },
  {
   "cell_type": "code",
   "execution_count": 35,
   "metadata": {
    "id": "r19lIPke_Zcu"
   },
   "outputs": [],
   "source": [
    "# одной строкой: группировка таблицы moscow_general по столбцу 'genre', \n",
    "# подсчёт числа значений 'genre' в этой группировке методом count(), \n",
    "# сортировка получившегося Series в порядке убывания и сохранение в moscow_genres\n",
    "moscow_genres = moscow_general.groupby('genre')['user_id'].count().sort_values(ascending=False)"
   ]
  },
  {
   "cell_type": "markdown",
   "metadata": {
    "id": "6kMuomxTiIr8"
   },
   "source": [
    "Выведите на экран первые десять строк `moscow_genres`:"
   ]
  },
  {
   "cell_type": "code",
   "execution_count": 36,
   "metadata": {
    "id": "WhCSooF8_Zcv"
   },
   "outputs": [
    {
     "data": {
      "text/plain": [
       "genre\n",
       "pop            5892\n",
       "dance          4435\n",
       "rock           3965\n",
       "electronic     3786\n",
       "hiphop         2096\n",
       "classical      1616\n",
       "world          1432\n",
       "alternative    1379\n",
       "ruspop         1372\n",
       "rusrap         1161\n",
       "Name: user_id, dtype: int64"
      ]
     },
     "metadata": {},
     "output_type": "display_data"
    }
   ],
   "source": [
    "display(moscow_genres.head(10)) # просмотр первых 10 строк moscow_genres"
   ]
  },
  {
   "cell_type": "markdown",
   "metadata": {
    "id": "cnPG2vnN_Zcv"
   },
   "source": [
    "Теперь повторите то же и для Петербурга.\n",
    "\n",
    "Сгруппируйте таблицу `spb_general` по жанру. Посчитайте прослушивания треков каждого жанра. Результат отсортируйте в порядке убывания и сохраните в таблице `spb_genres`:\n"
   ]
  },
  {
   "cell_type": "code",
   "execution_count": 37,
   "metadata": {
    "id": "gluLIpE7_Zcv"
   },
   "outputs": [],
   "source": [
    "# одной строкой: группировка таблицы spb_general по столбцу 'genre', \n",
    "# подсчёт числа значений 'genre' в этой группировке методом count(), \n",
    "# сортировка получившегося Series в порядке убывания и сохранение в spb_genres\n",
    "spb_genres = spb_general.groupby('genre')['user_id'].count().sort_values(ascending=False)"
   ]
  },
  {
   "cell_type": "markdown",
   "metadata": {
    "id": "5Doha_ODgyQ8"
   },
   "source": [
    "Выведите на экран первые десять строк `spb_genres`:"
   ]
  },
  {
   "cell_type": "code",
   "execution_count": 38,
   "metadata": {
    "id": "uaGJHjVU_Zcv"
   },
   "outputs": [
    {
     "data": {
      "text/plain": [
       "genre\n",
       "pop            2431\n",
       "dance          1932\n",
       "rock           1879\n",
       "electronic     1737\n",
       "hiphop          960\n",
       "alternative     649\n",
       "classical       646\n",
       "rusrap          564\n",
       "ruspop          538\n",
       "world           515\n",
       "Name: user_id, dtype: int64"
      ]
     },
     "metadata": {},
     "output_type": "display_data"
    }
   ],
   "source": [
    "display(spb_genres.head(10)) # просмотр первых 10 строк spb_genres"
   ]
  },
  {
   "cell_type": "markdown",
   "metadata": {
    "id": "RY51YJYu_Zcv"
   },
   "source": [
    "**Выводы**"
   ]
  },
  {
   "cell_type": "markdown",
   "metadata": {
    "id": "nVhnJEm__Zcv"
   },
   "source": [
    "Гипотеза частично подтвердилась:\n",
    "* Поп-музыка — самый популярный жанр в Москве, как и предполагала гипотеза. Более того, в топ-10 жанров встречается близкий жанр — русская популярная музыка.\n",
    "* Вопреки ожиданиям, рэп одинаково популярен в Москве и Петербурге. \n"
   ]
  },
  {
   "cell_type": "markdown",
   "metadata": {
    "id": "ykKQ0N65_Zcv"
   },
   "source": [
    "## Итоги исследования"
   ]
  },
  {
   "cell_type": "markdown",
   "metadata": {
    "id": "tjUwbHb3_Zcv"
   },
   "source": [
    "Вы проверили три гипотезы и установили:\n",
    "\n",
    "1. День недели по-разному влияет на активность пользователей в Москве и Петербурге. \n",
    "\n",
    "Первая гипотеза полностью подтвердилась.\n",
    "\n",
    "2. Музыкальные предпочтения не сильно меняются в течение недели — будь то Москва или Петербург. Небольшие различия заметны в начале недели, по понедельникам:\n",
    "* в Москве слушают музыку жанра “world”,\n",
    "* в Петербурге — джаз и классику.\n",
    "\n",
    "Таким образом, вторая гипотеза подтвердилась лишь отчасти. Этот результат мог оказаться иным, если бы не пропуски в данных.\n",
    "\n",
    "3. Во вкусах пользователей Москвы и Петербурга больше общего чем различий. Вопреки ожиданиям, предпочтения жанров в Петербурге напоминают московские.\n",
    "\n",
    "Третья гипотеза не подтвердилась. Если различия в предпочтениях и существуют, на основной массе пользователей они незаметны.\n",
    "\n",
    "**На практике исследования содержат проверки статистических гипотез.**\n",
    "Из данных одного сервиса не всегда можно сделать вывод о всех жителях города.\n",
    "Проверки статистических гипотез покажут, насколько они достоверны, исходя из имеющихся данных. \n",
    "С методами проверок гипотез вы ещё познакомитесь в следующих темах."
   ]
  }
 ],
 "metadata": {
  "ExecuteTimeLog": [
   {
    "duration": 326,
    "start_time": "2021-12-17T07:59:09.533Z"
   },
   {
    "duration": 628,
    "start_time": "2021-12-17T08:01:12.283Z"
   },
   {
    "duration": 334,
    "start_time": "2021-12-17T08:01:13.915Z"
   },
   {
    "duration": 342,
    "start_time": "2021-12-17T08:01:22.060Z"
   },
   {
    "duration": 153,
    "start_time": "2021-12-17T08:01:43.931Z"
   },
   {
    "duration": 4,
    "start_time": "2021-12-17T08:01:49.323Z"
   },
   {
    "duration": 105,
    "start_time": "2021-12-17T08:01:52.251Z"
   },
   {
    "duration": 113,
    "start_time": "2021-12-17T08:02:10.620Z"
   },
   {
    "duration": 99,
    "start_time": "2021-12-17T08:06:12.078Z"
   },
   {
    "duration": 299,
    "start_time": "2021-12-17T08:16:37.844Z"
   },
   {
    "duration": 102,
    "start_time": "2021-12-17T08:17:00.188Z"
   },
   {
    "duration": 3,
    "start_time": "2021-12-17T08:17:15.019Z"
   },
   {
    "duration": 109,
    "start_time": "2021-12-17T08:17:15.024Z"
   },
   {
    "duration": -542,
    "start_time": "2021-12-17T08:17:15.679Z"
   },
   {
    "duration": -546,
    "start_time": "2021-12-17T08:17:15.684Z"
   },
   {
    "duration": -548,
    "start_time": "2021-12-17T08:17:15.688Z"
   },
   {
    "duration": -551,
    "start_time": "2021-12-17T08:17:15.692Z"
   },
   {
    "duration": -552,
    "start_time": "2021-12-17T08:17:15.695Z"
   },
   {
    "duration": -555,
    "start_time": "2021-12-17T08:17:15.699Z"
   },
   {
    "duration": -561,
    "start_time": "2021-12-17T08:17:15.707Z"
   },
   {
    "duration": -563,
    "start_time": "2021-12-17T08:17:15.710Z"
   },
   {
    "duration": -564,
    "start_time": "2021-12-17T08:17:15.713Z"
   },
   {
    "duration": -567,
    "start_time": "2021-12-17T08:17:15.717Z"
   },
   {
    "duration": -568,
    "start_time": "2021-12-17T08:17:15.719Z"
   },
   {
    "duration": -571,
    "start_time": "2021-12-17T08:17:15.723Z"
   },
   {
    "duration": -572,
    "start_time": "2021-12-17T08:17:15.725Z"
   },
   {
    "duration": -579,
    "start_time": "2021-12-17T08:17:15.733Z"
   },
   {
    "duration": -581,
    "start_time": "2021-12-17T08:17:15.736Z"
   },
   {
    "duration": -583,
    "start_time": "2021-12-17T08:17:15.739Z"
   },
   {
    "duration": -586,
    "start_time": "2021-12-17T08:17:15.743Z"
   },
   {
    "duration": -588,
    "start_time": "2021-12-17T08:17:15.746Z"
   },
   {
    "duration": -592,
    "start_time": "2021-12-17T08:17:15.751Z"
   },
   {
    "duration": -595,
    "start_time": "2021-12-17T08:17:15.755Z"
   },
   {
    "duration": -600,
    "start_time": "2021-12-17T08:17:15.761Z"
   },
   {
    "duration": -604,
    "start_time": "2021-12-17T08:17:15.765Z"
   },
   {
    "duration": -606,
    "start_time": "2021-12-17T08:17:15.768Z"
   },
   {
    "duration": -609,
    "start_time": "2021-12-17T08:17:15.772Z"
   },
   {
    "duration": -611,
    "start_time": "2021-12-17T08:17:15.775Z"
   },
   {
    "duration": -613,
    "start_time": "2021-12-17T08:17:15.778Z"
   },
   {
    "duration": -615,
    "start_time": "2021-12-17T08:17:15.781Z"
   },
   {
    "duration": -618,
    "start_time": "2021-12-17T08:17:15.784Z"
   },
   {
    "duration": -620,
    "start_time": "2021-12-17T08:17:15.787Z"
   },
   {
    "duration": -622,
    "start_time": "2021-12-17T08:17:15.790Z"
   },
   {
    "duration": -624,
    "start_time": "2021-12-17T08:17:15.793Z"
   },
   {
    "duration": -626,
    "start_time": "2021-12-17T08:17:15.796Z"
   },
   {
    "duration": -627,
    "start_time": "2021-12-17T08:17:15.798Z"
   },
   {
    "duration": -629,
    "start_time": "2021-12-17T08:17:15.801Z"
   },
   {
    "duration": -637,
    "start_time": "2021-12-17T08:17:15.810Z"
   },
   {
    "duration": -638,
    "start_time": "2021-12-17T08:17:15.812Z"
   },
   {
    "duration": 335,
    "start_time": "2021-12-17T08:18:59.893Z"
   },
   {
    "duration": 473,
    "start_time": "2021-12-17T08:19:20.156Z"
   },
   {
    "duration": 115,
    "start_time": "2021-12-17T08:19:30.813Z"
   },
   {
    "duration": 107,
    "start_time": "2021-12-17T08:27:05.883Z"
   },
   {
    "duration": 304,
    "start_time": "2021-12-17T08:27:14.033Z"
   },
   {
    "duration": 327,
    "start_time": "2021-12-17T08:27:17.256Z"
   },
   {
    "duration": 383,
    "start_time": "2021-12-17T08:30:15.091Z"
   },
   {
    "duration": 174,
    "start_time": "2021-12-17T08:30:22.324Z"
   },
   {
    "duration": 124,
    "start_time": "2021-12-17T08:33:28.549Z"
   },
   {
    "duration": 430,
    "start_time": "2021-12-17T08:34:06.789Z"
   },
   {
    "duration": 2894,
    "start_time": "2021-12-17T08:37:39.055Z"
   },
   {
    "duration": 27347,
    "start_time": "2021-12-17T08:41:17.577Z"
   },
   {
    "duration": 639,
    "start_time": "2021-12-17T08:46:23.350Z"
   },
   {
    "duration": 804,
    "start_time": "2021-12-17T08:46:30.592Z"
   },
   {
    "duration": 629,
    "start_time": "2021-12-17T08:46:56.884Z"
   },
   {
    "duration": 147,
    "start_time": "2021-12-17T08:47:08.786Z"
   },
   {
    "duration": 18,
    "start_time": "2021-12-17T08:47:13.124Z"
   },
   {
    "duration": 721,
    "start_time": "2021-12-17T08:48:33.709Z"
   },
   {
    "duration": 9,
    "start_time": "2021-12-17T08:51:41.470Z"
   },
   {
    "duration": 11,
    "start_time": "2021-12-17T08:51:51.804Z"
   },
   {
    "duration": 27,
    "start_time": "2021-12-17T08:53:38.902Z"
   },
   {
    "duration": 3,
    "start_time": "2021-12-17T09:03:29.979Z"
   },
   {
    "duration": 2962,
    "start_time": "2021-12-17T09:10:08.879Z"
   },
   {
    "duration": 19,
    "start_time": "2021-12-17T09:10:39.319Z"
   },
   {
    "duration": 4,
    "start_time": "2021-12-17T09:10:56.871Z"
   },
   {
    "duration": 23,
    "start_time": "2021-12-17T09:14:01.728Z"
   },
   {
    "duration": 338,
    "start_time": "2021-12-17T09:21:48.525Z"
   },
   {
    "duration": 19,
    "start_time": "2021-12-17T09:24:19.799Z"
   },
   {
    "duration": 24,
    "start_time": "2021-12-17T09:24:39.253Z"
   },
   {
    "duration": 57,
    "start_time": "2021-12-17T09:28:58.840Z"
   },
   {
    "duration": 61,
    "start_time": "2021-12-17T09:31:30.689Z"
   },
   {
    "duration": 49,
    "start_time": "2021-12-17T09:31:44.826Z"
   },
   {
    "duration": 6,
    "start_time": "2021-12-17T09:33:32.770Z"
   },
   {
    "duration": 7,
    "start_time": "2021-12-17T09:34:00.468Z"
   },
   {
    "duration": 370,
    "start_time": "2021-12-17T09:41:32.903Z"
   },
   {
    "duration": 3,
    "start_time": "2021-12-17T09:42:17.879Z"
   },
   {
    "duration": 15,
    "start_time": "2021-12-17T09:42:20.103Z"
   },
   {
    "duration": 354,
    "start_time": "2021-12-17T09:45:21.721Z"
   },
   {
    "duration": 7,
    "start_time": "2021-12-17T09:47:31.538Z"
   },
   {
    "duration": 5,
    "start_time": "2021-12-17T09:48:32.755Z"
   },
   {
    "duration": 6,
    "start_time": "2021-12-17T09:49:04.567Z"
   },
   {
    "duration": 376,
    "start_time": "2021-12-17T09:51:28.500Z"
   },
   {
    "duration": 345,
    "start_time": "2021-12-17T09:52:29.254Z"
   },
   {
    "duration": 358,
    "start_time": "2021-12-17T09:53:20.821Z"
   },
   {
    "duration": 335,
    "start_time": "2021-12-17T09:53:42.992Z"
   },
   {
    "duration": 7,
    "start_time": "2021-12-17T09:57:39.776Z"
   },
   {
    "duration": 7,
    "start_time": "2021-12-17T10:04:34.484Z"
   },
   {
    "duration": 7,
    "start_time": "2021-12-17T10:05:03.844Z"
   },
   {
    "duration": 6,
    "start_time": "2021-12-17T10:08:54.132Z"
   },
   {
    "duration": 10,
    "start_time": "2021-12-17T10:09:50.096Z"
   },
   {
    "duration": 9,
    "start_time": "2021-12-17T10:13:44.304Z"
   },
   {
    "duration": 674,
    "start_time": "2021-12-17T10:21:33.998Z"
   },
   {
    "duration": 16,
    "start_time": "2021-12-17T10:22:43.780Z"
   },
   {
    "duration": 339,
    "start_time": "2021-12-17T10:29:30.082Z"
   },
   {
    "duration": 5,
    "start_time": "2021-12-17T10:30:36.105Z"
   },
   {
    "duration": 4,
    "start_time": "2021-12-17T10:31:03.515Z"
   },
   {
    "duration": 361,
    "start_time": "2021-12-17T10:31:22.834Z"
   },
   {
    "duration": 945,
    "start_time": "2021-12-17T10:31:47.634Z"
   },
   {
    "duration": 5,
    "start_time": "2021-12-17T10:31:57.586Z"
   },
   {
    "duration": 6,
    "start_time": "2021-12-17T10:32:16.906Z"
   },
   {
    "duration": 397,
    "start_time": "2021-12-17T10:32:54.531Z"
   },
   {
    "duration": 394,
    "start_time": "2021-12-17T10:34:04.796Z"
   },
   {
    "duration": 436,
    "start_time": "2021-12-17T10:39:15.831Z"
   },
   {
    "duration": 604,
    "start_time": "2021-12-17T10:41:41.664Z"
   },
   {
    "duration": 366,
    "start_time": "2021-12-17T10:42:16.361Z"
   },
   {
    "duration": 50,
    "start_time": "2021-12-17T10:42:35.896Z"
   },
   {
    "duration": 36,
    "start_time": "2021-12-17T10:42:51.129Z"
   },
   {
    "duration": 13,
    "start_time": "2021-12-17T10:42:56.216Z"
   },
   {
    "duration": 42,
    "start_time": "2021-12-17T10:55:20.455Z"
   },
   {
    "duration": 9,
    "start_time": "2021-12-17T10:55:59.472Z"
   },
   {
    "duration": 45,
    "start_time": "2021-12-17T10:57:40.633Z"
   },
   {
    "duration": 11,
    "start_time": "2021-12-17T10:57:43.840Z"
   },
   {
    "duration": 28,
    "start_time": "2021-12-17T11:54:22.776Z"
   },
   {
    "duration": 35,
    "start_time": "2021-12-17T11:55:01.375Z"
   },
   {
    "duration": 55,
    "start_time": "2021-12-17T11:56:30.105Z"
   },
   {
    "duration": 46,
    "start_time": "2021-12-17T11:56:50.883Z"
   },
   {
    "duration": 31,
    "start_time": "2021-12-17T11:57:00.666Z"
   },
   {
    "duration": 32,
    "start_time": "2021-12-17T11:57:11.609Z"
   },
   {
    "duration": 4,
    "start_time": "2021-12-17T12:14:41.780Z"
   },
   {
    "duration": 3,
    "start_time": "2021-12-17T12:14:46.043Z"
   },
   {
    "duration": 18,
    "start_time": "2021-12-17T12:17:00.124Z"
   },
   {
    "duration": 17,
    "start_time": "2021-12-17T12:18:06.732Z"
   },
   {
    "duration": 17,
    "start_time": "2021-12-17T12:19:02.925Z"
   },
   {
    "duration": 14,
    "start_time": "2021-12-17T12:19:27.534Z"
   },
   {
    "duration": 17,
    "start_time": "2021-12-17T12:19:57.480Z"
   },
   {
    "duration": 15,
    "start_time": "2021-12-17T12:20:30.037Z"
   },
   {
    "duration": 11,
    "start_time": "2021-12-17T12:30:16.531Z"
   },
   {
    "duration": 47,
    "start_time": "2021-12-17T12:30:22.067Z"
   },
   {
    "duration": 10,
    "start_time": "2021-12-17T12:30:24.986Z"
   },
   {
    "duration": 16,
    "start_time": "2021-12-17T12:31:39.268Z"
   },
   {
    "duration": 4,
    "start_time": "2021-12-17T12:32:30.964Z"
   },
   {
    "duration": 15,
    "start_time": "2021-12-17T12:32:34.884Z"
   },
   {
    "duration": 4,
    "start_time": "2021-12-17T12:33:54.276Z"
   },
   {
    "duration": 17,
    "start_time": "2021-12-17T12:33:57.772Z"
   },
   {
    "duration": 417,
    "start_time": "2021-12-17T12:52:12.758Z"
   },
   {
    "duration": 353,
    "start_time": "2021-12-17T12:52:49.061Z"
   },
   {
    "duration": 9,
    "start_time": "2021-12-17T12:53:05.253Z"
   },
   {
    "duration": 379,
    "start_time": "2021-12-17T13:50:25.934Z"
   },
   {
    "duration": 13,
    "start_time": "2021-12-17T13:51:01.588Z"
   },
   {
    "duration": 9,
    "start_time": "2021-12-17T13:51:11.269Z"
   },
   {
    "duration": 10,
    "start_time": "2021-12-17T13:54:25.142Z"
   },
   {
    "duration": 9,
    "start_time": "2021-12-17T13:54:27.174Z"
   },
   {
    "duration": 4,
    "start_time": "2021-12-17T14:01:46.732Z"
   },
   {
    "duration": 3,
    "start_time": "2021-12-17T14:18:41.918Z"
   },
   {
    "duration": 124,
    "start_time": "2021-12-17T14:18:46.005Z"
   },
   {
    "duration": 29,
    "start_time": "2021-12-17T14:18:58.860Z"
   },
   {
    "duration": 27,
    "start_time": "2021-12-17T14:22:12.143Z"
   },
   {
    "duration": 26,
    "start_time": "2021-12-17T14:23:13.119Z"
   },
   {
    "duration": 4,
    "start_time": "2021-12-17T14:23:33.455Z"
   },
   {
    "duration": 32,
    "start_time": "2021-12-17T14:23:35.551Z"
   },
   {
    "duration": 4,
    "start_time": "2021-12-17T14:24:01.176Z"
   },
   {
    "duration": 26,
    "start_time": "2021-12-17T14:24:08.544Z"
   },
   {
    "duration": 23,
    "start_time": "2021-12-17T14:25:28.152Z"
   },
   {
    "duration": 17,
    "start_time": "2021-12-17T14:29:20.763Z"
   },
   {
    "duration": 22,
    "start_time": "2021-12-17T14:29:36.956Z"
   },
   {
    "duration": 17,
    "start_time": "2021-12-17T14:29:44.161Z"
   },
   {
    "duration": 23,
    "start_time": "2021-12-17T14:40:32.360Z"
   },
   {
    "duration": 30,
    "start_time": "2021-12-17T14:40:54.247Z"
   },
   {
    "duration": 974,
    "start_time": "2021-12-17T14:41:50.001Z"
   },
   {
    "duration": 30,
    "start_time": "2021-12-17T14:42:33.145Z"
   },
   {
    "duration": 9,
    "start_time": "2021-12-17T14:43:33.441Z"
   },
   {
    "duration": 25,
    "start_time": "2021-12-17T14:43:36.816Z"
   },
   {
    "duration": 15,
    "start_time": "2021-12-17T14:44:22.425Z"
   },
   {
    "duration": 2,
    "start_time": "2021-12-17T14:44:24.673Z"
   },
   {
    "duration": 9,
    "start_time": "2021-12-17T14:45:01.578Z"
   },
   {
    "duration": 983,
    "start_time": "2021-12-18T10:20:22.828Z"
   },
   {
    "duration": 186,
    "start_time": "2021-12-18T10:20:23.814Z"
   },
   {
    "duration": 24,
    "start_time": "2021-12-18T10:20:24.003Z"
   },
   {
    "duration": 46,
    "start_time": "2021-12-18T10:20:24.030Z"
   },
   {
    "duration": 6,
    "start_time": "2021-12-18T10:20:24.078Z"
   },
   {
    "duration": 26,
    "start_time": "2021-12-18T10:20:24.086Z"
   },
   {
    "duration": 4,
    "start_time": "2021-12-18T10:20:24.115Z"
   },
   {
    "duration": 58,
    "start_time": "2021-12-18T10:20:24.122Z"
   },
   {
    "duration": 23,
    "start_time": "2021-12-18T10:20:24.184Z"
   },
   {
    "duration": 49,
    "start_time": "2021-12-18T10:20:24.210Z"
   },
   {
    "duration": 98,
    "start_time": "2021-12-18T10:20:24.262Z"
   },
   {
    "duration": 129,
    "start_time": "2021-12-18T10:20:24.363Z"
   },
   {
    "duration": 99,
    "start_time": "2021-12-18T10:20:24.495Z"
   },
   {
    "duration": 10,
    "start_time": "2021-12-18T10:20:24.597Z"
   },
   {
    "duration": 4,
    "start_time": "2021-12-18T10:20:24.609Z"
   },
   {
    "duration": 99,
    "start_time": "2021-12-18T10:20:24.615Z"
   },
   {
    "duration": 14,
    "start_time": "2021-12-18T10:20:24.717Z"
   },
   {
    "duration": 60,
    "start_time": "2021-12-18T10:20:24.734Z"
   },
   {
    "duration": 43,
    "start_time": "2021-12-18T10:20:24.797Z"
   },
   {
    "duration": 5,
    "start_time": "2021-12-18T10:20:24.859Z"
   },
   {
    "duration": 25,
    "start_time": "2021-12-18T10:20:24.867Z"
   },
   {
    "duration": 18,
    "start_time": "2021-12-18T10:20:24.895Z"
   },
   {
    "duration": 54,
    "start_time": "2021-12-18T10:20:24.916Z"
   },
   {
    "duration": 18,
    "start_time": "2021-12-18T10:20:24.973Z"
   },
   {
    "duration": 20,
    "start_time": "2021-12-18T10:20:24.993Z"
   },
   {
    "duration": 49,
    "start_time": "2021-12-18T10:20:25.016Z"
   },
   {
    "duration": 12,
    "start_time": "2021-12-18T10:20:25.069Z"
   },
   {
    "duration": 15,
    "start_time": "2021-12-18T10:20:25.084Z"
   },
   {
    "duration": 12,
    "start_time": "2021-12-18T10:20:25.101Z"
   },
   {
    "duration": 49,
    "start_time": "2021-12-18T10:20:25.115Z"
   },
   {
    "duration": 39,
    "start_time": "2021-12-18T10:20:25.167Z"
   },
   {
    "duration": 52,
    "start_time": "2021-12-18T10:20:25.209Z"
   },
   {
    "duration": 32,
    "start_time": "2021-12-18T10:20:25.263Z"
   },
   {
    "duration": 22,
    "start_time": "2021-12-18T10:20:25.297Z"
   },
   {
    "duration": 54,
    "start_time": "2021-12-18T10:20:25.322Z"
   },
   {
    "duration": 12,
    "start_time": "2021-12-18T10:20:25.379Z"
   },
   {
    "duration": 20,
    "start_time": "2021-12-18T10:20:25.394Z"
   },
   {
    "duration": 45,
    "start_time": "2021-12-18T10:20:25.416Z"
   },
   {
    "duration": 393,
    "start_time": "2021-12-18T14:43:25.086Z"
   },
   {
    "duration": 349,
    "start_time": "2021-12-18T14:43:34.363Z"
   },
   {
    "duration": 704,
    "start_time": "2021-12-18T14:44:08.476Z"
   },
   {
    "duration": 157,
    "start_time": "2021-12-18T14:44:13.027Z"
   },
   {
    "duration": 17,
    "start_time": "2021-12-18T14:44:19.149Z"
   },
   {
    "duration": 37,
    "start_time": "2021-12-18T14:44:27.316Z"
   },
   {
    "duration": 4,
    "start_time": "2021-12-18T14:44:33.243Z"
   },
   {
    "duration": 22,
    "start_time": "2021-12-18T14:45:45.276Z"
   },
   {
    "duration": 3,
    "start_time": "2021-12-18T14:45:53.469Z"
   },
   {
    "duration": 4,
    "start_time": "2021-12-18T14:46:07.749Z"
   },
   {
    "duration": 23,
    "start_time": "2021-12-18T14:46:14.605Z"
   },
   {
    "duration": 17,
    "start_time": "2021-12-18T14:46:20.229Z"
   },
   {
    "duration": 22,
    "start_time": "2021-12-18T14:46:23.197Z"
   },
   {
    "duration": 60,
    "start_time": "2021-12-18T14:46:26.581Z"
   },
   {
    "duration": 67,
    "start_time": "2021-12-18T14:46:29.973Z"
   },
   {
    "duration": 50,
    "start_time": "2021-12-18T14:46:32.005Z"
   },
   {
    "duration": 117,
    "start_time": "2021-12-18T14:47:21.622Z"
   },
   {
    "duration": 58,
    "start_time": "2021-12-18T14:47:31.093Z"
   },
   {
    "duration": 3,
    "start_time": "2021-12-18T14:48:00.574Z"
   },
   {
    "duration": 49,
    "start_time": "2021-12-18T14:48:04.981Z"
   },
   {
    "duration": 45,
    "start_time": "2021-12-18T14:48:48.007Z"
   },
   {
    "duration": 40,
    "start_time": "2021-12-18T14:50:08.975Z"
   },
   {
    "duration": 33,
    "start_time": "2021-12-18T14:50:15.608Z"
   },
   {
    "duration": 11,
    "start_time": "2021-12-18T15:00:04.180Z"
   },
   {
    "duration": 34,
    "start_time": "2021-12-18T15:00:37.925Z"
   },
   {
    "duration": 12,
    "start_time": "2021-12-18T15:00:48.389Z"
   },
   {
    "duration": 12,
    "start_time": "2021-12-18T15:01:52.101Z"
   },
   {
    "duration": 12,
    "start_time": "2021-12-18T15:02:03.661Z"
   },
   {
    "duration": 11,
    "start_time": "2021-12-18T15:02:09.725Z"
   },
   {
    "duration": 5,
    "start_time": "2021-12-18T15:30:52.486Z"
   },
   {
    "duration": 4,
    "start_time": "2021-12-18T15:30:55.613Z"
   },
   {
    "duration": 370,
    "start_time": "2021-12-18T15:30:58.285Z"
   },
   {
    "duration": 11,
    "start_time": "2021-12-18T15:31:42.613Z"
   },
   {
    "duration": 10,
    "start_time": "2021-12-18T15:31:44.469Z"
   },
   {
    "duration": 5,
    "start_time": "2021-12-18T15:31:47.445Z"
   },
   {
    "duration": 737,
    "start_time": "2021-12-18T15:31:50.132Z"
   },
   {
    "duration": 4,
    "start_time": "2021-12-18T15:32:31.782Z"
   },
   {
    "duration": 20,
    "start_time": "2021-12-18T15:32:34.229Z"
   },
   {
    "duration": 3,
    "start_time": "2021-12-18T15:34:26.424Z"
   },
   {
    "duration": 23,
    "start_time": "2021-12-18T15:34:29.574Z"
   },
   {
    "duration": 5,
    "start_time": "2021-12-18T15:34:42.031Z"
   },
   {
    "duration": 20,
    "start_time": "2021-12-18T15:34:44.151Z"
   },
   {
    "duration": 5,
    "start_time": "2021-12-18T15:35:06.072Z"
   },
   {
    "duration": 23,
    "start_time": "2021-12-18T15:35:08.607Z"
   },
   {
    "duration": 16,
    "start_time": "2021-12-18T15:38:47.186Z"
   },
   {
    "duration": 17,
    "start_time": "2021-12-18T15:38:51.153Z"
   },
   {
    "duration": 14,
    "start_time": "2021-12-18T15:38:53.985Z"
   },
   {
    "duration": 10,
    "start_time": "2021-12-18T15:39:58.385Z"
   },
   {
    "duration": 5,
    "start_time": "2021-12-18T15:40:01.977Z"
   },
   {
    "duration": 186,
    "start_time": "2021-12-18T15:40:29.425Z"
   },
   {
    "duration": 8,
    "start_time": "2021-12-18T15:40:35.193Z"
   },
   {
    "duration": 5,
    "start_time": "2021-12-18T15:40:38.010Z"
   },
   {
    "duration": 369,
    "start_time": "2021-12-18T15:40:56.986Z"
   },
   {
    "duration": 23,
    "start_time": "2021-12-18T15:41:04.370Z"
   },
   {
    "duration": 13,
    "start_time": "2021-12-18T15:41:08.490Z"
   },
   {
    "duration": 9,
    "start_time": "2021-12-18T15:41:34.340Z"
   },
   {
    "duration": 7,
    "start_time": "2021-12-18T15:41:36.714Z"
   },
   {
    "duration": 1156,
    "start_time": "2021-12-20T13:34:54.760Z"
   },
   {
    "duration": 1302,
    "start_time": "2021-12-20T13:35:26.782Z"
   },
   {
    "duration": 800,
    "start_time": "2021-12-20T13:36:18.606Z"
   },
   {
    "duration": 2275,
    "start_time": "2021-12-20T13:36:22.934Z"
   },
   {
    "duration": 4,
    "start_time": "2021-12-20T13:36:39.774Z"
   },
   {
    "duration": 965,
    "start_time": "2021-12-20T13:36:42.294Z"
   },
   {
    "duration": 1298,
    "start_time": "2021-12-20T13:41:06.480Z"
   },
   {
    "duration": 1373,
    "start_time": "2021-12-20T13:42:16.681Z"
   },
   {
    "duration": 1135,
    "start_time": "2021-12-20T13:54:44.665Z"
   },
   {
    "duration": 359,
    "start_time": "2021-12-26T07:37:35.351Z"
   },
   {
    "duration": 315,
    "start_time": "2021-12-26T07:37:43.435Z"
   },
   {
    "duration": 767,
    "start_time": "2021-12-26T07:38:10.402Z"
   },
   {
    "duration": 133,
    "start_time": "2021-12-26T07:38:11.171Z"
   },
   {
    "duration": 22,
    "start_time": "2021-12-26T07:38:11.306Z"
   },
   {
    "duration": 26,
    "start_time": "2021-12-26T07:38:11.329Z"
   },
   {
    "duration": 23,
    "start_time": "2021-12-26T07:38:11.357Z"
   },
   {
    "duration": 33,
    "start_time": "2021-12-26T07:38:11.382Z"
   },
   {
    "duration": 14,
    "start_time": "2021-12-26T07:38:11.417Z"
   },
   {
    "duration": 138,
    "start_time": "2021-12-26T07:38:11.434Z"
   },
   {
    "duration": -657,
    "start_time": "2021-12-26T07:38:12.233Z"
   },
   {
    "duration": -661,
    "start_time": "2021-12-26T07:38:12.238Z"
   },
   {
    "duration": -663,
    "start_time": "2021-12-26T07:38:12.241Z"
   },
   {
    "duration": -666,
    "start_time": "2021-12-26T07:38:12.245Z"
   },
   {
    "duration": -669,
    "start_time": "2021-12-26T07:38:12.249Z"
   },
   {
    "duration": -672,
    "start_time": "2021-12-26T07:38:12.253Z"
   },
   {
    "duration": -674,
    "start_time": "2021-12-26T07:38:12.256Z"
   },
   {
    "duration": -677,
    "start_time": "2021-12-26T07:38:12.260Z"
   },
   {
    "duration": -680,
    "start_time": "2021-12-26T07:38:12.264Z"
   },
   {
    "duration": -683,
    "start_time": "2021-12-26T07:38:12.268Z"
   },
   {
    "duration": -685,
    "start_time": "2021-12-26T07:38:12.271Z"
   },
   {
    "duration": -689,
    "start_time": "2021-12-26T07:38:12.275Z"
   },
   {
    "duration": -691,
    "start_time": "2021-12-26T07:38:12.278Z"
   },
   {
    "duration": -694,
    "start_time": "2021-12-26T07:38:12.282Z"
   },
   {
    "duration": -697,
    "start_time": "2021-12-26T07:38:12.286Z"
   },
   {
    "duration": -707,
    "start_time": "2021-12-26T07:38:12.297Z"
   },
   {
    "duration": -710,
    "start_time": "2021-12-26T07:38:12.300Z"
   },
   {
    "duration": -713,
    "start_time": "2021-12-26T07:38:12.304Z"
   },
   {
    "duration": -715,
    "start_time": "2021-12-26T07:38:12.307Z"
   },
   {
    "duration": -719,
    "start_time": "2021-12-26T07:38:12.312Z"
   },
   {
    "duration": -722,
    "start_time": "2021-12-26T07:38:12.316Z"
   },
   {
    "duration": -726,
    "start_time": "2021-12-26T07:38:12.320Z"
   },
   {
    "duration": -728,
    "start_time": "2021-12-26T07:38:12.323Z"
   },
   {
    "duration": -731,
    "start_time": "2021-12-26T07:38:12.327Z"
   },
   {
    "duration": -733,
    "start_time": "2021-12-26T07:38:12.331Z"
   },
   {
    "duration": -736,
    "start_time": "2021-12-26T07:38:12.335Z"
   },
   {
    "duration": -738,
    "start_time": "2021-12-26T07:38:12.338Z"
   },
   {
    "duration": -742,
    "start_time": "2021-12-26T07:38:12.342Z"
   },
   {
    "duration": -744,
    "start_time": "2021-12-26T07:38:12.345Z"
   },
   {
    "duration": -747,
    "start_time": "2021-12-26T07:38:12.349Z"
   },
   {
    "duration": -750,
    "start_time": "2021-12-26T07:38:12.353Z"
   },
   {
    "duration": -753,
    "start_time": "2021-12-26T07:38:12.357Z"
   },
   {
    "duration": -755,
    "start_time": "2021-12-26T07:38:12.360Z"
   },
   {
    "duration": -758,
    "start_time": "2021-12-26T07:38:12.364Z"
   },
   {
    "duration": -760,
    "start_time": "2021-12-26T07:38:12.367Z"
   },
   {
    "duration": -763,
    "start_time": "2021-12-26T07:38:12.371Z"
   },
   {
    "duration": -765,
    "start_time": "2021-12-26T07:38:12.374Z"
   },
   {
    "duration": -768,
    "start_time": "2021-12-26T07:38:12.378Z"
   },
   {
    "duration": -771,
    "start_time": "2021-12-26T07:38:12.382Z"
   },
   {
    "duration": -773,
    "start_time": "2021-12-26T07:38:12.385Z"
   },
   {
    "duration": -776,
    "start_time": "2021-12-26T07:38:12.389Z"
   },
   {
    "duration": -779,
    "start_time": "2021-12-26T07:38:12.393Z"
   },
   {
    "duration": -791,
    "start_time": "2021-12-26T07:38:12.405Z"
   },
   {
    "duration": -794,
    "start_time": "2021-12-26T07:38:12.409Z"
   },
   {
    "duration": -797,
    "start_time": "2021-12-26T07:38:12.412Z"
   },
   {
    "duration": -802,
    "start_time": "2021-12-26T07:38:12.418Z"
   },
   {
    "duration": -805,
    "start_time": "2021-12-26T07:38:12.422Z"
   },
   {
    "duration": -809,
    "start_time": "2021-12-26T07:38:12.426Z"
   },
   {
    "duration": -811,
    "start_time": "2021-12-26T07:38:12.429Z"
   },
   {
    "duration": -806,
    "start_time": "2021-12-26T07:38:12.433Z"
   },
   {
    "duration": -808,
    "start_time": "2021-12-26T07:38:12.436Z"
   },
   {
    "duration": -811,
    "start_time": "2021-12-26T07:38:12.440Z"
   },
   {
    "duration": -814,
    "start_time": "2021-12-26T07:38:12.444Z"
   },
   {
    "duration": -817,
    "start_time": "2021-12-26T07:38:12.448Z"
   },
   {
    "duration": -819,
    "start_time": "2021-12-26T07:38:12.451Z"
   },
   {
    "duration": -822,
    "start_time": "2021-12-26T07:38:12.455Z"
   },
   {
    "duration": 22,
    "start_time": "2021-12-26T07:39:01.092Z"
   },
   {
    "duration": 17,
    "start_time": "2021-12-26T07:39:04.490Z"
   },
   {
    "duration": 21,
    "start_time": "2021-12-26T07:39:06.786Z"
   },
   {
    "duration": 53,
    "start_time": "2021-12-26T07:39:09.442Z"
   },
   {
    "duration": 63,
    "start_time": "2021-12-26T07:39:11.314Z"
   },
   {
    "duration": 46,
    "start_time": "2021-12-26T07:39:13.490Z"
   },
   {
    "duration": 37,
    "start_time": "2021-12-26T07:39:16.146Z"
   },
   {
    "duration": 3,
    "start_time": "2021-12-26T07:39:19.466Z"
   },
   {
    "duration": 44,
    "start_time": "2021-12-26T07:39:24.427Z"
   },
   {
    "duration": 43,
    "start_time": "2021-12-26T07:39:29.035Z"
   },
   {
    "duration": 11,
    "start_time": "2021-12-26T07:39:35.738Z"
   },
   {
    "duration": 11,
    "start_time": "2021-12-26T07:39:40.330Z"
   },
   {
    "duration": 3,
    "start_time": "2021-12-26T07:39:47.395Z"
   },
   {
    "duration": 166,
    "start_time": "2021-12-26T07:39:51.282Z"
   },
   {
    "duration": 137,
    "start_time": "2021-12-26T07:40:03.346Z"
   },
   {
    "duration": 16,
    "start_time": "2021-12-26T07:40:16.731Z"
   },
   {
    "duration": 14,
    "start_time": "2021-12-26T07:40:17.627Z"
   },
   {
    "duration": 14,
    "start_time": "2021-12-26T07:40:18.179Z"
   },
   {
    "duration": 13,
    "start_time": "2021-12-26T07:40:20.493Z"
   },
   {
    "duration": 16,
    "start_time": "2021-12-26T07:40:20.891Z"
   },
   {
    "duration": 14,
    "start_time": "2021-12-26T07:40:21.179Z"
   },
   {
    "duration": 113,
    "start_time": "2021-12-26T07:40:21.771Z"
   },
   {
    "duration": 9,
    "start_time": "2021-12-26T07:40:31.058Z"
   },
   {
    "duration": 11,
    "start_time": "2021-12-26T07:41:04.099Z"
   },
   {
    "duration": 9,
    "start_time": "2021-12-26T07:41:05.365Z"
   },
   {
    "duration": 4,
    "start_time": "2021-12-26T07:41:20.981Z"
   },
   {
    "duration": 17,
    "start_time": "2021-12-26T07:41:32.869Z"
   },
   {
    "duration": 12,
    "start_time": "2021-12-26T07:41:34.236Z"
   },
   {
    "duration": 17,
    "start_time": "2021-12-26T07:41:38.235Z"
   },
   {
    "duration": 16,
    "start_time": "2021-12-26T07:41:39.051Z"
   },
   {
    "duration": 8,
    "start_time": "2021-12-26T07:41:58.020Z"
   },
   {
    "duration": 559,
    "start_time": "2021-12-26T07:43:05.477Z"
   },
   {
    "duration": 128,
    "start_time": "2021-12-26T07:43:06.038Z"
   },
   {
    "duration": 15,
    "start_time": "2021-12-26T07:43:06.170Z"
   },
   {
    "duration": 22,
    "start_time": "2021-12-26T07:43:06.187Z"
   },
   {
    "duration": 17,
    "start_time": "2021-12-26T07:43:06.211Z"
   },
   {
    "duration": 20,
    "start_time": "2021-12-26T07:43:06.230Z"
   },
   {
    "duration": 5,
    "start_time": "2021-12-26T07:43:06.252Z"
   },
   {
    "duration": 20,
    "start_time": "2021-12-26T07:43:06.259Z"
   },
   {
    "duration": 17,
    "start_time": "2021-12-26T07:43:06.280Z"
   },
   {
    "duration": 44,
    "start_time": "2021-12-26T07:43:06.299Z"
   },
   {
    "duration": 53,
    "start_time": "2021-12-26T07:43:06.345Z"
   },
   {
    "duration": 80,
    "start_time": "2021-12-26T07:43:06.400Z"
   },
   {
    "duration": 54,
    "start_time": "2021-12-26T07:43:06.482Z"
   },
   {
    "duration": 38,
    "start_time": "2021-12-26T07:43:06.537Z"
   },
   {
    "duration": 3,
    "start_time": "2021-12-26T07:43:06.577Z"
   },
   {
    "duration": 61,
    "start_time": "2021-12-26T07:43:06.581Z"
   },
   {
    "duration": 36,
    "start_time": "2021-12-26T07:43:06.644Z"
   },
   {
    "duration": 10,
    "start_time": "2021-12-26T07:43:06.681Z"
   },
   {
    "duration": 9,
    "start_time": "2021-12-26T07:43:06.692Z"
   },
   {
    "duration": 2,
    "start_time": "2021-12-26T07:43:06.703Z"
   },
   {
    "duration": 34,
    "start_time": "2021-12-26T07:43:06.707Z"
   },
   {
    "duration": 12,
    "start_time": "2021-12-26T07:43:06.744Z"
   },
   {
    "duration": 12,
    "start_time": "2021-12-26T07:43:06.757Z"
   },
   {
    "duration": 12,
    "start_time": "2021-12-26T07:43:06.770Z"
   },
   {
    "duration": 45,
    "start_time": "2021-12-26T07:43:06.783Z"
   },
   {
    "duration": 14,
    "start_time": "2021-12-26T07:43:06.830Z"
   },
   {
    "duration": 7,
    "start_time": "2021-12-26T07:43:06.846Z"
   },
   {
    "duration": 10,
    "start_time": "2021-12-26T07:43:06.855Z"
   },
   {
    "duration": 8,
    "start_time": "2021-12-26T07:43:06.866Z"
   },
   {
    "duration": 4,
    "start_time": "2021-12-26T07:43:06.876Z"
   },
   {
    "duration": 47,
    "start_time": "2021-12-26T07:43:06.881Z"
   },
   {
    "duration": 14,
    "start_time": "2021-12-26T07:43:06.929Z"
   },
   {
    "duration": 17,
    "start_time": "2021-12-26T07:43:06.945Z"
   },
   {
    "duration": 11,
    "start_time": "2021-12-26T07:43:06.963Z"
   },
   {
    "duration": 7,
    "start_time": "2021-12-26T07:43:06.976Z"
   },
   {
    "duration": 6,
    "start_time": "2021-12-26T07:43:06.985Z"
   },
   {
    "duration": 38,
    "start_time": "2021-12-26T07:43:06.992Z"
   },
   {
    "duration": 7,
    "start_time": "2021-12-26T07:43:07.031Z"
   }
  ],
  "colab": {
   "collapsed_sections": [
    "E0vqbgi9ay0H",
    "VUC88oWjTJw2"
   ],
   "name": "yandex_music_project_2021.2.ipynb",
   "provenance": []
  },
  "kernelspec": {
   "display_name": "Python 3 (ipykernel)",
   "language": "python",
   "name": "python3"
  },
  "language_info": {
   "codemirror_mode": {
    "name": "ipython",
    "version": 3
   },
   "file_extension": ".py",
   "mimetype": "text/x-python",
   "name": "python",
   "nbconvert_exporter": "python",
   "pygments_lexer": "ipython3",
   "version": "3.9.7"
  },
  "toc": {
   "base_numbering": 1,
   "nav_menu": {},
   "number_sections": true,
   "sideBar": true,
   "skip_h1_title": true,
   "title_cell": "Table of Contents",
   "title_sidebar": "Contents",
   "toc_cell": false,
   "toc_position": {},
   "toc_section_display": true,
   "toc_window_display": true
  }
 },
 "nbformat": 4,
 "nbformat_minor": 1
}
