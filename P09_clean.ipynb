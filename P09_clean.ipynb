{
 "cells": [
  {
   "cell_type": "markdown",
   "metadata": {},
   "source": [
    "# Рынок заведений общественного питания Москвы"
   ]
  },
  {
   "cell_type": "markdown",
   "metadata": {
    "toc": true
   },
   "source": [
    "<h1>Оглавление<span class=\"tocSkip\"></span></h1>\n",
    "<div class=\"toc\"><ul class=\"toc-item\"><li><span><a href=\"#Задачи-проекта\" data-toc-modified-id=\"Задачи-проекта-1\"><span class=\"toc-item-num\">1&nbsp;&nbsp;</span>Задачи проекта</a></span></li><li><span><a href=\"#Исходные-данные\" data-toc-modified-id=\"Исходные-данные-2\"><span class=\"toc-item-num\">2&nbsp;&nbsp;</span>Исходные данные</a></span></li><li><span><a href=\"#Анализ-данных\" data-toc-modified-id=\"Анализ-данных-3\"><span class=\"toc-item-num\">3&nbsp;&nbsp;</span>Анализ данных</a></span><ul class=\"toc-item\"><li><span><a href=\"#Cоотношение-видов-объектов-общественного-питания\" data-toc-modified-id=\"Cоотношение-видов-объектов-общественного-питания-3.1\"><span class=\"toc-item-num\">3.1&nbsp;&nbsp;</span>Cоотношение видов объектов общественного питания</a></span><ul class=\"toc-item\"><li><span><a href=\"#По-количеству-объектов-(точек)-общественного-питания\" data-toc-modified-id=\"По-количеству-объектов-(точек)-общественного-питания-3.1.1\"><span class=\"toc-item-num\">3.1.1&nbsp;&nbsp;</span>По количеству объектов (точек) общественного питания</a></span></li><li><span><a href=\"#По-количеству-посадочных-мест\" data-toc-modified-id=\"По-количеству-посадочных-мест-3.1.2\"><span class=\"toc-item-num\">3.1.2&nbsp;&nbsp;</span>По количеству посадочных мест</a></span></li></ul></li><li><span><a href=\"#Соотношение-сетевых-и-несетевых-заведений-по-количеству\" data-toc-modified-id=\"Соотношение-сетевых-и-несетевых-заведений-по-количеству-3.2\"><span class=\"toc-item-num\">3.2&nbsp;&nbsp;</span>Соотношение сетевых и несетевых заведений по количеству</a></span></li><li><span><a href=\"#Cетевое-распространение-по-видам-объектов-общественного-питания\" data-toc-modified-id=\"Cетевое-распространение-по-видам-объектов-общественного-питания-3.3\"><span class=\"toc-item-num\">3.3&nbsp;&nbsp;</span>Cетевое распространение по видам объектов общественного питания</a></span></li><li><span><a href=\"#Распределение-посадочных-мест-по-сетевым-заведениям\" data-toc-modified-id=\"Распределение-посадочных-мест-по-сетевым-заведениям-3.4\"><span class=\"toc-item-num\">3.4&nbsp;&nbsp;</span>Распределение посадочных мест по сетевым заведениям</a></span><ul class=\"toc-item\"><li><span><a href=\"#Анализ-по-рынку-в-целом\" data-toc-modified-id=\"Анализ-по-рынку-в-целом-3.4.1\"><span class=\"toc-item-num\">3.4.1&nbsp;&nbsp;</span>Анализ по рынку в целом</a></span></li><li><span><a href=\"#Анализ-по-сетям\" data-toc-modified-id=\"Анализ-по-сетям-3.4.2\"><span class=\"toc-item-num\">3.4.2&nbsp;&nbsp;</span>Анализ по сетям</a></span><ul class=\"toc-item\"><li><span><a href=\"#Подготовка-данных\" data-toc-modified-id=\"Подготовка-данных-3.4.2.1\"><span class=\"toc-item-num\">3.4.2.1&nbsp;&nbsp;</span>Подготовка данных</a></span></li><li><span><a href=\"#Визуализация-распределения\" data-toc-modified-id=\"Визуализация-распределения-3.4.2.2\"><span class=\"toc-item-num\">3.4.2.2&nbsp;&nbsp;</span>Визуализация распределения</a></span></li></ul></li></ul></li><li><span><a href=\"#Cреднее-количество-посадочных-мест-для-каждого-вида-объекта-общественного-питания\" data-toc-modified-id=\"Cреднее-количество-посадочных-мест-для-каждого-вида-объекта-общественного-питания-3.5\"><span class=\"toc-item-num\">3.5&nbsp;&nbsp;</span>Cреднее количество посадочных мест для каждого вида объекта общественного питания</a></span></li><li><span><a href=\"#Основные-улицы-расположения-точек-общественного-питания\" data-toc-modified-id=\"Основные-улицы-расположения-точек-общественного-питания-3.6\"><span class=\"toc-item-num\">3.6&nbsp;&nbsp;</span>Основные улицы расположения точек общественного питания</a></span></li><li><span><a href=\"#Улицы-с-единичными-объектами-общественного-питания\" data-toc-modified-id=\"Улицы-с-единичными-объектами-общественного-питания-3.7\"><span class=\"toc-item-num\">3.7&nbsp;&nbsp;</span>Улицы с единичными объектами общественного питания</a></span></li><li><span><a href=\"#Распределение-количества-посадочных-мест-для-улиц-с-большим-количеством-объектов\" data-toc-modified-id=\"Распределение-количества-посадочных-мест-для-улиц-с-большим-количеством-объектов-3.8\"><span class=\"toc-item-num\">3.8&nbsp;&nbsp;</span>Распределение количества посадочных мест для улиц с большим количеством объектов</a></span></li><li><span><a href=\"#Итоговые-выводы\" data-toc-modified-id=\"Итоговые-выводы-3.9\"><span class=\"toc-item-num\">3.9&nbsp;&nbsp;</span>Итоговые выводы</a></span></li></ul></li><li><span><a href=\"#Презентация-по-проекту\" data-toc-modified-id=\"Презентация-по-проекту-4\"><span class=\"toc-item-num\">4&nbsp;&nbsp;</span>Презентация по проекту</a></span></li></ul></div>"
   ]
  },
  {
   "cell_type": "markdown",
   "metadata": {},
   "source": [
    "## Задачи проекта"
   ]
  },
  {
   "cell_type": "markdown",
   "metadata": {},
   "source": [
    "Предполагается открыть небольшое кафе в Москве. Оно оригинальное — гостей должны обслуживать роботы. Проект многообещающий, но дорогой. Инициаторы решились обратиться к инвесторам. Их интересует текущее положение дел на рынке — сможете ли такое кафе снискать популярность на долгое время, когда все зеваки насмотрятся на роботов-официантов.\n",
    "Необходимо подготовить исследование рынка на основе открытых данных о заведениях общественного питания в Москве."
   ]
  },
  {
   "cell_type": "markdown",
   "metadata": {},
   "source": [
    "## Исходные данные"
   ]
  },
  {
   "cell_type": "code",
   "execution_count": 1,
   "metadata": {},
   "outputs": [],
   "source": [
    "# Импорт всех библиотек данного проекта\n",
    "import pandas as pd\n",
    "import numpy as np\n",
    "import matplotlib.pyplot as plt\n",
    "import seaborn as sns\n",
    "\n",
    "from io import BytesIO\n",
    "import requests\n",
    "\n",
    "pd.options.display.max_colwidth = 100"
   ]
  },
  {
   "cell_type": "code",
   "execution_count": 2,
   "metadata": {},
   "outputs": [],
   "source": [
    "data = pd.read_csv('/datasets/rest_data.csv')"
   ]
  },
  {
   "cell_type": "markdown",
   "metadata": {},
   "source": [
    "**Описание имеющихся данных**\n",
    "\n",
    "id — идентификатор объекта;\n",
    "\n",
    "object_name — название объекта общественного питания;\n",
    "\n",
    "chain — сетевой ресторан;\n",
    "\n",
    "object_type — тип объекта общественного питания;\n",
    "\n",
    "address — адрес;\n",
    "\n",
    "number — количество посадочных мест."
   ]
  },
  {
   "cell_type": "code",
   "execution_count": 3,
   "metadata": {},
   "outputs": [
    {
     "data": {
      "text/html": [
       "<div>\n",
       "<style scoped>\n",
       "    .dataframe tbody tr th:only-of-type {\n",
       "        vertical-align: middle;\n",
       "    }\n",
       "\n",
       "    .dataframe tbody tr th {\n",
       "        vertical-align: top;\n",
       "    }\n",
       "\n",
       "    .dataframe thead th {\n",
       "        text-align: right;\n",
       "    }\n",
       "</style>\n",
       "<table border=\"1\" class=\"dataframe\">\n",
       "  <thead>\n",
       "    <tr style=\"text-align: right;\">\n",
       "      <th></th>\n",
       "      <th>id</th>\n",
       "      <th>object_name</th>\n",
       "      <th>chain</th>\n",
       "      <th>object_type</th>\n",
       "      <th>address</th>\n",
       "      <th>number</th>\n",
       "    </tr>\n",
       "  </thead>\n",
       "  <tbody>\n",
       "    <tr>\n",
       "      <th>0</th>\n",
       "      <td>151635</td>\n",
       "      <td>СМЕТАНА</td>\n",
       "      <td>нет</td>\n",
       "      <td>кафе</td>\n",
       "      <td>город Москва, улица Егора Абакумова, дом 9</td>\n",
       "      <td>48</td>\n",
       "    </tr>\n",
       "    <tr>\n",
       "      <th>1</th>\n",
       "      <td>77874</td>\n",
       "      <td>Родник</td>\n",
       "      <td>нет</td>\n",
       "      <td>кафе</td>\n",
       "      <td>город Москва, улица Талалихина, дом 2/1, корпус 1</td>\n",
       "      <td>35</td>\n",
       "    </tr>\n",
       "    <tr>\n",
       "      <th>2</th>\n",
       "      <td>24309</td>\n",
       "      <td>Кафе «Академия»</td>\n",
       "      <td>нет</td>\n",
       "      <td>кафе</td>\n",
       "      <td>город Москва, Абельмановская улица, дом 6</td>\n",
       "      <td>95</td>\n",
       "    </tr>\n",
       "    <tr>\n",
       "      <th>3</th>\n",
       "      <td>21894</td>\n",
       "      <td>ПИЦЦЕТОРИЯ</td>\n",
       "      <td>да</td>\n",
       "      <td>кафе</td>\n",
       "      <td>город Москва, Абрамцевская улица, дом 1</td>\n",
       "      <td>40</td>\n",
       "    </tr>\n",
       "    <tr>\n",
       "      <th>4</th>\n",
       "      <td>119365</td>\n",
       "      <td>Кафе «Вишневая метель»</td>\n",
       "      <td>нет</td>\n",
       "      <td>кафе</td>\n",
       "      <td>город Москва, Абрамцевская улица, дом 9, корпус 1</td>\n",
       "      <td>50</td>\n",
       "    </tr>\n",
       "  </tbody>\n",
       "</table>\n",
       "</div>"
      ],
      "text/plain": [
       "       id             object_name chain object_type  \\\n",
       "0  151635                 СМЕТАНА   нет        кафе   \n",
       "1   77874                  Родник   нет        кафе   \n",
       "2   24309         Кафе «Академия»   нет        кафе   \n",
       "3   21894              ПИЦЦЕТОРИЯ    да        кафе   \n",
       "4  119365  Кафе «Вишневая метель»   нет        кафе   \n",
       "\n",
       "                                             address  number  \n",
       "0         город Москва, улица Егора Абакумова, дом 9      48  \n",
       "1  город Москва, улица Талалихина, дом 2/1, корпус 1      35  \n",
       "2          город Москва, Абельмановская улица, дом 6      95  \n",
       "3            город Москва, Абрамцевская улица, дом 1      40  \n",
       "4  город Москва, Абрамцевская улица, дом 9, корпус 1      50  "
      ]
     },
     "metadata": {},
     "output_type": "display_data"
    }
   ],
   "source": [
    "display(data.head(5))"
   ]
  },
  {
   "cell_type": "code",
   "execution_count": 4,
   "metadata": {},
   "outputs": [
    {
     "name": "stdout",
     "output_type": "stream",
     "text": [
      "<class 'pandas.core.frame.DataFrame'>\n",
      "RangeIndex: 15366 entries, 0 to 15365\n",
      "Data columns (total 6 columns):\n",
      " #   Column       Non-Null Count  Dtype \n",
      "---  ------       --------------  ----- \n",
      " 0   id           15366 non-null  int64 \n",
      " 1   object_name  15366 non-null  object\n",
      " 2   chain        15366 non-null  object\n",
      " 3   object_type  15366 non-null  object\n",
      " 4   address      15366 non-null  object\n",
      " 5   number       15366 non-null  int64 \n",
      "dtypes: int64(2), object(4)\n",
      "memory usage: 720.4+ KB\n"
     ]
    }
   ],
   "source": [
    "data.info()"
   ]
  },
  {
   "cell_type": "markdown",
   "metadata": {},
   "source": [
    "Ни в одном из столбцов таблицы нет пропущенных данных."
   ]
  },
  {
   "cell_type": "markdown",
   "metadata": {},
   "source": [
    "**Предварительная обработка данных**"
   ]
  },
  {
   "cell_type": "code",
   "execution_count": 5,
   "metadata": {},
   "outputs": [
    {
     "data": {
      "text/plain": [
       "array(['нет', 'да'], dtype=object)"
      ]
     },
     "execution_count": 5,
     "metadata": {},
     "output_type": "execute_result"
    }
   ],
   "source": [
    "data['chain'].unique()"
   ]
  },
  {
   "cell_type": "markdown",
   "metadata": {},
   "source": [
    "Для упрощения дальнейшего анализа заменим данные на булевы значения."
   ]
  },
  {
   "cell_type": "code",
   "execution_count": 6,
   "metadata": {},
   "outputs": [],
   "source": [
    "data.loc[data['chain'] == 'да', 'chain'] = True\n",
    "data.loc[data['chain'] == 'нет', 'chain'] = False\n",
    "data['chain'] = data['chain'].astype(bool)"
   ]
  },
  {
   "cell_type": "code",
   "execution_count": 7,
   "metadata": {},
   "outputs": [
    {
     "data": {
      "text/plain": [
       "array(['кафе', 'столовая', 'закусочная',\n",
       "       'предприятие быстрого обслуживания', 'ресторан', 'кафетерий',\n",
       "       'буфет', 'бар', 'магазин (отдел кулинарии)'], dtype=object)"
      ]
     },
     "execution_count": 7,
     "metadata": {},
     "output_type": "execute_result"
    }
   ],
   "source": [
    "data['object_type'].unique()"
   ]
  },
  {
   "cell_type": "markdown",
   "metadata": {},
   "source": [
    "Для компактности заменим два наименования типа объектов на более короткие."
   ]
  },
  {
   "cell_type": "code",
   "execution_count": 8,
   "metadata": {},
   "outputs": [],
   "source": [
    "data.loc[data['object_type'] == 'предприятие быстрого обслуживания', 'object_type'] = 'фастфуд'\n",
    "data.loc[data['object_type'] == 'магазин (отдел кулинарии)', 'object_type'] = 'кулинария'"
   ]
  },
  {
   "cell_type": "code",
   "execution_count": 9,
   "metadata": {},
   "outputs": [
    {
     "name": "stdout",
     "output_type": "stream",
     "text": [
      "Количество точек общепита с нулевым количеством посадочных мест: 1621\n"
     ]
    }
   ],
   "source": [
    "zeros = data.loc[data['number'] == 0, 'number'].count()\n",
    "print('Количество точек общепита с нулевым количеством посадочных мест:', zeros)"
   ]
  },
  {
   "cell_type": "markdown",
   "metadata": {},
   "source": [
    "Данное обстоятельство следует принять к сведению, но это не признак ошибок в базе данных: существуют точки общепита, не предусматривающие каких-либо сидений для посетителей (формат может быть \"стоячим\", либо посетители рассаживаются вне пределов точки общепита)."
   ]
  },
  {
   "cell_type": "markdown",
   "metadata": {},
   "source": [
    "Проверка наиболее емких точек общественного питания на предмет корректности (воизбежание недостоверных выбросов в дальнейшем)."
   ]
  },
  {
   "cell_type": "code",
   "execution_count": 10,
   "metadata": {
    "scrolled": false
   },
   "outputs": [
    {
     "data": {
      "text/html": [
       "<div>\n",
       "<style scoped>\n",
       "    .dataframe tbody tr th:only-of-type {\n",
       "        vertical-align: middle;\n",
       "    }\n",
       "\n",
       "    .dataframe tbody tr th {\n",
       "        vertical-align: top;\n",
       "    }\n",
       "\n",
       "    .dataframe thead th {\n",
       "        text-align: right;\n",
       "    }\n",
       "</style>\n",
       "<table border=\"1\" class=\"dataframe\">\n",
       "  <thead>\n",
       "    <tr style=\"text-align: right;\">\n",
       "      <th></th>\n",
       "      <th>id</th>\n",
       "      <th>object_name</th>\n",
       "      <th>chain</th>\n",
       "      <th>object_type</th>\n",
       "      <th>address</th>\n",
       "      <th>number</th>\n",
       "    </tr>\n",
       "  </thead>\n",
       "  <tbody>\n",
       "    <tr>\n",
       "      <th>12723</th>\n",
       "      <td>199696</td>\n",
       "      <td>Arena by Soho Family</td>\n",
       "      <td>False</td>\n",
       "      <td>бар</td>\n",
       "      <td>город Москва, Кутузовский проспект, дом 36, строение 11</td>\n",
       "      <td>1700</td>\n",
       "    </tr>\n",
       "    <tr>\n",
       "      <th>8148</th>\n",
       "      <td>80291</td>\n",
       "      <td>Банкетный зал Шелк</td>\n",
       "      <td>False</td>\n",
       "      <td>ресторан</td>\n",
       "      <td>город Москва, Большой Саввинский переулок, дом 12, строение 10Г</td>\n",
       "      <td>1500</td>\n",
       "    </tr>\n",
       "    <tr>\n",
       "      <th>8345</th>\n",
       "      <td>27750</td>\n",
       "      <td>СТОЛОВАЯ-БУФЕТ</td>\n",
       "      <td>False</td>\n",
       "      <td>столовая</td>\n",
       "      <td>город Москва, улица Волхонка, дом 15</td>\n",
       "      <td>1400</td>\n",
       "    </tr>\n",
       "    <tr>\n",
       "      <th>9064</th>\n",
       "      <td>19719</td>\n",
       "      <td>КОМБИНАТ ПИТАНИЯ «УПРАВЛЕНИЕ АКАДЕМСЕРВИС»</td>\n",
       "      <td>False</td>\n",
       "      <td>столовая</td>\n",
       "      <td>город Москва, проспект Вернадского, дом 84, строение 1</td>\n",
       "      <td>1288</td>\n",
       "    </tr>\n",
       "    <tr>\n",
       "      <th>4480</th>\n",
       "      <td>27024</td>\n",
       "      <td>РУМ СЕРВИС</td>\n",
       "      <td>False</td>\n",
       "      <td>ресторан</td>\n",
       "      <td>город Москва, Кутузовский проспект, дом 2/1, строение 1</td>\n",
       "      <td>1200</td>\n",
       "    </tr>\n",
       "    <tr>\n",
       "      <th>3686</th>\n",
       "      <td>27026</td>\n",
       "      <td>РУМ СЕРВИС</td>\n",
       "      <td>False</td>\n",
       "      <td>ресторан</td>\n",
       "      <td>город Москва, площадь Европы, дом 2</td>\n",
       "      <td>1200</td>\n",
       "    </tr>\n",
       "    <tr>\n",
       "      <th>2313</th>\n",
       "      <td>26560</td>\n",
       "      <td>Ресторан «АЛЬФА»</td>\n",
       "      <td>False</td>\n",
       "      <td>ресторан</td>\n",
       "      <td>город Москва, Измайловское шоссе, дом 71, корпус А</td>\n",
       "      <td>1040</td>\n",
       "    </tr>\n",
       "    <tr>\n",
       "      <th>9955</th>\n",
       "      <td>171116</td>\n",
       "      <td>EATALY</td>\n",
       "      <td>False</td>\n",
       "      <td>ресторан</td>\n",
       "      <td>город Москва, Киевская улица, дом 2</td>\n",
       "      <td>920</td>\n",
       "    </tr>\n",
       "    <tr>\n",
       "      <th>5649</th>\n",
       "      <td>29232</td>\n",
       "      <td>СТОЛОВАЯ МОСКОВСКИЙ ГУМАНИТАРНЫЙ УНИВЕРСИТЕТ</td>\n",
       "      <td>False</td>\n",
       "      <td>столовая</td>\n",
       "      <td>город Москва, улица Юности, дом 5, строение 1</td>\n",
       "      <td>760</td>\n",
       "    </tr>\n",
       "    <tr>\n",
       "      <th>13299</th>\n",
       "      <td>200905</td>\n",
       "      <td>White Hall</td>\n",
       "      <td>False</td>\n",
       "      <td>ресторан</td>\n",
       "      <td>город Москва, Ферганская улица, дом 8</td>\n",
       "      <td>700</td>\n",
       "    </tr>\n",
       "    <tr>\n",
       "      <th>4110</th>\n",
       "      <td>29320</td>\n",
       "      <td>Столовая</td>\n",
       "      <td>False</td>\n",
       "      <td>столовая</td>\n",
       "      <td>город Москва, Каширское шоссе, дом 31</td>\n",
       "      <td>680</td>\n",
       "    </tr>\n",
       "    <tr>\n",
       "      <th>7280</th>\n",
       "      <td>26269</td>\n",
       "      <td>Ресторан «Шахин Шах»</td>\n",
       "      <td>False</td>\n",
       "      <td>ресторан</td>\n",
       "      <td>город Москва, улица Маршала Захарова, дом 6, корпус 1</td>\n",
       "      <td>675</td>\n",
       "    </tr>\n",
       "    <tr>\n",
       "      <th>2317</th>\n",
       "      <td>73306</td>\n",
       "      <td>Ресторан «БЕТА»</td>\n",
       "      <td>False</td>\n",
       "      <td>ресторан</td>\n",
       "      <td>город Москва, Измайловское шоссе, дом 71, корпус 2Б</td>\n",
       "      <td>660</td>\n",
       "    </tr>\n",
       "    <tr>\n",
       "      <th>3401</th>\n",
       "      <td>135197</td>\n",
       "      <td>ДУРДИНЪ</td>\n",
       "      <td>False</td>\n",
       "      <td>ресторан</td>\n",
       "      <td>город Москва, Мичуринский проспект, дом 8, строение 1</td>\n",
       "      <td>650</td>\n",
       "    </tr>\n",
       "    <tr>\n",
       "      <th>7807</th>\n",
       "      <td>66234</td>\n",
       "      <td>Стамбул</td>\n",
       "      <td>False</td>\n",
       "      <td>ресторан</td>\n",
       "      <td>город Москва, улица Скульптора Мухиной, дом 11</td>\n",
       "      <td>650</td>\n",
       "    </tr>\n",
       "    <tr>\n",
       "      <th>6077</th>\n",
       "      <td>29073</td>\n",
       "      <td>СТОЛОВАЯ 16 ПРИ РУДН</td>\n",
       "      <td>False</td>\n",
       "      <td>столовая</td>\n",
       "      <td>город Москва, улица Миклухо-Маклая, дом 6</td>\n",
       "      <td>644</td>\n",
       "    </tr>\n",
       "    <tr>\n",
       "      <th>7104</th>\n",
       "      <td>27033</td>\n",
       "      <td>Банкетный</td>\n",
       "      <td>False</td>\n",
       "      <td>ресторан</td>\n",
       "      <td>город Москва, Ленинградский проспект, дом 31А, строение 1</td>\n",
       "      <td>625</td>\n",
       "    </tr>\n",
       "    <tr>\n",
       "      <th>6083</th>\n",
       "      <td>26594</td>\n",
       "      <td>Зал Наполеон</td>\n",
       "      <td>False</td>\n",
       "      <td>ресторан</td>\n",
       "      <td>город Москва, улица Гарибальди, дом 1А</td>\n",
       "      <td>600</td>\n",
       "    </tr>\n",
       "    <tr>\n",
       "      <th>14155</th>\n",
       "      <td>207566</td>\n",
       "      <td>Столовая МИТ</td>\n",
       "      <td>False</td>\n",
       "      <td>столовая</td>\n",
       "      <td>город Москва, Берёзовая аллея, дом 10, корпус 1</td>\n",
       "      <td>600</td>\n",
       "    </tr>\n",
       "    <tr>\n",
       "      <th>5666</th>\n",
       "      <td>24445</td>\n",
       "      <td>Ресторан Мой двор</td>\n",
       "      <td>False</td>\n",
       "      <td>ресторан</td>\n",
       "      <td>город Москва, улица Сталеваров, дом 3Л</td>\n",
       "      <td>585</td>\n",
       "    </tr>\n",
       "  </tbody>\n",
       "</table>\n",
       "</div>"
      ],
      "text/plain": [
       "           id                                   object_name  chain  \\\n",
       "12723  199696                          Arena by Soho Family  False   \n",
       "8148    80291                            Банкетный зал Шелк  False   \n",
       "8345    27750                                СТОЛОВАЯ-БУФЕТ  False   \n",
       "9064    19719    КОМБИНАТ ПИТАНИЯ «УПРАВЛЕНИЕ АКАДЕМСЕРВИС»  False   \n",
       "4480    27024                                    РУМ СЕРВИС  False   \n",
       "3686    27026                                    РУМ СЕРВИС  False   \n",
       "2313    26560                              Ресторан «АЛЬФА»  False   \n",
       "9955   171116                                        EATALY  False   \n",
       "5649    29232  СТОЛОВАЯ МОСКОВСКИЙ ГУМАНИТАРНЫЙ УНИВЕРСИТЕТ  False   \n",
       "13299  200905                                    White Hall  False   \n",
       "4110    29320                                      Столовая  False   \n",
       "7280    26269                          Ресторан «Шахин Шах»  False   \n",
       "2317    73306                               Ресторан «БЕТА»  False   \n",
       "3401   135197                                       ДУРДИНЪ  False   \n",
       "7807    66234                                       Стамбул  False   \n",
       "6077    29073                          СТОЛОВАЯ 16 ПРИ РУДН  False   \n",
       "7104    27033                                     Банкетный  False   \n",
       "6083    26594                                  Зал Наполеон  False   \n",
       "14155  207566                                  Столовая МИТ  False   \n",
       "5666    24445                             Ресторан Мой двор  False   \n",
       "\n",
       "      object_type  \\\n",
       "12723         бар   \n",
       "8148     ресторан   \n",
       "8345     столовая   \n",
       "9064     столовая   \n",
       "4480     ресторан   \n",
       "3686     ресторан   \n",
       "2313     ресторан   \n",
       "9955     ресторан   \n",
       "5649     столовая   \n",
       "13299    ресторан   \n",
       "4110     столовая   \n",
       "7280     ресторан   \n",
       "2317     ресторан   \n",
       "3401     ресторан   \n",
       "7807     ресторан   \n",
       "6077     столовая   \n",
       "7104     ресторан   \n",
       "6083     ресторан   \n",
       "14155    столовая   \n",
       "5666     ресторан   \n",
       "\n",
       "                                                               address  number  \n",
       "12723          город Москва, Кутузовский проспект, дом 36, строение 11    1700  \n",
       "8148   город Москва, Большой Саввинский переулок, дом 12, строение 10Г    1500  \n",
       "8345                              город Москва, улица Волхонка, дом 15    1400  \n",
       "9064            город Москва, проспект Вернадского, дом 84, строение 1    1288  \n",
       "4480           город Москва, Кутузовский проспект, дом 2/1, строение 1    1200  \n",
       "3686                               город Москва, площадь Европы, дом 2    1200  \n",
       "2313                город Москва, Измайловское шоссе, дом 71, корпус А    1040  \n",
       "9955                               город Москва, Киевская улица, дом 2     920  \n",
       "5649                     город Москва, улица Юности, дом 5, строение 1     760  \n",
       "13299                            город Москва, Ферганская улица, дом 8     700  \n",
       "4110                             город Москва, Каширское шоссе, дом 31     680  \n",
       "7280             город Москва, улица Маршала Захарова, дом 6, корпус 1     675  \n",
       "2317               город Москва, Измайловское шоссе, дом 71, корпус 2Б     660  \n",
       "3401             город Москва, Мичуринский проспект, дом 8, строение 1     650  \n",
       "7807                    город Москва, улица Скульптора Мухиной, дом 11     650  \n",
       "6077                         город Москва, улица Миклухо-Маклая, дом 6     644  \n",
       "7104         город Москва, Ленинградский проспект, дом 31А, строение 1     625  \n",
       "6083                            город Москва, улица Гарибальди, дом 1А     600  \n",
       "14155                  город Москва, Берёзовая аллея, дом 10, корпус 1     600  \n",
       "5666                            город Москва, улица Сталеваров, дом 3Л     585  "
      ]
     },
     "execution_count": 10,
     "metadata": {},
     "output_type": "execute_result"
    }
   ],
   "source": [
    "data.sort_values(by='number', ascending=False).head(20)"
   ]
  },
  {
   "cell_type": "markdown",
   "metadata": {},
   "source": [
    "Arena by Soho Family - не бар. Подлежит замене на ресторан."
   ]
  },
  {
   "cell_type": "code",
   "execution_count": 11,
   "metadata": {},
   "outputs": [],
   "source": [
    "data.loc[data['id'] == 199696, 'object_type'] = 'ресторан'"
   ]
  },
  {
   "cell_type": "markdown",
   "metadata": {},
   "source": [
    "**Оценка наличия дубликатов**\n",
    "\n",
    "Поиск признаков дублирования по нескольким направлениям"
   ]
  },
  {
   "cell_type": "code",
   "execution_count": 12,
   "metadata": {
    "scrolled": false
   },
   "outputs": [
    {
     "name": "stdout",
     "output_type": "stream",
     "text": [
      "Число уникальных идентификаторов объектов: 15366\n",
      "Число уникальных адресов: 9108\n"
     ]
    },
    {
     "data": {
      "text/plain": [
       "город Москва, Ходынский бульвар, дом 4            95\n",
       "город Москва, Пресненская набережная, дом 2       63\n",
       "город Москва, проспект Мира, дом 211, корпус 2    60\n",
       "город Москва, Кировоградская улица, дом 13А       53\n",
       "город Москва, площадь Киевского Вокзала, дом 2    48\n",
       "город Москва, Мытная улица, дом 74                46\n",
       "город Москва, улица Земляной Вал, дом 33          46\n",
       "город Москва, улица Новый Арбат, дом 21           42\n",
       "город Москва, улица Ленинская Слобода, дом 26     41\n",
       "город Москва, Ярцевская улица, дом 19             40\n",
       "Name: address, dtype: int64"
      ]
     },
     "execution_count": 12,
     "metadata": {},
     "output_type": "execute_result"
    }
   ],
   "source": [
    "print('Число уникальных идентификаторов объектов:', data['id'].nunique())\n",
    "print('Число уникальных адресов:', data['address'].nunique())\n",
    "data['address'].value_counts().head(10)"
   ]
  },
  {
   "cell_type": "markdown",
   "metadata": {},
   "source": [
    "Несколько неожиданное сочетание: количество уникальных идентификаторов соответствует размеру таблицы, но по одному и тому же адресу находятся десятки(!) предприятий общественного питания. Однако в крупных торгово-развлекательных центрах Москвы такое бывает и не является редкостью. Поэтому данное обстоятельство считать признаком дублирования записей нельзя.\n",
    "\n",
    "Необходимо проверить, не попали ли в базу закрытые точки общепита. Если бы закрытые точки оставались в базе, то их нумерация (id) была бы сквозной или близкой к сквозной."
   ]
  },
  {
   "cell_type": "code",
   "execution_count": 13,
   "metadata": {},
   "outputs": [
    {
     "name": "stdout",
     "output_type": "stream",
     "text": [
      "Диапазон идентификаторов объектов: 838 - 223439\n"
     ]
    },
    {
     "data": {
      "text/plain": [
       "count     15366.000000\n",
       "mean     119720.066901\n",
       "std       73036.130732\n",
       "min         838.000000\n",
       "25%       28524.000000\n",
       "50%      144974.500000\n",
       "75%      184262.250000\n",
       "max      223439.000000\n",
       "Name: id, dtype: float64"
      ]
     },
     "execution_count": 13,
     "metadata": {},
     "output_type": "execute_result"
    }
   ],
   "source": [
    "print(f'Диапазон идентификаторов объектов: {data[\"id\"].min()} - {data[\"id\"].max()}')\n",
    "data['id'].describe()"
   ]
  },
  {
   "cell_type": "markdown",
   "metadata": {},
   "source": [
    "Очевидно, что при таких статистических характеристиках идентификаторов, речь о сквозной кодировке идти не может. Поэтому остается предположить, что в базе отсутствуют закрытые заведения. А при наличии уникальных идентификаторов у нас нет оснований для исключения предполагавшихся \"мертвых душ\".\n",
    "\n",
    "При этом случаи, когда, например, в одном здании располагаются столовые (более одной) одного и того же учебного заведения, считать дублированием нельзя, так как физически (и даже юридически) точек больше одной. Такой же подход применим и к другим аналогичным случаям.\n",
    "\n",
    "В конечном итоге, располагаемые данные не дают достаточных оснований считать дубликатами единство названия, сетевого признака, формата и адреса (при наличии присвоенного уникального идентификатора)."
   ]
  },
  {
   "cell_type": "markdown",
   "metadata": {},
   "source": [
    "## Анализ данных"
   ]
  },
  {
   "cell_type": "markdown",
   "metadata": {},
   "source": [
    "### Cоотношение видов объектов общественного питания"
   ]
  },
  {
   "cell_type": "markdown",
   "metadata": {},
   "source": [
    "#### По количеству объектов (точек) общественного питания"
   ]
  },
  {
   "cell_type": "code",
   "execution_count": 14,
   "metadata": {},
   "outputs": [
    {
     "data": {
      "text/html": [
       "<div>\n",
       "<style scoped>\n",
       "    .dataframe tbody tr th:only-of-type {\n",
       "        vertical-align: middle;\n",
       "    }\n",
       "\n",
       "    .dataframe tbody tr th {\n",
       "        vertical-align: top;\n",
       "    }\n",
       "\n",
       "    .dataframe thead th {\n",
       "        text-align: right;\n",
       "    }\n",
       "</style>\n",
       "<table border=\"1\" class=\"dataframe\">\n",
       "  <thead>\n",
       "    <tr style=\"text-align: right;\">\n",
       "      <th></th>\n",
       "      <th>object_type</th>\n",
       "      <th>id</th>\n",
       "      <th>share</th>\n",
       "    </tr>\n",
       "  </thead>\n",
       "  <tbody>\n",
       "    <tr>\n",
       "      <th>0</th>\n",
       "      <td>кафе</td>\n",
       "      <td>6099</td>\n",
       "      <td>39.691527</td>\n",
       "    </tr>\n",
       "    <tr>\n",
       "      <th>1</th>\n",
       "      <td>столовая</td>\n",
       "      <td>2587</td>\n",
       "      <td>16.835871</td>\n",
       "    </tr>\n",
       "    <tr>\n",
       "      <th>2</th>\n",
       "      <td>ресторан</td>\n",
       "      <td>2286</td>\n",
       "      <td>14.877001</td>\n",
       "    </tr>\n",
       "    <tr>\n",
       "      <th>3</th>\n",
       "      <td>фастфуд</td>\n",
       "      <td>1923</td>\n",
       "      <td>12.514643</td>\n",
       "    </tr>\n",
       "    <tr>\n",
       "      <th>4</th>\n",
       "      <td>бар</td>\n",
       "      <td>855</td>\n",
       "      <td>5.564233</td>\n",
       "    </tr>\n",
       "    <tr>\n",
       "      <th>5</th>\n",
       "      <td>буфет</td>\n",
       "      <td>585</td>\n",
       "      <td>3.807107</td>\n",
       "    </tr>\n",
       "    <tr>\n",
       "      <th>6</th>\n",
       "      <td>кафетерий</td>\n",
       "      <td>398</td>\n",
       "      <td>2.590134</td>\n",
       "    </tr>\n",
       "    <tr>\n",
       "      <th>7</th>\n",
       "      <td>закусочная</td>\n",
       "      <td>360</td>\n",
       "      <td>2.342835</td>\n",
       "    </tr>\n",
       "    <tr>\n",
       "      <th>8</th>\n",
       "      <td>кулинария</td>\n",
       "      <td>273</td>\n",
       "      <td>1.776650</td>\n",
       "    </tr>\n",
       "  </tbody>\n",
       "</table>\n",
       "</div>"
      ],
      "text/plain": [
       "  object_type    id      share\n",
       "0        кафе  6099  39.691527\n",
       "1    столовая  2587  16.835871\n",
       "2    ресторан  2286  14.877001\n",
       "3     фастфуд  1923  12.514643\n",
       "4         бар   855   5.564233\n",
       "5       буфет   585   3.807107\n",
       "6   кафетерий   398   2.590134\n",
       "7  закусочная   360   2.342835\n",
       "8   кулинария   273   1.776650"
      ]
     },
     "metadata": {},
     "output_type": "display_data"
    }
   ],
   "source": [
    "object_types = data.groupby('object_type').agg({'id':'count'}).sort_values(by='id', ascending=False).reset_index()\n",
    "object_types['share'] = object_types['id'] / object_types['id'].sum() * 100\n",
    "display(object_types)"
   ]
  },
  {
   "cell_type": "code",
   "execution_count": 15,
   "metadata": {},
   "outputs": [
    {
     "data": {
      "image/png": "[encoded data removed]",
      "text/plain": [
       "<Figure size 576x576 with 1 Axes>"
      ]
     },
     "metadata": {},
     "output_type": "display_data"
    }
   ],
   "source": [
    "plt.figure(figsize=(8, 8))\n",
    "draw_data = object_types['id']\n",
    "labels = object_types['object_type']\n",
    "colors = sns.color_palette(\"husl\", 9)\n",
    "plt.pie(draw_data, labels=labels, colors = colors, autopct = '%0.1f%%')\n",
    "plt.title('Cоотношение видов объектов общественного питания по количеству')\n",
    "plt.show()"
   ]
  },
  {
   "cell_type": "markdown",
   "metadata": {},
   "source": [
    "#### По количеству посадочных мест"
   ]
  },
  {
   "cell_type": "code",
   "execution_count": 16,
   "metadata": {},
   "outputs": [
    {
     "data": {
      "text/html": [
       "<div>\n",
       "<style scoped>\n",
       "    .dataframe tbody tr th:only-of-type {\n",
       "        vertical-align: middle;\n",
       "    }\n",
       "\n",
       "    .dataframe tbody tr th {\n",
       "        vertical-align: top;\n",
       "    }\n",
       "\n",
       "    .dataframe thead th {\n",
       "        text-align: right;\n",
       "    }\n",
       "</style>\n",
       "<table border=\"1\" class=\"dataframe\">\n",
       "  <thead>\n",
       "    <tr style=\"text-align: right;\">\n",
       "      <th></th>\n",
       "      <th>object_type</th>\n",
       "      <th>number</th>\n",
       "      <th>share</th>\n",
       "    </tr>\n",
       "  </thead>\n",
       "  <tbody>\n",
       "    <tr>\n",
       "      <th>0</th>\n",
       "      <td>столовая</td>\n",
       "      <td>336948</td>\n",
       "      <td>36.824838</td>\n",
       "    </tr>\n",
       "    <tr>\n",
       "      <th>1</th>\n",
       "      <td>кафе</td>\n",
       "      <td>242228</td>\n",
       "      <td>26.472948</td>\n",
       "    </tr>\n",
       "    <tr>\n",
       "      <th>2</th>\n",
       "      <td>ресторан</td>\n",
       "      <td>222966</td>\n",
       "      <td>24.367816</td>\n",
       "    </tr>\n",
       "    <tr>\n",
       "      <th>3</th>\n",
       "      <td>фастфуд</td>\n",
       "      <td>39522</td>\n",
       "      <td>4.319335</td>\n",
       "    </tr>\n",
       "    <tr>\n",
       "      <th>4</th>\n",
       "      <td>бар</td>\n",
       "      <td>35531</td>\n",
       "      <td>3.883161</td>\n",
       "    </tr>\n",
       "    <tr>\n",
       "      <th>5</th>\n",
       "      <td>буфет</td>\n",
       "      <td>29911</td>\n",
       "      <td>3.268955</td>\n",
       "    </tr>\n",
       "    <tr>\n",
       "      <th>6</th>\n",
       "      <td>кафетерий</td>\n",
       "      <td>3631</td>\n",
       "      <td>0.396830</td>\n",
       "    </tr>\n",
       "    <tr>\n",
       "      <th>7</th>\n",
       "      <td>закусочная</td>\n",
       "      <td>2739</td>\n",
       "      <td>0.299344</td>\n",
       "    </tr>\n",
       "    <tr>\n",
       "      <th>8</th>\n",
       "      <td>кулинария</td>\n",
       "      <td>1526</td>\n",
       "      <td>0.166776</td>\n",
       "    </tr>\n",
       "  </tbody>\n",
       "</table>\n",
       "</div>"
      ],
      "text/plain": [
       "  object_type  number      share\n",
       "0    столовая  336948  36.824838\n",
       "1        кафе  242228  26.472948\n",
       "2    ресторан  222966  24.367816\n",
       "3     фастфуд   39522   4.319335\n",
       "4         бар   35531   3.883161\n",
       "5       буфет   29911   3.268955\n",
       "6   кафетерий    3631   0.396830\n",
       "7  закусочная    2739   0.299344\n",
       "8   кулинария    1526   0.166776"
      ]
     },
     "metadata": {},
     "output_type": "display_data"
    }
   ],
   "source": [
    "object_types = data.groupby('object_type').agg({'number':'sum'}).sort_values(by='number', ascending=False).reset_index()\n",
    "object_types['share'] = object_types['number'] / object_types['number'].sum() * 100\n",
    "display(object_types)"
   ]
  },
  {
   "cell_type": "code",
   "execution_count": 17,
   "metadata": {},
   "outputs": [
    {
     "data": {
      "image/png": "[encoded data removed]",
      "text/plain": [
       "<Figure size 576x576 with 1 Axes>"
      ]
     },
     "metadata": {},
     "output_type": "display_data"
    }
   ],
   "source": [
    "plt.figure(figsize=(8, 8))\n",
    "draw_data = object_types['number']\n",
    "labels = object_types['object_type']\n",
    "colors = sns.color_palette(\"husl\", 9)\n",
    "plt.pie(draw_data, labels=labels, colors = colors, autopct = '%0.1f%%')\n",
    "plt.title('Cоотношение видов объектов общественного питания по числу посадочных мест')\n",
    "plt.show()"
   ]
  },
  {
   "cell_type": "markdown",
   "metadata": {},
   "source": [
    "**Выводы**\n",
    "\n",
    "Почти 40% точек общепита - это кафе. Далее следуют столовые (около 17%), рестораны (15%) и точки быстрого питания (12,5%). В совокупности эти 4 вида образуют 84% спектра. На долю остальных пяти видов предприятий общественного питания приходится в совокупности 16%. Таким образом, по видам предприятий распределение неравномерное (опережающие всех кафе в 22 раза опережают замыкающие рэнкинг кулинарии).\n",
    "\n",
    "37% посадочных мест предоставляют столовые, 26% - кафе и 24% - рестораны. Буфеты, бары и точки быстрого питания занимают незначительную долю и дают от 3,3% до 4,3% посадочных мест. Доля кафетериев, закусочных и кулинарий в предоставлении посадочных мест общепита исчезающе мала. \n",
    "\n",
    "Очевидно, данный расклад обусловлен сочетанием запросов посетителей и себестоимости предложения."
   ]
  },
  {
   "cell_type": "markdown",
   "metadata": {},
   "source": [
    "### Соотношение сетевых и несетевых заведений по количеству"
   ]
  },
  {
   "cell_type": "code",
   "execution_count": 18,
   "metadata": {},
   "outputs": [
    {
     "name": "stdout",
     "output_type": "stream",
     "text": [
      "Количественная доля сетевых предприятий: 19.32%    \n",
      "Количественная доля несетевых предприятий: 80.68%\n"
     ]
    }
   ],
   "source": [
    "chain_share = data['chain'].mean()\n",
    "non_chain_share = 1 - chain_share\n",
    "print (f'Количественная доля сетевых предприятий: {chain_share:.2%}\\\n",
    "    \\nКоличественная доля несетевых предприятий: {non_chain_share:.2%}') "
   ]
  },
  {
   "cell_type": "code",
   "execution_count": 19,
   "metadata": {},
   "outputs": [
    {
     "data": {
      "image/png": "[encoded data removed]",
      "text/plain": [
       "<Figure size 360x360 with 1 Axes>"
      ]
     },
     "metadata": {},
     "output_type": "display_data"
    }
   ],
   "source": [
    "plt.figure(figsize=(5, 5))\n",
    "draw_data = [non_chain_share, chain_share]\n",
    "labels = ['Несетевые', 'Сетевые']\n",
    "colors = sns.color_palette('pastel')\n",
    "plt.pie(draw_data, labels=labels, colors = colors, autopct = '%0.1f%%')\n",
    "plt.title('Cоотношение сетевых и несетевых заведений по количеству')\n",
    "plt.show()"
   ]
  },
  {
   "cell_type": "markdown",
   "metadata": {},
   "source": [
    "**Вывод**\n",
    "\n",
    "Несетевые предприятия общественного питания доминируют в количественном аспекте. На их долю приходится почти 81% всех точек. При этом сетевые объекты общественного питания формируют немногим более 19% заведений в Москве."
   ]
  },
  {
   "cell_type": "markdown",
   "metadata": {},
   "source": [
    "### Cетевое распространение по видам объектов общественного питания"
   ]
  },
  {
   "cell_type": "code",
   "execution_count": 20,
   "metadata": {},
   "outputs": [
    {
     "data": {
      "text/html": [
       "<div>\n",
       "<style scoped>\n",
       "    .dataframe tbody tr th:only-of-type {\n",
       "        vertical-align: middle;\n",
       "    }\n",
       "\n",
       "    .dataframe tbody tr th {\n",
       "        vertical-align: top;\n",
       "    }\n",
       "\n",
       "    .dataframe thead th {\n",
       "        text-align: right;\n",
       "    }\n",
       "</style>\n",
       "<table border=\"1\" class=\"dataframe\">\n",
       "  <thead>\n",
       "    <tr style=\"text-align: right;\">\n",
       "      <th></th>\n",
       "      <th>object_type</th>\n",
       "      <th>chain</th>\n",
       "      <th>non_chain</th>\n",
       "    </tr>\n",
       "  </thead>\n",
       "  <tbody>\n",
       "    <tr>\n",
       "      <th>0</th>\n",
       "      <td>фастфуд</td>\n",
       "      <td>41.133645</td>\n",
       "      <td>58.866355</td>\n",
       "    </tr>\n",
       "    <tr>\n",
       "      <th>1</th>\n",
       "      <td>кулинария</td>\n",
       "      <td>28.571429</td>\n",
       "      <td>71.428571</td>\n",
       "    </tr>\n",
       "    <tr>\n",
       "      <th>2</th>\n",
       "      <td>ресторан</td>\n",
       "      <td>23.797025</td>\n",
       "      <td>76.202975</td>\n",
       "    </tr>\n",
       "    <tr>\n",
       "      <th>3</th>\n",
       "      <td>кафе</td>\n",
       "      <td>22.888998</td>\n",
       "      <td>77.111002</td>\n",
       "    </tr>\n",
       "    <tr>\n",
       "      <th>4</th>\n",
       "      <td>закусочная</td>\n",
       "      <td>15.555556</td>\n",
       "      <td>84.444444</td>\n",
       "    </tr>\n",
       "    <tr>\n",
       "      <th>5</th>\n",
       "      <td>кафетерий</td>\n",
       "      <td>13.065327</td>\n",
       "      <td>86.934673</td>\n",
       "    </tr>\n",
       "    <tr>\n",
       "      <th>6</th>\n",
       "      <td>бар</td>\n",
       "      <td>4.327485</td>\n",
       "      <td>95.672515</td>\n",
       "    </tr>\n",
       "    <tr>\n",
       "      <th>7</th>\n",
       "      <td>буфет</td>\n",
       "      <td>1.880342</td>\n",
       "      <td>98.119658</td>\n",
       "    </tr>\n",
       "    <tr>\n",
       "      <th>8</th>\n",
       "      <td>столовая</td>\n",
       "      <td>0.115964</td>\n",
       "      <td>99.884036</td>\n",
       "    </tr>\n",
       "  </tbody>\n",
       "</table>\n",
       "</div>"
      ],
      "text/plain": [
       "  object_type      chain  non_chain\n",
       "0     фастфуд  41.133645  58.866355\n",
       "1   кулинария  28.571429  71.428571\n",
       "2    ресторан  23.797025  76.202975\n",
       "3        кафе  22.888998  77.111002\n",
       "4  закусочная  15.555556  84.444444\n",
       "5   кафетерий  13.065327  86.934673\n",
       "6         бар   4.327485  95.672515\n",
       "7       буфет   1.880342  98.119658\n",
       "8    столовая   0.115964  99.884036"
      ]
     },
     "execution_count": 20,
     "metadata": {},
     "output_type": "execute_result"
    }
   ],
   "source": [
    "chain_by_object = data.groupby('object_type').agg({'chain':'mean'}).sort_values(by='chain', ascending=False).reset_index()\n",
    "chain_by_object['chain'] = 100 * chain_by_object['chain']\n",
    "chain_by_object['non_chain'] = 100 - chain_by_object['chain']\n",
    "chain_by_object"
   ]
  },
  {
   "cell_type": "code",
   "execution_count": 21,
   "metadata": {},
   "outputs": [
    {
     "data": {
      "image/png": "[encoded data removed]",
      "text/plain": [
       "<Figure size 720x360 with 1 Axes>"
      ]
     },
     "metadata": {
      "needs_background": "light"
     },
     "output_type": "display_data"
    }
   ],
   "source": [
    "draw_chain_by_object = chain_by_object.set_index('object_type')\n",
    "draw_chain_by_object.rename(columns={'chain': 'Сетевые', 'non_chain':'Несетевые'}, inplace=True)\n",
    "\n",
    "ax = draw_chain_by_object.plot(kind='bar', figsize=(10, 5), width=0.7,\n",
    "                               title='Cоотношение сетевых и несетевых заведений по количеству',\n",
    "                               xlabel='Виды объектов общественного питания',\n",
    "                               ylabel='Доли сетевых и несетевых объектов, %',\n",
    "                               stacked=True)\n",
    "plt.legend(fontsize='x-large')\n",
    "plt.show();"
   ]
  },
  {
   "cell_type": "markdown",
   "metadata": {},
   "source": [
    "**Выводы**\n",
    "\n",
    "1. Наибольшая доля сетевых точек питания у предприятий быстрой еды (к сетевым структурам относятся более 41% всех предприятий фастфуда). Это обстоятельство хорошо связано с централизацией стандартов приготовления блюд в таком формате.\n",
    "2. \"Второе место\" по распространенности сетевой торговли - у кулинарий (почти 29%).\n",
    "3. Наименее распространены сетевые структуры среди столовых (0,1%), буфетов (1,9%) и баров (4,3%). Столовые и буфеты чаще всего имеют ведомственную принадлежность, а бары склонны к собственной специфике. Бизнес не интересуется сетевыми форматами таких заведений, и в силу этих обстоятельств настоящее время сетевые структуры среди предприятий такого типа редки крайне редки."
   ]
  },
  {
   "cell_type": "markdown",
   "metadata": {},
   "source": [
    "### Распределение посадочных мест по сетевым заведениям"
   ]
  },
  {
   "cell_type": "markdown",
   "metadata": {},
   "source": [
    "#### Анализ по рынку в целом"
   ]
  },
  {
   "cell_type": "code",
   "execution_count": 22,
   "metadata": {},
   "outputs": [],
   "source": [
    "chain_data = data.query('chain == True')"
   ]
  },
  {
   "cell_type": "code",
   "execution_count": 23,
   "metadata": {},
   "outputs": [
    {
     "data": {
      "text/plain": [
       "count    2968.000000\n",
       "mean       52.919811\n",
       "std        57.140644\n",
       "min         0.000000\n",
       "25%        15.000000\n",
       "50%        40.000000\n",
       "75%        72.000000\n",
       "max       580.000000\n",
       "Name: number, dtype: float64"
      ]
     },
     "execution_count": 23,
     "metadata": {},
     "output_type": "execute_result"
    }
   ],
   "source": [
    "chain_data['number'].describe()"
   ]
  },
  {
   "cell_type": "code",
   "execution_count": 24,
   "metadata": {},
   "outputs": [
    {
     "data": {
      "image/png": "[encoded data removed]",
      "text/plain": [
       "<Figure size 720x432 with 1 Axes>"
      ]
     },
     "metadata": {
      "needs_background": "light"
     },
     "output_type": "display_data"
    }
   ],
   "source": [
    "chain_data['number'].plot(kind='hist', bins=60, title='Распределение сетевых заведений по количеству посадочных мест',\\\n",
    "                 figsize=(10, 6))\n",
    "plt.xlabel('Количество посадочных мест')\n",
    "plt.ylabel('Частота (количество точек общепита)');"
   ]
  },
  {
   "cell_type": "code",
   "execution_count": 25,
   "metadata": {},
   "outputs": [
    {
     "data": {
      "image/png": "[encoded data removed]",
      "text/plain": [
       "<Figure size 720x432 with 1 Axes>"
      ]
     },
     "metadata": {
      "needs_background": "light"
     },
     "output_type": "display_data"
    }
   ],
   "source": [
    "chain_data['number'].plot(kind='hist', bins=400, title='Распределение сетевых заведений с малым числом посадочных мест',\\\n",
    "                 label='Диапазон 0 - 20', figsize=(10, 6))\n",
    "plt.legend(loc='upper right', fontsize='large')\n",
    "plt.xlim([0, 20])\n",
    "plt.xlabel('Количество посадочных мест')\n",
    "plt.ylabel('Частота (количество точек общепита)');"
   ]
  },
  {
   "cell_type": "code",
   "execution_count": 26,
   "metadata": {},
   "outputs": [
    {
     "name": "stdout",
     "output_type": "stream",
     "text": [
      "Персентиль 1 - количество посадочных мест: 0\n",
      "Персентиль 9 - количество посадочных мест: 0\n",
      "Персентиль 10 - количество посадочных мест: 2\n",
      "Персентиль 15 - количество посадочных мест: 7\n",
      "Персентиль 20 - количество посадочных мест: 10\n",
      "Персентиль 25 - количество посадочных мест: 15\n",
      "\n",
      "Персентиль 75 - количество посадочных мест: 72\n",
      "Персентиль 80 - количество посадочных мест: 86\n",
      "Персентиль 85 - количество посадочных мест: 96\n",
      "Персентиль 90 - количество посадочных мест: 120\n",
      "Персентиль 95 - количество посадочных мест: 159\n",
      "Персентиль 97.5 - количество посадочных мест: 200\n",
      "Персентиль 99 - количество посадочных мест: 275\n"
     ]
    }
   ],
   "source": [
    "for perc in [1, 9, 10, 15, 20, 25]:\n",
    "    percentile_number = np.percentile(chain_data['number'], perc).round(0).astype('int')\n",
    "    print ('Персентиль', perc, '- количество посадочных мест:', percentile_number)\n",
    "print()\n",
    "for perc in [75, 80, 85, 90, 95, 97.5, 99]:\n",
    "    percentile_number = np.percentile(chain_data['number'], perc).round(0).astype('int')\n",
    "    print ('Персентиль', perc, '- количество посадочных мест:', percentile_number)"
   ]
  },
  {
   "cell_type": "markdown",
   "metadata": {},
   "source": [
    "**Предварительные выводы**\n",
    "\n",
    "1. В сетевом общепите число посадочных мест варьируется от нуля до 580.\n",
    "2. Среднее значение количеств посадочных мест составляет 53, а медианное - 40.\n",
    "3. 9% заведений работают без посадочных мест.\n",
    "4. У четверти заведений количество посадочных мест не превышает 15.\n",
    "5. Только у четверти заведений (наиболее крупные) количество посадочных мест превышает 72, в том числе только у 2,5% число посадочных мест варьируется от 200 до 580.\n",
    "6. В конечном итоге, для предприятий общепита характерно небольшое количество заведений с большим числом посадочных мест."
   ]
  },
  {
   "cell_type": "markdown",
   "metadata": {},
   "source": [
    "#### Анализ по сетям"
   ]
  },
  {
   "cell_type": "markdown",
   "metadata": {},
   "source": [
    "##### Подготовка данных\n",
    "\n",
    "Для проведения распределения количества точек по сетям необходимо \"навести порядок\" в наименованиях сетей, привести основные сети (точнее названия предприятий каждой из сетей) к своему единому стандарту."
   ]
  },
  {
   "cell_type": "code",
   "execution_count": 27,
   "metadata": {},
   "outputs": [
    {
     "data": {
      "text/plain": [
       "724"
      ]
     },
     "execution_count": 27,
     "metadata": {},
     "output_type": "execute_result"
    }
   ],
   "source": [
    "chain_data = chain_data.reset_index()\n",
    "chain_data['object_name'].nunique()"
   ]
  },
  {
   "cell_type": "code",
   "execution_count": 28,
   "metadata": {},
   "outputs": [],
   "source": [
    "# Приведение к единому заглавному регистру\n",
    "chain_data['object_name'] = chain_data['object_name'].str.title()\n",
    "\n",
    "# Удаление явно лишних слов\n",
    "for word in ['Бар ', \n",
    "             'Ресторан ', \n",
    "             'Закусочная ', \n",
    "             'Кафе ',\n",
    "             'Кондитерская ',\n",
    "             'Кондитерская-Пекарня ',\n",
    "             'Пиццерия ', \n",
    "             'Предприятие Быстрого Обслуживания ',\n",
    "             'Траттория ', 'Тратория ',\n",
    "             'Чешская Пивная ',\n",
    "             '«', '»']:\n",
    "   chain_data['object_name'] = chain_data['object_name'].str.replace(word, '')"
   ]
  },
  {
   "cell_type": "code",
   "execution_count": 29,
   "metadata": {},
   "outputs": [],
   "source": [
    "# Создание словаря замен для нестандартных ситуаций\n",
    "dict = {\n",
    "        'В&В Бургер':'В&В Бургер',\n",
    "        'Burger King': 'Burger King', 'Бургер Кинг':'Burger King',\n",
    "        'Coffeeshop':'Coffeeshop',\n",
    "        'Costa':'Costa Coffee', 'Коста':'Costa Coffee',\n",
    "        'Ikea':'Ikea', 'Икеа': 'Ikea',\n",
    "        'Kitchen': 'Kitchen',\n",
    "        'Kfc': 'KFC',\n",
    "        'Krispy Creme':'Krispy Creme', 'Krispy Krem':'Krispy Creme',\n",
    "        'Mcdonalds': 'McDonalds', 'Макдоналдс': 'McDonalds',\n",
    "        'Pomodoro':'Pomodoro',\n",
    "        'Prime (Прайм Стар)':'Prime Прайм Стар', 'Prime Star Прайм Стар':'Prime Прайм Стар',\n",
    "            'Prime Прайм Стар':'Prime Прайм Стар','Prime Прайм Стар Прайм-Кафе':'Prime Прайм Стар',\n",
    "            'Прайм Стар':'Prime Прайм Стар',\n",
    "        'Starbucks': 'Starbucks', 'Старбакс': 'Starbucks',\n",
    "        'Subway':'Subway', 'Сабвей':'Subway',\n",
    "        'Travelers Coffe':'Travelers Coffe',\n",
    "        'Tutti Frutti':'Tutti Frutti',\n",
    "        'Upside Down':'Upside Down',\n",
    "        'Wokker':'Wokker', 'Воккер':'Wokker',\n",
    "        'Азбука Вкуса':'Азбука Вкуса',\n",
    "        'Алло Пицца':'Алло Пицца',\n",
    "        'Американ Сити Пицца':'Американ Сити Пицца',\n",
    "        'Андерсон': 'Андерсон',\n",
    "        'Баскин Роббинс':'Баскин Роббинс',\n",
    "        'Бир Хаус':'Бир Хаус',\n",
    "        'Братьев Караваевых': 'Братья Караваевы', 'Братья Караваевы': 'Братья Караваевы',\n",
    "        'Волконский':'Волконский',    \n",
    "        'Гудман':'Гудман',\n",
    "        'Дабл Би':'Дабл Би',\n",
    "        'Додо Пицца':'Додо Пицца',\n",
    "        \"Домино'С Пицца\": \"Домино'С Пицца\",\n",
    "        'Иль Форно':'Иль Форно', 'Il Forno':'Иль Форно',\n",
    "        'Иль Патио': 'Иль Патио', 'Иль-Патио':'Иль Патио',\n",
    "        'Космик':'Космик',\n",
    "        'Кофемания':'Кофемания',\n",
    "        'Кофе С Собой':'Кофе c cобой',\n",
    "        'Кофе Хаус':'Кофе Хаус', 'Кофе-Хаус':'Кофе Хаус',\n",
    "        'Крошка Картошка':'Крошка Картошка',\n",
    "        'Кулинарное Бюро':'Кулинарное бюро',\n",
    "        'Лукойл': 'АЗС Лукойл',\n",
    "        'Магбургер': 'Магбургер',\n",
    "        'Маки-Маки':'Маки-Маки',\n",
    "        'Милти':'Милти',\n",
    "        'Московская Сеть Кальянных': 'Московская Сеть Кальянных',\n",
    "        'Му-Му': 'Му-Му',\n",
    "        'Мята Lounge':'Мята Lounge',\n",
    "        'Николай':'Николай',\n",
    "        'Нияма':'Нияма',\n",
    "        'Папа Джонс':'Папа Джонс',\n",
    "        'Перекресток':'Перекресток',\n",
    "        'Пицца Паоло':'Пицца Паоло',\n",
    "        'Пицца Хат':'Пицца Хат',    \n",
    "        'Старина Миллер':'Старина Мюллер', 'Старина Мюллер':'Старина Мюллер',\n",
    "        'Советские Времена':'Советские Времена СССР', 'Ссср':'Советские Времена СССР', \n",
    "        'Суши Wok':'Суши Wok', 'Суши Вок':'Суши Wok',\n",
    "        'Суши Сет':'Суши Сет',\n",
    "        'Суши Тун':'Суши Тун', 'Кофе Тун':'Суши Тун',\n",
    "        'Тарас Бульба':'Тарас Бульба',\n",
    "        'Теремок':'Теремок',\n",
    "        'Торро Гриль':'Torro Grill', 'Торро Гриль':'Торро Гриль',\n",
    "        'Урюк':'Урюк',\n",
    "        'Хинкальная': 'Хинкальная',\n",
    "        'Хлеб Насущный': 'Хлеб Насущный',\n",
    "        'Чайхона №1':'Чайхона №1',\n",
    "        'Шантимель':'Шантимель',\n",
    "        'Шоколадница': 'Шоколадница',\n",
    "        'Штолле':'Штолле',\n",
    "        'Якитория': 'Якитория',    \n",
    "       }"
   ]
  },
  {
   "cell_type": "code",
   "execution_count": 30,
   "metadata": {},
   "outputs": [],
   "source": [
    "for key in dict:\n",
    "    chain_data.loc[chain_data['object_name'].str.find(key) != -1, 'object_name'] = dict[key]"
   ]
  },
  {
   "cell_type": "code",
   "execution_count": 31,
   "metadata": {},
   "outputs": [
    {
     "name": "stdout",
     "output_type": "stream",
     "text": [
      "Количество сетей: 291\n"
     ]
    }
   ],
   "source": [
    "number_of_chains = chain_data['object_name'].nunique()\n",
    "print('Количество сетей:', number_of_chains)"
   ]
  },
  {
   "cell_type": "markdown",
   "metadata": {
    "scrolled": false
   },
   "source": [
    "##### Визуализация распределения"
   ]
  },
  {
   "cell_type": "markdown",
   "metadata": {},
   "source": [
    "Для расчета усредненных показателей применяем медиану, так как она лучше \"защищена\" от случаев, выпадающих из стандартных вариантов."
   ]
  },
  {
   "cell_type": "code",
   "execution_count": 32,
   "metadata": {},
   "outputs": [],
   "source": [
    "chain_data_draw = chain_data.groupby('object_name').agg({'object_name':'count','number':'median'})\n",
    "chain_data_draw = chain_data_draw.set_axis(['number_of_object', 'number_of_seats'], axis=1)\n",
    "# chain_data_draw"
   ]
  },
  {
   "cell_type": "markdown",
   "metadata": {},
   "source": [
    "Определим количество сетей, состоящих из одной точки общественного питания."
   ]
  },
  {
   "cell_type": "code",
   "execution_count": 33,
   "metadata": {},
   "outputs": [
    {
     "name": "stdout",
     "output_type": "stream",
     "text": [
      "Количество сетей, состоящих из одной точки общественного питания:  108\n"
     ]
    }
   ],
   "source": [
    "cdd = chain_data_draw.loc[chain_data_draw['number_of_object'] == 1, 'number_of_object'].count()\n",
    "print('Количество сетей, состоящих из одной точки общественного питания: ', cdd)"
   ]
  },
  {
   "cell_type": "markdown",
   "metadata": {},
   "source": [
    "Таким образом, почти треть сетей состоят из одной точки общественного питания. Такое положение дел может быть объяснено тем, что эти сети не имеют московской \"прописки\" и являются филиалами сетей из других регионов России и мира. Однако для рынка Москвы они не являются как таковыми сетевым, и для последующего визуального анализа их целесообразно исключить. "
   ]
  },
  {
   "cell_type": "code",
   "execution_count": 34,
   "metadata": {},
   "outputs": [],
   "source": [
    "chain_data_draw = chain_data_draw.query('number_of_object != 1')"
   ]
  },
  {
   "cell_type": "code",
   "execution_count": 35,
   "metadata": {
    "scrolled": false
   },
   "outputs": [
    {
     "data": {
      "image/png": "[encoded data removed]",
      "text/plain": [
       "<Figure size 576x576 with 3 Axes>"
      ]
     },
     "metadata": {
      "needs_background": "light"
     },
     "output_type": "display_data"
    }
   ],
   "source": [
    "g = sns.jointplot(data=chain_data_draw, x='number_of_seats', y='number_of_object', kind='reg', height=8)\n",
    "g.fig.suptitle('Распределение сетевых заведений по объектам и посадочным местам', fontsize=14, y=1.05)\n",
    "g.set_axis_labels('медианное число посадочных мест', 'количество объектов сети', fontsize=12);"
   ]
  },
  {
   "cell_type": "markdown",
   "metadata": {},
   "source": [
    "Возможно, на результат оказывает большое число сетевых заведений с нулевым и околонулевым числом посадочных мест. Поэтому дополнительно рассмотрим распределения для тех заведений, у которых число посадочных мест начинается с 5."
   ]
  },
  {
   "cell_type": "code",
   "execution_count": 36,
   "metadata": {
    "scrolled": false
   },
   "outputs": [
    {
     "data": {
      "image/png": "[encoded data removed]",
      "text/plain": [
       "<Figure size 576x576 with 3 Axes>"
      ]
     },
     "metadata": {
      "needs_background": "light"
     },
     "output_type": "display_data"
    }
   ],
   "source": [
    "chain_data_draw_5 = chain_data_draw.query('number_of_object >= 5')\n",
    "g = sns.jointplot(data=chain_data_draw_5, x='number_of_seats', y='number_of_object', kind='reg', height=8)\n",
    "g.fig.suptitle('Распределение сетевых заведений по объектам и посадочным местам', fontsize=14, y=1.05)\n",
    "g.set_axis_labels('медианное число посадочных мест', 'количество объектов сети', fontsize=12);"
   ]
  },
  {
   "cell_type": "markdown",
   "metadata": {},
   "source": [
    "**Вывод**\n",
    "\n",
    "У большинства сетей в Москве небольшое количество посадочных мест в каждой точке общественного питания. При этом количество объектов в большинстве сетей невелико.\n",
    "\n",
    "Однако есть и значительные исключения: наиболее крупные сети (с количеством точек свыше 150) имеют медианное число посадочных мест в диапазоне 50-80. Таких сетей всего четыре.\n",
    "\n",
    "Количество сетей, для которых характерно большое число посадочных мест (свыше 120), невелико."
   ]
  },
  {
   "cell_type": "markdown",
   "metadata": {},
   "source": [
    "### Cреднее количество посадочных мест для каждого вида объекта общественного питания"
   ]
  },
  {
   "cell_type": "markdown",
   "metadata": {},
   "source": [
    "Для каждого вида объекта общественного питания опишите среднее количество посадочных мест. Какой вид предоставляет в среднем самое большое количество посадочных мест? Постройте графики."
   ]
  },
  {
   "cell_type": "markdown",
   "metadata": {},
   "source": [
    "Для расчета усредненных значений также будем использовать медианные характеристики."
   ]
  },
  {
   "cell_type": "code",
   "execution_count": 37,
   "metadata": {},
   "outputs": [
    {
     "data": {
      "text/html": [
       "<div>\n",
       "<style scoped>\n",
       "    .dataframe tbody tr th:only-of-type {\n",
       "        vertical-align: middle;\n",
       "    }\n",
       "\n",
       "    .dataframe tbody tr th {\n",
       "        vertical-align: top;\n",
       "    }\n",
       "\n",
       "    .dataframe thead th {\n",
       "        text-align: right;\n",
       "    }\n",
       "</style>\n",
       "<table border=\"1\" class=\"dataframe\">\n",
       "  <thead>\n",
       "    <tr style=\"text-align: right;\">\n",
       "      <th></th>\n",
       "      <th>object_type</th>\n",
       "      <th>number</th>\n",
       "    </tr>\n",
       "  </thead>\n",
       "  <tbody>\n",
       "    <tr>\n",
       "      <th>0</th>\n",
       "      <td>столовая</td>\n",
       "      <td>103</td>\n",
       "    </tr>\n",
       "    <tr>\n",
       "      <th>1</th>\n",
       "      <td>ресторан</td>\n",
       "      <td>80</td>\n",
       "    </tr>\n",
       "    <tr>\n",
       "      <th>2</th>\n",
       "      <td>бар</td>\n",
       "      <td>35</td>\n",
       "    </tr>\n",
       "    <tr>\n",
       "      <th>3</th>\n",
       "      <td>буфет</td>\n",
       "      <td>32</td>\n",
       "    </tr>\n",
       "    <tr>\n",
       "      <th>4</th>\n",
       "      <td>кафе</td>\n",
       "      <td>30</td>\n",
       "    </tr>\n",
       "    <tr>\n",
       "      <th>5</th>\n",
       "      <td>кафетерий</td>\n",
       "      <td>6</td>\n",
       "    </tr>\n",
       "    <tr>\n",
       "      <th>6</th>\n",
       "      <td>фастфуд</td>\n",
       "      <td>5</td>\n",
       "    </tr>\n",
       "    <tr>\n",
       "      <th>7</th>\n",
       "      <td>закусочная</td>\n",
       "      <td>0</td>\n",
       "    </tr>\n",
       "    <tr>\n",
       "      <th>8</th>\n",
       "      <td>кулинария</td>\n",
       "      <td>0</td>\n",
       "    </tr>\n",
       "  </tbody>\n",
       "</table>\n",
       "</div>"
      ],
      "text/plain": [
       "  object_type  number\n",
       "0    столовая     103\n",
       "1    ресторан      80\n",
       "2         бар      35\n",
       "3       буфет      32\n",
       "4        кафе      30\n",
       "5   кафетерий       6\n",
       "6     фастфуд       5\n",
       "7  закусочная       0\n",
       "8   кулинария       0"
      ]
     },
     "metadata": {},
     "output_type": "display_data"
    }
   ],
   "source": [
    "data_of_numbers = data.groupby('object_type').agg({'number':'median'}).sort_values(by='number', ascending=False).reset_index()\n",
    "display(data_of_numbers)"
   ]
  },
  {
   "cell_type": "code",
   "execution_count": 38,
   "metadata": {},
   "outputs": [
    {
     "data": {
      "image/png": "[encoded data removed]",
      "text/plain": [
       "<Figure size 1152x576 with 1 Axes>"
      ]
     },
     "metadata": {
      "needs_background": "light"
     },
     "output_type": "display_data"
    }
   ],
   "source": [
    "plt.figure(figsize=(16, 8))\n",
    "plt.title('Распределения количества посадочных мест')\n",
    "sns.boxplot(x='object_type', y='number', data=data, hue='chain',\n",
    "           order=[\"столовая\", \"ресторан\", \"бар\", \"буфет\", \"кафе\", \"кафетерий\", \"фастфуд\", \"закусочная\", \"кулинария\"])\n",
    "plt.xlabel('Виды объектов общественного питания')\n",
    "plt.ylabel('Количество посадочных мест');"
   ]
  },
  {
   "cell_type": "markdown",
   "metadata": {},
   "source": [
    "**Выводы**\n",
    "\n",
    "1. Столовые характеризуются наибольшим средним (медианным) количеством посадочных мест (103). Разброс значений также самый большой среди всех видов точек общепита.\n",
    "2. Рестораны также представляют крупные предприятия со средним числом посадочных мест 80. Среди ресторанов велико количество точек, которые значительно выделяются вверх по числу посадочных мест. Максимум среди ресторанов - 1700, а в диапазоне 800-1799 посадочных ест находится 5 ресторанов.\n",
    "3. Бары, буфеты и кафе находятся в единой \"весовой категории\". Их средняя (медианная) вместимость в диапазоне 30-35 посадочных мест. Однако только среди кафе имеются точки с большим числом мест (350-600), таких точек 5.\n",
    "4. Кафетерии и точки продажи быстрой еды имеют в среднем всего 5-6 посадочных мест. Но крупнейшие точки фастфуда могут достигать 300-650 посадочных мест - всё зависит от формата заведения.\n",
    "5. Наиболее распространенный формат закусочных и кулинарий - продажа на вынос (большинству из них посадочные места не требуются).\n",
    "6. Сетевые заведения в целом более крупные, чем несетевые. Естественно, они более стандартны по формату (так, сетевые столовые и бары вообще не имеют выбросов). Однако сетевые предприятия быстрой еды стандартизированы меньше (имеется существенное число нестандартно крупных по количеству посадочных мест заведений).\n",
    "\n",
    "Таким образом, вместимость точек общественного питания хотя и имеет свои \"стандарты\" по видам объектов, но в конечном итоге определяется форматом заведения, который следует из бизнес-модели сети или конкретной точки."
   ]
  },
  {
   "cell_type": "markdown",
   "metadata": {},
   "source": [
    "### Основные улицы расположения точек общественного питания"
   ]
  },
  {
   "cell_type": "markdown",
   "metadata": {},
   "source": [
    "Для последующего анализа удаляем все точки общепита вне Москвы."
   ]
  },
  {
   "cell_type": "code",
   "execution_count": 39,
   "metadata": {},
   "outputs": [],
   "source": [
    "data = data[data['address'].str.contains(\"город Москва\")]"
   ]
  },
  {
   "cell_type": "markdown",
   "metadata": {},
   "source": [
    "Создание дополнительного столбца с информацией об улицах в основной таблице данных - с применением функции, использующей полный адрес в качестве аргумента."
   ]
  },
  {
   "cell_type": "code",
   "execution_count": 40,
   "metadata": {},
   "outputs": [],
   "source": [
    "def streets (row):\n",
    "    address_list = row.split(', ')\n",
    "    street = address_list[1]\n",
    "    return street"
   ]
  },
  {
   "cell_type": "code",
   "execution_count": 41,
   "metadata": {
    "scrolled": false
   },
   "outputs": [
    {
     "data": {
      "text/html": [
       "<div>\n",
       "<style scoped>\n",
       "    .dataframe tbody tr th:only-of-type {\n",
       "        vertical-align: middle;\n",
       "    }\n",
       "\n",
       "    .dataframe tbody tr th {\n",
       "        vertical-align: top;\n",
       "    }\n",
       "\n",
       "    .dataframe thead th {\n",
       "        text-align: right;\n",
       "    }\n",
       "</style>\n",
       "<table border=\"1\" class=\"dataframe\">\n",
       "  <thead>\n",
       "    <tr style=\"text-align: right;\">\n",
       "      <th></th>\n",
       "      <th>id</th>\n",
       "      <th>object_name</th>\n",
       "      <th>chain</th>\n",
       "      <th>object_type</th>\n",
       "      <th>address</th>\n",
       "      <th>number</th>\n",
       "      <th>street</th>\n",
       "    </tr>\n",
       "  </thead>\n",
       "  <tbody>\n",
       "    <tr>\n",
       "      <th>0</th>\n",
       "      <td>151635</td>\n",
       "      <td>СМЕТАНА</td>\n",
       "      <td>False</td>\n",
       "      <td>кафе</td>\n",
       "      <td>город Москва, улица Егора Абакумова, дом 9</td>\n",
       "      <td>48</td>\n",
       "      <td>улица Егора Абакумова</td>\n",
       "    </tr>\n",
       "    <tr>\n",
       "      <th>1</th>\n",
       "      <td>77874</td>\n",
       "      <td>Родник</td>\n",
       "      <td>False</td>\n",
       "      <td>кафе</td>\n",
       "      <td>город Москва, улица Талалихина, дом 2/1, корпус 1</td>\n",
       "      <td>35</td>\n",
       "      <td>улица Талалихина</td>\n",
       "    </tr>\n",
       "    <tr>\n",
       "      <th>2</th>\n",
       "      <td>24309</td>\n",
       "      <td>Кафе «Академия»</td>\n",
       "      <td>False</td>\n",
       "      <td>кафе</td>\n",
       "      <td>город Москва, Абельмановская улица, дом 6</td>\n",
       "      <td>95</td>\n",
       "      <td>Абельмановская улица</td>\n",
       "    </tr>\n",
       "  </tbody>\n",
       "</table>\n",
       "</div>"
      ],
      "text/plain": [
       "       id      object_name  chain object_type  \\\n",
       "0  151635          СМЕТАНА  False        кафе   \n",
       "1   77874           Родник  False        кафе   \n",
       "2   24309  Кафе «Академия»  False        кафе   \n",
       "\n",
       "                                             address  number  \\\n",
       "0         город Москва, улица Егора Абакумова, дом 9      48   \n",
       "1  город Москва, улица Талалихина, дом 2/1, корпус 1      35   \n",
       "2          город Москва, Абельмановская улица, дом 6      95   \n",
       "\n",
       "                  street  \n",
       "0  улица Егора Абакумова  \n",
       "1       улица Талалихина  \n",
       "2   Абельмановская улица  "
      ]
     },
     "execution_count": 41,
     "metadata": {},
     "output_type": "execute_result"
    }
   ],
   "source": [
    "data['street'] = data['address'].apply(streets)\n",
    "data.head(3)"
   ]
  },
  {
   "cell_type": "markdown",
   "metadata": {},
   "source": [
    "Для дальнейшей работы с таблицей необходимо привести наименования улиц к единому стандарту. Поэтому в столбце с адресами переносим нарицательную часть в конец."
   ]
  },
  {
   "cell_type": "code",
   "execution_count": 42,
   "metadata": {},
   "outputs": [],
   "source": [
    "def street_order(row):\n",
    "# Критерий переноса первого слова назад (по первой строчной букве):\n",
    "# аллея, бульвар, проспект (площадь, переулок, проезд), тупик (тракт), улица, шоссе\n",
    "    st = row\n",
    "    if st[0] in ['а', 'б', 'п', 'т', 'у', 'ш']:\n",
    "        st = st.split()\n",
    "        st_reposition = st[0].split()\n",
    "        st.remove(st[0])\n",
    "        st.extend(st_reposition)\n",
    "        st = ' '.join(st)\n",
    "#         print(st)\n",
    "        return(st)\n",
    "    else:\n",
    "        return(st)"
   ]
  },
  {
   "cell_type": "code",
   "execution_count": 43,
   "metadata": {
    "scrolled": true
   },
   "outputs": [
    {
     "data": {
      "text/html": [
       "<div>\n",
       "<style scoped>\n",
       "    .dataframe tbody tr th:only-of-type {\n",
       "        vertical-align: middle;\n",
       "    }\n",
       "\n",
       "    .dataframe tbody tr th {\n",
       "        vertical-align: top;\n",
       "    }\n",
       "\n",
       "    .dataframe thead th {\n",
       "        text-align: right;\n",
       "    }\n",
       "</style>\n",
       "<table border=\"1\" class=\"dataframe\">\n",
       "  <thead>\n",
       "    <tr style=\"text-align: right;\">\n",
       "      <th></th>\n",
       "      <th>id</th>\n",
       "      <th>object_name</th>\n",
       "      <th>chain</th>\n",
       "      <th>object_type</th>\n",
       "      <th>address</th>\n",
       "      <th>number</th>\n",
       "      <th>street</th>\n",
       "      <th>new_street</th>\n",
       "    </tr>\n",
       "  </thead>\n",
       "  <tbody>\n",
       "    <tr>\n",
       "      <th>0</th>\n",
       "      <td>151635</td>\n",
       "      <td>СМЕТАНА</td>\n",
       "      <td>False</td>\n",
       "      <td>кафе</td>\n",
       "      <td>город Москва, улица Егора Абакумова, дом 9</td>\n",
       "      <td>48</td>\n",
       "      <td>улица Егора Абакумова</td>\n",
       "      <td>Егора Абакумова улица</td>\n",
       "    </tr>\n",
       "    <tr>\n",
       "      <th>1</th>\n",
       "      <td>77874</td>\n",
       "      <td>Родник</td>\n",
       "      <td>False</td>\n",
       "      <td>кафе</td>\n",
       "      <td>город Москва, улица Талалихина, дом 2/1, корпус 1</td>\n",
       "      <td>35</td>\n",
       "      <td>улица Талалихина</td>\n",
       "      <td>Талалихина улица</td>\n",
       "    </tr>\n",
       "    <tr>\n",
       "      <th>2</th>\n",
       "      <td>24309</td>\n",
       "      <td>Кафе «Академия»</td>\n",
       "      <td>False</td>\n",
       "      <td>кафе</td>\n",
       "      <td>город Москва, Абельмановская улица, дом 6</td>\n",
       "      <td>95</td>\n",
       "      <td>Абельмановская улица</td>\n",
       "      <td>Абельмановская улица</td>\n",
       "    </tr>\n",
       "    <tr>\n",
       "      <th>3</th>\n",
       "      <td>21894</td>\n",
       "      <td>ПИЦЦЕТОРИЯ</td>\n",
       "      <td>True</td>\n",
       "      <td>кафе</td>\n",
       "      <td>город Москва, Абрамцевская улица, дом 1</td>\n",
       "      <td>40</td>\n",
       "      <td>Абрамцевская улица</td>\n",
       "      <td>Абрамцевская улица</td>\n",
       "    </tr>\n",
       "    <tr>\n",
       "      <th>4</th>\n",
       "      <td>119365</td>\n",
       "      <td>Кафе «Вишневая метель»</td>\n",
       "      <td>False</td>\n",
       "      <td>кафе</td>\n",
       "      <td>город Москва, Абрамцевская улица, дом 9, корпус 1</td>\n",
       "      <td>50</td>\n",
       "      <td>Абрамцевская улица</td>\n",
       "      <td>Абрамцевская улица</td>\n",
       "    </tr>\n",
       "  </tbody>\n",
       "</table>\n",
       "</div>"
      ],
      "text/plain": [
       "       id             object_name  chain object_type  \\\n",
       "0  151635                 СМЕТАНА  False        кафе   \n",
       "1   77874                  Родник  False        кафе   \n",
       "2   24309         Кафе «Академия»  False        кафе   \n",
       "3   21894              ПИЦЦЕТОРИЯ   True        кафе   \n",
       "4  119365  Кафе «Вишневая метель»  False        кафе   \n",
       "\n",
       "                                             address  number  \\\n",
       "0         город Москва, улица Егора Абакумова, дом 9      48   \n",
       "1  город Москва, улица Талалихина, дом 2/1, корпус 1      35   \n",
       "2          город Москва, Абельмановская улица, дом 6      95   \n",
       "3            город Москва, Абрамцевская улица, дом 1      40   \n",
       "4  город Москва, Абрамцевская улица, дом 9, корпус 1      50   \n",
       "\n",
       "                  street             new_street  \n",
       "0  улица Егора Абакумова  Егора Абакумова улица  \n",
       "1       улица Талалихина       Талалихина улица  \n",
       "2   Абельмановская улица   Абельмановская улица  \n",
       "3     Абрамцевская улица     Абрамцевская улица  \n",
       "4     Абрамцевская улица     Абрамцевская улица  "
      ]
     },
     "execution_count": 43,
     "metadata": {},
     "output_type": "execute_result"
    }
   ],
   "source": [
    "data['new_street'] = data['street'].apply(street_order)\n",
    "data.head(5)"
   ]
  },
  {
   "cell_type": "code",
   "execution_count": 44,
   "metadata": {},
   "outputs": [
    {
     "data": {
      "text/html": [
       "<div>\n",
       "<style scoped>\n",
       "    .dataframe tbody tr th:only-of-type {\n",
       "        vertical-align: middle;\n",
       "    }\n",
       "\n",
       "    .dataframe tbody tr th {\n",
       "        vertical-align: top;\n",
       "    }\n",
       "\n",
       "    .dataframe thead th {\n",
       "        text-align: right;\n",
       "    }\n",
       "</style>\n",
       "<table border=\"1\" class=\"dataframe\">\n",
       "  <thead>\n",
       "    <tr style=\"text-align: right;\">\n",
       "      <th></th>\n",
       "      <th>id</th>\n",
       "    </tr>\n",
       "    <tr>\n",
       "      <th>new_street</th>\n",
       "      <th></th>\n",
       "    </tr>\n",
       "  </thead>\n",
       "  <tbody>\n",
       "    <tr>\n",
       "      <th>Мира проспект</th>\n",
       "      <td>204</td>\n",
       "    </tr>\n",
       "    <tr>\n",
       "      <th>Профсоюзная улица</th>\n",
       "      <td>182</td>\n",
       "    </tr>\n",
       "    <tr>\n",
       "      <th>Ленинградский проспект</th>\n",
       "      <td>171</td>\n",
       "    </tr>\n",
       "    <tr>\n",
       "      <th>Пресненская набережная</th>\n",
       "      <td>167</td>\n",
       "    </tr>\n",
       "    <tr>\n",
       "      <th>Варшавское шоссе</th>\n",
       "      <td>161</td>\n",
       "    </tr>\n",
       "    <tr>\n",
       "      <th>Ленинский проспект</th>\n",
       "      <td>147</td>\n",
       "    </tr>\n",
       "    <tr>\n",
       "      <th>Вернадского проспект</th>\n",
       "      <td>132</td>\n",
       "    </tr>\n",
       "    <tr>\n",
       "      <th>Кутузовский проспект</th>\n",
       "      <td>114</td>\n",
       "    </tr>\n",
       "    <tr>\n",
       "      <th>Каширское шоссе</th>\n",
       "      <td>112</td>\n",
       "    </tr>\n",
       "    <tr>\n",
       "      <th>Кировоградская улица</th>\n",
       "      <td>110</td>\n",
       "    </tr>\n",
       "  </tbody>\n",
       "</table>\n",
       "</div>"
      ],
      "text/plain": [
       "                         id\n",
       "new_street                 \n",
       "Мира проспект           204\n",
       "Профсоюзная улица       182\n",
       "Ленинградский проспект  171\n",
       "Пресненская набережная  167\n",
       "Варшавское шоссе        161\n",
       "Ленинский проспект      147\n",
       "Вернадского проспект    132\n",
       "Кутузовский проспект    114\n",
       "Каширское шоссе         112\n",
       "Кировоградская улица    110"
      ]
     },
     "execution_count": 44,
     "metadata": {},
     "output_type": "execute_result"
    }
   ],
   "source": [
    "top_10_streets = data.groupby('new_street').agg({'id':'count'}).sort_values(by='id', ascending=False).head(12)\n",
    "# top_10_streets\n",
    "\n",
    "# удаление строк, не относящихся к улицам:\n",
    "top_10_streets = top_10_streets.query('new_street not in [\"город Зеленоград\", \"Сосенское поселение\"]')\n",
    "top_10_streets"
   ]
  },
  {
   "cell_type": "code",
   "execution_count": 45,
   "metadata": {},
   "outputs": [
    {
     "data": {
      "image/png": "[encoded data removed]",
      "text/plain": [
       "<Figure size 720x360 with 1 Axes>"
      ]
     },
     "metadata": {
      "needs_background": "light"
     },
     "output_type": "display_data"
    }
   ],
   "source": [
    "ax = top_10_streets.plot(kind='bar', figsize=(10, 5), width=0.7,\n",
    "                        title='Сосредоточение точек общественного питания по улицам Москвы',\n",
    "                        xlabel='Улицы Москвы',\n",
    "                        ylabel='Количество точек общепита', legend=False, grid=True)\n",
    "# ax.bar_label(ax.containers[0], label_type='edge')\n",
    "# ax.margins(y=0.1)\n",
    "plt.show();"
   ]
  },
  {
   "cell_type": "markdown",
   "metadata": {},
   "source": [
    "**Вывод**\n",
    "\n",
    "1. В Москве 10 улиц характерны размещением большого (от 110 и выше) количества точек общественного питания.\n",
    "2. Эти 10 улиц, очевидно, характеризуются наибольшим спросом (наибольшим клиентопотоком) посетителей.\n",
    "3. Наибольшее число точек общественного питания - на проспекте Мира (204)."
   ]
  },
  {
   "cell_type": "markdown",
   "metadata": {},
   "source": [
    "Дополнительно определим плотность точек общепита на этих улицах."
   ]
  },
  {
   "cell_type": "code",
   "execution_count": 46,
   "metadata": {},
   "outputs": [],
   "source": [
    "# длина улиц\n",
    "length = {\n",
    "    'Варшавское шоссе':22500,\n",
    "    'Ленинский проспект':14000,\n",
    "    'Мира проспект': 8900,\n",
    "    'Профсоюзная улица':9300,\n",
    "    'Вернадского проспект':8000,\n",
    "    'Каширское шоссе':12000,\n",
    "    'Ленинградский проспект':5600,\n",
    "    'Кировоградская улица':4205,\n",
    "    'Кутузовский проспект':8300,\n",
    "    'Пресненская набережная':550\n",
    "}"
   ]
  },
  {
   "cell_type": "code",
   "execution_count": 47,
   "metadata": {},
   "outputs": [
    {
     "data": {
      "text/html": [
       "<div>\n",
       "<style scoped>\n",
       "    .dataframe tbody tr th:only-of-type {\n",
       "        vertical-align: middle;\n",
       "    }\n",
       "\n",
       "    .dataframe tbody tr th {\n",
       "        vertical-align: top;\n",
       "    }\n",
       "\n",
       "    .dataframe thead th {\n",
       "        text-align: right;\n",
       "    }\n",
       "</style>\n",
       "<table border=\"1\" class=\"dataframe\">\n",
       "  <thead>\n",
       "    <tr style=\"text-align: right;\">\n",
       "      <th></th>\n",
       "      <th>new_street</th>\n",
       "      <th>id</th>\n",
       "      <th>length</th>\n",
       "      <th>dencity_per_100</th>\n",
       "    </tr>\n",
       "  </thead>\n",
       "  <tbody>\n",
       "    <tr>\n",
       "      <th>3</th>\n",
       "      <td>Пресненская набережная</td>\n",
       "      <td>167</td>\n",
       "      <td>550</td>\n",
       "      <td>30.36</td>\n",
       "    </tr>\n",
       "    <tr>\n",
       "      <th>2</th>\n",
       "      <td>Ленинградский проспект</td>\n",
       "      <td>171</td>\n",
       "      <td>5600</td>\n",
       "      <td>3.05</td>\n",
       "    </tr>\n",
       "    <tr>\n",
       "      <th>9</th>\n",
       "      <td>Кировоградская улица</td>\n",
       "      <td>110</td>\n",
       "      <td>4205</td>\n",
       "      <td>2.62</td>\n",
       "    </tr>\n",
       "    <tr>\n",
       "      <th>0</th>\n",
       "      <td>Мира проспект</td>\n",
       "      <td>204</td>\n",
       "      <td>8900</td>\n",
       "      <td>2.29</td>\n",
       "    </tr>\n",
       "    <tr>\n",
       "      <th>1</th>\n",
       "      <td>Профсоюзная улица</td>\n",
       "      <td>182</td>\n",
       "      <td>9300</td>\n",
       "      <td>1.96</td>\n",
       "    </tr>\n",
       "    <tr>\n",
       "      <th>6</th>\n",
       "      <td>Вернадского проспект</td>\n",
       "      <td>132</td>\n",
       "      <td>8000</td>\n",
       "      <td>1.65</td>\n",
       "    </tr>\n",
       "    <tr>\n",
       "      <th>7</th>\n",
       "      <td>Кутузовский проспект</td>\n",
       "      <td>114</td>\n",
       "      <td>8300</td>\n",
       "      <td>1.37</td>\n",
       "    </tr>\n",
       "    <tr>\n",
       "      <th>5</th>\n",
       "      <td>Ленинский проспект</td>\n",
       "      <td>147</td>\n",
       "      <td>14000</td>\n",
       "      <td>1.05</td>\n",
       "    </tr>\n",
       "    <tr>\n",
       "      <th>8</th>\n",
       "      <td>Каширское шоссе</td>\n",
       "      <td>112</td>\n",
       "      <td>12000</td>\n",
       "      <td>0.93</td>\n",
       "    </tr>\n",
       "    <tr>\n",
       "      <th>4</th>\n",
       "      <td>Варшавское шоссе</td>\n",
       "      <td>161</td>\n",
       "      <td>22500</td>\n",
       "      <td>0.72</td>\n",
       "    </tr>\n",
       "  </tbody>\n",
       "</table>\n",
       "</div>"
      ],
      "text/plain": [
       "               new_street   id  length  dencity_per_100\n",
       "3  Пресненская набережная  167     550            30.36\n",
       "2  Ленинградский проспект  171    5600             3.05\n",
       "9    Кировоградская улица  110    4205             2.62\n",
       "0           Мира проспект  204    8900             2.29\n",
       "1       Профсоюзная улица  182    9300             1.96\n",
       "6    Вернадского проспект  132    8000             1.65\n",
       "7    Кутузовский проспект  114    8300             1.37\n",
       "5      Ленинский проспект  147   14000             1.05\n",
       "8         Каширское шоссе  112   12000             0.93\n",
       "4        Варшавское шоссе  161   22500             0.72"
      ]
     },
     "metadata": {},
     "output_type": "display_data"
    }
   ],
   "source": [
    "top_10_streets = top_10_streets.reset_index()\n",
    "top_10_streets['length'] = top_10_streets['new_street'].map(length)\n",
    "\n",
    "# Вычисление плотности размещения на 100 погонных метров улицы\n",
    "top_10_streets['dencity_per_100'] = round(top_10_streets['id'] / top_10_streets['length'] * 100, 2)\n",
    "top_10_streets = top_10_streets.sort_values(by='dencity_per_100', ascending=False)\n",
    "display(top_10_streets)"
   ]
  },
  {
   "cell_type": "markdown",
   "metadata": {},
   "source": [
    "**Вывод**\n",
    "\n",
    "1. Несмотря на примерно схожее количество точек общепита на главных 10 улицах, плотность заведений на 100 метров протяженности улиц неравномерна и различается на два порядка.\n",
    "2. Безусловный лидер по плотности - Пресненская набережная (30,4 точки общепита на 100 м). Второй - Ленинский проспект - но он отстает от Пресненской набережной сразу в 10 раз (3,05). Последним оказывается Варшавское шоссе (0,72).\n",
    "3. Таким образом, при выборе места расположения новой точки общественного питания целесообразно исследовать существующую плотность аналогичных заведений (как по плотности вдоль, так и по плотности распределения на площади города).Такое исследование позволит определить уровень конкуренции."
   ]
  },
  {
   "cell_type": "markdown",
   "metadata": {},
   "source": [
    "Для определения соответствий между улицами размещения точек общепита и районами использована таблица \"Мосгаза\".\n",
    "\n",
    "Она находится по адресу:\n",
    "\n",
    "https://frs.noosphere.ru/xmlui/bitstream/handle/20.500.11925/714058/mosgaz-streets.csv?sequence=1&isAllowed=y\n",
    "\n",
    "и для целей проекта загружена по адресу:\n",
    "\n",
    "https://docs.google.com/spreadsheets/d/1Js9OyHai-5dFgcXA0BYefngq3OoNRRjNgD0Q_wzAWIg/edit?usp=sharing"
   ]
  },
  {
   "cell_type": "code",
   "execution_count": 48,
   "metadata": {},
   "outputs": [
    {
     "data": {
      "text/html": [
       "<div>\n",
       "<style scoped>\n",
       "    .dataframe tbody tr th:only-of-type {\n",
       "        vertical-align: middle;\n",
       "    }\n",
       "\n",
       "    .dataframe tbody tr th {\n",
       "        vertical-align: top;\n",
       "    }\n",
       "\n",
       "    .dataframe thead th {\n",
       "        text-align: right;\n",
       "    }\n",
       "</style>\n",
       "<table border=\"1\" class=\"dataframe\">\n",
       "  <thead>\n",
       "    <tr style=\"text-align: right;\">\n",
       "      <th></th>\n",
       "      <th>streetname</th>\n",
       "      <th>areaid</th>\n",
       "      <th>okrug</th>\n",
       "      <th>area</th>\n",
       "    </tr>\n",
       "  </thead>\n",
       "  <tbody>\n",
       "    <tr>\n",
       "      <th>0</th>\n",
       "      <td>Выставочный переулок</td>\n",
       "      <td>17</td>\n",
       "      <td>ЦАО</td>\n",
       "      <td>Пресненский район</td>\n",
       "    </tr>\n",
       "    <tr>\n",
       "      <th>1</th>\n",
       "      <td>улица Гашека</td>\n",
       "      <td>17</td>\n",
       "      <td>ЦАО</td>\n",
       "      <td>Пресненский район</td>\n",
       "    </tr>\n",
       "    <tr>\n",
       "      <th>2</th>\n",
       "      <td>Большая Никитская улица</td>\n",
       "      <td>17</td>\n",
       "      <td>ЦАО</td>\n",
       "      <td>Пресненский район</td>\n",
       "    </tr>\n",
       "    <tr>\n",
       "      <th>3</th>\n",
       "      <td>Глубокий переулок</td>\n",
       "      <td>17</td>\n",
       "      <td>ЦАО</td>\n",
       "      <td>Пресненский район</td>\n",
       "    </tr>\n",
       "    <tr>\n",
       "      <th>4</th>\n",
       "      <td>Большой Гнездниковский переулок</td>\n",
       "      <td>17</td>\n",
       "      <td>ЦАО</td>\n",
       "      <td>Пресненский район</td>\n",
       "    </tr>\n",
       "  </tbody>\n",
       "</table>\n",
       "</div>"
      ],
      "text/plain": [
       "                        streetname  areaid okrug               area\n",
       "0             Выставочный переулок      17   ЦАО  Пресненский район\n",
       "1                     улица Гашека      17   ЦАО  Пресненский район\n",
       "2          Большая Никитская улица      17   ЦАО  Пресненский район\n",
       "3                Глубокий переулок      17   ЦАО  Пресненский район\n",
       "4  Большой Гнездниковский переулок      17   ЦАО  Пресненский район"
      ]
     },
     "execution_count": 48,
     "metadata": {},
     "output_type": "execute_result"
    }
   ],
   "source": [
    "spreadsheet_id = '1Js9OyHai-5dFgcXA0BYefngq3OoNRRjNgD0Q_wzAWIg'\n",
    "file_name = 'https://docs.google.com/spreadsheets/d/{}/export?format=csv'.format(spreadsheet_id)\n",
    "r = requests.get(file_name)\n",
    "df = pd.read_csv(BytesIO(r.content))\n",
    "df.head(5)"
   ]
  },
  {
   "cell_type": "code",
   "execution_count": 49,
   "metadata": {
    "scrolled": true
   },
   "outputs": [
    {
     "data": {
      "text/html": [
       "<div>\n",
       "<style scoped>\n",
       "    .dataframe tbody tr th:only-of-type {\n",
       "        vertical-align: middle;\n",
       "    }\n",
       "\n",
       "    .dataframe tbody tr th {\n",
       "        vertical-align: top;\n",
       "    }\n",
       "\n",
       "    .dataframe thead th {\n",
       "        text-align: right;\n",
       "    }\n",
       "</style>\n",
       "<table border=\"1\" class=\"dataframe\">\n",
       "  <thead>\n",
       "    <tr style=\"text-align: right;\">\n",
       "      <th></th>\n",
       "      <th>streetname</th>\n",
       "      <th>areaid</th>\n",
       "      <th>okrug</th>\n",
       "      <th>area</th>\n",
       "      <th>new_street</th>\n",
       "    </tr>\n",
       "  </thead>\n",
       "  <tbody>\n",
       "    <tr>\n",
       "      <th>0</th>\n",
       "      <td>Выставочный переулок</td>\n",
       "      <td>17</td>\n",
       "      <td>ЦАО</td>\n",
       "      <td>Пресненский район</td>\n",
       "      <td>Выставочный переулок</td>\n",
       "    </tr>\n",
       "    <tr>\n",
       "      <th>1</th>\n",
       "      <td>улица Гашека</td>\n",
       "      <td>17</td>\n",
       "      <td>ЦАО</td>\n",
       "      <td>Пресненский район</td>\n",
       "      <td>Гашека улица</td>\n",
       "    </tr>\n",
       "    <tr>\n",
       "      <th>2</th>\n",
       "      <td>Большая Никитская улица</td>\n",
       "      <td>17</td>\n",
       "      <td>ЦАО</td>\n",
       "      <td>Пресненский район</td>\n",
       "      <td>Большая Никитская улица</td>\n",
       "    </tr>\n",
       "    <tr>\n",
       "      <th>3</th>\n",
       "      <td>Глубокий переулок</td>\n",
       "      <td>17</td>\n",
       "      <td>ЦАО</td>\n",
       "      <td>Пресненский район</td>\n",
       "      <td>Глубокий переулок</td>\n",
       "    </tr>\n",
       "    <tr>\n",
       "      <th>4</th>\n",
       "      <td>Большой Гнездниковский переулок</td>\n",
       "      <td>17</td>\n",
       "      <td>ЦАО</td>\n",
       "      <td>Пресненский район</td>\n",
       "      <td>Большой Гнездниковский переулок</td>\n",
       "    </tr>\n",
       "  </tbody>\n",
       "</table>\n",
       "</div>"
      ],
      "text/plain": [
       "                        streetname  areaid okrug               area  \\\n",
       "0             Выставочный переулок      17   ЦАО  Пресненский район   \n",
       "1                     улица Гашека      17   ЦАО  Пресненский район   \n",
       "2          Большая Никитская улица      17   ЦАО  Пресненский район   \n",
       "3                Глубокий переулок      17   ЦАО  Пресненский район   \n",
       "4  Большой Гнездниковский переулок      17   ЦАО  Пресненский район   \n",
       "\n",
       "                        new_street  \n",
       "0             Выставочный переулок  \n",
       "1                     Гашека улица  \n",
       "2          Большая Никитская улица  \n",
       "3                Глубокий переулок  \n",
       "4  Большой Гнездниковский переулок  "
      ]
     },
     "execution_count": 49,
     "metadata": {},
     "output_type": "execute_result"
    }
   ],
   "source": [
    "df['new_street'] = df['streetname'].apply(street_order)\n",
    "df.head(5)"
   ]
  },
  {
   "cell_type": "markdown",
   "metadata": {},
   "source": [
    "Добавление данных по районам к базовой таблице."
   ]
  },
  {
   "cell_type": "code",
   "execution_count": 50,
   "metadata": {},
   "outputs": [],
   "source": [
    "top_10_streets_area = top_10_streets.merge(df[['new_street', 'area']], on='new_street', how='left')"
   ]
  },
  {
   "cell_type": "code",
   "execution_count": 51,
   "metadata": {
    "scrolled": false
   },
   "outputs": [
    {
     "name": "stdout",
     "output_type": "stream",
     "text": [
      "10 главных улиц общепита находятся в 37 из 125 районов Москвы:\n"
     ]
    },
    {
     "data": {
      "text/plain": [
       "['Академический район',\n",
       " 'Алексеевский район',\n",
       " 'Донской район',\n",
       " 'Ломоносовский район',\n",
       " 'Мещанский район',\n",
       " 'Нагорный район',\n",
       " 'Обручевский район',\n",
       " 'Останкинский район',\n",
       " 'Пресненский район',\n",
       " 'Район Аэропорт',\n",
       " 'Район Беговой',\n",
       " 'Район Гагаринский',\n",
       " 'Район Дорогомилово',\n",
       " 'Район Коньково',\n",
       " 'Район Марьина роща',\n",
       " 'Район Москворечье-Сабурово',\n",
       " 'Район Нагатино-Садовники',\n",
       " 'Район Орехово-Борисово Северное',\n",
       " 'Район Орехово-Борисово Южное',\n",
       " 'Район Проспект Вернадского',\n",
       " 'Район Раменки',\n",
       " 'Район Ростокино',\n",
       " 'Район Свиблово',\n",
       " 'Район Северное Бутово',\n",
       " 'Район Сокол',\n",
       " 'Район Теплый Стан',\n",
       " 'Район Тропарево-Никулино',\n",
       " 'Район Фили-Давыдково',\n",
       " 'Район Черемушки',\n",
       " 'Район Чертаново Северное',\n",
       " 'Район Чертаново Центральное',\n",
       " 'Район Чертаново Южное',\n",
       " 'Район Южное Бутово',\n",
       " 'Район Якиманка',\n",
       " 'Район Ясенево',\n",
       " 'Хорошевский район',\n",
       " 'Ярославский Район']"
      ]
     },
     "metadata": {},
     "output_type": "display_data"
    }
   ],
   "source": [
    "print('10 главных улиц общепита находятся в', top_10_streets_area['area'].nunique(), 'из 125 районов Москвы:')\n",
    "display(list(sorted(top_10_streets_area['area'].unique())))"
   ]
  },
  {
   "cell_type": "code",
   "execution_count": 52,
   "metadata": {
    "scrolled": true
   },
   "outputs": [
    {
     "data": {
      "text/html": [
       "<div>\n",
       "<style scoped>\n",
       "    .dataframe tbody tr th:only-of-type {\n",
       "        vertical-align: middle;\n",
       "    }\n",
       "\n",
       "    .dataframe tbody tr th {\n",
       "        vertical-align: top;\n",
       "    }\n",
       "\n",
       "    .dataframe thead th {\n",
       "        text-align: right;\n",
       "    }\n",
       "</style>\n",
       "<table border=\"1\" class=\"dataframe\">\n",
       "  <thead>\n",
       "    <tr style=\"text-align: right;\">\n",
       "      <th></th>\n",
       "      <th>area</th>\n",
       "    </tr>\n",
       "    <tr>\n",
       "      <th>new_street</th>\n",
       "      <th></th>\n",
       "    </tr>\n",
       "  </thead>\n",
       "  <tbody>\n",
       "    <tr>\n",
       "      <th>Варшавское шоссе</th>\n",
       "      <td>8</td>\n",
       "    </tr>\n",
       "    <tr>\n",
       "      <th>Ленинский проспект</th>\n",
       "      <td>8</td>\n",
       "    </tr>\n",
       "    <tr>\n",
       "      <th>Мира проспект</th>\n",
       "      <td>7</td>\n",
       "    </tr>\n",
       "    <tr>\n",
       "      <th>Профсоюзная улица</th>\n",
       "      <td>6</td>\n",
       "    </tr>\n",
       "    <tr>\n",
       "      <th>Вернадского проспект</th>\n",
       "      <td>5</td>\n",
       "    </tr>\n",
       "    <tr>\n",
       "      <th>Каширское шоссе</th>\n",
       "      <td>4</td>\n",
       "    </tr>\n",
       "    <tr>\n",
       "      <th>Ленинградский проспект</th>\n",
       "      <td>4</td>\n",
       "    </tr>\n",
       "    <tr>\n",
       "      <th>Кировоградская улица</th>\n",
       "      <td>3</td>\n",
       "    </tr>\n",
       "    <tr>\n",
       "      <th>Кутузовский проспект</th>\n",
       "      <td>2</td>\n",
       "    </tr>\n",
       "    <tr>\n",
       "      <th>Пресненская набережная</th>\n",
       "      <td>1</td>\n",
       "    </tr>\n",
       "  </tbody>\n",
       "</table>\n",
       "</div>"
      ],
      "text/plain": [
       "                        area\n",
       "new_street                  \n",
       "Варшавское шоссе           8\n",
       "Ленинский проспект         8\n",
       "Мира проспект              7\n",
       "Профсоюзная улица          6\n",
       "Вернадского проспект       5\n",
       "Каширское шоссе            4\n",
       "Ленинградский проспект     4\n",
       "Кировоградская улица       3\n",
       "Кутузовский проспект       2\n",
       "Пресненская набережная     1"
      ]
     },
     "execution_count": 52,
     "metadata": {},
     "output_type": "execute_result"
    }
   ],
   "source": [
    "top_10_streets_area.groupby('new_street').agg({'area':'count'}).sort_values(by='area', ascending=False)"
   ]
  },
  {
   "cell_type": "markdown",
   "metadata": {},
   "source": [
    "Определим, по скольким районам Москвы проходит каждая из улиц."
   ]
  },
  {
   "cell_type": "code",
   "execution_count": 53,
   "metadata": {},
   "outputs": [
    {
     "data": {
      "text/plain": [
       "array([2, 1])"
      ]
     },
     "execution_count": 53,
     "metadata": {},
     "output_type": "execute_result"
    }
   ],
   "source": [
    "top_10_streets_area['area'].value_counts().unique()"
   ]
  },
  {
   "cell_type": "markdown",
   "metadata": {},
   "source": [
    "**Выводы**\n",
    "\n",
    "1. 10 главных улиц общепита благодаря своей протяженности располагаются более чем 1/3 территории Москвы (если считать площади районов примерно равными).\n",
    "2. Среди 10 главных улиц общепита наибольший охват районов имеют Варшавское шоссе и Ленинский проспект (по 8), а также проспект Мира (7). Наименьший охват у Кировоградской улицы (3), Кутузовского проспекта (2) и Пресненской набережной (1).\n",
    "3. Каждая из этих 10 улиц проходит только лишь по одному или двум районам города."
   ]
  },
  {
   "cell_type": "markdown",
   "metadata": {},
   "source": [
    "### Улицы с единичными объектами общественного питания"
   ]
  },
  {
   "cell_type": "code",
   "execution_count": 54,
   "metadata": {},
   "outputs": [],
   "source": [
    "one_object_streets = data.groupby('new_street').agg({'id':'count'})\n",
    "one_object_streets = one_object_streets.query('id == 1')"
   ]
  },
  {
   "cell_type": "markdown",
   "metadata": {},
   "source": [
    "Добавление данных по районам из внешнего источника к базовой таблице."
   ]
  },
  {
   "cell_type": "code",
   "execution_count": 55,
   "metadata": {},
   "outputs": [
    {
     "name": "stdout",
     "output_type": "stream",
     "text": [
      "Количество улице-районов: 583\n"
     ]
    }
   ],
   "source": [
    "one_object_streets = one_object_streets.merge(df[['new_street', 'area']], on='new_street', how='left')\n",
    "print('Количество улице-районов:', one_object_streets.shape[0])"
   ]
  },
  {
   "cell_type": "code",
   "execution_count": 56,
   "metadata": {
    "scrolled": true
   },
   "outputs": [
    {
     "name": "stdout",
     "output_type": "stream",
     "text": [
      "540 улиц с единичными объектами общепита находятся в 99 из 125 районов Москвы:\n"
     ]
    },
    {
     "data": {
      "text/plain": [
       "array(['Район Аэропорт', 'Басманный район', 'Красносельский район',\n",
       "       'Район Свиблово', 'Рязанский район', 'Район Якиманка',\n",
       "       'Район Хамовники', 'Район Соколиная Гора', 'Даниловский район',\n",
       "       'Мещанский район', 'Таганский район', 'Район Лефортово',\n",
       "       'Район Печатники', 'Район Сокольники', 'Район Замоскворечье',\n",
       "       'Хорошевский район', 'Район Арбат', 'Алексеевский район',\n",
       "       'Район Текстильщики', 'Район Ростокино', 'Район Раменки',\n",
       "       'Район Хорошево-Мневники', 'Район Покровское-Стрешнево',\n",
       "       'Район Марьина роща', 'Район Богородское', 'Нижегородский район',\n",
       "       'Тверской район', 'Лосиноостровский район', 'Район Преображенское',\n",
       "       'Район Ново-Переделкино', nan, 'Район Измайлово',\n",
       "       'Район Северное Измайлово', 'Район Восточное Измайлово',\n",
       "       'Район Беговой', 'Донской район', 'Район Гольяново',\n",
       "       'Войковский Район', 'Савеловский район', 'Район Филевский Парк',\n",
       "       'Район Перово', 'Район Чертаново Южное', 'Южнопортовый Район',\n",
       "       'Головинский район', 'Район Южное Бутово', 'Останкинский район',\n",
       "       'Район Сокол', 'Район Северный', 'Район Кунцево', 'Район Люблино',\n",
       "       'Район Восточный', 'Район Ясенево', 'Район Коньково',\n",
       "       'Район Марфино', 'Обручевский район', 'Район Новогиреево',\n",
       "       'Пресненский район', 'Тимирязевский Район', 'Район Внуково',\n",
       "       'Бескудниковский Район', 'Район Солнцево', 'Район Зюзино',\n",
       "       'Дмитровский район', 'Район Метрогородок', 'Район Митино',\n",
       "       'Район Нагатино-Садовники', 'Можайский Район', 'Район Щукино',\n",
       "       'Район Дорогомилово', 'Бутырский район', 'Район Южное Тушино',\n",
       "       'Район Кузьминки', 'Район Северное Бутово', 'Район Черемушки',\n",
       "       'Район Косино-Ухтомский', 'Район Фили-Давыдково', 'Район Коптево',\n",
       "       'Район Москворечье-Сабурово', 'Район Выхино-Жулебино',\n",
       "       'Район Куркино', 'Ярославский Район', 'Район Царицыно',\n",
       "       'Район Бирюлево Восточное', 'Район Гагаринский', 'Район Котловка',\n",
       "       'Район Строгино', 'Район Отрадное', 'Бабушкинский район',\n",
       "       'Район Марьино', 'Район Очаково-Матвеевское', 'Район Левобережный',\n",
       "       'Молжаниновский район', 'Район Ивановское',\n",
       "       'Район Западное Дегунино', 'Район Северное Медведково',\n",
       "       'Нагорный район', 'Район Матушкино-Савелки', 'Алтуфьевский район',\n",
       "       'Район Чертаново Северное', 'Район Южное Медведково'], dtype=object)"
      ]
     },
     "metadata": {},
     "output_type": "display_data"
    }
   ],
   "source": [
    "print(one_object_streets['new_street'].nunique(),\n",
    "      'улиц с единичными объектами общепита находятся в', one_object_streets['area'].nunique(), 'из 125 районов Москвы:')\n",
    "display(one_object_streets['area'].unique())"
   ]
  },
  {
   "cell_type": "markdown",
   "metadata": {},
   "source": [
    "Определим основные районоы, где сосредоточены такие улицы."
   ]
  },
  {
   "cell_type": "code",
   "execution_count": 57,
   "metadata": {
    "scrolled": false
   },
   "outputs": [
    {
     "data": {
      "text/plain": [
       "Таганский район         27\n",
       "Район Хамовники         26\n",
       "Басманный район         25\n",
       "Тверской район          20\n",
       "Пресненский район       19\n",
       "Район Марьина роща      18\n",
       "Район Арбат             17\n",
       "Мещанский район         16\n",
       "Район Сокольники        15\n",
       "Район Замоскворечье     14\n",
       "Даниловский район       12\n",
       "Район Соколиная Гора    12\n",
       "Район Лефортово         12\n",
       "Район Якиманка          11\n",
       "Район Богородское       10\n",
       "Красносельский район    10\n",
       "Нижегородский район      9\n",
       "Можайский Район          8\n",
       "Район Люблино            8\n",
       "Район Южное Бутово       8\n",
       "Name: area, dtype: int64"
      ]
     },
     "execution_count": 57,
     "metadata": {},
     "output_type": "execute_result"
    }
   ],
   "source": [
    "one_object_streets['area'].value_counts().head(20)"
   ]
  },
  {
   "cell_type": "markdown",
   "metadata": {},
   "source": [
    "**Вывод**\n",
    "1. Улиц с одним единственным объектом общественного питания около 540.\n",
    "2. Это в подавляющем большинстве короткие улицы, которые полностью помещаются в границах своих районов. Только 40 из них пересекают административные границы.\n",
    "3. Такие улицы располагаются как в центре города, так и на его окраинах. Они располагаются в 99 из 125 муниципальных районов Москвы.\n",
    "4. В некоторых из районов располагаются десятки таких улиц (с одним заведением общественного питания). Максимум - 27 - в Таганском районе."
   ]
  },
  {
   "cell_type": "markdown",
   "metadata": {},
   "source": [
    "### Распределение количества посадочных мест для улиц с большим количеством объектов"
   ]
  },
  {
   "cell_type": "markdown",
   "metadata": {},
   "source": [
    "Посмотрите на распределение количества посадочных мест для улиц с большим количеством объектов общественного питания. Какие закономерности можно выявить?"
   ]
  },
  {
   "cell_type": "markdown",
   "metadata": {},
   "source": [
    "В качестве улиц с большим числом объектов общепита примем 10 ранее определенных улиц с количеством таких предприятий от 110 до свыше 200."
   ]
  },
  {
   "cell_type": "code",
   "execution_count": 58,
   "metadata": {},
   "outputs": [],
   "source": [
    "top_10_streets = top_10_streets.reset_index()\n",
    "big_streets = list(top_10_streets['new_street'])\n",
    "big_data = data.query('new_street in @big_streets').reset_index(drop=True)"
   ]
  },
  {
   "cell_type": "code",
   "execution_count": 59,
   "metadata": {},
   "outputs": [
    {
     "data": {
      "text/html": [
       "<div>\n",
       "<style scoped>\n",
       "    .dataframe tbody tr th:only-of-type {\n",
       "        vertical-align: middle;\n",
       "    }\n",
       "\n",
       "    .dataframe tbody tr th {\n",
       "        vertical-align: top;\n",
       "    }\n",
       "\n",
       "    .dataframe thead th {\n",
       "        text-align: right;\n",
       "    }\n",
       "</style>\n",
       "<table border=\"1\" class=\"dataframe\">\n",
       "  <thead>\n",
       "    <tr style=\"text-align: right;\">\n",
       "      <th></th>\n",
       "      <th>id</th>\n",
       "      <th>object_name</th>\n",
       "      <th>chain</th>\n",
       "      <th>object_type</th>\n",
       "      <th>address</th>\n",
       "      <th>number</th>\n",
       "      <th>street</th>\n",
       "      <th>new_street</th>\n",
       "    </tr>\n",
       "  </thead>\n",
       "  <tbody>\n",
       "    <tr>\n",
       "      <th>0</th>\n",
       "      <td>155973</td>\n",
       "      <td>Кафе «Андерсон»</td>\n",
       "      <td>True</td>\n",
       "      <td>кафе</td>\n",
       "      <td>город Москва, Варшавское шоссе, дом 2</td>\n",
       "      <td>150</td>\n",
       "      <td>Варшавское шоссе</td>\n",
       "      <td>Варшавское шоссе</td>\n",
       "    </tr>\n",
       "    <tr>\n",
       "      <th>1</th>\n",
       "      <td>23618</td>\n",
       "      <td>Кафе «Subway»</td>\n",
       "      <td>True</td>\n",
       "      <td>кафе</td>\n",
       "      <td>город Москва, Варшавское шоссе, дом 7, корпус 1</td>\n",
       "      <td>36</td>\n",
       "      <td>Варшавское шоссе</td>\n",
       "      <td>Варшавское шоссе</td>\n",
       "    </tr>\n",
       "    <tr>\n",
       "      <th>2</th>\n",
       "      <td>155852</td>\n",
       "      <td>Кафе «Ламаджо»</td>\n",
       "      <td>False</td>\n",
       "      <td>кафе</td>\n",
       "      <td>город Москва, Варшавское шоссе, дом 29</td>\n",
       "      <td>30</td>\n",
       "      <td>Варшавское шоссе</td>\n",
       "      <td>Варшавское шоссе</td>\n",
       "    </tr>\n",
       "    <tr>\n",
       "      <th>3</th>\n",
       "      <td>152556</td>\n",
       "      <td>Шаурма в пите</td>\n",
       "      <td>False</td>\n",
       "      <td>фастфуд</td>\n",
       "      <td>город Москва, Варшавское шоссе, дом 72, корпус 2</td>\n",
       "      <td>0</td>\n",
       "      <td>Варшавское шоссе</td>\n",
       "      <td>Варшавское шоссе</td>\n",
       "    </tr>\n",
       "    <tr>\n",
       "      <th>4</th>\n",
       "      <td>120658</td>\n",
       "      <td>Выпечка</td>\n",
       "      <td>False</td>\n",
       "      <td>кафетерий</td>\n",
       "      <td>город Москва, Варшавское шоссе, дом 100</td>\n",
       "      <td>2</td>\n",
       "      <td>Варшавское шоссе</td>\n",
       "      <td>Варшавское шоссе</td>\n",
       "    </tr>\n",
       "  </tbody>\n",
       "</table>\n",
       "</div>"
      ],
      "text/plain": [
       "       id      object_name  chain object_type  \\\n",
       "0  155973  Кафе «Андерсон»   True        кафе   \n",
       "1   23618    Кафе «Subway»   True        кафе   \n",
       "2  155852   Кафе «Ламаджо»  False        кафе   \n",
       "3  152556    Шаурма в пите  False     фастфуд   \n",
       "4  120658          Выпечка  False   кафетерий   \n",
       "\n",
       "                                            address  number            street  \\\n",
       "0             город Москва, Варшавское шоссе, дом 2     150  Варшавское шоссе   \n",
       "1   город Москва, Варшавское шоссе, дом 7, корпус 1      36  Варшавское шоссе   \n",
       "2            город Москва, Варшавское шоссе, дом 29      30  Варшавское шоссе   \n",
       "3  город Москва, Варшавское шоссе, дом 72, корпус 2       0  Варшавское шоссе   \n",
       "4           город Москва, Варшавское шоссе, дом 100       2  Варшавское шоссе   \n",
       "\n",
       "         new_street  \n",
       "0  Варшавское шоссе  \n",
       "1  Варшавское шоссе  \n",
       "2  Варшавское шоссе  \n",
       "3  Варшавское шоссе  \n",
       "4  Варшавское шоссе  "
      ]
     },
     "execution_count": 59,
     "metadata": {},
     "output_type": "execute_result"
    }
   ],
   "source": [
    "big_data.head(5)"
   ]
  },
  {
   "cell_type": "markdown",
   "metadata": {},
   "source": [
    "Определим \"стандарт\" числа посадочных мест по видам предприятий общественного питания на 10 улицах Москвы с наибольшим числом таких заведений."
   ]
  },
  {
   "cell_type": "code",
   "execution_count": 60,
   "metadata": {},
   "outputs": [
    {
     "data": {
      "text/html": [
       "<div>\n",
       "<style scoped>\n",
       "    .dataframe tbody tr th:only-of-type {\n",
       "        vertical-align: middle;\n",
       "    }\n",
       "\n",
       "    .dataframe tbody tr th {\n",
       "        vertical-align: top;\n",
       "    }\n",
       "\n",
       "    .dataframe thead th {\n",
       "        text-align: right;\n",
       "    }\n",
       "</style>\n",
       "<table border=\"1\" class=\"dataframe\">\n",
       "  <thead>\n",
       "    <tr style=\"text-align: right;\">\n",
       "      <th></th>\n",
       "      <th>object_type</th>\n",
       "      <th>number</th>\n",
       "    </tr>\n",
       "  </thead>\n",
       "  <tbody>\n",
       "    <tr>\n",
       "      <th>0</th>\n",
       "      <td>столовая</td>\n",
       "      <td>96</td>\n",
       "    </tr>\n",
       "    <tr>\n",
       "      <th>1</th>\n",
       "      <td>ресторан</td>\n",
       "      <td>80</td>\n",
       "    </tr>\n",
       "    <tr>\n",
       "      <th>2</th>\n",
       "      <td>бар</td>\n",
       "      <td>40</td>\n",
       "    </tr>\n",
       "    <tr>\n",
       "      <th>3</th>\n",
       "      <td>кафе</td>\n",
       "      <td>32</td>\n",
       "    </tr>\n",
       "    <tr>\n",
       "      <th>4</th>\n",
       "      <td>буфет</td>\n",
       "      <td>26</td>\n",
       "    </tr>\n",
       "    <tr>\n",
       "      <th>5</th>\n",
       "      <td>фастфуд</td>\n",
       "      <td>8</td>\n",
       "    </tr>\n",
       "    <tr>\n",
       "      <th>6</th>\n",
       "      <td>кафетерий</td>\n",
       "      <td>6</td>\n",
       "    </tr>\n",
       "    <tr>\n",
       "      <th>7</th>\n",
       "      <td>закусочная</td>\n",
       "      <td>4</td>\n",
       "    </tr>\n",
       "    <tr>\n",
       "      <th>8</th>\n",
       "      <td>кулинария</td>\n",
       "      <td>4</td>\n",
       "    </tr>\n",
       "  </tbody>\n",
       "</table>\n",
       "</div>"
      ],
      "text/plain": [
       "  object_type  number\n",
       "0    столовая      96\n",
       "1    ресторан      80\n",
       "2         бар      40\n",
       "3        кафе      32\n",
       "4       буфет      26\n",
       "5     фастфуд       8\n",
       "6   кафетерий       6\n",
       "7  закусочная       4\n",
       "8   кулинария       4"
      ]
     },
     "metadata": {},
     "output_type": "display_data"
    }
   ],
   "source": [
    "data_of_numbers = big_data.groupby('object_type').agg({'number':'median'}).sort_values(by='number', ascending=False).reset_index()\n",
    "display(data_of_numbers)"
   ]
  },
  {
   "cell_type": "code",
   "execution_count": 61,
   "metadata": {},
   "outputs": [
    {
     "data": {
      "image/png": "[encoded data removed]",
      "text/plain": [
       "<Figure size 1008x576 with 1 Axes>"
      ]
     },
     "metadata": {
      "needs_background": "light"
     },
     "output_type": "display_data"
    }
   ],
   "source": [
    "plt.figure(figsize=(14, 8))\n",
    "plt.title('Распределения количества посадочных мест')\n",
    "sns.boxplot(x='object_type', y='number', data=big_data, hue = 'chain',\n",
    "           order=[\"столовая\", \"ресторан\", \"бар\", \"буфет\", \"кафе\", \"кафетерий\", \"фастфуд\", \"закусочная\", \"кулинария\"])\n",
    "plt.xlabel('Виды объектов общественного питания')\n",
    "plt.ylabel('Количество посадочных мест');"
   ]
  },
  {
   "cell_type": "markdown",
   "metadata": {},
   "source": [
    "**Выводы**\n",
    "1. В целом, распределение количества посадочных мест на 10 основных улицах схоже с распределением в целом по Москве.\n",
    "2. Примечательно, что на 10 крупнейших по числу заведений общепита отсутствуют сетевые столовые.\n",
    "3. В стандартном исполнении наиболее крупные объекты - это столовые (медианное значение посадочных мест - 96) и рестораны (80). К средней категории вместительности относятся бары (40), кафе (32) и буфеты (26). \"Нижний ярус\" по вместимости занимают предприятия быстрого питания (8), кафетерии (6), а также закусочные и кулинарии (у них в наиболее массовом варианте всего по 4 посадочных места)."
   ]
  },
  {
   "cell_type": "markdown",
   "metadata": {},
   "source": [
    "Рассмотрм распределение количества посадочных мест по каждой из улиц."
   ]
  },
  {
   "cell_type": "code",
   "execution_count": 62,
   "metadata": {},
   "outputs": [
    {
     "data": {
      "text/html": [
       "<div>\n",
       "<style scoped>\n",
       "    .dataframe tbody tr th:only-of-type {\n",
       "        vertical-align: middle;\n",
       "    }\n",
       "\n",
       "    .dataframe tbody tr th {\n",
       "        vertical-align: top;\n",
       "    }\n",
       "\n",
       "    .dataframe thead th {\n",
       "        text-align: right;\n",
       "    }\n",
       "</style>\n",
       "<table border=\"1\" class=\"dataframe\">\n",
       "  <thead>\n",
       "    <tr style=\"text-align: right;\">\n",
       "      <th></th>\n",
       "      <th>mean_seats</th>\n",
       "      <th>median_seats</th>\n",
       "    </tr>\n",
       "    <tr>\n",
       "      <th>street</th>\n",
       "      <th></th>\n",
       "      <th></th>\n",
       "    </tr>\n",
       "  </thead>\n",
       "  <tbody>\n",
       "    <tr>\n",
       "      <th>проспект Мира</th>\n",
       "      <td>62.696078</td>\n",
       "      <td>46.5</td>\n",
       "    </tr>\n",
       "    <tr>\n",
       "      <th>Ленинский проспект</th>\n",
       "      <td>63.469388</td>\n",
       "      <td>45.0</td>\n",
       "    </tr>\n",
       "    <tr>\n",
       "      <th>Кутузовский проспект</th>\n",
       "      <td>85.061404</td>\n",
       "      <td>40.0</td>\n",
       "    </tr>\n",
       "    <tr>\n",
       "      <th>Ленинградский проспект</th>\n",
       "      <td>52.690058</td>\n",
       "      <td>40.0</td>\n",
       "    </tr>\n",
       "    <tr>\n",
       "      <th>проспект Вернадского</th>\n",
       "      <td>66.969697</td>\n",
       "      <td>40.0</td>\n",
       "    </tr>\n",
       "    <tr>\n",
       "      <th>Варшавское шоссе</th>\n",
       "      <td>52.875776</td>\n",
       "      <td>30.0</td>\n",
       "    </tr>\n",
       "    <tr>\n",
       "      <th>Кировоградская улица</th>\n",
       "      <td>59.790909</td>\n",
       "      <td>30.0</td>\n",
       "    </tr>\n",
       "    <tr>\n",
       "      <th>Пресненская набережная</th>\n",
       "      <td>45.844311</td>\n",
       "      <td>30.0</td>\n",
       "    </tr>\n",
       "    <tr>\n",
       "      <th>Каширское шоссе</th>\n",
       "      <td>55.098214</td>\n",
       "      <td>25.0</td>\n",
       "    </tr>\n",
       "    <tr>\n",
       "      <th>Профсоюзная улица</th>\n",
       "      <td>46.412088</td>\n",
       "      <td>24.0</td>\n",
       "    </tr>\n",
       "  </tbody>\n",
       "</table>\n",
       "</div>"
      ],
      "text/plain": [
       "                        mean_seats  median_seats\n",
       "street                                          \n",
       "проспект Мира            62.696078          46.5\n",
       "Ленинский проспект       63.469388          45.0\n",
       "Кутузовский проспект     85.061404          40.0\n",
       "Ленинградский проспект   52.690058          40.0\n",
       "проспект Вернадского     66.969697          40.0\n",
       "Варшавское шоссе         52.875776          30.0\n",
       "Кировоградская улица     59.790909          30.0\n",
       "Пресненская набережная   45.844311          30.0\n",
       "Каширское шоссе          55.098214          25.0\n",
       "Профсоюзная улица        46.412088          24.0"
      ]
     },
     "execution_count": 62,
     "metadata": {},
     "output_type": "execute_result"
    }
   ],
   "source": [
    "big_data_seats = big_data.groupby('street').agg({'number':['mean', 'median']})\n",
    "big_data_seats.columns = ['mean_seats', 'median_seats']\n",
    "big_data_seats.sort_values(by='median_seats', ascending=False)"
   ]
  },
  {
   "cell_type": "code",
   "execution_count": 63,
   "metadata": {},
   "outputs": [
    {
     "data": {
      "image/png": "[encoded data removed]",
      "text/plain": [
       "<Figure size 1008x576 with 1 Axes>"
      ]
     },
     "metadata": {
      "needs_background": "light"
     },
     "output_type": "display_data"
    }
   ],
   "source": [
    "# Формируем короткое наименование улиц для диаграммы\n",
    "big_data['short_street'] = big_data['new_street'].transform(lambda x: str(x).split(\" \")[0])\n",
    "\n",
    "plt.figure(figsize=(14, 8))\n",
    "plt.title('Распределения количества посадочных мест')\n",
    "sns.boxplot(x='short_street', y='number', data=big_data)\n",
    "plt.xlabel('Улицы')\n",
    "plt.ylabel('Количество посадочных мест');"
   ]
  },
  {
   "cell_type": "markdown",
   "metadata": {},
   "source": [
    "**Выводы**\n",
    "\n",
    "1. Среднее число посадочных мест по 10 главным улицам варьируется от 46 до 63, а медианное от 24 до 46. Примечательно, что на 3 их 10 улиц \"стантартом\" авляется 30 посадочных мест, а еще на трех - 40 посадочных мест. Более крупные заведения характерны для проспекта Мира (\"стандарт\" 46 посадочных мест) и Ленинского проспекта (45). Самые компактные точки общепита на Каширском шоссе (25) и Профсоюзной улице (24).\n",
    "2. Самые крупные заведения (свыше 1000) человек располагаются на Кутузовском (2 точки) и проспекте Вернадского (1). Остальные улицы и проспекты имеют примерно схожую структуру по распределению численности посадочных мест."
   ]
  },
  {
   "cell_type": "markdown",
   "metadata": {},
   "source": [
    "Определим структуру посадочных мест на 10 улицах Москвы с наибольшим количеством заведений по видам объектов общественного питания."
   ]
  },
  {
   "cell_type": "code",
   "execution_count": 64,
   "metadata": {},
   "outputs": [
    {
     "data": {
      "text/html": [
       "<div>\n",
       "<style scoped>\n",
       "    .dataframe tbody tr th:only-of-type {\n",
       "        vertical-align: middle;\n",
       "    }\n",
       "\n",
       "    .dataframe tbody tr th {\n",
       "        vertical-align: top;\n",
       "    }\n",
       "\n",
       "    .dataframe thead th {\n",
       "        text-align: right;\n",
       "    }\n",
       "</style>\n",
       "<table border=\"1\" class=\"dataframe\">\n",
       "  <thead>\n",
       "    <tr style=\"text-align: right;\">\n",
       "      <th></th>\n",
       "      <th>id</th>\n",
       "      <th>object_name</th>\n",
       "      <th>chain</th>\n",
       "      <th>object_type</th>\n",
       "      <th>address</th>\n",
       "      <th>number</th>\n",
       "      <th>street</th>\n",
       "      <th>new_street</th>\n",
       "      <th>short_street</th>\n",
       "    </tr>\n",
       "  </thead>\n",
       "  <tbody>\n",
       "    <tr>\n",
       "      <th>0</th>\n",
       "      <td>155973</td>\n",
       "      <td>Кафе «Андерсон»</td>\n",
       "      <td>True</td>\n",
       "      <td>кафе</td>\n",
       "      <td>город Москва, Варшавское шоссе, дом 2</td>\n",
       "      <td>150</td>\n",
       "      <td>Варшавское шоссе</td>\n",
       "      <td>Варшавское шоссе</td>\n",
       "      <td>Варшавское</td>\n",
       "    </tr>\n",
       "    <tr>\n",
       "      <th>1</th>\n",
       "      <td>23618</td>\n",
       "      <td>Кафе «Subway»</td>\n",
       "      <td>True</td>\n",
       "      <td>кафе</td>\n",
       "      <td>город Москва, Варшавское шоссе, дом 7, корпус 1</td>\n",
       "      <td>36</td>\n",
       "      <td>Варшавское шоссе</td>\n",
       "      <td>Варшавское шоссе</td>\n",
       "      <td>Варшавское</td>\n",
       "    </tr>\n",
       "    <tr>\n",
       "      <th>2</th>\n",
       "      <td>155852</td>\n",
       "      <td>Кафе «Ламаджо»</td>\n",
       "      <td>False</td>\n",
       "      <td>кафе</td>\n",
       "      <td>город Москва, Варшавское шоссе, дом 29</td>\n",
       "      <td>30</td>\n",
       "      <td>Варшавское шоссе</td>\n",
       "      <td>Варшавское шоссе</td>\n",
       "      <td>Варшавское</td>\n",
       "    </tr>\n",
       "  </tbody>\n",
       "</table>\n",
       "</div>"
      ],
      "text/plain": [
       "       id      object_name  chain object_type  \\\n",
       "0  155973  Кафе «Андерсон»   True        кафе   \n",
       "1   23618    Кафе «Subway»   True        кафе   \n",
       "2  155852   Кафе «Ламаджо»  False        кафе   \n",
       "\n",
       "                                           address  number            street  \\\n",
       "0            город Москва, Варшавское шоссе, дом 2     150  Варшавское шоссе   \n",
       "1  город Москва, Варшавское шоссе, дом 7, корпус 1      36  Варшавское шоссе   \n",
       "2           город Москва, Варшавское шоссе, дом 29      30  Варшавское шоссе   \n",
       "\n",
       "         new_street short_street  \n",
       "0  Варшавское шоссе   Варшавское  \n",
       "1  Варшавское шоссе   Варшавское  \n",
       "2  Варшавское шоссе   Варшавское  "
      ]
     },
     "execution_count": 64,
     "metadata": {},
     "output_type": "execute_result"
    }
   ],
   "source": [
    "big_data.head(3)"
   ]
  },
  {
   "cell_type": "code",
   "execution_count": 65,
   "metadata": {},
   "outputs": [
    {
     "data": {
      "text/html": [
       "<div>\n",
       "<style scoped>\n",
       "    .dataframe tbody tr th:only-of-type {\n",
       "        vertical-align: middle;\n",
       "    }\n",
       "\n",
       "    .dataframe tbody tr th {\n",
       "        vertical-align: top;\n",
       "    }\n",
       "\n",
       "    .dataframe thead th {\n",
       "        text-align: right;\n",
       "    }\n",
       "</style>\n",
       "<table border=\"1\" class=\"dataframe\">\n",
       "  <thead>\n",
       "    <tr style=\"text-align: right;\">\n",
       "      <th>short_street</th>\n",
       "      <th>Варшавское</th>\n",
       "      <th>Вернадского</th>\n",
       "      <th>Каширское</th>\n",
       "      <th>Кировоградская</th>\n",
       "      <th>Кутузовский</th>\n",
       "      <th>Ленинградский</th>\n",
       "      <th>Ленинский</th>\n",
       "      <th>Мира</th>\n",
       "      <th>Пресненская</th>\n",
       "      <th>Профсоюзная</th>\n",
       "    </tr>\n",
       "    <tr>\n",
       "      <th>object_type</th>\n",
       "      <th></th>\n",
       "      <th></th>\n",
       "      <th></th>\n",
       "      <th></th>\n",
       "      <th></th>\n",
       "      <th></th>\n",
       "      <th></th>\n",
       "      <th></th>\n",
       "      <th></th>\n",
       "      <th></th>\n",
       "    </tr>\n",
       "  </thead>\n",
       "  <tbody>\n",
       "    <tr>\n",
       "      <th>бар</th>\n",
       "      <td>216</td>\n",
       "      <td>71</td>\n",
       "      <td>45</td>\n",
       "      <td>255</td>\n",
       "      <td>238</td>\n",
       "      <td>502</td>\n",
       "      <td>148</td>\n",
       "      <td>900</td>\n",
       "      <td>220</td>\n",
       "      <td>171</td>\n",
       "    </tr>\n",
       "    <tr>\n",
       "      <th>буфет</th>\n",
       "      <td>50</td>\n",
       "      <td>220</td>\n",
       "      <td>102</td>\n",
       "      <td>24</td>\n",
       "      <td>15</td>\n",
       "      <td>200</td>\n",
       "      <td>250</td>\n",
       "      <td>90</td>\n",
       "      <td>237</td>\n",
       "      <td>230</td>\n",
       "    </tr>\n",
       "    <tr>\n",
       "      <th>закусочная</th>\n",
       "      <td>7</td>\n",
       "      <td>60</td>\n",
       "      <td>0</td>\n",
       "      <td>117</td>\n",
       "      <td>0</td>\n",
       "      <td>0</td>\n",
       "      <td>4</td>\n",
       "      <td>91</td>\n",
       "      <td>0</td>\n",
       "      <td>2</td>\n",
       "    </tr>\n",
       "    <tr>\n",
       "      <th>кафе</th>\n",
       "      <td>2598</td>\n",
       "      <td>2238</td>\n",
       "      <td>1216</td>\n",
       "      <td>795</td>\n",
       "      <td>1246</td>\n",
       "      <td>2557</td>\n",
       "      <td>2435</td>\n",
       "      <td>6078</td>\n",
       "      <td>3459</td>\n",
       "      <td>3656</td>\n",
       "    </tr>\n",
       "    <tr>\n",
       "      <th>кафетерий</th>\n",
       "      <td>106</td>\n",
       "      <td>53</td>\n",
       "      <td>90</td>\n",
       "      <td>10</td>\n",
       "      <td>0</td>\n",
       "      <td>42</td>\n",
       "      <td>26</td>\n",
       "      <td>23</td>\n",
       "      <td>31</td>\n",
       "      <td>54</td>\n",
       "    </tr>\n",
       "    <tr>\n",
       "      <th>кулинария</th>\n",
       "      <td>2</td>\n",
       "      <td>12</td>\n",
       "      <td>0</td>\n",
       "      <td>22</td>\n",
       "      <td>10</td>\n",
       "      <td>72</td>\n",
       "      <td>0</td>\n",
       "      <td>37</td>\n",
       "      <td>0</td>\n",
       "      <td>24</td>\n",
       "    </tr>\n",
       "    <tr>\n",
       "      <th>ресторан</th>\n",
       "      <td>1362</td>\n",
       "      <td>1995</td>\n",
       "      <td>1071</td>\n",
       "      <td>1572</td>\n",
       "      <td>7277</td>\n",
       "      <td>4092</td>\n",
       "      <td>3896</td>\n",
       "      <td>3627</td>\n",
       "      <td>3655</td>\n",
       "      <td>2039</td>\n",
       "    </tr>\n",
       "    <tr>\n",
       "      <th>столовая</th>\n",
       "      <td>3176</td>\n",
       "      <td>3346</td>\n",
       "      <td>2592</td>\n",
       "      <td>3120</td>\n",
       "      <td>711</td>\n",
       "      <td>1148</td>\n",
       "      <td>2365</td>\n",
       "      <td>797</td>\n",
       "      <td>0</td>\n",
       "      <td>1971</td>\n",
       "    </tr>\n",
       "    <tr>\n",
       "      <th>фастфуд</th>\n",
       "      <td>996</td>\n",
       "      <td>845</td>\n",
       "      <td>1055</td>\n",
       "      <td>662</td>\n",
       "      <td>200</td>\n",
       "      <td>397</td>\n",
       "      <td>206</td>\n",
       "      <td>1147</td>\n",
       "      <td>54</td>\n",
       "      <td>300</td>\n",
       "    </tr>\n",
       "  </tbody>\n",
       "</table>\n",
       "</div>"
      ],
      "text/plain": [
       "short_street  Варшавское  Вернадского  Каширское  Кировоградская  Кутузовский  \\\n",
       "object_type                                                                     \n",
       "бар                  216           71         45             255          238   \n",
       "буфет                 50          220        102              24           15   \n",
       "закусочная             7           60          0             117            0   \n",
       "кафе                2598         2238       1216             795         1246   \n",
       "кафетерий            106           53         90              10            0   \n",
       "кулинария              2           12          0              22           10   \n",
       "ресторан            1362         1995       1071            1572         7277   \n",
       "столовая            3176         3346       2592            3120          711   \n",
       "фастфуд              996          845       1055             662          200   \n",
       "\n",
       "short_street  Ленинградский  Ленинский  Мира  Пресненская  Профсоюзная  \n",
       "object_type                                                             \n",
       "бар                     502        148   900          220          171  \n",
       "буфет                   200        250    90          237          230  \n",
       "закусочная                0          4    91            0            2  \n",
       "кафе                   2557       2435  6078         3459         3656  \n",
       "кафетерий                42         26    23           31           54  \n",
       "кулинария                72          0    37            0           24  \n",
       "ресторан               4092       3896  3627         3655         2039  \n",
       "столовая               1148       2365   797            0         1971  \n",
       "фастфуд                 397        206  1147           54          300  "
      ]
     },
     "metadata": {},
     "output_type": "display_data"
    }
   ],
   "source": [
    "big_data_pivot = big_data.pivot_table(index='object_type', columns='short_street', values='number', aggfunc='sum',\n",
    "                                     fill_value=0)\n",
    "display(big_data_pivot)"
   ]
  },
  {
   "cell_type": "code",
   "execution_count": 66,
   "metadata": {},
   "outputs": [
    {
     "data": {
      "image/png": "[encoded data removed]",
      "text/plain": [
       "<Figure size 864x504 with 1 Axes>"
      ]
     },
     "metadata": {
      "needs_background": "light"
     },
     "output_type": "display_data"
    }
   ],
   "source": [
    "ax = big_data_pivot.T.plot(kind='bar', figsize=(12, 7), width=0.7,\n",
    "                               title='Структура посадочных мест по видам объектов общественного питания',\n",
    "                               xlabel='10 улиц Москвы с наибольшим количеством объектов общественного питания',\n",
    "                               ylabel='Количество посадочных мест',\n",
    "                               stacked=True)\n",
    "# plt.legend(fontsize='x-large')\n",
    "plt.show();"
   ]
  },
  {
   "cell_type": "markdown",
   "metadata": {},
   "source": [
    "**Выводы**\n",
    "\n",
    "1. Структура посадочных мест по видам объектов общественного питания в целом сходна, однако есть исключения:\n",
    "- Кутузовский проспект - доминирование ресторанов,\n",
    "- проспект Мира - повышена доля баров и кафе,\n",
    "- Пресненская набережная - доминируют рестораны и кафе.\n",
    "2. Таким образом, предложение рынка (чисто посадочных мест и их структура по видам заведений) учитывает особенности структуры спроса посетителей, которые формируют трафик (клиентопоток) на этих улицах."
   ]
  },
  {
   "cell_type": "markdown",
   "metadata": {},
   "source": [
    "### Итоговые выводы"
   ]
  },
  {
   "cell_type": "markdown",
   "metadata": {},
   "source": [
    "- Предложение на рынке общественного питания Москвы разнообразно и, очевидно, ориентировано на запросы посетителей, которые формируют трафик (клиентопоток) в местах локации заведений общепита.\n",
    "- География локаций точек общественного питания охватывает всю Москву, однако плотность их распределения неравномерна. Даже 10 улиц с наибольшим количеством точек общественного питания характеризуются значительным разбросом насыщенности.\n",
    "- Формат кафе, предполагаемый изначально для новой \"роботизированной\" точки общественного питания, пользуется спросом в Москве в целом (40% всех заведений - кафе, которые формируют 26% посадочных мест, уступая только столовым (37% посадочных мест)) и может быть принят в качестве основы бизнес-модели.\n",
    "- Руководствуясь структурой форматов предложения, для нового кафе можно предложить локацию на проспекте Мира, Профсоюзной улице и Пресненской набережной как наиболее дружественных этому виду общественного питания улицах.\n",
    "- Для определения итоговой локации перспективного роботизированного заведения целесообразно провести анализ плотности существующих заведений общественного питания с детализацией в части кафе. Кроме того, с той же целью рекомендуется провести маркетинговое исследование для определения средней загруженности (заполненности) действующих кафе (в том числе в почасовом разрезе) - составить соответствующую \"тепловую карту\" по территории Москвы.\n",
    "- Наиболее подходящим форматом для предполагаемого роботизированного кафе представляется вместительность 30-40 посадочных мест как наиболее востребованная, судя по предложению (фактическому состоянию).\n",
    "- Очевидно, что авангардное роботизированное кафе не может быть частью какого-либо действующего сетевого стандартна и требует самостоятельного позиционирования. Следует учесть и то, что более 80% объектов общепита Москвы не имеют сетевого характера. Возможность формирования \"роботизированной\" сети может рассматриваться на последующем этапе, то есть по итогам работы первой точки и оценки целесообразности бизнес-модели в формате сети."
   ]
  },
  {
   "cell_type": "markdown",
   "metadata": {},
   "source": [
    "## Презентация по проекту"
   ]
  },
  {
   "cell_type": "markdown",
   "metadata": {},
   "source": [
    "Презентация: <https://disk.yandex.ru/i/0dOYKyv8mm-4aA> "
   ]
  }
 ],
 "metadata": {
  "ExecuteTimeLog": [
   {
    "duration": 369,
    "start_time": "2022-04-12T06:53:13.975Z"
   },
   {
    "duration": 51,
    "start_time": "2022-04-12T06:54:19.518Z"
   },
   {
    "duration": 14,
    "start_time": "2022-04-12T06:57:05.290Z"
   },
   {
    "duration": 13,
    "start_time": "2022-04-12T06:57:28.046Z"
   },
   {
    "duration": 5,
    "start_time": "2022-04-12T06:58:59.264Z"
   },
   {
    "duration": 5,
    "start_time": "2022-04-12T06:59:43.832Z"
   },
   {
    "duration": 7,
    "start_time": "2022-04-12T07:03:42.154Z"
   },
   {
    "duration": 12,
    "start_time": "2022-04-12T07:04:58.419Z"
   },
   {
    "duration": 6,
    "start_time": "2022-04-12T07:05:46.159Z"
   },
   {
    "duration": 6,
    "start_time": "2022-04-12T07:09:16.846Z"
   },
   {
    "duration": 6,
    "start_time": "2022-04-12T07:09:26.151Z"
   },
   {
    "duration": 7,
    "start_time": "2022-04-12T07:10:02.368Z"
   },
   {
    "duration": 7,
    "start_time": "2022-04-12T07:10:03.007Z"
   },
   {
    "duration": 5,
    "start_time": "2022-04-12T07:12:39.513Z"
   },
   {
    "duration": 5,
    "start_time": "2022-04-12T07:12:41.953Z"
   },
   {
    "duration": 5,
    "start_time": "2022-04-12T07:13:27.576Z"
   },
   {
    "duration": 9,
    "start_time": "2022-04-12T07:13:57.800Z"
   },
   {
    "duration": 6,
    "start_time": "2022-04-12T07:14:09.416Z"
   },
   {
    "duration": 5,
    "start_time": "2022-04-12T07:14:14.976Z"
   },
   {
    "duration": 5,
    "start_time": "2022-04-12T07:14:17.824Z"
   },
   {
    "duration": 14,
    "start_time": "2022-04-12T07:15:08.456Z"
   },
   {
    "duration": 374,
    "start_time": "2022-04-12T07:15:30.874Z"
   },
   {
    "duration": 53,
    "start_time": "2022-04-12T07:15:31.250Z"
   },
   {
    "duration": 16,
    "start_time": "2022-04-12T07:15:31.304Z"
   },
   {
    "duration": 15,
    "start_time": "2022-04-12T07:15:31.323Z"
   },
   {
    "duration": 18,
    "start_time": "2022-04-12T07:15:31.340Z"
   },
   {
    "duration": 21,
    "start_time": "2022-04-12T07:15:31.360Z"
   },
   {
    "duration": 9,
    "start_time": "2022-04-12T07:15:31.382Z"
   },
   {
    "duration": 8,
    "start_time": "2022-04-12T07:15:31.393Z"
   },
   {
    "duration": 7,
    "start_time": "2022-04-12T07:15:31.403Z"
   },
   {
    "duration": 16,
    "start_time": "2022-04-12T07:15:31.412Z"
   },
   {
    "duration": 10,
    "start_time": "2022-04-12T07:16:07.962Z"
   },
   {
    "duration": 9,
    "start_time": "2022-04-12T07:16:28.300Z"
   },
   {
    "duration": 10,
    "start_time": "2022-04-12T07:16:37.445Z"
   },
   {
    "duration": 13,
    "start_time": "2022-04-12T07:16:40.675Z"
   },
   {
    "duration": 12,
    "start_time": "2022-04-12T07:16:45.538Z"
   },
   {
    "duration": 62,
    "start_time": "2022-04-12T07:16:55.586Z"
   },
   {
    "duration": 10,
    "start_time": "2022-04-12T07:17:47.923Z"
   },
   {
    "duration": 5,
    "start_time": "2022-04-12T07:17:52.413Z"
   },
   {
    "duration": 413,
    "start_time": "2022-04-12T07:17:57.929Z"
   },
   {
    "duration": 53,
    "start_time": "2022-04-12T07:17:58.344Z"
   },
   {
    "duration": 14,
    "start_time": "2022-04-12T07:17:58.398Z"
   },
   {
    "duration": 12,
    "start_time": "2022-04-12T07:17:58.414Z"
   },
   {
    "duration": 6,
    "start_time": "2022-04-12T07:17:58.428Z"
   },
   {
    "duration": 25,
    "start_time": "2022-04-12T07:17:58.436Z"
   },
   {
    "duration": 5,
    "start_time": "2022-04-12T07:17:58.462Z"
   },
   {
    "duration": 3,
    "start_time": "2022-04-12T07:21:08.901Z"
   },
   {
    "duration": 3,
    "start_time": "2022-04-12T07:21:13.259Z"
   },
   {
    "duration": 53,
    "start_time": "2022-04-12T07:21:13.995Z"
   },
   {
    "duration": 8,
    "start_time": "2022-04-12T07:21:15.373Z"
   },
   {
    "duration": 13,
    "start_time": "2022-04-12T07:21:15.970Z"
   },
   {
    "duration": 4,
    "start_time": "2022-04-12T07:21:17.241Z"
   },
   {
    "duration": 11,
    "start_time": "2022-04-12T07:21:21.450Z"
   },
   {
    "duration": 5,
    "start_time": "2022-04-12T07:21:22.054Z"
   },
   {
    "duration": 7,
    "start_time": "2022-04-12T07:21:23.635Z"
   },
   {
    "duration": 7,
    "start_time": "2022-04-12T07:21:24.154Z"
   },
   {
    "duration": 17,
    "start_time": "2022-04-12T07:21:27.043Z"
   },
   {
    "duration": 8,
    "start_time": "2022-04-12T07:21:53.986Z"
   },
   {
    "duration": 395,
    "start_time": "2022-04-12T07:21:59.766Z"
   },
   {
    "duration": 51,
    "start_time": "2022-04-12T07:22:00.163Z"
   },
   {
    "duration": 16,
    "start_time": "2022-04-12T07:22:00.215Z"
   },
   {
    "duration": 23,
    "start_time": "2022-04-12T07:22:00.233Z"
   },
   {
    "duration": 5,
    "start_time": "2022-04-12T07:22:00.258Z"
   },
   {
    "duration": 14,
    "start_time": "2022-04-12T07:22:00.265Z"
   },
   {
    "duration": 6,
    "start_time": "2022-04-12T07:22:00.280Z"
   },
   {
    "duration": 8,
    "start_time": "2022-04-12T07:22:00.288Z"
   },
   {
    "duration": 13,
    "start_time": "2022-04-12T07:22:00.297Z"
   },
   {
    "duration": 23,
    "start_time": "2022-04-12T07:22:00.312Z"
   },
   {
    "duration": 12,
    "start_time": "2022-04-12T07:22:29.537Z"
   },
   {
    "duration": 2141,
    "start_time": "2022-04-12T07:26:41.019Z"
   },
   {
    "duration": 11,
    "start_time": "2022-04-12T07:26:51.427Z"
   },
   {
    "duration": 135,
    "start_time": "2022-04-12T07:28:57.908Z"
   },
   {
    "duration": 141,
    "start_time": "2022-04-12T07:29:04.308Z"
   },
   {
    "duration": 138,
    "start_time": "2022-04-12T07:29:17.260Z"
   },
   {
    "duration": 11,
    "start_time": "2022-04-12T07:29:22.003Z"
   },
   {
    "duration": 19,
    "start_time": "2022-04-12T07:30:50.054Z"
   },
   {
    "duration": 16,
    "start_time": "2022-04-12T07:31:02.405Z"
   },
   {
    "duration": 17,
    "start_time": "2022-04-12T07:31:24.623Z"
   },
   {
    "duration": 8,
    "start_time": "2022-04-12T07:36:51.153Z"
   },
   {
    "duration": 7,
    "start_time": "2022-04-12T07:37:17.366Z"
   },
   {
    "duration": 1064,
    "start_time": "2022-04-12T07:37:58.809Z"
   },
   {
    "duration": 2300,
    "start_time": "2022-04-12T07:38:09.897Z"
   },
   {
    "duration": 10,
    "start_time": "2022-04-12T07:41:42.075Z"
   },
   {
    "duration": 7,
    "start_time": "2022-04-12T07:42:06.740Z"
   },
   {
    "duration": 7,
    "start_time": "2022-04-12T07:42:17.733Z"
   },
   {
    "duration": 11,
    "start_time": "2022-04-12T07:42:47.181Z"
   },
   {
    "duration": 12,
    "start_time": "2022-04-12T07:45:59.759Z"
   },
   {
    "duration": 11,
    "start_time": "2022-04-12T07:48:44.464Z"
   },
   {
    "duration": 8,
    "start_time": "2022-04-12T07:49:41.680Z"
   },
   {
    "duration": 3,
    "start_time": "2022-04-12T07:49:49.295Z"
   },
   {
    "duration": 11,
    "start_time": "2022-04-12T07:49:53.801Z"
   },
   {
    "duration": 8,
    "start_time": "2022-04-12T08:14:30.430Z"
   },
   {
    "duration": 8,
    "start_time": "2022-04-12T08:14:55.400Z"
   },
   {
    "duration": 17,
    "start_time": "2022-04-12T08:15:13.687Z"
   },
   {
    "duration": 47,
    "start_time": "2022-04-12T15:10:58.656Z"
   },
   {
    "duration": 362,
    "start_time": "2022-04-12T15:11:11.327Z"
   },
   {
    "duration": 49,
    "start_time": "2022-04-12T15:11:11.691Z"
   },
   {
    "duration": 17,
    "start_time": "2022-04-12T15:11:11.742Z"
   },
   {
    "duration": 25,
    "start_time": "2022-04-12T15:11:11.761Z"
   },
   {
    "duration": 9,
    "start_time": "2022-04-12T15:11:11.787Z"
   },
   {
    "duration": 11,
    "start_time": "2022-04-12T15:11:11.798Z"
   },
   {
    "duration": 6,
    "start_time": "2022-04-12T15:11:11.811Z"
   },
   {
    "duration": 7,
    "start_time": "2022-04-12T15:11:11.818Z"
   },
   {
    "duration": 47,
    "start_time": "2022-04-12T15:11:11.827Z"
   },
   {
    "duration": 5,
    "start_time": "2022-04-12T15:11:11.877Z"
   },
   {
    "duration": 24,
    "start_time": "2022-04-12T15:11:11.883Z"
   },
   {
    "duration": 20,
    "start_time": "2022-04-12T15:11:11.909Z"
   },
   {
    "duration": 4,
    "start_time": "2022-04-12T15:11:38.834Z"
   },
   {
    "duration": 6,
    "start_time": "2022-04-12T15:44:22.919Z"
   },
   {
    "duration": 119,
    "start_time": "2022-04-12T15:47:56.814Z"
   },
   {
    "duration": 4,
    "start_time": "2022-04-12T15:48:24.211Z"
   },
   {
    "duration": 3,
    "start_time": "2022-04-12T15:49:11.475Z"
   },
   {
    "duration": 3,
    "start_time": "2022-04-12T15:49:29.860Z"
   },
   {
    "duration": 3,
    "start_time": "2022-04-12T15:49:42.502Z"
   },
   {
    "duration": 3,
    "start_time": "2022-04-12T15:50:15.295Z"
   },
   {
    "duration": 4,
    "start_time": "2022-04-12T15:52:47.597Z"
   },
   {
    "duration": 5,
    "start_time": "2022-04-12T15:53:13.931Z"
   },
   {
    "duration": 4,
    "start_time": "2022-04-12T15:53:31.430Z"
   },
   {
    "duration": 9,
    "start_time": "2022-04-12T15:55:31.677Z"
   },
   {
    "duration": 6,
    "start_time": "2022-04-12T15:55:58.652Z"
   },
   {
    "duration": 5,
    "start_time": "2022-04-12T15:58:52.681Z"
   },
   {
    "duration": 4,
    "start_time": "2022-04-12T15:59:06.007Z"
   },
   {
    "duration": 9,
    "start_time": "2022-04-12T16:04:55.156Z"
   },
   {
    "duration": 416,
    "start_time": "2022-04-12T16:12:38.835Z"
   },
   {
    "duration": 53,
    "start_time": "2022-04-12T16:12:39.254Z"
   },
   {
    "duration": 18,
    "start_time": "2022-04-12T16:12:39.309Z"
   },
   {
    "duration": 14,
    "start_time": "2022-04-12T16:12:39.329Z"
   },
   {
    "duration": 6,
    "start_time": "2022-04-12T16:12:39.344Z"
   },
   {
    "duration": 30,
    "start_time": "2022-04-12T16:12:39.351Z"
   },
   {
    "duration": 8,
    "start_time": "2022-04-12T16:12:39.383Z"
   },
   {
    "duration": 7,
    "start_time": "2022-04-12T16:12:39.392Z"
   },
   {
    "duration": 7,
    "start_time": "2022-04-12T16:12:39.401Z"
   },
   {
    "duration": 25,
    "start_time": "2022-04-12T16:12:39.410Z"
   },
   {
    "duration": 42,
    "start_time": "2022-04-12T16:12:39.437Z"
   },
   {
    "duration": 14,
    "start_time": "2022-04-12T16:13:37.567Z"
   },
   {
    "duration": 9,
    "start_time": "2022-04-12T16:14:16.800Z"
   },
   {
    "duration": 387,
    "start_time": "2022-04-13T06:36:16.899Z"
   },
   {
    "duration": 53,
    "start_time": "2022-04-13T06:36:17.289Z"
   },
   {
    "duration": 37,
    "start_time": "2022-04-13T06:36:17.348Z"
   },
   {
    "duration": 20,
    "start_time": "2022-04-13T06:36:17.387Z"
   },
   {
    "duration": 5,
    "start_time": "2022-04-13T06:36:17.409Z"
   },
   {
    "duration": 19,
    "start_time": "2022-04-13T06:36:17.416Z"
   },
   {
    "duration": 11,
    "start_time": "2022-04-13T06:36:17.437Z"
   },
   {
    "duration": 32,
    "start_time": "2022-04-13T06:36:17.450Z"
   },
   {
    "duration": 8,
    "start_time": "2022-04-13T06:36:17.485Z"
   },
   {
    "duration": 29,
    "start_time": "2022-04-13T06:36:17.495Z"
   },
   {
    "duration": 12,
    "start_time": "2022-04-13T06:36:17.527Z"
   },
   {
    "duration": 13,
    "start_time": "2022-04-13T06:40:13.188Z"
   },
   {
    "duration": 16,
    "start_time": "2022-04-13T06:40:43.019Z"
   },
   {
    "duration": 113,
    "start_time": "2022-04-13T06:44:36.047Z"
   },
   {
    "duration": 90,
    "start_time": "2022-04-13T06:44:41.615Z"
   },
   {
    "duration": 16,
    "start_time": "2022-04-13T06:44:49.975Z"
   },
   {
    "duration": 17,
    "start_time": "2022-04-13T06:45:40.681Z"
   },
   {
    "duration": 23,
    "start_time": "2022-04-13T06:46:10.280Z"
   },
   {
    "duration": 19,
    "start_time": "2022-04-13T06:46:24.089Z"
   },
   {
    "duration": 14,
    "start_time": "2022-04-13T06:46:34.776Z"
   },
   {
    "duration": 19,
    "start_time": "2022-04-13T06:46:58.593Z"
   },
   {
    "duration": 15,
    "start_time": "2022-04-13T06:48:09.210Z"
   },
   {
    "duration": 125,
    "start_time": "2022-04-13T06:50:13.588Z"
   },
   {
    "duration": 14,
    "start_time": "2022-04-13T06:50:20.995Z"
   },
   {
    "duration": 1006,
    "start_time": "2022-04-13T06:53:35.332Z"
   },
   {
    "duration": 70,
    "start_time": "2022-04-13T06:53:36.341Z"
   },
   {
    "duration": 56,
    "start_time": "2022-04-13T06:55:27.644Z"
   },
   {
    "duration": 3,
    "start_time": "2022-04-13T06:56:05.693Z"
   },
   {
    "duration": 93,
    "start_time": "2022-04-13T06:56:10.429Z"
   },
   {
    "duration": 133,
    "start_time": "2022-04-13T06:57:26.262Z"
   },
   {
    "duration": 118,
    "start_time": "2022-04-13T06:57:45.694Z"
   },
   {
    "duration": 152,
    "start_time": "2022-04-13T06:59:57.247Z"
   },
   {
    "duration": 174,
    "start_time": "2022-04-13T07:00:14.047Z"
   },
   {
    "duration": 154,
    "start_time": "2022-04-13T07:00:28.304Z"
   },
   {
    "duration": 171,
    "start_time": "2022-04-13T07:00:36.471Z"
   },
   {
    "duration": 20,
    "start_time": "2022-04-13T07:03:20.538Z"
   },
   {
    "duration": 19,
    "start_time": "2022-04-13T07:03:44.802Z"
   },
   {
    "duration": 15,
    "start_time": "2022-04-13T07:03:56.217Z"
   },
   {
    "duration": 160,
    "start_time": "2022-04-13T07:05:32.370Z"
   },
   {
    "duration": 249,
    "start_time": "2022-04-13T07:05:51.947Z"
   },
   {
    "duration": 25,
    "start_time": "2022-04-13T07:06:57.883Z"
   },
   {
    "duration": 151,
    "start_time": "2022-04-13T07:07:03.059Z"
   },
   {
    "duration": 229,
    "start_time": "2022-04-13T07:07:36.483Z"
   },
   {
    "duration": 165,
    "start_time": "2022-04-13T07:09:56.592Z"
   },
   {
    "duration": 172,
    "start_time": "2022-04-13T07:10:07.426Z"
   },
   {
    "duration": 1379,
    "start_time": "2022-04-13T07:10:19.996Z"
   },
   {
    "duration": 62,
    "start_time": "2022-04-13T07:10:21.379Z"
   },
   {
    "duration": 18,
    "start_time": "2022-04-13T07:10:21.442Z"
   },
   {
    "duration": 26,
    "start_time": "2022-04-13T07:10:21.463Z"
   },
   {
    "duration": 1219,
    "start_time": "2022-04-13T07:12:09.671Z"
   },
   {
    "duration": 53,
    "start_time": "2022-04-13T07:12:10.892Z"
   },
   {
    "duration": 17,
    "start_time": "2022-04-13T07:12:10.947Z"
   },
   {
    "duration": 15,
    "start_time": "2022-04-13T07:12:10.974Z"
   },
   {
    "duration": 7,
    "start_time": "2022-04-13T07:12:10.992Z"
   },
   {
    "duration": 13,
    "start_time": "2022-04-13T07:12:11.001Z"
   },
   {
    "duration": 10,
    "start_time": "2022-04-13T07:12:11.016Z"
   },
   {
    "duration": 9,
    "start_time": "2022-04-13T07:12:11.028Z"
   },
   {
    "duration": 42,
    "start_time": "2022-04-13T07:12:11.039Z"
   },
   {
    "duration": 30,
    "start_time": "2022-04-13T07:12:11.083Z"
   },
   {
    "duration": 12,
    "start_time": "2022-04-13T07:12:11.115Z"
   },
   {
    "duration": 47,
    "start_time": "2022-04-13T07:12:11.129Z"
   },
   {
    "duration": 111,
    "start_time": "2022-04-13T07:12:11.178Z"
   },
   {
    "duration": 168,
    "start_time": "2022-04-13T07:12:41.873Z"
   },
   {
    "duration": 20,
    "start_time": "2022-04-13T07:12:58.705Z"
   },
   {
    "duration": 160,
    "start_time": "2022-04-13T07:13:38.521Z"
   },
   {
    "duration": 176,
    "start_time": "2022-04-13T07:13:55.362Z"
   },
   {
    "duration": 150,
    "start_time": "2022-04-13T07:15:18.405Z"
   },
   {
    "duration": 155,
    "start_time": "2022-04-13T07:17:05.363Z"
   },
   {
    "duration": 3,
    "start_time": "2022-04-13T07:28:22.306Z"
   },
   {
    "duration": 12,
    "start_time": "2022-04-13T07:29:32.738Z"
   },
   {
    "duration": 21,
    "start_time": "2022-04-13T07:29:39.795Z"
   },
   {
    "duration": 16,
    "start_time": "2022-04-13T07:30:18.331Z"
   },
   {
    "duration": 16,
    "start_time": "2022-04-13T07:31:40.795Z"
   },
   {
    "duration": 5,
    "start_time": "2022-04-13T07:32:27.228Z"
   },
   {
    "duration": 15,
    "start_time": "2022-04-13T07:34:23.357Z"
   },
   {
    "duration": 4,
    "start_time": "2022-04-13T07:34:25.877Z"
   },
   {
    "duration": 156,
    "start_time": "2022-04-13T07:34:27.358Z"
   },
   {
    "duration": 168,
    "start_time": "2022-04-13T07:34:48.654Z"
   },
   {
    "duration": 175,
    "start_time": "2022-04-13T07:35:32.717Z"
   },
   {
    "duration": 87,
    "start_time": "2022-04-13T07:35:41.541Z"
   },
   {
    "duration": 14,
    "start_time": "2022-04-13T07:40:18.192Z"
   },
   {
    "duration": 129,
    "start_time": "2022-04-13T07:40:18.218Z"
   },
   {
    "duration": 5,
    "start_time": "2022-04-13T07:40:28.696Z"
   },
   {
    "duration": 6,
    "start_time": "2022-04-13T07:41:08.344Z"
   },
   {
    "duration": 1212,
    "start_time": "2022-04-13T07:41:26.648Z"
   },
   {
    "duration": 68,
    "start_time": "2022-04-13T07:41:27.863Z"
   },
   {
    "duration": 18,
    "start_time": "2022-04-13T07:41:27.933Z"
   },
   {
    "duration": 27,
    "start_time": "2022-04-13T07:41:27.955Z"
   },
   {
    "duration": 8,
    "start_time": "2022-04-13T07:41:27.985Z"
   },
   {
    "duration": 15,
    "start_time": "2022-04-13T07:41:27.996Z"
   },
   {
    "duration": 15,
    "start_time": "2022-04-13T07:41:28.013Z"
   },
   {
    "duration": 11,
    "start_time": "2022-04-13T07:41:28.030Z"
   },
   {
    "duration": 34,
    "start_time": "2022-04-13T07:41:28.043Z"
   },
   {
    "duration": 22,
    "start_time": "2022-04-13T07:41:28.080Z"
   },
   {
    "duration": 13,
    "start_time": "2022-04-13T07:41:28.103Z"
   },
   {
    "duration": 15,
    "start_time": "2022-04-13T07:41:28.118Z"
   },
   {
    "duration": 212,
    "start_time": "2022-04-13T07:41:28.135Z"
   },
   {
    "duration": 5,
    "start_time": "2022-04-13T07:41:28.349Z"
   },
   {
    "duration": 99,
    "start_time": "2022-04-13T07:41:28.356Z"
   },
   {
    "duration": 104,
    "start_time": "2022-04-13T07:41:53.881Z"
   },
   {
    "duration": 96,
    "start_time": "2022-04-13T07:42:00.546Z"
   },
   {
    "duration": 102,
    "start_time": "2022-04-13T07:42:20.537Z"
   },
   {
    "duration": 119,
    "start_time": "2022-04-13T07:43:10.970Z"
   },
   {
    "duration": 12,
    "start_time": "2022-04-13T07:59:11.938Z"
   },
   {
    "duration": 123,
    "start_time": "2022-04-13T07:59:43.028Z"
   },
   {
    "duration": 12,
    "start_time": "2022-04-13T07:59:49.531Z"
   },
   {
    "duration": 19,
    "start_time": "2022-04-13T08:00:59.956Z"
   },
   {
    "duration": 20,
    "start_time": "2022-04-13T08:02:22.373Z"
   },
   {
    "duration": 22,
    "start_time": "2022-04-13T08:03:21.974Z"
   },
   {
    "duration": 22,
    "start_time": "2022-04-13T08:03:39.494Z"
   },
   {
    "duration": 21,
    "start_time": "2022-04-13T08:03:55.766Z"
   },
   {
    "duration": 14,
    "start_time": "2022-04-13T08:04:03.950Z"
   },
   {
    "duration": 22,
    "start_time": "2022-04-13T08:04:15.758Z"
   },
   {
    "duration": 17,
    "start_time": "2022-04-13T08:05:38.792Z"
   },
   {
    "duration": 227,
    "start_time": "2022-04-13T08:05:52.768Z"
   },
   {
    "duration": 12,
    "start_time": "2022-04-13T08:06:58.218Z"
   },
   {
    "duration": 11,
    "start_time": "2022-04-13T08:07:21.672Z"
   },
   {
    "duration": 15,
    "start_time": "2022-04-13T08:07:25.072Z"
   },
   {
    "duration": 20,
    "start_time": "2022-04-13T08:07:35.841Z"
   },
   {
    "duration": 184,
    "start_time": "2022-04-13T08:07:36.473Z"
   },
   {
    "duration": 11,
    "start_time": "2022-04-13T08:07:41.665Z"
   },
   {
    "duration": 16,
    "start_time": "2022-04-13T08:07:57.329Z"
   },
   {
    "duration": 287,
    "start_time": "2022-04-13T08:07:57.969Z"
   },
   {
    "duration": 14,
    "start_time": "2022-04-13T08:08:11.569Z"
   },
   {
    "duration": 22,
    "start_time": "2022-04-13T08:08:14.650Z"
   },
   {
    "duration": 229,
    "start_time": "2022-04-13T08:08:15.425Z"
   },
   {
    "duration": 16,
    "start_time": "2022-04-13T08:08:27.873Z"
   },
   {
    "duration": 219,
    "start_time": "2022-04-13T08:08:28.457Z"
   },
   {
    "duration": 20,
    "start_time": "2022-04-13T08:09:13.695Z"
   },
   {
    "duration": 304,
    "start_time": "2022-04-13T08:09:14.371Z"
   },
   {
    "duration": 16,
    "start_time": "2022-04-13T08:10:10.883Z"
   },
   {
    "duration": 193,
    "start_time": "2022-04-13T08:10:11.507Z"
   },
   {
    "duration": 214,
    "start_time": "2022-04-13T08:10:14.211Z"
   },
   {
    "duration": 201,
    "start_time": "2022-04-13T08:11:15.260Z"
   },
   {
    "duration": 247,
    "start_time": "2022-04-13T08:12:38.021Z"
   },
   {
    "duration": 196,
    "start_time": "2022-04-13T08:13:54.949Z"
   },
   {
    "duration": 15,
    "start_time": "2022-04-13T08:15:31.648Z"
   },
   {
    "duration": 226,
    "start_time": "2022-04-13T08:15:39.230Z"
   },
   {
    "duration": 211,
    "start_time": "2022-04-13T08:20:15.418Z"
   },
   {
    "duration": 329,
    "start_time": "2022-04-13T08:20:32.441Z"
   },
   {
    "duration": 85,
    "start_time": "2022-04-13T08:20:50.256Z"
   },
   {
    "duration": 17,
    "start_time": "2022-04-13T08:25:56.116Z"
   },
   {
    "duration": 190,
    "start_time": "2022-04-13T08:27:14.766Z"
   },
   {
    "duration": 15,
    "start_time": "2022-04-13T08:27:40.646Z"
   },
   {
    "duration": 120,
    "start_time": "2022-04-13T08:28:11.150Z"
   },
   {
    "duration": 212,
    "start_time": "2022-04-13T08:30:15.455Z"
   },
   {
    "duration": 204,
    "start_time": "2022-04-13T08:30:24.593Z"
   },
   {
    "duration": 223,
    "start_time": "2022-04-13T08:30:29.095Z"
   },
   {
    "duration": 186,
    "start_time": "2022-04-13T08:30:40.599Z"
   },
   {
    "duration": 185,
    "start_time": "2022-04-13T08:30:47.639Z"
   },
   {
    "duration": 183,
    "start_time": "2022-04-13T08:31:06.647Z"
   },
   {
    "duration": 295,
    "start_time": "2022-04-13T08:31:32.224Z"
   },
   {
    "duration": 213,
    "start_time": "2022-04-13T08:33:33.698Z"
   },
   {
    "duration": 175,
    "start_time": "2022-04-13T08:38:44.691Z"
   },
   {
    "duration": 177,
    "start_time": "2022-04-13T08:38:50.627Z"
   },
   {
    "duration": 185,
    "start_time": "2022-04-13T08:39:08.741Z"
   },
   {
    "duration": 133,
    "start_time": "2022-04-13T08:39:55.437Z"
   },
   {
    "duration": 140,
    "start_time": "2022-04-13T08:40:23.373Z"
   },
   {
    "duration": 127,
    "start_time": "2022-04-13T08:40:26.678Z"
   },
   {
    "duration": 158,
    "start_time": "2022-04-13T08:40:34.253Z"
   },
   {
    "duration": 176,
    "start_time": "2022-04-13T08:40:39.668Z"
   },
   {
    "duration": 173,
    "start_time": "2022-04-13T08:40:57.565Z"
   },
   {
    "duration": 286,
    "start_time": "2022-04-13T08:41:43.814Z"
   },
   {
    "duration": 198,
    "start_time": "2022-04-13T08:42:47.487Z"
   },
   {
    "duration": 196,
    "start_time": "2022-04-13T08:42:58.767Z"
   },
   {
    "duration": 187,
    "start_time": "2022-04-13T08:43:13.575Z"
   },
   {
    "duration": 171,
    "start_time": "2022-04-13T08:43:39.032Z"
   },
   {
    "duration": 183,
    "start_time": "2022-04-13T08:44:20.504Z"
   },
   {
    "duration": 210,
    "start_time": "2022-04-13T08:44:31.192Z"
   },
   {
    "duration": 209,
    "start_time": "2022-04-13T08:46:55.955Z"
   },
   {
    "duration": 181,
    "start_time": "2022-04-13T08:49:11.825Z"
   },
   {
    "duration": 221,
    "start_time": "2022-04-13T08:49:22.146Z"
   },
   {
    "duration": 205,
    "start_time": "2022-04-13T08:50:50.243Z"
   },
   {
    "duration": 1155,
    "start_time": "2022-04-13T08:51:10.306Z"
   },
   {
    "duration": 57,
    "start_time": "2022-04-13T08:51:11.463Z"
   },
   {
    "duration": 14,
    "start_time": "2022-04-13T08:51:11.521Z"
   },
   {
    "duration": 36,
    "start_time": "2022-04-13T08:51:11.538Z"
   },
   {
    "duration": 5,
    "start_time": "2022-04-13T08:51:11.576Z"
   },
   {
    "duration": 11,
    "start_time": "2022-04-13T08:51:11.583Z"
   },
   {
    "duration": 8,
    "start_time": "2022-04-13T08:51:11.596Z"
   },
   {
    "duration": 7,
    "start_time": "2022-04-13T08:51:11.606Z"
   },
   {
    "duration": 8,
    "start_time": "2022-04-13T08:51:11.615Z"
   },
   {
    "duration": 55,
    "start_time": "2022-04-13T08:51:11.625Z"
   },
   {
    "duration": 10,
    "start_time": "2022-04-13T08:51:11.682Z"
   },
   {
    "duration": 14,
    "start_time": "2022-04-13T08:51:11.694Z"
   },
   {
    "duration": 1149,
    "start_time": "2022-04-13T08:51:49.420Z"
   },
   {
    "duration": 52,
    "start_time": "2022-04-13T08:51:50.571Z"
   },
   {
    "duration": 13,
    "start_time": "2022-04-13T08:51:50.624Z"
   },
   {
    "duration": 16,
    "start_time": "2022-04-13T08:51:50.639Z"
   },
   {
    "duration": 17,
    "start_time": "2022-04-13T08:51:50.657Z"
   },
   {
    "duration": 11,
    "start_time": "2022-04-13T08:51:50.677Z"
   },
   {
    "duration": 6,
    "start_time": "2022-04-13T08:51:50.689Z"
   },
   {
    "duration": 11,
    "start_time": "2022-04-13T08:51:50.697Z"
   },
   {
    "duration": 11,
    "start_time": "2022-04-13T08:51:50.709Z"
   },
   {
    "duration": 30,
    "start_time": "2022-04-13T08:51:50.721Z"
   },
   {
    "duration": 10,
    "start_time": "2022-04-13T08:51:50.772Z"
   },
   {
    "duration": 14,
    "start_time": "2022-04-13T08:51:50.784Z"
   },
   {
    "duration": 182,
    "start_time": "2022-04-13T08:51:50.799Z"
   },
   {
    "duration": 5,
    "start_time": "2022-04-13T08:51:50.984Z"
   },
   {
    "duration": 101,
    "start_time": "2022-04-13T08:51:50.990Z"
   },
   {
    "duration": 16,
    "start_time": "2022-04-13T08:51:51.093Z"
   },
   {
    "duration": 5,
    "start_time": "2022-04-13T08:51:51.111Z"
   },
   {
    "duration": 230,
    "start_time": "2022-04-13T08:51:51.118Z"
   },
   {
    "duration": 16,
    "start_time": "2022-04-13T08:52:33.404Z"
   },
   {
    "duration": 212,
    "start_time": "2022-04-13T08:53:08.364Z"
   },
   {
    "duration": 16,
    "start_time": "2022-04-13T08:53:32.932Z"
   },
   {
    "duration": 1459,
    "start_time": "2022-04-13T14:17:25.202Z"
   },
   {
    "duration": 70,
    "start_time": "2022-04-13T14:17:26.663Z"
   },
   {
    "duration": 16,
    "start_time": "2022-04-13T14:17:26.735Z"
   },
   {
    "duration": 16,
    "start_time": "2022-04-13T14:17:26.754Z"
   },
   {
    "duration": 6,
    "start_time": "2022-04-13T14:17:26.773Z"
   },
   {
    "duration": 15,
    "start_time": "2022-04-13T14:17:26.781Z"
   },
   {
    "duration": 36,
    "start_time": "2022-04-13T14:17:26.798Z"
   },
   {
    "duration": 9,
    "start_time": "2022-04-13T14:17:26.837Z"
   },
   {
    "duration": 8,
    "start_time": "2022-04-13T14:17:26.848Z"
   },
   {
    "duration": 22,
    "start_time": "2022-04-13T14:17:26.859Z"
   },
   {
    "duration": 12,
    "start_time": "2022-04-13T14:17:26.883Z"
   },
   {
    "duration": 15,
    "start_time": "2022-04-13T14:17:26.933Z"
   },
   {
    "duration": 202,
    "start_time": "2022-04-13T14:17:26.951Z"
   },
   {
    "duration": 5,
    "start_time": "2022-04-13T14:17:27.155Z"
   },
   {
    "duration": 122,
    "start_time": "2022-04-13T14:17:27.162Z"
   },
   {
    "duration": 16,
    "start_time": "2022-04-13T14:17:27.287Z"
   },
   {
    "duration": 247,
    "start_time": "2022-04-13T14:17:27.306Z"
   },
   {
    "duration": 234,
    "start_time": "2022-04-13T14:18:36.310Z"
   },
   {
    "duration": 229,
    "start_time": "2022-04-13T14:20:39.278Z"
   },
   {
    "duration": 226,
    "start_time": "2022-04-13T14:20:58.958Z"
   },
   {
    "duration": 21,
    "start_time": "2022-04-13T14:23:25.521Z"
   },
   {
    "duration": 235,
    "start_time": "2022-04-13T14:23:30.496Z"
   },
   {
    "duration": 6,
    "start_time": "2022-04-13T14:55:26.146Z"
   },
   {
    "duration": 13,
    "start_time": "2022-04-13T14:55:41.730Z"
   },
   {
    "duration": 207,
    "start_time": "2022-04-13T14:59:20.156Z"
   },
   {
    "duration": 153,
    "start_time": "2022-04-13T14:59:38.188Z"
   },
   {
    "duration": 126,
    "start_time": "2022-04-13T15:01:19.572Z"
   },
   {
    "duration": 13,
    "start_time": "2022-04-13T15:01:42.470Z"
   },
   {
    "duration": 255,
    "start_time": "2022-04-13T15:03:01.533Z"
   },
   {
    "duration": 185,
    "start_time": "2022-04-13T15:03:34.126Z"
   },
   {
    "duration": 187,
    "start_time": "2022-04-13T15:03:41.532Z"
   },
   {
    "duration": 164,
    "start_time": "2022-04-13T15:10:10.272Z"
   },
   {
    "duration": 152,
    "start_time": "2022-04-13T15:10:30.802Z"
   },
   {
    "duration": 187,
    "start_time": "2022-04-13T15:10:51.352Z"
   },
   {
    "duration": 223,
    "start_time": "2022-04-13T15:12:29.985Z"
   },
   {
    "duration": 289,
    "start_time": "2022-04-13T15:12:46.785Z"
   },
   {
    "duration": 173,
    "start_time": "2022-04-13T15:13:45.571Z"
   },
   {
    "duration": 246,
    "start_time": "2022-04-13T15:15:02.779Z"
   },
   {
    "duration": 216,
    "start_time": "2022-04-13T15:16:20.987Z"
   },
   {
    "duration": 230,
    "start_time": "2022-04-13T15:18:17.445Z"
   },
   {
    "duration": 235,
    "start_time": "2022-04-13T15:18:31.557Z"
   },
   {
    "duration": 224,
    "start_time": "2022-04-13T15:18:40.317Z"
   },
   {
    "duration": 315,
    "start_time": "2022-04-13T15:18:43.220Z"
   },
   {
    "duration": 222,
    "start_time": "2022-04-13T15:18:51.525Z"
   },
   {
    "duration": 182,
    "start_time": "2022-04-13T15:19:00.412Z"
   },
   {
    "duration": 389,
    "start_time": "2022-04-13T15:19:31.981Z"
   },
   {
    "duration": 728,
    "start_time": "2022-04-13T15:19:44.543Z"
   },
   {
    "duration": 6,
    "start_time": "2022-04-13T15:21:01.688Z"
   },
   {
    "duration": 2,
    "start_time": "2022-04-13T15:21:33.254Z"
   },
   {
    "duration": 153,
    "start_time": "2022-04-13T15:22:15.687Z"
   },
   {
    "duration": 667,
    "start_time": "2022-04-13T15:22:31.302Z"
   },
   {
    "duration": 667,
    "start_time": "2022-04-13T15:23:01.486Z"
   },
   {
    "duration": 790,
    "start_time": "2022-04-13T15:24:23.383Z"
   },
   {
    "duration": 9,
    "start_time": "2022-04-13T15:24:48.995Z"
   },
   {
    "duration": 229,
    "start_time": "2022-04-13T15:29:16.090Z"
   },
   {
    "duration": 754,
    "start_time": "2022-04-13T15:39:00.958Z"
   },
   {
    "duration": 3,
    "start_time": "2022-04-13T15:40:05.120Z"
   },
   {
    "duration": 5,
    "start_time": "2022-04-13T15:40:12.439Z"
   },
   {
    "duration": 6,
    "start_time": "2022-04-13T15:40:33.231Z"
   },
   {
    "duration": 6,
    "start_time": "2022-04-13T15:42:12.072Z"
   },
   {
    "duration": 6,
    "start_time": "2022-04-13T15:43:09.969Z"
   },
   {
    "duration": 169,
    "start_time": "2022-04-13T15:45:29.595Z"
   },
   {
    "duration": 10,
    "start_time": "2022-04-13T15:45:48.674Z"
   },
   {
    "duration": 11,
    "start_time": "2022-04-13T15:48:15.732Z"
   },
   {
    "duration": 8,
    "start_time": "2022-04-13T15:48:29.092Z"
   },
   {
    "duration": 9,
    "start_time": "2022-04-13T15:48:40.965Z"
   },
   {
    "duration": 9,
    "start_time": "2022-04-13T15:49:04.796Z"
   },
   {
    "duration": 8,
    "start_time": "2022-04-13T15:49:15.885Z"
   },
   {
    "duration": 9,
    "start_time": "2022-04-13T15:49:37.652Z"
   },
   {
    "duration": 11,
    "start_time": "2022-04-13T15:49:50.396Z"
   },
   {
    "duration": 8,
    "start_time": "2022-04-13T15:49:56.196Z"
   },
   {
    "duration": 14,
    "start_time": "2022-04-13T15:50:45.518Z"
   },
   {
    "duration": 174,
    "start_time": "2022-04-13T15:51:14.213Z"
   },
   {
    "duration": 14,
    "start_time": "2022-04-13T15:51:20.654Z"
   },
   {
    "duration": 14,
    "start_time": "2022-04-13T15:51:52.869Z"
   },
   {
    "duration": 14,
    "start_time": "2022-04-13T15:52:04.710Z"
   },
   {
    "duration": 17,
    "start_time": "2022-04-13T15:53:21.950Z"
   },
   {
    "duration": 15,
    "start_time": "2022-04-13T15:53:28.046Z"
   },
   {
    "duration": 14,
    "start_time": "2022-04-13T15:53:33.926Z"
   },
   {
    "duration": 15,
    "start_time": "2022-04-13T15:55:40.319Z"
   },
   {
    "duration": 19,
    "start_time": "2022-04-13T15:57:33.761Z"
   },
   {
    "duration": 25,
    "start_time": "2022-04-13T16:09:33.159Z"
   },
   {
    "duration": 22,
    "start_time": "2022-04-13T16:09:56.567Z"
   },
   {
    "duration": 14,
    "start_time": "2022-04-13T16:11:57.913Z"
   },
   {
    "duration": 13,
    "start_time": "2022-04-13T17:46:05.198Z"
   },
   {
    "duration": 13,
    "start_time": "2022-04-13T17:50:29.512Z"
   },
   {
    "duration": 13,
    "start_time": "2022-04-13T17:50:34.305Z"
   },
   {
    "duration": 13,
    "start_time": "2022-04-13T17:59:23.046Z"
   },
   {
    "duration": 14,
    "start_time": "2022-04-13T17:59:26.542Z"
   },
   {
    "duration": 7,
    "start_time": "2022-04-13T18:00:17.343Z"
   },
   {
    "duration": 7,
    "start_time": "2022-04-13T18:02:19.031Z"
   },
   {
    "duration": 8,
    "start_time": "2022-04-13T18:02:22.053Z"
   },
   {
    "duration": 5,
    "start_time": "2022-04-13T18:02:36.928Z"
   },
   {
    "duration": 5,
    "start_time": "2022-04-13T18:09:16.875Z"
   },
   {
    "duration": 6,
    "start_time": "2022-04-13T18:12:27.940Z"
   },
   {
    "duration": 5,
    "start_time": "2022-04-13T18:40:15.165Z"
   },
   {
    "duration": 3,
    "start_time": "2022-04-13T18:40:17.901Z"
   },
   {
    "duration": 13,
    "start_time": "2022-04-13T18:46:59.643Z"
   },
   {
    "duration": 301,
    "start_time": "2022-04-13T18:48:15.365Z"
   },
   {
    "duration": 4,
    "start_time": "2022-04-13T18:48:54.486Z"
   },
   {
    "duration": 2803,
    "start_time": "2022-04-13T18:49:34.862Z"
   },
   {
    "duration": 3198,
    "start_time": "2022-04-13T18:50:19.785Z"
   },
   {
    "duration": 3599,
    "start_time": "2022-04-13T18:51:03.210Z"
   },
   {
    "duration": 2075,
    "start_time": "2022-04-13T18:52:22.508Z"
   },
   {
    "duration": 344,
    "start_time": "2022-04-13T18:53:58.124Z"
   },
   {
    "duration": 704,
    "start_time": "2022-04-13T18:54:06.964Z"
   },
   {
    "duration": 354,
    "start_time": "2022-04-13T19:06:14.593Z"
   },
   {
    "duration": 5,
    "start_time": "2022-04-13T19:08:49.689Z"
   },
   {
    "duration": 7,
    "start_time": "2022-04-13T19:09:29.051Z"
   },
   {
    "duration": 5,
    "start_time": "2022-04-13T19:09:59.266Z"
   },
   {
    "duration": 7,
    "start_time": "2022-04-13T19:10:03.433Z"
   },
   {
    "duration": 5,
    "start_time": "2022-04-13T19:10:11.825Z"
   },
   {
    "duration": 7,
    "start_time": "2022-04-13T19:10:15.090Z"
   },
   {
    "duration": 172,
    "start_time": "2022-04-13T19:11:10.971Z"
   },
   {
    "duration": 17,
    "start_time": "2022-04-13T19:11:20.231Z"
   },
   {
    "duration": 7,
    "start_time": "2022-04-13T19:11:28.914Z"
   },
   {
    "duration": 7,
    "start_time": "2022-04-13T19:11:59.667Z"
   },
   {
    "duration": 8,
    "start_time": "2022-04-13T19:12:04.362Z"
   },
   {
    "duration": 8,
    "start_time": "2022-04-13T19:12:22.754Z"
   },
   {
    "duration": 1331,
    "start_time": "2022-04-13T19:13:03.268Z"
   },
   {
    "duration": 72,
    "start_time": "2022-04-13T19:13:04.601Z"
   },
   {
    "duration": 15,
    "start_time": "2022-04-13T19:13:04.675Z"
   },
   {
    "duration": 16,
    "start_time": "2022-04-13T19:13:04.693Z"
   },
   {
    "duration": 5,
    "start_time": "2022-04-13T19:13:04.711Z"
   },
   {
    "duration": 18,
    "start_time": "2022-04-13T19:13:04.735Z"
   },
   {
    "duration": 7,
    "start_time": "2022-04-13T19:13:04.755Z"
   },
   {
    "duration": 8,
    "start_time": "2022-04-13T19:13:04.763Z"
   },
   {
    "duration": 7,
    "start_time": "2022-04-13T19:13:04.773Z"
   },
   {
    "duration": 66,
    "start_time": "2022-04-13T19:13:04.784Z"
   },
   {
    "duration": 12,
    "start_time": "2022-04-13T19:13:04.851Z"
   },
   {
    "duration": 16,
    "start_time": "2022-04-13T19:13:04.864Z"
   },
   {
    "duration": 228,
    "start_time": "2022-04-13T19:13:04.882Z"
   },
   {
    "duration": 5,
    "start_time": "2022-04-13T19:13:05.111Z"
   },
   {
    "duration": 109,
    "start_time": "2022-04-13T19:13:05.118Z"
   },
   {
    "duration": 27,
    "start_time": "2022-04-13T19:13:05.230Z"
   },
   {
    "duration": 269,
    "start_time": "2022-04-13T19:13:05.259Z"
   },
   {
    "duration": 14,
    "start_time": "2022-04-13T19:13:05.530Z"
   },
   {
    "duration": 16,
    "start_time": "2022-04-13T19:13:05.548Z"
   },
   {
    "duration": 284,
    "start_time": "2022-04-13T19:13:05.566Z"
   },
   {
    "duration": 823,
    "start_time": "2022-04-13T19:13:05.852Z"
   },
   {
    "duration": 17,
    "start_time": "2022-04-13T19:13:06.677Z"
   },
   {
    "duration": 42,
    "start_time": "2022-04-13T19:13:06.696Z"
   },
   {
    "duration": 13,
    "start_time": "2022-04-13T19:13:06.742Z"
   },
   {
    "duration": 7,
    "start_time": "2022-04-13T19:13:06.757Z"
   },
   {
    "duration": 5,
    "start_time": "2022-04-13T19:13:06.766Z"
   },
   {
    "duration": 11,
    "start_time": "2022-04-13T19:13:06.772Z"
   },
   {
    "duration": 8,
    "start_time": "2022-04-13T19:13:06.787Z"
   },
   {
    "duration": 3022,
    "start_time": "2022-04-13T19:13:06.797Z"
   },
   {
    "duration": 0,
    "start_time": "2022-04-13T19:13:09.821Z"
   },
   {
    "duration": 0,
    "start_time": "2022-04-13T19:13:09.822Z"
   },
   {
    "duration": 0,
    "start_time": "2022-04-13T19:13:09.824Z"
   },
   {
    "duration": 0,
    "start_time": "2022-04-13T19:13:09.825Z"
   },
   {
    "duration": 9,
    "start_time": "2022-04-13T19:18:47.375Z"
   },
   {
    "duration": 13,
    "start_time": "2022-04-13T19:18:57.854Z"
   },
   {
    "duration": 361,
    "start_time": "2022-04-13T19:24:45.484Z"
   },
   {
    "duration": 12,
    "start_time": "2022-04-13T19:26:56.053Z"
   },
   {
    "duration": 157,
    "start_time": "2022-04-13T19:27:20.950Z"
   },
   {
    "duration": 2629,
    "start_time": "2022-04-13T19:27:31.717Z"
   },
   {
    "duration": 2587,
    "start_time": "2022-04-13T19:27:57.710Z"
   },
   {
    "duration": 8,
    "start_time": "2022-04-13T19:28:45.045Z"
   },
   {
    "duration": 8,
    "start_time": "2022-04-13T19:28:48.053Z"
   },
   {
    "duration": 408,
    "start_time": "2022-04-13T19:28:50.454Z"
   },
   {
    "duration": 451,
    "start_time": "2022-04-13T19:29:55.311Z"
   },
   {
    "duration": 42,
    "start_time": "2022-04-13T19:30:08.662Z"
   },
   {
    "duration": 10,
    "start_time": "2022-04-13T19:30:20.463Z"
   },
   {
    "duration": 7,
    "start_time": "2022-04-13T19:30:28.440Z"
   },
   {
    "duration": 40,
    "start_time": "2022-04-13T19:31:31.064Z"
   },
   {
    "duration": 2,
    "start_time": "2022-04-13T19:32:15.224Z"
   },
   {
    "duration": 7,
    "start_time": "2022-04-13T19:32:18.552Z"
   },
   {
    "duration": 76,
    "start_time": "2022-04-13T19:32:32.712Z"
   },
   {
    "duration": 7,
    "start_time": "2022-04-13T19:32:36.647Z"
   },
   {
    "duration": 37,
    "start_time": "2022-04-13T19:33:39.825Z"
   },
   {
    "duration": 8,
    "start_time": "2022-04-13T19:33:43.032Z"
   },
   {
    "duration": 10,
    "start_time": "2022-04-13T19:36:55.711Z"
   },
   {
    "duration": 11,
    "start_time": "2022-04-13T19:37:32.924Z"
   },
   {
    "duration": 11,
    "start_time": "2022-04-13T19:37:36.004Z"
   },
   {
    "duration": 1178,
    "start_time": "2022-04-13T19:38:28.267Z"
   },
   {
    "duration": 61,
    "start_time": "2022-04-13T19:38:29.447Z"
   },
   {
    "duration": 13,
    "start_time": "2022-04-13T19:38:29.510Z"
   },
   {
    "duration": 21,
    "start_time": "2022-04-13T19:38:29.525Z"
   },
   {
    "duration": 6,
    "start_time": "2022-04-13T19:38:29.549Z"
   },
   {
    "duration": 9,
    "start_time": "2022-04-13T19:38:29.557Z"
   },
   {
    "duration": 5,
    "start_time": "2022-04-13T19:38:29.568Z"
   },
   {
    "duration": 9,
    "start_time": "2022-04-13T19:38:29.574Z"
   },
   {
    "duration": 8,
    "start_time": "2022-04-13T19:38:29.585Z"
   },
   {
    "duration": 50,
    "start_time": "2022-04-13T19:38:29.595Z"
   },
   {
    "duration": 10,
    "start_time": "2022-04-13T19:38:29.646Z"
   },
   {
    "duration": 14,
    "start_time": "2022-04-13T19:38:29.657Z"
   },
   {
    "duration": 201,
    "start_time": "2022-04-13T19:38:29.672Z"
   },
   {
    "duration": 4,
    "start_time": "2022-04-13T19:38:29.876Z"
   },
   {
    "duration": 108,
    "start_time": "2022-04-13T19:38:29.882Z"
   },
   {
    "duration": 15,
    "start_time": "2022-04-13T19:38:29.992Z"
   },
   {
    "duration": 246,
    "start_time": "2022-04-13T19:38:30.010Z"
   },
   {
    "duration": 7,
    "start_time": "2022-04-13T19:38:30.258Z"
   },
   {
    "duration": 18,
    "start_time": "2022-04-13T19:38:30.267Z"
   },
   {
    "duration": 241,
    "start_time": "2022-04-13T19:38:30.287Z"
   },
   {
    "duration": 719,
    "start_time": "2022-04-13T19:38:30.533Z"
   },
   {
    "duration": 16,
    "start_time": "2022-04-13T19:38:31.254Z"
   },
   {
    "duration": 5,
    "start_time": "2022-04-13T19:38:31.272Z"
   },
   {
    "duration": 10,
    "start_time": "2022-04-13T19:38:31.279Z"
   },
   {
    "duration": 7,
    "start_time": "2022-04-13T19:38:31.291Z"
   },
   {
    "duration": 147,
    "start_time": "2022-04-13T19:38:31.334Z"
   },
   {
    "duration": 0,
    "start_time": "2022-04-13T19:38:31.483Z"
   },
   {
    "duration": 0,
    "start_time": "2022-04-13T19:38:31.485Z"
   },
   {
    "duration": 0,
    "start_time": "2022-04-13T19:38:31.486Z"
   },
   {
    "duration": 0,
    "start_time": "2022-04-13T19:38:31.488Z"
   },
   {
    "duration": 0,
    "start_time": "2022-04-13T19:38:31.489Z"
   },
   {
    "duration": 0,
    "start_time": "2022-04-13T19:38:31.491Z"
   },
   {
    "duration": 37,
    "start_time": "2022-04-13T19:38:43.037Z"
   },
   {
    "duration": 26,
    "start_time": "2022-04-13T19:40:00.929Z"
   },
   {
    "duration": 7,
    "start_time": "2022-04-13T19:40:03.681Z"
   },
   {
    "duration": 867,
    "start_time": "2022-04-13T19:41:24.967Z"
   },
   {
    "duration": 8,
    "start_time": "2022-04-13T19:41:28.999Z"
   },
   {
    "duration": 6,
    "start_time": "2022-04-13T19:42:01.094Z"
   },
   {
    "duration": 937,
    "start_time": "2022-04-13T19:43:25.297Z"
   },
   {
    "duration": 37,
    "start_time": "2022-04-13T19:43:28.081Z"
   },
   {
    "duration": 3,
    "start_time": "2022-04-13T19:44:32.350Z"
   },
   {
    "duration": 80,
    "start_time": "2022-04-13T19:44:32.356Z"
   },
   {
    "duration": 10,
    "start_time": "2022-04-13T19:44:32.438Z"
   },
   {
    "duration": 15,
    "start_time": "2022-04-13T19:44:32.451Z"
   },
   {
    "duration": 11,
    "start_time": "2022-04-13T19:44:32.468Z"
   },
   {
    "duration": 10,
    "start_time": "2022-04-13T19:44:32.481Z"
   },
   {
    "duration": 8,
    "start_time": "2022-04-13T19:44:32.493Z"
   },
   {
    "duration": 36,
    "start_time": "2022-04-13T19:44:32.503Z"
   },
   {
    "duration": 7,
    "start_time": "2022-04-13T19:44:32.543Z"
   },
   {
    "duration": 23,
    "start_time": "2022-04-13T19:44:32.553Z"
   },
   {
    "duration": 11,
    "start_time": "2022-04-13T19:44:32.578Z"
   },
   {
    "duration": 49,
    "start_time": "2022-04-13T19:44:32.591Z"
   },
   {
    "duration": 186,
    "start_time": "2022-04-13T19:44:32.642Z"
   },
   {
    "duration": 6,
    "start_time": "2022-04-13T19:44:32.830Z"
   },
   {
    "duration": 110,
    "start_time": "2022-04-13T19:44:32.838Z"
   },
   {
    "duration": 17,
    "start_time": "2022-04-13T19:44:32.951Z"
   },
   {
    "duration": 250,
    "start_time": "2022-04-13T19:44:32.970Z"
   },
   {
    "duration": 12,
    "start_time": "2022-04-13T19:44:33.222Z"
   },
   {
    "duration": 22,
    "start_time": "2022-04-13T19:44:33.236Z"
   },
   {
    "duration": 243,
    "start_time": "2022-04-13T19:44:33.260Z"
   },
   {
    "duration": 656,
    "start_time": "2022-04-13T19:44:33.506Z"
   },
   {
    "duration": 16,
    "start_time": "2022-04-13T19:44:34.164Z"
   },
   {
    "duration": 10,
    "start_time": "2022-04-13T19:44:38.842Z"
   },
   {
    "duration": 5,
    "start_time": "2022-04-13T19:44:53.506Z"
   },
   {
    "duration": 893,
    "start_time": "2022-04-13T19:45:16.001Z"
   },
   {
    "duration": 859,
    "start_time": "2022-04-13T19:45:18.448Z"
   },
   {
    "duration": 6,
    "start_time": "2022-04-13T19:45:21.681Z"
   },
   {
    "duration": 5,
    "start_time": "2022-04-13T19:47:23.394Z"
   },
   {
    "duration": 3,
    "start_time": "2022-04-13T19:50:47.012Z"
   },
   {
    "duration": 12,
    "start_time": "2022-04-13T19:51:46.814Z"
   },
   {
    "duration": 3,
    "start_time": "2022-04-13T19:51:54.614Z"
   },
   {
    "duration": 13,
    "start_time": "2022-04-13T19:51:55.326Z"
   },
   {
    "duration": 3,
    "start_time": "2022-04-13T19:52:07.119Z"
   },
   {
    "duration": 12,
    "start_time": "2022-04-13T19:52:07.671Z"
   },
   {
    "duration": 36,
    "start_time": "2022-04-13T19:52:36.880Z"
   },
   {
    "duration": 2,
    "start_time": "2022-04-13T19:53:45.505Z"
   },
   {
    "duration": 2,
    "start_time": "2022-04-13T19:55:56.718Z"
   },
   {
    "duration": 9,
    "start_time": "2022-04-13T19:56:11.367Z"
   },
   {
    "duration": 3,
    "start_time": "2022-04-13T19:56:17.375Z"
   },
   {
    "duration": 3,
    "start_time": "2022-04-13T19:57:03.328Z"
   },
   {
    "duration": 39,
    "start_time": "2022-04-13T19:57:04.135Z"
   },
   {
    "duration": 162,
    "start_time": "2022-04-13T19:57:35.215Z"
   },
   {
    "duration": 69,
    "start_time": "2022-04-13T19:57:43.711Z"
   },
   {
    "duration": 176,
    "start_time": "2022-04-13T19:58:24.743Z"
   },
   {
    "duration": 66,
    "start_time": "2022-04-13T19:58:25.343Z"
   },
   {
    "duration": 3,
    "start_time": "2022-04-13T19:58:30.775Z"
   },
   {
    "duration": 90,
    "start_time": "2022-04-13T19:58:32.967Z"
   },
   {
    "duration": 7,
    "start_time": "2022-04-13T19:58:46.663Z"
   },
   {
    "duration": 3,
    "start_time": "2022-04-13T19:59:36.983Z"
   },
   {
    "duration": 3,
    "start_time": "2022-04-13T19:59:58.206Z"
   },
   {
    "duration": 172,
    "start_time": "2022-04-13T19:59:58.840Z"
   },
   {
    "duration": 3,
    "start_time": "2022-04-13T20:00:00.703Z"
   },
   {
    "duration": 3,
    "start_time": "2022-04-13T20:00:01.527Z"
   },
   {
    "duration": 8,
    "start_time": "2022-04-13T20:00:03.735Z"
   },
   {
    "duration": 3,
    "start_time": "2022-04-13T20:02:37.264Z"
   },
   {
    "duration": 138,
    "start_time": "2022-04-13T20:02:37.920Z"
   },
   {
    "duration": 3,
    "start_time": "2022-04-13T20:02:38.783Z"
   },
   {
    "duration": 2,
    "start_time": "2022-04-13T20:02:43.695Z"
   },
   {
    "duration": 8,
    "start_time": "2022-04-13T20:02:45.119Z"
   },
   {
    "duration": 6,
    "start_time": "2022-04-13T20:03:24.807Z"
   },
   {
    "duration": 3,
    "start_time": "2022-04-13T20:04:12.264Z"
   },
   {
    "duration": 165,
    "start_time": "2022-04-13T20:04:13.128Z"
   },
   {
    "duration": 3,
    "start_time": "2022-04-13T20:04:14.320Z"
   },
   {
    "duration": 3,
    "start_time": "2022-04-13T20:04:17.832Z"
   },
   {
    "duration": 5,
    "start_time": "2022-04-13T20:04:18.488Z"
   },
   {
    "duration": 7,
    "start_time": "2022-04-13T20:04:18.518Z"
   },
   {
    "duration": 1305,
    "start_time": "2022-04-14T05:54:10.433Z"
   },
   {
    "duration": 53,
    "start_time": "2022-04-14T05:54:11.740Z"
   },
   {
    "duration": 12,
    "start_time": "2022-04-14T05:54:11.795Z"
   },
   {
    "duration": 12,
    "start_time": "2022-04-14T05:54:11.809Z"
   },
   {
    "duration": 5,
    "start_time": "2022-04-14T05:54:11.822Z"
   },
   {
    "duration": 9,
    "start_time": "2022-04-14T05:54:11.828Z"
   },
   {
    "duration": 4,
    "start_time": "2022-04-14T05:54:11.855Z"
   },
   {
    "duration": 7,
    "start_time": "2022-04-14T05:54:11.861Z"
   },
   {
    "duration": 6,
    "start_time": "2022-04-14T05:54:11.870Z"
   },
   {
    "duration": 19,
    "start_time": "2022-04-14T05:54:11.879Z"
   },
   {
    "duration": 10,
    "start_time": "2022-04-14T05:54:11.899Z"
   },
   {
    "duration": 46,
    "start_time": "2022-04-14T05:54:11.911Z"
   },
   {
    "duration": 150,
    "start_time": "2022-04-14T05:54:11.959Z"
   },
   {
    "duration": 5,
    "start_time": "2022-04-14T05:54:12.111Z"
   },
   {
    "duration": 90,
    "start_time": "2022-04-14T05:54:12.117Z"
   },
   {
    "duration": 14,
    "start_time": "2022-04-14T05:54:12.208Z"
   },
   {
    "duration": 203,
    "start_time": "2022-04-14T05:54:12.223Z"
   },
   {
    "duration": 5,
    "start_time": "2022-04-14T05:54:12.428Z"
   },
   {
    "duration": 7,
    "start_time": "2022-04-14T05:54:12.435Z"
   },
   {
    "duration": 192,
    "start_time": "2022-04-14T05:54:12.455Z"
   },
   {
    "duration": 597,
    "start_time": "2022-04-14T05:54:12.648Z"
   },
   {
    "duration": 15,
    "start_time": "2022-04-14T05:54:13.247Z"
   },
   {
    "duration": 7,
    "start_time": "2022-04-14T05:54:13.264Z"
   },
   {
    "duration": 6,
    "start_time": "2022-04-14T05:54:13.273Z"
   },
   {
    "duration": 748,
    "start_time": "2022-04-14T05:54:13.280Z"
   },
   {
    "duration": 5,
    "start_time": "2022-04-14T05:54:14.030Z"
   },
   {
    "duration": 18,
    "start_time": "2022-04-14T05:54:14.036Z"
   },
   {
    "duration": 210,
    "start_time": "2022-04-14T05:54:14.058Z"
   },
   {
    "duration": 3,
    "start_time": "2022-04-14T05:54:14.269Z"
   },
   {
    "duration": 8,
    "start_time": "2022-04-14T05:54:14.273Z"
   },
   {
    "duration": 7,
    "start_time": "2022-04-14T05:54:14.282Z"
   },
   {
    "duration": 7,
    "start_time": "2022-04-14T05:54:14.291Z"
   },
   {
    "duration": 118,
    "start_time": "2022-04-14T05:54:14.300Z"
   },
   {
    "duration": 0,
    "start_time": "2022-04-14T05:54:14.420Z"
   },
   {
    "duration": 0,
    "start_time": "2022-04-14T05:54:14.421Z"
   },
   {
    "duration": 0,
    "start_time": "2022-04-14T05:54:14.422Z"
   },
   {
    "duration": 11,
    "start_time": "2022-04-14T05:57:32.018Z"
   },
   {
    "duration": 3,
    "start_time": "2022-04-14T05:59:16.394Z"
   },
   {
    "duration": 147,
    "start_time": "2022-04-14T05:59:19.242Z"
   },
   {
    "duration": 2,
    "start_time": "2022-04-14T05:59:31.579Z"
   },
   {
    "duration": 5,
    "start_time": "2022-04-14T05:59:36.437Z"
   },
   {
    "duration": 3,
    "start_time": "2022-04-14T06:02:41.662Z"
   },
   {
    "duration": 342,
    "start_time": "2022-04-14T06:02:43.852Z"
   },
   {
    "duration": 6,
    "start_time": "2022-04-14T06:02:49.604Z"
   },
   {
    "duration": 6,
    "start_time": "2022-04-14T06:04:58.622Z"
   },
   {
    "duration": 5,
    "start_time": "2022-04-14T06:05:07.837Z"
   },
   {
    "duration": 6,
    "start_time": "2022-04-14T06:05:25.806Z"
   },
   {
    "duration": 288,
    "start_time": "2022-04-14T06:06:15.214Z"
   },
   {
    "duration": 3,
    "start_time": "2022-04-14T06:06:32.215Z"
   },
   {
    "duration": 416,
    "start_time": "2022-04-14T06:06:32.865Z"
   },
   {
    "duration": 7,
    "start_time": "2022-04-14T06:06:38.918Z"
   },
   {
    "duration": 4,
    "start_time": "2022-04-14T06:06:42.119Z"
   },
   {
    "duration": 5027,
    "start_time": "2022-04-14T06:08:58.928Z"
   },
   {
    "duration": 4726,
    "start_time": "2022-04-14T06:10:24.194Z"
   },
   {
    "duration": 374,
    "start_time": "2022-04-14T06:11:15.162Z"
   },
   {
    "duration": 1191,
    "start_time": "2022-04-14T06:11:52.040Z"
   },
   {
    "duration": 51,
    "start_time": "2022-04-14T06:11:53.233Z"
   },
   {
    "duration": 12,
    "start_time": "2022-04-14T06:11:53.286Z"
   },
   {
    "duration": 13,
    "start_time": "2022-04-14T06:11:53.300Z"
   },
   {
    "duration": 4,
    "start_time": "2022-04-14T06:11:53.315Z"
   },
   {
    "duration": 11,
    "start_time": "2022-04-14T06:11:53.321Z"
   },
   {
    "duration": 5,
    "start_time": "2022-04-14T06:11:53.355Z"
   },
   {
    "duration": 10,
    "start_time": "2022-04-14T06:11:53.362Z"
   },
   {
    "duration": 13,
    "start_time": "2022-04-14T06:11:53.374Z"
   },
   {
    "duration": 19,
    "start_time": "2022-04-14T06:11:53.390Z"
   },
   {
    "duration": 8,
    "start_time": "2022-04-14T06:11:53.410Z"
   },
   {
    "duration": 43,
    "start_time": "2022-04-14T06:11:53.420Z"
   },
   {
    "duration": 152,
    "start_time": "2022-04-14T06:11:53.464Z"
   },
   {
    "duration": 5,
    "start_time": "2022-04-14T06:11:53.617Z"
   },
   {
    "duration": 90,
    "start_time": "2022-04-14T06:11:53.623Z"
   },
   {
    "duration": 13,
    "start_time": "2022-04-14T06:11:53.715Z"
   },
   {
    "duration": 195,
    "start_time": "2022-04-14T06:11:53.729Z"
   },
   {
    "duration": 5,
    "start_time": "2022-04-14T06:11:53.926Z"
   },
   {
    "duration": 10,
    "start_time": "2022-04-14T06:11:53.933Z"
   },
   {
    "duration": 200,
    "start_time": "2022-04-14T06:11:53.954Z"
   },
   {
    "duration": 604,
    "start_time": "2022-04-14T06:11:54.156Z"
   },
   {
    "duration": 13,
    "start_time": "2022-04-14T06:11:54.762Z"
   },
   {
    "duration": 8,
    "start_time": "2022-04-14T06:11:54.777Z"
   },
   {
    "duration": 8,
    "start_time": "2022-04-14T06:11:54.786Z"
   },
   {
    "duration": 1000,
    "start_time": "2022-04-14T06:11:54.796Z"
   },
   {
    "duration": 5,
    "start_time": "2022-04-14T06:11:55.798Z"
   },
   {
    "duration": 5,
    "start_time": "2022-04-14T06:11:55.805Z"
   },
   {
    "duration": 658,
    "start_time": "2022-04-14T06:11:55.813Z"
   },
   {
    "duration": 2,
    "start_time": "2022-04-14T06:11:56.473Z"
   },
   {
    "duration": 6,
    "start_time": "2022-04-14T06:11:56.476Z"
   },
   {
    "duration": 10,
    "start_time": "2022-04-14T06:11:56.484Z"
   },
   {
    "duration": 7,
    "start_time": "2022-04-14T06:11:56.496Z"
   },
   {
    "duration": 104,
    "start_time": "2022-04-14T06:11:56.504Z"
   },
   {
    "duration": 0,
    "start_time": "2022-04-14T06:11:56.609Z"
   },
   {
    "duration": 0,
    "start_time": "2022-04-14T06:11:56.611Z"
   },
   {
    "duration": 0,
    "start_time": "2022-04-14T06:11:56.611Z"
   },
   {
    "duration": 4,
    "start_time": "2022-04-14T06:14:54.522Z"
   },
   {
    "duration": 9,
    "start_time": "2022-04-14T06:20:51.043Z"
   },
   {
    "duration": 4,
    "start_time": "2022-04-14T06:21:03.330Z"
   },
   {
    "duration": 7,
    "start_time": "2022-04-14T06:21:09.835Z"
   },
   {
    "duration": 4,
    "start_time": "2022-04-14T06:25:41.270Z"
   },
   {
    "duration": 633,
    "start_time": "2022-04-14T06:25:42.269Z"
   },
   {
    "duration": 2,
    "start_time": "2022-04-14T06:25:43.716Z"
   },
   {
    "duration": 2,
    "start_time": "2022-04-14T06:25:44.725Z"
   },
   {
    "duration": 6,
    "start_time": "2022-04-14T06:25:45.637Z"
   },
   {
    "duration": 6,
    "start_time": "2022-04-14T06:26:02.741Z"
   },
   {
    "duration": 8,
    "start_time": "2022-04-14T06:27:33.591Z"
   },
   {
    "duration": 1137,
    "start_time": "2022-04-14T06:33:34.800Z"
   },
   {
    "duration": 54,
    "start_time": "2022-04-14T06:33:35.939Z"
   },
   {
    "duration": 12,
    "start_time": "2022-04-14T06:33:35.994Z"
   },
   {
    "duration": 15,
    "start_time": "2022-04-14T06:33:36.008Z"
   },
   {
    "duration": 5,
    "start_time": "2022-04-14T06:33:36.025Z"
   },
   {
    "duration": 10,
    "start_time": "2022-04-14T06:33:36.055Z"
   },
   {
    "duration": 9,
    "start_time": "2022-04-14T06:33:36.066Z"
   },
   {
    "duration": 9,
    "start_time": "2022-04-14T06:33:36.076Z"
   },
   {
    "duration": 7,
    "start_time": "2022-04-14T06:33:36.087Z"
   },
   {
    "duration": 19,
    "start_time": "2022-04-14T06:33:36.097Z"
   },
   {
    "duration": 8,
    "start_time": "2022-04-14T06:33:36.118Z"
   },
   {
    "duration": 13,
    "start_time": "2022-04-14T06:33:36.154Z"
   },
   {
    "duration": 175,
    "start_time": "2022-04-14T06:33:36.168Z"
   },
   {
    "duration": 9,
    "start_time": "2022-04-14T06:33:36.346Z"
   },
   {
    "duration": 80,
    "start_time": "2022-04-14T06:33:36.358Z"
   },
   {
    "duration": 15,
    "start_time": "2022-04-14T06:33:36.454Z"
   },
   {
    "duration": 206,
    "start_time": "2022-04-14T06:33:36.470Z"
   },
   {
    "duration": 7,
    "start_time": "2022-04-14T06:33:36.678Z"
   },
   {
    "duration": 9,
    "start_time": "2022-04-14T06:33:36.686Z"
   },
   {
    "duration": 212,
    "start_time": "2022-04-14T06:33:36.697Z"
   },
   {
    "duration": 717,
    "start_time": "2022-04-14T06:33:36.911Z"
   },
   {
    "duration": 25,
    "start_time": "2022-04-14T06:33:37.630Z"
   },
   {
    "duration": 8,
    "start_time": "2022-04-14T06:33:37.657Z"
   },
   {
    "duration": 17,
    "start_time": "2022-04-14T06:33:37.667Z"
   },
   {
    "duration": 762,
    "start_time": "2022-04-14T06:33:37.686Z"
   },
   {
    "duration": 7,
    "start_time": "2022-04-14T06:33:38.450Z"
   },
   {
    "duration": 16,
    "start_time": "2022-04-14T06:33:38.459Z"
   },
   {
    "duration": 1017,
    "start_time": "2022-04-14T06:33:38.478Z"
   },
   {
    "duration": 5,
    "start_time": "2022-04-14T06:33:39.497Z"
   },
   {
    "duration": 30,
    "start_time": "2022-04-14T06:33:39.504Z"
   },
   {
    "duration": 101,
    "start_time": "2022-04-14T06:33:39.536Z"
   },
   {
    "duration": 0,
    "start_time": "2022-04-14T06:33:39.638Z"
   },
   {
    "duration": 0,
    "start_time": "2022-04-14T06:33:39.640Z"
   },
   {
    "duration": 0,
    "start_time": "2022-04-14T06:33:39.641Z"
   },
   {
    "duration": 4,
    "start_time": "2022-04-14T06:38:31.906Z"
   },
   {
    "duration": 5,
    "start_time": "2022-04-14T06:40:05.472Z"
   },
   {
    "duration": 862,
    "start_time": "2022-04-14T06:40:09.824Z"
   },
   {
    "duration": 5,
    "start_time": "2022-04-14T06:41:34.138Z"
   },
   {
    "duration": 877,
    "start_time": "2022-04-14T06:41:35.809Z"
   },
   {
    "duration": 9,
    "start_time": "2022-04-14T06:42:01.611Z"
   },
   {
    "duration": 9,
    "start_time": "2022-04-14T06:42:07.417Z"
   },
   {
    "duration": 6,
    "start_time": "2022-04-14T06:52:43.228Z"
   },
   {
    "duration": 164,
    "start_time": "2022-04-14T06:52:44.712Z"
   },
   {
    "duration": 11,
    "start_time": "2022-04-14T06:52:53.864Z"
   },
   {
    "duration": 11,
    "start_time": "2022-04-14T06:53:16.240Z"
   },
   {
    "duration": 11,
    "start_time": "2022-04-14T06:56:01.061Z"
   },
   {
    "duration": 12,
    "start_time": "2022-04-14T06:56:17.696Z"
   },
   {
    "duration": 5,
    "start_time": "2022-04-14T06:56:57.208Z"
   },
   {
    "duration": 827,
    "start_time": "2022-04-14T06:59:27.483Z"
   },
   {
    "duration": 856,
    "start_time": "2022-04-14T06:59:40.803Z"
   },
   {
    "duration": 10,
    "start_time": "2022-04-14T07:00:45.036Z"
   },
   {
    "duration": 4,
    "start_time": "2022-04-14T07:02:03.748Z"
   },
   {
    "duration": 994,
    "start_time": "2022-04-14T07:02:21.269Z"
   },
   {
    "duration": 1183,
    "start_time": "2022-04-14T07:03:23.959Z"
   },
   {
    "duration": 50,
    "start_time": "2022-04-14T07:03:25.143Z"
   },
   {
    "duration": 12,
    "start_time": "2022-04-14T07:03:25.194Z"
   },
   {
    "duration": 28,
    "start_time": "2022-04-14T07:03:25.209Z"
   },
   {
    "duration": 24,
    "start_time": "2022-04-14T07:03:25.239Z"
   },
   {
    "duration": 14,
    "start_time": "2022-04-14T07:03:25.265Z"
   },
   {
    "duration": 10,
    "start_time": "2022-04-14T07:03:25.281Z"
   },
   {
    "duration": 20,
    "start_time": "2022-04-14T07:03:25.292Z"
   },
   {
    "duration": 26,
    "start_time": "2022-04-14T07:03:25.314Z"
   },
   {
    "duration": 34,
    "start_time": "2022-04-14T07:03:25.343Z"
   },
   {
    "duration": 8,
    "start_time": "2022-04-14T07:03:25.378Z"
   },
   {
    "duration": 23,
    "start_time": "2022-04-14T07:03:25.388Z"
   },
   {
    "duration": 154,
    "start_time": "2022-04-14T07:03:25.412Z"
   },
   {
    "duration": 4,
    "start_time": "2022-04-14T07:03:25.567Z"
   },
   {
    "duration": 88,
    "start_time": "2022-04-14T07:03:25.573Z"
   },
   {
    "duration": 13,
    "start_time": "2022-04-14T07:03:25.663Z"
   },
   {
    "duration": 199,
    "start_time": "2022-04-14T07:03:25.678Z"
   },
   {
    "duration": 5,
    "start_time": "2022-04-14T07:03:25.879Z"
   },
   {
    "duration": 9,
    "start_time": "2022-04-14T07:03:25.886Z"
   },
   {
    "duration": 204,
    "start_time": "2022-04-14T07:03:25.897Z"
   },
   {
    "duration": 606,
    "start_time": "2022-04-14T07:03:26.103Z"
   },
   {
    "duration": 16,
    "start_time": "2022-04-14T07:03:26.711Z"
   },
   {
    "duration": 29,
    "start_time": "2022-04-14T07:03:26.729Z"
   },
   {
    "duration": 10,
    "start_time": "2022-04-14T07:03:26.760Z"
   },
   {
    "duration": 718,
    "start_time": "2022-04-14T07:03:26.771Z"
   },
   {
    "duration": 5,
    "start_time": "2022-04-14T07:03:27.490Z"
   },
   {
    "duration": 16,
    "start_time": "2022-04-14T07:03:27.497Z"
   },
   {
    "duration": 1109,
    "start_time": "2022-04-14T07:03:27.517Z"
   },
   {
    "duration": 5,
    "start_time": "2022-04-14T07:03:28.628Z"
   },
   {
    "duration": 24,
    "start_time": "2022-04-14T07:03:28.634Z"
   },
   {
    "duration": 121,
    "start_time": "2022-04-14T07:03:28.660Z"
   },
   {
    "duration": 0,
    "start_time": "2022-04-14T07:03:28.782Z"
   },
   {
    "duration": 0,
    "start_time": "2022-04-14T07:03:28.784Z"
   },
   {
    "duration": 0,
    "start_time": "2022-04-14T07:03:28.784Z"
   },
   {
    "duration": 804,
    "start_time": "2022-04-14T07:04:17.371Z"
   },
   {
    "duration": 5,
    "start_time": "2022-04-14T07:04:18.240Z"
   },
   {
    "duration": 1199,
    "start_time": "2022-04-14T07:04:23.442Z"
   },
   {
    "duration": 51,
    "start_time": "2022-04-14T07:04:24.644Z"
   },
   {
    "duration": 13,
    "start_time": "2022-04-14T07:04:24.697Z"
   },
   {
    "duration": 19,
    "start_time": "2022-04-14T07:04:24.712Z"
   },
   {
    "duration": 6,
    "start_time": "2022-04-14T07:04:24.733Z"
   },
   {
    "duration": 21,
    "start_time": "2022-04-14T07:04:24.740Z"
   },
   {
    "duration": 5,
    "start_time": "2022-04-14T07:04:24.763Z"
   },
   {
    "duration": 8,
    "start_time": "2022-04-14T07:04:24.769Z"
   },
   {
    "duration": 5,
    "start_time": "2022-04-14T07:04:24.778Z"
   },
   {
    "duration": 20,
    "start_time": "2022-04-14T07:04:24.786Z"
   },
   {
    "duration": 8,
    "start_time": "2022-04-14T07:04:24.808Z"
   },
   {
    "duration": 44,
    "start_time": "2022-04-14T07:04:24.818Z"
   },
   {
    "duration": 146,
    "start_time": "2022-04-14T07:04:24.864Z"
   },
   {
    "duration": 5,
    "start_time": "2022-04-14T07:04:25.011Z"
   },
   {
    "duration": 91,
    "start_time": "2022-04-14T07:04:25.017Z"
   },
   {
    "duration": 14,
    "start_time": "2022-04-14T07:04:25.110Z"
   },
   {
    "duration": 206,
    "start_time": "2022-04-14T07:04:25.126Z"
   },
   {
    "duration": 6,
    "start_time": "2022-04-14T07:04:25.334Z"
   },
   {
    "duration": 18,
    "start_time": "2022-04-14T07:04:25.341Z"
   },
   {
    "duration": 190,
    "start_time": "2022-04-14T07:04:25.361Z"
   },
   {
    "duration": 620,
    "start_time": "2022-04-14T07:04:25.554Z"
   },
   {
    "duration": 15,
    "start_time": "2022-04-14T07:04:26.176Z"
   },
   {
    "duration": 12,
    "start_time": "2022-04-14T07:04:26.192Z"
   },
   {
    "duration": 10,
    "start_time": "2022-04-14T07:04:26.205Z"
   },
   {
    "duration": 761,
    "start_time": "2022-04-14T07:04:26.216Z"
   },
   {
    "duration": 6,
    "start_time": "2022-04-14T07:04:26.979Z"
   },
   {
    "duration": 11,
    "start_time": "2022-04-14T07:04:26.987Z"
   },
   {
    "duration": 1055,
    "start_time": "2022-04-14T07:04:27.001Z"
   },
   {
    "duration": 4,
    "start_time": "2022-04-14T07:04:28.058Z"
   },
   {
    "duration": 13,
    "start_time": "2022-04-14T07:04:28.063Z"
   },
   {
    "duration": 103,
    "start_time": "2022-04-14T07:04:28.078Z"
   },
   {
    "duration": 0,
    "start_time": "2022-04-14T07:04:28.183Z"
   },
   {
    "duration": 0,
    "start_time": "2022-04-14T07:04:28.184Z"
   },
   {
    "duration": 0,
    "start_time": "2022-04-14T07:04:28.185Z"
   },
   {
    "duration": 738,
    "start_time": "2022-04-14T07:05:26.886Z"
   },
   {
    "duration": 844,
    "start_time": "2022-04-14T07:08:30.383Z"
   },
   {
    "duration": 1046,
    "start_time": "2022-04-14T07:08:46.703Z"
   },
   {
    "duration": 808,
    "start_time": "2022-04-14T07:08:57.463Z"
   },
   {
    "duration": 784,
    "start_time": "2022-04-14T07:09:28.456Z"
   },
   {
    "duration": 908,
    "start_time": "2022-04-14T07:12:12.857Z"
   },
   {
    "duration": 902,
    "start_time": "2022-04-14T07:12:44.305Z"
   },
   {
    "duration": 5,
    "start_time": "2022-04-14T07:12:45.209Z"
   },
   {
    "duration": 5,
    "start_time": "2022-04-14T07:12:46.810Z"
   },
   {
    "duration": 1003,
    "start_time": "2022-04-14T07:12:48.026Z"
   },
   {
    "duration": 5,
    "start_time": "2022-04-14T07:12:50.491Z"
   },
   {
    "duration": 8,
    "start_time": "2022-04-14T07:12:52.691Z"
   },
   {
    "duration": 136,
    "start_time": "2022-04-14T07:13:51.147Z"
   },
   {
    "duration": 14,
    "start_time": "2022-04-14T07:13:58.858Z"
   },
   {
    "duration": 1120,
    "start_time": "2022-04-14T07:14:45.931Z"
   },
   {
    "duration": 49,
    "start_time": "2022-04-14T07:14:47.053Z"
   },
   {
    "duration": 12,
    "start_time": "2022-04-14T07:14:47.104Z"
   },
   {
    "duration": 12,
    "start_time": "2022-04-14T07:14:47.119Z"
   },
   {
    "duration": 21,
    "start_time": "2022-04-14T07:14:47.133Z"
   },
   {
    "duration": 8,
    "start_time": "2022-04-14T07:14:47.156Z"
   },
   {
    "duration": 6,
    "start_time": "2022-04-14T07:14:47.165Z"
   },
   {
    "duration": 6,
    "start_time": "2022-04-14T07:14:47.172Z"
   },
   {
    "duration": 5,
    "start_time": "2022-04-14T07:14:47.179Z"
   },
   {
    "duration": 20,
    "start_time": "2022-04-14T07:14:47.186Z"
   },
   {
    "duration": 7,
    "start_time": "2022-04-14T07:14:47.208Z"
   },
   {
    "duration": 44,
    "start_time": "2022-04-14T07:14:47.217Z"
   },
   {
    "duration": 150,
    "start_time": "2022-04-14T07:14:47.263Z"
   },
   {
    "duration": 5,
    "start_time": "2022-04-14T07:14:47.414Z"
   },
   {
    "duration": 89,
    "start_time": "2022-04-14T07:14:47.420Z"
   },
   {
    "duration": 14,
    "start_time": "2022-04-14T07:14:47.511Z"
   },
   {
    "duration": 204,
    "start_time": "2022-04-14T07:14:47.526Z"
   },
   {
    "duration": 6,
    "start_time": "2022-04-14T07:14:47.731Z"
   },
   {
    "duration": 17,
    "start_time": "2022-04-14T07:14:47.738Z"
   },
   {
    "duration": 192,
    "start_time": "2022-04-14T07:14:47.756Z"
   },
   {
    "duration": 598,
    "start_time": "2022-04-14T07:14:47.950Z"
   },
   {
    "duration": 14,
    "start_time": "2022-04-14T07:14:48.550Z"
   },
   {
    "duration": 9,
    "start_time": "2022-04-14T07:14:48.566Z"
   },
   {
    "duration": 9,
    "start_time": "2022-04-14T07:14:48.577Z"
   },
   {
    "duration": 21,
    "start_time": "2022-04-14T07:14:48.587Z"
   },
   {
    "duration": 5,
    "start_time": "2022-04-14T07:14:48.610Z"
   },
   {
    "duration": 4,
    "start_time": "2022-04-14T07:14:48.617Z"
   },
   {
    "duration": 1146,
    "start_time": "2022-04-14T07:14:48.624Z"
   },
   {
    "duration": 6,
    "start_time": "2022-04-14T07:14:49.771Z"
   },
   {
    "duration": 12,
    "start_time": "2022-04-14T07:14:49.779Z"
   },
   {
    "duration": 106,
    "start_time": "2022-04-14T07:14:49.792Z"
   },
   {
    "duration": 0,
    "start_time": "2022-04-14T07:14:49.899Z"
   },
   {
    "duration": 0,
    "start_time": "2022-04-14T07:14:49.901Z"
   },
   {
    "duration": 0,
    "start_time": "2022-04-14T07:14:49.902Z"
   },
   {
    "duration": 4,
    "start_time": "2022-04-14T07:16:55.283Z"
   },
   {
    "duration": 6,
    "start_time": "2022-04-14T07:16:59.594Z"
   },
   {
    "duration": 1169,
    "start_time": "2022-04-14T07:17:12.572Z"
   },
   {
    "duration": 52,
    "start_time": "2022-04-14T07:17:13.743Z"
   },
   {
    "duration": 12,
    "start_time": "2022-04-14T07:17:13.796Z"
   },
   {
    "duration": 13,
    "start_time": "2022-04-14T07:17:13.810Z"
   },
   {
    "duration": 5,
    "start_time": "2022-04-14T07:17:13.824Z"
   },
   {
    "duration": 24,
    "start_time": "2022-04-14T07:17:13.831Z"
   },
   {
    "duration": 5,
    "start_time": "2022-04-14T07:17:13.857Z"
   },
   {
    "duration": 9,
    "start_time": "2022-04-14T07:17:13.864Z"
   },
   {
    "duration": 5,
    "start_time": "2022-04-14T07:17:13.875Z"
   },
   {
    "duration": 18,
    "start_time": "2022-04-14T07:17:13.882Z"
   },
   {
    "duration": 8,
    "start_time": "2022-04-14T07:17:13.902Z"
   },
   {
    "duration": 45,
    "start_time": "2022-04-14T07:17:13.911Z"
   },
   {
    "duration": 170,
    "start_time": "2022-04-14T07:17:13.957Z"
   },
   {
    "duration": 4,
    "start_time": "2022-04-14T07:17:14.129Z"
   },
   {
    "duration": 79,
    "start_time": "2022-04-14T07:17:14.135Z"
   },
   {
    "duration": 14,
    "start_time": "2022-04-14T07:17:14.216Z"
   },
   {
    "duration": 205,
    "start_time": "2022-04-14T07:17:14.232Z"
   },
   {
    "duration": 6,
    "start_time": "2022-04-14T07:17:14.439Z"
   },
   {
    "duration": 10,
    "start_time": "2022-04-14T07:17:14.447Z"
   },
   {
    "duration": 211,
    "start_time": "2022-04-14T07:17:14.459Z"
   },
   {
    "duration": 688,
    "start_time": "2022-04-14T07:17:14.671Z"
   },
   {
    "duration": 12,
    "start_time": "2022-04-14T07:17:15.360Z"
   },
   {
    "duration": 4,
    "start_time": "2022-04-14T07:17:15.373Z"
   },
   {
    "duration": 5,
    "start_time": "2022-04-14T07:17:15.378Z"
   },
   {
    "duration": 16,
    "start_time": "2022-04-14T07:17:15.385Z"
   },
   {
    "duration": 6,
    "start_time": "2022-04-14T07:17:15.403Z"
   },
   {
    "duration": 5,
    "start_time": "2022-04-14T07:17:15.411Z"
   },
   {
    "duration": 1175,
    "start_time": "2022-04-14T07:17:15.454Z"
   },
   {
    "duration": 6,
    "start_time": "2022-04-14T07:17:16.631Z"
   },
   {
    "duration": 8,
    "start_time": "2022-04-14T07:17:16.655Z"
   },
   {
    "duration": 112,
    "start_time": "2022-04-14T07:17:16.665Z"
   },
   {
    "duration": 0,
    "start_time": "2022-04-14T07:17:16.779Z"
   },
   {
    "duration": 0,
    "start_time": "2022-04-14T07:17:16.781Z"
   },
   {
    "duration": 0,
    "start_time": "2022-04-14T07:17:16.782Z"
   },
   {
    "duration": 4,
    "start_time": "2022-04-14T07:23:40.479Z"
   },
   {
    "duration": 1019,
    "start_time": "2022-04-14T07:23:41.206Z"
   },
   {
    "duration": 1159,
    "start_time": "2022-04-14T07:28:30.894Z"
   },
   {
    "duration": 52,
    "start_time": "2022-04-14T07:28:32.056Z"
   },
   {
    "duration": 13,
    "start_time": "2022-04-14T07:28:32.110Z"
   },
   {
    "duration": 25,
    "start_time": "2022-04-14T07:28:32.126Z"
   },
   {
    "duration": 9,
    "start_time": "2022-04-14T07:28:32.153Z"
   },
   {
    "duration": 35,
    "start_time": "2022-04-14T07:28:32.163Z"
   },
   {
    "duration": 23,
    "start_time": "2022-04-14T07:28:32.200Z"
   },
   {
    "duration": 16,
    "start_time": "2022-04-14T07:28:32.224Z"
   },
   {
    "duration": 20,
    "start_time": "2022-04-14T07:28:32.241Z"
   },
   {
    "duration": 40,
    "start_time": "2022-04-14T07:28:32.263Z"
   },
   {
    "duration": 9,
    "start_time": "2022-04-14T07:28:32.305Z"
   },
   {
    "duration": 24,
    "start_time": "2022-04-14T07:28:32.315Z"
   },
   {
    "duration": 162,
    "start_time": "2022-04-14T07:28:32.340Z"
   },
   {
    "duration": 5,
    "start_time": "2022-04-14T07:28:32.504Z"
   },
   {
    "duration": 91,
    "start_time": "2022-04-14T07:28:32.511Z"
   },
   {
    "duration": 13,
    "start_time": "2022-04-14T07:28:32.604Z"
   },
   {
    "duration": 197,
    "start_time": "2022-04-14T07:28:32.618Z"
   },
   {
    "duration": 6,
    "start_time": "2022-04-14T07:28:32.817Z"
   },
   {
    "duration": 17,
    "start_time": "2022-04-14T07:28:32.824Z"
   },
   {
    "duration": 201,
    "start_time": "2022-04-14T07:28:32.843Z"
   },
   {
    "duration": 589,
    "start_time": "2022-04-14T07:28:33.045Z"
   },
   {
    "duration": 23,
    "start_time": "2022-04-14T07:28:33.636Z"
   },
   {
    "duration": 13,
    "start_time": "2022-04-14T07:28:33.660Z"
   },
   {
    "duration": 20,
    "start_time": "2022-04-14T07:28:33.675Z"
   },
   {
    "duration": 35,
    "start_time": "2022-04-14T07:28:33.697Z"
   },
   {
    "duration": 18,
    "start_time": "2022-04-14T07:28:33.733Z"
   },
   {
    "duration": 20,
    "start_time": "2022-04-14T07:28:33.753Z"
   },
   {
    "duration": 1334,
    "start_time": "2022-04-14T07:28:33.776Z"
   },
   {
    "duration": 5,
    "start_time": "2022-04-14T07:28:35.111Z"
   },
   {
    "duration": 11,
    "start_time": "2022-04-14T07:28:35.118Z"
   },
   {
    "duration": 110,
    "start_time": "2022-04-14T07:28:35.131Z"
   },
   {
    "duration": 0,
    "start_time": "2022-04-14T07:28:35.242Z"
   },
   {
    "duration": 0,
    "start_time": "2022-04-14T07:28:35.243Z"
   },
   {
    "duration": 0,
    "start_time": "2022-04-14T07:28:35.244Z"
   },
   {
    "duration": 20,
    "start_time": "2022-04-14T07:29:19.930Z"
   },
   {
    "duration": 5,
    "start_time": "2022-04-14T07:29:21.554Z"
   },
   {
    "duration": 4,
    "start_time": "2022-04-14T07:31:27.388Z"
   },
   {
    "duration": 4,
    "start_time": "2022-04-14T07:31:52.419Z"
   },
   {
    "duration": 6,
    "start_time": "2022-04-14T07:34:04.797Z"
   },
   {
    "duration": 6,
    "start_time": "2022-04-14T07:34:26.621Z"
   },
   {
    "duration": 1186,
    "start_time": "2022-04-14T07:34:40.856Z"
   },
   {
    "duration": 55,
    "start_time": "2022-04-14T07:34:42.044Z"
   },
   {
    "duration": 12,
    "start_time": "2022-04-14T07:34:42.101Z"
   },
   {
    "duration": 13,
    "start_time": "2022-04-14T07:34:42.115Z"
   },
   {
    "duration": 6,
    "start_time": "2022-04-14T07:34:42.130Z"
   },
   {
    "duration": 20,
    "start_time": "2022-04-14T07:34:42.138Z"
   },
   {
    "duration": 5,
    "start_time": "2022-04-14T07:34:42.160Z"
   },
   {
    "duration": 10,
    "start_time": "2022-04-14T07:34:42.166Z"
   },
   {
    "duration": 11,
    "start_time": "2022-04-14T07:34:42.177Z"
   },
   {
    "duration": 20,
    "start_time": "2022-04-14T07:34:42.191Z"
   },
   {
    "duration": 8,
    "start_time": "2022-04-14T07:34:42.213Z"
   },
   {
    "duration": 37,
    "start_time": "2022-04-14T07:34:42.222Z"
   },
   {
    "duration": 160,
    "start_time": "2022-04-14T07:34:42.261Z"
   },
   {
    "duration": 4,
    "start_time": "2022-04-14T07:34:42.423Z"
   },
   {
    "duration": 93,
    "start_time": "2022-04-14T07:34:42.428Z"
   },
   {
    "duration": 14,
    "start_time": "2022-04-14T07:34:42.522Z"
   },
   {
    "duration": 194,
    "start_time": "2022-04-14T07:34:42.537Z"
   },
   {
    "duration": 6,
    "start_time": "2022-04-14T07:34:42.733Z"
   },
   {
    "duration": 18,
    "start_time": "2022-04-14T07:34:42.740Z"
   },
   {
    "duration": 200,
    "start_time": "2022-04-14T07:34:42.760Z"
   },
   {
    "duration": 586,
    "start_time": "2022-04-14T07:34:42.962Z"
   },
   {
    "duration": 14,
    "start_time": "2022-04-14T07:34:43.549Z"
   },
   {
    "duration": 4,
    "start_time": "2022-04-14T07:34:43.564Z"
   },
   {
    "duration": 7,
    "start_time": "2022-04-14T07:34:43.569Z"
   },
   {
    "duration": 20,
    "start_time": "2022-04-14T07:34:43.578Z"
   },
   {
    "duration": 6,
    "start_time": "2022-04-14T07:34:43.599Z"
   },
   {
    "duration": 4,
    "start_time": "2022-04-14T07:34:43.607Z"
   },
   {
    "duration": 126,
    "start_time": "2022-04-14T07:34:43.614Z"
   },
   {
    "duration": 0,
    "start_time": "2022-04-14T07:34:43.742Z"
   },
   {
    "duration": 0,
    "start_time": "2022-04-14T07:34:43.743Z"
   },
   {
    "duration": 0,
    "start_time": "2022-04-14T07:34:43.745Z"
   },
   {
    "duration": 0,
    "start_time": "2022-04-14T07:34:43.754Z"
   },
   {
    "duration": 0,
    "start_time": "2022-04-14T07:34:43.756Z"
   },
   {
    "duration": 0,
    "start_time": "2022-04-14T07:34:43.757Z"
   },
   {
    "duration": 0,
    "start_time": "2022-04-14T07:34:43.759Z"
   },
   {
    "duration": 95,
    "start_time": "2022-04-14T07:35:39.811Z"
   },
   {
    "duration": 2,
    "start_time": "2022-04-14T07:35:41.689Z"
   },
   {
    "duration": 5,
    "start_time": "2022-04-14T07:35:42.249Z"
   },
   {
    "duration": 8,
    "start_time": "2022-04-14T07:35:43.458Z"
   },
   {
    "duration": 1067,
    "start_time": "2022-04-14T07:37:40.077Z"
   },
   {
    "duration": 52,
    "start_time": "2022-04-14T07:37:41.147Z"
   },
   {
    "duration": 12,
    "start_time": "2022-04-14T07:37:41.200Z"
   },
   {
    "duration": 12,
    "start_time": "2022-04-14T07:37:41.214Z"
   },
   {
    "duration": 6,
    "start_time": "2022-04-14T07:37:41.228Z"
   },
   {
    "duration": 26,
    "start_time": "2022-04-14T07:37:41.235Z"
   },
   {
    "duration": 5,
    "start_time": "2022-04-14T07:37:41.263Z"
   },
   {
    "duration": 9,
    "start_time": "2022-04-14T07:37:41.270Z"
   },
   {
    "duration": 5,
    "start_time": "2022-04-14T07:37:41.281Z"
   },
   {
    "duration": 19,
    "start_time": "2022-04-14T07:37:41.289Z"
   },
   {
    "duration": 9,
    "start_time": "2022-04-14T07:37:41.309Z"
   },
   {
    "duration": 13,
    "start_time": "2022-04-14T07:37:41.355Z"
   },
   {
    "duration": 155,
    "start_time": "2022-04-14T07:37:41.369Z"
   },
   {
    "duration": 5,
    "start_time": "2022-04-14T07:37:41.526Z"
   },
   {
    "duration": 86,
    "start_time": "2022-04-14T07:37:41.532Z"
   },
   {
    "duration": 15,
    "start_time": "2022-04-14T07:37:41.620Z"
   },
   {
    "duration": 207,
    "start_time": "2022-04-14T07:37:41.637Z"
   },
   {
    "duration": 9,
    "start_time": "2022-04-14T07:37:41.845Z"
   },
   {
    "duration": 13,
    "start_time": "2022-04-14T07:37:41.856Z"
   },
   {
    "duration": 195,
    "start_time": "2022-04-14T07:37:41.871Z"
   },
   {
    "duration": 591,
    "start_time": "2022-04-14T07:37:42.068Z"
   },
   {
    "duration": 13,
    "start_time": "2022-04-14T07:37:42.661Z"
   },
   {
    "duration": 5,
    "start_time": "2022-04-14T07:37:42.675Z"
   },
   {
    "duration": 10,
    "start_time": "2022-04-14T07:37:42.681Z"
   },
   {
    "duration": 24,
    "start_time": "2022-04-14T07:37:42.692Z"
   },
   {
    "duration": 8,
    "start_time": "2022-04-14T07:37:42.718Z"
   },
   {
    "duration": 5,
    "start_time": "2022-04-14T07:37:42.755Z"
   },
   {
    "duration": 99,
    "start_time": "2022-04-14T07:37:42.763Z"
   },
   {
    "duration": 3,
    "start_time": "2022-04-14T07:37:42.863Z"
   },
   {
    "duration": 8,
    "start_time": "2022-04-14T07:37:42.867Z"
   },
   {
    "duration": 7,
    "start_time": "2022-04-14T07:37:42.877Z"
   },
   {
    "duration": 104,
    "start_time": "2022-04-14T07:37:42.886Z"
   },
   {
    "duration": 0,
    "start_time": "2022-04-14T07:37:42.992Z"
   },
   {
    "duration": 0,
    "start_time": "2022-04-14T07:37:42.993Z"
   },
   {
    "duration": 0,
    "start_time": "2022-04-14T07:37:42.994Z"
   },
   {
    "duration": 27,
    "start_time": "2022-04-14T07:38:43.699Z"
   },
   {
    "duration": 5,
    "start_time": "2022-04-14T07:38:44.355Z"
   },
   {
    "duration": 5,
    "start_time": "2022-04-14T07:38:49.707Z"
   },
   {
    "duration": 160,
    "start_time": "2022-04-14T07:38:50.434Z"
   },
   {
    "duration": 2,
    "start_time": "2022-04-14T07:38:51.075Z"
   },
   {
    "duration": 5,
    "start_time": "2022-04-14T07:38:51.683Z"
   },
   {
    "duration": 5,
    "start_time": "2022-04-14T07:39:39.483Z"
   },
   {
    "duration": 94,
    "start_time": "2022-04-14T07:39:40.514Z"
   },
   {
    "duration": 2,
    "start_time": "2022-04-14T07:39:41.115Z"
   },
   {
    "duration": 5,
    "start_time": "2022-04-14T07:39:41.692Z"
   },
   {
    "duration": 8,
    "start_time": "2022-04-14T07:39:42.562Z"
   },
   {
    "duration": 5,
    "start_time": "2022-04-14T07:42:50.830Z"
   },
   {
    "duration": 5,
    "start_time": "2022-04-14T07:42:52.916Z"
   },
   {
    "duration": 99,
    "start_time": "2022-04-14T07:42:53.428Z"
   },
   {
    "duration": 2,
    "start_time": "2022-04-14T07:42:54.020Z"
   },
   {
    "duration": 5,
    "start_time": "2022-04-14T07:42:54.908Z"
   },
   {
    "duration": 8,
    "start_time": "2022-04-14T07:42:57.195Z"
   },
   {
    "duration": 5,
    "start_time": "2022-04-14T07:43:51.749Z"
   },
   {
    "duration": 6,
    "start_time": "2022-04-14T07:47:46.887Z"
   },
   {
    "duration": 115,
    "start_time": "2022-04-14T07:47:48.550Z"
   },
   {
    "duration": 3,
    "start_time": "2022-04-14T07:47:49.056Z"
   },
   {
    "duration": 5,
    "start_time": "2022-04-14T07:47:49.559Z"
   },
   {
    "duration": 5,
    "start_time": "2022-04-14T07:49:13.388Z"
   },
   {
    "duration": 118,
    "start_time": "2022-04-14T07:49:13.395Z"
   },
   {
    "duration": 3,
    "start_time": "2022-04-14T07:49:13.515Z"
   },
   {
    "duration": 18,
    "start_time": "2022-04-14T07:49:13.520Z"
   },
   {
    "duration": 31,
    "start_time": "2022-04-14T07:49:13.540Z"
   },
   {
    "duration": 16,
    "start_time": "2022-04-14T07:49:13.573Z"
   },
   {
    "duration": 0,
    "start_time": "2022-04-14T07:49:13.591Z"
   },
   {
    "duration": 0,
    "start_time": "2022-04-14T07:49:13.592Z"
   },
   {
    "duration": 0,
    "start_time": "2022-04-14T07:49:13.593Z"
   },
   {
    "duration": 8,
    "start_time": "2022-04-14T07:54:58.963Z"
   },
   {
    "duration": 10,
    "start_time": "2022-04-14T07:55:29.501Z"
   },
   {
    "duration": 129,
    "start_time": "2022-04-14T07:55:30.338Z"
   },
   {
    "duration": 2,
    "start_time": "2022-04-14T07:55:31.028Z"
   },
   {
    "duration": 5,
    "start_time": "2022-04-14T07:55:31.587Z"
   },
   {
    "duration": 9,
    "start_time": "2022-04-14T07:55:32.226Z"
   },
   {
    "duration": 6,
    "start_time": "2022-04-14T07:57:50.749Z"
   },
   {
    "duration": 126,
    "start_time": "2022-04-14T07:57:51.524Z"
   },
   {
    "duration": 3,
    "start_time": "2022-04-14T07:57:52.299Z"
   },
   {
    "duration": 5,
    "start_time": "2022-04-14T07:57:52.884Z"
   },
   {
    "duration": 7,
    "start_time": "2022-04-14T07:57:53.588Z"
   },
   {
    "duration": 6,
    "start_time": "2022-04-14T07:58:26.312Z"
   },
   {
    "duration": 127,
    "start_time": "2022-04-14T07:58:26.649Z"
   },
   {
    "duration": 2,
    "start_time": "2022-04-14T07:58:27.228Z"
   },
   {
    "duration": 6,
    "start_time": "2022-04-14T07:58:27.891Z"
   },
   {
    "duration": 6,
    "start_time": "2022-04-14T08:01:20.183Z"
   },
   {
    "duration": 9,
    "start_time": "2022-04-14T08:01:22.909Z"
   },
   {
    "duration": 6,
    "start_time": "2022-04-14T08:02:35.796Z"
   },
   {
    "duration": 138,
    "start_time": "2022-04-14T08:02:36.407Z"
   },
   {
    "duration": 2,
    "start_time": "2022-04-14T08:02:36.983Z"
   },
   {
    "duration": 6,
    "start_time": "2022-04-14T08:02:37.918Z"
   },
   {
    "duration": 7,
    "start_time": "2022-04-14T08:03:16.524Z"
   },
   {
    "duration": 155,
    "start_time": "2022-04-14T08:03:17.247Z"
   },
   {
    "duration": 3,
    "start_time": "2022-04-14T08:03:18.166Z"
   },
   {
    "duration": 6,
    "start_time": "2022-04-14T08:03:18.743Z"
   },
   {
    "duration": 6,
    "start_time": "2022-04-14T08:04:24.557Z"
   },
   {
    "duration": 147,
    "start_time": "2022-04-14T08:04:25.167Z"
   },
   {
    "duration": 2,
    "start_time": "2022-04-14T08:04:25.658Z"
   },
   {
    "duration": 6,
    "start_time": "2022-04-14T08:04:26.191Z"
   },
   {
    "duration": 7,
    "start_time": "2022-04-14T08:05:24.135Z"
   },
   {
    "duration": 136,
    "start_time": "2022-04-14T08:05:24.720Z"
   },
   {
    "duration": 3,
    "start_time": "2022-04-14T08:05:25.816Z"
   },
   {
    "duration": 5,
    "start_time": "2022-04-14T08:05:26.424Z"
   },
   {
    "duration": 213,
    "start_time": "2022-04-14T08:07:09.452Z"
   },
   {
    "duration": 0,
    "start_time": "2022-04-14T08:07:09.667Z"
   },
   {
    "duration": 0,
    "start_time": "2022-04-14T08:07:09.668Z"
   },
   {
    "duration": 8,
    "start_time": "2022-04-14T08:07:22.002Z"
   },
   {
    "duration": 147,
    "start_time": "2022-04-14T08:07:22.577Z"
   },
   {
    "duration": 3,
    "start_time": "2022-04-14T08:07:23.106Z"
   },
   {
    "duration": 6,
    "start_time": "2022-04-14T08:07:23.634Z"
   },
   {
    "duration": 7,
    "start_time": "2022-04-14T08:09:07.100Z"
   },
   {
    "duration": 233,
    "start_time": "2022-04-14T08:09:07.579Z"
   },
   {
    "duration": 2,
    "start_time": "2022-04-14T08:09:08.274Z"
   },
   {
    "duration": 7,
    "start_time": "2022-04-14T08:09:08.978Z"
   },
   {
    "duration": 7,
    "start_time": "2022-04-14T08:09:35.020Z"
   },
   {
    "duration": 157,
    "start_time": "2022-04-14T08:09:35.546Z"
   },
   {
    "duration": 3,
    "start_time": "2022-04-14T08:09:36.098Z"
   },
   {
    "duration": 6,
    "start_time": "2022-04-14T08:09:36.682Z"
   },
   {
    "duration": 7,
    "start_time": "2022-04-14T08:09:37.618Z"
   },
   {
    "duration": 8,
    "start_time": "2022-04-14T08:11:01.308Z"
   },
   {
    "duration": 248,
    "start_time": "2022-04-14T08:11:01.979Z"
   },
   {
    "duration": 3,
    "start_time": "2022-04-14T08:11:02.485Z"
   },
   {
    "duration": 7,
    "start_time": "2022-04-14T08:11:03.187Z"
   },
   {
    "duration": 11,
    "start_time": "2022-04-14T08:11:03.883Z"
   },
   {
    "duration": 7,
    "start_time": "2022-04-14T08:13:21.422Z"
   },
   {
    "duration": 238,
    "start_time": "2022-04-14T08:13:22.116Z"
   },
   {
    "duration": 3,
    "start_time": "2022-04-14T08:13:22.644Z"
   },
   {
    "duration": 6,
    "start_time": "2022-04-14T08:13:23.109Z"
   },
   {
    "duration": 29,
    "start_time": "2022-04-14T08:14:46.109Z"
   },
   {
    "duration": 6,
    "start_time": "2022-04-14T08:14:47.005Z"
   },
   {
    "duration": 7,
    "start_time": "2022-04-14T08:14:49.413Z"
   },
   {
    "duration": 250,
    "start_time": "2022-04-14T08:14:50.869Z"
   },
   {
    "duration": 3,
    "start_time": "2022-04-14T08:14:51.637Z"
   },
   {
    "duration": 6,
    "start_time": "2022-04-14T08:14:52.341Z"
   },
   {
    "duration": 10,
    "start_time": "2022-04-14T08:14:55.150Z"
   },
   {
    "duration": 6,
    "start_time": "2022-04-14T08:15:28.272Z"
   },
   {
    "duration": 155,
    "start_time": "2022-04-14T08:15:28.966Z"
   },
   {
    "duration": 3,
    "start_time": "2022-04-14T08:15:29.549Z"
   },
   {
    "duration": 6,
    "start_time": "2022-04-14T08:15:30.158Z"
   },
   {
    "duration": 9,
    "start_time": "2022-04-14T08:15:30.917Z"
   },
   {
    "duration": 11,
    "start_time": "2022-04-14T08:16:24.255Z"
   },
   {
    "duration": 1195,
    "start_time": "2022-04-14T08:16:30.152Z"
   },
   {
    "duration": 56,
    "start_time": "2022-04-14T08:16:31.349Z"
   },
   {
    "duration": 14,
    "start_time": "2022-04-14T08:16:31.406Z"
   },
   {
    "duration": 30,
    "start_time": "2022-04-14T08:16:31.421Z"
   },
   {
    "duration": 10,
    "start_time": "2022-04-14T08:16:31.453Z"
   },
   {
    "duration": 27,
    "start_time": "2022-04-14T08:16:31.465Z"
   },
   {
    "duration": 72,
    "start_time": "2022-04-14T08:16:31.494Z"
   },
   {
    "duration": 32,
    "start_time": "2022-04-14T08:16:31.568Z"
   },
   {
    "duration": 21,
    "start_time": "2022-04-14T08:16:31.602Z"
   },
   {
    "duration": 29,
    "start_time": "2022-04-14T08:16:31.625Z"
   },
   {
    "duration": 9,
    "start_time": "2022-04-14T08:16:31.655Z"
   },
   {
    "duration": 40,
    "start_time": "2022-04-14T08:16:31.665Z"
   },
   {
    "duration": 176,
    "start_time": "2022-04-14T08:16:31.707Z"
   },
   {
    "duration": 5,
    "start_time": "2022-04-14T08:16:31.886Z"
   },
   {
    "duration": 91,
    "start_time": "2022-04-14T08:16:31.892Z"
   },
   {
    "duration": 14,
    "start_time": "2022-04-14T08:16:31.985Z"
   },
   {
    "duration": 207,
    "start_time": "2022-04-14T08:16:32.001Z"
   },
   {
    "duration": 6,
    "start_time": "2022-04-14T08:16:32.209Z"
   },
   {
    "duration": 16,
    "start_time": "2022-04-14T08:16:32.216Z"
   },
   {
    "duration": 195,
    "start_time": "2022-04-14T08:16:32.234Z"
   },
   {
    "duration": 616,
    "start_time": "2022-04-14T08:16:32.431Z"
   },
   {
    "duration": 17,
    "start_time": "2022-04-14T08:16:33.048Z"
   },
   {
    "duration": 4,
    "start_time": "2022-04-14T08:16:33.066Z"
   },
   {
    "duration": 10,
    "start_time": "2022-04-14T08:16:33.072Z"
   },
   {
    "duration": 31,
    "start_time": "2022-04-14T08:16:33.084Z"
   },
   {
    "duration": 9,
    "start_time": "2022-04-14T08:16:33.117Z"
   },
   {
    "duration": 28,
    "start_time": "2022-04-14T08:16:33.128Z"
   },
   {
    "duration": 166,
    "start_time": "2022-04-14T08:16:33.158Z"
   },
   {
    "duration": 2,
    "start_time": "2022-04-14T08:16:33.326Z"
   },
   {
    "duration": 13,
    "start_time": "2022-04-14T08:16:33.330Z"
   },
   {
    "duration": 15,
    "start_time": "2022-04-14T08:16:33.344Z"
   },
   {
    "duration": 100,
    "start_time": "2022-04-14T08:16:33.360Z"
   },
   {
    "duration": 0,
    "start_time": "2022-04-14T08:16:33.462Z"
   },
   {
    "duration": 0,
    "start_time": "2022-04-14T08:16:33.463Z"
   },
   {
    "duration": 0,
    "start_time": "2022-04-14T08:16:33.465Z"
   },
   {
    "duration": 1827,
    "start_time": "2022-04-14T13:45:30.208Z"
   },
   {
    "duration": 70,
    "start_time": "2022-04-14T13:45:32.039Z"
   },
   {
    "duration": 17,
    "start_time": "2022-04-14T13:45:32.111Z"
   },
   {
    "duration": 33,
    "start_time": "2022-04-14T13:45:32.131Z"
   },
   {
    "duration": 51,
    "start_time": "2022-04-14T13:45:32.168Z"
   },
   {
    "duration": 26,
    "start_time": "2022-04-14T13:45:32.221Z"
   },
   {
    "duration": 62,
    "start_time": "2022-04-14T13:45:32.250Z"
   },
   {
    "duration": 10,
    "start_time": "2022-04-14T13:45:32.315Z"
   },
   {
    "duration": 10,
    "start_time": "2022-04-14T13:45:32.327Z"
   },
   {
    "duration": 28,
    "start_time": "2022-04-14T13:45:32.341Z"
   },
   {
    "duration": 17,
    "start_time": "2022-04-14T13:45:32.371Z"
   },
   {
    "duration": 22,
    "start_time": "2022-04-14T13:45:32.391Z"
   },
   {
    "duration": 313,
    "start_time": "2022-04-14T13:45:32.415Z"
   },
   {
    "duration": 5,
    "start_time": "2022-04-14T13:45:32.731Z"
   },
   {
    "duration": 158,
    "start_time": "2022-04-14T13:45:32.739Z"
   },
   {
    "duration": 20,
    "start_time": "2022-04-14T13:45:32.899Z"
   },
   {
    "duration": 359,
    "start_time": "2022-04-14T13:45:32.921Z"
   },
   {
    "duration": 10,
    "start_time": "2022-04-14T13:45:33.283Z"
   },
   {
    "duration": 10,
    "start_time": "2022-04-14T13:45:33.296Z"
   },
   {
    "duration": 375,
    "start_time": "2022-04-14T13:45:33.309Z"
   },
   {
    "duration": 1050,
    "start_time": "2022-04-14T13:45:33.687Z"
   },
   {
    "duration": 33,
    "start_time": "2022-04-14T13:45:34.740Z"
   },
   {
    "duration": 5,
    "start_time": "2022-04-14T13:45:34.775Z"
   },
   {
    "duration": 9,
    "start_time": "2022-04-14T13:45:34.783Z"
   },
   {
    "duration": 81,
    "start_time": "2022-04-14T13:45:34.794Z"
   },
   {
    "duration": 13,
    "start_time": "2022-04-14T13:45:34.877Z"
   },
   {
    "duration": 12,
    "start_time": "2022-04-14T13:45:34.892Z"
   },
   {
    "duration": 337,
    "start_time": "2022-04-14T13:45:34.908Z"
   },
   {
    "duration": 2,
    "start_time": "2022-04-14T13:45:35.252Z"
   },
   {
    "duration": 10,
    "start_time": "2022-04-14T13:45:35.256Z"
   },
   {
    "duration": 14,
    "start_time": "2022-04-14T13:45:35.268Z"
   },
   {
    "duration": 170,
    "start_time": "2022-04-14T13:45:35.284Z"
   },
   {
    "duration": 0,
    "start_time": "2022-04-14T13:45:35.457Z"
   },
   {
    "duration": 0,
    "start_time": "2022-04-14T13:45:35.459Z"
   },
   {
    "duration": 0,
    "start_time": "2022-04-14T13:45:35.460Z"
   },
   {
    "duration": 1567,
    "start_time": "2022-04-14T13:49:42.352Z"
   },
   {
    "duration": 100,
    "start_time": "2022-04-14T13:49:43.922Z"
   },
   {
    "duration": 33,
    "start_time": "2022-04-14T13:49:44.025Z"
   },
   {
    "duration": 27,
    "start_time": "2022-04-14T13:49:44.060Z"
   },
   {
    "duration": 9,
    "start_time": "2022-04-14T13:49:44.091Z"
   },
   {
    "duration": 13,
    "start_time": "2022-04-14T13:49:44.103Z"
   },
   {
    "duration": 8,
    "start_time": "2022-04-14T13:49:44.152Z"
   },
   {
    "duration": 12,
    "start_time": "2022-04-14T13:49:44.162Z"
   },
   {
    "duration": 19,
    "start_time": "2022-04-14T13:49:44.177Z"
   },
   {
    "duration": 53,
    "start_time": "2022-04-14T13:49:44.199Z"
   },
   {
    "duration": 16,
    "start_time": "2022-04-14T13:49:44.254Z"
   },
   {
    "duration": 20,
    "start_time": "2022-04-14T13:49:44.273Z"
   },
   {
    "duration": 305,
    "start_time": "2022-04-14T13:49:44.295Z"
   },
   {
    "duration": 7,
    "start_time": "2022-04-14T13:49:44.605Z"
   },
   {
    "duration": 169,
    "start_time": "2022-04-14T13:49:44.614Z"
   },
   {
    "duration": 21,
    "start_time": "2022-04-14T13:49:44.785Z"
   },
   {
    "duration": 359,
    "start_time": "2022-04-14T13:49:44.808Z"
   },
   {
    "duration": 8,
    "start_time": "2022-04-14T13:49:45.169Z"
   },
   {
    "duration": 14,
    "start_time": "2022-04-14T13:49:45.179Z"
   },
   {
    "duration": 385,
    "start_time": "2022-04-14T13:49:45.195Z"
   },
   {
    "duration": 1101,
    "start_time": "2022-04-14T13:49:45.583Z"
   },
   {
    "duration": 27,
    "start_time": "2022-04-14T13:49:46.687Z"
   },
   {
    "duration": 7,
    "start_time": "2022-04-14T13:49:46.717Z"
   },
   {
    "duration": 7,
    "start_time": "2022-04-14T13:49:46.751Z"
   },
   {
    "duration": 50,
    "start_time": "2022-04-14T13:49:46.760Z"
   },
   {
    "duration": 40,
    "start_time": "2022-04-14T13:49:46.813Z"
   },
   {
    "duration": 13,
    "start_time": "2022-04-14T13:49:46.855Z"
   },
   {
    "duration": 360,
    "start_time": "2022-04-14T13:49:46.871Z"
   },
   {
    "duration": 3,
    "start_time": "2022-04-14T13:49:47.234Z"
   },
   {
    "duration": 8,
    "start_time": "2022-04-14T13:49:47.251Z"
   },
   {
    "duration": 11,
    "start_time": "2022-04-14T13:49:47.262Z"
   },
   {
    "duration": 193,
    "start_time": "2022-04-14T13:49:47.275Z"
   },
   {
    "duration": 0,
    "start_time": "2022-04-14T13:49:47.470Z"
   },
   {
    "duration": 0,
    "start_time": "2022-04-14T13:49:47.472Z"
   },
   {
    "duration": 0,
    "start_time": "2022-04-14T13:49:47.473Z"
   },
   {
    "duration": 4,
    "start_time": "2022-04-14T13:55:13.733Z"
   },
   {
    "duration": 4,
    "start_time": "2022-04-14T13:59:02.233Z"
   },
   {
    "duration": 4,
    "start_time": "2022-04-14T13:59:06.192Z"
   },
   {
    "duration": 123,
    "start_time": "2022-04-14T14:00:41.160Z"
   },
   {
    "duration": 172,
    "start_time": "2022-04-14T14:00:49.970Z"
   },
   {
    "duration": 8,
    "start_time": "2022-04-14T14:01:02.050Z"
   },
   {
    "duration": 18,
    "start_time": "2022-04-14T14:01:25.297Z"
   },
   {
    "duration": 10,
    "start_time": "2022-04-14T14:02:16.234Z"
   },
   {
    "duration": 13,
    "start_time": "2022-04-14T14:02:16.997Z"
   },
   {
    "duration": 22,
    "start_time": "2022-04-14T14:02:43.139Z"
   },
   {
    "duration": 9,
    "start_time": "2022-04-14T14:02:53.900Z"
   },
   {
    "duration": 101,
    "start_time": "2022-04-14T14:03:45.340Z"
   },
   {
    "duration": 15,
    "start_time": "2022-04-14T14:03:51.692Z"
   },
   {
    "duration": 14,
    "start_time": "2022-04-14T14:04:55.477Z"
   },
   {
    "duration": 9,
    "start_time": "2022-04-14T14:05:20.379Z"
   },
   {
    "duration": 9,
    "start_time": "2022-04-14T14:05:23.147Z"
   },
   {
    "duration": 15,
    "start_time": "2022-04-14T14:05:25.827Z"
   },
   {
    "duration": 22,
    "start_time": "2022-04-14T14:05:42.940Z"
   },
   {
    "duration": 13,
    "start_time": "2022-04-14T14:05:59.076Z"
   },
   {
    "duration": 11,
    "start_time": "2022-04-14T14:06:36.758Z"
   },
   {
    "duration": 8,
    "start_time": "2022-04-14T14:26:57.527Z"
   },
   {
    "duration": 15,
    "start_time": "2022-04-14T14:27:00.440Z"
   },
   {
    "duration": 1631,
    "start_time": "2022-04-14T14:27:13.649Z"
   },
   {
    "duration": 70,
    "start_time": "2022-04-14T14:27:15.282Z"
   },
   {
    "duration": 18,
    "start_time": "2022-04-14T14:27:15.355Z"
   },
   {
    "duration": 20,
    "start_time": "2022-04-14T14:27:15.376Z"
   },
   {
    "duration": 7,
    "start_time": "2022-04-14T14:27:15.398Z"
   },
   {
    "duration": 50,
    "start_time": "2022-04-14T14:27:15.407Z"
   },
   {
    "duration": 7,
    "start_time": "2022-04-14T14:27:15.459Z"
   },
   {
    "duration": 15,
    "start_time": "2022-04-14T14:27:15.469Z"
   },
   {
    "duration": 11,
    "start_time": "2022-04-14T14:27:15.487Z"
   },
   {
    "duration": 52,
    "start_time": "2022-04-14T14:27:15.502Z"
   },
   {
    "duration": 12,
    "start_time": "2022-04-14T14:27:15.557Z"
   },
   {
    "duration": 18,
    "start_time": "2022-04-14T14:27:15.572Z"
   },
   {
    "duration": 302,
    "start_time": "2022-04-14T14:27:15.593Z"
   },
   {
    "duration": 8,
    "start_time": "2022-04-14T14:27:15.897Z"
   },
   {
    "duration": 222,
    "start_time": "2022-04-14T14:27:15.908Z"
   },
   {
    "duration": 31,
    "start_time": "2022-04-14T14:27:16.133Z"
   },
   {
    "duration": 356,
    "start_time": "2022-04-14T14:27:16.167Z"
   },
   {
    "duration": 8,
    "start_time": "2022-04-14T14:27:16.526Z"
   },
   {
    "duration": 24,
    "start_time": "2022-04-14T14:27:16.536Z"
   },
   {
    "duration": 370,
    "start_time": "2022-04-14T14:27:16.562Z"
   },
   {
    "duration": 1065,
    "start_time": "2022-04-14T14:27:16.935Z"
   },
   {
    "duration": 20,
    "start_time": "2022-04-14T14:27:18.002Z"
   },
   {
    "duration": 30,
    "start_time": "2022-04-14T14:27:18.025Z"
   },
   {
    "duration": 41,
    "start_time": "2022-04-14T14:27:18.057Z"
   },
   {
    "duration": 60,
    "start_time": "2022-04-14T14:27:18.100Z"
   },
   {
    "duration": 16,
    "start_time": "2022-04-14T14:27:18.162Z"
   },
   {
    "duration": 317,
    "start_time": "2022-04-14T14:27:18.180Z"
   },
   {
    "duration": 3,
    "start_time": "2022-04-14T14:27:18.504Z"
   },
   {
    "duration": 13,
    "start_time": "2022-04-14T14:27:18.510Z"
   },
   {
    "duration": 35,
    "start_time": "2022-04-14T14:27:18.526Z"
   },
   {
    "duration": 13,
    "start_time": "2022-04-14T14:27:18.563Z"
   },
   {
    "duration": 30,
    "start_time": "2022-04-14T14:27:18.579Z"
   },
   {
    "duration": 272,
    "start_time": "2022-04-14T14:27:18.612Z"
   },
   {
    "duration": 0,
    "start_time": "2022-04-14T14:27:18.887Z"
   },
   {
    "duration": 0,
    "start_time": "2022-04-14T14:27:18.888Z"
   },
   {
    "duration": 1,
    "start_time": "2022-04-14T14:27:18.890Z"
   },
   {
    "duration": 0,
    "start_time": "2022-04-14T14:27:18.892Z"
   },
   {
    "duration": 64,
    "start_time": "2022-04-14T14:29:54.768Z"
   },
   {
    "duration": 6,
    "start_time": "2022-04-14T14:30:14.979Z"
   },
   {
    "duration": 83,
    "start_time": "2022-04-14T14:30:14.989Z"
   },
   {
    "duration": 15,
    "start_time": "2022-04-14T14:30:15.074Z"
   },
   {
    "duration": 39,
    "start_time": "2022-04-14T14:30:15.092Z"
   },
   {
    "duration": 25,
    "start_time": "2022-04-14T14:30:15.135Z"
   },
   {
    "duration": 23,
    "start_time": "2022-04-14T14:30:15.163Z"
   },
   {
    "duration": 35,
    "start_time": "2022-04-14T14:30:15.188Z"
   },
   {
    "duration": 25,
    "start_time": "2022-04-14T14:30:15.225Z"
   },
   {
    "duration": 34,
    "start_time": "2022-04-14T14:30:15.253Z"
   },
   {
    "duration": 39,
    "start_time": "2022-04-14T14:30:15.289Z"
   },
   {
    "duration": 13,
    "start_time": "2022-04-14T14:30:15.330Z"
   },
   {
    "duration": 33,
    "start_time": "2022-04-14T14:30:15.346Z"
   },
   {
    "duration": 256,
    "start_time": "2022-04-14T14:30:15.384Z"
   },
   {
    "duration": 11,
    "start_time": "2022-04-14T14:30:15.643Z"
   },
   {
    "duration": 167,
    "start_time": "2022-04-14T14:30:15.657Z"
   },
   {
    "duration": 30,
    "start_time": "2022-04-14T14:30:15.827Z"
   },
   {
    "duration": 455,
    "start_time": "2022-04-14T14:30:15.860Z"
   },
   {
    "duration": 9,
    "start_time": "2022-04-14T14:30:16.318Z"
   },
   {
    "duration": 55,
    "start_time": "2022-04-14T14:30:16.330Z"
   },
   {
    "duration": 380,
    "start_time": "2022-04-14T14:30:16.387Z"
   },
   {
    "duration": 1120,
    "start_time": "2022-04-14T14:30:16.770Z"
   },
   {
    "duration": 20,
    "start_time": "2022-04-14T14:30:17.892Z"
   },
   {
    "duration": 38,
    "start_time": "2022-04-14T14:30:17.914Z"
   },
   {
    "duration": 52,
    "start_time": "2022-04-14T14:30:17.954Z"
   },
   {
    "duration": 14,
    "start_time": "2022-04-14T14:30:20.292Z"
   },
   {
    "duration": 2090,
    "start_time": "2022-04-14T14:31:16.185Z"
   },
   {
    "duration": 102,
    "start_time": "2022-04-14T14:31:18.279Z"
   },
   {
    "duration": 22,
    "start_time": "2022-04-14T14:31:18.383Z"
   },
   {
    "duration": 45,
    "start_time": "2022-04-14T14:31:18.407Z"
   },
   {
    "duration": 7,
    "start_time": "2022-04-14T14:31:18.455Z"
   },
   {
    "duration": 17,
    "start_time": "2022-04-14T14:31:18.465Z"
   },
   {
    "duration": 9,
    "start_time": "2022-04-14T14:31:18.484Z"
   },
   {
    "duration": 57,
    "start_time": "2022-04-14T14:31:18.495Z"
   },
   {
    "duration": 12,
    "start_time": "2022-04-14T14:31:18.555Z"
   },
   {
    "duration": 26,
    "start_time": "2022-04-14T14:31:18.571Z"
   },
   {
    "duration": 13,
    "start_time": "2022-04-14T14:31:18.599Z"
   },
   {
    "duration": 20,
    "start_time": "2022-04-14T14:31:18.652Z"
   },
   {
    "duration": 295,
    "start_time": "2022-04-14T14:31:18.674Z"
   },
   {
    "duration": 6,
    "start_time": "2022-04-14T14:31:18.971Z"
   },
   {
    "duration": 159,
    "start_time": "2022-04-14T14:31:18.980Z"
   },
   {
    "duration": 25,
    "start_time": "2022-04-14T14:31:19.141Z"
   },
   {
    "duration": 564,
    "start_time": "2022-04-14T14:31:19.169Z"
   },
   {
    "duration": 19,
    "start_time": "2022-04-14T14:31:19.736Z"
   },
   {
    "duration": 17,
    "start_time": "2022-04-14T14:31:19.758Z"
   },
   {
    "duration": 378,
    "start_time": "2022-04-14T14:31:19.778Z"
   },
   {
    "duration": 1077,
    "start_time": "2022-04-14T14:31:20.158Z"
   },
   {
    "duration": 31,
    "start_time": "2022-04-14T14:31:21.237Z"
   },
   {
    "duration": 9,
    "start_time": "2022-04-14T14:31:21.271Z"
   },
   {
    "duration": 86,
    "start_time": "2022-04-14T14:31:21.282Z"
   },
   {
    "duration": 18,
    "start_time": "2022-04-14T14:31:21.370Z"
   },
   {
    "duration": 13,
    "start_time": "2022-04-14T14:31:21.390Z"
   },
   {
    "duration": 355,
    "start_time": "2022-04-14T14:31:21.405Z"
   },
   {
    "duration": 3,
    "start_time": "2022-04-14T14:31:21.765Z"
   },
   {
    "duration": 14,
    "start_time": "2022-04-14T14:31:21.771Z"
   },
   {
    "duration": 16,
    "start_time": "2022-04-14T14:31:21.787Z"
   },
   {
    "duration": 15,
    "start_time": "2022-04-14T14:31:21.805Z"
   },
   {
    "duration": 35,
    "start_time": "2022-04-14T14:31:21.823Z"
   },
   {
    "duration": 302,
    "start_time": "2022-04-14T14:31:21.861Z"
   },
   {
    "duration": 0,
    "start_time": "2022-04-14T14:31:22.166Z"
   },
   {
    "duration": 0,
    "start_time": "2022-04-14T14:31:22.168Z"
   },
   {
    "duration": 0,
    "start_time": "2022-04-14T14:31:22.170Z"
   },
   {
    "duration": 0,
    "start_time": "2022-04-14T14:31:22.174Z"
   },
   {
    "duration": 3,
    "start_time": "2022-04-14T14:32:04.240Z"
   },
   {
    "duration": 554,
    "start_time": "2022-04-14T14:35:15.825Z"
   },
   {
    "duration": 4,
    "start_time": "2022-04-14T14:35:35.785Z"
   },
   {
    "duration": 15,
    "start_time": "2022-04-14T14:35:55.767Z"
   },
   {
    "duration": 5,
    "start_time": "2022-04-14T14:36:55.665Z"
   },
   {
    "duration": 15,
    "start_time": "2022-04-14T14:37:06.565Z"
   },
   {
    "duration": 11,
    "start_time": "2022-04-14T14:37:49.106Z"
   },
   {
    "duration": 907,
    "start_time": "2022-04-14T14:38:50.817Z"
   },
   {
    "duration": 1019,
    "start_time": "2022-04-14T14:39:25.970Z"
   },
   {
    "duration": 5,
    "start_time": "2022-04-14T14:41:41.395Z"
   },
   {
    "duration": 17,
    "start_time": "2022-04-14T14:41:42.029Z"
   },
   {
    "duration": 1350,
    "start_time": "2022-04-14T14:41:43.018Z"
   },
   {
    "duration": 5,
    "start_time": "2022-04-14T14:42:07.978Z"
   },
   {
    "duration": 19,
    "start_time": "2022-04-14T14:42:08.637Z"
   },
   {
    "duration": 476,
    "start_time": "2022-04-14T14:42:18.035Z"
   },
   {
    "duration": 1051,
    "start_time": "2022-04-14T14:42:32.486Z"
   },
   {
    "duration": 1074,
    "start_time": "2022-04-14T14:44:47.107Z"
   },
   {
    "duration": 72,
    "start_time": "2022-04-14T14:46:04.908Z"
   },
   {
    "duration": 27,
    "start_time": "2022-04-14T14:46:19.549Z"
   },
   {
    "duration": 13,
    "start_time": "2022-04-14T14:47:31.791Z"
   },
   {
    "duration": 1061,
    "start_time": "2022-04-14T14:47:36.136Z"
   },
   {
    "duration": 7,
    "start_time": "2022-04-14T14:49:03.183Z"
   },
   {
    "duration": 976,
    "start_time": "2022-04-14T14:49:36.617Z"
   },
   {
    "duration": 1070,
    "start_time": "2022-04-14T14:51:14.098Z"
   },
   {
    "duration": 1179,
    "start_time": "2022-04-14T14:51:20.651Z"
   },
   {
    "duration": 1169,
    "start_time": "2022-04-14T14:51:35.322Z"
   },
   {
    "duration": 1336,
    "start_time": "2022-04-14T14:53:28.441Z"
   },
   {
    "duration": 903,
    "start_time": "2022-04-14T14:58:23.493Z"
   },
   {
    "duration": 959,
    "start_time": "2022-04-14T15:04:37.155Z"
   },
   {
    "duration": 11,
    "start_time": "2022-04-14T15:25:10.819Z"
   },
   {
    "duration": 34,
    "start_time": "2022-04-14T15:25:26.877Z"
   },
   {
    "duration": 27,
    "start_time": "2022-04-14T15:26:40.804Z"
   },
   {
    "duration": 23,
    "start_time": "2022-04-14T15:27:33.145Z"
   },
   {
    "duration": 32,
    "start_time": "2022-04-14T15:27:39.133Z"
   },
   {
    "duration": 21,
    "start_time": "2022-04-14T15:28:28.862Z"
   },
   {
    "duration": 23,
    "start_time": "2022-04-14T15:28:54.213Z"
   },
   {
    "duration": 22,
    "start_time": "2022-04-14T15:28:58.911Z"
   },
   {
    "duration": 24,
    "start_time": "2022-04-14T15:30:17.456Z"
   },
   {
    "duration": 232,
    "start_time": "2022-04-14T15:32:42.442Z"
   },
   {
    "duration": 34,
    "start_time": "2022-04-14T15:32:47.744Z"
   },
   {
    "duration": 32,
    "start_time": "2022-04-14T15:32:47.786Z"
   },
   {
    "duration": 17,
    "start_time": "2022-04-14T15:33:03.982Z"
   },
   {
    "duration": 17,
    "start_time": "2022-04-14T15:33:57.785Z"
   },
   {
    "duration": 22,
    "start_time": "2022-04-14T15:34:31.780Z"
   },
   {
    "duration": 21,
    "start_time": "2022-04-14T15:36:33.602Z"
   },
   {
    "duration": 15,
    "start_time": "2022-04-14T15:36:46.817Z"
   },
   {
    "duration": 18,
    "start_time": "2022-04-14T15:40:40.535Z"
   },
   {
    "duration": 386,
    "start_time": "2022-04-14T15:41:15.736Z"
   },
   {
    "duration": 98,
    "start_time": "2022-04-14T15:41:40.172Z"
   },
   {
    "duration": 115,
    "start_time": "2022-04-14T15:42:52.366Z"
   },
   {
    "duration": 528,
    "start_time": "2022-04-14T15:43:11.539Z"
   },
   {
    "duration": 17,
    "start_time": "2022-04-14T15:43:52.899Z"
   },
   {
    "duration": 427,
    "start_time": "2022-04-14T15:44:00.371Z"
   },
   {
    "duration": 593,
    "start_time": "2022-04-14T15:47:25.219Z"
   },
   {
    "duration": 209,
    "start_time": "2022-04-14T15:50:40.328Z"
   },
   {
    "duration": 441,
    "start_time": "2022-04-14T15:50:50.920Z"
   },
   {
    "duration": 196,
    "start_time": "2022-04-14T15:52:00.313Z"
   },
   {
    "duration": 260,
    "start_time": "2022-04-14T15:52:24.914Z"
   },
   {
    "duration": 347,
    "start_time": "2022-04-14T15:53:57.539Z"
   },
   {
    "duration": 343,
    "start_time": "2022-04-14T15:54:00.588Z"
   },
   {
    "duration": 23,
    "start_time": "2022-04-14T15:56:26.063Z"
   },
   {
    "duration": 458,
    "start_time": "2022-04-14T15:57:43.071Z"
   },
   {
    "duration": 466,
    "start_time": "2022-04-14T15:59:28.073Z"
   },
   {
    "duration": 731,
    "start_time": "2022-04-14T16:00:45.435Z"
   },
   {
    "duration": 490,
    "start_time": "2022-04-14T16:01:02.781Z"
   },
   {
    "duration": 204,
    "start_time": "2022-04-14T16:06:08.270Z"
   },
   {
    "duration": 599,
    "start_time": "2022-04-14T16:09:44.927Z"
   },
   {
    "duration": 246,
    "start_time": "2022-04-14T16:10:29.633Z"
   },
   {
    "duration": 7,
    "start_time": "2022-04-14T16:10:55.174Z"
   },
   {
    "duration": 679,
    "start_time": "2022-04-14T16:11:10.851Z"
   },
   {
    "duration": 443,
    "start_time": "2022-04-14T16:12:24.184Z"
   },
   {
    "duration": 627,
    "start_time": "2022-04-14T16:13:32.992Z"
   },
   {
    "duration": 500,
    "start_time": "2022-04-14T16:14:10.804Z"
   },
   {
    "duration": 636,
    "start_time": "2022-04-14T16:15:04.009Z"
   },
   {
    "duration": 7,
    "start_time": "2022-04-14T16:16:46.731Z"
   },
   {
    "duration": 15,
    "start_time": "2022-04-14T16:17:25.476Z"
   },
   {
    "duration": 28,
    "start_time": "2022-04-14T16:21:35.536Z"
   },
   {
    "duration": 21,
    "start_time": "2022-04-14T16:21:55.768Z"
   },
   {
    "duration": 22,
    "start_time": "2022-04-14T16:23:43.121Z"
   },
   {
    "duration": 26,
    "start_time": "2022-04-14T16:23:47.565Z"
   },
   {
    "duration": 14,
    "start_time": "2022-04-14T16:25:40.509Z"
   },
   {
    "duration": 5,
    "start_time": "2022-04-14T16:26:01.912Z"
   },
   {
    "duration": 27,
    "start_time": "2022-04-14T16:26:17.837Z"
   },
   {
    "duration": 7,
    "start_time": "2022-04-14T16:26:34.671Z"
   },
   {
    "duration": 1553,
    "start_time": "2022-04-14T16:27:22.778Z"
   },
   {
    "duration": 75,
    "start_time": "2022-04-14T16:27:24.334Z"
   },
   {
    "duration": 19,
    "start_time": "2022-04-14T16:27:24.411Z"
   },
   {
    "duration": 31,
    "start_time": "2022-04-14T16:27:24.433Z"
   },
   {
    "duration": 8,
    "start_time": "2022-04-14T16:27:24.467Z"
   },
   {
    "duration": 13,
    "start_time": "2022-04-14T16:27:24.478Z"
   },
   {
    "duration": 7,
    "start_time": "2022-04-14T16:27:24.494Z"
   },
   {
    "duration": 9,
    "start_time": "2022-04-14T16:27:24.503Z"
   },
   {
    "duration": 17,
    "start_time": "2022-04-14T16:27:24.514Z"
   },
   {
    "duration": 22,
    "start_time": "2022-04-14T16:27:24.535Z"
   },
   {
    "duration": 6,
    "start_time": "2022-04-14T16:27:24.560Z"
   },
   {
    "duration": 50,
    "start_time": "2022-04-14T16:27:24.569Z"
   },
   {
    "duration": 12,
    "start_time": "2022-04-14T16:27:24.621Z"
   },
   {
    "duration": 34,
    "start_time": "2022-04-14T16:27:24.635Z"
   },
   {
    "duration": 355,
    "start_time": "2022-04-14T16:27:24.671Z"
   },
   {
    "duration": 5,
    "start_time": "2022-04-14T16:27:25.029Z"
   },
   {
    "duration": 273,
    "start_time": "2022-04-14T16:27:25.037Z"
   },
   {
    "duration": 54,
    "start_time": "2022-04-14T16:27:25.312Z"
   },
   {
    "duration": 375,
    "start_time": "2022-04-14T16:27:25.369Z"
   },
   {
    "duration": 12,
    "start_time": "2022-04-14T16:27:25.746Z"
   },
   {
    "duration": 30,
    "start_time": "2022-04-14T16:27:25.765Z"
   },
   {
    "duration": 380,
    "start_time": "2022-04-14T16:27:25.797Z"
   },
   {
    "duration": 1241,
    "start_time": "2022-04-14T16:27:26.181Z"
   },
   {
    "duration": 37,
    "start_time": "2022-04-14T16:27:27.425Z"
   },
   {
    "duration": 11,
    "start_time": "2022-04-14T16:27:27.465Z"
   },
   {
    "duration": 83,
    "start_time": "2022-04-14T16:27:27.478Z"
   },
   {
    "duration": 41,
    "start_time": "2022-04-14T16:27:27.564Z"
   },
   {
    "duration": 356,
    "start_time": "2022-04-14T16:27:27.610Z"
   },
   {
    "duration": 8,
    "start_time": "2022-04-14T16:27:27.968Z"
   },
   {
    "duration": 12,
    "start_time": "2022-04-14T16:27:27.978Z"
   },
   {
    "duration": 1206,
    "start_time": "2022-04-14T16:27:27.992Z"
   },
   {
    "duration": 936,
    "start_time": "2022-04-14T16:27:29.201Z"
   },
   {
    "duration": 5,
    "start_time": "2022-04-14T16:27:30.139Z"
   },
   {
    "duration": 41,
    "start_time": "2022-04-14T16:27:30.154Z"
   },
   {
    "duration": 20,
    "start_time": "2022-04-14T16:27:30.197Z"
   },
   {
    "duration": 470,
    "start_time": "2022-04-14T16:27:30.219Z"
   },
   {
    "duration": 170,
    "start_time": "2022-04-14T17:35:51.077Z"
   },
   {
    "duration": 133,
    "start_time": "2022-04-14T17:36:04.766Z"
   },
   {
    "duration": 102,
    "start_time": "2022-04-14T17:36:18.925Z"
   },
   {
    "duration": 80,
    "start_time": "2022-04-14T17:37:07.215Z"
   },
   {
    "duration": 79,
    "start_time": "2022-04-14T17:44:32.696Z"
   },
   {
    "duration": 66,
    "start_time": "2022-04-14T17:45:59.003Z"
   },
   {
    "duration": 92,
    "start_time": "2022-04-14T17:53:17.699Z"
   },
   {
    "duration": 155,
    "start_time": "2022-04-14T17:53:26.279Z"
   },
   {
    "duration": 88,
    "start_time": "2022-04-14T17:58:46.537Z"
   },
   {
    "duration": 14,
    "start_time": "2022-04-14T18:33:09.377Z"
   },
   {
    "duration": 4,
    "start_time": "2022-04-14T18:34:38.233Z"
   },
   {
    "duration": 127,
    "start_time": "2022-04-14T18:34:38.240Z"
   },
   {
    "duration": 16,
    "start_time": "2022-04-14T18:34:38.372Z"
   },
   {
    "duration": 29,
    "start_time": "2022-04-14T18:34:38.391Z"
   },
   {
    "duration": 11,
    "start_time": "2022-04-14T18:34:38.422Z"
   },
   {
    "duration": 56,
    "start_time": "2022-04-14T18:34:38.435Z"
   },
   {
    "duration": 10,
    "start_time": "2022-04-14T18:34:38.495Z"
   },
   {
    "duration": 20,
    "start_time": "2022-04-14T18:34:38.507Z"
   },
   {
    "duration": 14,
    "start_time": "2022-04-14T18:34:38.532Z"
   },
   {
    "duration": 62,
    "start_time": "2022-04-14T18:34:38.549Z"
   },
   {
    "duration": 12,
    "start_time": "2022-04-14T18:34:38.613Z"
   },
   {
    "duration": 57,
    "start_time": "2022-04-14T18:34:38.628Z"
   },
   {
    "duration": 23,
    "start_time": "2022-04-14T18:34:38.687Z"
   },
   {
    "duration": 21,
    "start_time": "2022-04-14T18:34:38.712Z"
   },
   {
    "duration": 298,
    "start_time": "2022-04-14T18:34:38.735Z"
   },
   {
    "duration": 6,
    "start_time": "2022-04-14T18:34:39.035Z"
   },
   {
    "duration": 193,
    "start_time": "2022-04-14T18:34:39.051Z"
   },
   {
    "duration": 36,
    "start_time": "2022-04-14T18:34:39.255Z"
   },
   {
    "duration": 500,
    "start_time": "2022-04-14T18:34:39.294Z"
   },
   {
    "duration": 9,
    "start_time": "2022-04-14T18:34:39.796Z"
   },
   {
    "duration": 42,
    "start_time": "2022-04-14T18:34:39.807Z"
   },
   {
    "duration": 445,
    "start_time": "2022-04-14T18:34:39.854Z"
   },
   {
    "duration": 1279,
    "start_time": "2022-04-14T18:34:40.301Z"
   },
   {
    "duration": 24,
    "start_time": "2022-04-14T18:34:41.585Z"
   },
   {
    "duration": 23,
    "start_time": "2022-04-14T18:34:41.652Z"
   },
   {
    "duration": 98,
    "start_time": "2022-04-14T18:34:41.682Z"
   },
   {
    "duration": 16,
    "start_time": "2022-04-14T18:34:41.785Z"
   },
   {
    "duration": 592,
    "start_time": "2022-04-14T18:34:41.803Z"
   },
   {
    "duration": 8,
    "start_time": "2022-04-14T18:34:42.397Z"
   },
   {
    "duration": 10,
    "start_time": "2022-04-14T18:34:47.612Z"
   },
   {
    "duration": 15,
    "start_time": "2022-04-14T18:34:56.616Z"
   },
   {
    "duration": 23,
    "start_time": "2022-04-14T18:36:01.861Z"
   },
   {
    "duration": 17,
    "start_time": "2022-04-14T18:36:15.894Z"
   },
   {
    "duration": 128,
    "start_time": "2022-04-14T18:37:04.439Z"
   },
   {
    "duration": 13,
    "start_time": "2022-04-14T18:37:11.619Z"
   },
   {
    "duration": 18,
    "start_time": "2022-04-14T18:38:34.189Z"
   },
   {
    "duration": 18,
    "start_time": "2022-04-14T18:39:01.121Z"
   },
   {
    "duration": 23,
    "start_time": "2022-04-14T18:39:14.538Z"
   },
   {
    "duration": 1393,
    "start_time": "2022-04-14T18:41:06.893Z"
   },
   {
    "duration": 1324,
    "start_time": "2022-04-14T18:41:50.939Z"
   },
   {
    "duration": 1365,
    "start_time": "2022-04-14T18:42:40.132Z"
   },
   {
    "duration": 1693,
    "start_time": "2022-04-14T18:44:11.579Z"
   },
   {
    "duration": 1472,
    "start_time": "2022-04-14T18:44:29.823Z"
   },
   {
    "duration": 1316,
    "start_time": "2022-04-14T18:44:48.211Z"
   },
   {
    "duration": 4,
    "start_time": "2022-04-14T18:45:10.763Z"
   },
   {
    "duration": 80,
    "start_time": "2022-04-14T18:46:23.452Z"
   },
   {
    "duration": 1123,
    "start_time": "2022-04-14T18:46:45.675Z"
   },
   {
    "duration": 1831,
    "start_time": "2022-04-14T18:48:53.082Z"
   },
   {
    "duration": 106,
    "start_time": "2022-04-14T18:48:54.917Z"
   },
   {
    "duration": 46,
    "start_time": "2022-04-14T18:48:55.026Z"
   },
   {
    "duration": 59,
    "start_time": "2022-04-14T18:48:55.075Z"
   },
   {
    "duration": 9,
    "start_time": "2022-04-14T18:48:55.139Z"
   },
   {
    "duration": 63,
    "start_time": "2022-04-14T18:48:55.150Z"
   },
   {
    "duration": 8,
    "start_time": "2022-04-14T18:48:55.215Z"
   },
   {
    "duration": 9,
    "start_time": "2022-04-14T18:48:55.226Z"
   },
   {
    "duration": 10,
    "start_time": "2022-04-14T18:48:55.237Z"
   },
   {
    "duration": 55,
    "start_time": "2022-04-14T18:48:55.249Z"
   },
   {
    "duration": 6,
    "start_time": "2022-04-14T18:48:55.306Z"
   },
   {
    "duration": 31,
    "start_time": "2022-04-14T18:48:55.314Z"
   },
   {
    "duration": 38,
    "start_time": "2022-04-14T18:48:55.347Z"
   },
   {
    "duration": 22,
    "start_time": "2022-04-14T18:48:55.394Z"
   },
   {
    "duration": 323,
    "start_time": "2022-04-14T18:48:55.419Z"
   },
   {
    "duration": 5,
    "start_time": "2022-04-14T18:48:55.745Z"
   },
   {
    "duration": 199,
    "start_time": "2022-04-14T18:48:55.761Z"
   },
   {
    "duration": 37,
    "start_time": "2022-04-14T18:48:55.967Z"
   },
   {
    "duration": 528,
    "start_time": "2022-04-14T18:48:56.006Z"
   },
   {
    "duration": 23,
    "start_time": "2022-04-14T18:48:56.536Z"
   },
   {
    "duration": 28,
    "start_time": "2022-04-14T18:48:56.562Z"
   },
   {
    "duration": 419,
    "start_time": "2022-04-14T18:48:56.598Z"
   },
   {
    "duration": 1286,
    "start_time": "2022-04-14T18:48:57.020Z"
   },
   {
    "duration": 26,
    "start_time": "2022-04-14T18:48:58.309Z"
   },
   {
    "duration": 21,
    "start_time": "2022-04-14T18:48:58.360Z"
   },
   {
    "duration": 98,
    "start_time": "2022-04-14T18:48:58.384Z"
   },
   {
    "duration": 19,
    "start_time": "2022-04-14T18:48:58.486Z"
   },
   {
    "duration": 565,
    "start_time": "2022-04-14T18:48:58.508Z"
   },
   {
    "duration": 18,
    "start_time": "2022-04-14T18:48:59.075Z"
   },
   {
    "duration": 48,
    "start_time": "2022-04-14T18:48:59.096Z"
   },
   {
    "duration": 62,
    "start_time": "2022-04-14T18:48:59.146Z"
   },
   {
    "duration": 208,
    "start_time": "2022-04-14T18:48:59.210Z"
   },
   {
    "duration": 0,
    "start_time": "2022-04-14T18:48:59.420Z"
   },
   {
    "duration": 0,
    "start_time": "2022-04-14T18:48:59.421Z"
   },
   {
    "duration": 0,
    "start_time": "2022-04-14T18:48:59.423Z"
   },
   {
    "duration": 0,
    "start_time": "2022-04-14T18:48:59.427Z"
   },
   {
    "duration": 0,
    "start_time": "2022-04-14T18:48:59.428Z"
   },
   {
    "duration": 0,
    "start_time": "2022-04-14T18:48:59.430Z"
   },
   {
    "duration": 1618,
    "start_time": "2022-04-14T18:50:27.822Z"
   },
   {
    "duration": 4,
    "start_time": "2022-04-14T18:50:34.008Z"
   },
   {
    "duration": 1108,
    "start_time": "2022-04-14T18:50:35.583Z"
   },
   {
    "duration": 7,
    "start_time": "2022-04-14T18:50:37.701Z"
   },
   {
    "duration": 1880,
    "start_time": "2022-04-14T18:51:32.510Z"
   },
   {
    "duration": 94,
    "start_time": "2022-04-14T18:51:34.394Z"
   },
   {
    "duration": 23,
    "start_time": "2022-04-14T18:51:34.491Z"
   },
   {
    "duration": 51,
    "start_time": "2022-04-14T18:51:34.518Z"
   },
   {
    "duration": 53,
    "start_time": "2022-04-14T18:51:34.572Z"
   },
   {
    "duration": 40,
    "start_time": "2022-04-14T18:51:34.628Z"
   },
   {
    "duration": 53,
    "start_time": "2022-04-14T18:51:34.678Z"
   },
   {
    "duration": 15,
    "start_time": "2022-04-14T18:51:34.735Z"
   },
   {
    "duration": 65,
    "start_time": "2022-04-14T18:51:34.761Z"
   },
   {
    "duration": 66,
    "start_time": "2022-04-14T18:51:34.830Z"
   },
   {
    "duration": 27,
    "start_time": "2022-04-14T18:51:34.899Z"
   },
   {
    "duration": 106,
    "start_time": "2022-04-14T18:51:34.930Z"
   },
   {
    "duration": 34,
    "start_time": "2022-04-14T18:51:35.038Z"
   },
   {
    "duration": 54,
    "start_time": "2022-04-14T18:51:35.075Z"
   },
   {
    "duration": 375,
    "start_time": "2022-04-14T18:51:35.131Z"
   },
   {
    "duration": 8,
    "start_time": "2022-04-14T18:51:35.511Z"
   },
   {
    "duration": 227,
    "start_time": "2022-04-14T18:51:35.521Z"
   },
   {
    "duration": 53,
    "start_time": "2022-04-14T18:51:35.754Z"
   },
   {
    "duration": 477,
    "start_time": "2022-04-14T18:51:35.810Z"
   },
   {
    "duration": 13,
    "start_time": "2022-04-14T18:51:36.289Z"
   },
   {
    "duration": 27,
    "start_time": "2022-04-14T18:51:36.306Z"
   },
   {
    "duration": 474,
    "start_time": "2022-04-14T18:51:36.336Z"
   },
   {
    "duration": 1403,
    "start_time": "2022-04-14T18:51:36.813Z"
   },
   {
    "duration": 50,
    "start_time": "2022-04-14T18:51:38.222Z"
   },
   {
    "duration": 59,
    "start_time": "2022-04-14T18:51:38.275Z"
   },
   {
    "duration": 85,
    "start_time": "2022-04-14T18:51:38.337Z"
   },
   {
    "duration": 14,
    "start_time": "2022-04-14T18:51:38.425Z"
   },
   {
    "duration": 598,
    "start_time": "2022-04-14T18:51:38.446Z"
   },
   {
    "duration": 8,
    "start_time": "2022-04-14T18:51:39.047Z"
   },
   {
    "duration": 76,
    "start_time": "2022-04-14T18:51:39.057Z"
   },
   {
    "duration": 1468,
    "start_time": "2022-04-14T18:51:39.136Z"
   },
   {
    "duration": 1118,
    "start_time": "2022-04-14T18:51:40.608Z"
   },
   {
    "duration": 42,
    "start_time": "2022-04-14T18:51:41.729Z"
   },
   {
    "duration": 676,
    "start_time": "2022-04-14T18:51:41.779Z"
   },
   {
    "duration": 374,
    "start_time": "2022-04-14T18:51:42.458Z"
   },
   {
    "duration": 22,
    "start_time": "2022-04-14T18:53:19.420Z"
   },
   {
    "duration": 22,
    "start_time": "2022-04-14T18:53:33.629Z"
   },
   {
    "duration": 11,
    "start_time": "2022-04-14T18:54:43.111Z"
   },
   {
    "duration": 7,
    "start_time": "2022-04-14T18:55:26.391Z"
   },
   {
    "duration": 1105,
    "start_time": "2022-04-14T18:55:29.423Z"
   },
   {
    "duration": 30,
    "start_time": "2022-04-14T18:56:12.793Z"
   },
   {
    "duration": 6,
    "start_time": "2022-04-14T18:58:11.938Z"
   },
   {
    "duration": 6,
    "start_time": "2022-04-14T18:59:08.210Z"
   },
   {
    "duration": 87,
    "start_time": "2022-04-14T19:00:24.677Z"
   },
   {
    "duration": 3,
    "start_time": "2022-04-14T19:01:03.644Z"
   },
   {
    "duration": 85,
    "start_time": "2022-04-14T19:02:09.678Z"
   },
   {
    "duration": 4,
    "start_time": "2022-04-14T19:02:19.764Z"
   },
   {
    "duration": 690,
    "start_time": "2022-04-14T19:02:19.772Z"
   },
   {
    "duration": 30,
    "start_time": "2022-04-14T19:02:20.465Z"
   },
   {
    "duration": 297,
    "start_time": "2022-04-14T19:02:20.500Z"
   },
   {
    "duration": 83,
    "start_time": "2022-04-14T19:02:20.806Z"
   },
   {
    "duration": 68,
    "start_time": "2022-04-14T19:02:20.892Z"
   },
   {
    "duration": 19,
    "start_time": "2022-04-14T19:02:20.963Z"
   },
   {
    "duration": 64,
    "start_time": "2022-04-14T19:02:20.986Z"
   },
   {
    "duration": 86,
    "start_time": "2022-04-14T19:02:21.055Z"
   },
   {
    "duration": 82,
    "start_time": "2022-04-14T19:02:21.145Z"
   },
   {
    "duration": 13,
    "start_time": "2022-04-14T19:02:21.230Z"
   },
   {
    "duration": 94,
    "start_time": "2022-04-14T19:02:21.249Z"
   },
   {
    "duration": 35,
    "start_time": "2022-04-14T19:02:21.345Z"
   },
   {
    "duration": 94,
    "start_time": "2022-04-14T19:02:21.384Z"
   },
   {
    "duration": 517,
    "start_time": "2022-04-14T19:02:21.484Z"
   },
   {
    "duration": 10,
    "start_time": "2022-04-14T19:02:22.004Z"
   },
   {
    "duration": 263,
    "start_time": "2022-04-14T19:02:22.018Z"
   },
   {
    "duration": 34,
    "start_time": "2022-04-14T19:02:22.287Z"
   },
   {
    "duration": 576,
    "start_time": "2022-04-14T19:02:22.324Z"
   },
   {
    "duration": 13,
    "start_time": "2022-04-14T19:02:22.910Z"
   },
   {
    "duration": 54,
    "start_time": "2022-04-14T19:02:22.933Z"
   },
   {
    "duration": 755,
    "start_time": "2022-04-14T19:02:22.990Z"
   },
   {
    "duration": 1874,
    "start_time": "2022-04-14T19:02:23.749Z"
   },
   {
    "duration": 38,
    "start_time": "2022-04-14T19:02:25.627Z"
   },
   {
    "duration": 82,
    "start_time": "2022-04-14T19:02:25.668Z"
   },
   {
    "duration": 175,
    "start_time": "2022-04-14T19:02:25.757Z"
   },
   {
    "duration": 46,
    "start_time": "2022-04-14T19:02:25.935Z"
   },
   {
    "duration": 847,
    "start_time": "2022-04-14T19:02:25.987Z"
   },
   {
    "duration": 10,
    "start_time": "2022-04-14T19:02:26.837Z"
   },
   {
    "duration": 120,
    "start_time": "2022-04-14T19:02:26.851Z"
   },
   {
    "duration": 91,
    "start_time": "2022-04-14T19:02:31.414Z"
   },
   {
    "duration": 19,
    "start_time": "2022-04-14T19:03:33.773Z"
   },
   {
    "duration": 2151,
    "start_time": "2022-04-14T19:03:38.046Z"
   },
   {
    "duration": 14,
    "start_time": "2022-04-14T19:04:12.818Z"
   },
   {
    "duration": 5,
    "start_time": "2022-04-14T19:04:20.147Z"
   },
   {
    "duration": 313,
    "start_time": "2022-04-14T19:04:20.165Z"
   },
   {
    "duration": 27,
    "start_time": "2022-04-14T19:04:20.486Z"
   },
   {
    "duration": 184,
    "start_time": "2022-04-14T19:04:20.523Z"
   },
   {
    "duration": 80,
    "start_time": "2022-04-14T19:04:20.725Z"
   },
   {
    "duration": 117,
    "start_time": "2022-04-14T19:04:20.813Z"
   },
   {
    "duration": 138,
    "start_time": "2022-04-14T19:04:20.938Z"
   },
   {
    "duration": 109,
    "start_time": "2022-04-14T19:04:21.084Z"
   },
   {
    "duration": 178,
    "start_time": "2022-04-14T19:04:21.202Z"
   },
   {
    "duration": 136,
    "start_time": "2022-04-14T19:04:21.391Z"
   },
   {
    "duration": 112,
    "start_time": "2022-04-14T19:04:21.543Z"
   },
   {
    "duration": 182,
    "start_time": "2022-04-14T19:04:21.665Z"
   },
   {
    "duration": 49,
    "start_time": "2022-04-14T19:04:21.865Z"
   },
   {
    "duration": 87,
    "start_time": "2022-04-14T19:04:21.940Z"
   },
   {
    "duration": 665,
    "start_time": "2022-04-14T19:04:22.043Z"
   },
   {
    "duration": 15,
    "start_time": "2022-04-14T19:04:22.720Z"
   },
   {
    "duration": 361,
    "start_time": "2022-04-14T19:04:22.747Z"
   },
   {
    "duration": 49,
    "start_time": "2022-04-14T19:04:23.118Z"
   },
   {
    "duration": 638,
    "start_time": "2022-04-14T19:04:23.182Z"
   },
   {
    "duration": 12,
    "start_time": "2022-04-14T19:04:23.832Z"
   },
   {
    "duration": 165,
    "start_time": "2022-04-14T19:04:23.854Z"
   },
   {
    "duration": 953,
    "start_time": "2022-04-14T19:04:24.030Z"
   },
   {
    "duration": 2255,
    "start_time": "2022-04-14T19:04:24.986Z"
   },
   {
    "duration": 58,
    "start_time": "2022-04-14T19:04:27.247Z"
   },
   {
    "duration": 111,
    "start_time": "2022-04-14T19:04:27.310Z"
   },
   {
    "duration": 253,
    "start_time": "2022-04-14T19:04:27.424Z"
   },
   {
    "duration": 27,
    "start_time": "2022-04-14T19:04:27.681Z"
   },
   {
    "duration": 1109,
    "start_time": "2022-04-14T19:04:27.716Z"
   },
   {
    "duration": 12,
    "start_time": "2022-04-14T19:04:28.830Z"
   },
   {
    "duration": 211,
    "start_time": "2022-04-14T19:04:28.846Z"
   },
   {
    "duration": 12,
    "start_time": "2022-04-14T19:04:39.035Z"
   },
   {
    "duration": 15,
    "start_time": "2022-04-14T19:04:59.877Z"
   },
   {
    "duration": 17,
    "start_time": "2022-04-14T19:05:53.730Z"
   },
   {
    "duration": 8,
    "start_time": "2022-04-14T19:06:07.510Z"
   },
   {
    "duration": 6,
    "start_time": "2022-04-14T19:06:48.840Z"
   },
   {
    "duration": 8,
    "start_time": "2022-04-14T19:09:38.277Z"
   },
   {
    "duration": 1526,
    "start_time": "2022-04-14T19:09:39.182Z"
   },
   {
    "duration": 1283,
    "start_time": "2022-04-14T19:09:40.996Z"
   },
   {
    "duration": 2365,
    "start_time": "2022-04-14T19:12:37.096Z"
   },
   {
    "duration": 127,
    "start_time": "2022-04-14T19:12:39.470Z"
   },
   {
    "duration": 38,
    "start_time": "2022-04-14T19:12:39.605Z"
   },
   {
    "duration": 121,
    "start_time": "2022-04-14T19:12:39.652Z"
   },
   {
    "duration": 70,
    "start_time": "2022-04-14T19:12:39.778Z"
   },
   {
    "duration": 97,
    "start_time": "2022-04-14T19:12:39.850Z"
   },
   {
    "duration": 49,
    "start_time": "2022-04-14T19:12:39.950Z"
   },
   {
    "duration": 69,
    "start_time": "2022-04-14T19:12:40.002Z"
   },
   {
    "duration": 89,
    "start_time": "2022-04-14T19:12:40.074Z"
   },
   {
    "duration": 125,
    "start_time": "2022-04-14T19:12:40.167Z"
   },
   {
    "duration": 15,
    "start_time": "2022-04-14T19:12:40.298Z"
   },
   {
    "duration": 81,
    "start_time": "2022-04-14T19:12:40.320Z"
   },
   {
    "duration": 67,
    "start_time": "2022-04-14T19:12:40.404Z"
   },
   {
    "duration": 83,
    "start_time": "2022-04-14T19:12:40.480Z"
   },
   {
    "duration": 499,
    "start_time": "2022-04-14T19:12:40.568Z"
   },
   {
    "duration": 10,
    "start_time": "2022-04-14T19:12:41.070Z"
   },
   {
    "duration": 301,
    "start_time": "2022-04-14T19:12:41.083Z"
   },
   {
    "duration": 35,
    "start_time": "2022-04-14T19:12:41.387Z"
   },
   {
    "duration": 515,
    "start_time": "2022-04-14T19:12:41.425Z"
   },
   {
    "duration": 8,
    "start_time": "2022-04-14T19:12:41.942Z"
   },
   {
    "duration": 82,
    "start_time": "2022-04-14T19:12:41.957Z"
   },
   {
    "duration": 763,
    "start_time": "2022-04-14T19:12:42.042Z"
   },
   {
    "duration": 1771,
    "start_time": "2022-04-14T19:14:34.734Z"
   },
   {
    "duration": 86,
    "start_time": "2022-04-14T19:14:36.508Z"
   },
   {
    "duration": 25,
    "start_time": "2022-04-14T19:14:36.597Z"
   },
   {
    "duration": 52,
    "start_time": "2022-04-14T19:14:36.626Z"
   },
   {
    "duration": 18,
    "start_time": "2022-04-14T19:14:36.681Z"
   },
   {
    "duration": 32,
    "start_time": "2022-04-14T19:14:36.702Z"
   },
   {
    "duration": 8,
    "start_time": "2022-04-14T19:14:36.737Z"
   },
   {
    "duration": 29,
    "start_time": "2022-04-14T19:14:36.748Z"
   },
   {
    "duration": 43,
    "start_time": "2022-04-14T19:14:36.780Z"
   },
   {
    "duration": 48,
    "start_time": "2022-04-14T19:14:36.829Z"
   },
   {
    "duration": 8,
    "start_time": "2022-04-14T19:14:36.880Z"
   },
   {
    "duration": 81,
    "start_time": "2022-04-14T19:14:36.891Z"
   },
   {
    "duration": 36,
    "start_time": "2022-04-14T19:14:36.976Z"
   },
   {
    "duration": 24,
    "start_time": "2022-04-14T19:14:37.016Z"
   },
   {
    "duration": 400,
    "start_time": "2022-04-14T19:14:37.043Z"
   },
   {
    "duration": 18,
    "start_time": "2022-04-14T19:14:37.446Z"
   },
   {
    "duration": 254,
    "start_time": "2022-04-14T19:14:37.468Z"
   },
   {
    "duration": 42,
    "start_time": "2022-04-14T19:14:37.724Z"
   },
   {
    "duration": 425,
    "start_time": "2022-04-14T19:14:37.768Z"
   },
   {
    "duration": 10,
    "start_time": "2022-04-14T19:14:38.198Z"
   },
   {
    "duration": 13,
    "start_time": "2022-04-14T19:14:38.210Z"
   },
   {
    "duration": 435,
    "start_time": "2022-04-14T19:14:38.225Z"
   },
   {
    "duration": 1371,
    "start_time": "2022-04-14T19:14:38.662Z"
   },
   {
    "duration": 37,
    "start_time": "2022-04-14T19:14:40.036Z"
   },
   {
    "duration": 23,
    "start_time": "2022-04-14T19:14:40.088Z"
   },
   {
    "duration": 88,
    "start_time": "2022-04-14T19:14:40.114Z"
   },
   {
    "duration": 19,
    "start_time": "2022-04-14T19:14:40.205Z"
   },
   {
    "duration": 478,
    "start_time": "2022-04-14T19:14:40.230Z"
   },
   {
    "duration": 7,
    "start_time": "2022-04-14T19:14:40.710Z"
   },
   {
    "duration": 24,
    "start_time": "2022-04-14T19:14:40.720Z"
   },
   {
    "duration": 21,
    "start_time": "2022-04-14T19:14:40.746Z"
   },
   {
    "duration": 39,
    "start_time": "2022-04-14T19:14:40.773Z"
   },
   {
    "duration": 1370,
    "start_time": "2022-04-14T19:14:40.814Z"
   },
   {
    "duration": 1097,
    "start_time": "2022-04-14T19:14:42.187Z"
   },
   {
    "duration": 25,
    "start_time": "2022-04-14T19:14:43.292Z"
   },
   {
    "duration": 611,
    "start_time": "2022-04-14T19:14:43.320Z"
   },
   {
    "duration": 351,
    "start_time": "2022-04-14T19:14:43.934Z"
   },
   {
    "duration": 2024,
    "start_time": "2022-04-15T07:18:48.674Z"
   },
   {
    "duration": 72,
    "start_time": "2022-04-15T07:18:50.702Z"
   },
   {
    "duration": 18,
    "start_time": "2022-04-15T07:18:50.777Z"
   },
   {
    "duration": 28,
    "start_time": "2022-04-15T07:18:50.797Z"
   },
   {
    "duration": 25,
    "start_time": "2022-04-15T07:18:50.828Z"
   },
   {
    "duration": 25,
    "start_time": "2022-04-15T07:18:50.855Z"
   },
   {
    "duration": 20,
    "start_time": "2022-04-15T07:18:50.882Z"
   },
   {
    "duration": 18,
    "start_time": "2022-04-15T07:18:50.904Z"
   },
   {
    "duration": 37,
    "start_time": "2022-04-15T07:18:50.924Z"
   },
   {
    "duration": 39,
    "start_time": "2022-04-15T07:18:50.963Z"
   },
   {
    "duration": 23,
    "start_time": "2022-04-15T07:18:51.004Z"
   },
   {
    "duration": 48,
    "start_time": "2022-04-15T07:18:51.029Z"
   },
   {
    "duration": 14,
    "start_time": "2022-04-15T07:18:51.080Z"
   },
   {
    "duration": 29,
    "start_time": "2022-04-15T07:18:51.098Z"
   },
   {
    "duration": 278,
    "start_time": "2022-04-15T07:18:51.129Z"
   },
   {
    "duration": 7,
    "start_time": "2022-04-15T07:18:51.410Z"
   },
   {
    "duration": 213,
    "start_time": "2022-04-15T07:18:51.420Z"
   },
   {
    "duration": 36,
    "start_time": "2022-04-15T07:18:51.636Z"
   },
   {
    "duration": 355,
    "start_time": "2022-04-15T07:18:51.675Z"
   },
   {
    "duration": 20,
    "start_time": "2022-04-15T07:18:52.032Z"
   },
   {
    "duration": 78,
    "start_time": "2022-04-15T07:18:52.054Z"
   },
   {
    "duration": 372,
    "start_time": "2022-04-15T07:18:52.134Z"
   },
   {
    "duration": 1130,
    "start_time": "2022-04-15T07:18:52.509Z"
   },
   {
    "duration": 26,
    "start_time": "2022-04-15T07:18:53.641Z"
   },
   {
    "duration": 9,
    "start_time": "2022-04-15T07:18:53.669Z"
   },
   {
    "duration": 81,
    "start_time": "2022-04-15T07:18:53.681Z"
   },
   {
    "duration": 48,
    "start_time": "2022-04-15T07:18:53.764Z"
   },
   {
    "duration": 359,
    "start_time": "2022-04-15T07:18:53.815Z"
   },
   {
    "duration": 6,
    "start_time": "2022-04-15T07:18:54.176Z"
   },
   {
    "duration": 28,
    "start_time": "2022-04-15T07:18:54.184Z"
   },
   {
    "duration": 34,
    "start_time": "2022-04-15T07:18:54.213Z"
   },
   {
    "duration": 33,
    "start_time": "2022-04-15T07:18:54.249Z"
   },
   {
    "duration": 1067,
    "start_time": "2022-04-15T07:18:54.284Z"
   },
   {
    "duration": 961,
    "start_time": "2022-04-15T07:18:55.354Z"
   },
   {
    "duration": 25,
    "start_time": "2022-04-15T07:18:56.324Z"
   },
   {
    "duration": 447,
    "start_time": "2022-04-15T07:18:56.353Z"
   },
   {
    "duration": 250,
    "start_time": "2022-04-15T07:18:56.802Z"
   },
   {
    "duration": 966,
    "start_time": "2022-04-15T07:19:19.295Z"
   },
   {
    "duration": 1082,
    "start_time": "2022-04-15T07:19:32.782Z"
   },
   {
    "duration": 949,
    "start_time": "2022-04-15T07:19:46.007Z"
   },
   {
    "duration": 882,
    "start_time": "2022-04-15T07:25:20.657Z"
   },
   {
    "duration": 1364,
    "start_time": "2022-04-15T07:25:29.761Z"
   },
   {
    "duration": 916,
    "start_time": "2022-04-15T07:25:51.882Z"
   },
   {
    "duration": 20,
    "start_time": "2022-04-15T07:27:07.728Z"
   },
   {
    "duration": 20,
    "start_time": "2022-04-15T07:27:11.122Z"
   },
   {
    "duration": 5,
    "start_time": "2022-04-15T07:34:42.070Z"
   },
   {
    "duration": 2728,
    "start_time": "2022-04-15T07:34:48.366Z"
   },
   {
    "duration": 5,
    "start_time": "2022-04-15T07:36:16.664Z"
   },
   {
    "duration": 399,
    "start_time": "2022-04-15T07:36:17.423Z"
   },
   {
    "duration": 4,
    "start_time": "2022-04-15T07:38:00.927Z"
   },
   {
    "duration": 589,
    "start_time": "2022-04-15T07:38:02.175Z"
   },
   {
    "duration": 6,
    "start_time": "2022-04-15T07:38:46.186Z"
   },
   {
    "duration": 468,
    "start_time": "2022-04-15T07:38:46.768Z"
   },
   {
    "duration": 5,
    "start_time": "2022-04-15T07:40:53.496Z"
   },
   {
    "duration": 405,
    "start_time": "2022-04-15T07:40:54.065Z"
   },
   {
    "duration": 4,
    "start_time": "2022-04-15T07:41:43.745Z"
   },
   {
    "duration": 451,
    "start_time": "2022-04-15T07:41:45.665Z"
   },
   {
    "duration": 4,
    "start_time": "2022-04-15T07:42:11.636Z"
   },
   {
    "duration": 396,
    "start_time": "2022-04-15T07:42:12.209Z"
   },
   {
    "duration": 5,
    "start_time": "2022-04-15T07:42:29.875Z"
   },
   {
    "duration": 693,
    "start_time": "2022-04-15T07:42:37.409Z"
   },
   {
    "duration": 15,
    "start_time": "2022-04-15T07:43:07.371Z"
   },
   {
    "duration": 4,
    "start_time": "2022-04-15T07:43:14.907Z"
   },
   {
    "duration": 404,
    "start_time": "2022-04-15T07:43:15.457Z"
   },
   {
    "duration": 14,
    "start_time": "2022-04-15T07:45:39.700Z"
   },
   {
    "duration": 3,
    "start_time": "2022-04-15T07:45:40.564Z"
   },
   {
    "duration": 384,
    "start_time": "2022-04-15T07:45:41.980Z"
   },
   {
    "duration": 5,
    "start_time": "2022-04-15T07:54:09.265Z"
   },
   {
    "duration": 401,
    "start_time": "2022-04-15T07:54:09.983Z"
   },
   {
    "duration": 5,
    "start_time": "2022-04-15T07:55:05.945Z"
   },
   {
    "duration": 452,
    "start_time": "2022-04-15T07:55:06.537Z"
   },
   {
    "duration": 5,
    "start_time": "2022-04-15T07:55:35.145Z"
   },
   {
    "duration": 404,
    "start_time": "2022-04-15T07:55:35.875Z"
   },
   {
    "duration": 4,
    "start_time": "2022-04-15T07:56:34.930Z"
   },
   {
    "duration": 476,
    "start_time": "2022-04-15T07:56:35.522Z"
   },
   {
    "duration": 5,
    "start_time": "2022-04-15T07:58:38.171Z"
   },
   {
    "duration": 420,
    "start_time": "2022-04-15T07:58:38.899Z"
   },
   {
    "duration": 4,
    "start_time": "2022-04-15T08:00:11.507Z"
   },
   {
    "duration": 463,
    "start_time": "2022-04-15T08:00:12.163Z"
   },
   {
    "duration": 5,
    "start_time": "2022-04-15T08:03:09.963Z"
   },
   {
    "duration": 98,
    "start_time": "2022-04-15T08:03:25.452Z"
   },
   {
    "duration": 21,
    "start_time": "2022-04-15T08:03:37.078Z"
   },
   {
    "duration": 718,
    "start_time": "2022-04-15T08:03:39.590Z"
   },
   {
    "duration": 44,
    "start_time": "2022-04-15T08:03:49.292Z"
   },
   {
    "duration": 4,
    "start_time": "2022-04-15T08:05:43.085Z"
   },
   {
    "duration": 5,
    "start_time": "2022-04-15T08:07:26.558Z"
   },
   {
    "duration": 20,
    "start_time": "2022-04-15T08:07:27.382Z"
   },
   {
    "duration": 39,
    "start_time": "2022-04-15T08:07:44.736Z"
   },
   {
    "duration": 4,
    "start_time": "2022-04-15T08:08:19.175Z"
   },
   {
    "duration": 86,
    "start_time": "2022-04-15T08:08:19.183Z"
   },
   {
    "duration": 14,
    "start_time": "2022-04-15T08:08:19.272Z"
   },
   {
    "duration": 22,
    "start_time": "2022-04-15T08:08:19.290Z"
   },
   {
    "duration": 7,
    "start_time": "2022-04-15T08:08:19.352Z"
   },
   {
    "duration": 20,
    "start_time": "2022-04-15T08:08:19.361Z"
   },
   {
    "duration": 7,
    "start_time": "2022-04-15T08:08:19.383Z"
   },
   {
    "duration": 12,
    "start_time": "2022-04-15T08:08:19.393Z"
   },
   {
    "duration": 6,
    "start_time": "2022-04-15T08:08:19.409Z"
   },
   {
    "duration": 21,
    "start_time": "2022-04-15T08:08:19.451Z"
   },
   {
    "duration": 7,
    "start_time": "2022-04-15T08:08:19.475Z"
   },
   {
    "duration": 72,
    "start_time": "2022-04-15T08:08:19.484Z"
   },
   {
    "duration": 13,
    "start_time": "2022-04-15T08:08:19.559Z"
   },
   {
    "duration": 19,
    "start_time": "2022-04-15T08:08:19.574Z"
   },
   {
    "duration": 296,
    "start_time": "2022-04-15T08:08:19.595Z"
   },
   {
    "duration": 7,
    "start_time": "2022-04-15T08:08:19.893Z"
   },
   {
    "duration": 270,
    "start_time": "2022-04-15T08:08:19.903Z"
   },
   {
    "duration": 23,
    "start_time": "2022-04-15T08:08:20.176Z"
   },
   {
    "duration": 407,
    "start_time": "2022-04-15T08:08:20.201Z"
   },
   {
    "duration": 7,
    "start_time": "2022-04-15T08:08:20.610Z"
   },
   {
    "duration": 16,
    "start_time": "2022-04-15T08:08:20.619Z"
   },
   {
    "duration": 378,
    "start_time": "2022-04-15T08:08:20.637Z"
   },
   {
    "duration": 1216,
    "start_time": "2022-04-15T08:08:21.018Z"
   },
   {
    "duration": 29,
    "start_time": "2022-04-15T08:08:22.238Z"
   },
   {
    "duration": 11,
    "start_time": "2022-04-15T08:08:22.269Z"
   },
   {
    "duration": 81,
    "start_time": "2022-04-15T08:08:22.282Z"
   },
   {
    "duration": 12,
    "start_time": "2022-04-15T08:08:22.366Z"
   },
   {
    "duration": 377,
    "start_time": "2022-04-15T08:08:22.381Z"
   },
   {
    "duration": 8,
    "start_time": "2022-04-15T08:08:22.761Z"
   },
   {
    "duration": 19,
    "start_time": "2022-04-15T08:08:22.772Z"
   },
   {
    "duration": 9,
    "start_time": "2022-04-15T08:08:22.793Z"
   },
   {
    "duration": 11,
    "start_time": "2022-04-15T08:08:22.805Z"
   },
   {
    "duration": 1404,
    "start_time": "2022-04-15T08:08:22.852Z"
   },
   {
    "duration": 910,
    "start_time": "2022-04-15T08:08:24.258Z"
   },
   {
    "duration": 17,
    "start_time": "2022-04-15T08:08:25.170Z"
   },
   {
    "duration": 440,
    "start_time": "2022-04-15T08:08:25.190Z"
   },
   {
    "duration": 5,
    "start_time": "2022-04-15T08:08:32.857Z"
   },
   {
    "duration": 39,
    "start_time": "2022-04-15T08:08:33.649Z"
   },
   {
    "duration": 4,
    "start_time": "2022-04-15T08:13:46.603Z"
   },
   {
    "duration": 42,
    "start_time": "2022-04-15T08:13:47.805Z"
   },
   {
    "duration": 24,
    "start_time": "2022-04-15T08:14:00.325Z"
   },
   {
    "duration": 13,
    "start_time": "2022-04-15T08:14:16.055Z"
   },
   {
    "duration": 112,
    "start_time": "2022-04-15T08:21:24.391Z"
   },
   {
    "duration": 1127,
    "start_time": "2022-04-15T08:24:24.881Z"
   },
   {
    "duration": 4,
    "start_time": "2022-04-15T08:26:02.084Z"
   },
   {
    "duration": 12,
    "start_time": "2022-04-15T08:27:32.094Z"
   },
   {
    "duration": 20,
    "start_time": "2022-04-15T08:32:04.131Z"
   },
   {
    "duration": 21,
    "start_time": "2022-04-15T08:32:19.462Z"
   },
   {
    "duration": 20,
    "start_time": "2022-04-15T08:33:45.543Z"
   },
   {
    "duration": 17,
    "start_time": "2022-04-15T08:33:54.119Z"
   },
   {
    "duration": 18,
    "start_time": "2022-04-15T08:37:06.873Z"
   },
   {
    "duration": 20,
    "start_time": "2022-04-15T08:37:36.482Z"
   },
   {
    "duration": 7,
    "start_time": "2022-04-15T08:42:05.411Z"
   },
   {
    "duration": 15,
    "start_time": "2022-04-15T08:42:15.092Z"
   },
   {
    "duration": 47,
    "start_time": "2022-04-15T08:43:23.196Z"
   },
   {
    "duration": 22,
    "start_time": "2022-04-15T08:43:55.901Z"
   },
   {
    "duration": 25,
    "start_time": "2022-04-15T08:45:08.414Z"
   },
   {
    "duration": 20,
    "start_time": "2022-04-15T08:45:36.590Z"
   },
   {
    "duration": 21,
    "start_time": "2022-04-15T08:45:42.462Z"
   },
   {
    "duration": 28,
    "start_time": "2022-04-15T08:45:57.367Z"
   },
   {
    "duration": 24,
    "start_time": "2022-04-15T08:46:04.142Z"
   },
   {
    "duration": 308,
    "start_time": "2022-04-15T08:53:47.835Z"
   },
   {
    "duration": 21,
    "start_time": "2022-04-15T08:54:14.003Z"
   },
   {
    "duration": 353,
    "start_time": "2022-04-15T08:54:15.962Z"
   },
   {
    "duration": 452,
    "start_time": "2022-04-15T08:55:43.275Z"
   },
   {
    "duration": 389,
    "start_time": "2022-04-15T08:57:50.188Z"
   },
   {
    "duration": 426,
    "start_time": "2022-04-15T08:59:33.910Z"
   },
   {
    "duration": 651,
    "start_time": "2022-04-15T08:59:48.431Z"
   },
   {
    "duration": 479,
    "start_time": "2022-04-15T09:05:04.956Z"
   },
   {
    "duration": 352,
    "start_time": "2022-04-15T09:06:16.691Z"
   },
   {
    "duration": 356,
    "start_time": "2022-04-15T09:06:24.281Z"
   },
   {
    "duration": 327,
    "start_time": "2022-04-15T09:07:01.818Z"
   },
   {
    "duration": 498,
    "start_time": "2022-04-15T09:09:43.333Z"
   },
   {
    "duration": 352,
    "start_time": "2022-04-15T09:11:21.557Z"
   },
   {
    "duration": 30,
    "start_time": "2022-04-15T09:11:25.092Z"
   },
   {
    "duration": 29,
    "start_time": "2022-04-15T09:11:29.259Z"
   },
   {
    "duration": 28,
    "start_time": "2022-04-15T09:11:32.739Z"
   },
   {
    "duration": 352,
    "start_time": "2022-04-15T09:14:00.517Z"
   },
   {
    "duration": 360,
    "start_time": "2022-04-15T09:14:19.046Z"
   },
   {
    "duration": 335,
    "start_time": "2022-04-15T09:14:59.470Z"
   },
   {
    "duration": 334,
    "start_time": "2022-04-15T09:19:02.601Z"
   },
   {
    "duration": 483,
    "start_time": "2022-04-15T09:20:33.993Z"
   },
   {
    "duration": 312,
    "start_time": "2022-04-15T09:21:20.330Z"
   },
   {
    "duration": 466,
    "start_time": "2022-04-15T09:21:26.994Z"
   },
   {
    "duration": 932,
    "start_time": "2022-04-15T09:32:52.248Z"
   },
   {
    "duration": 32,
    "start_time": "2022-04-15T09:34:29.375Z"
   },
   {
    "duration": 14,
    "start_time": "2022-04-15T09:35:26.232Z"
   },
   {
    "duration": 8,
    "start_time": "2022-04-15T09:35:34.232Z"
   },
   {
    "duration": 10,
    "start_time": "2022-04-15T09:35:53.474Z"
   },
   {
    "duration": 10,
    "start_time": "2022-04-15T09:37:03.849Z"
   },
   {
    "duration": 12,
    "start_time": "2022-04-15T09:39:38.209Z"
   },
   {
    "duration": 5,
    "start_time": "2022-04-15T09:48:07.888Z"
   },
   {
    "duration": 13,
    "start_time": "2022-04-15T09:51:23.697Z"
   },
   {
    "duration": 13,
    "start_time": "2022-04-15T09:51:32.265Z"
   },
   {
    "duration": 5,
    "start_time": "2022-04-15T09:51:42.909Z"
   },
   {
    "duration": 6,
    "start_time": "2022-04-15T09:53:02.858Z"
   },
   {
    "duration": 6,
    "start_time": "2022-04-15T09:56:15.611Z"
   },
   {
    "duration": 5,
    "start_time": "2022-04-15T09:57:55.860Z"
   },
   {
    "duration": 4,
    "start_time": "2022-04-15T09:58:10.148Z"
   },
   {
    "duration": 6,
    "start_time": "2022-04-15T09:58:46.260Z"
   },
   {
    "duration": 6,
    "start_time": "2022-04-15T09:59:02.109Z"
   },
   {
    "duration": 6,
    "start_time": "2022-04-15T10:00:18.399Z"
   },
   {
    "duration": 6,
    "start_time": "2022-04-15T10:01:00.672Z"
   },
   {
    "duration": 13,
    "start_time": "2022-04-15T10:02:11.592Z"
   },
   {
    "duration": 15,
    "start_time": "2022-04-15T10:02:30.841Z"
   },
   {
    "duration": 15,
    "start_time": "2022-04-15T10:03:06.120Z"
   },
   {
    "duration": 5,
    "start_time": "2022-04-15T10:04:13.545Z"
   },
   {
    "duration": 12,
    "start_time": "2022-04-15T10:04:21.476Z"
   },
   {
    "duration": 110,
    "start_time": "2022-04-15T10:04:39.505Z"
   },
   {
    "duration": 12,
    "start_time": "2022-04-15T10:04:51.473Z"
   },
   {
    "duration": 13,
    "start_time": "2022-04-15T10:05:06.489Z"
   },
   {
    "duration": 12,
    "start_time": "2022-04-15T10:05:30.466Z"
   },
   {
    "duration": 12,
    "start_time": "2022-04-15T10:05:48.466Z"
   },
   {
    "duration": 11,
    "start_time": "2022-04-15T10:06:03.970Z"
   },
   {
    "duration": 6,
    "start_time": "2022-04-15T10:06:32.465Z"
   },
   {
    "duration": 5,
    "start_time": "2022-04-15T10:07:24.283Z"
   },
   {
    "duration": 5,
    "start_time": "2022-04-15T10:08:35.243Z"
   },
   {
    "duration": 7,
    "start_time": "2022-04-15T10:09:05.410Z"
   },
   {
    "duration": 7,
    "start_time": "2022-04-15T10:09:27.582Z"
   },
   {
    "duration": 6,
    "start_time": "2022-04-15T10:09:37.539Z"
   },
   {
    "duration": 5,
    "start_time": "2022-04-15T10:15:11.511Z"
   },
   {
    "duration": 5,
    "start_time": "2022-04-15T10:15:27.501Z"
   },
   {
    "duration": 6,
    "start_time": "2022-04-15T10:15:33.725Z"
   },
   {
    "duration": 5,
    "start_time": "2022-04-15T10:17:13.175Z"
   },
   {
    "duration": 5,
    "start_time": "2022-04-15T10:17:21.632Z"
   },
   {
    "duration": 6,
    "start_time": "2022-04-15T10:22:03.515Z"
   },
   {
    "duration": 6,
    "start_time": "2022-04-15T10:22:15.194Z"
   },
   {
    "duration": 7,
    "start_time": "2022-04-15T10:22:23.010Z"
   },
   {
    "duration": 7,
    "start_time": "2022-04-15T10:22:28.417Z"
   },
   {
    "duration": 978,
    "start_time": "2022-04-15T10:26:15.533Z"
   },
   {
    "duration": 17,
    "start_time": "2022-04-15T10:33:47.889Z"
   },
   {
    "duration": 101,
    "start_time": "2022-04-15T10:33:57.832Z"
   },
   {
    "duration": 6,
    "start_time": "2022-04-15T10:34:14.704Z"
   },
   {
    "duration": 5,
    "start_time": "2022-04-15T10:34:24.832Z"
   },
   {
    "duration": 6,
    "start_time": "2022-04-15T10:34:46.545Z"
   },
   {
    "duration": 9,
    "start_time": "2022-04-15T10:34:50.986Z"
   },
   {
    "duration": 21,
    "start_time": "2022-04-15T10:35:20.852Z"
   },
   {
    "duration": 1817,
    "start_time": "2022-04-15T10:35:29.624Z"
   },
   {
    "duration": 87,
    "start_time": "2022-04-15T10:35:31.451Z"
   },
   {
    "duration": 20,
    "start_time": "2022-04-15T10:35:31.541Z"
   },
   {
    "duration": 59,
    "start_time": "2022-04-15T10:35:31.566Z"
   },
   {
    "duration": 8,
    "start_time": "2022-04-15T10:35:31.628Z"
   },
   {
    "duration": 19,
    "start_time": "2022-04-15T10:35:31.639Z"
   },
   {
    "duration": 15,
    "start_time": "2022-04-15T10:35:31.664Z"
   },
   {
    "duration": 20,
    "start_time": "2022-04-15T10:35:31.681Z"
   },
   {
    "duration": 22,
    "start_time": "2022-04-15T10:35:31.703Z"
   },
   {
    "duration": 21,
    "start_time": "2022-04-15T10:35:31.729Z"
   },
   {
    "duration": 6,
    "start_time": "2022-04-15T10:35:31.761Z"
   },
   {
    "duration": 43,
    "start_time": "2022-04-15T10:35:31.769Z"
   },
   {
    "duration": 13,
    "start_time": "2022-04-15T10:35:31.815Z"
   },
   {
    "duration": 48,
    "start_time": "2022-04-15T10:35:31.830Z"
   },
   {
    "duration": 415,
    "start_time": "2022-04-15T10:35:31.881Z"
   },
   {
    "duration": 7,
    "start_time": "2022-04-15T10:35:32.300Z"
   },
   {
    "duration": 238,
    "start_time": "2022-04-15T10:35:32.309Z"
   },
   {
    "duration": 28,
    "start_time": "2022-04-15T10:35:32.552Z"
   },
   {
    "duration": 404,
    "start_time": "2022-04-15T10:35:32.582Z"
   },
   {
    "duration": 11,
    "start_time": "2022-04-15T10:35:32.989Z"
   },
   {
    "duration": 18,
    "start_time": "2022-04-15T10:35:33.002Z"
   },
   {
    "duration": 544,
    "start_time": "2022-04-15T10:35:33.023Z"
   },
   {
    "duration": 1355,
    "start_time": "2022-04-15T10:35:33.571Z"
   },
   {
    "duration": 32,
    "start_time": "2022-04-15T10:35:34.928Z"
   },
   {
    "duration": 15,
    "start_time": "2022-04-15T10:35:34.961Z"
   },
   {
    "duration": 75,
    "start_time": "2022-04-15T10:35:34.979Z"
   },
   {
    "duration": 15,
    "start_time": "2022-04-15T10:35:35.061Z"
   },
   {
    "duration": 406,
    "start_time": "2022-04-15T10:35:35.081Z"
   },
   {
    "duration": 9,
    "start_time": "2022-04-15T10:35:35.490Z"
   },
   {
    "duration": 14,
    "start_time": "2022-04-15T10:35:35.502Z"
   },
   {
    "duration": 11,
    "start_time": "2022-04-15T10:35:35.518Z"
   },
   {
    "duration": 29,
    "start_time": "2022-04-15T10:35:35.531Z"
   },
   {
    "duration": 1172,
    "start_time": "2022-04-15T10:35:35.566Z"
   },
   {
    "duration": 1120,
    "start_time": "2022-04-15T10:35:36.740Z"
   },
   {
    "duration": 21,
    "start_time": "2022-04-15T10:35:37.862Z"
   },
   {
    "duration": 527,
    "start_time": "2022-04-15T10:35:37.886Z"
   },
   {
    "duration": 6,
    "start_time": "2022-04-15T10:35:38.415Z"
   },
   {
    "duration": 1862,
    "start_time": "2022-04-15T10:35:38.423Z"
   },
   {
    "duration": 0,
    "start_time": "2022-04-15T10:35:40.288Z"
   },
   {
    "duration": 0,
    "start_time": "2022-04-15T10:35:40.291Z"
   },
   {
    "duration": 0,
    "start_time": "2022-04-15T10:35:40.293Z"
   },
   {
    "duration": 0,
    "start_time": "2022-04-15T10:35:40.295Z"
   },
   {
    "duration": 0,
    "start_time": "2022-04-15T10:35:40.298Z"
   },
   {
    "duration": 0,
    "start_time": "2022-04-15T10:35:40.300Z"
   },
   {
    "duration": 0,
    "start_time": "2022-04-15T10:35:40.302Z"
   },
   {
    "duration": 0,
    "start_time": "2022-04-15T10:35:40.304Z"
   },
   {
    "duration": 0,
    "start_time": "2022-04-15T10:35:40.307Z"
   },
   {
    "duration": 5,
    "start_time": "2022-04-15T10:36:05.612Z"
   },
   {
    "duration": 20,
    "start_time": "2022-04-15T10:36:09.716Z"
   },
   {
    "duration": 20,
    "start_time": "2022-04-15T10:36:22.598Z"
   },
   {
    "duration": 20,
    "start_time": "2022-04-15T10:36:24.629Z"
   },
   {
    "duration": 4,
    "start_time": "2022-04-15T10:37:52.901Z"
   },
   {
    "duration": 47,
    "start_time": "2022-04-15T10:37:53.478Z"
   },
   {
    "duration": 25,
    "start_time": "2022-04-15T10:37:54.470Z"
   },
   {
    "duration": 421,
    "start_time": "2022-04-15T10:38:36.430Z"
   },
   {
    "duration": 1644,
    "start_time": "2022-04-15T10:39:12.327Z"
   },
   {
    "duration": 81,
    "start_time": "2022-04-15T10:39:13.973Z"
   },
   {
    "duration": 22,
    "start_time": "2022-04-15T10:39:14.057Z"
   },
   {
    "duration": 20,
    "start_time": "2022-04-15T10:39:14.083Z"
   },
   {
    "duration": 13,
    "start_time": "2022-04-15T10:39:14.105Z"
   },
   {
    "duration": 44,
    "start_time": "2022-04-15T10:39:14.120Z"
   },
   {
    "duration": 12,
    "start_time": "2022-04-15T10:39:14.169Z"
   },
   {
    "duration": 13,
    "start_time": "2022-04-15T10:39:14.184Z"
   },
   {
    "duration": 12,
    "start_time": "2022-04-15T10:39:14.199Z"
   },
   {
    "duration": 55,
    "start_time": "2022-04-15T10:39:14.215Z"
   },
   {
    "duration": 6,
    "start_time": "2022-04-15T10:39:14.273Z"
   },
   {
    "duration": 35,
    "start_time": "2022-04-15T10:39:14.281Z"
   },
   {
    "duration": 38,
    "start_time": "2022-04-15T10:39:14.318Z"
   },
   {
    "duration": 30,
    "start_time": "2022-04-15T10:39:14.358Z"
   },
   {
    "duration": 300,
    "start_time": "2022-04-15T10:39:14.390Z"
   },
   {
    "duration": 5,
    "start_time": "2022-04-15T10:39:14.693Z"
   },
   {
    "duration": 183,
    "start_time": "2022-04-15T10:39:14.700Z"
   },
   {
    "duration": 22,
    "start_time": "2022-04-15T10:39:14.885Z"
   },
   {
    "duration": 372,
    "start_time": "2022-04-15T10:39:14.909Z"
   },
   {
    "duration": 9,
    "start_time": "2022-04-15T10:39:15.284Z"
   },
   {
    "duration": 17,
    "start_time": "2022-04-15T10:39:15.296Z"
   },
   {
    "duration": 404,
    "start_time": "2022-04-15T10:39:15.315Z"
   },
   {
    "duration": 1185,
    "start_time": "2022-04-15T10:39:15.721Z"
   },
   {
    "duration": 21,
    "start_time": "2022-04-15T10:39:16.908Z"
   },
   {
    "duration": 13,
    "start_time": "2022-04-15T10:39:16.955Z"
   },
   {
    "duration": 56,
    "start_time": "2022-04-15T10:39:16.971Z"
   },
   {
    "duration": 26,
    "start_time": "2022-04-15T10:39:17.029Z"
   },
   {
    "duration": 352,
    "start_time": "2022-04-15T10:39:17.062Z"
   },
   {
    "duration": 8,
    "start_time": "2022-04-15T10:39:17.416Z"
   },
   {
    "duration": 33,
    "start_time": "2022-04-15T10:39:17.427Z"
   },
   {
    "duration": 6,
    "start_time": "2022-04-15T10:39:17.462Z"
   },
   {
    "duration": 16,
    "start_time": "2022-04-15T10:39:17.471Z"
   },
   {
    "duration": 1017,
    "start_time": "2022-04-15T10:39:17.489Z"
   },
   {
    "duration": 970,
    "start_time": "2022-04-15T10:39:18.508Z"
   },
   {
    "duration": 16,
    "start_time": "2022-04-15T10:39:19.481Z"
   },
   {
    "duration": 520,
    "start_time": "2022-04-15T10:39:19.500Z"
   },
   {
    "duration": 4,
    "start_time": "2022-04-15T10:39:20.023Z"
   },
   {
    "duration": 22,
    "start_time": "2022-04-15T10:39:20.030Z"
   },
   {
    "duration": 31,
    "start_time": "2022-04-15T10:39:20.062Z"
   },
   {
    "duration": 21,
    "start_time": "2022-04-15T10:39:20.096Z"
   },
   {
    "duration": 343,
    "start_time": "2022-04-15T10:39:20.119Z"
   },
   {
    "duration": 1346,
    "start_time": "2022-04-15T10:39:20.464Z"
   },
   {
    "duration": 108,
    "start_time": "2022-04-15T10:39:21.813Z"
   },
   {
    "duration": 0,
    "start_time": "2022-04-15T10:39:21.923Z"
   },
   {
    "duration": 0,
    "start_time": "2022-04-15T10:39:21.924Z"
   },
   {
    "duration": 18,
    "start_time": "2022-04-15T10:40:08.710Z"
   },
   {
    "duration": 4,
    "start_time": "2022-04-15T10:40:23.149Z"
   },
   {
    "duration": 27,
    "start_time": "2022-04-15T10:40:23.783Z"
   },
   {
    "duration": 32,
    "start_time": "2022-04-15T10:40:31.741Z"
   },
   {
    "duration": 19,
    "start_time": "2022-04-15T10:40:32.429Z"
   },
   {
    "duration": 5,
    "start_time": "2022-04-15T10:43:32.479Z"
   },
   {
    "duration": 30,
    "start_time": "2022-04-15T10:43:33.133Z"
   },
   {
    "duration": 21,
    "start_time": "2022-04-15T10:43:33.878Z"
   },
   {
    "duration": 24,
    "start_time": "2022-04-15T10:45:36.681Z"
   },
   {
    "duration": 380,
    "start_time": "2022-04-15T10:45:41.677Z"
   },
   {
    "duration": 5,
    "start_time": "2022-04-15T10:46:51.240Z"
   },
   {
    "duration": 5,
    "start_time": "2022-04-15T10:46:54.065Z"
   },
   {
    "duration": 796,
    "start_time": "2022-04-15T10:47:50.553Z"
   },
   {
    "duration": 18,
    "start_time": "2022-04-15T10:52:02.546Z"
   },
   {
    "duration": 5,
    "start_time": "2022-04-15T10:52:46.364Z"
   },
   {
    "duration": 915,
    "start_time": "2022-04-15T10:52:46.938Z"
   },
   {
    "duration": 7,
    "start_time": "2022-04-15T10:55:04.860Z"
   },
   {
    "duration": 41,
    "start_time": "2022-04-15T10:55:06.244Z"
   },
   {
    "duration": 5,
    "start_time": "2022-04-15T10:55:43.109Z"
   },
   {
    "duration": 32,
    "start_time": "2022-04-15T10:55:43.694Z"
   },
   {
    "duration": 6,
    "start_time": "2022-04-15T10:56:12.924Z"
   },
   {
    "duration": 32,
    "start_time": "2022-04-15T10:56:13.517Z"
   },
   {
    "duration": 5,
    "start_time": "2022-04-15T11:09:53.428Z"
   },
   {
    "duration": 882,
    "start_time": "2022-04-15T11:09:54.221Z"
   },
   {
    "duration": 6,
    "start_time": "2022-04-15T11:14:52.158Z"
   },
   {
    "duration": 37,
    "start_time": "2022-04-15T11:14:52.703Z"
   },
   {
    "duration": 27,
    "start_time": "2022-04-15T11:15:00.518Z"
   },
   {
    "duration": 8,
    "start_time": "2022-04-15T11:15:52.015Z"
   },
   {
    "duration": 21,
    "start_time": "2022-04-15T11:15:59.813Z"
   },
   {
    "duration": 12,
    "start_time": "2022-04-15T11:16:21.736Z"
   },
   {
    "duration": 17,
    "start_time": "2022-04-15T11:16:33.814Z"
   },
   {
    "duration": 1827,
    "start_time": "2022-04-15T11:20:01.926Z"
   },
   {
    "duration": 11,
    "start_time": "2022-04-15T11:20:16.733Z"
   },
   {
    "duration": 12,
    "start_time": "2022-04-15T11:20:27.020Z"
   },
   {
    "duration": 20,
    "start_time": "2022-04-15T11:20:41.077Z"
   },
   {
    "duration": 11,
    "start_time": "2022-04-15T11:21:03.643Z"
   },
   {
    "duration": 16,
    "start_time": "2022-04-15T11:21:12.203Z"
   },
   {
    "duration": 12,
    "start_time": "2022-04-15T11:21:26.572Z"
   },
   {
    "duration": 785,
    "start_time": "2022-04-15T11:21:32.660Z"
   },
   {
    "duration": 38,
    "start_time": "2022-04-15T11:23:08.483Z"
   },
   {
    "duration": 20,
    "start_time": "2022-04-15T11:23:26.908Z"
   },
   {
    "duration": 17,
    "start_time": "2022-04-15T11:23:41.190Z"
   },
   {
    "duration": 21,
    "start_time": "2022-04-15T11:23:42.101Z"
   },
   {
    "duration": 17,
    "start_time": "2022-04-15T11:24:01.533Z"
   },
   {
    "duration": 13,
    "start_time": "2022-04-15T11:27:55.943Z"
   },
   {
    "duration": 14,
    "start_time": "2022-04-15T11:28:06.399Z"
   },
   {
    "duration": 108,
    "start_time": "2022-04-15T11:28:28.832Z"
   },
   {
    "duration": 42,
    "start_time": "2022-04-15T11:32:13.992Z"
   },
   {
    "duration": 15,
    "start_time": "2022-04-15T11:32:33.200Z"
   },
   {
    "duration": 19,
    "start_time": "2022-04-15T11:33:11.400Z"
   },
   {
    "duration": 16,
    "start_time": "2022-04-15T11:34:07.096Z"
   },
   {
    "duration": 7,
    "start_time": "2022-04-15T11:34:16.905Z"
   },
   {
    "duration": 12,
    "start_time": "2022-04-15T11:34:28.497Z"
   },
   {
    "duration": 41,
    "start_time": "2022-04-15T11:34:34.312Z"
   },
   {
    "duration": 11,
    "start_time": "2022-04-15T11:37:19.202Z"
   },
   {
    "duration": 17,
    "start_time": "2022-04-15T11:37:22.473Z"
   },
   {
    "duration": 43,
    "start_time": "2022-04-15T11:38:38.771Z"
   },
   {
    "duration": 7,
    "start_time": "2022-04-15T11:38:49.318Z"
   },
   {
    "duration": 9,
    "start_time": "2022-04-15T11:39:55.941Z"
   },
   {
    "duration": 26,
    "start_time": "2022-04-15T11:40:00.789Z"
   },
   {
    "duration": 16,
    "start_time": "2022-04-15T11:43:54.389Z"
   },
   {
    "duration": 33,
    "start_time": "2022-04-15T11:44:59.888Z"
   },
   {
    "duration": 1650,
    "start_time": "2022-04-15T11:46:43.391Z"
   },
   {
    "duration": 80,
    "start_time": "2022-04-15T11:46:45.044Z"
   },
   {
    "duration": 29,
    "start_time": "2022-04-15T11:46:45.126Z"
   },
   {
    "duration": 21,
    "start_time": "2022-04-15T11:46:45.158Z"
   },
   {
    "duration": 18,
    "start_time": "2022-04-15T11:46:45.182Z"
   },
   {
    "duration": 16,
    "start_time": "2022-04-15T11:46:45.203Z"
   },
   {
    "duration": 37,
    "start_time": "2022-04-15T11:46:45.222Z"
   },
   {
    "duration": 14,
    "start_time": "2022-04-15T11:46:45.262Z"
   },
   {
    "duration": 9,
    "start_time": "2022-04-15T11:46:45.278Z"
   },
   {
    "duration": 26,
    "start_time": "2022-04-15T11:46:45.292Z"
   },
   {
    "duration": 34,
    "start_time": "2022-04-15T11:46:45.321Z"
   },
   {
    "duration": 34,
    "start_time": "2022-04-15T11:46:45.359Z"
   },
   {
    "duration": 13,
    "start_time": "2022-04-15T11:46:45.395Z"
   },
   {
    "duration": 59,
    "start_time": "2022-04-15T11:46:45.410Z"
   },
   {
    "duration": 315,
    "start_time": "2022-04-15T11:46:45.472Z"
   },
   {
    "duration": 7,
    "start_time": "2022-04-15T11:46:45.791Z"
   },
   {
    "duration": 209,
    "start_time": "2022-04-15T11:46:45.801Z"
   },
   {
    "duration": 38,
    "start_time": "2022-04-15T11:46:46.014Z"
   },
   {
    "duration": 354,
    "start_time": "2022-04-15T11:46:46.055Z"
   },
   {
    "duration": 8,
    "start_time": "2022-04-15T11:46:46.412Z"
   },
   {
    "duration": 30,
    "start_time": "2022-04-15T11:46:46.423Z"
   },
   {
    "duration": 467,
    "start_time": "2022-04-15T11:46:46.456Z"
   },
   {
    "duration": 1326,
    "start_time": "2022-04-15T11:46:46.925Z"
   },
   {
    "duration": 23,
    "start_time": "2022-04-15T11:46:48.253Z"
   },
   {
    "duration": 11,
    "start_time": "2022-04-15T11:46:48.279Z"
   },
   {
    "duration": 88,
    "start_time": "2022-04-15T11:46:48.293Z"
   },
   {
    "duration": 12,
    "start_time": "2022-04-15T11:46:48.384Z"
   },
   {
    "duration": 352,
    "start_time": "2022-04-15T11:46:48.404Z"
   },
   {
    "duration": 8,
    "start_time": "2022-04-15T11:46:48.758Z"
   },
   {
    "duration": 16,
    "start_time": "2022-04-15T11:46:48.768Z"
   },
   {
    "duration": 6,
    "start_time": "2022-04-15T11:46:48.787Z"
   },
   {
    "duration": 19,
    "start_time": "2022-04-15T11:46:48.795Z"
   },
   {
    "duration": 1085,
    "start_time": "2022-04-15T11:46:48.817Z"
   },
   {
    "duration": 984,
    "start_time": "2022-04-15T11:46:49.905Z"
   },
   {
    "duration": 20,
    "start_time": "2022-04-15T11:46:50.891Z"
   },
   {
    "duration": 449,
    "start_time": "2022-04-15T11:46:50.913Z"
   },
   {
    "duration": 6,
    "start_time": "2022-04-15T11:46:51.365Z"
   },
   {
    "duration": 292,
    "start_time": "2022-04-15T11:46:51.374Z"
   },
   {
    "duration": 40,
    "start_time": "2022-04-15T11:46:51.668Z"
   },
   {
    "duration": 16,
    "start_time": "2022-04-15T11:46:51.711Z"
   },
   {
    "duration": 62,
    "start_time": "2022-04-15T11:46:51.729Z"
   },
   {
    "duration": 29,
    "start_time": "2022-04-15T11:46:51.794Z"
   },
   {
    "duration": 378,
    "start_time": "2022-04-15T11:46:51.826Z"
   },
   {
    "duration": 706,
    "start_time": "2022-04-15T11:46:52.207Z"
   },
   {
    "duration": 14,
    "start_time": "2022-04-15T11:46:52.916Z"
   },
   {
    "duration": 20,
    "start_time": "2022-04-15T11:46:52.932Z"
   },
   {
    "duration": 46,
    "start_time": "2022-04-15T11:46:52.954Z"
   },
   {
    "duration": 42,
    "start_time": "2022-04-15T11:46:53.002Z"
   },
   {
    "duration": 11,
    "start_time": "2022-04-15T11:46:53.046Z"
   },
   {
    "duration": 93,
    "start_time": "2022-04-15T11:46:53.060Z"
   },
   {
    "duration": 12,
    "start_time": "2022-04-15T11:46:53.155Z"
   },
   {
    "duration": 33,
    "start_time": "2022-04-15T11:46:53.170Z"
   },
   {
    "duration": 39,
    "start_time": "2022-04-15T11:46:53.205Z"
   },
   {
    "duration": 21,
    "start_time": "2022-04-15T11:48:25.217Z"
   },
   {
    "duration": 6,
    "start_time": "2022-04-15T11:49:34.796Z"
   },
   {
    "duration": 18,
    "start_time": "2022-04-15T11:50:48.025Z"
   },
   {
    "duration": 19,
    "start_time": "2022-04-15T11:54:51.196Z"
   },
   {
    "duration": 28,
    "start_time": "2022-04-15T11:55:08.876Z"
   },
   {
    "duration": 35,
    "start_time": "2022-04-15T12:00:39.807Z"
   },
   {
    "duration": 35,
    "start_time": "2022-04-15T12:00:52.031Z"
   },
   {
    "duration": 190,
    "start_time": "2022-04-15T12:01:43.047Z"
   },
   {
    "duration": 36,
    "start_time": "2022-04-15T12:01:43.607Z"
   },
   {
    "duration": 32,
    "start_time": "2022-04-15T12:03:53.484Z"
   },
   {
    "duration": 31,
    "start_time": "2022-04-15T12:03:56.225Z"
   },
   {
    "duration": 1584,
    "start_time": "2022-04-15T12:04:44.450Z"
   },
   {
    "duration": 31,
    "start_time": "2022-04-15T12:05:07.170Z"
   },
   {
    "duration": 30,
    "start_time": "2022-04-15T12:05:07.833Z"
   },
   {
    "duration": 31,
    "start_time": "2022-04-15T12:05:08.651Z"
   },
   {
    "duration": 1149,
    "start_time": "2022-04-15T12:07:06.219Z"
   },
   {
    "duration": 1616,
    "start_time": "2022-04-15T12:07:53.149Z"
   },
   {
    "duration": 1529,
    "start_time": "2022-04-15T12:08:26.444Z"
   },
   {
    "duration": 32,
    "start_time": "2022-04-15T12:08:40.820Z"
   },
   {
    "duration": 83,
    "start_time": "2022-04-15T12:09:50.709Z"
   },
   {
    "duration": 60,
    "start_time": "2022-04-15T12:09:51.661Z"
   },
   {
    "duration": 72,
    "start_time": "2022-04-15T12:09:52.413Z"
   },
   {
    "duration": 1640,
    "start_time": "2022-04-15T12:10:32.588Z"
   },
   {
    "duration": 62,
    "start_time": "2022-04-15T12:10:34.231Z"
   },
   {
    "duration": 19,
    "start_time": "2022-04-15T12:10:34.296Z"
   },
   {
    "duration": 42,
    "start_time": "2022-04-15T12:10:34.318Z"
   },
   {
    "duration": 9,
    "start_time": "2022-04-15T12:10:34.362Z"
   },
   {
    "duration": 12,
    "start_time": "2022-04-15T12:10:34.373Z"
   },
   {
    "duration": 9,
    "start_time": "2022-04-15T12:10:34.388Z"
   },
   {
    "duration": 52,
    "start_time": "2022-04-15T12:10:34.400Z"
   },
   {
    "duration": 9,
    "start_time": "2022-04-15T12:10:34.455Z"
   },
   {
    "duration": 22,
    "start_time": "2022-04-15T12:10:34.468Z"
   },
   {
    "duration": 7,
    "start_time": "2022-04-15T12:10:34.493Z"
   },
   {
    "duration": 79,
    "start_time": "2022-04-15T12:10:34.502Z"
   },
   {
    "duration": 14,
    "start_time": "2022-04-15T12:10:34.583Z"
   },
   {
    "duration": 54,
    "start_time": "2022-04-15T12:10:34.599Z"
   },
   {
    "duration": 279,
    "start_time": "2022-04-15T12:10:34.655Z"
   },
   {
    "duration": 17,
    "start_time": "2022-04-15T12:10:34.936Z"
   },
   {
    "duration": 166,
    "start_time": "2022-04-15T12:10:34.956Z"
   },
   {
    "duration": 35,
    "start_time": "2022-04-15T12:10:35.124Z"
   },
   {
    "duration": 370,
    "start_time": "2022-04-15T12:10:35.161Z"
   },
   {
    "duration": 18,
    "start_time": "2022-04-15T12:10:35.533Z"
   },
   {
    "duration": 16,
    "start_time": "2022-04-15T12:10:35.555Z"
   },
   {
    "duration": 397,
    "start_time": "2022-04-15T12:10:35.574Z"
   },
   {
    "duration": 1171,
    "start_time": "2022-04-15T12:10:35.974Z"
   },
   {
    "duration": 21,
    "start_time": "2022-04-15T12:10:37.147Z"
   },
   {
    "duration": 9,
    "start_time": "2022-04-15T12:10:37.171Z"
   },
   {
    "duration": 89,
    "start_time": "2022-04-15T12:10:37.184Z"
   },
   {
    "duration": 13,
    "start_time": "2022-04-15T12:10:37.276Z"
   },
   {
    "duration": 371,
    "start_time": "2022-04-15T12:10:37.297Z"
   },
   {
    "duration": 6,
    "start_time": "2022-04-15T12:10:37.670Z"
   },
   {
    "duration": 12,
    "start_time": "2022-04-15T12:10:37.679Z"
   },
   {
    "duration": 6,
    "start_time": "2022-04-15T12:10:37.693Z"
   },
   {
    "duration": 14,
    "start_time": "2022-04-15T12:10:37.702Z"
   },
   {
    "duration": 1020,
    "start_time": "2022-04-15T12:10:37.718Z"
   },
   {
    "duration": 875,
    "start_time": "2022-04-15T12:10:38.752Z"
   },
   {
    "duration": 29,
    "start_time": "2022-04-15T12:10:39.630Z"
   },
   {
    "duration": 508,
    "start_time": "2022-04-15T12:10:39.661Z"
   },
   {
    "duration": 18,
    "start_time": "2022-04-15T12:10:40.171Z"
   },
   {
    "duration": 6,
    "start_time": "2022-04-15T12:10:40.191Z"
   },
   {
    "duration": 55,
    "start_time": "2022-04-15T12:10:40.199Z"
   },
   {
    "duration": 22,
    "start_time": "2022-04-15T12:10:40.257Z"
   },
   {
    "duration": 358,
    "start_time": "2022-04-15T12:10:40.281Z"
   },
   {
    "duration": 955,
    "start_time": "2022-04-15T12:10:40.641Z"
   },
   {
    "duration": 5,
    "start_time": "2022-04-15T12:10:41.599Z"
   },
   {
    "duration": 40,
    "start_time": "2022-04-15T12:10:41.607Z"
   },
   {
    "duration": 23,
    "start_time": "2022-04-15T12:10:41.649Z"
   },
   {
    "duration": 8,
    "start_time": "2022-04-15T12:10:41.676Z"
   },
   {
    "duration": 82,
    "start_time": "2022-04-15T12:10:41.686Z"
   },
   {
    "duration": 4,
    "start_time": "2022-04-15T12:10:41.771Z"
   },
   {
    "duration": 1879,
    "start_time": "2022-04-15T12:10:41.778Z"
   },
   {
    "duration": 0,
    "start_time": "2022-04-15T12:10:43.660Z"
   },
   {
    "duration": 0,
    "start_time": "2022-04-15T12:10:43.662Z"
   },
   {
    "duration": 0,
    "start_time": "2022-04-15T12:10:43.665Z"
   },
   {
    "duration": 0,
    "start_time": "2022-04-15T12:10:43.667Z"
   },
   {
    "duration": 25,
    "start_time": "2022-04-15T12:10:59.237Z"
   },
   {
    "duration": 28,
    "start_time": "2022-04-15T12:11:00.076Z"
   },
   {
    "duration": 35,
    "start_time": "2022-04-15T12:11:00.816Z"
   },
   {
    "duration": 86,
    "start_time": "2022-04-15T12:13:02.758Z"
   },
   {
    "duration": 59,
    "start_time": "2022-04-15T12:13:04.494Z"
   },
   {
    "duration": 68,
    "start_time": "2022-04-15T12:13:04.556Z"
   },
   {
    "duration": 1604,
    "start_time": "2022-04-15T12:13:22.040Z"
   },
   {
    "duration": 68,
    "start_time": "2022-04-15T12:13:23.647Z"
   },
   {
    "duration": 18,
    "start_time": "2022-04-15T12:13:23.718Z"
   },
   {
    "duration": 29,
    "start_time": "2022-04-15T12:13:23.739Z"
   },
   {
    "duration": 7,
    "start_time": "2022-04-15T12:13:23.770Z"
   },
   {
    "duration": 20,
    "start_time": "2022-04-15T12:13:23.779Z"
   },
   {
    "duration": 9,
    "start_time": "2022-04-15T12:13:23.802Z"
   },
   {
    "duration": 41,
    "start_time": "2022-04-15T12:13:23.814Z"
   },
   {
    "duration": 10,
    "start_time": "2022-04-15T12:13:23.857Z"
   },
   {
    "duration": 26,
    "start_time": "2022-04-15T12:13:23.871Z"
   },
   {
    "duration": 5,
    "start_time": "2022-04-15T12:13:23.899Z"
   },
   {
    "duration": 59,
    "start_time": "2022-04-15T12:13:23.908Z"
   },
   {
    "duration": 14,
    "start_time": "2022-04-15T12:13:23.970Z"
   },
   {
    "duration": 33,
    "start_time": "2022-04-15T12:13:23.988Z"
   },
   {
    "duration": 317,
    "start_time": "2022-04-15T12:13:24.024Z"
   },
   {
    "duration": 12,
    "start_time": "2022-04-15T12:13:24.343Z"
   },
   {
    "duration": 177,
    "start_time": "2022-04-15T12:13:24.357Z"
   },
   {
    "duration": 29,
    "start_time": "2022-04-15T12:13:24.537Z"
   },
   {
    "duration": 361,
    "start_time": "2022-04-15T12:13:24.569Z"
   },
   {
    "duration": 20,
    "start_time": "2022-04-15T12:13:24.932Z"
   },
   {
    "duration": 19,
    "start_time": "2022-04-15T12:13:24.954Z"
   },
   {
    "duration": 359,
    "start_time": "2022-04-15T12:13:24.976Z"
   },
   {
    "duration": 1120,
    "start_time": "2022-04-15T12:13:25.338Z"
   },
   {
    "duration": 22,
    "start_time": "2022-04-15T12:13:26.460Z"
   },
   {
    "duration": 12,
    "start_time": "2022-04-15T12:13:26.485Z"
   },
   {
    "duration": 107,
    "start_time": "2022-04-15T12:13:26.499Z"
   },
   {
    "duration": 18,
    "start_time": "2022-04-15T12:13:26.609Z"
   },
   {
    "duration": 456,
    "start_time": "2022-04-15T12:13:26.633Z"
   },
   {
    "duration": 7,
    "start_time": "2022-04-15T12:13:27.092Z"
   },
   {
    "duration": 26,
    "start_time": "2022-04-15T12:13:27.102Z"
   },
   {
    "duration": 6,
    "start_time": "2022-04-15T12:13:27.130Z"
   },
   {
    "duration": 6,
    "start_time": "2022-04-15T12:13:27.153Z"
   },
   {
    "duration": 1053,
    "start_time": "2022-04-15T12:13:27.162Z"
   },
   {
    "duration": 993,
    "start_time": "2022-04-15T12:13:28.217Z"
   },
   {
    "duration": 16,
    "start_time": "2022-04-15T12:13:29.212Z"
   },
   {
    "duration": 469,
    "start_time": "2022-04-15T12:13:29.230Z"
   },
   {
    "duration": 16,
    "start_time": "2022-04-15T12:13:29.702Z"
   },
   {
    "duration": 8,
    "start_time": "2022-04-15T12:13:29.720Z"
   },
   {
    "duration": 52,
    "start_time": "2022-04-15T12:13:29.730Z"
   },
   {
    "duration": 22,
    "start_time": "2022-04-15T12:13:29.784Z"
   },
   {
    "duration": 393,
    "start_time": "2022-04-15T12:13:29.808Z"
   },
   {
    "duration": 661,
    "start_time": "2022-04-15T12:13:30.204Z"
   },
   {
    "duration": 6,
    "start_time": "2022-04-15T12:13:30.868Z"
   },
   {
    "duration": 56,
    "start_time": "2022-04-15T12:13:30.876Z"
   },
   {
    "duration": 49,
    "start_time": "2022-04-15T12:13:30.934Z"
   },
   {
    "duration": 32,
    "start_time": "2022-04-15T12:13:30.985Z"
   },
   {
    "duration": 70,
    "start_time": "2022-04-15T12:13:31.019Z"
   },
   {
    "duration": 3,
    "start_time": "2022-04-15T12:13:31.091Z"
   },
   {
    "duration": 19,
    "start_time": "2022-04-15T12:13:31.096Z"
   },
   {
    "duration": 56,
    "start_time": "2022-04-15T12:13:31.118Z"
   },
   {
    "duration": 33,
    "start_time": "2022-04-15T12:13:31.176Z"
   },
   {
    "duration": 53,
    "start_time": "2022-04-15T12:13:31.211Z"
   },
   {
    "duration": 68,
    "start_time": "2022-04-15T12:14:00.363Z"
   },
   {
    "duration": 1715,
    "start_time": "2022-04-15T12:14:12.843Z"
   },
   {
    "duration": 98,
    "start_time": "2022-04-15T12:14:14.562Z"
   },
   {
    "duration": 20,
    "start_time": "2022-04-15T12:14:14.662Z"
   },
   {
    "duration": 21,
    "start_time": "2022-04-15T12:14:14.685Z"
   },
   {
    "duration": 8,
    "start_time": "2022-04-15T12:14:14.708Z"
   },
   {
    "duration": 16,
    "start_time": "2022-04-15T12:14:14.752Z"
   },
   {
    "duration": 8,
    "start_time": "2022-04-15T12:14:14.771Z"
   },
   {
    "duration": 10,
    "start_time": "2022-04-15T12:14:14.783Z"
   },
   {
    "duration": 12,
    "start_time": "2022-04-15T12:14:14.795Z"
   },
   {
    "duration": 54,
    "start_time": "2022-04-15T12:14:14.811Z"
   },
   {
    "duration": 6,
    "start_time": "2022-04-15T12:14:14.867Z"
   },
   {
    "duration": 29,
    "start_time": "2022-04-15T12:14:14.875Z"
   },
   {
    "duration": 50,
    "start_time": "2022-04-15T12:14:14.906Z"
   },
   {
    "duration": 20,
    "start_time": "2022-04-15T12:14:14.959Z"
   },
   {
    "duration": 328,
    "start_time": "2022-04-15T12:14:14.981Z"
   },
   {
    "duration": 6,
    "start_time": "2022-04-15T12:14:15.311Z"
   },
   {
    "duration": 173,
    "start_time": "2022-04-15T12:14:15.319Z"
   },
   {
    "duration": 23,
    "start_time": "2022-04-15T12:14:15.495Z"
   },
   {
    "duration": 489,
    "start_time": "2022-04-15T12:14:15.521Z"
   },
   {
    "duration": 11,
    "start_time": "2022-04-15T12:14:16.013Z"
   },
   {
    "duration": 31,
    "start_time": "2022-04-15T12:14:16.026Z"
   },
   {
    "duration": 379,
    "start_time": "2022-04-15T12:14:16.060Z"
   },
   {
    "duration": 1151,
    "start_time": "2022-04-15T12:14:16.441Z"
   },
   {
    "duration": 28,
    "start_time": "2022-04-15T12:14:17.595Z"
   },
   {
    "duration": 32,
    "start_time": "2022-04-15T12:14:17.626Z"
   },
   {
    "duration": 64,
    "start_time": "2022-04-15T12:14:17.661Z"
   },
   {
    "duration": 25,
    "start_time": "2022-04-15T12:14:17.727Z"
   },
   {
    "duration": 338,
    "start_time": "2022-04-15T12:14:17.757Z"
   },
   {
    "duration": 7,
    "start_time": "2022-04-15T12:14:18.097Z"
   },
   {
    "duration": 19,
    "start_time": "2022-04-15T12:14:18.106Z"
   },
   {
    "duration": 21,
    "start_time": "2022-04-15T12:14:18.127Z"
   },
   {
    "duration": 33,
    "start_time": "2022-04-15T12:14:18.152Z"
   },
   {
    "duration": 1006,
    "start_time": "2022-04-15T12:14:18.188Z"
   },
   {
    "duration": 964,
    "start_time": "2022-04-15T12:14:19.196Z"
   },
   {
    "duration": 22,
    "start_time": "2022-04-15T12:14:20.162Z"
   },
   {
    "duration": 512,
    "start_time": "2022-04-15T12:14:20.187Z"
   },
   {
    "duration": 17,
    "start_time": "2022-04-15T12:14:20.701Z"
   },
   {
    "duration": 16,
    "start_time": "2022-04-15T12:14:20.720Z"
   },
   {
    "duration": 67,
    "start_time": "2022-04-15T12:14:20.738Z"
   },
   {
    "duration": 65,
    "start_time": "2022-04-15T12:14:20.809Z"
   },
   {
    "duration": 430,
    "start_time": "2022-04-15T12:14:20.878Z"
   },
   {
    "duration": 617,
    "start_time": "2022-04-15T12:14:21.310Z"
   },
   {
    "duration": 5,
    "start_time": "2022-04-15T12:14:21.929Z"
   },
   {
    "duration": 33,
    "start_time": "2022-04-15T12:14:21.937Z"
   },
   {
    "duration": 21,
    "start_time": "2022-04-15T12:14:21.973Z"
   },
   {
    "duration": 7,
    "start_time": "2022-04-15T12:14:21.997Z"
   },
   {
    "duration": 114,
    "start_time": "2022-04-15T12:14:22.006Z"
   },
   {
    "duration": 3,
    "start_time": "2022-04-15T12:14:22.123Z"
   },
   {
    "duration": 7,
    "start_time": "2022-04-15T12:14:22.128Z"
   },
   {
    "duration": 35,
    "start_time": "2022-04-15T12:14:22.136Z"
   },
   {
    "duration": 39,
    "start_time": "2022-04-15T12:14:22.174Z"
   },
   {
    "duration": 53,
    "start_time": "2022-04-15T12:14:22.215Z"
   },
   {
    "duration": 73,
    "start_time": "2022-04-15T12:47:16.070Z"
   },
   {
    "duration": 58,
    "start_time": "2022-04-15T12:47:17.264Z"
   },
   {
    "duration": 63,
    "start_time": "2022-04-15T12:47:18.344Z"
   },
   {
    "duration": 316,
    "start_time": "2022-04-15T12:47:44.591Z"
   },
   {
    "duration": 236,
    "start_time": "2022-04-15T12:47:45.223Z"
   },
   {
    "duration": 4,
    "start_time": "2022-04-15T12:48:23.206Z"
   },
   {
    "duration": 84,
    "start_time": "2022-04-15T12:48:23.212Z"
   },
   {
    "duration": 13,
    "start_time": "2022-04-15T12:48:23.298Z"
   },
   {
    "duration": 50,
    "start_time": "2022-04-15T12:48:23.314Z"
   },
   {
    "duration": 10,
    "start_time": "2022-04-15T12:48:23.367Z"
   },
   {
    "duration": 14,
    "start_time": "2022-04-15T12:48:23.379Z"
   },
   {
    "duration": 11,
    "start_time": "2022-04-15T12:48:23.395Z"
   },
   {
    "duration": 47,
    "start_time": "2022-04-15T12:48:23.408Z"
   },
   {
    "duration": 12,
    "start_time": "2022-04-15T12:48:23.459Z"
   },
   {
    "duration": 24,
    "start_time": "2022-04-15T12:48:23.473Z"
   },
   {
    "duration": 5,
    "start_time": "2022-04-15T12:48:23.499Z"
   },
   {
    "duration": 60,
    "start_time": "2022-04-15T12:48:23.507Z"
   },
   {
    "duration": 12,
    "start_time": "2022-04-15T12:48:23.569Z"
   },
   {
    "duration": 22,
    "start_time": "2022-04-15T12:48:23.583Z"
   },
   {
    "duration": 320,
    "start_time": "2022-04-15T12:48:23.607Z"
   },
   {
    "duration": 5,
    "start_time": "2022-04-15T12:48:23.929Z"
   },
   {
    "duration": 300,
    "start_time": "2022-04-15T12:48:23.936Z"
   },
   {
    "duration": 30,
    "start_time": "2022-04-15T12:48:24.238Z"
   },
   {
    "duration": 362,
    "start_time": "2022-04-15T12:48:24.271Z"
   },
   {
    "duration": 19,
    "start_time": "2022-04-15T12:48:24.635Z"
   },
   {
    "duration": 33,
    "start_time": "2022-04-15T12:48:24.656Z"
   },
   {
    "duration": 368,
    "start_time": "2022-04-15T12:48:24.692Z"
   },
   {
    "duration": 1056,
    "start_time": "2022-04-15T12:48:25.062Z"
   },
   {
    "duration": 32,
    "start_time": "2022-04-15T12:48:26.124Z"
   },
   {
    "duration": 12,
    "start_time": "2022-04-15T12:48:26.159Z"
   },
   {
    "duration": 87,
    "start_time": "2022-04-15T12:48:26.174Z"
   },
   {
    "duration": 12,
    "start_time": "2022-04-15T12:48:26.263Z"
   },
   {
    "duration": 376,
    "start_time": "2022-04-15T12:48:26.278Z"
   },
   {
    "duration": 6,
    "start_time": "2022-04-15T12:48:26.656Z"
   },
   {
    "duration": 32,
    "start_time": "2022-04-15T12:48:26.664Z"
   },
   {
    "duration": 18,
    "start_time": "2022-04-15T12:48:26.698Z"
   },
   {
    "duration": 43,
    "start_time": "2022-04-15T12:48:26.718Z"
   },
   {
    "duration": 1056,
    "start_time": "2022-04-15T12:48:26.763Z"
   },
   {
    "duration": 968,
    "start_time": "2022-04-15T12:48:27.822Z"
   },
   {
    "duration": 18,
    "start_time": "2022-04-15T12:48:28.792Z"
   },
   {
    "duration": 445,
    "start_time": "2022-04-15T12:48:28.812Z"
   },
   {
    "duration": 17,
    "start_time": "2022-04-15T12:48:29.260Z"
   },
   {
    "duration": 16,
    "start_time": "2022-04-15T12:48:29.279Z"
   },
   {
    "duration": 50,
    "start_time": "2022-04-15T12:48:29.297Z"
   },
   {
    "duration": 24,
    "start_time": "2022-04-15T12:48:29.350Z"
   },
   {
    "duration": 353,
    "start_time": "2022-04-15T12:48:29.377Z"
   },
   {
    "duration": 1139,
    "start_time": "2022-04-15T12:48:29.733Z"
   },
   {
    "duration": 6,
    "start_time": "2022-04-15T12:48:30.875Z"
   },
   {
    "duration": 43,
    "start_time": "2022-04-15T12:48:30.884Z"
   },
   {
    "duration": 41,
    "start_time": "2022-04-15T12:48:30.930Z"
   },
   {
    "duration": 17,
    "start_time": "2022-04-15T12:48:30.974Z"
   },
   {
    "duration": 48,
    "start_time": "2022-04-15T12:48:30.993Z"
   },
   {
    "duration": 19,
    "start_time": "2022-04-15T12:48:31.043Z"
   },
   {
    "duration": 8,
    "start_time": "2022-04-15T12:48:35.471Z"
   },
   {
    "duration": 31,
    "start_time": "2022-04-15T12:48:36.406Z"
   },
   {
    "duration": 27,
    "start_time": "2022-04-15T12:49:18.169Z"
   },
   {
    "duration": 9,
    "start_time": "2022-04-15T12:59:11.694Z"
   },
   {
    "duration": 35,
    "start_time": "2022-04-15T12:59:12.311Z"
   },
   {
    "duration": 9,
    "start_time": "2022-04-15T12:59:47.686Z"
   },
   {
    "duration": 28,
    "start_time": "2022-04-15T12:59:48.555Z"
   },
   {
    "duration": 4,
    "start_time": "2022-04-15T13:11:21.029Z"
   },
   {
    "duration": 4,
    "start_time": "2022-04-15T13:11:28.861Z"
   },
   {
    "duration": 1624,
    "start_time": "2022-04-15T13:13:11.812Z"
   },
   {
    "duration": 64,
    "start_time": "2022-04-15T13:13:13.439Z"
   },
   {
    "duration": 18,
    "start_time": "2022-04-15T13:13:13.506Z"
   },
   {
    "duration": 38,
    "start_time": "2022-04-15T13:13:13.527Z"
   },
   {
    "duration": 8,
    "start_time": "2022-04-15T13:13:13.567Z"
   },
   {
    "duration": 15,
    "start_time": "2022-04-15T13:13:13.577Z"
   },
   {
    "duration": 7,
    "start_time": "2022-04-15T13:13:13.594Z"
   },
   {
    "duration": 49,
    "start_time": "2022-04-15T13:13:13.603Z"
   },
   {
    "duration": 10,
    "start_time": "2022-04-15T13:13:13.655Z"
   },
   {
    "duration": 30,
    "start_time": "2022-04-15T13:13:13.671Z"
   },
   {
    "duration": 6,
    "start_time": "2022-04-15T13:13:13.703Z"
   },
   {
    "duration": 63,
    "start_time": "2022-04-15T13:13:13.711Z"
   },
   {
    "duration": 15,
    "start_time": "2022-04-15T13:13:13.777Z"
   },
   {
    "duration": 59,
    "start_time": "2022-04-15T13:13:13.794Z"
   },
   {
    "duration": 299,
    "start_time": "2022-04-15T13:13:13.856Z"
   },
   {
    "duration": 7,
    "start_time": "2022-04-15T13:13:14.157Z"
   },
   {
    "duration": 161,
    "start_time": "2022-04-15T13:13:14.167Z"
   },
   {
    "duration": 33,
    "start_time": "2022-04-15T13:13:14.330Z"
   },
   {
    "duration": 387,
    "start_time": "2022-04-15T13:13:14.365Z"
   },
   {
    "duration": 8,
    "start_time": "2022-04-15T13:13:14.754Z"
   },
   {
    "duration": 12,
    "start_time": "2022-04-15T13:13:14.765Z"
   },
   {
    "duration": 409,
    "start_time": "2022-04-15T13:13:14.780Z"
   },
   {
    "duration": 1151,
    "start_time": "2022-04-15T13:13:15.192Z"
   },
   {
    "duration": 25,
    "start_time": "2022-04-15T13:13:16.345Z"
   },
   {
    "duration": 10,
    "start_time": "2022-04-15T13:13:16.372Z"
   },
   {
    "duration": 89,
    "start_time": "2022-04-15T13:13:16.385Z"
   },
   {
    "duration": 12,
    "start_time": "2022-04-15T13:13:16.477Z"
   },
   {
    "duration": 376,
    "start_time": "2022-04-15T13:13:16.494Z"
   },
   {
    "duration": 7,
    "start_time": "2022-04-15T13:13:16.872Z"
   },
   {
    "duration": 17,
    "start_time": "2022-04-15T13:13:16.882Z"
   },
   {
    "duration": 13,
    "start_time": "2022-04-15T13:13:16.901Z"
   },
   {
    "duration": 13,
    "start_time": "2022-04-15T13:13:16.917Z"
   },
   {
    "duration": 969,
    "start_time": "2022-04-15T13:13:16.951Z"
   },
   {
    "duration": 910,
    "start_time": "2022-04-15T13:13:17.922Z"
   },
   {
    "duration": 26,
    "start_time": "2022-04-15T13:13:18.834Z"
   },
   {
    "duration": 507,
    "start_time": "2022-04-15T13:13:18.862Z"
   },
   {
    "duration": 18,
    "start_time": "2022-04-15T13:13:19.371Z"
   },
   {
    "duration": 6,
    "start_time": "2022-04-15T13:13:19.391Z"
   },
   {
    "duration": 56,
    "start_time": "2022-04-15T13:13:19.399Z"
   },
   {
    "duration": 25,
    "start_time": "2022-04-15T13:13:19.457Z"
   },
   {
    "duration": 405,
    "start_time": "2022-04-15T13:13:19.484Z"
   },
   {
    "duration": 1004,
    "start_time": "2022-04-15T13:13:19.892Z"
   },
   {
    "duration": 7,
    "start_time": "2022-04-15T13:13:20.899Z"
   },
   {
    "duration": 35,
    "start_time": "2022-04-15T13:13:20.909Z"
   },
   {
    "duration": 22,
    "start_time": "2022-04-15T13:13:20.947Z"
   },
   {
    "duration": 3,
    "start_time": "2022-04-15T13:13:20.971Z"
   },
   {
    "duration": 24,
    "start_time": "2022-04-15T13:13:20.976Z"
   },
   {
    "duration": 7,
    "start_time": "2022-04-15T13:13:21.002Z"
   },
   {
    "duration": 7,
    "start_time": "2022-04-15T13:13:21.012Z"
   },
   {
    "duration": 42,
    "start_time": "2022-04-15T13:13:21.021Z"
   },
   {
    "duration": 38,
    "start_time": "2022-04-15T13:13:21.065Z"
   },
   {
    "duration": 9,
    "start_time": "2022-04-15T13:14:33.992Z"
   },
   {
    "duration": 9,
    "start_time": "2022-04-15T13:15:15.777Z"
   },
   {
    "duration": 4,
    "start_time": "2022-04-15T13:18:53.613Z"
   },
   {
    "duration": 74,
    "start_time": "2022-04-15T13:18:53.621Z"
   },
   {
    "duration": 19,
    "start_time": "2022-04-15T13:18:53.698Z"
   },
   {
    "duration": 29,
    "start_time": "2022-04-15T13:18:53.751Z"
   },
   {
    "duration": 10,
    "start_time": "2022-04-15T13:18:53.783Z"
   },
   {
    "duration": 13,
    "start_time": "2022-04-15T13:18:53.796Z"
   },
   {
    "duration": 40,
    "start_time": "2022-04-15T13:18:53.812Z"
   },
   {
    "duration": 11,
    "start_time": "2022-04-15T13:18:53.854Z"
   },
   {
    "duration": 9,
    "start_time": "2022-04-15T13:18:53.870Z"
   },
   {
    "duration": 28,
    "start_time": "2022-04-15T13:18:53.881Z"
   },
   {
    "duration": 41,
    "start_time": "2022-04-15T13:18:53.911Z"
   },
   {
    "duration": 28,
    "start_time": "2022-04-15T13:18:53.954Z"
   },
   {
    "duration": 14,
    "start_time": "2022-04-15T13:18:53.984Z"
   },
   {
    "duration": 56,
    "start_time": "2022-04-15T13:18:54.001Z"
   },
   {
    "duration": 284,
    "start_time": "2022-04-15T13:18:54.059Z"
   },
   {
    "duration": 8,
    "start_time": "2022-04-15T13:18:54.346Z"
   },
   {
    "duration": 276,
    "start_time": "2022-04-15T13:18:54.356Z"
   },
   {
    "duration": 30,
    "start_time": "2022-04-15T13:18:54.635Z"
   },
   {
    "duration": 357,
    "start_time": "2022-04-15T13:18:54.668Z"
   },
   {
    "duration": 7,
    "start_time": "2022-04-15T13:18:55.027Z"
   },
   {
    "duration": 24,
    "start_time": "2022-04-15T13:18:55.036Z"
   },
   {
    "duration": 378,
    "start_time": "2022-04-15T13:18:55.062Z"
   },
   {
    "duration": 1185,
    "start_time": "2022-04-15T13:18:55.442Z"
   },
   {
    "duration": 24,
    "start_time": "2022-04-15T13:18:56.631Z"
   },
   {
    "duration": 13,
    "start_time": "2022-04-15T13:18:56.657Z"
   },
   {
    "duration": 101,
    "start_time": "2022-04-15T13:18:56.673Z"
   },
   {
    "duration": 12,
    "start_time": "2022-04-15T13:18:56.777Z"
   },
   {
    "duration": 397,
    "start_time": "2022-04-15T13:18:56.791Z"
   },
   {
    "duration": 6,
    "start_time": "2022-04-15T13:18:57.191Z"
   },
   {
    "duration": 10,
    "start_time": "2022-04-15T13:18:57.200Z"
   },
   {
    "duration": 7,
    "start_time": "2022-04-15T13:18:57.212Z"
   },
   {
    "duration": 7,
    "start_time": "2022-04-15T13:18:57.253Z"
   },
   {
    "duration": 1153,
    "start_time": "2022-04-15T13:18:57.263Z"
   },
   {
    "duration": 938,
    "start_time": "2022-04-15T13:18:58.419Z"
   },
   {
    "duration": 17,
    "start_time": "2022-04-15T13:18:59.359Z"
   },
   {
    "duration": 515,
    "start_time": "2022-04-15T13:18:59.379Z"
   },
   {
    "duration": 15,
    "start_time": "2022-04-15T13:19:06.650Z"
   },
   {
    "duration": 4,
    "start_time": "2022-04-15T13:19:09.273Z"
   },
   {
    "duration": 26,
    "start_time": "2022-04-15T13:19:10.290Z"
   },
   {
    "duration": 7,
    "start_time": "2022-04-15T13:19:16.618Z"
   },
   {
    "duration": 31,
    "start_time": "2022-04-15T13:19:17.669Z"
   },
   {
    "duration": 23,
    "start_time": "2022-04-15T13:19:24.594Z"
   },
   {
    "duration": 344,
    "start_time": "2022-04-15T13:19:27.995Z"
   },
   {
    "duration": 1100,
    "start_time": "2022-04-15T13:19:43.205Z"
   },
   {
    "duration": 18,
    "start_time": "2022-04-15T13:19:50.708Z"
   },
   {
    "duration": 12,
    "start_time": "2022-04-15T13:20:48.805Z"
   },
   {
    "duration": 6,
    "start_time": "2022-04-15T13:20:49.867Z"
   },
   {
    "duration": 5,
    "start_time": "2022-04-15T13:23:16.095Z"
   },
   {
    "duration": 6,
    "start_time": "2022-04-15T13:24:55.942Z"
   },
   {
    "duration": 7,
    "start_time": "2022-04-15T13:25:27.458Z"
   },
   {
    "duration": 7,
    "start_time": "2022-04-15T13:26:00.222Z"
   },
   {
    "duration": 99,
    "start_time": "2022-04-15T13:26:28.070Z"
   },
   {
    "duration": 6,
    "start_time": "2022-04-15T13:26:33.784Z"
   },
   {
    "duration": 8,
    "start_time": "2022-04-15T13:27:04.478Z"
   },
   {
    "duration": 7,
    "start_time": "2022-04-15T13:27:34.462Z"
   },
   {
    "duration": 173,
    "start_time": "2022-04-15T13:27:55.886Z"
   },
   {
    "duration": 10,
    "start_time": "2022-04-15T13:28:07.753Z"
   },
   {
    "duration": 12,
    "start_time": "2022-04-15T13:28:33.574Z"
   },
   {
    "duration": 13,
    "start_time": "2022-04-15T13:28:37.702Z"
   },
   {
    "duration": 17,
    "start_time": "2022-04-15T13:28:56.063Z"
   },
   {
    "duration": 19,
    "start_time": "2022-04-15T13:29:17.871Z"
   },
   {
    "duration": 31,
    "start_time": "2022-04-15T13:29:18.647Z"
   },
   {
    "duration": 4,
    "start_time": "2022-04-15T13:29:39.656Z"
   },
   {
    "duration": 5,
    "start_time": "2022-04-15T13:29:46.022Z"
   },
   {
    "duration": 85,
    "start_time": "2022-04-15T13:29:46.029Z"
   },
   {
    "duration": 39,
    "start_time": "2022-04-15T13:29:46.117Z"
   },
   {
    "duration": 20,
    "start_time": "2022-04-15T13:29:46.159Z"
   },
   {
    "duration": 12,
    "start_time": "2022-04-15T13:29:46.182Z"
   },
   {
    "duration": 57,
    "start_time": "2022-04-15T13:29:46.196Z"
   },
   {
    "duration": 14,
    "start_time": "2022-04-15T13:29:46.259Z"
   },
   {
    "duration": 22,
    "start_time": "2022-04-15T13:29:46.274Z"
   },
   {
    "duration": 22,
    "start_time": "2022-04-15T13:29:46.300Z"
   },
   {
    "duration": 20,
    "start_time": "2022-04-15T13:29:46.325Z"
   },
   {
    "duration": 18,
    "start_time": "2022-04-15T13:29:46.347Z"
   },
   {
    "duration": 36,
    "start_time": "2022-04-15T13:29:46.368Z"
   },
   {
    "duration": 16,
    "start_time": "2022-04-15T13:29:46.407Z"
   },
   {
    "duration": 47,
    "start_time": "2022-04-15T13:29:46.426Z"
   },
   {
    "duration": 286,
    "start_time": "2022-04-15T13:29:46.476Z"
   },
   {
    "duration": 7,
    "start_time": "2022-04-15T13:29:46.764Z"
   },
   {
    "duration": 192,
    "start_time": "2022-04-15T13:29:46.773Z"
   },
   {
    "duration": 24,
    "start_time": "2022-04-15T13:29:46.967Z"
   },
   {
    "duration": 406,
    "start_time": "2022-04-15T13:29:46.994Z"
   },
   {
    "duration": 8,
    "start_time": "2022-04-15T13:29:47.402Z"
   },
   {
    "duration": 25,
    "start_time": "2022-04-15T13:29:47.412Z"
   },
   {
    "duration": 400,
    "start_time": "2022-04-15T13:29:47.439Z"
   },
   {
    "duration": 1274,
    "start_time": "2022-04-15T13:29:47.841Z"
   },
   {
    "duration": 45,
    "start_time": "2022-04-15T13:29:49.121Z"
   },
   {
    "duration": 9,
    "start_time": "2022-04-15T13:29:49.168Z"
   },
   {
    "duration": 53,
    "start_time": "2022-04-15T13:29:49.179Z"
   },
   {
    "duration": 27,
    "start_time": "2022-04-15T13:29:49.234Z"
   },
   {
    "duration": 388,
    "start_time": "2022-04-15T13:29:49.264Z"
   },
   {
    "duration": 11,
    "start_time": "2022-04-15T13:29:49.654Z"
   },
   {
    "duration": 16,
    "start_time": "2022-04-15T13:29:49.668Z"
   },
   {
    "duration": 10,
    "start_time": "2022-04-15T13:29:49.687Z"
   },
   {
    "duration": 17,
    "start_time": "2022-04-15T13:29:49.699Z"
   },
   {
    "duration": 1078,
    "start_time": "2022-04-15T13:29:49.718Z"
   },
   {
    "duration": 916,
    "start_time": "2022-04-15T13:29:50.799Z"
   },
   {
    "duration": 17,
    "start_time": "2022-04-15T13:29:51.718Z"
   },
   {
    "duration": 658,
    "start_time": "2022-04-15T13:29:51.751Z"
   },
   {
    "duration": 16,
    "start_time": "2022-04-15T13:29:52.411Z"
   },
   {
    "duration": 25,
    "start_time": "2022-04-15T13:29:52.429Z"
   },
   {
    "duration": 44,
    "start_time": "2022-04-15T13:29:52.464Z"
   },
   {
    "duration": 6,
    "start_time": "2022-04-15T13:29:52.511Z"
   },
   {
    "duration": 51,
    "start_time": "2022-04-15T13:29:52.519Z"
   },
   {
    "duration": 46,
    "start_time": "2022-04-15T13:29:52.573Z"
   },
   {
    "duration": 396,
    "start_time": "2022-04-15T13:29:52.622Z"
   },
   {
    "duration": 1086,
    "start_time": "2022-04-15T13:29:53.020Z"
   },
   {
    "duration": 17,
    "start_time": "2022-04-15T13:29:54.108Z"
   },
   {
    "duration": 5,
    "start_time": "2022-04-15T13:29:54.129Z"
   },
   {
    "duration": 13,
    "start_time": "2022-04-15T13:29:54.136Z"
   },
   {
    "duration": 22,
    "start_time": "2022-04-15T13:29:54.151Z"
   },
   {
    "duration": 10,
    "start_time": "2022-04-15T13:29:54.175Z"
   },
   {
    "duration": 11,
    "start_time": "2022-04-15T13:29:59.775Z"
   },
   {
    "duration": 16,
    "start_time": "2022-04-15T13:30:16.457Z"
   },
   {
    "duration": 15,
    "start_time": "2022-04-15T13:30:41.163Z"
   },
   {
    "duration": 6,
    "start_time": "2022-04-15T13:30:49.177Z"
   },
   {
    "duration": 15,
    "start_time": "2022-04-15T13:30:50.266Z"
   },
   {
    "duration": 16,
    "start_time": "2022-04-15T13:30:50.912Z"
   },
   {
    "duration": 11,
    "start_time": "2022-04-15T13:31:46.553Z"
   },
   {
    "duration": 6,
    "start_time": "2022-04-15T13:32:36.865Z"
   },
   {
    "duration": 88,
    "start_time": "2022-04-15T13:32:36.874Z"
   },
   {
    "duration": 16,
    "start_time": "2022-04-15T13:32:36.964Z"
   },
   {
    "duration": 24,
    "start_time": "2022-04-15T13:32:36.984Z"
   },
   {
    "duration": 48,
    "start_time": "2022-04-15T13:32:37.010Z"
   },
   {
    "duration": 12,
    "start_time": "2022-04-15T13:32:37.069Z"
   },
   {
    "duration": 7,
    "start_time": "2022-04-15T13:32:37.084Z"
   },
   {
    "duration": 10,
    "start_time": "2022-04-15T13:32:37.093Z"
   },
   {
    "duration": 13,
    "start_time": "2022-04-15T13:32:37.106Z"
   },
   {
    "duration": 22,
    "start_time": "2022-04-15T13:32:37.155Z"
   },
   {
    "duration": 6,
    "start_time": "2022-04-15T13:32:37.179Z"
   },
   {
    "duration": 37,
    "start_time": "2022-04-15T13:32:37.187Z"
   },
   {
    "duration": 15,
    "start_time": "2022-04-15T13:32:37.252Z"
   },
   {
    "duration": 32,
    "start_time": "2022-04-15T13:32:37.270Z"
   },
   {
    "duration": 300,
    "start_time": "2022-04-15T13:32:37.304Z"
   },
   {
    "duration": 6,
    "start_time": "2022-04-15T13:32:37.606Z"
   },
   {
    "duration": 184,
    "start_time": "2022-04-15T13:32:37.614Z"
   },
   {
    "duration": 23,
    "start_time": "2022-04-15T13:32:37.800Z"
   },
   {
    "duration": 396,
    "start_time": "2022-04-15T13:32:37.826Z"
   },
   {
    "duration": 8,
    "start_time": "2022-04-15T13:32:38.225Z"
   },
   {
    "duration": 26,
    "start_time": "2022-04-15T13:32:38.235Z"
   },
   {
    "duration": 401,
    "start_time": "2022-04-15T13:32:38.264Z"
   },
   {
    "duration": 1211,
    "start_time": "2022-04-15T13:32:38.668Z"
   },
   {
    "duration": 23,
    "start_time": "2022-04-15T13:32:39.881Z"
   },
   {
    "duration": 8,
    "start_time": "2022-04-15T13:32:39.906Z"
   },
   {
    "duration": 100,
    "start_time": "2022-04-15T13:32:39.917Z"
   },
   {
    "duration": 11,
    "start_time": "2022-04-15T13:32:40.020Z"
   },
   {
    "duration": 362,
    "start_time": "2022-04-15T13:32:40.037Z"
   },
   {
    "duration": 6,
    "start_time": "2022-04-15T13:32:40.401Z"
   },
   {
    "duration": 12,
    "start_time": "2022-04-15T13:32:40.410Z"
   },
   {
    "duration": 32,
    "start_time": "2022-04-15T13:32:40.425Z"
   },
   {
    "duration": 16,
    "start_time": "2022-04-15T13:32:40.464Z"
   },
   {
    "duration": 1121,
    "start_time": "2022-04-15T13:32:40.483Z"
   },
   {
    "duration": 965,
    "start_time": "2022-04-15T13:32:41.607Z"
   },
   {
    "duration": 18,
    "start_time": "2022-04-15T13:32:42.574Z"
   },
   {
    "duration": 474,
    "start_time": "2022-04-15T13:32:42.595Z"
   },
   {
    "duration": 21,
    "start_time": "2022-04-15T13:32:43.071Z"
   },
   {
    "duration": 5,
    "start_time": "2022-04-15T13:32:43.095Z"
   },
   {
    "duration": 60,
    "start_time": "2022-04-15T13:32:43.103Z"
   },
   {
    "duration": 6,
    "start_time": "2022-04-15T13:32:43.169Z"
   },
   {
    "duration": 32,
    "start_time": "2022-04-15T13:32:43.178Z"
   },
   {
    "duration": 53,
    "start_time": "2022-04-15T13:32:43.213Z"
   },
   {
    "duration": 375,
    "start_time": "2022-04-15T13:32:43.269Z"
   },
   {
    "duration": 992,
    "start_time": "2022-04-15T13:32:43.646Z"
   },
   {
    "duration": 24,
    "start_time": "2022-04-15T13:32:44.641Z"
   },
   {
    "duration": 15,
    "start_time": "2022-04-15T13:32:44.667Z"
   },
   {
    "duration": 20,
    "start_time": "2022-04-15T13:32:44.684Z"
   },
   {
    "duration": 15,
    "start_time": "2022-04-15T13:32:44.706Z"
   },
   {
    "duration": 8,
    "start_time": "2022-04-15T13:32:44.723Z"
   },
   {
    "duration": 4,
    "start_time": "2022-04-15T13:32:46.858Z"
   },
   {
    "duration": 12,
    "start_time": "2022-04-15T13:32:47.528Z"
   },
   {
    "duration": 5,
    "start_time": "2022-04-15T13:33:03.193Z"
   },
   {
    "duration": 13,
    "start_time": "2022-04-15T13:33:04.289Z"
   },
   {
    "duration": 16,
    "start_time": "2022-04-15T13:33:08.529Z"
   },
   {
    "duration": 27,
    "start_time": "2022-04-15T13:33:48.363Z"
   },
   {
    "duration": 354,
    "start_time": "2022-04-15T13:33:49.113Z"
   },
   {
    "duration": 1076,
    "start_time": "2022-04-15T13:33:53.306Z"
   },
   {
    "duration": 18,
    "start_time": "2022-04-15T13:33:54.738Z"
   },
   {
    "duration": 7,
    "start_time": "2022-04-15T13:33:59.663Z"
   },
   {
    "duration": 3,
    "start_time": "2022-04-15T13:34:00.139Z"
   },
   {
    "duration": 3,
    "start_time": "2022-04-15T13:34:00.569Z"
   },
   {
    "duration": 3,
    "start_time": "2022-04-15T13:34:01.082Z"
   },
   {
    "duration": 6,
    "start_time": "2022-04-15T13:34:01.674Z"
   },
   {
    "duration": 13,
    "start_time": "2022-04-15T13:34:02.201Z"
   },
   {
    "duration": 16,
    "start_time": "2022-04-15T13:34:02.967Z"
   },
   {
    "duration": 4,
    "start_time": "2022-04-15T13:34:48.570Z"
   },
   {
    "duration": 104,
    "start_time": "2022-04-15T13:34:48.577Z"
   },
   {
    "duration": 14,
    "start_time": "2022-04-15T13:34:48.683Z"
   },
   {
    "duration": 64,
    "start_time": "2022-04-15T13:34:48.701Z"
   },
   {
    "duration": 11,
    "start_time": "2022-04-15T13:34:48.769Z"
   },
   {
    "duration": 18,
    "start_time": "2022-04-15T13:34:48.782Z"
   },
   {
    "duration": 23,
    "start_time": "2022-04-15T13:34:48.803Z"
   },
   {
    "duration": 21,
    "start_time": "2022-04-15T13:34:48.828Z"
   },
   {
    "duration": 24,
    "start_time": "2022-04-15T13:34:48.854Z"
   },
   {
    "duration": 40,
    "start_time": "2022-04-15T13:34:48.882Z"
   },
   {
    "duration": 7,
    "start_time": "2022-04-15T13:34:48.924Z"
   },
   {
    "duration": 61,
    "start_time": "2022-04-15T13:34:48.933Z"
   },
   {
    "duration": 14,
    "start_time": "2022-04-15T13:34:48.996Z"
   },
   {
    "duration": 19,
    "start_time": "2022-04-15T13:34:49.013Z"
   },
   {
    "duration": 305,
    "start_time": "2022-04-15T13:34:49.034Z"
   },
   {
    "duration": 13,
    "start_time": "2022-04-15T13:34:49.341Z"
   },
   {
    "duration": 311,
    "start_time": "2022-04-15T13:34:49.356Z"
   },
   {
    "duration": 23,
    "start_time": "2022-04-15T13:34:49.669Z"
   },
   {
    "duration": 394,
    "start_time": "2022-04-15T13:34:49.695Z"
   },
   {
    "duration": 8,
    "start_time": "2022-04-15T13:34:50.092Z"
   },
   {
    "duration": 16,
    "start_time": "2022-04-15T13:34:50.102Z"
   },
   {
    "duration": 396,
    "start_time": "2022-04-15T13:34:50.120Z"
   },
   {
    "duration": 1124,
    "start_time": "2022-04-15T13:34:50.518Z"
   },
   {
    "duration": 25,
    "start_time": "2022-04-15T13:34:51.651Z"
   },
   {
    "duration": 11,
    "start_time": "2022-04-15T13:34:51.678Z"
   },
   {
    "duration": 85,
    "start_time": "2022-04-15T13:34:51.692Z"
   },
   {
    "duration": 13,
    "start_time": "2022-04-15T13:34:51.781Z"
   },
   {
    "duration": 374,
    "start_time": "2022-04-15T13:34:51.799Z"
   },
   {
    "duration": 7,
    "start_time": "2022-04-15T13:34:52.176Z"
   },
   {
    "duration": 17,
    "start_time": "2022-04-15T13:34:52.186Z"
   },
   {
    "duration": 7,
    "start_time": "2022-04-15T13:34:52.205Z"
   },
   {
    "duration": 12,
    "start_time": "2022-04-15T13:34:52.214Z"
   },
   {
    "duration": 1264,
    "start_time": "2022-04-15T13:34:52.256Z"
   },
   {
    "duration": 943,
    "start_time": "2022-04-15T13:34:53.523Z"
   },
   {
    "duration": 18,
    "start_time": "2022-04-15T13:34:54.468Z"
   },
   {
    "duration": 463,
    "start_time": "2022-04-15T13:34:54.488Z"
   },
   {
    "duration": 19,
    "start_time": "2022-04-15T13:34:54.954Z"
   },
   {
    "duration": 8,
    "start_time": "2022-04-15T13:34:54.976Z"
   },
   {
    "duration": 31,
    "start_time": "2022-04-15T13:34:54.987Z"
   },
   {
    "duration": 6,
    "start_time": "2022-04-15T13:34:55.020Z"
   },
   {
    "duration": 38,
    "start_time": "2022-04-15T13:34:55.052Z"
   },
   {
    "duration": 22,
    "start_time": "2022-04-15T13:34:55.092Z"
   },
   {
    "duration": 379,
    "start_time": "2022-04-15T13:34:55.116Z"
   },
   {
    "duration": 1117,
    "start_time": "2022-04-15T13:34:55.498Z"
   },
   {
    "duration": 21,
    "start_time": "2022-04-15T13:34:56.619Z"
   },
   {
    "duration": 6,
    "start_time": "2022-04-15T13:34:56.642Z"
   },
   {
    "duration": 12,
    "start_time": "2022-04-15T13:34:56.650Z"
   },
   {
    "duration": 10,
    "start_time": "2022-04-15T13:34:56.666Z"
   },
   {
    "duration": 14,
    "start_time": "2022-04-15T13:34:56.679Z"
   },
   {
    "duration": 3,
    "start_time": "2022-04-15T13:35:00.698Z"
   },
   {
    "duration": 3,
    "start_time": "2022-04-15T13:35:01.580Z"
   },
   {
    "duration": 16,
    "start_time": "2022-04-15T13:35:03.042Z"
   },
   {
    "duration": 9,
    "start_time": "2022-04-15T13:35:03.634Z"
   },
   {
    "duration": 9,
    "start_time": "2022-04-15T13:35:22.365Z"
   },
   {
    "duration": 203,
    "start_time": "2022-04-15T13:36:05.566Z"
   },
   {
    "duration": 9,
    "start_time": "2022-04-15T13:36:20.840Z"
   },
   {
    "duration": 9,
    "start_time": "2022-04-15T13:37:31.756Z"
   },
   {
    "duration": 11,
    "start_time": "2022-04-15T13:43:59.731Z"
   },
   {
    "duration": 20,
    "start_time": "2022-04-15T13:44:08.009Z"
   },
   {
    "duration": 31,
    "start_time": "2022-04-15T13:44:44.345Z"
   },
   {
    "duration": 11,
    "start_time": "2022-04-15T13:47:38.314Z"
   },
   {
    "duration": 17,
    "start_time": "2022-04-15T13:47:42.306Z"
   },
   {
    "duration": 8,
    "start_time": "2022-04-15T13:50:24.971Z"
   },
   {
    "duration": 9,
    "start_time": "2022-04-15T13:50:49.027Z"
   },
   {
    "duration": 13,
    "start_time": "2022-04-15T13:51:54.781Z"
   },
   {
    "duration": 20,
    "start_time": "2022-04-15T13:52:40.188Z"
   },
   {
    "duration": 17,
    "start_time": "2022-04-15T13:52:54.436Z"
   },
   {
    "duration": 13,
    "start_time": "2022-04-15T13:53:54.077Z"
   },
   {
    "duration": 12,
    "start_time": "2022-04-15T13:56:19.959Z"
   },
   {
    "duration": 17,
    "start_time": "2022-04-15T14:03:16.354Z"
   },
   {
    "duration": 10,
    "start_time": "2022-04-15T14:03:17.082Z"
   },
   {
    "duration": 19,
    "start_time": "2022-04-15T14:03:59.299Z"
   },
   {
    "duration": 11,
    "start_time": "2022-04-15T14:04:00.531Z"
   },
   {
    "duration": 17,
    "start_time": "2022-04-15T14:04:01.242Z"
   },
   {
    "duration": 13,
    "start_time": "2022-04-15T14:04:02.666Z"
   },
   {
    "duration": 17,
    "start_time": "2022-04-15T14:04:18.260Z"
   },
   {
    "duration": 26,
    "start_time": "2022-04-15T14:04:18.772Z"
   },
   {
    "duration": 1590,
    "start_time": "2022-04-15T14:04:19.714Z"
   },
   {
    "duration": 13,
    "start_time": "2022-04-15T14:04:28.713Z"
   },
   {
    "duration": 12,
    "start_time": "2022-04-15T14:04:29.921Z"
   },
   {
    "duration": 17,
    "start_time": "2022-04-15T14:04:30.531Z"
   },
   {
    "duration": 13,
    "start_time": "2022-04-15T14:04:31.482Z"
   },
   {
    "duration": 1716,
    "start_time": "2022-04-15T14:06:52.045Z"
   },
   {
    "duration": 87,
    "start_time": "2022-04-15T14:06:53.765Z"
   },
   {
    "duration": 23,
    "start_time": "2022-04-15T14:06:53.854Z"
   },
   {
    "duration": 27,
    "start_time": "2022-04-15T14:06:53.879Z"
   },
   {
    "duration": 8,
    "start_time": "2022-04-15T14:06:53.909Z"
   },
   {
    "duration": 41,
    "start_time": "2022-04-15T14:06:53.919Z"
   },
   {
    "duration": 8,
    "start_time": "2022-04-15T14:06:53.963Z"
   },
   {
    "duration": 10,
    "start_time": "2022-04-15T14:06:53.974Z"
   },
   {
    "duration": 9,
    "start_time": "2022-04-15T14:06:53.987Z"
   },
   {
    "duration": 65,
    "start_time": "2022-04-15T14:06:54.000Z"
   },
   {
    "duration": 6,
    "start_time": "2022-04-15T14:06:54.067Z"
   },
   {
    "duration": 34,
    "start_time": "2022-04-15T14:06:54.076Z"
   },
   {
    "duration": 45,
    "start_time": "2022-04-15T14:06:54.113Z"
   },
   {
    "duration": 23,
    "start_time": "2022-04-15T14:06:54.161Z"
   },
   {
    "duration": 311,
    "start_time": "2022-04-15T14:06:54.187Z"
   },
   {
    "duration": 7,
    "start_time": "2022-04-15T14:06:54.501Z"
   },
   {
    "duration": 167,
    "start_time": "2022-04-15T14:06:54.510Z"
   },
   {
    "duration": 24,
    "start_time": "2022-04-15T14:06:54.680Z"
   },
   {
    "duration": 385,
    "start_time": "2022-04-15T14:06:54.707Z"
   },
   {
    "duration": 8,
    "start_time": "2022-04-15T14:06:55.094Z"
   },
   {
    "duration": 16,
    "start_time": "2022-04-15T14:06:55.104Z"
   },
   {
    "duration": 390,
    "start_time": "2022-04-15T14:06:55.123Z"
   },
   {
    "duration": 1128,
    "start_time": "2022-04-15T14:06:55.516Z"
   },
   {
    "duration": 31,
    "start_time": "2022-04-15T14:06:56.646Z"
   },
   {
    "duration": 10,
    "start_time": "2022-04-15T14:06:56.680Z"
   },
   {
    "duration": 114,
    "start_time": "2022-04-15T14:06:56.693Z"
   },
   {
    "duration": 17,
    "start_time": "2022-04-15T14:06:56.811Z"
   },
   {
    "duration": 420,
    "start_time": "2022-04-15T14:06:56.833Z"
   },
   {
    "duration": 7,
    "start_time": "2022-04-15T14:06:57.255Z"
   },
   {
    "duration": 13,
    "start_time": "2022-04-15T14:06:57.264Z"
   },
   {
    "duration": 7,
    "start_time": "2022-04-15T14:06:57.280Z"
   },
   {
    "duration": 10,
    "start_time": "2022-04-15T14:06:57.290Z"
   },
   {
    "duration": 1006,
    "start_time": "2022-04-15T14:06:57.302Z"
   },
   {
    "duration": 1010,
    "start_time": "2022-04-15T14:06:58.311Z"
   },
   {
    "duration": 30,
    "start_time": "2022-04-15T14:06:59.323Z"
   },
   {
    "duration": 484,
    "start_time": "2022-04-15T14:06:59.355Z"
   },
   {
    "duration": 22,
    "start_time": "2022-04-15T14:06:59.841Z"
   },
   {
    "duration": 5,
    "start_time": "2022-04-15T14:06:59.866Z"
   },
   {
    "duration": 32,
    "start_time": "2022-04-15T14:06:59.873Z"
   },
   {
    "duration": 9,
    "start_time": "2022-04-15T14:06:59.908Z"
   },
   {
    "duration": 59,
    "start_time": "2022-04-15T14:06:59.919Z"
   },
   {
    "duration": 23,
    "start_time": "2022-04-15T14:06:59.981Z"
   },
   {
    "duration": 361,
    "start_time": "2022-04-15T14:07:00.008Z"
   },
   {
    "duration": 675,
    "start_time": "2022-04-15T14:07:00.372Z"
   },
   {
    "duration": 26,
    "start_time": "2022-04-15T14:07:01.049Z"
   },
   {
    "duration": 22,
    "start_time": "2022-04-15T14:07:01.078Z"
   },
   {
    "duration": 14,
    "start_time": "2022-04-15T14:07:01.103Z"
   },
   {
    "duration": 35,
    "start_time": "2022-04-15T14:07:01.119Z"
   },
   {
    "duration": 11,
    "start_time": "2022-04-15T14:07:01.157Z"
   },
   {
    "duration": 21,
    "start_time": "2022-04-15T14:07:01.170Z"
   },
   {
    "duration": 33,
    "start_time": "2022-04-15T14:13:28.593Z"
   },
   {
    "duration": 1645,
    "start_time": "2022-04-15T14:13:43.466Z"
   },
   {
    "duration": 70,
    "start_time": "2022-04-15T14:13:45.114Z"
   },
   {
    "duration": 24,
    "start_time": "2022-04-15T14:13:45.186Z"
   },
   {
    "duration": 39,
    "start_time": "2022-04-15T14:13:45.213Z"
   },
   {
    "duration": 7,
    "start_time": "2022-04-15T14:13:45.255Z"
   },
   {
    "duration": 24,
    "start_time": "2022-04-15T14:13:45.264Z"
   },
   {
    "duration": 36,
    "start_time": "2022-04-15T14:13:45.290Z"
   },
   {
    "duration": 11,
    "start_time": "2022-04-15T14:13:45.328Z"
   },
   {
    "duration": 13,
    "start_time": "2022-04-15T14:13:45.341Z"
   },
   {
    "duration": 29,
    "start_time": "2022-04-15T14:13:45.358Z"
   },
   {
    "duration": 5,
    "start_time": "2022-04-15T14:13:45.389Z"
   },
   {
    "duration": 57,
    "start_time": "2022-04-15T14:13:45.396Z"
   },
   {
    "duration": 13,
    "start_time": "2022-04-15T14:13:45.455Z"
   },
   {
    "duration": 19,
    "start_time": "2022-04-15T14:13:45.471Z"
   },
   {
    "duration": 1809,
    "start_time": "2022-04-15T14:14:50.010Z"
   },
   {
    "duration": 79,
    "start_time": "2022-04-15T14:14:51.822Z"
   },
   {
    "duration": 18,
    "start_time": "2022-04-15T14:14:51.905Z"
   },
   {
    "duration": 32,
    "start_time": "2022-04-15T14:14:51.926Z"
   },
   {
    "duration": 16,
    "start_time": "2022-04-15T14:14:51.961Z"
   },
   {
    "duration": 42,
    "start_time": "2022-04-15T14:14:51.979Z"
   },
   {
    "duration": 33,
    "start_time": "2022-04-15T14:14:52.023Z"
   },
   {
    "duration": 42,
    "start_time": "2022-04-15T14:14:52.058Z"
   },
   {
    "duration": 30,
    "start_time": "2022-04-15T14:14:52.102Z"
   },
   {
    "duration": 76,
    "start_time": "2022-04-15T14:14:52.136Z"
   },
   {
    "duration": 39,
    "start_time": "2022-04-15T14:14:52.215Z"
   },
   {
    "duration": 59,
    "start_time": "2022-04-15T14:14:52.256Z"
   },
   {
    "duration": 16,
    "start_time": "2022-04-15T14:14:52.317Z"
   },
   {
    "duration": 64,
    "start_time": "2022-04-15T14:14:52.335Z"
   },
   {
    "duration": 302,
    "start_time": "2022-04-15T14:14:52.401Z"
   },
   {
    "duration": 6,
    "start_time": "2022-04-15T14:14:52.705Z"
   },
   {
    "duration": 164,
    "start_time": "2022-04-15T14:14:52.713Z"
   },
   {
    "duration": 20,
    "start_time": "2022-04-15T14:14:52.880Z"
   },
   {
    "duration": 424,
    "start_time": "2022-04-15T14:14:52.903Z"
   },
   {
    "duration": 8,
    "start_time": "2022-04-15T14:14:53.329Z"
   },
   {
    "duration": 36,
    "start_time": "2022-04-15T14:14:53.339Z"
   },
   {
    "duration": 408,
    "start_time": "2022-04-15T14:14:53.378Z"
   },
   {
    "duration": 1219,
    "start_time": "2022-04-15T14:14:53.789Z"
   },
   {
    "duration": 42,
    "start_time": "2022-04-15T14:14:55.011Z"
   },
   {
    "duration": 9,
    "start_time": "2022-04-15T14:14:55.056Z"
   },
   {
    "duration": 59,
    "start_time": "2022-04-15T14:14:55.067Z"
   },
   {
    "duration": 29,
    "start_time": "2022-04-15T14:14:55.128Z"
   },
   {
    "duration": 362,
    "start_time": "2022-04-15T14:14:55.163Z"
   },
   {
    "duration": 7,
    "start_time": "2022-04-15T14:14:55.527Z"
   },
   {
    "duration": 22,
    "start_time": "2022-04-15T14:14:55.536Z"
   },
   {
    "duration": 22,
    "start_time": "2022-04-15T14:14:55.560Z"
   },
   {
    "duration": 34,
    "start_time": "2022-04-15T14:14:55.584Z"
   },
   {
    "duration": 1026,
    "start_time": "2022-04-15T14:14:55.620Z"
   },
   {
    "duration": 903,
    "start_time": "2022-04-15T14:14:56.648Z"
   },
   {
    "duration": 18,
    "start_time": "2022-04-15T14:14:57.554Z"
   },
   {
    "duration": 488,
    "start_time": "2022-04-15T14:14:57.574Z"
   },
   {
    "duration": 19,
    "start_time": "2022-04-15T14:14:58.065Z"
   },
   {
    "duration": 25,
    "start_time": "2022-04-15T14:14:58.088Z"
   },
   {
    "duration": 56,
    "start_time": "2022-04-15T14:14:58.115Z"
   },
   {
    "duration": 7,
    "start_time": "2022-04-15T14:14:58.174Z"
   },
   {
    "duration": 66,
    "start_time": "2022-04-15T14:14:58.184Z"
   },
   {
    "duration": 33,
    "start_time": "2022-04-15T14:14:58.253Z"
   },
   {
    "duration": 379,
    "start_time": "2022-04-15T14:14:58.289Z"
   },
   {
    "duration": 750,
    "start_time": "2022-04-15T14:14:58.670Z"
   },
   {
    "duration": 16,
    "start_time": "2022-04-15T14:14:59.422Z"
   },
   {
    "duration": 21,
    "start_time": "2022-04-15T14:14:59.441Z"
   },
   {
    "duration": 31,
    "start_time": "2022-04-15T14:14:59.464Z"
   },
   {
    "duration": 30,
    "start_time": "2022-04-15T14:14:59.498Z"
   },
   {
    "duration": 23,
    "start_time": "2022-04-15T14:14:59.530Z"
   },
   {
    "duration": 10,
    "start_time": "2022-04-15T14:14:59.555Z"
   },
   {
    "duration": 13,
    "start_time": "2022-04-15T14:15:33.448Z"
   },
   {
    "duration": 15,
    "start_time": "2022-04-15T14:15:57.438Z"
   },
   {
    "duration": 1932,
    "start_time": "2022-04-15T14:16:33.159Z"
   },
   {
    "duration": 70,
    "start_time": "2022-04-15T14:16:35.093Z"
   },
   {
    "duration": 19,
    "start_time": "2022-04-15T14:16:35.166Z"
   },
   {
    "duration": 28,
    "start_time": "2022-04-15T14:16:35.189Z"
   },
   {
    "duration": 7,
    "start_time": "2022-04-15T14:16:35.218Z"
   },
   {
    "duration": 16,
    "start_time": "2022-04-15T14:16:35.253Z"
   },
   {
    "duration": 7,
    "start_time": "2022-04-15T14:16:35.271Z"
   },
   {
    "duration": 14,
    "start_time": "2022-04-15T14:16:35.281Z"
   },
   {
    "duration": 25,
    "start_time": "2022-04-15T14:16:35.297Z"
   },
   {
    "duration": 23,
    "start_time": "2022-04-15T14:16:35.351Z"
   },
   {
    "duration": 7,
    "start_time": "2022-04-15T14:16:35.376Z"
   },
   {
    "duration": 30,
    "start_time": "2022-04-15T14:16:35.386Z"
   },
   {
    "duration": 43,
    "start_time": "2022-04-15T14:16:35.419Z"
   },
   {
    "duration": 19,
    "start_time": "2022-04-15T14:16:35.464Z"
   },
   {
    "duration": 300,
    "start_time": "2022-04-15T14:16:35.485Z"
   },
   {
    "duration": 6,
    "start_time": "2022-04-15T14:16:35.788Z"
   },
   {
    "duration": 212,
    "start_time": "2022-04-15T14:16:35.796Z"
   },
   {
    "duration": 19,
    "start_time": "2022-04-15T14:16:36.011Z"
   },
   {
    "duration": 501,
    "start_time": "2022-04-15T14:16:36.033Z"
   },
   {
    "duration": 19,
    "start_time": "2022-04-15T14:16:36.536Z"
   },
   {
    "duration": 24,
    "start_time": "2022-04-15T14:16:36.558Z"
   },
   {
    "duration": 469,
    "start_time": "2022-04-15T14:16:36.585Z"
   },
   {
    "duration": 1084,
    "start_time": "2022-04-15T14:16:37.056Z"
   },
   {
    "duration": 28,
    "start_time": "2022-04-15T14:16:38.142Z"
   },
   {
    "duration": 10,
    "start_time": "2022-04-15T14:16:38.172Z"
   },
   {
    "duration": 91,
    "start_time": "2022-04-15T14:16:38.184Z"
   },
   {
    "duration": 12,
    "start_time": "2022-04-15T14:16:38.278Z"
   },
   {
    "duration": 329,
    "start_time": "2022-04-15T14:16:38.295Z"
   },
   {
    "duration": 7,
    "start_time": "2022-04-15T14:16:38.626Z"
   },
   {
    "duration": 25,
    "start_time": "2022-04-15T14:16:38.635Z"
   },
   {
    "duration": 8,
    "start_time": "2022-04-15T14:16:38.662Z"
   },
   {
    "duration": 17,
    "start_time": "2022-04-15T14:16:38.673Z"
   },
   {
    "duration": 1145,
    "start_time": "2022-04-15T14:16:38.693Z"
   },
   {
    "duration": 951,
    "start_time": "2022-04-15T14:16:39.841Z"
   },
   {
    "duration": 19,
    "start_time": "2022-04-15T14:16:40.794Z"
   },
   {
    "duration": 471,
    "start_time": "2022-04-15T14:16:40.815Z"
   },
   {
    "duration": 18,
    "start_time": "2022-04-15T14:16:41.288Z"
   },
   {
    "duration": 16,
    "start_time": "2022-04-15T14:16:41.309Z"
   },
   {
    "duration": 51,
    "start_time": "2022-04-15T14:16:41.327Z"
   },
   {
    "duration": 8,
    "start_time": "2022-04-15T14:16:41.381Z"
   },
   {
    "duration": 37,
    "start_time": "2022-04-15T14:16:41.392Z"
   },
   {
    "duration": 40,
    "start_time": "2022-04-15T14:16:41.432Z"
   },
   {
    "duration": 447,
    "start_time": "2022-04-15T14:16:41.474Z"
   },
   {
    "duration": 653,
    "start_time": "2022-04-15T14:16:41.923Z"
   },
   {
    "duration": 17,
    "start_time": "2022-04-15T14:16:42.578Z"
   },
   {
    "duration": 13,
    "start_time": "2022-04-15T14:16:42.597Z"
   },
   {
    "duration": 39,
    "start_time": "2022-04-15T14:16:42.613Z"
   },
   {
    "duration": 21,
    "start_time": "2022-04-15T14:16:42.655Z"
   },
   {
    "duration": 19,
    "start_time": "2022-04-15T14:16:42.678Z"
   },
   {
    "duration": 13,
    "start_time": "2022-04-15T14:16:42.700Z"
   },
   {
    "duration": 14,
    "start_time": "2022-04-15T14:18:08.119Z"
   },
   {
    "duration": 1814,
    "start_time": "2022-04-15T14:22:25.622Z"
   },
   {
    "duration": 67,
    "start_time": "2022-04-15T14:22:27.439Z"
   },
   {
    "duration": 19,
    "start_time": "2022-04-15T14:22:27.509Z"
   },
   {
    "duration": 44,
    "start_time": "2022-04-15T14:22:27.530Z"
   },
   {
    "duration": 8,
    "start_time": "2022-04-15T14:22:27.577Z"
   },
   {
    "duration": 12,
    "start_time": "2022-04-15T14:22:27.587Z"
   },
   {
    "duration": 12,
    "start_time": "2022-04-15T14:22:27.601Z"
   },
   {
    "duration": 47,
    "start_time": "2022-04-15T14:22:27.615Z"
   },
   {
    "duration": 12,
    "start_time": "2022-04-15T14:22:27.664Z"
   },
   {
    "duration": 22,
    "start_time": "2022-04-15T14:22:27.680Z"
   },
   {
    "duration": 6,
    "start_time": "2022-04-15T14:22:27.705Z"
   },
   {
    "duration": 60,
    "start_time": "2022-04-15T14:22:27.713Z"
   },
   {
    "duration": 13,
    "start_time": "2022-04-15T14:22:27.775Z"
   },
   {
    "duration": 19,
    "start_time": "2022-04-15T14:22:27.791Z"
   },
   {
    "duration": 331,
    "start_time": "2022-04-15T14:22:27.813Z"
   },
   {
    "duration": 7,
    "start_time": "2022-04-15T14:22:28.146Z"
   },
   {
    "duration": 181,
    "start_time": "2022-04-15T14:22:28.156Z"
   },
   {
    "duration": 29,
    "start_time": "2022-04-15T14:22:28.340Z"
   },
   {
    "duration": 381,
    "start_time": "2022-04-15T14:22:28.371Z"
   },
   {
    "duration": 9,
    "start_time": "2022-04-15T14:22:28.754Z"
   },
   {
    "duration": 13,
    "start_time": "2022-04-15T14:22:28.765Z"
   },
   {
    "duration": 377,
    "start_time": "2022-04-15T14:22:28.781Z"
   },
   {
    "duration": 1077,
    "start_time": "2022-04-15T14:22:29.161Z"
   },
   {
    "duration": 31,
    "start_time": "2022-04-15T14:22:30.240Z"
   },
   {
    "duration": 28,
    "start_time": "2022-04-15T14:22:30.273Z"
   },
   {
    "duration": 59,
    "start_time": "2022-04-15T14:22:30.303Z"
   },
   {
    "duration": 26,
    "start_time": "2022-04-15T14:22:30.365Z"
   },
   {
    "duration": 440,
    "start_time": "2022-04-15T14:22:30.398Z"
   },
   {
    "duration": 6,
    "start_time": "2022-04-15T14:22:30.840Z"
   },
   {
    "duration": 25,
    "start_time": "2022-04-15T14:22:30.852Z"
   },
   {
    "duration": 23,
    "start_time": "2022-04-15T14:22:30.880Z"
   },
   {
    "duration": 16,
    "start_time": "2022-04-15T14:22:30.906Z"
   },
   {
    "duration": 1009,
    "start_time": "2022-04-15T14:22:30.925Z"
   },
   {
    "duration": 848,
    "start_time": "2022-04-15T14:22:31.937Z"
   },
   {
    "duration": 17,
    "start_time": "2022-04-15T14:22:32.788Z"
   },
   {
    "duration": 488,
    "start_time": "2022-04-15T14:22:32.807Z"
   },
   {
    "duration": 20,
    "start_time": "2022-04-15T14:22:33.298Z"
   },
   {
    "duration": 5,
    "start_time": "2022-04-15T14:22:33.320Z"
   },
   {
    "duration": 56,
    "start_time": "2022-04-15T14:22:33.328Z"
   },
   {
    "duration": 8,
    "start_time": "2022-04-15T14:22:33.387Z"
   },
   {
    "duration": 66,
    "start_time": "2022-04-15T14:22:33.398Z"
   },
   {
    "duration": 25,
    "start_time": "2022-04-15T14:22:33.467Z"
   },
   {
    "duration": 361,
    "start_time": "2022-04-15T14:22:33.494Z"
   },
   {
    "duration": 837,
    "start_time": "2022-04-15T14:22:33.857Z"
   },
   {
    "duration": 19,
    "start_time": "2022-04-15T14:22:34.697Z"
   },
   {
    "duration": 11,
    "start_time": "2022-04-15T14:22:34.719Z"
   },
   {
    "duration": 19,
    "start_time": "2022-04-15T14:22:34.733Z"
   },
   {
    "duration": 19,
    "start_time": "2022-04-15T14:22:34.755Z"
   },
   {
    "duration": 17,
    "start_time": "2022-04-15T14:22:34.777Z"
   },
   {
    "duration": 10,
    "start_time": "2022-04-15T14:22:34.797Z"
   },
   {
    "duration": 16,
    "start_time": "2022-04-15T14:35:53.343Z"
   },
   {
    "duration": 1627,
    "start_time": "2022-04-15T14:37:21.320Z"
   },
   {
    "duration": 67,
    "start_time": "2022-04-15T14:37:22.952Z"
   },
   {
    "duration": 29,
    "start_time": "2022-04-15T14:37:23.022Z"
   },
   {
    "duration": 32,
    "start_time": "2022-04-15T14:37:23.056Z"
   },
   {
    "duration": 8,
    "start_time": "2022-04-15T14:37:23.090Z"
   },
   {
    "duration": 15,
    "start_time": "2022-04-15T14:37:23.100Z"
   },
   {
    "duration": 39,
    "start_time": "2022-04-15T14:37:23.117Z"
   },
   {
    "duration": 12,
    "start_time": "2022-04-15T14:37:23.158Z"
   },
   {
    "duration": 9,
    "start_time": "2022-04-15T14:37:23.173Z"
   },
   {
    "duration": 64,
    "start_time": "2022-04-15T14:37:23.188Z"
   },
   {
    "duration": 7,
    "start_time": "2022-04-15T14:37:23.254Z"
   },
   {
    "duration": 61,
    "start_time": "2022-04-15T14:37:23.264Z"
   },
   {
    "duration": 13,
    "start_time": "2022-04-15T14:37:23.327Z"
   },
   {
    "duration": 24,
    "start_time": "2022-04-15T14:37:23.343Z"
   },
   {
    "duration": 380,
    "start_time": "2022-04-15T14:37:23.370Z"
   },
   {
    "duration": 6,
    "start_time": "2022-04-15T14:37:23.752Z"
   },
   {
    "duration": 172,
    "start_time": "2022-04-15T14:37:23.760Z"
   },
   {
    "duration": 29,
    "start_time": "2022-04-15T14:37:23.934Z"
   },
   {
    "duration": 372,
    "start_time": "2022-04-15T14:37:23.965Z"
   },
   {
    "duration": 13,
    "start_time": "2022-04-15T14:37:24.339Z"
   },
   {
    "duration": 18,
    "start_time": "2022-04-15T14:37:24.355Z"
   },
   {
    "duration": 391,
    "start_time": "2022-04-15T14:37:24.376Z"
   },
   {
    "duration": 1194,
    "start_time": "2022-04-15T14:37:24.769Z"
   },
   {
    "duration": 25,
    "start_time": "2022-04-15T14:37:25.966Z"
   },
   {
    "duration": 11,
    "start_time": "2022-04-15T14:37:25.993Z"
   },
   {
    "duration": 114,
    "start_time": "2022-04-15T14:37:26.007Z"
   },
   {
    "duration": 12,
    "start_time": "2022-04-15T14:37:26.123Z"
   },
   {
    "duration": 332,
    "start_time": "2022-04-15T14:37:26.153Z"
   },
   {
    "duration": 7,
    "start_time": "2022-04-15T14:37:26.488Z"
   },
   {
    "duration": 15,
    "start_time": "2022-04-15T14:37:26.497Z"
   },
   {
    "duration": 10,
    "start_time": "2022-04-15T14:37:26.515Z"
   },
   {
    "duration": 29,
    "start_time": "2022-04-15T14:37:26.527Z"
   },
   {
    "duration": 1108,
    "start_time": "2022-04-15T14:37:26.558Z"
   },
   {
    "duration": 958,
    "start_time": "2022-04-15T14:37:27.669Z"
   },
   {
    "duration": 32,
    "start_time": "2022-04-15T14:37:28.629Z"
   },
   {
    "duration": 495,
    "start_time": "2022-04-15T14:37:28.663Z"
   },
   {
    "duration": 20,
    "start_time": "2022-04-15T14:37:29.160Z"
   },
   {
    "duration": 12,
    "start_time": "2022-04-15T14:37:29.182Z"
   },
   {
    "duration": 34,
    "start_time": "2022-04-15T14:37:29.197Z"
   },
   {
    "duration": 5,
    "start_time": "2022-04-15T14:37:29.255Z"
   },
   {
    "duration": 41,
    "start_time": "2022-04-15T14:37:29.263Z"
   },
   {
    "duration": 45,
    "start_time": "2022-04-15T14:37:29.306Z"
   },
   {
    "duration": 402,
    "start_time": "2022-04-15T14:37:29.354Z"
   },
   {
    "duration": 1135,
    "start_time": "2022-04-15T14:37:29.759Z"
   },
   {
    "duration": 18,
    "start_time": "2022-04-15T14:37:30.896Z"
   },
   {
    "duration": 24,
    "start_time": "2022-04-15T14:37:30.916Z"
   },
   {
    "duration": 30,
    "start_time": "2022-04-15T14:37:30.942Z"
   },
   {
    "duration": 26,
    "start_time": "2022-04-15T14:37:30.974Z"
   },
   {
    "duration": 15,
    "start_time": "2022-04-15T14:37:31.002Z"
   },
   {
    "duration": 17,
    "start_time": "2022-04-15T14:37:31.020Z"
   },
   {
    "duration": 18,
    "start_time": "2022-04-15T14:37:31.039Z"
   },
   {
    "duration": 2465,
    "start_time": "2022-04-15T14:38:49.528Z"
   },
   {
    "duration": 10,
    "start_time": "2022-04-15T14:39:05.997Z"
   },
   {
    "duration": 1687,
    "start_time": "2022-04-15T14:39:13.688Z"
   },
   {
    "duration": 9,
    "start_time": "2022-04-15T14:39:24.326Z"
   },
   {
    "duration": 1855,
    "start_time": "2022-04-15T14:39:38.335Z"
   },
   {
    "duration": 1679,
    "start_time": "2022-04-15T14:39:51.887Z"
   },
   {
    "duration": 21,
    "start_time": "2022-04-15T14:40:03.760Z"
   },
   {
    "duration": 19,
    "start_time": "2022-04-15T14:40:08.170Z"
   },
   {
    "duration": 1679,
    "start_time": "2022-04-15T14:40:14.185Z"
   },
   {
    "duration": 16,
    "start_time": "2022-04-15T14:40:29.952Z"
   },
   {
    "duration": 8,
    "start_time": "2022-04-15T14:40:58.289Z"
   },
   {
    "duration": 8,
    "start_time": "2022-04-15T14:41:27.954Z"
   },
   {
    "duration": 12,
    "start_time": "2022-04-15T14:42:34.287Z"
   },
   {
    "duration": 24,
    "start_time": "2022-04-15T14:42:42.815Z"
   },
   {
    "duration": 1279,
    "start_time": "2022-04-16T06:37:37.409Z"
   },
   {
    "duration": 55,
    "start_time": "2022-04-16T06:37:38.690Z"
   },
   {
    "duration": 12,
    "start_time": "2022-04-16T06:37:38.747Z"
   },
   {
    "duration": 32,
    "start_time": "2022-04-16T06:37:38.760Z"
   },
   {
    "duration": 23,
    "start_time": "2022-04-16T06:37:38.794Z"
   },
   {
    "duration": 15,
    "start_time": "2022-04-16T06:37:38.819Z"
   },
   {
    "duration": 25,
    "start_time": "2022-04-16T06:37:38.836Z"
   },
   {
    "duration": 29,
    "start_time": "2022-04-16T06:37:38.863Z"
   },
   {
    "duration": 26,
    "start_time": "2022-04-16T06:37:38.894Z"
   },
   {
    "duration": 33,
    "start_time": "2022-04-16T06:37:38.922Z"
   },
   {
    "duration": 6,
    "start_time": "2022-04-16T06:37:38.956Z"
   },
   {
    "duration": 37,
    "start_time": "2022-04-16T06:37:38.963Z"
   },
   {
    "duration": 8,
    "start_time": "2022-04-16T06:37:39.001Z"
   },
   {
    "duration": 23,
    "start_time": "2022-04-16T06:37:39.011Z"
   },
   {
    "duration": 144,
    "start_time": "2022-04-16T06:37:39.035Z"
   },
   {
    "duration": 4,
    "start_time": "2022-04-16T06:37:39.181Z"
   },
   {
    "duration": 95,
    "start_time": "2022-04-16T06:37:39.186Z"
   },
   {
    "duration": 13,
    "start_time": "2022-04-16T06:37:39.283Z"
   },
   {
    "duration": 190,
    "start_time": "2022-04-16T06:37:39.298Z"
   },
   {
    "duration": 6,
    "start_time": "2022-04-16T06:37:39.489Z"
   },
   {
    "duration": 18,
    "start_time": "2022-04-16T06:37:39.496Z"
   },
   {
    "duration": 202,
    "start_time": "2022-04-16T06:37:39.516Z"
   },
   {
    "duration": 599,
    "start_time": "2022-04-16T06:37:39.719Z"
   },
   {
    "duration": 13,
    "start_time": "2022-04-16T06:37:40.319Z"
   },
   {
    "duration": 24,
    "start_time": "2022-04-16T06:37:40.333Z"
   },
   {
    "duration": 40,
    "start_time": "2022-04-16T06:37:40.358Z"
   },
   {
    "duration": 31,
    "start_time": "2022-04-16T06:37:40.400Z"
   },
   {
    "duration": 200,
    "start_time": "2022-04-16T06:37:40.434Z"
   },
   {
    "duration": 4,
    "start_time": "2022-04-16T06:37:40.636Z"
   },
   {
    "duration": 19,
    "start_time": "2022-04-16T06:37:40.642Z"
   },
   {
    "duration": 8,
    "start_time": "2022-04-16T06:37:40.663Z"
   },
   {
    "duration": 10,
    "start_time": "2022-04-16T06:37:40.672Z"
   },
   {
    "duration": 632,
    "start_time": "2022-04-16T06:37:40.684Z"
   },
   {
    "duration": 502,
    "start_time": "2022-04-16T06:37:41.318Z"
   },
   {
    "duration": 12,
    "start_time": "2022-04-16T06:37:41.822Z"
   },
   {
    "duration": 252,
    "start_time": "2022-04-16T06:37:41.836Z"
   },
   {
    "duration": 12,
    "start_time": "2022-04-16T06:37:42.090Z"
   },
   {
    "duration": 14,
    "start_time": "2022-04-16T06:37:42.104Z"
   },
   {
    "duration": 21,
    "start_time": "2022-04-16T06:37:42.120Z"
   },
   {
    "duration": 12,
    "start_time": "2022-04-16T06:37:42.143Z"
   },
   {
    "duration": 21,
    "start_time": "2022-04-16T06:37:42.156Z"
   },
   {
    "duration": 17,
    "start_time": "2022-04-16T06:37:42.179Z"
   },
   {
    "duration": 206,
    "start_time": "2022-04-16T06:37:42.198Z"
   },
   {
    "duration": 1257,
    "start_time": "2022-04-16T06:37:42.406Z"
   },
   {
    "duration": 10,
    "start_time": "2022-04-16T06:37:43.665Z"
   },
   {
    "duration": 8,
    "start_time": "2022-04-16T06:37:43.676Z"
   },
   {
    "duration": 5,
    "start_time": "2022-04-16T06:37:43.686Z"
   },
   {
    "duration": 13,
    "start_time": "2022-04-16T06:37:43.692Z"
   },
   {
    "duration": 8,
    "start_time": "2022-04-16T06:37:43.706Z"
   },
   {
    "duration": 15,
    "start_time": "2022-04-16T06:37:43.715Z"
   },
   {
    "duration": 22,
    "start_time": "2022-04-16T06:37:43.732Z"
   },
   {
    "duration": 15,
    "start_time": "2022-04-16T06:37:43.756Z"
   },
   {
    "duration": 9,
    "start_time": "2022-04-16T06:39:54.843Z"
   },
   {
    "duration": 8,
    "start_time": "2022-04-16T06:39:58.906Z"
   },
   {
    "duration": 10,
    "start_time": "2022-04-16T06:40:10.708Z"
   },
   {
    "duration": 135,
    "start_time": "2022-04-16T06:41:20.667Z"
   },
   {
    "duration": 9,
    "start_time": "2022-04-16T06:41:30.364Z"
   },
   {
    "duration": 10,
    "start_time": "2022-04-16T06:42:31.054Z"
   },
   {
    "duration": 4,
    "start_time": "2022-04-16T06:59:14.549Z"
   },
   {
    "duration": 2,
    "start_time": "2022-04-16T06:59:35.868Z"
   },
   {
    "duration": 3,
    "start_time": "2022-04-16T07:01:58.181Z"
   },
   {
    "duration": 6,
    "start_time": "2022-04-16T07:02:00.173Z"
   },
   {
    "duration": 7,
    "start_time": "2022-04-16T07:03:35.438Z"
   },
   {
    "duration": 5,
    "start_time": "2022-04-16T07:04:19.288Z"
   },
   {
    "duration": 7,
    "start_time": "2022-04-16T07:04:24.546Z"
   },
   {
    "duration": 4,
    "start_time": "2022-04-16T07:04:53.961Z"
   },
   {
    "duration": 7,
    "start_time": "2022-04-16T07:05:10.487Z"
   },
   {
    "duration": 4,
    "start_time": "2022-04-16T07:06:27.889Z"
   },
   {
    "duration": 7,
    "start_time": "2022-04-16T07:06:30.842Z"
   },
   {
    "duration": 5,
    "start_time": "2022-04-16T07:09:04.013Z"
   },
   {
    "duration": 8,
    "start_time": "2022-04-16T07:09:04.628Z"
   },
   {
    "duration": 5,
    "start_time": "2022-04-16T07:09:42.084Z"
   },
   {
    "duration": 8,
    "start_time": "2022-04-16T07:09:42.646Z"
   },
   {
    "duration": 160,
    "start_time": "2022-04-16T07:10:37.613Z"
   },
   {
    "duration": 107,
    "start_time": "2022-04-16T07:12:48.127Z"
   },
   {
    "duration": 9,
    "start_time": "2022-04-16T07:13:18.415Z"
   },
   {
    "duration": 9,
    "start_time": "2022-04-16T07:13:30.575Z"
   },
   {
    "duration": 12,
    "start_time": "2022-04-16T07:14:20.039Z"
   },
   {
    "duration": 10,
    "start_time": "2022-04-16T07:14:30.808Z"
   },
   {
    "duration": 1180,
    "start_time": "2022-04-16T07:22:11.596Z"
   },
   {
    "duration": 49,
    "start_time": "2022-04-16T07:22:12.778Z"
   },
   {
    "duration": 12,
    "start_time": "2022-04-16T07:22:12.828Z"
   },
   {
    "duration": 22,
    "start_time": "2022-04-16T07:22:12.842Z"
   },
   {
    "duration": 4,
    "start_time": "2022-04-16T07:22:12.866Z"
   },
   {
    "duration": 10,
    "start_time": "2022-04-16T07:22:12.872Z"
   },
   {
    "duration": 5,
    "start_time": "2022-04-16T07:22:12.883Z"
   },
   {
    "duration": 8,
    "start_time": "2022-04-16T07:22:12.890Z"
   },
   {
    "duration": 8,
    "start_time": "2022-04-16T07:22:12.900Z"
   },
   {
    "duration": 44,
    "start_time": "2022-04-16T07:22:12.911Z"
   },
   {
    "duration": 4,
    "start_time": "2022-04-16T07:22:12.958Z"
   },
   {
    "duration": 20,
    "start_time": "2022-04-16T07:22:12.964Z"
   },
   {
    "duration": 9,
    "start_time": "2022-04-16T07:22:12.986Z"
   },
   {
    "duration": 13,
    "start_time": "2022-04-16T07:22:12.997Z"
   },
   {
    "duration": 190,
    "start_time": "2022-04-16T07:22:13.012Z"
   },
   {
    "duration": 5,
    "start_time": "2022-04-16T07:22:13.204Z"
   },
   {
    "duration": 90,
    "start_time": "2022-04-16T07:22:13.210Z"
   },
   {
    "duration": 13,
    "start_time": "2022-04-16T07:22:13.302Z"
   },
   {
    "duration": 206,
    "start_time": "2022-04-16T07:22:13.316Z"
   },
   {
    "duration": 5,
    "start_time": "2022-04-16T07:22:13.524Z"
   },
   {
    "duration": 12,
    "start_time": "2022-04-16T07:22:13.530Z"
   },
   {
    "duration": 190,
    "start_time": "2022-04-16T07:22:13.543Z"
   },
   {
    "duration": 610,
    "start_time": "2022-04-16T07:22:13.735Z"
   },
   {
    "duration": 16,
    "start_time": "2022-04-16T07:22:14.347Z"
   },
   {
    "duration": 6,
    "start_time": "2022-04-16T07:22:14.365Z"
   },
   {
    "duration": 31,
    "start_time": "2022-04-16T07:22:14.372Z"
   },
   {
    "duration": 8,
    "start_time": "2022-04-16T07:22:14.404Z"
   },
   {
    "duration": 208,
    "start_time": "2022-04-16T07:22:14.415Z"
   },
   {
    "duration": 4,
    "start_time": "2022-04-16T07:22:14.625Z"
   },
   {
    "duration": 9,
    "start_time": "2022-04-16T07:22:14.630Z"
   },
   {
    "duration": 15,
    "start_time": "2022-04-16T07:22:14.640Z"
   },
   {
    "duration": 12,
    "start_time": "2022-04-16T07:22:14.656Z"
   },
   {
    "duration": 630,
    "start_time": "2022-04-16T07:22:14.669Z"
   },
   {
    "duration": 554,
    "start_time": "2022-04-16T07:22:15.300Z"
   },
   {
    "duration": 11,
    "start_time": "2022-04-16T07:22:15.855Z"
   },
   {
    "duration": 242,
    "start_time": "2022-04-16T07:22:15.868Z"
   },
   {
    "duration": 12,
    "start_time": "2022-04-16T07:22:16.112Z"
   },
   {
    "duration": 43,
    "start_time": "2022-04-16T07:22:16.125Z"
   },
   {
    "duration": 37,
    "start_time": "2022-04-16T07:22:16.169Z"
   },
   {
    "duration": 6,
    "start_time": "2022-04-16T07:22:16.208Z"
   },
   {
    "duration": 31,
    "start_time": "2022-04-16T07:22:16.215Z"
   },
   {
    "duration": 21,
    "start_time": "2022-04-16T07:22:16.248Z"
   },
   {
    "duration": 194,
    "start_time": "2022-04-16T07:22:16.271Z"
   },
   {
    "duration": 3,
    "start_time": "2022-04-16T07:22:16.467Z"
   },
   {
    "duration": 2309,
    "start_time": "2022-04-16T07:22:16.472Z"
   },
   {
    "duration": 0,
    "start_time": "2022-04-16T07:22:18.782Z"
   },
   {
    "duration": 0,
    "start_time": "2022-04-16T07:22:18.783Z"
   },
   {
    "duration": 0,
    "start_time": "2022-04-16T07:22:18.784Z"
   },
   {
    "duration": 0,
    "start_time": "2022-04-16T07:22:18.785Z"
   },
   {
    "duration": 0,
    "start_time": "2022-04-16T07:22:18.786Z"
   },
   {
    "duration": 0,
    "start_time": "2022-04-16T07:22:18.787Z"
   },
   {
    "duration": 0,
    "start_time": "2022-04-16T07:22:18.788Z"
   },
   {
    "duration": 0,
    "start_time": "2022-04-16T07:22:18.789Z"
   },
   {
    "duration": 0,
    "start_time": "2022-04-16T07:22:18.789Z"
   },
   {
    "duration": 0,
    "start_time": "2022-04-16T07:22:18.791Z"
   },
   {
    "duration": 0,
    "start_time": "2022-04-16T07:22:18.791Z"
   },
   {
    "duration": 9,
    "start_time": "2022-04-16T07:22:55.690Z"
   },
   {
    "duration": 2191,
    "start_time": "2022-04-16T07:25:39.732Z"
   },
   {
    "duration": 3,
    "start_time": "2022-04-16T07:25:47.074Z"
   },
   {
    "duration": 6,
    "start_time": "2022-04-16T07:25:54.604Z"
   },
   {
    "duration": 7,
    "start_time": "2022-04-16T07:26:00.666Z"
   },
   {
    "duration": 2172,
    "start_time": "2022-04-16T07:26:11.972Z"
   },
   {
    "duration": 3,
    "start_time": "2022-04-16T07:27:10.485Z"
   },
   {
    "duration": 5,
    "start_time": "2022-04-16T07:27:14.021Z"
   },
   {
    "duration": 4,
    "start_time": "2022-04-16T07:27:22.557Z"
   },
   {
    "duration": 9,
    "start_time": "2022-04-16T07:27:24.795Z"
   },
   {
    "duration": 12,
    "start_time": "2022-04-16T07:28:23.678Z"
   },
   {
    "duration": 15,
    "start_time": "2022-04-16T07:29:14.086Z"
   },
   {
    "duration": 196,
    "start_time": "2022-04-16T07:29:15.022Z"
   },
   {
    "duration": 4,
    "start_time": "2022-04-16T07:29:17.845Z"
   },
   {
    "duration": 13,
    "start_time": "2022-04-16T07:29:18.558Z"
   },
   {
    "duration": 1113,
    "start_time": "2022-04-16T07:29:29.789Z"
   },
   {
    "duration": 1224,
    "start_time": "2022-04-16T07:29:38.530Z"
   },
   {
    "duration": 51,
    "start_time": "2022-04-16T07:29:39.756Z"
   },
   {
    "duration": 12,
    "start_time": "2022-04-16T07:29:39.809Z"
   },
   {
    "duration": 17,
    "start_time": "2022-04-16T07:29:39.823Z"
   },
   {
    "duration": 14,
    "start_time": "2022-04-16T07:29:39.842Z"
   },
   {
    "duration": 9,
    "start_time": "2022-04-16T07:29:39.858Z"
   },
   {
    "duration": 5,
    "start_time": "2022-04-16T07:29:39.868Z"
   },
   {
    "duration": 7,
    "start_time": "2022-04-16T07:29:39.874Z"
   },
   {
    "duration": 7,
    "start_time": "2022-04-16T07:29:39.882Z"
   },
   {
    "duration": 12,
    "start_time": "2022-04-16T07:29:39.892Z"
   },
   {
    "duration": 3,
    "start_time": "2022-04-16T07:29:39.906Z"
   },
   {
    "duration": 54,
    "start_time": "2022-04-16T07:29:39.911Z"
   },
   {
    "duration": 8,
    "start_time": "2022-04-16T07:29:39.967Z"
   },
   {
    "duration": 12,
    "start_time": "2022-04-16T07:29:39.976Z"
   },
   {
    "duration": 170,
    "start_time": "2022-04-16T07:29:39.990Z"
   },
   {
    "duration": 4,
    "start_time": "2022-04-16T07:29:40.162Z"
   },
   {
    "duration": 89,
    "start_time": "2022-04-16T07:29:40.167Z"
   },
   {
    "duration": 13,
    "start_time": "2022-04-16T07:29:40.257Z"
   },
   {
    "duration": 196,
    "start_time": "2022-04-16T07:29:40.272Z"
   },
   {
    "duration": 6,
    "start_time": "2022-04-16T07:29:40.470Z"
   },
   {
    "duration": 10,
    "start_time": "2022-04-16T07:29:40.477Z"
   },
   {
    "duration": 199,
    "start_time": "2022-04-16T07:29:40.488Z"
   },
   {
    "duration": 610,
    "start_time": "2022-04-16T07:29:40.689Z"
   },
   {
    "duration": 13,
    "start_time": "2022-04-16T07:29:41.301Z"
   },
   {
    "duration": 7,
    "start_time": "2022-04-16T07:29:41.315Z"
   },
   {
    "duration": 52,
    "start_time": "2022-04-16T07:29:41.323Z"
   },
   {
    "duration": 7,
    "start_time": "2022-04-16T07:29:41.377Z"
   },
   {
    "duration": 197,
    "start_time": "2022-04-16T07:29:41.388Z"
   },
   {
    "duration": 4,
    "start_time": "2022-04-16T07:29:41.587Z"
   },
   {
    "duration": 8,
    "start_time": "2022-04-16T07:29:41.593Z"
   },
   {
    "duration": 4,
    "start_time": "2022-04-16T07:29:41.603Z"
   },
   {
    "duration": 9,
    "start_time": "2022-04-16T07:29:41.608Z"
   },
   {
    "duration": 583,
    "start_time": "2022-04-16T07:29:41.618Z"
   },
   {
    "duration": 542,
    "start_time": "2022-04-16T07:29:42.203Z"
   },
   {
    "duration": 15,
    "start_time": "2022-04-16T07:29:42.747Z"
   },
   {
    "duration": 233,
    "start_time": "2022-04-16T07:29:42.763Z"
   },
   {
    "duration": 12,
    "start_time": "2022-04-16T07:29:42.998Z"
   },
   {
    "duration": 7,
    "start_time": "2022-04-16T07:29:43.012Z"
   },
   {
    "duration": 45,
    "start_time": "2022-04-16T07:29:43.021Z"
   },
   {
    "duration": 12,
    "start_time": "2022-04-16T07:29:43.067Z"
   },
   {
    "duration": 28,
    "start_time": "2022-04-16T07:29:43.080Z"
   },
   {
    "duration": 33,
    "start_time": "2022-04-16T07:29:43.110Z"
   },
   {
    "duration": 185,
    "start_time": "2022-04-16T07:29:43.144Z"
   },
   {
    "duration": 3,
    "start_time": "2022-04-16T07:29:43.330Z"
   },
   {
    "duration": 21,
    "start_time": "2022-04-16T07:29:43.335Z"
   },
   {
    "duration": 798,
    "start_time": "2022-04-16T07:29:43.357Z"
   },
   {
    "duration": 11,
    "start_time": "2022-04-16T07:29:44.156Z"
   },
   {
    "duration": 9,
    "start_time": "2022-04-16T07:29:44.168Z"
   },
   {
    "duration": 6,
    "start_time": "2022-04-16T07:29:44.178Z"
   },
   {
    "duration": 9,
    "start_time": "2022-04-16T07:29:44.185Z"
   },
   {
    "duration": 11,
    "start_time": "2022-04-16T07:29:44.196Z"
   },
   {
    "duration": 8,
    "start_time": "2022-04-16T07:29:44.208Z"
   },
   {
    "duration": 36,
    "start_time": "2022-04-16T07:29:44.218Z"
   },
   {
    "duration": 11,
    "start_time": "2022-04-16T07:29:44.256Z"
   },
   {
    "duration": 15,
    "start_time": "2022-04-16T07:29:44.269Z"
   },
   {
    "duration": 10,
    "start_time": "2022-04-16T07:32:17.171Z"
   },
   {
    "duration": 336,
    "start_time": "2022-04-16T07:32:48.331Z"
   },
   {
    "duration": 337,
    "start_time": "2022-04-16T07:33:51.493Z"
   },
   {
    "duration": 338,
    "start_time": "2022-04-16T07:34:12.068Z"
   },
   {
    "duration": 360,
    "start_time": "2022-04-16T07:34:48.027Z"
   },
   {
    "duration": 10,
    "start_time": "2022-04-16T07:37:15.270Z"
   },
   {
    "duration": 11,
    "start_time": "2022-04-16T07:37:28.886Z"
   },
   {
    "duration": 10,
    "start_time": "2022-04-16T07:38:57.638Z"
   },
   {
    "duration": 216,
    "start_time": "2022-04-16T07:42:19.614Z"
   },
   {
    "duration": 349,
    "start_time": "2022-04-16T07:44:19.932Z"
   },
   {
    "duration": 285,
    "start_time": "2022-04-16T07:55:30.307Z"
   },
   {
    "duration": 383,
    "start_time": "2022-04-16T07:56:03.514Z"
   },
   {
    "duration": 243,
    "start_time": "2022-04-16T07:56:16.210Z"
   },
   {
    "duration": 243,
    "start_time": "2022-04-16T07:57:24.132Z"
   },
   {
    "duration": 142,
    "start_time": "2022-04-16T08:00:57.372Z"
   },
   {
    "duration": 5,
    "start_time": "2022-04-16T08:01:08.732Z"
   },
   {
    "duration": 221,
    "start_time": "2022-04-16T08:01:10.188Z"
   },
   {
    "duration": 1557,
    "start_time": "2022-04-16T08:01:52.022Z"
   },
   {
    "duration": 4,
    "start_time": "2022-04-16T08:02:01.420Z"
   },
   {
    "duration": 76,
    "start_time": "2022-04-16T08:02:01.427Z"
   },
   {
    "duration": 8,
    "start_time": "2022-04-16T08:02:01.505Z"
   },
   {
    "duration": 25,
    "start_time": "2022-04-16T08:02:01.515Z"
   },
   {
    "duration": 14,
    "start_time": "2022-04-16T08:02:01.541Z"
   },
   {
    "duration": 29,
    "start_time": "2022-04-16T08:02:01.557Z"
   },
   {
    "duration": 29,
    "start_time": "2022-04-16T08:02:01.588Z"
   },
   {
    "duration": 16,
    "start_time": "2022-04-16T08:02:01.619Z"
   },
   {
    "duration": 48,
    "start_time": "2022-04-16T08:02:01.638Z"
   },
   {
    "duration": 53,
    "start_time": "2022-04-16T08:02:01.688Z"
   },
   {
    "duration": 6,
    "start_time": "2022-04-16T08:02:01.743Z"
   },
   {
    "duration": 47,
    "start_time": "2022-04-16T08:02:01.751Z"
   },
   {
    "duration": 10,
    "start_time": "2022-04-16T08:02:01.800Z"
   },
   {
    "duration": 54,
    "start_time": "2022-04-16T08:02:01.812Z"
   },
   {
    "duration": 163,
    "start_time": "2022-04-16T08:02:01.867Z"
   },
   {
    "duration": 4,
    "start_time": "2022-04-16T08:02:02.032Z"
   },
   {
    "duration": 99,
    "start_time": "2022-04-16T08:02:02.039Z"
   },
   {
    "duration": 23,
    "start_time": "2022-04-16T08:02:02.140Z"
   },
   {
    "duration": 285,
    "start_time": "2022-04-16T08:02:02.164Z"
   },
   {
    "duration": 7,
    "start_time": "2022-04-16T08:02:02.454Z"
   },
   {
    "duration": 31,
    "start_time": "2022-04-16T08:02:02.462Z"
   },
   {
    "duration": 199,
    "start_time": "2022-04-16T08:02:02.494Z"
   },
   {
    "duration": 524,
    "start_time": "2022-04-16T08:02:02.695Z"
   },
   {
    "duration": 11,
    "start_time": "2022-04-16T08:02:03.223Z"
   },
   {
    "duration": 27,
    "start_time": "2022-04-16T08:02:03.236Z"
   },
   {
    "duration": 49,
    "start_time": "2022-04-16T08:02:03.265Z"
   },
   {
    "duration": 7,
    "start_time": "2022-04-16T08:02:03.316Z"
   },
   {
    "duration": 204,
    "start_time": "2022-04-16T08:02:03.324Z"
   },
   {
    "duration": 4,
    "start_time": "2022-04-16T08:02:03.530Z"
   },
   {
    "duration": 23,
    "start_time": "2022-04-16T08:02:03.536Z"
   },
   {
    "duration": 26,
    "start_time": "2022-04-16T08:02:03.560Z"
   },
   {
    "duration": 35,
    "start_time": "2022-04-16T08:02:03.587Z"
   },
   {
    "duration": 572,
    "start_time": "2022-04-16T08:02:03.623Z"
   },
   {
    "duration": 636,
    "start_time": "2022-04-16T08:02:04.197Z"
   },
   {
    "duration": 12,
    "start_time": "2022-04-16T08:02:04.834Z"
   },
   {
    "duration": 356,
    "start_time": "2022-04-16T08:02:04.854Z"
   },
   {
    "duration": 12,
    "start_time": "2022-04-16T08:02:05.211Z"
   },
   {
    "duration": 22,
    "start_time": "2022-04-16T08:02:05.225Z"
   },
   {
    "duration": 33,
    "start_time": "2022-04-16T08:02:05.248Z"
   },
   {
    "duration": 5,
    "start_time": "2022-04-16T08:02:05.282Z"
   },
   {
    "duration": 34,
    "start_time": "2022-04-16T08:02:05.289Z"
   },
   {
    "duration": 19,
    "start_time": "2022-04-16T08:02:05.325Z"
   },
   {
    "duration": 187,
    "start_time": "2022-04-16T08:02:05.346Z"
   },
   {
    "duration": 3,
    "start_time": "2022-04-16T08:02:05.535Z"
   },
   {
    "duration": 30,
    "start_time": "2022-04-16T08:02:05.540Z"
   },
   {
    "duration": 1259,
    "start_time": "2022-04-16T08:02:05.572Z"
   },
   {
    "duration": 10,
    "start_time": "2022-04-16T08:02:06.833Z"
   },
   {
    "duration": 10,
    "start_time": "2022-04-16T08:02:06.845Z"
   },
   {
    "duration": 5,
    "start_time": "2022-04-16T08:02:06.856Z"
   },
   {
    "duration": 9,
    "start_time": "2022-04-16T08:02:06.863Z"
   },
   {
    "duration": 12,
    "start_time": "2022-04-16T08:02:06.873Z"
   },
   {
    "duration": 8,
    "start_time": "2022-04-16T08:02:06.886Z"
   },
   {
    "duration": 7,
    "start_time": "2022-04-16T08:02:06.896Z"
   },
   {
    "duration": 10,
    "start_time": "2022-04-16T08:02:06.904Z"
   },
   {
    "duration": 47,
    "start_time": "2022-04-16T08:02:06.916Z"
   },
   {
    "duration": 29,
    "start_time": "2022-04-16T08:02:06.965Z"
   },
   {
    "duration": 349,
    "start_time": "2022-04-16T08:02:06.996Z"
   },
   {
    "duration": 20,
    "start_time": "2022-04-16T08:02:11.413Z"
   },
   {
    "duration": 254,
    "start_time": "2022-04-16T08:02:13.325Z"
   },
   {
    "duration": 21,
    "start_time": "2022-04-16T08:04:13.567Z"
   },
   {
    "duration": 138,
    "start_time": "2022-04-16T08:04:28.832Z"
   },
   {
    "duration": 468,
    "start_time": "2022-04-16T08:04:34.319Z"
   },
   {
    "duration": 19,
    "start_time": "2022-04-16T08:06:10.233Z"
   },
   {
    "duration": 19,
    "start_time": "2022-04-16T08:06:44.687Z"
   },
   {
    "duration": 20,
    "start_time": "2022-04-16T08:07:15.608Z"
   },
   {
    "duration": 4,
    "start_time": "2022-04-16T08:07:33.894Z"
   },
   {
    "duration": 56,
    "start_time": "2022-04-16T08:07:33.899Z"
   },
   {
    "duration": 8,
    "start_time": "2022-04-16T08:07:33.957Z"
   },
   {
    "duration": 13,
    "start_time": "2022-04-16T08:07:33.966Z"
   },
   {
    "duration": 4,
    "start_time": "2022-04-16T08:07:33.981Z"
   },
   {
    "duration": 10,
    "start_time": "2022-04-16T08:07:33.986Z"
   },
   {
    "duration": 4,
    "start_time": "2022-04-16T08:07:33.997Z"
   },
   {
    "duration": 6,
    "start_time": "2022-04-16T08:07:34.003Z"
   },
   {
    "duration": 5,
    "start_time": "2022-04-16T08:07:34.010Z"
   },
   {
    "duration": 46,
    "start_time": "2022-04-16T08:07:34.017Z"
   },
   {
    "duration": 4,
    "start_time": "2022-04-16T08:07:34.064Z"
   },
   {
    "duration": 20,
    "start_time": "2022-04-16T08:07:34.070Z"
   },
   {
    "duration": 8,
    "start_time": "2022-04-16T08:07:34.092Z"
   },
   {
    "duration": 12,
    "start_time": "2022-04-16T08:07:34.103Z"
   },
   {
    "duration": 172,
    "start_time": "2022-04-16T08:07:34.116Z"
   },
   {
    "duration": 3,
    "start_time": "2022-04-16T08:07:34.290Z"
   },
   {
    "duration": 83,
    "start_time": "2022-04-16T08:07:34.295Z"
   },
   {
    "duration": 14,
    "start_time": "2022-04-16T08:07:34.380Z"
   },
   {
    "duration": 207,
    "start_time": "2022-04-16T08:07:34.395Z"
   },
   {
    "duration": 7,
    "start_time": "2022-04-16T08:07:34.603Z"
   },
   {
    "duration": 12,
    "start_time": "2022-04-16T08:07:34.611Z"
   },
   {
    "duration": 198,
    "start_time": "2022-04-16T08:07:34.624Z"
   },
   {
    "duration": 535,
    "start_time": "2022-04-16T08:07:34.824Z"
   },
   {
    "duration": 16,
    "start_time": "2022-04-16T08:07:35.361Z"
   },
   {
    "duration": 6,
    "start_time": "2022-04-16T08:07:35.379Z"
   },
   {
    "duration": 31,
    "start_time": "2022-04-16T08:07:35.387Z"
   },
   {
    "duration": 144,
    "start_time": "2022-04-16T08:07:35.420Z"
   },
   {
    "duration": 188,
    "start_time": "2022-04-16T08:07:35.566Z"
   },
   {
    "duration": 4,
    "start_time": "2022-04-16T08:07:35.756Z"
   },
   {
    "duration": 11,
    "start_time": "2022-04-16T08:07:35.762Z"
   },
   {
    "duration": 8,
    "start_time": "2022-04-16T08:07:35.775Z"
   },
   {
    "duration": 12,
    "start_time": "2022-04-16T08:07:35.784Z"
   },
   {
    "duration": 606,
    "start_time": "2022-04-16T08:07:35.797Z"
   },
   {
    "duration": 549,
    "start_time": "2022-04-16T08:07:36.404Z"
   },
   {
    "duration": 12,
    "start_time": "2022-04-16T08:07:36.955Z"
   },
   {
    "duration": 378,
    "start_time": "2022-04-16T08:07:36.968Z"
   },
   {
    "duration": 42,
    "start_time": "2022-04-16T08:07:37.348Z"
   },
   {
    "duration": 3,
    "start_time": "2022-04-16T08:07:37.391Z"
   },
   {
    "duration": 22,
    "start_time": "2022-04-16T08:07:37.396Z"
   },
   {
    "duration": 4,
    "start_time": "2022-04-16T08:07:37.419Z"
   },
   {
    "duration": 19,
    "start_time": "2022-04-16T08:07:37.426Z"
   },
   {
    "duration": 17,
    "start_time": "2022-04-16T08:07:37.447Z"
   },
   {
    "duration": 196,
    "start_time": "2022-04-16T08:07:37.466Z"
   },
   {
    "duration": 3,
    "start_time": "2022-04-16T08:07:37.664Z"
   },
   {
    "duration": 18,
    "start_time": "2022-04-16T08:07:37.669Z"
   },
   {
    "duration": 783,
    "start_time": "2022-04-16T08:07:37.689Z"
   },
   {
    "duration": 11,
    "start_time": "2022-04-16T08:07:38.474Z"
   },
   {
    "duration": 10,
    "start_time": "2022-04-16T08:07:38.487Z"
   },
   {
    "duration": 6,
    "start_time": "2022-04-16T08:07:38.498Z"
   },
   {
    "duration": 12,
    "start_time": "2022-04-16T08:07:38.505Z"
   },
   {
    "duration": 15,
    "start_time": "2022-04-16T08:07:38.519Z"
   },
   {
    "duration": 22,
    "start_time": "2022-04-16T08:07:38.536Z"
   },
   {
    "duration": 6,
    "start_time": "2022-04-16T08:07:38.560Z"
   },
   {
    "duration": 12,
    "start_time": "2022-04-16T08:07:38.568Z"
   },
   {
    "duration": 9,
    "start_time": "2022-04-16T08:07:38.582Z"
   },
   {
    "duration": 11,
    "start_time": "2022-04-16T08:07:38.592Z"
   },
   {
    "duration": 362,
    "start_time": "2022-04-16T08:07:38.605Z"
   },
   {
    "duration": 21,
    "start_time": "2022-04-16T08:07:43.455Z"
   },
   {
    "duration": 4,
    "start_time": "2022-04-16T08:09:06.087Z"
   },
   {
    "duration": 11,
    "start_time": "2022-04-16T08:09:07.455Z"
   },
   {
    "duration": 9,
    "start_time": "2022-04-16T08:09:14.967Z"
   },
   {
    "duration": 11,
    "start_time": "2022-04-16T08:09:16.175Z"
   },
   {
    "duration": 11,
    "start_time": "2022-04-16T08:09:20.616Z"
   },
   {
    "duration": 446,
    "start_time": "2022-04-16T08:09:21.264Z"
   },
   {
    "duration": 19,
    "start_time": "2022-04-16T08:09:24.440Z"
   },
   {
    "duration": 15,
    "start_time": "2022-04-16T08:10:27.432Z"
   },
   {
    "duration": 11,
    "start_time": "2022-04-16T08:10:28.592Z"
   },
   {
    "duration": 12,
    "start_time": "2022-04-16T08:11:05.089Z"
   },
   {
    "duration": 12,
    "start_time": "2022-04-16T08:11:18.057Z"
   },
   {
    "duration": 3,
    "start_time": "2022-04-16T08:11:25.608Z"
   },
   {
    "duration": 53,
    "start_time": "2022-04-16T08:11:25.613Z"
   },
   {
    "duration": 9,
    "start_time": "2022-04-16T08:11:25.667Z"
   },
   {
    "duration": 14,
    "start_time": "2022-04-16T08:11:25.678Z"
   },
   {
    "duration": 4,
    "start_time": "2022-04-16T08:11:25.694Z"
   },
   {
    "duration": 12,
    "start_time": "2022-04-16T08:11:25.699Z"
   },
   {
    "duration": 5,
    "start_time": "2022-04-16T08:11:25.712Z"
   },
   {
    "duration": 40,
    "start_time": "2022-04-16T08:11:25.718Z"
   },
   {
    "duration": 5,
    "start_time": "2022-04-16T08:11:25.759Z"
   },
   {
    "duration": 15,
    "start_time": "2022-04-16T08:11:25.765Z"
   },
   {
    "duration": 4,
    "start_time": "2022-04-16T08:11:25.783Z"
   },
   {
    "duration": 21,
    "start_time": "2022-04-16T08:11:25.788Z"
   },
   {
    "duration": 7,
    "start_time": "2022-04-16T08:11:25.810Z"
   },
   {
    "duration": 46,
    "start_time": "2022-04-16T08:11:25.819Z"
   },
   {
    "duration": 149,
    "start_time": "2022-04-16T08:11:25.867Z"
   },
   {
    "duration": 4,
    "start_time": "2022-04-16T08:11:26.018Z"
   },
   {
    "duration": 92,
    "start_time": "2022-04-16T08:11:26.024Z"
   },
   {
    "duration": 16,
    "start_time": "2022-04-16T08:11:26.118Z"
   },
   {
    "duration": 206,
    "start_time": "2022-04-16T08:11:26.136Z"
   },
   {
    "duration": 12,
    "start_time": "2022-04-16T08:11:26.344Z"
   },
   {
    "duration": 9,
    "start_time": "2022-04-16T08:11:26.358Z"
   },
   {
    "duration": 206,
    "start_time": "2022-04-16T08:11:26.369Z"
   },
   {
    "duration": 526,
    "start_time": "2022-04-16T08:11:26.578Z"
   },
   {
    "duration": 14,
    "start_time": "2022-04-16T08:11:27.106Z"
   },
   {
    "duration": 6,
    "start_time": "2022-04-16T08:11:27.122Z"
   },
   {
    "duration": 51,
    "start_time": "2022-04-16T08:11:27.129Z"
   },
   {
    "duration": 130,
    "start_time": "2022-04-16T08:11:27.182Z"
   },
   {
    "duration": 190,
    "start_time": "2022-04-16T08:11:27.313Z"
   },
   {
    "duration": 4,
    "start_time": "2022-04-16T08:11:27.507Z"
   },
   {
    "duration": 10,
    "start_time": "2022-04-16T08:11:27.513Z"
   },
   {
    "duration": 5,
    "start_time": "2022-04-16T08:11:27.524Z"
   },
   {
    "duration": 9,
    "start_time": "2022-04-16T08:11:27.530Z"
   },
   {
    "duration": 566,
    "start_time": "2022-04-16T08:11:27.541Z"
   },
   {
    "duration": 523,
    "start_time": "2022-04-16T08:11:28.109Z"
   },
   {
    "duration": 22,
    "start_time": "2022-04-16T08:11:28.635Z"
   },
   {
    "duration": 352,
    "start_time": "2022-04-16T08:11:28.659Z"
   },
   {
    "duration": 12,
    "start_time": "2022-04-16T08:11:29.013Z"
   },
   {
    "duration": 4,
    "start_time": "2022-04-16T08:11:29.027Z"
   },
   {
    "duration": 34,
    "start_time": "2022-04-16T08:11:29.032Z"
   },
   {
    "duration": 4,
    "start_time": "2022-04-16T08:11:29.069Z"
   },
   {
    "duration": 18,
    "start_time": "2022-04-16T08:11:29.075Z"
   },
   {
    "duration": 16,
    "start_time": "2022-04-16T08:11:29.095Z"
   },
   {
    "duration": 214,
    "start_time": "2022-04-16T08:11:29.112Z"
   },
   {
    "duration": 3,
    "start_time": "2022-04-16T08:11:29.328Z"
   },
   {
    "duration": 24,
    "start_time": "2022-04-16T08:11:29.333Z"
   },
   {
    "duration": 858,
    "start_time": "2022-04-16T08:11:29.359Z"
   },
   {
    "duration": 11,
    "start_time": "2022-04-16T08:11:30.219Z"
   },
   {
    "duration": 17,
    "start_time": "2022-04-16T08:11:30.233Z"
   },
   {
    "duration": 16,
    "start_time": "2022-04-16T08:11:30.252Z"
   },
   {
    "duration": 13,
    "start_time": "2022-04-16T08:11:30.270Z"
   },
   {
    "duration": 13,
    "start_time": "2022-04-16T08:11:30.285Z"
   },
   {
    "duration": 9,
    "start_time": "2022-04-16T08:11:30.300Z"
   },
   {
    "duration": 7,
    "start_time": "2022-04-16T08:11:30.311Z"
   },
   {
    "duration": 11,
    "start_time": "2022-04-16T08:11:38.225Z"
   },
   {
    "duration": 10,
    "start_time": "2022-04-16T08:11:40.473Z"
   },
   {
    "duration": 12,
    "start_time": "2022-04-16T08:12:08.889Z"
   },
   {
    "duration": 338,
    "start_time": "2022-04-16T08:12:09.938Z"
   },
   {
    "duration": 18,
    "start_time": "2022-04-16T08:12:17.129Z"
   },
   {
    "duration": 4,
    "start_time": "2022-04-16T08:12:29.914Z"
   },
   {
    "duration": 354,
    "start_time": "2022-04-16T08:12:30.642Z"
   },
   {
    "duration": 14,
    "start_time": "2022-04-16T08:16:39.502Z"
   },
   {
    "duration": 17,
    "start_time": "2022-04-16T08:17:48.686Z"
   },
   {
    "duration": 136,
    "start_time": "2022-04-16T08:18:02.861Z"
   },
   {
    "duration": 17,
    "start_time": "2022-04-16T08:18:07.814Z"
   },
   {
    "duration": 16,
    "start_time": "2022-04-16T08:18:15.828Z"
   },
   {
    "duration": 13,
    "start_time": "2022-04-16T08:22:58.039Z"
   },
   {
    "duration": 14,
    "start_time": "2022-04-16T08:32:47.463Z"
   },
   {
    "duration": 21,
    "start_time": "2022-04-16T08:32:57.661Z"
   },
   {
    "duration": 19,
    "start_time": "2022-04-16T08:33:17.454Z"
   },
   {
    "duration": 13,
    "start_time": "2022-04-16T08:35:25.401Z"
   },
   {
    "duration": 6,
    "start_time": "2022-04-16T08:35:59.143Z"
   },
   {
    "duration": 12,
    "start_time": "2022-04-16T08:36:15.935Z"
   },
   {
    "duration": 15,
    "start_time": "2022-04-16T08:36:53.327Z"
   },
   {
    "duration": 13,
    "start_time": "2022-04-16T08:37:01.999Z"
   },
   {
    "duration": 13,
    "start_time": "2022-04-16T08:37:16.289Z"
   },
   {
    "duration": 12,
    "start_time": "2022-04-16T08:37:35.272Z"
   },
   {
    "duration": 252,
    "start_time": "2022-04-16T08:38:54.929Z"
   },
   {
    "duration": 13,
    "start_time": "2022-04-16T08:39:43.737Z"
   },
   {
    "duration": 238,
    "start_time": "2022-04-16T08:39:45.986Z"
   },
   {
    "duration": 232,
    "start_time": "2022-04-16T08:39:57.442Z"
   },
   {
    "duration": 10,
    "start_time": "2022-04-16T10:05:19.021Z"
   },
   {
    "duration": 27,
    "start_time": "2022-04-16T10:08:51.630Z"
   },
   {
    "duration": 20,
    "start_time": "2022-04-16T10:09:46.467Z"
   },
   {
    "duration": 321,
    "start_time": "2022-04-16T10:11:23.787Z"
   },
   {
    "duration": 336,
    "start_time": "2022-04-16T10:11:43.467Z"
   },
   {
    "duration": 454,
    "start_time": "2022-04-16T10:14:13.227Z"
   },
   {
    "duration": 354,
    "start_time": "2022-04-16T10:14:26.580Z"
   },
   {
    "duration": 21,
    "start_time": "2022-04-16T10:15:40.382Z"
   },
   {
    "duration": 374,
    "start_time": "2022-04-16T10:17:26.839Z"
   },
   {
    "duration": 373,
    "start_time": "2022-04-16T10:18:06.009Z"
   },
   {
    "duration": 14,
    "start_time": "2022-04-16T10:24:02.203Z"
   },
   {
    "duration": 11,
    "start_time": "2022-04-16T10:26:41.212Z"
   },
   {
    "duration": 375,
    "start_time": "2022-04-16T11:07:47.404Z"
   },
   {
    "duration": 145,
    "start_time": "2022-04-16T11:19:59.427Z"
   },
   {
    "duration": 17,
    "start_time": "2022-04-16T11:21:15.050Z"
   },
   {
    "duration": 12,
    "start_time": "2022-04-16T11:21:25.931Z"
   },
   {
    "duration": 2344,
    "start_time": "2022-04-16T11:22:03.522Z"
   },
   {
    "duration": 282,
    "start_time": "2022-04-16T11:22:25.867Z"
   },
   {
    "duration": 2320,
    "start_time": "2022-04-16T11:26:10.476Z"
   },
   {
    "duration": 2194,
    "start_time": "2022-04-16T11:26:21.902Z"
   },
   {
    "duration": 3,
    "start_time": "2022-04-16T11:26:52.141Z"
   },
   {
    "duration": 3,
    "start_time": "2022-04-16T11:27:08.031Z"
   },
   {
    "duration": 3,
    "start_time": "2022-04-16T11:27:11.767Z"
   },
   {
    "duration": 1226,
    "start_time": "2022-04-16T11:31:09.868Z"
   },
   {
    "duration": 58,
    "start_time": "2022-04-16T11:31:11.097Z"
   },
   {
    "duration": 13,
    "start_time": "2022-04-16T11:31:11.157Z"
   },
   {
    "duration": 18,
    "start_time": "2022-04-16T11:31:11.172Z"
   },
   {
    "duration": 5,
    "start_time": "2022-04-16T11:31:11.192Z"
   },
   {
    "duration": 10,
    "start_time": "2022-04-16T11:31:11.199Z"
   },
   {
    "duration": 5,
    "start_time": "2022-04-16T11:31:11.210Z"
   },
   {
    "duration": 38,
    "start_time": "2022-04-16T11:31:11.217Z"
   },
   {
    "duration": 7,
    "start_time": "2022-04-16T11:31:11.256Z"
   },
   {
    "duration": 13,
    "start_time": "2022-04-16T11:31:11.266Z"
   },
   {
    "duration": 4,
    "start_time": "2022-04-16T11:31:11.280Z"
   },
   {
    "duration": 23,
    "start_time": "2022-04-16T11:31:11.286Z"
   },
   {
    "duration": 9,
    "start_time": "2022-04-16T11:31:11.311Z"
   },
   {
    "duration": 43,
    "start_time": "2022-04-16T11:31:11.322Z"
   },
   {
    "duration": 170,
    "start_time": "2022-04-16T11:31:11.367Z"
   },
   {
    "duration": 3,
    "start_time": "2022-04-16T11:31:11.539Z"
   },
   {
    "duration": 13,
    "start_time": "2022-04-16T11:31:11.554Z"
   },
   {
    "duration": 155,
    "start_time": "2022-04-16T11:31:11.569Z"
   },
   {
    "duration": 5,
    "start_time": "2022-04-16T11:31:11.726Z"
   },
   {
    "duration": 96,
    "start_time": "2022-04-16T11:31:11.732Z"
   },
   {
    "duration": 28,
    "start_time": "2022-04-16T11:31:11.830Z"
   },
   {
    "duration": 200,
    "start_time": "2022-04-16T11:31:11.860Z"
   },
   {
    "duration": 7,
    "start_time": "2022-04-16T11:31:12.062Z"
   },
   {
    "duration": 11,
    "start_time": "2022-04-16T11:31:12.071Z"
   },
   {
    "duration": 215,
    "start_time": "2022-04-16T11:31:12.084Z"
   },
   {
    "duration": 639,
    "start_time": "2022-04-16T11:31:12.300Z"
   },
   {
    "duration": 23,
    "start_time": "2022-04-16T11:31:12.940Z"
   },
   {
    "duration": 6,
    "start_time": "2022-04-16T11:31:12.966Z"
   },
   {
    "duration": 31,
    "start_time": "2022-04-16T11:31:12.974Z"
   },
   {
    "duration": 8,
    "start_time": "2022-04-16T11:31:13.007Z"
   },
   {
    "duration": 224,
    "start_time": "2022-04-16T11:31:13.017Z"
   },
   {
    "duration": 13,
    "start_time": "2022-04-16T11:31:13.242Z"
   },
   {
    "duration": 12,
    "start_time": "2022-04-16T11:31:13.257Z"
   },
   {
    "duration": 5,
    "start_time": "2022-04-16T11:31:13.270Z"
   },
   {
    "duration": 6,
    "start_time": "2022-04-16T11:31:13.277Z"
   },
   {
    "duration": 860,
    "start_time": "2022-04-16T11:31:13.284Z"
   },
   {
    "duration": 588,
    "start_time": "2022-04-16T11:31:14.145Z"
   },
   {
    "duration": 26,
    "start_time": "2022-04-16T11:31:14.734Z"
   },
   {
    "duration": 396,
    "start_time": "2022-04-16T11:31:14.761Z"
   },
   {
    "duration": 12,
    "start_time": "2022-04-16T11:31:15.159Z"
   },
   {
    "duration": 21,
    "start_time": "2022-04-16T11:31:15.172Z"
   },
   {
    "duration": 33,
    "start_time": "2022-04-16T11:31:15.195Z"
   },
   {
    "duration": 5,
    "start_time": "2022-04-16T11:31:15.231Z"
   },
   {
    "duration": 51,
    "start_time": "2022-04-16T11:31:15.238Z"
   },
   {
    "duration": 31,
    "start_time": "2022-04-16T11:31:15.291Z"
   },
   {
    "duration": 209,
    "start_time": "2022-04-16T11:31:15.325Z"
   },
   {
    "duration": 3,
    "start_time": "2022-04-16T11:31:15.536Z"
   },
   {
    "duration": 29,
    "start_time": "2022-04-16T11:31:15.541Z"
   },
   {
    "duration": 1052,
    "start_time": "2022-04-16T11:31:15.571Z"
   },
   {
    "duration": 12,
    "start_time": "2022-04-16T11:31:16.625Z"
   },
   {
    "duration": 10,
    "start_time": "2022-04-16T11:31:16.639Z"
   },
   {
    "duration": 7,
    "start_time": "2022-04-16T11:31:16.650Z"
   },
   {
    "duration": 14,
    "start_time": "2022-04-16T11:31:16.659Z"
   },
   {
    "duration": 18,
    "start_time": "2022-04-16T11:31:16.675Z"
   },
   {
    "duration": 12,
    "start_time": "2022-04-16T11:31:16.695Z"
   },
   {
    "duration": 9,
    "start_time": "2022-04-16T11:31:16.709Z"
   },
   {
    "duration": 41,
    "start_time": "2022-04-16T11:31:16.720Z"
   },
   {
    "duration": 15,
    "start_time": "2022-04-16T11:31:16.763Z"
   },
   {
    "duration": 17,
    "start_time": "2022-04-16T11:31:16.780Z"
   },
   {
    "duration": 376,
    "start_time": "2022-04-16T11:31:16.799Z"
   },
   {
    "duration": 14,
    "start_time": "2022-04-16T11:31:17.177Z"
   },
   {
    "duration": 272,
    "start_time": "2022-04-16T11:31:17.193Z"
   },
   {
    "duration": 11,
    "start_time": "2022-04-16T11:31:17.468Z"
   },
   {
    "duration": 23,
    "start_time": "2022-04-16T11:31:17.480Z"
   },
   {
    "duration": 395,
    "start_time": "2022-04-16T11:31:17.504Z"
   },
   {
    "duration": 1181,
    "start_time": "2022-04-16T14:12:34.111Z"
   },
   {
    "duration": 50,
    "start_time": "2022-04-16T14:12:35.294Z"
   },
   {
    "duration": 17,
    "start_time": "2022-04-16T14:12:35.346Z"
   },
   {
    "duration": 13,
    "start_time": "2022-04-16T14:12:35.365Z"
   },
   {
    "duration": 4,
    "start_time": "2022-04-16T14:12:35.380Z"
   },
   {
    "duration": 11,
    "start_time": "2022-04-16T14:12:35.385Z"
   },
   {
    "duration": 4,
    "start_time": "2022-04-16T14:12:35.397Z"
   },
   {
    "duration": 12,
    "start_time": "2022-04-16T14:12:35.403Z"
   },
   {
    "duration": 9,
    "start_time": "2022-04-16T14:12:35.416Z"
   },
   {
    "duration": 14,
    "start_time": "2022-04-16T14:12:35.454Z"
   },
   {
    "duration": 4,
    "start_time": "2022-04-16T14:12:35.470Z"
   },
   {
    "duration": 20,
    "start_time": "2022-04-16T14:12:35.475Z"
   },
   {
    "duration": 8,
    "start_time": "2022-04-16T14:12:35.497Z"
   },
   {
    "duration": 13,
    "start_time": "2022-04-16T14:12:35.507Z"
   },
   {
    "duration": 195,
    "start_time": "2022-04-16T14:12:35.522Z"
   },
   {
    "duration": 14,
    "start_time": "2022-04-16T14:12:35.719Z"
   },
   {
    "duration": 164,
    "start_time": "2022-04-16T14:12:35.734Z"
   },
   {
    "duration": 4,
    "start_time": "2022-04-16T14:12:35.900Z"
   },
   {
    "duration": 106,
    "start_time": "2022-04-16T14:12:35.906Z"
   },
   {
    "duration": 16,
    "start_time": "2022-04-16T14:12:36.013Z"
   },
   {
    "duration": 227,
    "start_time": "2022-04-16T14:12:36.030Z"
   },
   {
    "duration": 6,
    "start_time": "2022-04-16T14:12:36.259Z"
   },
   {
    "duration": 26,
    "start_time": "2022-04-16T14:12:36.267Z"
   },
   {
    "duration": 194,
    "start_time": "2022-04-16T14:12:36.294Z"
   },
   {
    "duration": 632,
    "start_time": "2022-04-16T14:12:36.490Z"
   },
   {
    "duration": 13,
    "start_time": "2022-04-16T14:12:37.124Z"
   },
   {
    "duration": 7,
    "start_time": "2022-04-16T14:12:37.153Z"
   },
   {
    "duration": 29,
    "start_time": "2022-04-16T14:12:37.165Z"
   },
   {
    "duration": 8,
    "start_time": "2022-04-16T14:12:37.195Z"
   },
   {
    "duration": 208,
    "start_time": "2022-04-16T14:12:37.205Z"
   },
   {
    "duration": 4,
    "start_time": "2022-04-16T14:12:37.415Z"
   },
   {
    "duration": 13,
    "start_time": "2022-04-16T14:12:37.420Z"
   },
   {
    "duration": 13,
    "start_time": "2022-04-16T14:12:37.434Z"
   },
   {
    "duration": 13,
    "start_time": "2022-04-16T14:12:37.449Z"
   },
   {
    "duration": 606,
    "start_time": "2022-04-16T14:12:37.464Z"
   },
   {
    "duration": 594,
    "start_time": "2022-04-16T14:12:38.072Z"
   },
   {
    "duration": 13,
    "start_time": "2022-04-16T14:12:38.668Z"
   },
   {
    "duration": 384,
    "start_time": "2022-04-16T14:12:38.683Z"
   },
   {
    "duration": 12,
    "start_time": "2022-04-16T14:12:39.069Z"
   },
   {
    "duration": 9,
    "start_time": "2022-04-16T14:12:39.082Z"
   },
   {
    "duration": 23,
    "start_time": "2022-04-16T14:12:39.092Z"
   },
   {
    "duration": 5,
    "start_time": "2022-04-16T14:12:39.117Z"
   },
   {
    "duration": 40,
    "start_time": "2022-04-16T14:12:39.123Z"
   },
   {
    "duration": 15,
    "start_time": "2022-04-16T14:12:39.165Z"
   },
   {
    "duration": 199,
    "start_time": "2022-04-16T14:12:39.182Z"
   },
   {
    "duration": 4,
    "start_time": "2022-04-16T14:12:39.382Z"
   },
   {
    "duration": 19,
    "start_time": "2022-04-16T14:12:39.387Z"
   },
   {
    "duration": 1115,
    "start_time": "2022-04-16T14:12:39.407Z"
   },
   {
    "duration": 10,
    "start_time": "2022-04-16T14:12:40.524Z"
   },
   {
    "duration": 12,
    "start_time": "2022-04-16T14:12:40.535Z"
   },
   {
    "duration": 6,
    "start_time": "2022-04-16T14:12:40.549Z"
   },
   {
    "duration": 9,
    "start_time": "2022-04-16T14:12:40.556Z"
   },
   {
    "duration": 11,
    "start_time": "2022-04-16T14:12:40.567Z"
   },
   {
    "duration": 9,
    "start_time": "2022-04-16T14:12:40.579Z"
   },
   {
    "duration": 8,
    "start_time": "2022-04-16T14:12:40.589Z"
   },
   {
    "duration": 9,
    "start_time": "2022-04-16T14:12:40.599Z"
   },
   {
    "duration": 9,
    "start_time": "2022-04-16T14:12:40.610Z"
   },
   {
    "duration": 38,
    "start_time": "2022-04-16T14:12:40.621Z"
   },
   {
    "duration": 352,
    "start_time": "2022-04-16T14:12:40.660Z"
   },
   {
    "duration": 14,
    "start_time": "2022-04-16T14:12:41.013Z"
   },
   {
    "duration": 265,
    "start_time": "2022-04-16T14:12:41.028Z"
   },
   {
    "duration": 11,
    "start_time": "2022-04-16T14:12:41.294Z"
   },
   {
    "duration": 27,
    "start_time": "2022-04-16T14:12:41.306Z"
   },
   {
    "duration": 366,
    "start_time": "2022-04-16T14:12:41.335Z"
   },
   {
    "duration": 49,
    "start_time": "2022-04-17T15:43:28.541Z"
   },
   {
    "duration": 1351,
    "start_time": "2022-04-17T15:43:35.494Z"
   },
   {
    "duration": 52,
    "start_time": "2022-04-17T15:43:36.847Z"
   },
   {
    "duration": 16,
    "start_time": "2022-04-17T15:43:36.900Z"
   },
   {
    "duration": 15,
    "start_time": "2022-04-17T15:43:36.919Z"
   },
   {
    "duration": 4,
    "start_time": "2022-04-17T15:43:36.936Z"
   },
   {
    "duration": 9,
    "start_time": "2022-04-17T15:43:36.942Z"
   },
   {
    "duration": 5,
    "start_time": "2022-04-17T15:43:36.952Z"
   },
   {
    "duration": 7,
    "start_time": "2022-04-17T15:43:36.958Z"
   },
   {
    "duration": 7,
    "start_time": "2022-04-17T15:43:37.006Z"
   },
   {
    "duration": 17,
    "start_time": "2022-04-17T15:43:37.015Z"
   },
   {
    "duration": 4,
    "start_time": "2022-04-17T15:43:37.033Z"
   },
   {
    "duration": 25,
    "start_time": "2022-04-17T15:43:37.039Z"
   },
   {
    "duration": 41,
    "start_time": "2022-04-17T15:43:37.066Z"
   },
   {
    "duration": 13,
    "start_time": "2022-04-17T15:43:37.109Z"
   },
   {
    "duration": 177,
    "start_time": "2022-04-17T15:43:37.124Z"
   },
   {
    "duration": 15,
    "start_time": "2022-04-17T15:43:37.302Z"
   },
   {
    "duration": 182,
    "start_time": "2022-04-17T15:43:37.318Z"
   },
   {
    "duration": 6,
    "start_time": "2022-04-17T15:43:37.502Z"
   },
   {
    "duration": 99,
    "start_time": "2022-04-17T15:43:37.510Z"
   },
   {
    "duration": 15,
    "start_time": "2022-04-17T15:43:37.611Z"
   },
   {
    "duration": 229,
    "start_time": "2022-04-17T15:43:37.627Z"
   },
   {
    "duration": 5,
    "start_time": "2022-04-17T15:43:37.858Z"
   },
   {
    "duration": 9,
    "start_time": "2022-04-17T15:43:37.865Z"
   },
   {
    "duration": 223,
    "start_time": "2022-04-17T15:43:37.875Z"
   },
   {
    "duration": 647,
    "start_time": "2022-04-17T15:43:38.100Z"
   },
   {
    "duration": 18,
    "start_time": "2022-04-17T15:43:38.749Z"
   },
   {
    "duration": 6,
    "start_time": "2022-04-17T15:43:38.769Z"
   },
   {
    "duration": 58,
    "start_time": "2022-04-17T15:43:38.779Z"
   },
   {
    "duration": 7,
    "start_time": "2022-04-17T15:43:38.839Z"
   },
   {
    "duration": 214,
    "start_time": "2022-04-17T15:43:38.848Z"
   },
   {
    "duration": 4,
    "start_time": "2022-04-17T15:43:39.063Z"
   },
   {
    "duration": 8,
    "start_time": "2022-04-17T15:43:39.069Z"
   },
   {
    "duration": 5,
    "start_time": "2022-04-17T15:43:39.078Z"
   },
   {
    "duration": 24,
    "start_time": "2022-04-17T15:43:39.084Z"
   },
   {
    "duration": 714,
    "start_time": "2022-04-17T15:43:39.110Z"
   },
   {
    "duration": 584,
    "start_time": "2022-04-17T15:43:39.826Z"
   },
   {
    "duration": 12,
    "start_time": "2022-04-17T15:43:40.411Z"
   },
   {
    "duration": 412,
    "start_time": "2022-04-17T15:43:40.424Z"
   },
   {
    "duration": 17,
    "start_time": "2022-04-17T15:43:40.839Z"
   },
   {
    "duration": 3,
    "start_time": "2022-04-17T15:43:40.858Z"
   },
   {
    "duration": 23,
    "start_time": "2022-04-17T15:43:40.863Z"
   },
   {
    "duration": 22,
    "start_time": "2022-04-17T15:43:40.888Z"
   },
   {
    "duration": 19,
    "start_time": "2022-04-17T15:43:40.912Z"
   },
   {
    "duration": 15,
    "start_time": "2022-04-17T15:43:40.932Z"
   },
   {
    "duration": 230,
    "start_time": "2022-04-17T15:43:40.949Z"
   },
   {
    "duration": 3,
    "start_time": "2022-04-17T15:43:41.181Z"
   },
   {
    "duration": 23,
    "start_time": "2022-04-17T15:43:41.185Z"
   },
   {
    "duration": 1267,
    "start_time": "2022-04-17T15:43:41.210Z"
   },
   {
    "duration": 11,
    "start_time": "2022-04-17T15:43:42.479Z"
   },
   {
    "duration": 9,
    "start_time": "2022-04-17T15:43:42.492Z"
   },
   {
    "duration": 6,
    "start_time": "2022-04-17T15:43:42.503Z"
   },
   {
    "duration": 9,
    "start_time": "2022-04-17T15:43:42.510Z"
   },
   {
    "duration": 73,
    "start_time": "2022-04-17T15:44:17.570Z"
   },
   {
    "duration": 8,
    "start_time": "2022-04-17T15:44:21.128Z"
   },
   {
    "duration": 15,
    "start_time": "2022-04-17T15:44:51.514Z"
   },
   {
    "duration": 5,
    "start_time": "2022-04-17T15:45:47.428Z"
   },
   {
    "duration": 10,
    "start_time": "2022-04-17T15:46:56.189Z"
   },
   {
    "duration": 1171,
    "start_time": "2022-04-17T15:47:07.855Z"
   },
   {
    "duration": 54,
    "start_time": "2022-04-17T15:47:09.028Z"
   },
   {
    "duration": 14,
    "start_time": "2022-04-17T15:47:09.083Z"
   },
   {
    "duration": 20,
    "start_time": "2022-04-17T15:47:09.107Z"
   },
   {
    "duration": 6,
    "start_time": "2022-04-17T15:47:09.129Z"
   },
   {
    "duration": 8,
    "start_time": "2022-04-17T15:47:09.137Z"
   },
   {
    "duration": 4,
    "start_time": "2022-04-17T15:47:09.147Z"
   },
   {
    "duration": 7,
    "start_time": "2022-04-17T15:47:09.153Z"
   },
   {
    "duration": 5,
    "start_time": "2022-04-17T15:47:09.162Z"
   },
   {
    "duration": 14,
    "start_time": "2022-04-17T15:47:09.206Z"
   },
   {
    "duration": 4,
    "start_time": "2022-04-17T15:47:09.222Z"
   },
   {
    "duration": 21,
    "start_time": "2022-04-17T15:47:09.227Z"
   },
   {
    "duration": 10,
    "start_time": "2022-04-17T15:47:09.250Z"
   },
   {
    "duration": 47,
    "start_time": "2022-04-17T15:47:09.261Z"
   },
   {
    "duration": 179,
    "start_time": "2022-04-17T15:47:09.310Z"
   },
   {
    "duration": 23,
    "start_time": "2022-04-17T15:47:09.491Z"
   },
   {
    "duration": 166,
    "start_time": "2022-04-17T15:47:09.515Z"
   },
   {
    "duration": 4,
    "start_time": "2022-04-17T15:47:09.682Z"
   },
   {
    "duration": 98,
    "start_time": "2022-04-17T15:47:09.688Z"
   },
   {
    "duration": 23,
    "start_time": "2022-04-17T15:47:09.788Z"
   },
   {
    "duration": 228,
    "start_time": "2022-04-17T15:47:09.813Z"
   },
   {
    "duration": 6,
    "start_time": "2022-04-17T15:47:10.043Z"
   },
   {
    "duration": 10,
    "start_time": "2022-04-17T15:47:10.050Z"
   },
   {
    "duration": 236,
    "start_time": "2022-04-17T15:47:10.062Z"
   },
   {
    "duration": 691,
    "start_time": "2022-04-17T15:47:10.300Z"
   },
   {
    "duration": 21,
    "start_time": "2022-04-17T15:47:10.992Z"
   },
   {
    "duration": 18,
    "start_time": "2022-04-17T15:47:11.014Z"
   },
   {
    "duration": 32,
    "start_time": "2022-04-17T15:47:11.036Z"
   },
   {
    "duration": 7,
    "start_time": "2022-04-17T15:47:11.070Z"
   },
   {
    "duration": 219,
    "start_time": "2022-04-17T15:47:11.079Z"
   },
   {
    "duration": 8,
    "start_time": "2022-04-17T15:47:11.300Z"
   },
   {
    "duration": 8,
    "start_time": "2022-04-17T15:47:11.310Z"
   },
   {
    "duration": 5,
    "start_time": "2022-04-17T15:47:11.319Z"
   },
   {
    "duration": 7,
    "start_time": "2022-04-17T15:47:11.325Z"
   },
   {
    "duration": 658,
    "start_time": "2022-04-17T15:47:11.334Z"
   },
   {
    "duration": 590,
    "start_time": "2022-04-17T15:47:11.993Z"
   },
   {
    "duration": 12,
    "start_time": "2022-04-17T15:47:12.584Z"
   },
   {
    "duration": 430,
    "start_time": "2022-04-17T15:47:12.607Z"
   },
   {
    "duration": 13,
    "start_time": "2022-04-17T15:47:13.039Z"
   },
   {
    "duration": 5,
    "start_time": "2022-04-17T15:47:13.054Z"
   },
   {
    "duration": 24,
    "start_time": "2022-04-17T15:47:13.060Z"
   },
   {
    "duration": 23,
    "start_time": "2022-04-17T15:47:13.086Z"
   },
   {
    "duration": 21,
    "start_time": "2022-04-17T15:47:13.111Z"
   },
   {
    "duration": 15,
    "start_time": "2022-04-17T15:47:13.134Z"
   },
   {
    "duration": 231,
    "start_time": "2022-04-17T15:47:13.150Z"
   },
   {
    "duration": 3,
    "start_time": "2022-04-17T15:47:13.383Z"
   },
   {
    "duration": 21,
    "start_time": "2022-04-17T15:47:13.388Z"
   },
   {
    "duration": 993,
    "start_time": "2022-04-17T15:47:13.411Z"
   },
   {
    "duration": 12,
    "start_time": "2022-04-17T15:47:14.405Z"
   },
   {
    "duration": 11,
    "start_time": "2022-04-17T15:47:14.418Z"
   },
   {
    "duration": 5,
    "start_time": "2022-04-17T15:47:14.431Z"
   },
   {
    "duration": 10,
    "start_time": "2022-04-17T15:47:14.438Z"
   },
   {
    "duration": 7,
    "start_time": "2022-04-17T15:47:14.449Z"
   },
   {
    "duration": 11,
    "start_time": "2022-04-17T15:47:14.458Z"
   },
   {
    "duration": 39,
    "start_time": "2022-04-17T15:47:14.471Z"
   },
   {
    "duration": 7,
    "start_time": "2022-04-17T15:47:14.512Z"
   },
   {
    "duration": 6,
    "start_time": "2022-04-17T15:47:14.520Z"
   },
   {
    "duration": 11,
    "start_time": "2022-04-17T15:47:14.527Z"
   },
   {
    "duration": 9,
    "start_time": "2022-04-17T15:47:14.539Z"
   },
   {
    "duration": 11,
    "start_time": "2022-04-17T15:47:14.550Z"
   },
   {
    "duration": 438,
    "start_time": "2022-04-17T15:47:14.562Z"
   },
   {
    "duration": 16,
    "start_time": "2022-04-17T15:47:15.002Z"
   },
   {
    "duration": 293,
    "start_time": "2022-04-17T15:47:15.020Z"
   },
   {
    "duration": 11,
    "start_time": "2022-04-17T15:47:15.315Z"
   },
   {
    "duration": 23,
    "start_time": "2022-04-17T15:47:15.327Z"
   },
   {
    "duration": 428,
    "start_time": "2022-04-17T15:47:15.352Z"
   },
   {
    "duration": 6,
    "start_time": "2022-04-17T15:47:47.892Z"
   },
   {
    "duration": 6,
    "start_time": "2022-04-17T15:48:28.788Z"
   },
   {
    "duration": 5,
    "start_time": "2022-04-17T15:49:44.496Z"
   },
   {
    "duration": 10,
    "start_time": "2022-04-17T15:50:01.862Z"
   },
   {
    "duration": 7,
    "start_time": "2022-04-17T15:54:02.581Z"
   },
   {
    "duration": 1213,
    "start_time": "2022-04-17T16:17:12.134Z"
   },
   {
    "duration": 51,
    "start_time": "2022-04-17T16:17:13.349Z"
   },
   {
    "duration": 14,
    "start_time": "2022-04-17T16:17:13.402Z"
   },
   {
    "duration": 14,
    "start_time": "2022-04-17T16:17:13.418Z"
   },
   {
    "duration": 8,
    "start_time": "2022-04-17T16:17:13.433Z"
   },
   {
    "duration": 10,
    "start_time": "2022-04-17T16:17:13.443Z"
   },
   {
    "duration": 10,
    "start_time": "2022-04-17T16:17:13.454Z"
   },
   {
    "duration": 10,
    "start_time": "2022-04-17T16:17:13.466Z"
   },
   {
    "duration": 5,
    "start_time": "2022-04-17T16:17:13.477Z"
   },
   {
    "duration": 34,
    "start_time": "2022-04-17T16:17:13.485Z"
   },
   {
    "duration": 4,
    "start_time": "2022-04-17T16:17:13.521Z"
   },
   {
    "duration": 21,
    "start_time": "2022-04-17T16:17:13.526Z"
   },
   {
    "duration": 9,
    "start_time": "2022-04-17T16:17:13.548Z"
   },
   {
    "duration": 12,
    "start_time": "2022-04-17T16:17:13.559Z"
   },
   {
    "duration": 178,
    "start_time": "2022-04-17T16:17:13.608Z"
   },
   {
    "duration": 27,
    "start_time": "2022-04-17T16:17:13.788Z"
   },
   {
    "duration": 165,
    "start_time": "2022-04-17T16:17:13.816Z"
   },
   {
    "duration": 4,
    "start_time": "2022-04-17T16:17:13.983Z"
   },
   {
    "duration": 100,
    "start_time": "2022-04-17T16:17:13.989Z"
   },
   {
    "duration": 22,
    "start_time": "2022-04-17T16:17:14.091Z"
   },
   {
    "duration": 222,
    "start_time": "2022-04-17T16:17:14.115Z"
   },
   {
    "duration": 6,
    "start_time": "2022-04-17T16:17:14.338Z"
   },
   {
    "duration": 9,
    "start_time": "2022-04-17T16:17:14.346Z"
   },
   {
    "duration": 234,
    "start_time": "2022-04-17T16:17:14.356Z"
   },
   {
    "duration": 693,
    "start_time": "2022-04-17T16:17:14.591Z"
   },
   {
    "duration": 24,
    "start_time": "2022-04-17T16:17:15.285Z"
   },
   {
    "duration": 6,
    "start_time": "2022-04-17T16:17:15.311Z"
   },
   {
    "duration": 31,
    "start_time": "2022-04-17T16:17:15.321Z"
   },
   {
    "duration": 8,
    "start_time": "2022-04-17T16:17:15.354Z"
   },
   {
    "duration": 216,
    "start_time": "2022-04-17T16:17:15.364Z"
   },
   {
    "duration": 5,
    "start_time": "2022-04-17T16:17:15.581Z"
   },
   {
    "duration": 19,
    "start_time": "2022-04-17T16:17:15.588Z"
   },
   {
    "duration": 4,
    "start_time": "2022-04-17T16:17:15.609Z"
   },
   {
    "duration": 9,
    "start_time": "2022-04-17T16:17:15.614Z"
   },
   {
    "duration": 667,
    "start_time": "2022-04-17T16:17:15.625Z"
   },
   {
    "duration": 573,
    "start_time": "2022-04-17T16:17:16.294Z"
   },
   {
    "duration": 13,
    "start_time": "2022-04-17T16:17:16.868Z"
   },
   {
    "duration": 427,
    "start_time": "2022-04-17T16:17:16.882Z"
   },
   {
    "duration": 11,
    "start_time": "2022-04-17T16:17:17.311Z"
   },
   {
    "duration": 5,
    "start_time": "2022-04-17T16:17:17.323Z"
   },
   {
    "duration": 22,
    "start_time": "2022-04-17T16:17:17.330Z"
   },
   {
    "duration": 5,
    "start_time": "2022-04-17T16:17:17.353Z"
   },
   {
    "duration": 20,
    "start_time": "2022-04-17T16:17:17.359Z"
   },
   {
    "duration": 43,
    "start_time": "2022-04-17T16:17:17.381Z"
   },
   {
    "duration": 221,
    "start_time": "2022-04-17T16:17:17.426Z"
   },
   {
    "duration": 4,
    "start_time": "2022-04-17T16:17:17.648Z"
   },
   {
    "duration": 17,
    "start_time": "2022-04-17T16:17:17.653Z"
   },
   {
    "duration": 1119,
    "start_time": "2022-04-17T16:17:17.672Z"
   },
   {
    "duration": 11,
    "start_time": "2022-04-17T16:17:18.793Z"
   },
   {
    "duration": 9,
    "start_time": "2022-04-17T16:17:18.805Z"
   },
   {
    "duration": 6,
    "start_time": "2022-04-17T16:17:18.816Z"
   },
   {
    "duration": 9,
    "start_time": "2022-04-17T16:17:18.823Z"
   },
   {
    "duration": 14,
    "start_time": "2022-04-17T16:17:18.833Z"
   },
   {
    "duration": 18,
    "start_time": "2022-04-17T16:17:18.849Z"
   },
   {
    "duration": 8,
    "start_time": "2022-04-17T16:17:18.869Z"
   },
   {
    "duration": 8,
    "start_time": "2022-04-17T16:17:18.879Z"
   },
   {
    "duration": 20,
    "start_time": "2022-04-17T16:17:18.888Z"
   },
   {
    "duration": 9,
    "start_time": "2022-04-17T16:17:18.910Z"
   },
   {
    "duration": 9,
    "start_time": "2022-04-17T16:17:18.921Z"
   },
   {
    "duration": 10,
    "start_time": "2022-04-17T16:17:18.932Z"
   },
   {
    "duration": 414,
    "start_time": "2022-04-17T16:17:18.944Z"
   },
   {
    "duration": 13,
    "start_time": "2022-04-17T16:17:19.359Z"
   },
   {
    "duration": 281,
    "start_time": "2022-04-17T16:17:19.374Z"
   },
   {
    "duration": 10,
    "start_time": "2022-04-17T16:17:19.657Z"
   },
   {
    "duration": 21,
    "start_time": "2022-04-17T16:17:19.669Z"
   },
   {
    "duration": 404,
    "start_time": "2022-04-17T16:17:19.707Z"
   }
  ],
  "kernelspec": {
   "display_name": "Python 3 (ipykernel)",
   "language": "python",
   "name": "python3"
  },
  "language_info": {
   "codemirror_mode": {
    "name": "ipython",
    "version": 3
   },
   "file_extension": ".py",
   "mimetype": "text/x-python",
   "name": "python",
   "nbconvert_exporter": "python",
   "pygments_lexer": "ipython3",
   "version": "3.9.7"
  },
  "toc": {
   "base_numbering": 1,
   "nav_menu": {},
   "number_sections": true,
   "sideBar": true,
   "skip_h1_title": true,
   "title_cell": "Оглавление",
   "title_sidebar": "Оглавление",
   "toc_cell": true,
   "toc_position": {
    "height": "calc(100% - 180px)",
    "left": "10px",
    "top": "150px",
    "width": "170.27px"
   },
   "toc_section_display": true,
   "toc_window_display": true
  }
 },
 "nbformat": 4,
 "nbformat_minor": 2
}
