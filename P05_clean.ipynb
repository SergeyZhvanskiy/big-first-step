{
 "cells": [
  {
   "cell_type": "markdown",
   "id": "e1310350",
   "metadata": {},
   "source": [
    "# Анализ компьютерных игр"
   ]
  },
  {
   "cell_type": "markdown",
   "id": "439f451d",
   "metadata": {},
   "source": [
    "## Описание проекта"
   ]
  },
  {
   "cell_type": "markdown",
   "id": "40dd0248",
   "metadata": {},
   "source": [
    "Интернет-магазин «Стримчик» продаёт по всему миру компьютерные игры. Из открытых источников доступны исторические данные о продажах игр, оценки пользователей и экспертов, жанры и платформы (например, Xbox или PlayStation). Предстоит выявить определяющие успешность игры закономерности. Это позволит сделать ставку на потенциально популярный продукт и спланировать рекламные кампании.\n",
    "\n",
    "Имеются данные до 2016 года. Данные за 2016 год могут быть неполными. Планируется кампания на 2017-й. Нужно отработать принцип работы с данными.\n",
    "\n",
    "В наборе данных имеется аббревиатура ESRB (Entertainment Software Rating Board) — это ассоциация, определяющая возрастной рейтинг компьютерных игр. ESRB оценивает игровой контент и присваивает ему подходящую возрастную категорию, например, «Для взрослых», «Для детей младшего возраста» или «Для подростков»."
   ]
  },
  {
   "cell_type": "markdown",
   "id": "1ae54aa7",
   "metadata": {},
   "source": [
    "## Изучение имеющихся данных"
   ]
  },
  {
   "cell_type": "code",
   "execution_count": 1,
   "id": "a9d67217",
   "metadata": {},
   "outputs": [],
   "source": [
    "import pandas as pd\n",
    "import matplotlib.pyplot as plt\n",
    "from scipy import stats as st"
   ]
  },
  {
   "cell_type": "code",
   "execution_count": 2,
   "id": "e4f167ac",
   "metadata": {},
   "outputs": [
    {
     "data": {
      "text/html": [
       "<div>\n",
       "<style scoped>\n",
       "    .dataframe tbody tr th:only-of-type {\n",
       "        vertical-align: middle;\n",
       "    }\n",
       "\n",
       "    .dataframe tbody tr th {\n",
       "        vertical-align: top;\n",
       "    }\n",
       "\n",
       "    .dataframe thead th {\n",
       "        text-align: right;\n",
       "    }\n",
       "</style>\n",
       "<table border=\"1\" class=\"dataframe\">\n",
       "  <thead>\n",
       "    <tr style=\"text-align: right;\">\n",
       "      <th></th>\n",
       "      <th>Name</th>\n",
       "      <th>Platform</th>\n",
       "      <th>Year_of_Release</th>\n",
       "      <th>Genre</th>\n",
       "      <th>NA_sales</th>\n",
       "      <th>EU_sales</th>\n",
       "      <th>JP_sales</th>\n",
       "      <th>Other_sales</th>\n",
       "      <th>Critic_Score</th>\n",
       "      <th>User_Score</th>\n",
       "      <th>Rating</th>\n",
       "    </tr>\n",
       "  </thead>\n",
       "  <tbody>\n",
       "    <tr>\n",
       "      <td>0</td>\n",
       "      <td>Wii Sports</td>\n",
       "      <td>Wii</td>\n",
       "      <td>2006.0</td>\n",
       "      <td>Sports</td>\n",
       "      <td>41.36</td>\n",
       "      <td>28.96</td>\n",
       "      <td>3.77</td>\n",
       "      <td>8.45</td>\n",
       "      <td>76.0</td>\n",
       "      <td>8</td>\n",
       "      <td>E</td>\n",
       "    </tr>\n",
       "    <tr>\n",
       "      <td>1</td>\n",
       "      <td>Super Mario Bros.</td>\n",
       "      <td>NES</td>\n",
       "      <td>1985.0</td>\n",
       "      <td>Platform</td>\n",
       "      <td>29.08</td>\n",
       "      <td>3.58</td>\n",
       "      <td>6.81</td>\n",
       "      <td>0.77</td>\n",
       "      <td>NaN</td>\n",
       "      <td>NaN</td>\n",
       "      <td>NaN</td>\n",
       "    </tr>\n",
       "    <tr>\n",
       "      <td>2</td>\n",
       "      <td>Mario Kart Wii</td>\n",
       "      <td>Wii</td>\n",
       "      <td>2008.0</td>\n",
       "      <td>Racing</td>\n",
       "      <td>15.68</td>\n",
       "      <td>12.76</td>\n",
       "      <td>3.79</td>\n",
       "      <td>3.29</td>\n",
       "      <td>82.0</td>\n",
       "      <td>8.3</td>\n",
       "      <td>E</td>\n",
       "    </tr>\n",
       "    <tr>\n",
       "      <td>3</td>\n",
       "      <td>Wii Sports Resort</td>\n",
       "      <td>Wii</td>\n",
       "      <td>2009.0</td>\n",
       "      <td>Sports</td>\n",
       "      <td>15.61</td>\n",
       "      <td>10.93</td>\n",
       "      <td>3.28</td>\n",
       "      <td>2.95</td>\n",
       "      <td>80.0</td>\n",
       "      <td>8</td>\n",
       "      <td>E</td>\n",
       "    </tr>\n",
       "    <tr>\n",
       "      <td>4</td>\n",
       "      <td>Pokemon Red/Pokemon Blue</td>\n",
       "      <td>GB</td>\n",
       "      <td>1996.0</td>\n",
       "      <td>Role-Playing</td>\n",
       "      <td>11.27</td>\n",
       "      <td>8.89</td>\n",
       "      <td>10.22</td>\n",
       "      <td>1.00</td>\n",
       "      <td>NaN</td>\n",
       "      <td>NaN</td>\n",
       "      <td>NaN</td>\n",
       "    </tr>\n",
       "    <tr>\n",
       "      <td>...</td>\n",
       "      <td>...</td>\n",
       "      <td>...</td>\n",
       "      <td>...</td>\n",
       "      <td>...</td>\n",
       "      <td>...</td>\n",
       "      <td>...</td>\n",
       "      <td>...</td>\n",
       "      <td>...</td>\n",
       "      <td>...</td>\n",
       "      <td>...</td>\n",
       "      <td>...</td>\n",
       "    </tr>\n",
       "    <tr>\n",
       "      <td>16710</td>\n",
       "      <td>Samurai Warriors: Sanada Maru</td>\n",
       "      <td>PS3</td>\n",
       "      <td>2016.0</td>\n",
       "      <td>Action</td>\n",
       "      <td>0.00</td>\n",
       "      <td>0.00</td>\n",
       "      <td>0.01</td>\n",
       "      <td>0.00</td>\n",
       "      <td>NaN</td>\n",
       "      <td>NaN</td>\n",
       "      <td>NaN</td>\n",
       "    </tr>\n",
       "    <tr>\n",
       "      <td>16711</td>\n",
       "      <td>LMA Manager 2007</td>\n",
       "      <td>X360</td>\n",
       "      <td>2006.0</td>\n",
       "      <td>Sports</td>\n",
       "      <td>0.00</td>\n",
       "      <td>0.01</td>\n",
       "      <td>0.00</td>\n",
       "      <td>0.00</td>\n",
       "      <td>NaN</td>\n",
       "      <td>NaN</td>\n",
       "      <td>NaN</td>\n",
       "    </tr>\n",
       "    <tr>\n",
       "      <td>16712</td>\n",
       "      <td>Haitaka no Psychedelica</td>\n",
       "      <td>PSV</td>\n",
       "      <td>2016.0</td>\n",
       "      <td>Adventure</td>\n",
       "      <td>0.00</td>\n",
       "      <td>0.00</td>\n",
       "      <td>0.01</td>\n",
       "      <td>0.00</td>\n",
       "      <td>NaN</td>\n",
       "      <td>NaN</td>\n",
       "      <td>NaN</td>\n",
       "    </tr>\n",
       "    <tr>\n",
       "      <td>16713</td>\n",
       "      <td>Spirits &amp; Spells</td>\n",
       "      <td>GBA</td>\n",
       "      <td>2003.0</td>\n",
       "      <td>Platform</td>\n",
       "      <td>0.01</td>\n",
       "      <td>0.00</td>\n",
       "      <td>0.00</td>\n",
       "      <td>0.00</td>\n",
       "      <td>NaN</td>\n",
       "      <td>NaN</td>\n",
       "      <td>NaN</td>\n",
       "    </tr>\n",
       "    <tr>\n",
       "      <td>16714</td>\n",
       "      <td>Winning Post 8 2016</td>\n",
       "      <td>PSV</td>\n",
       "      <td>2016.0</td>\n",
       "      <td>Simulation</td>\n",
       "      <td>0.00</td>\n",
       "      <td>0.00</td>\n",
       "      <td>0.01</td>\n",
       "      <td>0.00</td>\n",
       "      <td>NaN</td>\n",
       "      <td>NaN</td>\n",
       "      <td>NaN</td>\n",
       "    </tr>\n",
       "  </tbody>\n",
       "</table>\n",
       "<p>16715 rows × 11 columns</p>\n",
       "</div>"
      ],
      "text/plain": [
       "                                Name Platform  Year_of_Release         Genre  \\\n",
       "0                         Wii Sports      Wii           2006.0        Sports   \n",
       "1                  Super Mario Bros.      NES           1985.0      Platform   \n",
       "2                     Mario Kart Wii      Wii           2008.0        Racing   \n",
       "3                  Wii Sports Resort      Wii           2009.0        Sports   \n",
       "4           Pokemon Red/Pokemon Blue       GB           1996.0  Role-Playing   \n",
       "...                              ...      ...              ...           ...   \n",
       "16710  Samurai Warriors: Sanada Maru      PS3           2016.0        Action   \n",
       "16711               LMA Manager 2007     X360           2006.0        Sports   \n",
       "16712        Haitaka no Psychedelica      PSV           2016.0     Adventure   \n",
       "16713               Spirits & Spells      GBA           2003.0      Platform   \n",
       "16714            Winning Post 8 2016      PSV           2016.0    Simulation   \n",
       "\n",
       "       NA_sales  EU_sales  JP_sales  Other_sales  Critic_Score User_Score  \\\n",
       "0         41.36     28.96      3.77         8.45          76.0          8   \n",
       "1         29.08      3.58      6.81         0.77           NaN        NaN   \n",
       "2         15.68     12.76      3.79         3.29          82.0        8.3   \n",
       "3         15.61     10.93      3.28         2.95          80.0          8   \n",
       "4         11.27      8.89     10.22         1.00           NaN        NaN   \n",
       "...         ...       ...       ...          ...           ...        ...   \n",
       "16710      0.00      0.00      0.01         0.00           NaN        NaN   \n",
       "16711      0.00      0.01      0.00         0.00           NaN        NaN   \n",
       "16712      0.00      0.00      0.01         0.00           NaN        NaN   \n",
       "16713      0.01      0.00      0.00         0.00           NaN        NaN   \n",
       "16714      0.00      0.00      0.01         0.00           NaN        NaN   \n",
       "\n",
       "      Rating  \n",
       "0          E  \n",
       "1        NaN  \n",
       "2          E  \n",
       "3          E  \n",
       "4        NaN  \n",
       "...      ...  \n",
       "16710    NaN  \n",
       "16711    NaN  \n",
       "16712    NaN  \n",
       "16713    NaN  \n",
       "16714    NaN  \n",
       "\n",
       "[16715 rows x 11 columns]"
      ]
     },
     "metadata": {},
     "output_type": "display_data"
    }
   ],
   "source": [
    "data = pd.read_csv('/datasets/games.csv')\n",
    "display(data)"
   ]
  },
  {
   "cell_type": "markdown",
   "id": "29f27236",
   "metadata": {},
   "source": [
    "**Описание данных**\n",
    "* Name — название игры\n",
    "* Platform — платформа\n",
    "* Year_of_Release — год выпуска\n",
    "* Genre — жанр игры\n",
    "* NA_sales — продажи в Северной Америке (миллионы проданных копий)\n",
    "* EU_sales — продажи в Европе (миллионы проданных копий)\n",
    "* JP_sales — продажи в Японии (миллионы проданных копий)\n",
    "* Other_sales — продажи в других странах (миллионы проданных копий)\n",
    "* Critic_Score — оценка критиков (максимум 100)\n",
    "* User_Score — оценка пользователей (максимум 10)\n",
    "* Rating — рейтинг от организации ESRB (англ. Entertainment Software Rating Board). Эта ассоциация определяет рейтинг компьютерных игр и присваивает им подходящую возрастную категорию."
   ]
  },
  {
   "cell_type": "code",
   "execution_count": 3,
   "id": "7d628783",
   "metadata": {},
   "outputs": [
    {
     "name": "stdout",
     "output_type": "stream",
     "text": [
      "<class 'pandas.core.frame.DataFrame'>\n",
      "RangeIndex: 16715 entries, 0 to 16714\n",
      "Data columns (total 11 columns):\n",
      "Name               16713 non-null object\n",
      "Platform           16715 non-null object\n",
      "Year_of_Release    16446 non-null float64\n",
      "Genre              16713 non-null object\n",
      "NA_sales           16715 non-null float64\n",
      "EU_sales           16715 non-null float64\n",
      "JP_sales           16715 non-null float64\n",
      "Other_sales        16715 non-null float64\n",
      "Critic_Score       8137 non-null float64\n",
      "User_Score         10014 non-null object\n",
      "Rating             9949 non-null object\n",
      "dtypes: float64(6), object(5)\n",
      "memory usage: 1.4+ MB\n"
     ]
    },
    {
     "data": {
      "text/plain": [
       "None"
      ]
     },
     "metadata": {},
     "output_type": "display_data"
    }
   ],
   "source": [
    "display(data.info())"
   ]
  },
  {
   "cell_type": "markdown",
   "id": "7699d855",
   "metadata": {},
   "source": [
    "Сразу же оценим количество и долю пропусков"
   ]
  },
  {
   "cell_type": "code",
   "execution_count": 4,
   "id": "bed0fb76",
   "metadata": {},
   "outputs": [
    {
     "data": {
      "text/plain": [
       "Name                  2\n",
       "Platform              0\n",
       "Year_of_Release     269\n",
       "Genre                 2\n",
       "NA_sales              0\n",
       "EU_sales              0\n",
       "JP_sales              0\n",
       "Other_sales           0\n",
       "Critic_Score       8578\n",
       "User_Score         6701\n",
       "Rating             6766\n",
       "dtype: int64"
      ]
     },
     "metadata": {},
     "output_type": "display_data"
    },
    {
     "data": {
      "text/plain": [
       "Name               0.000120\n",
       "Platform           0.000000\n",
       "Year_of_Release    0.016093\n",
       "Genre              0.000120\n",
       "NA_sales           0.000000\n",
       "EU_sales           0.000000\n",
       "JP_sales           0.000000\n",
       "Other_sales        0.000000\n",
       "Critic_Score       0.513192\n",
       "User_Score         0.400897\n",
       "Rating             0.404786\n",
       "dtype: float64"
      ]
     },
     "metadata": {},
     "output_type": "display_data"
    }
   ],
   "source": [
    "display(data.isna().sum())\n",
    "display(data.isna().mean())"
   ]
  },
  {
   "cell_type": "markdown",
   "id": "8fee7970",
   "metadata": {},
   "source": [
    "**Основные констатации:**\n",
    "1. Импортированные данные соответствуют ожидаемым. Таблица с данными достаточно компактна и понятна.\n",
    "2. В данных имеются значительные пропуски в части всех трех видов рейтинговых оценок (от 40% до 50% пропусков), незначительные объемы пропусков в годе выпуска (менее 1%) и ничтожные в названии игры и жанрах (всего по 2 случая). Ко всем пропускам придется применять свои подходы, обусловленные логикой данных.\n",
    "3. Не все данные имеют требуемые форматы (будут исправлены на этапе подготовки данных).\n",
    "4. В целом, с данными можно работать. Они достаточны для решения поставленных задач."
   ]
  },
  {
   "cell_type": "markdown",
   "id": "f43d33e5",
   "metadata": {},
   "source": [
    "# Подготовка данных"
   ]
  },
  {
   "cell_type": "markdown",
   "id": "0a80b28f",
   "metadata": {},
   "source": [
    "### Замена названий столбцов"
   ]
  },
  {
   "cell_type": "markdown",
   "id": "9d62f65d",
   "metadata": {},
   "source": [
    "Столбцы названы вполне адекватным образом. Требуется только приведение к нижнему регистру."
   ]
  },
  {
   "cell_type": "code",
   "execution_count": 5,
   "id": "7620cc84",
   "metadata": {},
   "outputs": [],
   "source": [
    "data.columns = data.columns.str.lower()"
   ]
  },
  {
   "cell_type": "markdown",
   "id": "e927976c",
   "metadata": {},
   "source": [
    "### Поиск возможных скрытых дубликатов"
   ]
  },
  {
   "cell_type": "code",
   "execution_count": 6,
   "id": "c7183f53",
   "metadata": {},
   "outputs": [
    {
     "data": {
      "text/plain": [
       "array(['2600', '3DO', '3DS', 'DC', 'DS', 'GB', 'GBA', 'GC', 'GEN', 'GG',\n",
       "       'N64', 'NES', 'NG', 'PC', 'PCFX', 'PS', 'PS2', 'PS3', 'PS4', 'PSP',\n",
       "       'PSV', 'SAT', 'SCD', 'SNES', 'TG16', 'WS', 'Wii', 'WiiU', 'X360',\n",
       "       'XB', 'XOne'], dtype=object)"
      ]
     },
     "execution_count": 6,
     "metadata": {},
     "output_type": "execute_result"
    }
   ],
   "source": [
    "data['platform'].sort_values().unique()"
   ]
  },
  {
   "cell_type": "code",
   "execution_count": 7,
   "id": "95ae804e",
   "metadata": {},
   "outputs": [
    {
     "data": {
      "text/plain": [
       "array(['Action', 'Adventure', 'Fighting', 'Misc', 'Platform', 'Puzzle',\n",
       "       'Racing', 'Role-Playing', 'Shooter', 'Simulation', 'Sports',\n",
       "       'Strategy', nan], dtype=object)"
      ]
     },
     "execution_count": 7,
     "metadata": {},
     "output_type": "execute_result"
    }
   ],
   "source": [
    "data['genre'].sort_values().unique()"
   ]
  },
  {
   "cell_type": "markdown",
   "id": "d841790e",
   "metadata": {},
   "source": [
    "В **платформах** и **жанрах** возможности для появления скрытых дубликатов не выявлено. Эти параметры в дальнейшем будут в центре анализа. Именно он требовали проверки в первую очередь."
   ]
  },
  {
   "cell_type": "markdown",
   "id": "9bff28af",
   "metadata": {},
   "source": [
    "### Замена типов данных и обработка пропусков"
   ]
  },
  {
   "cell_type": "markdown",
   "id": "8287bea8",
   "metadata": {},
   "source": [
    "Замена типов потребуется в двух случаях:\n",
    "\n",
    "* год выпуска - к целочисленному виду,\n",
    "* оценка пользователей - к числовому дробному,\n",
    "\n",
    "так как в таблице формат этих данных не соответствует их физическому смыслу.\n",
    "\n",
    "В работе по подготовке данных будем двигаться по столбцам таблицы слева направо, заполняя пропуски и приводя данные к требуемому типу. "
   ]
  },
  {
   "cell_type": "markdown",
   "id": "a83c2aec",
   "metadata": {},
   "source": [
    "Сначала в **названии игр** заменим имеющиеся два обнаруженных ранее пропуска на \"неизвестную игру\" ('unknown_game')."
   ]
  },
  {
   "cell_type": "code",
   "execution_count": 8,
   "id": "4f8ef41d",
   "metadata": {},
   "outputs": [
    {
     "data": {
      "text/plain": [
       "array([' Beyblade Burst', ' Fire Emblem Fates', \" Frozen: Olaf's Quest\",\n",
       "       ..., 'unknown_game', 'wwe Smackdown vs. Raw 2006',\n",
       "       '¡Shin Chan Flipa en colores!'], dtype=object)"
      ]
     },
     "execution_count": 8,
     "metadata": {},
     "output_type": "execute_result"
    }
   ],
   "source": [
    "data['name'] = data['name'].fillna('unknown_game')\n",
    "data['name'].sort_values().unique()"
   ]
  },
  {
   "cell_type": "markdown",
   "id": "046dd95e",
   "metadata": {},
   "source": [
    "В названиях игр имеются такие, которые начинаются с пробелов. Это свидетельство некоторой небрежности при заполнении базы. \"Почистим\": удалим пробелы в тех случаях, где они являются первыми знаками в названии."
   ]
  },
  {
   "cell_type": "code",
   "execution_count": 9,
   "id": "104d5fcf",
   "metadata": {},
   "outputs": [
    {
     "name": "stdout",
     "output_type": "stream",
     "text": [
      "Произведено 6 удалений пробелов в начале названий игр.\n"
     ]
    }
   ],
   "source": [
    "counter = 0\n",
    "for index in range(len(data)):\n",
    "    word = data.loc[index, 'name']\n",
    "    if word[0] == ' ':\n",
    "        data.loc[index, 'name'] = word[1:]\n",
    "        counter += 1\n",
    "print(f'Произведено {counter} удалений пробелов в начале названий игр.')"
   ]
  },
  {
   "cell_type": "code",
   "execution_count": 10,
   "id": "84ce440a",
   "metadata": {},
   "outputs": [
    {
     "data": {
      "text/plain": [
       "Need for Speed: Most Wanted                  12\n",
       "Madden NFL 07                                 9\n",
       "Ratatouille                                   9\n",
       "LEGO Marvel Super Heroes                      9\n",
       "FIFA 14                                       9\n",
       "                                             ..\n",
       "Guilty Gear XX Slash                          1\n",
       "Pocket Dogs                                   1\n",
       "Uta no * Prince-Sama                          1\n",
       "Gold's Gym: Cardio Workout (Others sales)     1\n",
       "Cruis'n                                       1\n",
       "Name: name, Length: 11560, dtype: int64"
      ]
     },
     "metadata": {},
     "output_type": "display_data"
    }
   ],
   "source": [
    "display(data['name'].value_counts())"
   ]
  },
  {
   "cell_type": "markdown",
   "id": "979d0294",
   "metadata": {},
   "source": [
    "Таким же образом, как и в нахваниях игр, заменим пропуски в столбце **жанры**. Произведем замены на unknown_genre."
   ]
  },
  {
   "cell_type": "code",
   "execution_count": 11,
   "id": "35ce6961",
   "metadata": {
    "scrolled": true
   },
   "outputs": [
    {
     "data": {
      "text/plain": [
       "array(['Action', 'Adventure', 'Fighting', 'Misc', 'Platform', 'Puzzle',\n",
       "       'Racing', 'Role-Playing', 'Shooter', 'Simulation', 'Sports',\n",
       "       'Strategy', 'unknown_genre'], dtype=object)"
      ]
     },
     "execution_count": 11,
     "metadata": {},
     "output_type": "execute_result"
    }
   ],
   "source": [
    "data['genre'] = data['genre'].fillna('unknown_genre')\n",
    "data['genre'].sort_values().unique()"
   ]
  },
  {
   "cell_type": "markdown",
   "id": "55440d41",
   "metadata": {},
   "source": [
    "В столбце **year_of_release** 269 (1,6%) пропусков. Перед заменой на целочисленный тип заполним пропуски.\n",
    "\n",
    "На первом этапе будут заполнены пропуски лет (годов) по тем играм, которые встречаются в базе данных неоднократно. В ходе предварительного анализа были выявлены случаи, когда игра на разных платформах была выпущена в один год, однако из осторожности (на случай отклонений в годах) изберем медиану как основной медод определения пропущенного года по известным годам этой же игры."
   ]
  },
  {
   "cell_type": "code",
   "execution_count": 12,
   "id": "d1435a5d",
   "metadata": {},
   "outputs": [
    {
     "name": "stdout",
     "output_type": "stream",
     "text": [
      "На первом этапе заполнено 123 пропусков из 269.\n"
     ]
    }
   ],
   "source": [
    "gaps_before = data['year_of_release'].isna().sum()\n",
    "data['year_of_release'] = data['year_of_release'].fillna(data.groupby('name')['year_of_release'].transform('median'))\n",
    "gaps_after = data['year_of_release'].isna().sum()\n",
    "print(f'На первом этапе заполнено {gaps_before - gaps_after} пропусков из {gaps_before}.')"
   ]
  },
  {
   "cell_type": "markdown",
   "id": "fb68adb2",
   "metadata": {},
   "source": [
    "На втором этапе заполнения пропусков будем ориентироваться на год выпуска платформы. На этом этапе уже нет игр, которые могли бы \"подсказать\" свой год тем, у которых пропущены значения. Но исходим из того, что, как правило, игра появляется \"под новую платформу\". Поэтому если известна платформа игры, то будем ориентироваться на первый год работы платформы."
   ]
  },
  {
   "cell_type": "code",
   "execution_count": 13,
   "id": "07026dcd",
   "metadata": {},
   "outputs": [
    {
     "name": "stdout",
     "output_type": "stream",
     "text": [
      "На втором этапе заполнено 146 пропусков из 146.    \n",
      "Всего заполнено 269 пропусков из 269.\n"
     ]
    }
   ],
   "source": [
    "gaps_before_2 = data['year_of_release'].isna().sum()\n",
    "data['year_of_release'] = data['year_of_release'].fillna(data.groupby('platform')['year_of_release'].transform('min'))\n",
    "gaps_after = data['year_of_release'].isna().sum()\n",
    "print(f'На втором этапе заполнено {gaps_before_2 - gaps_after} пропусков из {gaps_before_2}.\\\n",
    "    \\nВсего заполнено {gaps_before - gaps_after} пропусков из {gaps_before}.')"
   ]
  },
  {
   "cell_type": "markdown",
   "id": "11447396",
   "metadata": {},
   "source": [
    "Таким образом, заполнены все пропуски в столбце с годами выхода игр. Потери данных удалось избежать.\n",
    "\n",
    "Теперь данные по годам в соответствужщем столбце (уже без пропусков) приведем к целочисленному виду."
   ]
  },
  {
   "cell_type": "code",
   "execution_count": 14,
   "id": "8ff5c76d",
   "metadata": {},
   "outputs": [],
   "source": [
    "data['year_of_release'] = data['year_of_release'].astype('int')"
   ]
  },
  {
   "cell_type": "markdown",
   "id": "fd3d4ad5",
   "metadata": {},
   "source": [
    "Дальнейшая подготовка таблицы связана с пропусками в **столбцах с оценками**. Пропуски в них возникли, скорее всего в силу технических и маркетинговых причин. Система выставляет рейтинги только в случае, когда число оценок игры будет достаточно большим. Но многие игры, видимо, не самые распространенные, свои оценки не получили. Эта причина косвенно подтверждается и тем, что число пропусков в соответствующих данных по играм примерно одинаково (6-8 тыс.).\n",
    "\n",
    "Проверим гипотезу о пропусках еще в одном аспекте. Теперь с учетом позиций 'tbd' в user_score:"
   ]
  },
  {
   "cell_type": "code",
   "execution_count": 15,
   "id": "d768a2c7",
   "metadata": {},
   "outputs": [
    {
     "name": "stdout",
     "output_type": "stream",
     "text": [
      "Превышение пропусков в critic_score над пропусками в user_score: 1915\n",
      "Число tbd в user_scorе: 2424    \n",
      "Число пересечений tbd в user_score и пропусков в critic_scorе: 1342\n"
     ]
    }
   ],
   "source": [
    "a = data.loc[data['critic_score'].isna(), 'user_score'].count()\n",
    "print(f'Превышение пропусков в critic_score над пропусками в user_score: {a}')\n",
    "\n",
    "c = data.loc[data['user_score'] == 'tbd', 'user_score'].count()\n",
    "d = data.loc[data['user_score'] == 'tbd']\n",
    "e = d['critic_score'].isna().sum()\n",
    "print(f'Число tbd в user_scorе: {c}\\\n",
    "    \\nЧисло пересечений tbd в user_score и пропусков в critic_scorе: {e}')"
   ]
  },
  {
   "cell_type": "markdown",
   "id": "6c5ffbd9",
   "metadata": {},
   "source": [
    "Таким образом, действительно, неполные данные в user_score (вместе с 'tbd') в значительной мере совпадают с пропусками в critic_score. В частности, разница в 1915 (превышение числа пропусков в critic_score над пропусками в user_score) в значительной мере (1342) полностью совпадает с еще не выставленными оценками 'tbd'."
   ]
  },
  {
   "cell_type": "markdown",
   "id": "b55dca9f",
   "metadata": {},
   "source": [
    "Для того, чтобы определиться с дальнейшими действиями относительно 'tbd', посмотрим, как этот показатель распределен по годам. Возможно, это самые свежие, еще не установленные данные (за 2016 год). Проверим."
   ]
  },
  {
   "cell_type": "code",
   "execution_count": 16,
   "id": "e526796d",
   "metadata": {
    "scrolled": false
   },
   "outputs": [
    {
     "data": {
      "text/html": [
       "<div>\n",
       "<style scoped>\n",
       "    .dataframe tbody tr th:only-of-type {\n",
       "        vertical-align: middle;\n",
       "    }\n",
       "\n",
       "    .dataframe tbody tr th {\n",
       "        vertical-align: top;\n",
       "    }\n",
       "\n",
       "    .dataframe thead th {\n",
       "        text-align: right;\n",
       "    }\n",
       "</style>\n",
       "<table border=\"1\" class=\"dataframe\">\n",
       "  <thead>\n",
       "    <tr style=\"text-align: right;\">\n",
       "      <th></th>\n",
       "      <th>index</th>\n",
       "      <th>year_of_release</th>\n",
       "      <th>tbd_score</th>\n",
       "      <th>tbd_rate_percent</th>\n",
       "    </tr>\n",
       "  </thead>\n",
       "  <tbody>\n",
       "    <tr>\n",
       "      <td>0</td>\n",
       "      <td>1980</td>\n",
       "      <td>25</td>\n",
       "      <td>0</td>\n",
       "      <td>0.000000</td>\n",
       "    </tr>\n",
       "    <tr>\n",
       "      <td>1</td>\n",
       "      <td>1981</td>\n",
       "      <td>46</td>\n",
       "      <td>0</td>\n",
       "      <td>0.000000</td>\n",
       "    </tr>\n",
       "    <tr>\n",
       "      <td>2</td>\n",
       "      <td>1982</td>\n",
       "      <td>36</td>\n",
       "      <td>0</td>\n",
       "      <td>0.000000</td>\n",
       "    </tr>\n",
       "    <tr>\n",
       "      <td>3</td>\n",
       "      <td>1983</td>\n",
       "      <td>17</td>\n",
       "      <td>0</td>\n",
       "      <td>0.000000</td>\n",
       "    </tr>\n",
       "    <tr>\n",
       "      <td>4</td>\n",
       "      <td>1984</td>\n",
       "      <td>14</td>\n",
       "      <td>0</td>\n",
       "      <td>0.000000</td>\n",
       "    </tr>\n",
       "    <tr>\n",
       "      <td>5</td>\n",
       "      <td>1985</td>\n",
       "      <td>40</td>\n",
       "      <td>9</td>\n",
       "      <td>22.500000</td>\n",
       "    </tr>\n",
       "    <tr>\n",
       "      <td>6</td>\n",
       "      <td>1986</td>\n",
       "      <td>21</td>\n",
       "      <td>0</td>\n",
       "      <td>0.000000</td>\n",
       "    </tr>\n",
       "    <tr>\n",
       "      <td>7</td>\n",
       "      <td>1987</td>\n",
       "      <td>16</td>\n",
       "      <td>0</td>\n",
       "      <td>0.000000</td>\n",
       "    </tr>\n",
       "    <tr>\n",
       "      <td>8</td>\n",
       "      <td>1988</td>\n",
       "      <td>16</td>\n",
       "      <td>0</td>\n",
       "      <td>0.000000</td>\n",
       "    </tr>\n",
       "    <tr>\n",
       "      <td>9</td>\n",
       "      <td>1989</td>\n",
       "      <td>17</td>\n",
       "      <td>0</td>\n",
       "      <td>0.000000</td>\n",
       "    </tr>\n",
       "    <tr>\n",
       "      <td>10</td>\n",
       "      <td>1990</td>\n",
       "      <td>16</td>\n",
       "      <td>0</td>\n",
       "      <td>0.000000</td>\n",
       "    </tr>\n",
       "    <tr>\n",
       "      <td>11</td>\n",
       "      <td>1991</td>\n",
       "      <td>41</td>\n",
       "      <td>0</td>\n",
       "      <td>0.000000</td>\n",
       "    </tr>\n",
       "    <tr>\n",
       "      <td>12</td>\n",
       "      <td>1992</td>\n",
       "      <td>43</td>\n",
       "      <td>0</td>\n",
       "      <td>0.000000</td>\n",
       "    </tr>\n",
       "    <tr>\n",
       "      <td>13</td>\n",
       "      <td>1993</td>\n",
       "      <td>62</td>\n",
       "      <td>0</td>\n",
       "      <td>0.000000</td>\n",
       "    </tr>\n",
       "    <tr>\n",
       "      <td>14</td>\n",
       "      <td>1994</td>\n",
       "      <td>128</td>\n",
       "      <td>1</td>\n",
       "      <td>0.781250</td>\n",
       "    </tr>\n",
       "    <tr>\n",
       "      <td>15</td>\n",
       "      <td>1995</td>\n",
       "      <td>219</td>\n",
       "      <td>0</td>\n",
       "      <td>0.000000</td>\n",
       "    </tr>\n",
       "    <tr>\n",
       "      <td>16</td>\n",
       "      <td>1996</td>\n",
       "      <td>264</td>\n",
       "      <td>0</td>\n",
       "      <td>0.000000</td>\n",
       "    </tr>\n",
       "    <tr>\n",
       "      <td>17</td>\n",
       "      <td>1997</td>\n",
       "      <td>289</td>\n",
       "      <td>1</td>\n",
       "      <td>0.346021</td>\n",
       "    </tr>\n",
       "    <tr>\n",
       "      <td>18</td>\n",
       "      <td>1998</td>\n",
       "      <td>379</td>\n",
       "      <td>0</td>\n",
       "      <td>0.000000</td>\n",
       "    </tr>\n",
       "    <tr>\n",
       "      <td>19</td>\n",
       "      <td>1999</td>\n",
       "      <td>340</td>\n",
       "      <td>8</td>\n",
       "      <td>2.352941</td>\n",
       "    </tr>\n",
       "    <tr>\n",
       "      <td>20</td>\n",
       "      <td>2000</td>\n",
       "      <td>393</td>\n",
       "      <td>52</td>\n",
       "      <td>13.231552</td>\n",
       "    </tr>\n",
       "    <tr>\n",
       "      <td>21</td>\n",
       "      <td>2001</td>\n",
       "      <td>490</td>\n",
       "      <td>85</td>\n",
       "      <td>17.346939</td>\n",
       "    </tr>\n",
       "    <tr>\n",
       "      <td>22</td>\n",
       "      <td>2002</td>\n",
       "      <td>844</td>\n",
       "      <td>193</td>\n",
       "      <td>22.867299</td>\n",
       "    </tr>\n",
       "    <tr>\n",
       "      <td>23</td>\n",
       "      <td>2003</td>\n",
       "      <td>784</td>\n",
       "      <td>96</td>\n",
       "      <td>12.244898</td>\n",
       "    </tr>\n",
       "    <tr>\n",
       "      <td>24</td>\n",
       "      <td>2004</td>\n",
       "      <td>771</td>\n",
       "      <td>108</td>\n",
       "      <td>14.007782</td>\n",
       "    </tr>\n",
       "    <tr>\n",
       "      <td>25</td>\n",
       "      <td>2005</td>\n",
       "      <td>971</td>\n",
       "      <td>123</td>\n",
       "      <td>12.667353</td>\n",
       "    </tr>\n",
       "    <tr>\n",
       "      <td>26</td>\n",
       "      <td>2006</td>\n",
       "      <td>1038</td>\n",
       "      <td>136</td>\n",
       "      <td>13.102119</td>\n",
       "    </tr>\n",
       "    <tr>\n",
       "      <td>27</td>\n",
       "      <td>2007</td>\n",
       "      <td>1202</td>\n",
       "      <td>193</td>\n",
       "      <td>16.056572</td>\n",
       "    </tr>\n",
       "    <tr>\n",
       "      <td>28</td>\n",
       "      <td>2008</td>\n",
       "      <td>1441</td>\n",
       "      <td>330</td>\n",
       "      <td>22.900763</td>\n",
       "    </tr>\n",
       "    <tr>\n",
       "      <td>29</td>\n",
       "      <td>2009</td>\n",
       "      <td>1430</td>\n",
       "      <td>405</td>\n",
       "      <td>28.321678</td>\n",
       "    </tr>\n",
       "    <tr>\n",
       "      <td>30</td>\n",
       "      <td>2010</td>\n",
       "      <td>1269</td>\n",
       "      <td>332</td>\n",
       "      <td>26.162333</td>\n",
       "    </tr>\n",
       "    <tr>\n",
       "      <td>31</td>\n",
       "      <td>2011</td>\n",
       "      <td>1154</td>\n",
       "      <td>218</td>\n",
       "      <td>18.890815</td>\n",
       "    </tr>\n",
       "    <tr>\n",
       "      <td>32</td>\n",
       "      <td>2012</td>\n",
       "      <td>662</td>\n",
       "      <td>26</td>\n",
       "      <td>3.927492</td>\n",
       "    </tr>\n",
       "    <tr>\n",
       "      <td>33</td>\n",
       "      <td>2013</td>\n",
       "      <td>548</td>\n",
       "      <td>15</td>\n",
       "      <td>2.737226</td>\n",
       "    </tr>\n",
       "    <tr>\n",
       "      <td>34</td>\n",
       "      <td>2014</td>\n",
       "      <td>581</td>\n",
       "      <td>21</td>\n",
       "      <td>3.614458</td>\n",
       "    </tr>\n",
       "    <tr>\n",
       "      <td>35</td>\n",
       "      <td>2015</td>\n",
       "      <td>606</td>\n",
       "      <td>38</td>\n",
       "      <td>6.270627</td>\n",
       "    </tr>\n",
       "    <tr>\n",
       "      <td>36</td>\n",
       "      <td>2016</td>\n",
       "      <td>502</td>\n",
       "      <td>34</td>\n",
       "      <td>6.772908</td>\n",
       "    </tr>\n",
       "  </tbody>\n",
       "</table>\n",
       "</div>"
      ],
      "text/plain": [
       "    index  year_of_release  tbd_score  tbd_rate_percent\n",
       "0    1980               25          0          0.000000\n",
       "1    1981               46          0          0.000000\n",
       "2    1982               36          0          0.000000\n",
       "3    1983               17          0          0.000000\n",
       "4    1984               14          0          0.000000\n",
       "5    1985               40          9         22.500000\n",
       "6    1986               21          0          0.000000\n",
       "7    1987               16          0          0.000000\n",
       "8    1988               16          0          0.000000\n",
       "9    1989               17          0          0.000000\n",
       "10   1990               16          0          0.000000\n",
       "11   1991               41          0          0.000000\n",
       "12   1992               43          0          0.000000\n",
       "13   1993               62          0          0.000000\n",
       "14   1994              128          1          0.781250\n",
       "15   1995              219          0          0.000000\n",
       "16   1996              264          0          0.000000\n",
       "17   1997              289          1          0.346021\n",
       "18   1998              379          0          0.000000\n",
       "19   1999              340          8          2.352941\n",
       "20   2000              393         52         13.231552\n",
       "21   2001              490         85         17.346939\n",
       "22   2002              844        193         22.867299\n",
       "23   2003              784         96         12.244898\n",
       "24   2004              771        108         14.007782\n",
       "25   2005              971        123         12.667353\n",
       "26   2006             1038        136         13.102119\n",
       "27   2007             1202        193         16.056572\n",
       "28   2008             1441        330         22.900763\n",
       "29   2009             1430        405         28.321678\n",
       "30   2010             1269        332         26.162333\n",
       "31   2011             1154        218         18.890815\n",
       "32   2012              662         26          3.927492\n",
       "33   2013              548         15          2.737226\n",
       "34   2014              581         21          3.614458\n",
       "35   2015              606         38          6.270627\n",
       "36   2016              502         34          6.772908"
      ]
     },
     "metadata": {},
     "output_type": "display_data"
    }
   ],
   "source": [
    "# Форимируем распределение 'tbd' по годам.\n",
    "years_of_tbd = data.loc[data['user_score'] == 'tbd', 'year_of_release'].value_counts().to_frame().reset_index()\n",
    "years_of_tbd.columns = ['index', 'tbd_score']\n",
    "# print(years_of_tbd)\n",
    "\n",
    "# Форимируем распределение всех имеющихся данных по годам.\n",
    "years_total = data['year_of_release'].value_counts().to_frame().reset_index()\n",
    "# print(years_total)\n",
    "\n",
    "# Объединяем данные в одну таблицу и вычисляем долю 'tbd' по годам.\n",
    "tbd_by_years = years_total.merge(years_of_tbd, on='index', how='left')\n",
    "tbd_by_years = tbd_by_years.fillna(0)\n",
    "tbd_by_years['tbd_score'] = tbd_by_years['tbd_score'].astype('int')\n",
    "tbd_by_years['tbd_rate_percent'] = (tbd_by_years['tbd_score'] / tbd_by_years['year_of_release']) * 100\n",
    "\n",
    "tbd_by_years = tbd_by_years.sort_values(by='index').reset_index(drop=True)\n",
    "display(tbd_by_years)"
   ]
  },
  {
   "cell_type": "markdown",
   "id": "71efddcf",
   "metadata": {},
   "source": [
    "Полученные данные опровергают предположение о том, что 'tbd' - это данные за недавнее время, которые еще не были выставлены. Наибольшая доля 'tbd'-данных приходится на период 2000-2011 годов, когда общее число оценок было наибольшим в периоде 1980-2016 годов. Тем не менее аббревитатура TBD является общепринятой: to be determined = подлежит определению. Значит, данные по этим позициям на момент формирования таблицы находились на этапе подготовки (хоть и ретроспективно) и, очевидно, они не будут нулевыми. \n",
    "\n",
    "В совокупности с выше приведенными соотношениями 'tbd' в пользовательских оценках и оценках критиков данное обстоятельство приводит к следующей тактике в заполнении пропусков и обработке 'tbd':\n",
    "* 'tbd' в user_score заменим на технический цифровой код 100 (заведомо выпадающий из диапазона оценок),\n",
    "* пропуски в critic_score по играм, которые имеют признак 'tbd', также заменим на технический цифровой индекс 500,\n",
    "* все остальные пропуски в обеих колонках заменим на 0.\n",
    "\n",
    "В дальнейшем при обработке данных, будем иметь в виду, что индексы 0, 100 и 500 имеют технический характер и не являются оценками."
   ]
  },
  {
   "cell_type": "code",
   "execution_count": 17,
   "id": "f29b4ae0",
   "metadata": {},
   "outputs": [
    {
     "name": "stdout",
     "output_type": "stream",
     "text": [
      "Количество замен пропусков на индекс 500: 1342\n"
     ]
    }
   ],
   "source": [
    "data.loc[lambda x: x['critic_score'].isna() & (x['user_score'] == 'tbd'), 'critic_score'] = 500\n",
    "\n",
    "replaced = data[data['critic_score'] == 500]['critic_score'].count()\n",
    "print(f'Количество замен пропусков на индекс 500: {replaced}')"
   ]
  },
  {
   "cell_type": "markdown",
   "id": "5bc748ec",
   "metadata": {},
   "source": [
    "Количество произведенных замен в critic_score в точности равно количеству ранее определенных пересечений."
   ]
  },
  {
   "cell_type": "code",
   "execution_count": 18,
   "id": "09ec22a9",
   "metadata": {},
   "outputs": [
    {
     "name": "stdout",
     "output_type": "stream",
     "text": [
      "Количество замен пропусков на индекс 100: 2424\n"
     ]
    }
   ],
   "source": [
    "data.loc[data['user_score'] == 'tbd', 'user_score'] = '100'\n",
    "replaced = data[data['user_score'] == '100']['user_score'].count()\n",
    "print(f'Количество замен пропусков на индекс 100: {replaced}')"
   ]
  },
  {
   "cell_type": "markdown",
   "id": "b5f5b01b",
   "metadata": {},
   "source": [
    "Количество произведенных замен 'tbd' в user_score на цифровой индекс в точности равно ранее определенному числу меток 'tbd'."
   ]
  },
  {
   "cell_type": "code",
   "execution_count": 19,
   "id": "c24c7636",
   "metadata": {},
   "outputs": [],
   "source": [
    "data['user_score'] = data['user_score'].fillna(0)\n",
    "data['critic_score'] = data['critic_score'].fillna(0)\n",
    "\n",
    "data['user_score'] = pd.to_numeric(data['user_score'])\n",
    "# data['user_score'].sort_values().unique()"
   ]
  },
  {
   "cell_type": "markdown",
   "id": "bd87acdf",
   "metadata": {},
   "source": [
    "Последняя колонка с **рейтингом** rating."
   ]
  },
  {
   "cell_type": "code",
   "execution_count": 20,
   "id": "d442e247",
   "metadata": {},
   "outputs": [
    {
     "data": {
      "text/plain": [
       "E       3990\n",
       "T       2961\n",
       "M       1563\n",
       "E10+    1420\n",
       "EC         8\n",
       "K-A        3\n",
       "RP         3\n",
       "AO         1\n",
       "Name: rating, dtype: int64"
      ]
     },
     "execution_count": 20,
     "metadata": {},
     "output_type": "execute_result"
    }
   ],
   "source": [
    "data['rating'].value_counts()"
   ]
  },
  {
   "cell_type": "markdown",
   "id": "85284e09",
   "metadata": {},
   "source": [
    "Рейтинги в таблице полностью соответствуют системе ESRB. Единственное исключение: устаревший индекс К-А соответствует более позднему обозначениею Е."
   ]
  },
  {
   "cell_type": "code",
   "execution_count": 21,
   "id": "ae1a6bb2",
   "metadata": {},
   "outputs": [],
   "source": [
    "data.loc[data['rating'] == 'K-A', 'rating'] = 'E'"
   ]
  },
  {
   "cell_type": "code",
   "execution_count": 22,
   "id": "15d2176d",
   "metadata": {},
   "outputs": [
    {
     "name": "stdout",
     "output_type": "stream",
     "text": [
      "Кроме того, в колонке 6766 пропусков, или 40.5% всех данных.\n"
     ]
    }
   ],
   "source": [
    "skippings = data['rating'].isna().sum()\n",
    "print(f'Кроме того, в колонке {skippings} пропусков, или {skippings/len(data):.1%} всех данных.')"
   ]
  },
  {
   "cell_type": "markdown",
   "id": "6d31cdc6",
   "metadata": {},
   "source": [
    "Как и в случае с 'tbd', проверим, как пропуски рейтинга группируются по годам. Для этого воспользуемся таблицей tbd_by_years, полученной при анализе 'tbd' и дополним ее пропусками рейтинга."
   ]
  },
  {
   "cell_type": "code",
   "execution_count": 23,
   "id": "33eafd9a",
   "metadata": {},
   "outputs": [],
   "source": [
    "not_rated_by_yaers = data.loc[lambda x: x['rating'].isna()].groupby('year_of_release').count().reset_index()\n",
    "not_rated_by_yaers.rename(columns={'year_of_release': 'index'}, inplace=True)\n",
    "# not_rated_by_yaers"
   ]
  },
  {
   "cell_type": "code",
   "execution_count": 24,
   "id": "e9e3aeee",
   "metadata": {
    "scrolled": false
   },
   "outputs": [
    {
     "data": {
      "text/html": [
       "<div>\n",
       "<style scoped>\n",
       "    .dataframe tbody tr th:only-of-type {\n",
       "        vertical-align: middle;\n",
       "    }\n",
       "\n",
       "    .dataframe tbody tr th {\n",
       "        vertical-align: top;\n",
       "    }\n",
       "\n",
       "    .dataframe thead th {\n",
       "        text-align: right;\n",
       "    }\n",
       "</style>\n",
       "<table border=\"1\" class=\"dataframe\">\n",
       "  <thead>\n",
       "    <tr style=\"text-align: right;\">\n",
       "      <th></th>\n",
       "      <th>index</th>\n",
       "      <th>year_of_release</th>\n",
       "      <th>tbd_score</th>\n",
       "      <th>tbd_rate_percent</th>\n",
       "      <th>not_rated</th>\n",
       "      <th>not_rated_percent</th>\n",
       "      <th>rated</th>\n",
       "    </tr>\n",
       "  </thead>\n",
       "  <tbody>\n",
       "    <tr>\n",
       "      <td>0</td>\n",
       "      <td>1980</td>\n",
       "      <td>25</td>\n",
       "      <td>0</td>\n",
       "      <td>0.000000</td>\n",
       "      <td>25</td>\n",
       "      <td>100.000000</td>\n",
       "      <td>0</td>\n",
       "    </tr>\n",
       "    <tr>\n",
       "      <td>1</td>\n",
       "      <td>1981</td>\n",
       "      <td>46</td>\n",
       "      <td>0</td>\n",
       "      <td>0.000000</td>\n",
       "      <td>46</td>\n",
       "      <td>100.000000</td>\n",
       "      <td>0</td>\n",
       "    </tr>\n",
       "    <tr>\n",
       "      <td>2</td>\n",
       "      <td>1982</td>\n",
       "      <td>36</td>\n",
       "      <td>0</td>\n",
       "      <td>0.000000</td>\n",
       "      <td>36</td>\n",
       "      <td>100.000000</td>\n",
       "      <td>0</td>\n",
       "    </tr>\n",
       "    <tr>\n",
       "      <td>3</td>\n",
       "      <td>1983</td>\n",
       "      <td>17</td>\n",
       "      <td>0</td>\n",
       "      <td>0.000000</td>\n",
       "      <td>17</td>\n",
       "      <td>100.000000</td>\n",
       "      <td>0</td>\n",
       "    </tr>\n",
       "    <tr>\n",
       "      <td>4</td>\n",
       "      <td>1984</td>\n",
       "      <td>14</td>\n",
       "      <td>0</td>\n",
       "      <td>0.000000</td>\n",
       "      <td>14</td>\n",
       "      <td>100.000000</td>\n",
       "      <td>0</td>\n",
       "    </tr>\n",
       "    <tr>\n",
       "      <td>5</td>\n",
       "      <td>1985</td>\n",
       "      <td>40</td>\n",
       "      <td>9</td>\n",
       "      <td>22.500000</td>\n",
       "      <td>23</td>\n",
       "      <td>57.500000</td>\n",
       "      <td>17</td>\n",
       "    </tr>\n",
       "    <tr>\n",
       "      <td>6</td>\n",
       "      <td>1986</td>\n",
       "      <td>21</td>\n",
       "      <td>0</td>\n",
       "      <td>0.000000</td>\n",
       "      <td>21</td>\n",
       "      <td>100.000000</td>\n",
       "      <td>0</td>\n",
       "    </tr>\n",
       "    <tr>\n",
       "      <td>7</td>\n",
       "      <td>1987</td>\n",
       "      <td>16</td>\n",
       "      <td>0</td>\n",
       "      <td>0.000000</td>\n",
       "      <td>16</td>\n",
       "      <td>100.000000</td>\n",
       "      <td>0</td>\n",
       "    </tr>\n",
       "    <tr>\n",
       "      <td>8</td>\n",
       "      <td>1988</td>\n",
       "      <td>16</td>\n",
       "      <td>0</td>\n",
       "      <td>0.000000</td>\n",
       "      <td>15</td>\n",
       "      <td>93.750000</td>\n",
       "      <td>1</td>\n",
       "    </tr>\n",
       "    <tr>\n",
       "      <td>9</td>\n",
       "      <td>1989</td>\n",
       "      <td>17</td>\n",
       "      <td>0</td>\n",
       "      <td>0.000000</td>\n",
       "      <td>17</td>\n",
       "      <td>100.000000</td>\n",
       "      <td>0</td>\n",
       "    </tr>\n",
       "    <tr>\n",
       "      <td>10</td>\n",
       "      <td>1990</td>\n",
       "      <td>16</td>\n",
       "      <td>0</td>\n",
       "      <td>0.000000</td>\n",
       "      <td>16</td>\n",
       "      <td>100.000000</td>\n",
       "      <td>0</td>\n",
       "    </tr>\n",
       "    <tr>\n",
       "      <td>11</td>\n",
       "      <td>1991</td>\n",
       "      <td>41</td>\n",
       "      <td>0</td>\n",
       "      <td>0.000000</td>\n",
       "      <td>41</td>\n",
       "      <td>100.000000</td>\n",
       "      <td>0</td>\n",
       "    </tr>\n",
       "    <tr>\n",
       "      <td>12</td>\n",
       "      <td>1992</td>\n",
       "      <td>43</td>\n",
       "      <td>0</td>\n",
       "      <td>0.000000</td>\n",
       "      <td>41</td>\n",
       "      <td>95.348837</td>\n",
       "      <td>2</td>\n",
       "    </tr>\n",
       "    <tr>\n",
       "      <td>13</td>\n",
       "      <td>1993</td>\n",
       "      <td>62</td>\n",
       "      <td>0</td>\n",
       "      <td>0.000000</td>\n",
       "      <td>62</td>\n",
       "      <td>100.000000</td>\n",
       "      <td>0</td>\n",
       "    </tr>\n",
       "    <tr>\n",
       "      <td>14</td>\n",
       "      <td>1994</td>\n",
       "      <td>128</td>\n",
       "      <td>1</td>\n",
       "      <td>0.781250</td>\n",
       "      <td>123</td>\n",
       "      <td>96.093750</td>\n",
       "      <td>5</td>\n",
       "    </tr>\n",
       "    <tr>\n",
       "      <td>15</td>\n",
       "      <td>1995</td>\n",
       "      <td>219</td>\n",
       "      <td>0</td>\n",
       "      <td>0.000000</td>\n",
       "      <td>219</td>\n",
       "      <td>100.000000</td>\n",
       "      <td>0</td>\n",
       "    </tr>\n",
       "    <tr>\n",
       "      <td>16</td>\n",
       "      <td>1996</td>\n",
       "      <td>264</td>\n",
       "      <td>0</td>\n",
       "      <td>0.000000</td>\n",
       "      <td>257</td>\n",
       "      <td>97.348485</td>\n",
       "      <td>7</td>\n",
       "    </tr>\n",
       "    <tr>\n",
       "      <td>17</td>\n",
       "      <td>1997</td>\n",
       "      <td>289</td>\n",
       "      <td>1</td>\n",
       "      <td>0.346021</td>\n",
       "      <td>270</td>\n",
       "      <td>93.425606</td>\n",
       "      <td>19</td>\n",
       "    </tr>\n",
       "    <tr>\n",
       "      <td>18</td>\n",
       "      <td>1998</td>\n",
       "      <td>379</td>\n",
       "      <td>0</td>\n",
       "      <td>0.000000</td>\n",
       "      <td>347</td>\n",
       "      <td>91.556728</td>\n",
       "      <td>32</td>\n",
       "    </tr>\n",
       "    <tr>\n",
       "      <td>19</td>\n",
       "      <td>1999</td>\n",
       "      <td>340</td>\n",
       "      <td>8</td>\n",
       "      <td>2.352941</td>\n",
       "      <td>298</td>\n",
       "      <td>87.647059</td>\n",
       "      <td>42</td>\n",
       "    </tr>\n",
       "    <tr>\n",
       "      <td>20</td>\n",
       "      <td>2000</td>\n",
       "      <td>393</td>\n",
       "      <td>52</td>\n",
       "      <td>13.231552</td>\n",
       "      <td>216</td>\n",
       "      <td>54.961832</td>\n",
       "      <td>177</td>\n",
       "    </tr>\n",
       "    <tr>\n",
       "      <td>21</td>\n",
       "      <td>2001</td>\n",
       "      <td>490</td>\n",
       "      <td>85</td>\n",
       "      <td>17.346939</td>\n",
       "      <td>145</td>\n",
       "      <td>29.591837</td>\n",
       "      <td>345</td>\n",
       "    </tr>\n",
       "    <tr>\n",
       "      <td>22</td>\n",
       "      <td>2002</td>\n",
       "      <td>844</td>\n",
       "      <td>193</td>\n",
       "      <td>22.867299</td>\n",
       "      <td>175</td>\n",
       "      <td>20.734597</td>\n",
       "      <td>669</td>\n",
       "    </tr>\n",
       "    <tr>\n",
       "      <td>23</td>\n",
       "      <td>2003</td>\n",
       "      <td>784</td>\n",
       "      <td>96</td>\n",
       "      <td>12.244898</td>\n",
       "      <td>162</td>\n",
       "      <td>20.663265</td>\n",
       "      <td>622</td>\n",
       "    </tr>\n",
       "    <tr>\n",
       "      <td>24</td>\n",
       "      <td>2004</td>\n",
       "      <td>771</td>\n",
       "      <td>108</td>\n",
       "      <td>14.007782</td>\n",
       "      <td>171</td>\n",
       "      <td>22.178988</td>\n",
       "      <td>600</td>\n",
       "    </tr>\n",
       "    <tr>\n",
       "      <td>25</td>\n",
       "      <td>2005</td>\n",
       "      <td>971</td>\n",
       "      <td>123</td>\n",
       "      <td>12.667353</td>\n",
       "      <td>241</td>\n",
       "      <td>24.819773</td>\n",
       "      <td>730</td>\n",
       "    </tr>\n",
       "    <tr>\n",
       "      <td>26</td>\n",
       "      <td>2006</td>\n",
       "      <td>1038</td>\n",
       "      <td>136</td>\n",
       "      <td>13.102119</td>\n",
       "      <td>335</td>\n",
       "      <td>32.273603</td>\n",
       "      <td>703</td>\n",
       "    </tr>\n",
       "    <tr>\n",
       "      <td>27</td>\n",
       "      <td>2007</td>\n",
       "      <td>1202</td>\n",
       "      <td>193</td>\n",
       "      <td>16.056572</td>\n",
       "      <td>376</td>\n",
       "      <td>31.281198</td>\n",
       "      <td>826</td>\n",
       "    </tr>\n",
       "    <tr>\n",
       "      <td>28</td>\n",
       "      <td>2008</td>\n",
       "      <td>1441</td>\n",
       "      <td>330</td>\n",
       "      <td>22.900763</td>\n",
       "      <td>449</td>\n",
       "      <td>31.158917</td>\n",
       "      <td>992</td>\n",
       "    </tr>\n",
       "    <tr>\n",
       "      <td>29</td>\n",
       "      <td>2009</td>\n",
       "      <td>1430</td>\n",
       "      <td>405</td>\n",
       "      <td>28.321678</td>\n",
       "      <td>416</td>\n",
       "      <td>29.090909</td>\n",
       "      <td>1014</td>\n",
       "    </tr>\n",
       "    <tr>\n",
       "      <td>30</td>\n",
       "      <td>2010</td>\n",
       "      <td>1269</td>\n",
       "      <td>332</td>\n",
       "      <td>26.162333</td>\n",
       "      <td>459</td>\n",
       "      <td>36.170213</td>\n",
       "      <td>810</td>\n",
       "    </tr>\n",
       "    <tr>\n",
       "      <td>31</td>\n",
       "      <td>2011</td>\n",
       "      <td>1154</td>\n",
       "      <td>218</td>\n",
       "      <td>18.890815</td>\n",
       "      <td>441</td>\n",
       "      <td>38.214905</td>\n",
       "      <td>713</td>\n",
       "    </tr>\n",
       "    <tr>\n",
       "      <td>32</td>\n",
       "      <td>2012</td>\n",
       "      <td>662</td>\n",
       "      <td>26</td>\n",
       "      <td>3.927492</td>\n",
       "      <td>298</td>\n",
       "      <td>45.015106</td>\n",
       "      <td>364</td>\n",
       "    </tr>\n",
       "    <tr>\n",
       "      <td>33</td>\n",
       "      <td>2013</td>\n",
       "      <td>548</td>\n",
       "      <td>15</td>\n",
       "      <td>2.737226</td>\n",
       "      <td>229</td>\n",
       "      <td>41.788321</td>\n",
       "      <td>319</td>\n",
       "    </tr>\n",
       "    <tr>\n",
       "      <td>34</td>\n",
       "      <td>2014</td>\n",
       "      <td>581</td>\n",
       "      <td>21</td>\n",
       "      <td>3.614458</td>\n",
       "      <td>236</td>\n",
       "      <td>40.619621</td>\n",
       "      <td>345</td>\n",
       "    </tr>\n",
       "    <tr>\n",
       "      <td>35</td>\n",
       "      <td>2015</td>\n",
       "      <td>606</td>\n",
       "      <td>38</td>\n",
       "      <td>6.270627</td>\n",
       "      <td>291</td>\n",
       "      <td>48.019802</td>\n",
       "      <td>315</td>\n",
       "    </tr>\n",
       "    <tr>\n",
       "      <td>36</td>\n",
       "      <td>2016</td>\n",
       "      <td>502</td>\n",
       "      <td>34</td>\n",
       "      <td>6.772908</td>\n",
       "      <td>222</td>\n",
       "      <td>44.223108</td>\n",
       "      <td>280</td>\n",
       "    </tr>\n",
       "  </tbody>\n",
       "</table>\n",
       "</div>"
      ],
      "text/plain": [
       "    index  year_of_release  tbd_score  tbd_rate_percent  not_rated  \\\n",
       "0    1980               25          0          0.000000         25   \n",
       "1    1981               46          0          0.000000         46   \n",
       "2    1982               36          0          0.000000         36   \n",
       "3    1983               17          0          0.000000         17   \n",
       "4    1984               14          0          0.000000         14   \n",
       "5    1985               40          9         22.500000         23   \n",
       "6    1986               21          0          0.000000         21   \n",
       "7    1987               16          0          0.000000         16   \n",
       "8    1988               16          0          0.000000         15   \n",
       "9    1989               17          0          0.000000         17   \n",
       "10   1990               16          0          0.000000         16   \n",
       "11   1991               41          0          0.000000         41   \n",
       "12   1992               43          0          0.000000         41   \n",
       "13   1993               62          0          0.000000         62   \n",
       "14   1994              128          1          0.781250        123   \n",
       "15   1995              219          0          0.000000        219   \n",
       "16   1996              264          0          0.000000        257   \n",
       "17   1997              289          1          0.346021        270   \n",
       "18   1998              379          0          0.000000        347   \n",
       "19   1999              340          8          2.352941        298   \n",
       "20   2000              393         52         13.231552        216   \n",
       "21   2001              490         85         17.346939        145   \n",
       "22   2002              844        193         22.867299        175   \n",
       "23   2003              784         96         12.244898        162   \n",
       "24   2004              771        108         14.007782        171   \n",
       "25   2005              971        123         12.667353        241   \n",
       "26   2006             1038        136         13.102119        335   \n",
       "27   2007             1202        193         16.056572        376   \n",
       "28   2008             1441        330         22.900763        449   \n",
       "29   2009             1430        405         28.321678        416   \n",
       "30   2010             1269        332         26.162333        459   \n",
       "31   2011             1154        218         18.890815        441   \n",
       "32   2012              662         26          3.927492        298   \n",
       "33   2013              548         15          2.737226        229   \n",
       "34   2014              581         21          3.614458        236   \n",
       "35   2015              606         38          6.270627        291   \n",
       "36   2016              502         34          6.772908        222   \n",
       "\n",
       "    not_rated_percent  rated  \n",
       "0          100.000000      0  \n",
       "1          100.000000      0  \n",
       "2          100.000000      0  \n",
       "3          100.000000      0  \n",
       "4          100.000000      0  \n",
       "5           57.500000     17  \n",
       "6          100.000000      0  \n",
       "7          100.000000      0  \n",
       "8           93.750000      1  \n",
       "9          100.000000      0  \n",
       "10         100.000000      0  \n",
       "11         100.000000      0  \n",
       "12          95.348837      2  \n",
       "13         100.000000      0  \n",
       "14          96.093750      5  \n",
       "15         100.000000      0  \n",
       "16          97.348485      7  \n",
       "17          93.425606     19  \n",
       "18          91.556728     32  \n",
       "19          87.647059     42  \n",
       "20          54.961832    177  \n",
       "21          29.591837    345  \n",
       "22          20.734597    669  \n",
       "23          20.663265    622  \n",
       "24          22.178988    600  \n",
       "25          24.819773    730  \n",
       "26          32.273603    703  \n",
       "27          31.281198    826  \n",
       "28          31.158917    992  \n",
       "29          29.090909   1014  \n",
       "30          36.170213    810  \n",
       "31          38.214905    713  \n",
       "32          45.015106    364  \n",
       "33          41.788321    319  \n",
       "34          40.619621    345  \n",
       "35          48.019802    315  \n",
       "36          44.223108    280  "
      ]
     },
     "metadata": {},
     "output_type": "display_data"
    }
   ],
   "source": [
    "missed_by_years = pd.merge(tbd_by_years, not_rated_by_yaers[[\"index\", 'name']], on='index')\n",
    "missed_by_years['not_rated_percent'] = missed_by_years['name'] / missed_by_years['year_of_release'] * 100\n",
    "missed_by_years.rename(columns={'name': 'not_rated'}, inplace=True)\n",
    "missed_by_years['rated'] =  missed_by_years['year_of_release'] - missed_by_years['not_rated']\n",
    "display(missed_by_years)"
   ]
  },
  {
   "cell_type": "markdown",
   "id": "c6531568",
   "metadata": {},
   "source": [
    "Присвоенные рейтинги системы ESRB распределены неравномерно. Игры начальных лет их практически не имеют. Наибольшая доля рейтингов в нулевых года. И важно, что видна корредяция с позициями 'tbd' в пользовательских оценках: 'tbd' в прошлых периодах появляется там, где появляются рейтинги. Причем число рейтингов несколько превышает количество 'tbd'.\n",
    "\n",
    "Таким образом, еще раз косвенно подтверждается предположение, что значения 'tbd' со временем будут заполнены (сначала присваеивается рейтипнг ESRB, затем появляется позиция 'tbd', после чего, со временем вместо 'tbd' должна появиться пользовательская оценка).\n",
    "\n",
    "Ну а в таблице пропуски в последней колонке заполним с значением 'not_rated'. "
   ]
  },
  {
   "cell_type": "code",
   "execution_count": 25,
   "id": "9eb2b047",
   "metadata": {},
   "outputs": [],
   "source": [
    "data['rating'] = data['rating'].fillna('not_rated')"
   ]
  },
  {
   "cell_type": "markdown",
   "id": "56c4ff6e",
   "metadata": {},
   "source": [
    "Проверим, что получилось в итоге."
   ]
  },
  {
   "cell_type": "code",
   "execution_count": 26,
   "id": "afac505f",
   "metadata": {},
   "outputs": [
    {
     "data": {
      "text/html": [
       "<div>\n",
       "<style scoped>\n",
       "    .dataframe tbody tr th:only-of-type {\n",
       "        vertical-align: middle;\n",
       "    }\n",
       "\n",
       "    .dataframe tbody tr th {\n",
       "        vertical-align: top;\n",
       "    }\n",
       "\n",
       "    .dataframe thead th {\n",
       "        text-align: right;\n",
       "    }\n",
       "</style>\n",
       "<table border=\"1\" class=\"dataframe\">\n",
       "  <thead>\n",
       "    <tr style=\"text-align: right;\">\n",
       "      <th></th>\n",
       "      <th>name</th>\n",
       "      <th>platform</th>\n",
       "      <th>year_of_release</th>\n",
       "      <th>genre</th>\n",
       "      <th>na_sales</th>\n",
       "      <th>eu_sales</th>\n",
       "      <th>jp_sales</th>\n",
       "      <th>other_sales</th>\n",
       "      <th>critic_score</th>\n",
       "      <th>user_score</th>\n",
       "      <th>rating</th>\n",
       "    </tr>\n",
       "  </thead>\n",
       "  <tbody>\n",
       "    <tr>\n",
       "      <td>0</td>\n",
       "      <td>Wii Sports</td>\n",
       "      <td>Wii</td>\n",
       "      <td>2006</td>\n",
       "      <td>Sports</td>\n",
       "      <td>41.36</td>\n",
       "      <td>28.96</td>\n",
       "      <td>3.77</td>\n",
       "      <td>8.45</td>\n",
       "      <td>76.0</td>\n",
       "      <td>8.0</td>\n",
       "      <td>E</td>\n",
       "    </tr>\n",
       "    <tr>\n",
       "      <td>1</td>\n",
       "      <td>Super Mario Bros.</td>\n",
       "      <td>NES</td>\n",
       "      <td>1985</td>\n",
       "      <td>Platform</td>\n",
       "      <td>29.08</td>\n",
       "      <td>3.58</td>\n",
       "      <td>6.81</td>\n",
       "      <td>0.77</td>\n",
       "      <td>0.0</td>\n",
       "      <td>0.0</td>\n",
       "      <td>not_rated</td>\n",
       "    </tr>\n",
       "    <tr>\n",
       "      <td>2</td>\n",
       "      <td>Mario Kart Wii</td>\n",
       "      <td>Wii</td>\n",
       "      <td>2008</td>\n",
       "      <td>Racing</td>\n",
       "      <td>15.68</td>\n",
       "      <td>12.76</td>\n",
       "      <td>3.79</td>\n",
       "      <td>3.29</td>\n",
       "      <td>82.0</td>\n",
       "      <td>8.3</td>\n",
       "      <td>E</td>\n",
       "    </tr>\n",
       "    <tr>\n",
       "      <td>3</td>\n",
       "      <td>Wii Sports Resort</td>\n",
       "      <td>Wii</td>\n",
       "      <td>2009</td>\n",
       "      <td>Sports</td>\n",
       "      <td>15.61</td>\n",
       "      <td>10.93</td>\n",
       "      <td>3.28</td>\n",
       "      <td>2.95</td>\n",
       "      <td>80.0</td>\n",
       "      <td>8.0</td>\n",
       "      <td>E</td>\n",
       "    </tr>\n",
       "    <tr>\n",
       "      <td>4</td>\n",
       "      <td>Pokemon Red/Pokemon Blue</td>\n",
       "      <td>GB</td>\n",
       "      <td>1996</td>\n",
       "      <td>Role-Playing</td>\n",
       "      <td>11.27</td>\n",
       "      <td>8.89</td>\n",
       "      <td>10.22</td>\n",
       "      <td>1.00</td>\n",
       "      <td>0.0</td>\n",
       "      <td>0.0</td>\n",
       "      <td>not_rated</td>\n",
       "    </tr>\n",
       "    <tr>\n",
       "      <td>...</td>\n",
       "      <td>...</td>\n",
       "      <td>...</td>\n",
       "      <td>...</td>\n",
       "      <td>...</td>\n",
       "      <td>...</td>\n",
       "      <td>...</td>\n",
       "      <td>...</td>\n",
       "      <td>...</td>\n",
       "      <td>...</td>\n",
       "      <td>...</td>\n",
       "      <td>...</td>\n",
       "    </tr>\n",
       "    <tr>\n",
       "      <td>16710</td>\n",
       "      <td>Samurai Warriors: Sanada Maru</td>\n",
       "      <td>PS3</td>\n",
       "      <td>2016</td>\n",
       "      <td>Action</td>\n",
       "      <td>0.00</td>\n",
       "      <td>0.00</td>\n",
       "      <td>0.01</td>\n",
       "      <td>0.00</td>\n",
       "      <td>0.0</td>\n",
       "      <td>0.0</td>\n",
       "      <td>not_rated</td>\n",
       "    </tr>\n",
       "    <tr>\n",
       "      <td>16711</td>\n",
       "      <td>LMA Manager 2007</td>\n",
       "      <td>X360</td>\n",
       "      <td>2006</td>\n",
       "      <td>Sports</td>\n",
       "      <td>0.00</td>\n",
       "      <td>0.01</td>\n",
       "      <td>0.00</td>\n",
       "      <td>0.00</td>\n",
       "      <td>0.0</td>\n",
       "      <td>0.0</td>\n",
       "      <td>not_rated</td>\n",
       "    </tr>\n",
       "    <tr>\n",
       "      <td>16712</td>\n",
       "      <td>Haitaka no Psychedelica</td>\n",
       "      <td>PSV</td>\n",
       "      <td>2016</td>\n",
       "      <td>Adventure</td>\n",
       "      <td>0.00</td>\n",
       "      <td>0.00</td>\n",
       "      <td>0.01</td>\n",
       "      <td>0.00</td>\n",
       "      <td>0.0</td>\n",
       "      <td>0.0</td>\n",
       "      <td>not_rated</td>\n",
       "    </tr>\n",
       "    <tr>\n",
       "      <td>16713</td>\n",
       "      <td>Spirits &amp; Spells</td>\n",
       "      <td>GBA</td>\n",
       "      <td>2003</td>\n",
       "      <td>Platform</td>\n",
       "      <td>0.01</td>\n",
       "      <td>0.00</td>\n",
       "      <td>0.00</td>\n",
       "      <td>0.00</td>\n",
       "      <td>0.0</td>\n",
       "      <td>0.0</td>\n",
       "      <td>not_rated</td>\n",
       "    </tr>\n",
       "    <tr>\n",
       "      <td>16714</td>\n",
       "      <td>Winning Post 8 2016</td>\n",
       "      <td>PSV</td>\n",
       "      <td>2016</td>\n",
       "      <td>Simulation</td>\n",
       "      <td>0.00</td>\n",
       "      <td>0.00</td>\n",
       "      <td>0.01</td>\n",
       "      <td>0.00</td>\n",
       "      <td>0.0</td>\n",
       "      <td>0.0</td>\n",
       "      <td>not_rated</td>\n",
       "    </tr>\n",
       "  </tbody>\n",
       "</table>\n",
       "<p>16715 rows × 11 columns</p>\n",
       "</div>"
      ],
      "text/plain": [
       "                                name platform  year_of_release         genre  \\\n",
       "0                         Wii Sports      Wii             2006        Sports   \n",
       "1                  Super Mario Bros.      NES             1985      Platform   \n",
       "2                     Mario Kart Wii      Wii             2008        Racing   \n",
       "3                  Wii Sports Resort      Wii             2009        Sports   \n",
       "4           Pokemon Red/Pokemon Blue       GB             1996  Role-Playing   \n",
       "...                              ...      ...              ...           ...   \n",
       "16710  Samurai Warriors: Sanada Maru      PS3             2016        Action   \n",
       "16711               LMA Manager 2007     X360             2006        Sports   \n",
       "16712        Haitaka no Psychedelica      PSV             2016     Adventure   \n",
       "16713               Spirits & Spells      GBA             2003      Platform   \n",
       "16714            Winning Post 8 2016      PSV             2016    Simulation   \n",
       "\n",
       "       na_sales  eu_sales  jp_sales  other_sales  critic_score  user_score  \\\n",
       "0         41.36     28.96      3.77         8.45          76.0         8.0   \n",
       "1         29.08      3.58      6.81         0.77           0.0         0.0   \n",
       "2         15.68     12.76      3.79         3.29          82.0         8.3   \n",
       "3         15.61     10.93      3.28         2.95          80.0         8.0   \n",
       "4         11.27      8.89     10.22         1.00           0.0         0.0   \n",
       "...         ...       ...       ...          ...           ...         ...   \n",
       "16710      0.00      0.00      0.01         0.00           0.0         0.0   \n",
       "16711      0.00      0.01      0.00         0.00           0.0         0.0   \n",
       "16712      0.00      0.00      0.01         0.00           0.0         0.0   \n",
       "16713      0.01      0.00      0.00         0.00           0.0         0.0   \n",
       "16714      0.00      0.00      0.01         0.00           0.0         0.0   \n",
       "\n",
       "          rating  \n",
       "0              E  \n",
       "1      not_rated  \n",
       "2              E  \n",
       "3              E  \n",
       "4      not_rated  \n",
       "...          ...  \n",
       "16710  not_rated  \n",
       "16711  not_rated  \n",
       "16712  not_rated  \n",
       "16713  not_rated  \n",
       "16714  not_rated  \n",
       "\n",
       "[16715 rows x 11 columns]"
      ]
     },
     "metadata": {},
     "output_type": "display_data"
    },
    {
     "name": "stdout",
     "output_type": "stream",
     "text": [
      "<class 'pandas.core.frame.DataFrame'>\n",
      "RangeIndex: 16715 entries, 0 to 16714\n",
      "Data columns (total 11 columns):\n",
      "name               16715 non-null object\n",
      "platform           16715 non-null object\n",
      "year_of_release    16715 non-null int64\n",
      "genre              16715 non-null object\n",
      "na_sales           16715 non-null float64\n",
      "eu_sales           16715 non-null float64\n",
      "jp_sales           16715 non-null float64\n",
      "other_sales        16715 non-null float64\n",
      "critic_score       16715 non-null float64\n",
      "user_score         16715 non-null float64\n",
      "rating             16715 non-null object\n",
      "dtypes: float64(6), int64(1), object(4)\n",
      "memory usage: 1.4+ MB\n"
     ]
    }
   ],
   "source": [
    "display(data)\n",
    "data.info()"
   ]
  },
  {
   "cell_type": "markdown",
   "id": "f8186de0",
   "metadata": {
    "scrolled": true
   },
   "source": [
    "**Итоги:**\n",
    "\n",
    "* пропуски заполнены,\n",
    "* значения во всех столюцах соответствуют смысловым форматам,\n",
    "* все изначальные данные сохранены,\n",
    "* таблица готова к дальнейшей обработке."
   ]
  },
  {
   "cell_type": "markdown",
   "id": "afe1392a",
   "metadata": {},
   "source": [
    "### Суммирование продаж по всем регионам"
   ]
  },
  {
   "cell_type": "code",
   "execution_count": 27,
   "id": "4c3948fd",
   "metadata": {},
   "outputs": [],
   "source": [
    "data['total_sales'] = data['na_sales'] + data['eu_sales'] + data['jp_sales'] + data['other_sales']"
   ]
  },
  {
   "cell_type": "markdown",
   "id": "47f74a0f",
   "metadata": {},
   "source": [
    "### Итоги подготовки данных\n",
    "1. Данные технически готовы к дальнейшей работе.\n",
    "2. Пропуски в рейтингах ESRB заменены на **not_rated**.\n",
    "3. Будущие оценки 'tbd' в user_score заменены на технический цифровой код **100**.\n",
    "4. Соответствующие играм с 'tbd' в critic_score оценки пользователей заменены на технический цифровой код **500**.\n",
    "5. Остальные отсутствующие оценки в user_score и critic_score заменены на код **0**, который также имеет технический характер.\n",
    "6. Дополнительно вычислено суммарное количество продаж игр по всем трем регионам мира, по которым имелись изначальные данные."
   ]
  },
  {
   "cell_type": "markdown",
   "id": "9c7fb9e8",
   "metadata": {},
   "source": [
    "## Шаг 3. Исследовательский анализ данных"
   ]
  },
  {
   "cell_type": "markdown",
   "id": "7c0d905a",
   "metadata": {},
   "source": [
    "\n",
    "\n",
    "### Выпуск игр по годам"
   ]
  },
  {
   "cell_type": "markdown",
   "id": "6818967c",
   "metadata": {},
   "source": [
    "Некоторые игры выпускались на разных платформах. Причем в разные годы. В ходе этого этапа посмотрим, сколько было выпущено (разработано и представлено рынку) игр (учет по первому году появления) и сколько выпускалось \"игроплатформ\" (те каждый выпуск игры на новой платформе считаем за самостоятельный выпуск игры)."
   ]
  },
  {
   "cell_type": "code",
   "execution_count": 28,
   "id": "b05d7d09",
   "metadata": {},
   "outputs": [],
   "source": [
    "# Подсчет количества игр по годам\n",
    "games_by_year = data.groupby('name').agg({'year_of_release': 'min'}).reset_index()\n",
    "games_by_year = games_by_year.groupby('year_of_release').agg({'year_of_release':'count'})\n",
    "games_by_year.rename(columns={'year_of_release': 'number_of_game'}, inplace=True)\n",
    "games_by_year = games_by_year.reset_index()\n",
    "# display(games_by_year)\n",
    "\n",
    "# Подсчет количества игроплатформ по годам\n",
    "gp_by_year = data['year_of_release'].value_counts()\n",
    "gp_by_year = gp_by_year.to_frame()\n",
    "gp_by_year = gp_by_year.reset_index()\n",
    "gp_by_year.rename(columns={'index': 'year_of_release', 'year_of_release':'number_of_game_platform'}, inplace=True)\n",
    "# display(gp_by_year)"
   ]
  },
  {
   "cell_type": "code",
   "execution_count": 29,
   "id": "304b24f9",
   "metadata": {
    "scrolled": false
   },
   "outputs": [
    {
     "data": {
      "text/html": [
       "<div>\n",
       "<style scoped>\n",
       "    .dataframe tbody tr th:only-of-type {\n",
       "        vertical-align: middle;\n",
       "    }\n",
       "\n",
       "    .dataframe tbody tr th {\n",
       "        vertical-align: top;\n",
       "    }\n",
       "\n",
       "    .dataframe thead th {\n",
       "        text-align: right;\n",
       "    }\n",
       "</style>\n",
       "<table border=\"1\" class=\"dataframe\">\n",
       "  <thead>\n",
       "    <tr style=\"text-align: right;\">\n",
       "      <th></th>\n",
       "      <th>year_of_release</th>\n",
       "      <th>number_of_game</th>\n",
       "      <th>number_of_game_platform</th>\n",
       "      <th>games_on_platform_ratio</th>\n",
       "    </tr>\n",
       "  </thead>\n",
       "  <tbody>\n",
       "    <tr>\n",
       "      <td>0</td>\n",
       "      <td>1980</td>\n",
       "      <td>25</td>\n",
       "      <td>25</td>\n",
       "      <td>1.000000</td>\n",
       "    </tr>\n",
       "    <tr>\n",
       "      <td>1</td>\n",
       "      <td>1981</td>\n",
       "      <td>46</td>\n",
       "      <td>46</td>\n",
       "      <td>1.000000</td>\n",
       "    </tr>\n",
       "    <tr>\n",
       "      <td>2</td>\n",
       "      <td>1982</td>\n",
       "      <td>36</td>\n",
       "      <td>36</td>\n",
       "      <td>1.000000</td>\n",
       "    </tr>\n",
       "    <tr>\n",
       "      <td>3</td>\n",
       "      <td>1983</td>\n",
       "      <td>14</td>\n",
       "      <td>17</td>\n",
       "      <td>1.214286</td>\n",
       "    </tr>\n",
       "    <tr>\n",
       "      <td>4</td>\n",
       "      <td>1984</td>\n",
       "      <td>13</td>\n",
       "      <td>14</td>\n",
       "      <td>1.076923</td>\n",
       "    </tr>\n",
       "    <tr>\n",
       "      <td>5</td>\n",
       "      <td>1985</td>\n",
       "      <td>39</td>\n",
       "      <td>40</td>\n",
       "      <td>1.025641</td>\n",
       "    </tr>\n",
       "    <tr>\n",
       "      <td>6</td>\n",
       "      <td>1986</td>\n",
       "      <td>21</td>\n",
       "      <td>21</td>\n",
       "      <td>1.000000</td>\n",
       "    </tr>\n",
       "    <tr>\n",
       "      <td>7</td>\n",
       "      <td>1987</td>\n",
       "      <td>15</td>\n",
       "      <td>16</td>\n",
       "      <td>1.066667</td>\n",
       "    </tr>\n",
       "    <tr>\n",
       "      <td>8</td>\n",
       "      <td>1988</td>\n",
       "      <td>15</td>\n",
       "      <td>16</td>\n",
       "      <td>1.066667</td>\n",
       "    </tr>\n",
       "    <tr>\n",
       "      <td>9</td>\n",
       "      <td>1989</td>\n",
       "      <td>12</td>\n",
       "      <td>17</td>\n",
       "      <td>1.416667</td>\n",
       "    </tr>\n",
       "    <tr>\n",
       "      <td>10</td>\n",
       "      <td>1990</td>\n",
       "      <td>15</td>\n",
       "      <td>16</td>\n",
       "      <td>1.066667</td>\n",
       "    </tr>\n",
       "    <tr>\n",
       "      <td>11</td>\n",
       "      <td>1991</td>\n",
       "      <td>38</td>\n",
       "      <td>41</td>\n",
       "      <td>1.078947</td>\n",
       "    </tr>\n",
       "    <tr>\n",
       "      <td>12</td>\n",
       "      <td>1992</td>\n",
       "      <td>41</td>\n",
       "      <td>43</td>\n",
       "      <td>1.048780</td>\n",
       "    </tr>\n",
       "    <tr>\n",
       "      <td>13</td>\n",
       "      <td>1993</td>\n",
       "      <td>60</td>\n",
       "      <td>62</td>\n",
       "      <td>1.033333</td>\n",
       "    </tr>\n",
       "    <tr>\n",
       "      <td>14</td>\n",
       "      <td>1994</td>\n",
       "      <td>116</td>\n",
       "      <td>128</td>\n",
       "      <td>1.103448</td>\n",
       "    </tr>\n",
       "    <tr>\n",
       "      <td>15</td>\n",
       "      <td>1995</td>\n",
       "      <td>208</td>\n",
       "      <td>219</td>\n",
       "      <td>1.052885</td>\n",
       "    </tr>\n",
       "    <tr>\n",
       "      <td>16</td>\n",
       "      <td>1996</td>\n",
       "      <td>250</td>\n",
       "      <td>264</td>\n",
       "      <td>1.056000</td>\n",
       "    </tr>\n",
       "    <tr>\n",
       "      <td>17</td>\n",
       "      <td>1997</td>\n",
       "      <td>269</td>\n",
       "      <td>289</td>\n",
       "      <td>1.074349</td>\n",
       "    </tr>\n",
       "    <tr>\n",
       "      <td>18</td>\n",
       "      <td>1998</td>\n",
       "      <td>345</td>\n",
       "      <td>379</td>\n",
       "      <td>1.098551</td>\n",
       "    </tr>\n",
       "    <tr>\n",
       "      <td>19</td>\n",
       "      <td>1999</td>\n",
       "      <td>292</td>\n",
       "      <td>340</td>\n",
       "      <td>1.164384</td>\n",
       "    </tr>\n",
       "    <tr>\n",
       "      <td>20</td>\n",
       "      <td>2000</td>\n",
       "      <td>345</td>\n",
       "      <td>393</td>\n",
       "      <td>1.139130</td>\n",
       "    </tr>\n",
       "    <tr>\n",
       "      <td>21</td>\n",
       "      <td>2001</td>\n",
       "      <td>415</td>\n",
       "      <td>490</td>\n",
       "      <td>1.180723</td>\n",
       "    </tr>\n",
       "    <tr>\n",
       "      <td>22</td>\n",
       "      <td>2002</td>\n",
       "      <td>574</td>\n",
       "      <td>844</td>\n",
       "      <td>1.470383</td>\n",
       "    </tr>\n",
       "    <tr>\n",
       "      <td>23</td>\n",
       "      <td>2003</td>\n",
       "      <td>492</td>\n",
       "      <td>784</td>\n",
       "      <td>1.593496</td>\n",
       "    </tr>\n",
       "    <tr>\n",
       "      <td>24</td>\n",
       "      <td>2004</td>\n",
       "      <td>525</td>\n",
       "      <td>771</td>\n",
       "      <td>1.468571</td>\n",
       "    </tr>\n",
       "    <tr>\n",
       "      <td>25</td>\n",
       "      <td>2005</td>\n",
       "      <td>640</td>\n",
       "      <td>971</td>\n",
       "      <td>1.517187</td>\n",
       "    </tr>\n",
       "    <tr>\n",
       "      <td>26</td>\n",
       "      <td>2006</td>\n",
       "      <td>756</td>\n",
       "      <td>1038</td>\n",
       "      <td>1.373016</td>\n",
       "    </tr>\n",
       "    <tr>\n",
       "      <td>27</td>\n",
       "      <td>2007</td>\n",
       "      <td>834</td>\n",
       "      <td>1202</td>\n",
       "      <td>1.441247</td>\n",
       "    </tr>\n",
       "    <tr>\n",
       "      <td>28</td>\n",
       "      <td>2008</td>\n",
       "      <td>980</td>\n",
       "      <td>1441</td>\n",
       "      <td>1.470408</td>\n",
       "    </tr>\n",
       "    <tr>\n",
       "      <td>29</td>\n",
       "      <td>2009</td>\n",
       "      <td>953</td>\n",
       "      <td>1430</td>\n",
       "      <td>1.500525</td>\n",
       "    </tr>\n",
       "    <tr>\n",
       "      <td>30</td>\n",
       "      <td>2010</td>\n",
       "      <td>857</td>\n",
       "      <td>1269</td>\n",
       "      <td>1.480747</td>\n",
       "    </tr>\n",
       "    <tr>\n",
       "      <td>31</td>\n",
       "      <td>2011</td>\n",
       "      <td>744</td>\n",
       "      <td>1154</td>\n",
       "      <td>1.551075</td>\n",
       "    </tr>\n",
       "    <tr>\n",
       "      <td>32</td>\n",
       "      <td>2012</td>\n",
       "      <td>403</td>\n",
       "      <td>662</td>\n",
       "      <td>1.642680</td>\n",
       "    </tr>\n",
       "    <tr>\n",
       "      <td>33</td>\n",
       "      <td>2013</td>\n",
       "      <td>292</td>\n",
       "      <td>548</td>\n",
       "      <td>1.876712</td>\n",
       "    </tr>\n",
       "    <tr>\n",
       "      <td>34</td>\n",
       "      <td>2014</td>\n",
       "      <td>278</td>\n",
       "      <td>581</td>\n",
       "      <td>2.089928</td>\n",
       "    </tr>\n",
       "    <tr>\n",
       "      <td>35</td>\n",
       "      <td>2015</td>\n",
       "      <td>323</td>\n",
       "      <td>606</td>\n",
       "      <td>1.876161</td>\n",
       "    </tr>\n",
       "    <tr>\n",
       "      <td>36</td>\n",
       "      <td>2016</td>\n",
       "      <td>279</td>\n",
       "      <td>502</td>\n",
       "      <td>1.799283</td>\n",
       "    </tr>\n",
       "  </tbody>\n",
       "</table>\n",
       "</div>"
      ],
      "text/plain": [
       "    year_of_release  number_of_game  number_of_game_platform  \\\n",
       "0              1980              25                       25   \n",
       "1              1981              46                       46   \n",
       "2              1982              36                       36   \n",
       "3              1983              14                       17   \n",
       "4              1984              13                       14   \n",
       "5              1985              39                       40   \n",
       "6              1986              21                       21   \n",
       "7              1987              15                       16   \n",
       "8              1988              15                       16   \n",
       "9              1989              12                       17   \n",
       "10             1990              15                       16   \n",
       "11             1991              38                       41   \n",
       "12             1992              41                       43   \n",
       "13             1993              60                       62   \n",
       "14             1994             116                      128   \n",
       "15             1995             208                      219   \n",
       "16             1996             250                      264   \n",
       "17             1997             269                      289   \n",
       "18             1998             345                      379   \n",
       "19             1999             292                      340   \n",
       "20             2000             345                      393   \n",
       "21             2001             415                      490   \n",
       "22             2002             574                      844   \n",
       "23             2003             492                      784   \n",
       "24             2004             525                      771   \n",
       "25             2005             640                      971   \n",
       "26             2006             756                     1038   \n",
       "27             2007             834                     1202   \n",
       "28             2008             980                     1441   \n",
       "29             2009             953                     1430   \n",
       "30             2010             857                     1269   \n",
       "31             2011             744                     1154   \n",
       "32             2012             403                      662   \n",
       "33             2013             292                      548   \n",
       "34             2014             278                      581   \n",
       "35             2015             323                      606   \n",
       "36             2016             279                      502   \n",
       "\n",
       "    games_on_platform_ratio  \n",
       "0                  1.000000  \n",
       "1                  1.000000  \n",
       "2                  1.000000  \n",
       "3                  1.214286  \n",
       "4                  1.076923  \n",
       "5                  1.025641  \n",
       "6                  1.000000  \n",
       "7                  1.066667  \n",
       "8                  1.066667  \n",
       "9                  1.416667  \n",
       "10                 1.066667  \n",
       "11                 1.078947  \n",
       "12                 1.048780  \n",
       "13                 1.033333  \n",
       "14                 1.103448  \n",
       "15                 1.052885  \n",
       "16                 1.056000  \n",
       "17                 1.074349  \n",
       "18                 1.098551  \n",
       "19                 1.164384  \n",
       "20                 1.139130  \n",
       "21                 1.180723  \n",
       "22                 1.470383  \n",
       "23                 1.593496  \n",
       "24                 1.468571  \n",
       "25                 1.517187  \n",
       "26                 1.373016  \n",
       "27                 1.441247  \n",
       "28                 1.470408  \n",
       "29                 1.500525  \n",
       "30                 1.480747  \n",
       "31                 1.551075  \n",
       "32                 1.642680  \n",
       "33                 1.876712  \n",
       "34                 2.089928  \n",
       "35                 1.876161  \n",
       "36                 1.799283  "
      ]
     },
     "metadata": {},
     "output_type": "display_data"
    }
   ],
   "source": [
    "# Сведение в одну таблицу и дополнительное вычисление\n",
    "games_by_year = games_by_year.merge(gp_by_year, on='year_of_release')\n",
    "games_by_year['games_on_platform_ratio']\\\n",
    "    = games_by_year['number_of_game_platform'] / games_by_year['number_of_game']\n",
    "display(games_by_year)"
   ]
  },
  {
   "cell_type": "code",
   "execution_count": 30,
   "id": "3eccd4c3",
   "metadata": {
    "scrolled": false
   },
   "outputs": [
    {
     "data": {
      "image/png": "[encoded data removed]",
      "text/plain": [
       "<Figure size 1152x504 with 1 Axes>"
      ]
     },
     "metadata": {
      "needs_background": "light"
     },
     "output_type": "display_data"
    }
   ],
   "source": [
    "games_by_year.plot(x='year_of_release', y=['number_of_game', 'number_of_game_platform'],\\\n",
    "                   label=['Количеств игр', 'Количество игроплатформ'],\\\n",
    "                   style='o-', title='Динамика выпуска игр', figsize=(16, 7))\n",
    "plt.legend(loc='upper left', fontsize='large')\n",
    "plt.xlabel('Анализируемый период - годы', fontsize='large')\n",
    "plt.ylabel('Количество игр, выпущенных за год, шт.');"
   ]
  },
  {
   "cell_type": "code",
   "execution_count": 31,
   "id": "952bbaba",
   "metadata": {},
   "outputs": [
    {
     "data": {
      "image/png": "[encoded data removed]",
      "text/plain": [
       "<Figure size 1152x360 with 1 Axes>"
      ]
     },
     "metadata": {
      "needs_background": "light"
     },
     "output_type": "display_data"
    }
   ],
   "source": [
    "games_by_year.plot(x='year_of_release', y='games_on_platform_ratio',\\\n",
    "                   style='o-', title='Динамика среднего количества платформ на одну игру', figsize=(16, 5))\n",
    "plt.xlabel('Анализируемый период - годы', fontsize='large')\n",
    "plt.ylabel('Коэффициент');"
   ]
  },
  {
   "cell_type": "markdown",
   "id": "d681958e",
   "metadata": {},
   "source": [
    "**Выводы**\n",
    "\n",
    "Анализ показал ускоряющуюся динамику с 1980 по 2008 год. После чего последовал \"провал\" в 2009-2012 года, после чего темпы выпуска новых игр опустились до уровня конца 1990-х годов. С 2013 года ситуация относитьельно стабильна (выпускается около 300 игр в год).\n",
    "\n",
    "Вместе с тем, по мере развития \"игорного\" дела на протяжении всего анализируемого периода увеличивается число платформ, на котором выпускается каждая игра. В период 2013-2016 годов он составляет около 1,8 (то есть каждая новая игра в среднем выпускается почти на двух платформах), что ведет к большему разнообразию предложения.\n",
    "\n",
    "В конечном итоге, период 2013-2016 годов характеризует актуальный уровень активности призводителей (разработчиков) в игровом деле."
   ]
  },
  {
   "cell_type": "markdown",
   "id": "d22691c0",
   "metadata": {},
   "source": [
    "### Продажи по годам"
   ]
  },
  {
   "cell_type": "code",
   "execution_count": 32,
   "id": "725909f2",
   "metadata": {
    "scrolled": true
   },
   "outputs": [
    {
     "data": {
      "image/png": "[encoded data removed]",
      "text/plain": [
       "<Figure size 1152x360 with 1 Axes>"
      ]
     },
     "metadata": {
      "needs_background": "light"
     },
     "output_type": "display_data"
    }
   ],
   "source": [
    "total_sales_by_years = data.pivot_table(index='year_of_release', values='total_sales', aggfunc='sum')\n",
    "\n",
    "total_sales_by_years.plot(style='o-', title='Динамика суммарных продаж игр', figsize=(16, 5))\n",
    "plt.legend(loc='upper left', fontsize='large')\n",
    "plt.grid()\n",
    "plt.xlabel('Анализируемый период - годы', fontsize='large')\n",
    "plt.ylabel('Количество игр, проданных за год, шт.');"
   ]
  },
  {
   "cell_type": "markdown",
   "id": "7a12837e",
   "metadata": {},
   "source": [
    "При анализе следует учесть, что данные за 2016 год неполные.\n",
    "\n",
    "**Выводы**\n",
    "1. Пик на рынке продаж компьютерных игр пришелся на 2005-2011 годы.\n",
    "2. С 2010 года наблюдается резкий спад, особенно по итогам 2012 года.\n",
    "3. 2013 год - остановка спада, после чего снижение продаж продолжается (и к кконцу анализируемого периода находится на уровне середины 1990-х годов)."
   ]
  },
  {
   "cell_type": "markdown",
   "id": "339d004d",
   "metadata": {},
   "source": [
    "### Продажи по платформам"
   ]
  },
  {
   "cell_type": "markdown",
   "id": "26b9e78f",
   "metadata": {},
   "source": [
    "Посмотрим, как менялись продажи по платформам."
   ]
  },
  {
   "cell_type": "code",
   "execution_count": 33,
   "id": "909e77b1",
   "metadata": {},
   "outputs": [],
   "source": [
    "platform_data = data.pivot_table(index='platform', columns='year_of_release', values='total_sales', aggfunc='sum').reset_index()\n",
    "platform_data = platform_data.fillna(0)\n",
    "platform_data.columns = platform_data.columns.map(lambda x: str(x)) # Преобразование названий колонок 'int' в 'str'\n",
    "platform_data['platform_total_sales'] = platform_data.loc[:, '1980':'2016'].sum(axis=1)\n",
    "# display(platform_data)"
   ]
  },
  {
   "cell_type": "markdown",
   "id": "4de4724b",
   "metadata": {},
   "source": [
    "На основе сводных данных выберем платформ с суммарными продажами свыше 500 млн копий и построим **распределение продаж по годам**."
   ]
  },
  {
   "cell_type": "code",
   "execution_count": 34,
   "id": "95aa9626",
   "metadata": {},
   "outputs": [
    {
     "name": "stdout",
     "output_type": "stream",
     "text": [
      "Продажи свыше 500 млн копий имеют 6 платформ из 31.\n"
     ]
    },
    {
     "data": {
      "text/html": [
       "<div>\n",
       "<style scoped>\n",
       "    .dataframe tbody tr th:only-of-type {\n",
       "        vertical-align: middle;\n",
       "    }\n",
       "\n",
       "    .dataframe tbody tr th {\n",
       "        vertical-align: top;\n",
       "    }\n",
       "\n",
       "    .dataframe thead th {\n",
       "        text-align: right;\n",
       "    }\n",
       "</style>\n",
       "<table border=\"1\" class=\"dataframe\">\n",
       "  <thead>\n",
       "    <tr style=\"text-align: right;\">\n",
       "      <th>year_of_release</th>\n",
       "      <th>platform</th>\n",
       "      <th>1980</th>\n",
       "      <th>1981</th>\n",
       "      <th>1982</th>\n",
       "      <th>1983</th>\n",
       "      <th>1984</th>\n",
       "      <th>1985</th>\n",
       "      <th>1986</th>\n",
       "      <th>1987</th>\n",
       "      <th>1988</th>\n",
       "      <th>...</th>\n",
       "      <th>2008</th>\n",
       "      <th>2009</th>\n",
       "      <th>2010</th>\n",
       "      <th>2011</th>\n",
       "      <th>2012</th>\n",
       "      <th>2013</th>\n",
       "      <th>2014</th>\n",
       "      <th>2015</th>\n",
       "      <th>2016</th>\n",
       "      <th>platform_total_sales</th>\n",
       "    </tr>\n",
       "  </thead>\n",
       "  <tbody>\n",
       "    <tr>\n",
       "      <td>0</td>\n",
       "      <td>DS</td>\n",
       "      <td>0.0</td>\n",
       "      <td>0.0</td>\n",
       "      <td>0.0</td>\n",
       "      <td>0.0</td>\n",
       "      <td>0.0</td>\n",
       "      <td>1.86</td>\n",
       "      <td>0.0</td>\n",
       "      <td>0.0</td>\n",
       "      <td>0.0</td>\n",
       "      <td>...</td>\n",
       "      <td>145.36</td>\n",
       "      <td>119.56</td>\n",
       "      <td>85.35</td>\n",
       "      <td>26.33</td>\n",
       "      <td>11.67</td>\n",
       "      <td>1.54</td>\n",
       "      <td>0.00</td>\n",
       "      <td>0.00</td>\n",
       "      <td>0.00</td>\n",
       "      <td>806.12</td>\n",
       "    </tr>\n",
       "    <tr>\n",
       "      <td>1</td>\n",
       "      <td>PS</td>\n",
       "      <td>0.0</td>\n",
       "      <td>0.0</td>\n",
       "      <td>0.0</td>\n",
       "      <td>0.0</td>\n",
       "      <td>0.0</td>\n",
       "      <td>0.00</td>\n",
       "      <td>0.0</td>\n",
       "      <td>0.0</td>\n",
       "      <td>0.0</td>\n",
       "      <td>...</td>\n",
       "      <td>0.00</td>\n",
       "      <td>0.00</td>\n",
       "      <td>0.00</td>\n",
       "      <td>0.00</td>\n",
       "      <td>0.00</td>\n",
       "      <td>0.00</td>\n",
       "      <td>0.00</td>\n",
       "      <td>0.00</td>\n",
       "      <td>0.00</td>\n",
       "      <td>730.86</td>\n",
       "    </tr>\n",
       "    <tr>\n",
       "      <td>2</td>\n",
       "      <td>PS2</td>\n",
       "      <td>0.0</td>\n",
       "      <td>0.0</td>\n",
       "      <td>0.0</td>\n",
       "      <td>0.0</td>\n",
       "      <td>0.0</td>\n",
       "      <td>0.00</td>\n",
       "      <td>0.0</td>\n",
       "      <td>0.0</td>\n",
       "      <td>0.0</td>\n",
       "      <td>...</td>\n",
       "      <td>53.90</td>\n",
       "      <td>26.40</td>\n",
       "      <td>5.64</td>\n",
       "      <td>0.45</td>\n",
       "      <td>0.00</td>\n",
       "      <td>0.00</td>\n",
       "      <td>0.00</td>\n",
       "      <td>0.00</td>\n",
       "      <td>0.00</td>\n",
       "      <td>1255.77</td>\n",
       "    </tr>\n",
       "    <tr>\n",
       "      <td>3</td>\n",
       "      <td>PS3</td>\n",
       "      <td>0.0</td>\n",
       "      <td>0.0</td>\n",
       "      <td>0.0</td>\n",
       "      <td>0.0</td>\n",
       "      <td>0.0</td>\n",
       "      <td>0.00</td>\n",
       "      <td>0.0</td>\n",
       "      <td>0.0</td>\n",
       "      <td>0.0</td>\n",
       "      <td>...</td>\n",
       "      <td>118.79</td>\n",
       "      <td>130.93</td>\n",
       "      <td>142.96</td>\n",
       "      <td>157.98</td>\n",
       "      <td>108.28</td>\n",
       "      <td>113.25</td>\n",
       "      <td>47.76</td>\n",
       "      <td>16.82</td>\n",
       "      <td>3.60</td>\n",
       "      <td>939.65</td>\n",
       "    </tr>\n",
       "    <tr>\n",
       "      <td>4</td>\n",
       "      <td>Wii</td>\n",
       "      <td>0.0</td>\n",
       "      <td>0.0</td>\n",
       "      <td>0.0</td>\n",
       "      <td>0.0</td>\n",
       "      <td>0.0</td>\n",
       "      <td>0.00</td>\n",
       "      <td>0.0</td>\n",
       "      <td>0.0</td>\n",
       "      <td>0.0</td>\n",
       "      <td>...</td>\n",
       "      <td>177.68</td>\n",
       "      <td>206.97</td>\n",
       "      <td>128.67</td>\n",
       "      <td>59.79</td>\n",
       "      <td>22.94</td>\n",
       "      <td>8.59</td>\n",
       "      <td>3.75</td>\n",
       "      <td>1.14</td>\n",
       "      <td>0.18</td>\n",
       "      <td>907.51</td>\n",
       "    </tr>\n",
       "    <tr>\n",
       "      <td>5</td>\n",
       "      <td>X360</td>\n",
       "      <td>0.0</td>\n",
       "      <td>0.0</td>\n",
       "      <td>0.0</td>\n",
       "      <td>0.0</td>\n",
       "      <td>0.0</td>\n",
       "      <td>0.00</td>\n",
       "      <td>0.0</td>\n",
       "      <td>0.0</td>\n",
       "      <td>0.0</td>\n",
       "      <td>...</td>\n",
       "      <td>136.07</td>\n",
       "      <td>120.82</td>\n",
       "      <td>170.55</td>\n",
       "      <td>145.23</td>\n",
       "      <td>100.72</td>\n",
       "      <td>88.58</td>\n",
       "      <td>34.74</td>\n",
       "      <td>11.96</td>\n",
       "      <td>1.52</td>\n",
       "      <td>971.42</td>\n",
       "    </tr>\n",
       "  </tbody>\n",
       "</table>\n",
       "<p>6 rows × 39 columns</p>\n",
       "</div>"
      ],
      "text/plain": [
       "year_of_release platform  1980  1981  1982  1983  1984  1985  1986  1987  \\\n",
       "0                     DS   0.0   0.0   0.0   0.0   0.0  1.86   0.0   0.0   \n",
       "1                     PS   0.0   0.0   0.0   0.0   0.0  0.00   0.0   0.0   \n",
       "2                    PS2   0.0   0.0   0.0   0.0   0.0  0.00   0.0   0.0   \n",
       "3                    PS3   0.0   0.0   0.0   0.0   0.0  0.00   0.0   0.0   \n",
       "4                    Wii   0.0   0.0   0.0   0.0   0.0  0.00   0.0   0.0   \n",
       "5                   X360   0.0   0.0   0.0   0.0   0.0  0.00   0.0   0.0   \n",
       "\n",
       "year_of_release  1988  ...    2008    2009    2010    2011    2012    2013  \\\n",
       "0                 0.0  ...  145.36  119.56   85.35   26.33   11.67    1.54   \n",
       "1                 0.0  ...    0.00    0.00    0.00    0.00    0.00    0.00   \n",
       "2                 0.0  ...   53.90   26.40    5.64    0.45    0.00    0.00   \n",
       "3                 0.0  ...  118.79  130.93  142.96  157.98  108.28  113.25   \n",
       "4                 0.0  ...  177.68  206.97  128.67   59.79   22.94    8.59   \n",
       "5                 0.0  ...  136.07  120.82  170.55  145.23  100.72   88.58   \n",
       "\n",
       "year_of_release   2014   2015  2016  platform_total_sales  \n",
       "0                 0.00   0.00  0.00                806.12  \n",
       "1                 0.00   0.00  0.00                730.86  \n",
       "2                 0.00   0.00  0.00               1255.77  \n",
       "3                47.76  16.82  3.60                939.65  \n",
       "4                 3.75   1.14  0.18                907.51  \n",
       "5                34.74  11.96  1.52                971.42  \n",
       "\n",
       "[6 rows x 39 columns]"
      ]
     },
     "metadata": {},
     "output_type": "display_data"
    }
   ],
   "source": [
    "sales_over_500 = platform_data.loc[platform_data['platform_total_sales'] > 500].reset_index(drop=True)\n",
    "print(f'Продажи свыше 500 млн копий имеют {len(sales_over_500)} платформ из {len(platform_data)}.')\n",
    "display(sales_over_500)"
   ]
  },
  {
   "cell_type": "code",
   "execution_count": 35,
   "id": "66862314",
   "metadata": {},
   "outputs": [
    {
     "data": {
      "image/png": "[encoded data removed]",
      "text/plain": [
       "<Figure size 1152x360 with 1 Axes>"
      ]
     },
     "metadata": {
      "needs_background": "light"
     },
     "output_type": "display_data"
    }
   ],
   "source": [
    "# Подготовка данных\n",
    "sales_over_500 = sales_over_500.set_index('platform')\n",
    "sales_over_500 = sales_over_500.drop(columns='platform_total_sales')\n",
    "sales_over_500 = sales_over_500.transpose()\n",
    "# display(sales_over_500)\n",
    "\n",
    "sales_over_500.plot(style='o-', title='Динамика продаж по наиболее популярным платформам', figsize=(16, 5))\n",
    "plt.legend(loc='upper left', fontsize='large')\n",
    "plt.xlabel('Анализируемый период - годы', fontsize='large')\n",
    "plt.ylabel('Количество игр, выпущенных за год, шт.');"
   ]
  },
  {
   "cell_type": "markdown",
   "id": "aa0ad207",
   "metadata": {},
   "source": [
    "Наиболее популярные платформы имеют примерно схожий график жизненноого цикла. Ускоренный рост продаж в начальный период, замедление, достижение максимума, после чего ускоряющийся спад продаж, но к самому концу жизненного цикла скорость спада замедляется (видимо, в это время еще остаются \"консервативные\" покупатели игр на данной платформе).\n",
    "\n",
    "В сущности, график продаж большинства игр на популярных платформах имет колоколообразный вид. Распределение продаж по годам схоже с Гауссовым. Хотя, конечно, есть и явные отклонения от классического вида.\n",
    "\n",
    "Исключение составляет платформа DS, продажи игр на основе которой начались неудачно (в 1985 году продано менее 2 млн экземпляров), но через 20 лет производители вернулись к этой платформе и добились признания и успеха."
   ]
  },
  {
   "cell_type": "markdown",
   "id": "d0abb400",
   "metadata": {},
   "source": [
    "Рассчитаем медианную **длительность жизненного цикла платформы**. Для этого возьмем только те из платформ, которые уже завершили свой жизненный цикл, т.е. не продавались в 2016 году (было продано менее 1 млн копий) при этом общие продажи учитываемых платформ за весь период составили более 1 млн копий (отсечение малозначимых платформ)."
   ]
  },
  {
   "cell_type": "code",
   "execution_count": 36,
   "id": "be3d7c20",
   "metadata": {},
   "outputs": [
    {
     "data": {
      "text/plain": [
       "count    19.000000\n",
       "mean      7.473684\n",
       "std       3.306029\n",
       "min       1.000000\n",
       "25%       5.500000\n",
       "50%       8.000000\n",
       "75%      10.000000\n",
       "max      12.000000\n",
       "Name: years_of_live, dtype: float64"
      ]
     },
     "execution_count": 36,
     "metadata": {},
     "output_type": "execute_result"
    }
   ],
   "source": [
    "platform_data_stoped = platform_data.loc[(platform_data['2016'] < 1) & (platform_data['platform_total_sales'] > 1)].reset_index()\n",
    "\n",
    "# Расчет количества лет в продаже. 36 - полное количество лет в базе данных с 1980 по 2015 включительно..\n",
    "platform_data_stoped['years_of_live'] = 36 - platform_data_stoped.loc[:, '1980':'2016'].eq(0.0).sum(axis=1)\n",
    "platform_data_stoped['years_of_live'].describe()"
   ]
  },
  {
   "cell_type": "markdown",
   "id": "cec204fb",
   "metadata": {},
   "source": [
    "Таким образом, средняя длительность жизненного цикла игровой платформы (в период 1980-2015 гг.) составляла 7,5 лет, мединанная - 8 лет. \"Долгожители\" дотягивали до 12 лет, а \"однодневки\" сгорали за год."
   ]
  },
  {
   "cell_type": "markdown",
   "id": "2ca57803",
   "metadata": {},
   "source": [
    "### Определение актуального периода для прогноза"
   ]
  },
  {
   "cell_type": "markdown",
   "id": "4265bb51",
   "metadata": {},
   "source": [
    "Ранее, в ходе анализа динамики продаж, установлено, что после существенного падения активности производителей в 2009-2012 гг. он стабилизировался, и в период 2013-2016 гг. существенных колебаний не отмечается. \n",
    "\n",
    "Важны три обстоятельства:\n",
    "* разработка (выпуск) игр стабилизировались на сравнительно низком уровне (резкое сжатие прекратилось),\n",
    "* понижательная динамика по тенденции 2013-2016 гг. незначительная,\n",
    "* снижение выпуска в 2016 г. по сравнению с 2015 г. составило около 5%, но это не неполных данных, так что снижения, скорее всего, в 2016 г. нет.\n",
    "\n",
    "Таким образом, в 2013-2016 гг. выпуск игр стабилен.\n",
    "\n",
    "Вместе с тем, продажи в этот период явно снижаются. Рынок сжался более чем в 1,5 раза (с учетом неполных данных за 2016 год). Вместе со стабильным выпуском новинок эти обстоятельства свидетельствуют о росте конкуренции на рынке и, следовательно, снижении рентабельности бизнеса. Значит, вероятность появления принципиально новых платформ невелика, а перспективы имеет модернизация действующих платформ.\n",
    "\n",
    "В итоге, период 2013-2016 гг. стабилен по величине выпуска и имеет однонаправленную стабильную динамику сжатия по продажам. В этом плане можно считать его однородным и пригодным для выбора в качестве периода для прогноза.\n",
    "\n",
    "Кроме того подкрепим выбор следующими обстоятельствами.\n",
    "1. Этот 4-летний период соответствует примерно половине длительности жизненного цикла платформы, что позволяет обоснованно использовать тенденции этого периода в данном конкретном анализе. \n",
    "2. Соотношение длительностей горизонта прогнозирования (в работе 1 год) и фактических данных прошлых периодов (4 года) на уровне 1:4 соответствует классическим подходам в прогнозировании."
   ]
  },
  {
   "cell_type": "markdown",
   "id": "13a2aa4f",
   "metadata": {},
   "source": [
    "### Анализ актуальной динамики платформ (2013-2016 гг.)"
   ]
  },
  {
   "cell_type": "code",
   "execution_count": 37,
   "id": "592b7365",
   "metadata": {
    "scrolled": false
   },
   "outputs": [
    {
     "data": {
      "text/html": [
       "<div>\n",
       "<style scoped>\n",
       "    .dataframe tbody tr th:only-of-type {\n",
       "        vertical-align: middle;\n",
       "    }\n",
       "\n",
       "    .dataframe tbody tr th {\n",
       "        vertical-align: top;\n",
       "    }\n",
       "\n",
       "    .dataframe thead th {\n",
       "        text-align: right;\n",
       "    }\n",
       "</style>\n",
       "<table border=\"1\" class=\"dataframe\">\n",
       "  <thead>\n",
       "    <tr style=\"text-align: right;\">\n",
       "      <th>year_of_release</th>\n",
       "      <th>2013</th>\n",
       "      <th>2014</th>\n",
       "      <th>2015</th>\n",
       "      <th>2016</th>\n",
       "      <th>total_sales_2013_2016</th>\n",
       "      <th>market_share_2015</th>\n",
       "    </tr>\n",
       "    <tr>\n",
       "      <th>platform</th>\n",
       "      <th></th>\n",
       "      <th></th>\n",
       "      <th></th>\n",
       "      <th></th>\n",
       "      <th></th>\n",
       "      <th></th>\n",
       "    </tr>\n",
       "  </thead>\n",
       "  <tbody>\n",
       "    <tr>\n",
       "      <td>3DS</td>\n",
       "      <td>56.57</td>\n",
       "      <td>43.76</td>\n",
       "      <td>27.78</td>\n",
       "      <td>15.14</td>\n",
       "      <td>143.25</td>\n",
       "      <td>10.366445</td>\n",
       "    </tr>\n",
       "    <tr>\n",
       "      <td>DS</td>\n",
       "      <td>1.54</td>\n",
       "      <td>0.00</td>\n",
       "      <td>0.00</td>\n",
       "      <td>0.00</td>\n",
       "      <td>1.54</td>\n",
       "      <td>0.000000</td>\n",
       "    </tr>\n",
       "    <tr>\n",
       "      <td>PC</td>\n",
       "      <td>13.01</td>\n",
       "      <td>13.28</td>\n",
       "      <td>8.52</td>\n",
       "      <td>5.25</td>\n",
       "      <td>40.06</td>\n",
       "      <td>3.179342</td>\n",
       "    </tr>\n",
       "    <tr>\n",
       "      <td>PS3</td>\n",
       "      <td>113.25</td>\n",
       "      <td>47.76</td>\n",
       "      <td>16.82</td>\n",
       "      <td>3.60</td>\n",
       "      <td>181.43</td>\n",
       "      <td>6.276588</td>\n",
       "    </tr>\n",
       "    <tr>\n",
       "      <td>PS4</td>\n",
       "      <td>25.99</td>\n",
       "      <td>100.00</td>\n",
       "      <td>118.90</td>\n",
       "      <td>69.25</td>\n",
       "      <td>314.14</td>\n",
       "      <td>44.368983</td>\n",
       "    </tr>\n",
       "    <tr>\n",
       "      <td>PSP</td>\n",
       "      <td>3.38</td>\n",
       "      <td>0.24</td>\n",
       "      <td>0.12</td>\n",
       "      <td>0.00</td>\n",
       "      <td>3.74</td>\n",
       "      <td>0.044779</td>\n",
       "    </tr>\n",
       "    <tr>\n",
       "      <td>PSV</td>\n",
       "      <td>10.59</td>\n",
       "      <td>11.90</td>\n",
       "      <td>6.25</td>\n",
       "      <td>4.25</td>\n",
       "      <td>32.99</td>\n",
       "      <td>2.332264</td>\n",
       "    </tr>\n",
       "    <tr>\n",
       "      <td>Wii</td>\n",
       "      <td>8.59</td>\n",
       "      <td>3.75</td>\n",
       "      <td>1.14</td>\n",
       "      <td>0.18</td>\n",
       "      <td>13.66</td>\n",
       "      <td>0.425405</td>\n",
       "    </tr>\n",
       "    <tr>\n",
       "      <td>WiiU</td>\n",
       "      <td>21.65</td>\n",
       "      <td>22.03</td>\n",
       "      <td>16.35</td>\n",
       "      <td>4.60</td>\n",
       "      <td>64.63</td>\n",
       "      <td>6.101202</td>\n",
       "    </tr>\n",
       "    <tr>\n",
       "      <td>X360</td>\n",
       "      <td>88.58</td>\n",
       "      <td>34.74</td>\n",
       "      <td>11.96</td>\n",
       "      <td>1.52</td>\n",
       "      <td>136.80</td>\n",
       "      <td>4.463020</td>\n",
       "    </tr>\n",
       "    <tr>\n",
       "      <td>XOne</td>\n",
       "      <td>18.96</td>\n",
       "      <td>54.07</td>\n",
       "      <td>60.14</td>\n",
       "      <td>26.15</td>\n",
       "      <td>159.32</td>\n",
       "      <td>22.441973</td>\n",
       "    </tr>\n",
       "  </tbody>\n",
       "</table>\n",
       "</div>"
      ],
      "text/plain": [
       "year_of_release    2013    2014    2015   2016  total_sales_2013_2016  \\\n",
       "platform                                                                \n",
       "3DS               56.57   43.76   27.78  15.14                 143.25   \n",
       "DS                 1.54    0.00    0.00   0.00                   1.54   \n",
       "PC                13.01   13.28    8.52   5.25                  40.06   \n",
       "PS3              113.25   47.76   16.82   3.60                 181.43   \n",
       "PS4               25.99  100.00  118.90  69.25                 314.14   \n",
       "PSP                3.38    0.24    0.12   0.00                   3.74   \n",
       "PSV               10.59   11.90    6.25   4.25                  32.99   \n",
       "Wii                8.59    3.75    1.14   0.18                  13.66   \n",
       "WiiU              21.65   22.03   16.35   4.60                  64.63   \n",
       "X360              88.58   34.74   11.96   1.52                 136.80   \n",
       "XOne              18.96   54.07   60.14  26.15                 159.32   \n",
       "\n",
       "year_of_release  market_share_2015  \n",
       "platform                            \n",
       "3DS                      10.366445  \n",
       "DS                        0.000000  \n",
       "PC                        3.179342  \n",
       "PS3                       6.276588  \n",
       "PS4                      44.368983  \n",
       "PSP                       0.044779  \n",
       "PSV                       2.332264  \n",
       "Wii                       0.425405  \n",
       "WiiU                      6.101202  \n",
       "X360                      4.463020  \n",
       "XOne                     22.441973  "
      ]
     },
     "metadata": {},
     "output_type": "display_data"
    }
   ],
   "source": [
    "# Формирование таблицы\n",
    "data_4_years = data.loc[data['year_of_release'] >= 2013]\n",
    "platforms_4_years = data_4_years.pivot_table(index='platform',\\\n",
    "                                             columns='year_of_release', values='total_sales', aggfunc='sum').fillna(0)\n",
    "\n",
    "# Расчет дополнительных данных\n",
    "platforms_4_years['total_sales_2013_2016'] = platforms_4_years.loc[:, 2013:2016].sum(axis=1)\n",
    "\n",
    "total_sales_2015 = platforms_4_years[2015].sum()\n",
    "platforms_4_years['market_share_2015'] = platforms_4_years[2015] / total_sales_2015 * 100\n",
    "\n",
    "\n",
    "platforms_4_years.columns = platforms_4_years.columns.map(lambda x: str(x)) # Преобразование названий колонок 'int' в 'str'\n",
    "\n",
    "display(platforms_4_years)"
   ]
  },
  {
   "cell_type": "markdown",
   "id": "edfb291a",
   "metadata": {},
   "source": [
    "На основе полученных данных констатируем следующее.\n",
    "1. новые платформы с 2013 года не появалялись, выпуск новых игр ведется на ранее созданных платформах,\n",
    "2. завершили свой жизненный цикл и более не продаются: DS, PSP,\n",
    "3. находятся на спаде жизненного цикла: 3DS, PS, PS3, Wii, WiiU, X360,\n",
    "4. сохраняют потенциал на несколько лет: PS4, XOne,\n",
    "5. ни одна из платформ не находится на этапе подъема или пика жизненного цикла (PS4 и XOne только начали отход от пика),\n",
    "6. лидируют по продажам PS4 (рыночная доля по итогам 2015 года 44%), XOne (22%) и 3DS (10%).\n",
    "7. происходит монополизация и стандартизация рынка платформ: три из одиннадцатьи платформ занимают более 75% рынка.\n",
    "\n",
    "С учетом данных констатаций потенциально прибыльными могут быть последующие поколения PS4 и XOne. "
   ]
  },
  {
   "cell_type": "markdown",
   "id": "0916ab41",
   "metadata": {},
   "source": [
    "### Распределение глобальных продаж игр"
   ]
  },
  {
   "cell_type": "code",
   "execution_count": 38,
   "id": "7745f18e",
   "metadata": {},
   "outputs": [
    {
     "data": {
      "text/plain": [
       "count     11.000000\n",
       "mean      99.232727\n",
       "std       97.454148\n",
       "min        1.540000\n",
       "25%       23.325000\n",
       "50%       64.630000\n",
       "75%      151.285000\n",
       "max      314.140000\n",
       "Name: total_sales_2013_2016, dtype: float64"
      ]
     },
     "execution_count": 38,
     "metadata": {},
     "output_type": "execute_result"
    }
   ],
   "source": [
    "platforms_4_years['total_sales_2013_2016'].describe()"
   ]
  },
  {
   "cell_type": "markdown",
   "id": "a6531bfc",
   "metadata": {},
   "source": [
    "Построим \"ящик\" с усами по продажам игр за 4 года - продажи платформ."
   ]
  },
  {
   "cell_type": "code",
   "execution_count": 39,
   "id": "ae1116a0",
   "metadata": {},
   "outputs": [
    {
     "data": {
      "image/png": "[encoded data removed]",
      "text/plain": [
       "<Figure size 360x360 with 1 Axes>"
      ]
     },
     "metadata": {
      "needs_background": "light"
     },
     "output_type": "display_data"
    }
   ],
   "source": [
    "fig = plt.figure(figsize =(5, 5))\n",
    "plt.ylabel('Объемы продаж, млн экз.', fontsize='large')\n",
    "plt.boxplot(platforms_4_years['total_sales_2013_2016'], labels=['2013-2016']);"
   ]
  },
  {
   "cell_type": "markdown",
   "id": "24dffe82",
   "metadata": {},
   "source": [
    "Примечательно, что выбросов нет вообще, распределение сильно скошено влево (и медианное значение находится значительно левее, чем среднее). Это говорит о том, что несколько платформ с высокими продажами оказывают существенное влияние на рынок. При этом большинство платформ довольствуются малыми и средними продажами.\n",
    "\n",
    "Далее посмотрим на \"ящики с усами\" в динамике по годам."
   ]
  },
  {
   "cell_type": "code",
   "execution_count": 40,
   "id": "aae4b3d7",
   "metadata": {},
   "outputs": [
    {
     "data": {
      "image/png": "[encoded data removed]",
      "text/plain": [
       "<Figure size 864x432 with 1 Axes>"
      ]
     },
     "metadata": {
      "needs_background": "light"
     },
     "output_type": "display_data"
    }
   ],
   "source": [
    "platforms_4_years_for_box = platforms_4_years.loc[:, '2013':'2016']\n",
    "platforms_4_years_for_box = platforms_4_years_for_box.transpose()\n",
    "# display(platforms_4_years_for_box)\n",
    "\n",
    "fig = plt.figure(figsize =(12, 6))\n",
    "plt.xlabel('Анализируемый период - годы', fontsize='large')\n",
    "plt.ylabel('Объемы продаж, млн экз.', fontsize='large')\n",
    "plt.boxplot(platforms_4_years_for_box, labels=['2013', '2014', '2015', '2016']);"
   ]
  },
  {
   "cell_type": "markdown",
   "id": "915a9195",
   "metadata": {},
   "source": [
    "В 2015 и 2016 годах две платформы (PS4 и XOne) вырвались за пределы \"усов\". Они стали яроковыраженными лидерами рынка. В 2013 году такие же позиции были у PS3 (X360 оказалась на границе выброса, но всё-таки внутри верхнего предела полутораквартильного расстояния от 3-го квартиля). В 2014 году статистически значимых (на уровне выбросов) лидеров не было.\n",
    "\n",
    "Для итога же важно, что и с точки зрения статистического анализа PS4 и XOne стали доминирующими платформами в 2015 и 2016 гг."
   ]
  },
  {
   "cell_type": "markdown",
   "id": "865c6552",
   "metadata": {},
   "source": [
    "**«Ящик с усами» по глобальным продажам игр в разбивке по платформам**"
   ]
  },
  {
   "cell_type": "markdown",
   "id": "762fe57f",
   "metadata": {},
   "source": [
    "Для статистического анализа результатов глобальных продаж игр отберем те из них, кторые характеризуются наиболее значимыми продажами (более 100 млн экз. за те 4 года в период 2013-2016 гг.): "
   ]
  },
  {
   "cell_type": "code",
   "execution_count": 41,
   "id": "4c49089f",
   "metadata": {},
   "outputs": [
    {
     "data": {
      "text/plain": [
       "['3DS', 'PS3', 'PS4', 'X360', 'XOne']"
      ]
     },
     "metadata": {},
     "output_type": "display_data"
    }
   ],
   "source": [
    "platforms_for_boxplot = platforms_4_years.loc[platforms_4_years['total_sales_2013_2016'] > 100].reset_index()\n",
    "platforms_for_boxplot = list(platforms_for_boxplot['platform'])\n",
    "display(platforms_for_boxplot)"
   ]
  },
  {
   "cell_type": "code",
   "execution_count": 42,
   "id": "cff30d3f",
   "metadata": {
    "scrolled": false
   },
   "outputs": [
    {
     "name": "stderr",
     "output_type": "stream",
     "text": [
      "/opt/conda/lib/python3.7/site-packages/numpy/core/_asarray.py:83: VisibleDeprecationWarning: Creating an ndarray from ragged nested sequences (which is a list-or-tuple of lists-or-tuples-or ndarrays with different lengths or shapes) is deprecated. If you meant to do this, you must specify 'dtype=object' when creating the ndarray\n",
      "  return array(a, dtype, copy=False, order=order)\n"
     ]
    },
    {
     "data": {
      "image/png": "[encoded data removed]",
      "text/plain": [
       "<Figure size 864x432 with 1 Axes>"
      ]
     },
     "metadata": {
      "needs_background": "light"
     },
     "output_type": "display_data"
    }
   ],
   "source": [
    "data_4_years_main = data_4_years.query('platform == @platforms_for_boxplot') # Отбор \"главных\" платформ\n",
    "\n",
    "data_for_boxplot = data_4_years_main.pivot_table(index=['platform', 'name'], values='total_sales').reset_index()\n",
    "data_for_boxplot = data_for_boxplot.drop(columns=['name'])\n",
    "# display(data_for_boxplot)\n",
    "data_for_boxplot.boxplot(by=\"platform\", figsize =(12, 6));"
   ]
  },
  {
   "cell_type": "code",
   "execution_count": 43,
   "id": "f900a856",
   "metadata": {
    "scrolled": false
   },
   "outputs": [
    {
     "name": "stderr",
     "output_type": "stream",
     "text": [
      "/opt/conda/lib/python3.7/site-packages/numpy/core/_asarray.py:83: VisibleDeprecationWarning: Creating an ndarray from ragged nested sequences (which is a list-or-tuple of lists-or-tuples-or ndarrays with different lengths or shapes) is deprecated. If you meant to do this, you must specify 'dtype=object' when creating the ndarray\n",
      "  return array(a, dtype, copy=False, order=order)\n"
     ]
    },
    {
     "data": {
      "image/png": "[encoded data removed]",
      "text/plain": [
       "<Figure size 864x432 with 1 Axes>"
      ]
     },
     "metadata": {
      "needs_background": "light"
     },
     "output_type": "display_data"
    }
   ],
   "source": [
    "data_for_boxplot.boxplot(by=\"platform\", showfliers=False, figsize =(12, 6));"
   ]
  },
  {
   "cell_type": "markdown",
   "id": "8d06705f",
   "metadata": {},
   "source": [
    "Характер распределения продаж во всех основных активно продававшихся в 2013-2016 гг. платформах примерно одинаков. Скошенность вправо выражена предельно явно. Подавляющее большинство игр продаются в относительно небольших количествах (имеют сравнительно малые тиражи). По мере роста числа продаж, количество таких, коммерчески более удачных, игр синжается. Вместе с тем, именно в \"выбросы\" попадают наиболее удачные, с рыночной точки зрения, игры.\n",
    "\n",
    "Также видно, что наибольшим рыночным успехом в период 2013-2016 гг. пользовались игры, созданные на платфолрмах PS3, X360 и 3DX (по одной игре на каждой из платформ превысили 14 млн продаж). Но надо помнить, что X360, как было определено выше, уже находится на излете жизненного цикла.\n",
    "\n",
    "Важно и то, что только на платформах 3DS, PS4 и X360 целых две игры превысили уровень продаж в 10 млн экз."
   ]
  },
  {
   "cell_type": "markdown",
   "id": "e2597f0b",
   "metadata": {},
   "source": [
    "**«Ящик с усами» по глобальным продажам наиболее популярных платформ**"
   ]
  },
  {
   "cell_type": "markdown",
   "id": "ad287687",
   "metadata": {},
   "source": [
    "Рассмотрим распределение продаж в динамике по наиболее перспективной и массовой PS4 и несколько отстающей от нее XOne. которая уже прошла свой пик продаж.\n",
    "\n",
    "Сначала **PS4**"
   ]
  },
  {
   "cell_type": "code",
   "execution_count": 44,
   "id": "5c0682c7",
   "metadata": {},
   "outputs": [
    {
     "name": "stderr",
     "output_type": "stream",
     "text": [
      "/opt/conda/lib/python3.7/site-packages/numpy/core/_asarray.py:83: VisibleDeprecationWarning: Creating an ndarray from ragged nested sequences (which is a list-or-tuple of lists-or-tuples-or ndarrays with different lengths or shapes) is deprecated. If you meant to do this, you must specify 'dtype=object' when creating the ndarray\n",
      "  return array(a, dtype, copy=False, order=order)\n"
     ]
    },
    {
     "data": {
      "image/png": "[encoded data removed]",
      "text/plain": [
       "<Figure size 864x360 with 1 Axes>"
      ]
     },
     "metadata": {
      "needs_background": "light"
     },
     "output_type": "display_data"
    }
   ],
   "source": [
    "platform_dyn = data.query('platform==\"PS4\" and year_of_release > 2012')\n",
    "platform_dyn_fig = platform_dyn.filter(['year_of_release', 'total_sales'], axis=1)\n",
    "platform_dyn_fig.boxplot(by=\"year_of_release\", figsize =(12, 5));"
   ]
  },
  {
   "cell_type": "markdown",
   "id": "fc5eb49f",
   "metadata": {},
   "source": [
    "Затем **XOne**"
   ]
  },
  {
   "cell_type": "code",
   "execution_count": 45,
   "id": "b36ec634",
   "metadata": {},
   "outputs": [
    {
     "name": "stderr",
     "output_type": "stream",
     "text": [
      "/opt/conda/lib/python3.7/site-packages/numpy/core/_asarray.py:83: VisibleDeprecationWarning: Creating an ndarray from ragged nested sequences (which is a list-or-tuple of lists-or-tuples-or ndarrays with different lengths or shapes) is deprecated. If you meant to do this, you must specify 'dtype=object' when creating the ndarray\n",
      "  return array(a, dtype, copy=False, order=order)\n"
     ]
    },
    {
     "data": {
      "image/png": "[encoded data removed]",
      "text/plain": [
       "<Figure size 864x360 with 1 Axes>"
      ]
     },
     "metadata": {
      "needs_background": "light"
     },
     "output_type": "display_data"
    }
   ],
   "source": [
    "platform_dyn = data.query('platform==\"XOne\" and year_of_release > 2012')\n",
    "platform_dyn_fig = platform_dyn.filter(['year_of_release', 'total_sales'], axis=1)\n",
    "platform_dyn_fig.boxplot(by=\"year_of_release\", figsize =(12, 5));"
   ]
  },
  {
   "cell_type": "markdown",
   "id": "38cee96b",
   "metadata": {},
   "source": [
    "В динамике обе платформы демонстрируют схлжие особенности в развитии.\n",
    "1. Начальный период характеризуется тем, что разброс в популярности (продажах) новых игр на платформе не слишком велик (выбросов нет вообще, а продажи наиболее удачных игр отличаются от медианы в разы, но не на порядок).\n",
    "2. Далее следуют два года наиболее динамичного развития. В это время создаются игры, которые продаются тиражами в 10 и более раз превосходящими медианные значения. Коммерческий успех становится проявлением статистического \"выброса\": чем дальше выброс, тем сильнее игра оторвалась от соплатформенных конкурентов.\n",
    "3. Четвертый год в обоих случаях стал годом сжатия. С одной стороны, это может объяснятся неполнотой данных за 2016 год. Но с другой стороны, есть непроверенные сведения, что база 2016 года сформирована по состоянию на 222 декабря. В итоге мы можем лишь констатировать, что после двух лет яркого роста наблюдается торможение и, возможно, снижение результатов не только лидеров, но и основной массы новых игр."
   ]
  },
  {
   "cell_type": "markdown",
   "id": "25af633c",
   "metadata": {},
   "source": [
    "### Связь между продажами платформ и отзывами пользователей и критиков"
   ]
  },
  {
   "cell_type": "markdown",
   "id": "2a014e74",
   "metadata": {},
   "source": [
    "#### Расчет по наиболее популярной платформе\n",
    "\n",
    "В качестве популярной платформы примем для анализа корреляций PS4."
   ]
  },
  {
   "cell_type": "code",
   "execution_count": 46,
   "id": "a8d9de97",
   "metadata": {},
   "outputs": [
    {
     "data": {
      "text/plain": [
       "2016    164\n",
       "2015    137\n",
       "2014     75\n",
       "2013     16\n",
       "Name: year_of_release, dtype: int64"
      ]
     },
     "execution_count": 46,
     "metadata": {},
     "output_type": "execute_result"
    }
   ],
   "source": [
    "data.loc[data['platform'] == 'PS4', 'year_of_release'].value_counts()"
   ]
  },
  {
   "cell_type": "markdown",
   "id": "fa2ad317",
   "metadata": {},
   "source": [
    "Игры на платформе начали продпаваться в 2013 году. Четыре года - тот самый период, который ранее был принят для анализа.\n",
    "\n",
    "Расчеты проведем по \"чистым\" данным, не искаженным заполнением пропусков на основании косвенных признаков.\n",
    "\n",
    "*Технические коды для отсечки отсутствующих оценок: 0, 100 (для пользователей) и 500 (для критиков)*."
   ]
  },
  {
   "cell_type": "markdown",
   "id": "295dfc36",
   "metadata": {},
   "source": [
    "Расчет по **отзывам пользователей**"
   ]
  },
  {
   "cell_type": "code",
   "execution_count": 47,
   "id": "d3119e5f",
   "metadata": {},
   "outputs": [
    {
     "name": "stdout",
     "output_type": "stream",
     "text": [
      "Коэффициент корреляции: -0.031957110204556424\n",
      "Размер выборки: 257\n"
     ]
    },
    {
     "data": {
      "image/png": "[encoded data removed]",
      "text/plain": [
       "<Figure size 432x288 with 1 Axes>"
      ]
     },
     "metadata": {
      "needs_background": "light"
     },
     "output_type": "display_data"
    }
   ],
   "source": [
    "data_ps4_users = data.loc[(data['platform'] == 'PS4') & (data['user_score'] > 0) & (data['user_score'] < 100)]\n",
    "\n",
    "corr = data_ps4_users['user_score'].corr(data_ps4_users['total_sales'])\n",
    "print(f'Коэффициент корреляции: {corr}')\n",
    "\n",
    "dimension = len(data_ps4_users['total_sales'])\n",
    "print(f'Размер выборки: {dimension}')\n",
    "\n",
    "data_ps4_users.plot(x='user_score', y='total_sales', kind='scatter', alpha=0.5);"
   ]
  },
  {
   "cell_type": "code",
   "execution_count": 48,
   "id": "2f981e79",
   "metadata": {},
   "outputs": [
    {
     "data": {
      "text/plain": [
       "count    257.000000\n",
       "mean       6.748249\n",
       "std        1.459481\n",
       "min        1.500000\n",
       "25%        6.100000\n",
       "50%        7.000000\n",
       "75%        7.800000\n",
       "max        9.200000\n",
       "Name: user_score, dtype: float64"
      ]
     },
     "execution_count": 48,
     "metadata": {},
     "output_type": "execute_result"
    }
   ],
   "source": [
    "data_ps4_users['user_score'].describe()"
   ]
  },
  {
   "cell_type": "markdown",
   "id": "a6299840",
   "metadata": {},
   "source": [
    "Расчет по **оценкам критиков**"
   ]
  },
  {
   "cell_type": "code",
   "execution_count": 49,
   "id": "b53e19aa",
   "metadata": {},
   "outputs": [
    {
     "name": "stdout",
     "output_type": "stream",
     "text": [
      "Коэффициент корреляции: 0.40656790206178095\n"
     ]
    },
    {
     "data": {
      "image/png": "[encoded data removed]",
      "text/plain": [
       "<Figure size 432x288 with 1 Axes>"
      ]
     },
     "metadata": {
      "needs_background": "light"
     },
     "output_type": "display_data"
    }
   ],
   "source": [
    "data_ps4_critic = data.loc[(data['platform'] == 'PS4') & (data['critic_score'] > 0) & (data['critic_score'] < 500)]\n",
    "\n",
    "corr = data_ps4_critic['critic_score'].corr(data_ps4_critic['total_sales'])\n",
    "print(f'Коэффициент корреляции: {corr}')\n",
    "\n",
    "data_ps4_critic.plot(x='critic_score', y='total_sales', kind='scatter', alpha=0.5);"
   ]
  },
  {
   "cell_type": "code",
   "execution_count": 50,
   "id": "702ae387",
   "metadata": {},
   "outputs": [
    {
     "data": {
      "text/plain": [
       "count    257.00000\n",
       "mean      69.88716\n",
       "std       17.61078\n",
       "min        0.00000\n",
       "25%       65.00000\n",
       "50%       73.00000\n",
       "75%       80.00000\n",
       "max       97.00000\n",
       "Name: critic_score, dtype: float64"
      ]
     },
     "execution_count": 50,
     "metadata": {},
     "output_type": "execute_result"
    }
   ],
   "source": [
    "data_ps4_users['critic_score'].describe()"
   ]
  },
  {
   "cell_type": "markdown",
   "id": "cc26eb1d",
   "metadata": {},
   "source": [
    "**Констатации**\n",
    "\n",
    "1. Корреляции между отзывами пользователей и продажами нет. Половина оценок лежит в диапазоне от 6,1 до 7,8 по 10-балльной шкале.\n",
    "2. Корреляция между оценками критиков и продажами есть. Она не абсолютна, но вполне отчетлива. Половина оценок критиков лежит в диапазоне от 65 до 80 по 100-балльной шкале.\n",
    "3. Средние оценки, с учетом разной размерности шкал, практически равны: 6,75 и 69,9.\n",
    "\n",
    "**Заключения**\n",
    "\n",
    "Что является причиной и что следствием во взаимной связи (корреляции) оценки критиков и объемов продаж, на основании имеющихся данных сказать невозможно. Вместе с тем, понимая, что критики оценивают игры вскоре после их выхода в продажу, оценки критиков всё же первична, они не выставляются по итогам рыночных успехов. Однако, с уверенностью утверждать, что именно оценки критиков становятся определяющими факторами роста продаж, тоже нельзя: удачная игра находит своего массового покупателя и без поддержки в виде оценки критиков, которая, в конечном итоге, является лишь одним из факторов рыночного успеха игры.\n",
    "\n",
    "Отсутствие корреляции между продажами и оценками пользователей характеризует, скорее, пользователей, чем ту или иную игру. Людям свойственно давать преимущественно негативные оценки, если что-то не нравится. Если все хорошо, то доля людей, которые не поленятся и выствят высоку, значительно ниже, чем среди тех, кому не нравится что-то. Плюс к тому могут быть и факторы разочарования: например, покупка на основании оценки критиков, завышенные ожидания и, как следствие, неоправдавшиеся надежды. В итоге, оценка пользователей оказывается необъективной.\n",
    "\n",
    "Таким образом, профессиональные оценки, действительно, могут предрекать (но не обеспечивать) коммерческий успех игры. Пользовательские оценки не имеют существенной практической ценности."
   ]
  },
  {
   "cell_type": "markdown",
   "id": "2cf64850",
   "metadata": {},
   "source": [
    "#### Соотнесение выводов с продажами на других платформах"
   ]
  },
  {
   "cell_type": "markdown",
   "id": "436059af",
   "metadata": {},
   "source": [
    "Посчитаем корреляции по двум другим ведущим платформам: XOne и 3DS, а также по всей остальной совокупности платформ (кроме тройки лидеров)."
   ]
  },
  {
   "cell_type": "markdown",
   "id": "316035a8",
   "metadata": {},
   "source": [
    "Расчет по **XOne**"
   ]
  },
  {
   "cell_type": "code",
   "execution_count": 51,
   "id": "64511944",
   "metadata": {},
   "outputs": [
    {
     "name": "stdout",
     "output_type": "stream",
     "text": [
      "Коэффициент корреляции продаж с оценками пользователей: -0.06892505328279414\n",
      "Размер выборки: 182\n"
     ]
    }
   ],
   "source": [
    "data_ps4_users = data.loc[(data['platform'] == 'XOne') & (data['user_score'] > 0) & (data['user_score'] < 100)]\n",
    "\n",
    "corr = data_ps4_users['user_score'].corr(data_ps4_users['total_sales'])\n",
    "print(f'Коэффициент корреляции продаж с оценками пользователей: {corr}')\n",
    "\n",
    "dimension = len(data_ps4_users['total_sales'])\n",
    "print(f'Размер выборки: {dimension}')"
   ]
  },
  {
   "cell_type": "code",
   "execution_count": 52,
   "id": "4f22cd26",
   "metadata": {},
   "outputs": [
    {
     "name": "stdout",
     "output_type": "stream",
     "text": [
      "Коэффициент корреляции продаж с оценками критиков: 0.4169983280084017\n"
     ]
    }
   ],
   "source": [
    "data_ps4_critic = data.loc[(data['platform'] == 'XOne') & (data['critic_score'] > 0) & (data['critic_score'] < 500)]\n",
    "\n",
    "corr = data_ps4_critic['critic_score'].corr(data_ps4_critic['total_sales'])\n",
    "print(f'Коэффициент корреляции продаж с оценками критиков: {corr}')"
   ]
  },
  {
   "cell_type": "markdown",
   "id": "99efd9b9",
   "metadata": {},
   "source": [
    "Расчет по **3DS**"
   ]
  },
  {
   "cell_type": "code",
   "execution_count": 53,
   "id": "ee4b7df4",
   "metadata": {},
   "outputs": [
    {
     "name": "stdout",
     "output_type": "stream",
     "text": [
      "Коэффициент корреляции продаж с оценками пользователей: 0.22480798039571082\n",
      "Размер выборки: 174\n"
     ]
    }
   ],
   "source": [
    "data_ps4_users = data.loc[(data['platform'] == '3DS') & (data['user_score'] > 0) & (data['user_score'] < 100)]\n",
    "\n",
    "corr = data_ps4_users['user_score'].corr(data_ps4_users['total_sales'])\n",
    "print(f'Коэффициент корреляции продаж с оценками пользователей: {corr}')\n",
    "\n",
    "dimension = len(data_ps4_users['total_sales'])\n",
    "print(f'Размер выборки: {dimension}')"
   ]
  },
  {
   "cell_type": "code",
   "execution_count": 54,
   "id": "bb84d3d2",
   "metadata": {},
   "outputs": [
    {
     "name": "stdout",
     "output_type": "stream",
     "text": [
      "Коэффициент корреляции продаж с оценками критиков: 0.3494009303924131\n"
     ]
    }
   ],
   "source": [
    "data_ps4_critic = data.loc[(data['platform'] == '3DS') & (data['critic_score'] > 0) & (data['critic_score'] < 500)]\n",
    "\n",
    "corr = data_ps4_critic['critic_score'].corr(data_ps4_critic['total_sales'])\n",
    "print(f'Коэффициент корреляции продаж с оценками критиков: {corr}')"
   ]
  },
  {
   "cell_type": "markdown",
   "id": "fc8fc014",
   "metadata": {},
   "source": [
    "**Вывод**: расчеты корреляции по двум другим ведущим платформам XOne и 3DS в целом подтверждают ранее сделанные заключения:\n",
    "1. имеет место умеренная положительная корреляция объемов продаж с оценками критиков,\n",
    "2. корреляция объемов продаж с оценками пользователей по наиболее крупным платформам не выявлена (положительный коэффициент корреляции 0,23 по наименее продаваемой платформе из трех (3DS) мал (меньше порогового значения значимости в 0,25)."
   ]
  },
  {
   "cell_type": "markdown",
   "id": "9b5852f6",
   "metadata": {},
   "source": [
    "Расчет по всем **остальным платформам** (кроме PS4, XOne, 3DS)"
   ]
  },
  {
   "cell_type": "code",
   "execution_count": 55,
   "id": "92cc4d3b",
   "metadata": {},
   "outputs": [
    {
     "name": "stdout",
     "output_type": "stream",
     "text": [
      "Коэффициент корреляции: 0.0928463722751166\n",
      "Размер выборки: 6976\n"
     ]
    },
    {
     "data": {
      "image/png": "[encoded data removed]",
      "text/plain": [
       "<Figure size 432x288 with 1 Axes>"
      ]
     },
     "metadata": {
      "needs_background": "light"
     },
     "output_type": "display_data"
    }
   ],
   "source": [
    "data_users = data.loc[(data['platform'] != 'PS4') & (data['platform'] != 'XOne') & (data['platform'] != '3DS') \n",
    "                      & (data['user_score'] > 0) & (data['user_score'] < 100)]\n",
    "\n",
    "corr = data_users['user_score'].corr(data_users['total_sales'])\n",
    "print(f'Коэффициент корреляции: {corr}')\n",
    "\n",
    "dimension = len(data_users['total_sales'])\n",
    "print(f'Размер выборки: {dimension}')\n",
    "\n",
    "data_users.plot(x='user_score', y='total_sales', kind='scatter', alpha=0.5);"
   ]
  },
  {
   "cell_type": "code",
   "execution_count": 56,
   "id": "80c6d2b9",
   "metadata": {},
   "outputs": [
    {
     "name": "stdout",
     "output_type": "stream",
     "text": [
      "Коэффициент корреляции: 0.23693410917923494\n"
     ]
    },
    {
     "data": {
      "image/png": "[encoded data removed]",
      "text/plain": [
       "<Figure size 432x288 with 1 Axes>"
      ]
     },
     "metadata": {
      "needs_background": "light"
     },
     "output_type": "display_data"
    }
   ],
   "source": [
    "data_critic = data.loc[(data['platform'] != 'PS4') & (data['platform'] != 'XOne') & (data['platform'] != '3DS')\n",
    "                       & (data['critic_score'] > 0) & (data['critic_score'] < 500)]\n",
    "\n",
    "corr = data_critic['critic_score'].corr(data_critic['total_sales'])\n",
    "print(f'Коэффициент корреляции: {corr}')\n",
    "\n",
    "data_critic.plot(x='critic_score', y='total_sales', kind='scatter', alpha=0.5);"
   ]
  },
  {
   "cell_type": "markdown",
   "id": "4aec0d4a",
   "metadata": {},
   "source": [
    "**Вывод**: расчеты корреляции по остальным платформам (кроме PS4, XOne и 3DS) имеет две особенности:\n",
    "1. остальные платформы демонстрируют значительно более слабую (менее 25%) корреляцию между продажами и оценками критиков,\n",
    "2. корреляция объемов продаж с оценками пользователей по остальным платформам практически отсутствует, но в зоне незначимых малых значений она выше, чем по ведущим играм (9% против нуля)."
   ]
  },
  {
   "cell_type": "markdown",
   "id": "56ca73ea",
   "metadata": {},
   "source": [
    "**Итоговые заключения**\n",
    "\n",
    "Наиболее популярные игры демонстрируют положительную связь между оценками критиков и тиражами продаж (корреляция около 40%). Однако по мере снижения уровня продаж платформ корреляция снижается до незначительной. Это говорит о премлемости учета оценок критиков при прогнозе продаж игр на наиболее массовых платформах (для менее коммерчески удачливых платформ эта закономерность не работает).\n",
    "\n",
    "Продажи игр на наиболее популярных платформах никак не коррелируют с пользовательскими оценками, но и на менее коммерчески успешных платформах корреляция ничтожна (незначительна)."
   ]
  },
  {
   "cell_type": "markdown",
   "id": "568085bc",
   "metadata": {},
   "source": [
    "\n",
    "### Распределение игр по жанрам"
   ]
  },
  {
   "cell_type": "code",
   "execution_count": 57,
   "id": "1e246167",
   "metadata": {},
   "outputs": [
    {
     "data": {
      "text/html": [
       "<div>\n",
       "<style scoped>\n",
       "    .dataframe tbody tr th:only-of-type {\n",
       "        vertical-align: middle;\n",
       "    }\n",
       "\n",
       "    .dataframe tbody tr th {\n",
       "        vertical-align: top;\n",
       "    }\n",
       "\n",
       "    .dataframe thead th {\n",
       "        text-align: right;\n",
       "    }\n",
       "</style>\n",
       "<table border=\"1\" class=\"dataframe\">\n",
       "  <thead>\n",
       "    <tr style=\"text-align: right;\">\n",
       "      <th></th>\n",
       "      <th>total_sales</th>\n",
       "      <th>market_share</th>\n",
       "    </tr>\n",
       "    <tr>\n",
       "      <th>genre</th>\n",
       "      <th></th>\n",
       "      <th></th>\n",
       "    </tr>\n",
       "  </thead>\n",
       "  <tbody>\n",
       "    <tr>\n",
       "      <td>Action</td>\n",
       "      <td>322.50</td>\n",
       "      <td>29.544872</td>\n",
       "    </tr>\n",
       "    <tr>\n",
       "      <td>Shooter</td>\n",
       "      <td>232.98</td>\n",
       "      <td>21.343765</td>\n",
       "    </tr>\n",
       "    <tr>\n",
       "      <td>Sports</td>\n",
       "      <td>150.65</td>\n",
       "      <td>13.801349</td>\n",
       "    </tr>\n",
       "    <tr>\n",
       "      <td>Role-Playing</td>\n",
       "      <td>145.89</td>\n",
       "      <td>13.365275</td>\n",
       "    </tr>\n",
       "    <tr>\n",
       "      <td>Misc</td>\n",
       "      <td>63.06</td>\n",
       "      <td>5.777053</td>\n",
       "    </tr>\n",
       "    <tr>\n",
       "      <td>Platform</td>\n",
       "      <td>42.63</td>\n",
       "      <td>3.905420</td>\n",
       "    </tr>\n",
       "    <tr>\n",
       "      <td>Racing</td>\n",
       "      <td>39.89</td>\n",
       "      <td>3.654403</td>\n",
       "    </tr>\n",
       "    <tr>\n",
       "      <td>Fighting</td>\n",
       "      <td>35.31</td>\n",
       "      <td>3.234820</td>\n",
       "    </tr>\n",
       "    <tr>\n",
       "      <td>Adventure</td>\n",
       "      <td>23.64</td>\n",
       "      <td>2.165708</td>\n",
       "    </tr>\n",
       "    <tr>\n",
       "      <td>Simulation</td>\n",
       "      <td>21.76</td>\n",
       "      <td>1.993477</td>\n",
       "    </tr>\n",
       "    <tr>\n",
       "      <td>Strategy</td>\n",
       "      <td>10.08</td>\n",
       "      <td>0.923449</td>\n",
       "    </tr>\n",
       "    <tr>\n",
       "      <td>Puzzle</td>\n",
       "      <td>3.17</td>\n",
       "      <td>0.290410</td>\n",
       "    </tr>\n",
       "  </tbody>\n",
       "</table>\n",
       "</div>"
      ],
      "text/plain": [
       "              total_sales  market_share\n",
       "genre                                  \n",
       "Action             322.50     29.544872\n",
       "Shooter            232.98     21.343765\n",
       "Sports             150.65     13.801349\n",
       "Role-Playing       145.89     13.365275\n",
       "Misc                63.06      5.777053\n",
       "Platform            42.63      3.905420\n",
       "Racing              39.89      3.654403\n",
       "Fighting            35.31      3.234820\n",
       "Adventure           23.64      2.165708\n",
       "Simulation          21.76      1.993477\n",
       "Strategy            10.08      0.923449\n",
       "Puzzle               3.17      0.290410"
      ]
     },
     "metadata": {},
     "output_type": "display_data"
    }
   ],
   "source": [
    "# Отбор данных\n",
    "genre_4_years = data_4_years.pivot_table(index='genre', values='total_sales', aggfunc='sum')\n",
    "\n",
    "# Расчет рыночной доли по жанрам\n",
    "total_sales_2013_2016 = genre_4_years['total_sales'].sum()\n",
    "genre_4_years['market_share'] = genre_4_years['total_sales'] / total_sales_2013_2016 * 100\n",
    "\n",
    "genre_4_years = genre_4_years.sort_values(by='total_sales', ascending=False)\n",
    "display(genre_4_years)"
   ]
  },
  {
   "cell_type": "code",
   "execution_count": 58,
   "id": "58469df0",
   "metadata": {},
   "outputs": [
    {
     "data": {
      "image/png": "[encoded data removed]",
      "text/plain": [
       "<Figure size 1080x288 with 1 Axes>"
      ]
     },
     "metadata": {
      "needs_background": "light"
     },
     "output_type": "display_data"
    }
   ],
   "source": [
    "genre_4_years['total_sales'].plot(kind='bar',\n",
    "                                  figsize =(15, 4), title='Распределение продаж по наиболее популярным жанрам, в млн экз.');"
   ]
  },
  {
   "cell_type": "code",
   "execution_count": 59,
   "id": "ed9287eb",
   "metadata": {},
   "outputs": [
    {
     "data": {
      "image/png": "[encoded data removed]",
      "text/plain": [
       "<Figure size 648x648 with 1 Axes>"
      ]
     },
     "metadata": {},
     "output_type": "display_data"
    }
   ],
   "source": [
    "genre_4_years.plot(y='market_share', kind='pie', figsize =(9, 9));"
   ]
  },
  {
   "cell_type": "markdown",
   "id": "a52a8ab9",
   "metadata": {},
   "source": [
    "**Выводы**\n",
    "1. Распределение продаж по жанрам неравномерно.\n",
    "2. Наиболее распространен жанр Action - почти 30% рынка дают продажи игр в этом жанре.\n",
    "3. Четыре жанра из двенадцати (Action, Shooter, Role-Playing и Sports) занимают 78% рынка.\n",
    "4. Наименее популярны жанры Puzzle (0,3%) и Strategy (0,92%).\n",
    "\n",
    "Таким образом, на основе статистики 2013-2016 годов, наиболее перспективны в 2017 г. продажи лидирующих жанров: Action, Shooter, Role-Playing и Sports. Продажами в жанраж Puzzle и Strategy можно пренебречь и не тратить ресурсы на их продвижение."
   ]
  },
  {
   "cell_type": "markdown",
   "id": "1216b088",
   "metadata": {},
   "source": [
    "Рассмотрим средние и медианные продажи по основным жанрам. В каждом жанре они покажут, каковы тиражи продаж игр-середняков."
   ]
  },
  {
   "cell_type": "code",
   "execution_count": 60,
   "id": "b7c7bee0",
   "metadata": {},
   "outputs": [
    {
     "data": {
      "text/html": [
       "<div>\n",
       "<style scoped>\n",
       "    .dataframe tbody tr th:only-of-type {\n",
       "        vertical-align: middle;\n",
       "    }\n",
       "\n",
       "    .dataframe tbody tr th {\n",
       "        vertical-align: top;\n",
       "    }\n",
       "\n",
       "    .dataframe thead th {\n",
       "        text-align: right;\n",
       "    }\n",
       "</style>\n",
       "<table border=\"1\" class=\"dataframe\">\n",
       "  <thead>\n",
       "    <tr style=\"text-align: right;\">\n",
       "      <th></th>\n",
       "      <th>mean</th>\n",
       "      <th>median</th>\n",
       "    </tr>\n",
       "    <tr>\n",
       "      <th>genre</th>\n",
       "      <th></th>\n",
       "      <th></th>\n",
       "    </tr>\n",
       "  </thead>\n",
       "  <tbody>\n",
       "    <tr>\n",
       "      <td>Shooter</td>\n",
       "      <td>1.245882</td>\n",
       "      <td>0.450</td>\n",
       "    </tr>\n",
       "    <tr>\n",
       "      <td>Sports</td>\n",
       "      <td>0.703972</td>\n",
       "      <td>0.240</td>\n",
       "    </tr>\n",
       "    <tr>\n",
       "      <td>Platform</td>\n",
       "      <td>0.576081</td>\n",
       "      <td>0.225</td>\n",
       "    </tr>\n",
       "    <tr>\n",
       "      <td>Role-Playing</td>\n",
       "      <td>0.499623</td>\n",
       "      <td>0.125</td>\n",
       "    </tr>\n",
       "    <tr>\n",
       "      <td>Fighting</td>\n",
       "      <td>0.441375</td>\n",
       "      <td>0.125</td>\n",
       "    </tr>\n",
       "    <tr>\n",
       "      <td>Racing</td>\n",
       "      <td>0.469294</td>\n",
       "      <td>0.120</td>\n",
       "    </tr>\n",
       "    <tr>\n",
       "      <td>Action</td>\n",
       "      <td>0.419376</td>\n",
       "      <td>0.110</td>\n",
       "    </tr>\n",
       "    <tr>\n",
       "      <td>Misc</td>\n",
       "      <td>0.404231</td>\n",
       "      <td>0.105</td>\n",
       "    </tr>\n",
       "    <tr>\n",
       "      <td>Simulation</td>\n",
       "      <td>0.350968</td>\n",
       "      <td>0.100</td>\n",
       "    </tr>\n",
       "    <tr>\n",
       "      <td>Strategy</td>\n",
       "      <td>0.180000</td>\n",
       "      <td>0.080</td>\n",
       "    </tr>\n",
       "    <tr>\n",
       "      <td>Puzzle</td>\n",
       "      <td>0.186471</td>\n",
       "      <td>0.060</td>\n",
       "    </tr>\n",
       "    <tr>\n",
       "      <td>Adventure</td>\n",
       "      <td>0.096490</td>\n",
       "      <td>0.030</td>\n",
       "    </tr>\n",
       "  </tbody>\n",
       "</table>\n",
       "</div>"
      ],
      "text/plain": [
       "                  mean  median\n",
       "genre                         \n",
       "Shooter       1.245882   0.450\n",
       "Sports        0.703972   0.240\n",
       "Platform      0.576081   0.225\n",
       "Role-Playing  0.499623   0.125\n",
       "Fighting      0.441375   0.125\n",
       "Racing        0.469294   0.120\n",
       "Action        0.419376   0.110\n",
       "Misc          0.404231   0.105\n",
       "Simulation    0.350968   0.100\n",
       "Strategy      0.180000   0.080\n",
       "Puzzle        0.186471   0.060\n",
       "Adventure     0.096490   0.030"
      ]
     },
     "metadata": {},
     "output_type": "display_data"
    },
    {
     "data": {
      "image/png": "[encoded data removed]",
      "text/plain": [
       "<Figure size 1080x288 with 1 Axes>"
      ]
     },
     "metadata": {
      "needs_background": "light"
     },
     "output_type": "display_data"
    }
   ],
   "source": [
    "genre_4_years_median = data_4_years.pivot_table(index='genre', values='total_sales', aggfunc=('mean', 'median')).\\\n",
    "        sort_values(by='median', ascending=False)\n",
    "\n",
    "display(genre_4_years_median)\n",
    "\n",
    "genre_4_years_median['median'].plot(kind='bar',\n",
    "                                figsize =(15, 4), \n",
    "                                title='Распределение медианных продаж по наиболее популярным жанрам, в млн экз.');"
   ]
  },
  {
   "cell_type": "markdown",
   "id": "5b379a1f",
   "metadata": {},
   "source": [
    "**Выводы**\n",
    "1. Распределение тиражей игр-середняков по жанрам неравномерно.\n",
    "2. Лучшие показатели у жанра Shooter: средний тираж 1,25 млн экз, мединанный - 450 тыс. экз.\n",
    "3. Жанры второго эшелона среди середняков: Sports и Platform. Их средние триажи в мире - всего 600-700 тыс. экз., а медианнные 220-240 тыс. экз.\n",
    "4. Наименее тиражны середняки в жанре Adventure (средний тираж менее 100 тыс., а медианный всего 30 тыс. экз. по всему миру).\n",
    "\n",
    "Таким образом, кроме продаж наиболее тиражных (популярных, пользующихся наибольшим спросом) игр в жанрах Action, Shooter, Role-Playing и Sports магазин может позволить себе продажи менее тиражных игр в этих же жанрах, рискнув добавить к ним и игры в жанре Platform. Но учитывая сравнительно небольшие продажи (наиболее интересные магазину игры продаются тиражами свыше 10 млн экз.), рассчитывать на заметный доход от них вряд ли получится."
   ]
  },
  {
   "cell_type": "markdown",
   "id": "96af3f96",
   "metadata": {},
   "source": [
    "## Шаг 4. Составление портрета пользователя каждого региона"
   ]
  },
  {
   "cell_type": "code",
   "execution_count": 61,
   "id": "e0875995",
   "metadata": {},
   "outputs": [],
   "source": [
    "# Создаем функцию-процедуру для стандартного расчета по региону.\n",
    "# На входе строковое наименование колонки с регионом продаж, \n",
    "#          совпадающее с названием колонки по региональным продажам (например, 'na_sales').\n",
    "def regional_preferences(region):\n",
    "    #   Отбор датасета для региона\n",
    "    data_4_years_reg = data_4_years.loc[data_4_years[region] > 0]\n",
    "    \n",
    "    #   Формирование таблицы по платформам   \n",
    "    platforms_4_years = data_4_years_reg.pivot_table(index='platform', values=region, aggfunc='sum')\n",
    "    \n",
    "    regional_total_sales = platforms_4_years[region].sum() # суммарные продажи по региону\n",
    "        # Расчет рыночной доли по платформам\n",
    "    platforms_4_years['market_share'] = platforms_4_years[region] / regional_total_sales * 100\n",
    "    \n",
    "    platforms_4_years = platforms_4_years.sort_values(by=region, ascending=False)\n",
    "    print('Рэнкинг популярности платформ', platforms_4_years, sep='\\n')\n",
    "        \n",
    "    #   Формирование таблицы по жанрам\n",
    "    genres_4_years = data_4_years_reg.pivot_table(index='genre', values=region, aggfunc='sum')\n",
    "    genres_4_years['market_share'] = genres_4_years[region] / regional_total_sales * 100\n",
    "    genres_4_years = genres_4_years.sort_values(by=region, ascending=False)\n",
    "    print()\n",
    "    print('Рэнкинг популярности жанров', genres_4_years, sep='\\n')\n",
    "    \n",
    "    #   Формирование таблицы по рейтингам ESRB\n",
    "    ratings_4_years = data_4_years.pivot_table(index='rating', values=region, aggfunc='sum')\n",
    "    ratings_4_years['market_share'] = ratings_4_years[region] / regional_total_sales * 100\n",
    "    ratings_4_years = ratings_4_years.sort_values(by=region, ascending=False)\n",
    "    print()\n",
    "    print('Рэнкинг предпочтений по рейтингам ESRB', ratings_4_years, sep='\\n')\n",
    "    \n",
    "    # Подготовка сводных данных по рыночным долям\n",
    "    code = region[0:2]\n",
    "    plat_4_years = table_processor(platforms_4_years, code)\n",
    "    genr_4_years = table_processor(genres_4_years, code)\n",
    "    rat_4_years = table_processor(ratings_4_years, code)\n",
    "    return(plat_4_years, genr_4_years, rat_4_years)    "
   ]
  },
  {
   "cell_type": "code",
   "execution_count": 62,
   "id": "b9c953c9",
   "metadata": {},
   "outputs": [],
   "source": [
    "# Вспомогательная функция для сокращения таблицы с показателями (в итоге остается только рыночная доля) \n",
    "# и присвоения кода региона колонке с рыночной долей\n",
    "def table_processor(table, code):\n",
    "    table = table.reset_index()\n",
    "    table.drop(table.columns[[1]], axis = 1, inplace = True)\n",
    "    table.rename(columns={'market_share': code}, inplace=True)\n",
    "    return(table)"
   ]
  },
  {
   "cell_type": "markdown",
   "id": "86f86439",
   "metadata": {},
   "source": [
    "### Регион \"Северная Америка\""
   ]
  },
  {
   "cell_type": "code",
   "execution_count": 63,
   "id": "669b461b",
   "metadata": {},
   "outputs": [
    {
     "name": "stdout",
     "output_type": "stream",
     "text": [
      "Рэнкинг популярности платформ\n",
      "          na_sales  market_share\n",
      "platform                        \n",
      "PS4         108.74     24.838393\n",
      "XOne         93.12     21.270472\n",
      "X360         81.66     18.652779\n",
      "PS3          63.50     14.504671\n",
      "3DS          38.20      8.725645\n",
      "WiiU         29.21      6.672149\n",
      "PC           11.19      2.556020\n",
      "Wii           6.56      1.498435\n",
      "PSV           5.04      1.151237\n",
      "DS            0.57      0.130199\n",
      "\n",
      "Рэнкинг популярности жанров\n",
      "              na_sales  market_share\n",
      "genre                               \n",
      "Action          126.13     28.810617\n",
      "Shooter         109.74     25.066813\n",
      "Sports           65.27     14.908975\n",
      "Role-Playing     46.40     10.598689\n",
      "Misc             27.49      6.279266\n",
      "Platform         18.14      4.143539\n",
      "Fighting         15.55      3.551931\n",
      "Racing           12.96      2.960323\n",
      "Adventure         7.14      1.630919\n",
      "Simulation        4.86      1.110121\n",
      "Strategy          3.28      0.749218\n",
      "Puzzle            0.83      0.189589\n",
      "\n",
      "Рэнкинг предпочтений по рейтингам ESRB\n",
      "           na_sales  market_share\n",
      "rating                           \n",
      "M            165.29     37.755545\n",
      "not_rated     89.42     20.425318\n",
      "E             79.05     18.056602\n",
      "E10+          54.24     12.389502\n",
      "T             49.79     11.373033\n"
     ]
    }
   ],
   "source": [
    "p_na, g_na, r_na = regional_preferences('na_sales')"
   ]
  },
  {
   "cell_type": "markdown",
   "id": "94d46568",
   "metadata": {},
   "source": [
    "**Портрет североамериканца**:\n",
    "\n",
    "* Приоритетные жанры: Action и Shooter (вместе более 50% рынка). Пользуются наименьшим спросом: Adventure, Simulation, Strategy и Puzzle.\n",
    "* Приритетные платформы: PS4 и XOne (47% рынка). Пользуются наименьшим спросом: Wii, PSV и DS (вместе менее 3%).\n",
    "* По рейтингу ESRB предпочтение отдается категории M (около 38%), значительна доля игр без рейтинга (более 20%)."
   ]
  },
  {
   "cell_type": "markdown",
   "id": "64f57f7b",
   "metadata": {},
   "source": [
    "### Регион \"Европа\""
   ]
  },
  {
   "cell_type": "code",
   "execution_count": 64,
   "id": "7c345a8c",
   "metadata": {},
   "outputs": [
    {
     "name": "stdout",
     "output_type": "stream",
     "text": [
      "Рэнкинг популярности платформ\n",
      "          eu_sales  market_share\n",
      "platform                        \n",
      "PS4         141.09     35.927275\n",
      "PS3          67.81     17.267195\n",
      "XOne         51.59     13.136920\n",
      "X360         42.52     10.827328\n",
      "3DS          30.96      7.883680\n",
      "PC           25.84      6.579919\n",
      "WiiU         19.85      5.054620\n",
      "PSV           6.10      1.553309\n",
      "Wii           5.93      1.510020\n",
      "DS            0.85      0.216445\n",
      "PSP           0.17      0.043289\n",
      "\n",
      "Рэнкинг популярности жанров\n",
      "              eu_sales  market_share\n",
      "genre                               \n",
      "Action          118.61     30.202949\n",
      "Shooter          87.86     22.372743\n",
      "Sports           60.52     15.410863\n",
      "Role-Playing     36.97      9.414071\n",
      "Racing           20.19      5.141198\n",
      "Misc             20.04      5.103002\n",
      "Platform         15.58      3.967304\n",
      "Simulation       10.92      2.780678\n",
      "Fighting          8.55      2.177179\n",
      "Adventure         8.25      2.100787\n",
      "Strategy          4.22      1.074584\n",
      "Puzzle            1.00      0.254641\n",
      "\n",
      "Рэнкинг предпочтений по рейтингам ESRB\n",
      "           eu_sales  market_share\n",
      "rating                           \n",
      "M            145.80     37.126633\n",
      "E             83.36     21.226860\n",
      "not_rated     78.91     20.093708\n",
      "E10+          42.69     10.870617\n",
      "T             41.95     10.682183\n"
     ]
    }
   ],
   "source": [
    "p_eu, g_eu, r_eu = regional_preferences('eu_sales')"
   ]
  },
  {
   "cell_type": "markdown",
   "id": "7d1e0c4a",
   "metadata": {},
   "source": [
    "**Портрет европейца**:\n",
    "\n",
    "* Приоритетные жанры: Action и Shooter (вместе почти 53% рынка). Пользуются наименьшим спросом: Fighting, Adventure, Strategy и Puzzle.\n",
    "* Приритетные платформы: PS4 (36%) и PS3 (17% рынка). Пользуются наименьшим спросом: PSV, Wii, DS и PSP (вместе менее 4%).\n",
    "* По рейтингу ESRB предпочтение отдается категориям M (около 37%) и Е (около 21%), также значительна доля игр без рейтинга (около 20%)."
   ]
  },
  {
   "cell_type": "markdown",
   "id": "d92318e5",
   "metadata": {},
   "source": [
    "### Регион \"Япония\""
   ]
  },
  {
   "cell_type": "code",
   "execution_count": 65,
   "id": "254574e1",
   "metadata": {},
   "outputs": [
    {
     "name": "stdout",
     "output_type": "stream",
     "text": [
      "Рэнкинг популярности платформ\n",
      "          jp_sales  market_share\n",
      "platform                        \n",
      "3DS          67.81     48.085378\n",
      "PS3          23.35     16.557935\n",
      "PSV          18.59     13.182527\n",
      "PS4          15.96     11.317544\n",
      "WiiU         10.88      7.715218\n",
      "PSP           3.53      2.503191\n",
      "X360          0.51      0.361651\n",
      "XOne          0.34      0.241101\n",
      "Wii           0.05      0.035456\n",
      "\n",
      "Рэнкинг популярности жанров\n",
      "              jp_sales  market_share\n",
      "genre                               \n",
      "Role-Playing     51.04     36.193448\n",
      "Action           40.49     28.712239\n",
      "Misc              9.44      6.694086\n",
      "Fighting          7.65      5.424762\n",
      "Shooter           6.61      4.687278\n",
      "Adventure         5.82      4.127074\n",
      "Sports            5.41      3.836335\n",
      "Platform          4.79      3.396681\n",
      "Simulation        4.52      3.205219\n",
      "Racing            2.30      1.630974\n",
      "Strategy          1.77      1.255141\n",
      "Puzzle            1.18      0.836761\n",
      "\n",
      "Рэнкинг предпочтений по рейтингам ESRB\n",
      "           jp_sales  market_share\n",
      "rating                           \n",
      "not_rated     85.29     60.480783\n",
      "T             20.59     14.600766\n",
      "E             15.14     10.736066\n",
      "M             14.11     10.005673\n",
      "E10+           5.89      4.176713\n"
     ]
    }
   ],
   "source": [
    "p_jp, g_jp, r_jp = regional_preferences('jp_sales')"
   ]
  },
  {
   "cell_type": "markdown",
   "id": "81b6dd8c",
   "metadata": {},
   "source": [
    "**Портрет японца**:\n",
    "\n",
    "* Предпочитает жанры Role-Playing и Action (вместе почти 65% рынка). Как правило, проходит мимо Racing, Strategy и Puzzle (около 3,7% вместе).\n",
    "* Очень уважительно относится к платформам 3DS (48%) и PS3 (почти 17% рынка). Совсем низко ценит X360, XOne и Wii, DS и PSP (вместе менее 1%).\n",
    "* Игрок из страны восходящего солнца \"не признает\" рейтинг ESRB, ему он безразличен, и более 60% игр продаются без присвоенного рейтинга."
   ]
  },
  {
   "cell_type": "markdown",
   "id": "0ee2f6a1",
   "metadata": {},
   "source": [
    "### Сводные (сравнительные) данные по регионам"
   ]
  },
  {
   "cell_type": "markdown",
   "id": "22ffdb3e",
   "metadata": {},
   "source": [
    "**Сравнение популярности платформ**"
   ]
  },
  {
   "cell_type": "code",
   "execution_count": 66,
   "id": "1cf2b89f",
   "metadata": {},
   "outputs": [
    {
     "data": {
      "text/html": [
       "<div>\n",
       "<style scoped>\n",
       "    .dataframe tbody tr th:only-of-type {\n",
       "        vertical-align: middle;\n",
       "    }\n",
       "\n",
       "    .dataframe tbody tr th {\n",
       "        vertical-align: top;\n",
       "    }\n",
       "\n",
       "    .dataframe thead th {\n",
       "        text-align: right;\n",
       "    }\n",
       "</style>\n",
       "<table border=\"1\" class=\"dataframe\">\n",
       "  <thead>\n",
       "    <tr style=\"text-align: right;\">\n",
       "      <th></th>\n",
       "      <th>platform</th>\n",
       "      <th>na</th>\n",
       "      <th>eu</th>\n",
       "      <th>jp</th>\n",
       "    </tr>\n",
       "  </thead>\n",
       "  <tbody>\n",
       "    <tr>\n",
       "      <td>4</td>\n",
       "      <td>3DS</td>\n",
       "      <td>8.725645</td>\n",
       "      <td>7.883680</td>\n",
       "      <td>48.085378</td>\n",
       "    </tr>\n",
       "    <tr>\n",
       "      <td>9</td>\n",
       "      <td>DS</td>\n",
       "      <td>0.130199</td>\n",
       "      <td>0.216445</td>\n",
       "      <td>0.000000</td>\n",
       "    </tr>\n",
       "    <tr>\n",
       "      <td>6</td>\n",
       "      <td>PC</td>\n",
       "      <td>2.556020</td>\n",
       "      <td>6.579919</td>\n",
       "      <td>0.000000</td>\n",
       "    </tr>\n",
       "    <tr>\n",
       "      <td>3</td>\n",
       "      <td>PS3</td>\n",
       "      <td>14.504671</td>\n",
       "      <td>17.267195</td>\n",
       "      <td>16.557935</td>\n",
       "    </tr>\n",
       "    <tr>\n",
       "      <td>0</td>\n",
       "      <td>PS4</td>\n",
       "      <td>24.838393</td>\n",
       "      <td>35.927275</td>\n",
       "      <td>11.317544</td>\n",
       "    </tr>\n",
       "    <tr>\n",
       "      <td>10</td>\n",
       "      <td>PSP</td>\n",
       "      <td>0.000000</td>\n",
       "      <td>0.043289</td>\n",
       "      <td>2.503191</td>\n",
       "    </tr>\n",
       "    <tr>\n",
       "      <td>8</td>\n",
       "      <td>PSV</td>\n",
       "      <td>1.151237</td>\n",
       "      <td>1.553309</td>\n",
       "      <td>13.182527</td>\n",
       "    </tr>\n",
       "    <tr>\n",
       "      <td>7</td>\n",
       "      <td>Wii</td>\n",
       "      <td>1.498435</td>\n",
       "      <td>1.510020</td>\n",
       "      <td>0.035456</td>\n",
       "    </tr>\n",
       "    <tr>\n",
       "      <td>5</td>\n",
       "      <td>WiiU</td>\n",
       "      <td>6.672149</td>\n",
       "      <td>5.054620</td>\n",
       "      <td>7.715218</td>\n",
       "    </tr>\n",
       "    <tr>\n",
       "      <td>2</td>\n",
       "      <td>X360</td>\n",
       "      <td>18.652779</td>\n",
       "      <td>10.827328</td>\n",
       "      <td>0.361651</td>\n",
       "    </tr>\n",
       "    <tr>\n",
       "      <td>1</td>\n",
       "      <td>XOne</td>\n",
       "      <td>21.270472</td>\n",
       "      <td>13.136920</td>\n",
       "      <td>0.241101</td>\n",
       "    </tr>\n",
       "  </tbody>\n",
       "</table>\n",
       "</div>"
      ],
      "text/plain": [
       "   platform         na         eu         jp\n",
       "4       3DS   8.725645   7.883680  48.085378\n",
       "9        DS   0.130199   0.216445   0.000000\n",
       "6        PC   2.556020   6.579919   0.000000\n",
       "3       PS3  14.504671  17.267195  16.557935\n",
       "0       PS4  24.838393  35.927275  11.317544\n",
       "10      PSP   0.000000   0.043289   2.503191\n",
       "8       PSV   1.151237   1.553309  13.182527\n",
       "7       Wii   1.498435   1.510020   0.035456\n",
       "5      WiiU   6.672149   5.054620   7.715218\n",
       "2      X360  18.652779  10.827328   0.361651\n",
       "1      XOne  21.270472  13.136920   0.241101"
      ]
     },
     "metadata": {},
     "output_type": "display_data"
    }
   ],
   "source": [
    "plat = pd.merge(p_na, p_eu, on='platform', how='outer')\n",
    "plat = plat.merge(p_jp, on='platform', how='outer').fillna(0).sort_values(by='platform')\n",
    "display(plat)"
   ]
  },
  {
   "cell_type": "code",
   "execution_count": 67,
   "id": "de61aa5e",
   "metadata": {},
   "outputs": [
    {
     "data": {
      "image/png": "[encoded data removed]",
      "text/plain": [
       "<Figure size 1080x432 with 1 Axes>"
      ]
     },
     "metadata": {
      "needs_background": "light"
     },
     "output_type": "display_data"
    }
   ],
   "source": [
    "plat.plot(kind='bar', x='platform', grid=True, figsize =(15, 6), title='Популярность платформ по регионам, в %');"
   ]
  },
  {
   "cell_type": "markdown",
   "id": "95cccb7a",
   "metadata": {},
   "source": [
    "**Сравнение популярности жанров**"
   ]
  },
  {
   "cell_type": "code",
   "execution_count": 68,
   "id": "dfa14705",
   "metadata": {},
   "outputs": [
    {
     "data": {
      "text/html": [
       "<div>\n",
       "<style scoped>\n",
       "    .dataframe tbody tr th:only-of-type {\n",
       "        vertical-align: middle;\n",
       "    }\n",
       "\n",
       "    .dataframe tbody tr th {\n",
       "        vertical-align: top;\n",
       "    }\n",
       "\n",
       "    .dataframe thead th {\n",
       "        text-align: right;\n",
       "    }\n",
       "</style>\n",
       "<table border=\"1\" class=\"dataframe\">\n",
       "  <thead>\n",
       "    <tr style=\"text-align: right;\">\n",
       "      <th></th>\n",
       "      <th>genre</th>\n",
       "      <th>na</th>\n",
       "      <th>eu</th>\n",
       "      <th>jp</th>\n",
       "    </tr>\n",
       "  </thead>\n",
       "  <tbody>\n",
       "    <tr>\n",
       "      <td>0</td>\n",
       "      <td>Action</td>\n",
       "      <td>28.810617</td>\n",
       "      <td>30.202949</td>\n",
       "      <td>28.712239</td>\n",
       "    </tr>\n",
       "    <tr>\n",
       "      <td>8</td>\n",
       "      <td>Adventure</td>\n",
       "      <td>1.630919</td>\n",
       "      <td>2.100787</td>\n",
       "      <td>4.127074</td>\n",
       "    </tr>\n",
       "    <tr>\n",
       "      <td>6</td>\n",
       "      <td>Fighting</td>\n",
       "      <td>3.551931</td>\n",
       "      <td>2.177179</td>\n",
       "      <td>5.424762</td>\n",
       "    </tr>\n",
       "    <tr>\n",
       "      <td>4</td>\n",
       "      <td>Misc</td>\n",
       "      <td>6.279266</td>\n",
       "      <td>5.103002</td>\n",
       "      <td>6.694086</td>\n",
       "    </tr>\n",
       "    <tr>\n",
       "      <td>5</td>\n",
       "      <td>Platform</td>\n",
       "      <td>4.143539</td>\n",
       "      <td>3.967304</td>\n",
       "      <td>3.396681</td>\n",
       "    </tr>\n",
       "    <tr>\n",
       "      <td>11</td>\n",
       "      <td>Puzzle</td>\n",
       "      <td>0.189589</td>\n",
       "      <td>0.254641</td>\n",
       "      <td>0.836761</td>\n",
       "    </tr>\n",
       "    <tr>\n",
       "      <td>7</td>\n",
       "      <td>Racing</td>\n",
       "      <td>2.960323</td>\n",
       "      <td>5.141198</td>\n",
       "      <td>1.630974</td>\n",
       "    </tr>\n",
       "    <tr>\n",
       "      <td>3</td>\n",
       "      <td>Role-Playing</td>\n",
       "      <td>10.598689</td>\n",
       "      <td>9.414071</td>\n",
       "      <td>36.193448</td>\n",
       "    </tr>\n",
       "    <tr>\n",
       "      <td>1</td>\n",
       "      <td>Shooter</td>\n",
       "      <td>25.066813</td>\n",
       "      <td>22.372743</td>\n",
       "      <td>4.687278</td>\n",
       "    </tr>\n",
       "    <tr>\n",
       "      <td>9</td>\n",
       "      <td>Simulation</td>\n",
       "      <td>1.110121</td>\n",
       "      <td>2.780678</td>\n",
       "      <td>3.205219</td>\n",
       "    </tr>\n",
       "    <tr>\n",
       "      <td>2</td>\n",
       "      <td>Sports</td>\n",
       "      <td>14.908975</td>\n",
       "      <td>15.410863</td>\n",
       "      <td>3.836335</td>\n",
       "    </tr>\n",
       "    <tr>\n",
       "      <td>10</td>\n",
       "      <td>Strategy</td>\n",
       "      <td>0.749218</td>\n",
       "      <td>1.074584</td>\n",
       "      <td>1.255141</td>\n",
       "    </tr>\n",
       "  </tbody>\n",
       "</table>\n",
       "</div>"
      ],
      "text/plain": [
       "           genre         na         eu         jp\n",
       "0         Action  28.810617  30.202949  28.712239\n",
       "8      Adventure   1.630919   2.100787   4.127074\n",
       "6       Fighting   3.551931   2.177179   5.424762\n",
       "4           Misc   6.279266   5.103002   6.694086\n",
       "5       Platform   4.143539   3.967304   3.396681\n",
       "11        Puzzle   0.189589   0.254641   0.836761\n",
       "7         Racing   2.960323   5.141198   1.630974\n",
       "3   Role-Playing  10.598689   9.414071  36.193448\n",
       "1        Shooter  25.066813  22.372743   4.687278\n",
       "9     Simulation   1.110121   2.780678   3.205219\n",
       "2         Sports  14.908975  15.410863   3.836335\n",
       "10      Strategy   0.749218   1.074584   1.255141"
      ]
     },
     "metadata": {},
     "output_type": "display_data"
    }
   ],
   "source": [
    "gen = pd.merge(g_na, g_eu, on='genre', how='outer')\n",
    "gen = gen.merge(g_jp, on='genre', how='outer').fillna(0).sort_values(by='genre')\n",
    "display(gen)"
   ]
  },
  {
   "cell_type": "code",
   "execution_count": 69,
   "id": "06cb3f43",
   "metadata": {},
   "outputs": [
    {
     "data": {
      "image/png": "[encoded data removed]",
      "text/plain": [
       "<Figure size 1080x360 with 1 Axes>"
      ]
     },
     "metadata": {
      "needs_background": "light"
     },
     "output_type": "display_data"
    }
   ],
   "source": [
    "gen.plot(kind='bar', x='genre', grid=True, figsize =(15, 5), title='Популярность жанров по регионам, в %');"
   ]
  },
  {
   "cell_type": "markdown",
   "id": "5d454eaa",
   "metadata": {},
   "source": [
    "**Сравнение популярности рейтингов**"
   ]
  },
  {
   "cell_type": "code",
   "execution_count": 70,
   "id": "b8d22986",
   "metadata": {},
   "outputs": [
    {
     "data": {
      "text/html": [
       "<div>\n",
       "<style scoped>\n",
       "    .dataframe tbody tr th:only-of-type {\n",
       "        vertical-align: middle;\n",
       "    }\n",
       "\n",
       "    .dataframe tbody tr th {\n",
       "        vertical-align: top;\n",
       "    }\n",
       "\n",
       "    .dataframe thead th {\n",
       "        text-align: right;\n",
       "    }\n",
       "</style>\n",
       "<table border=\"1\" class=\"dataframe\">\n",
       "  <thead>\n",
       "    <tr style=\"text-align: right;\">\n",
       "      <th></th>\n",
       "      <th>rating</th>\n",
       "      <th>na</th>\n",
       "      <th>eu</th>\n",
       "      <th>jp</th>\n",
       "    </tr>\n",
       "  </thead>\n",
       "  <tbody>\n",
       "    <tr>\n",
       "      <td>2</td>\n",
       "      <td>E</td>\n",
       "      <td>18.056602</td>\n",
       "      <td>21.226860</td>\n",
       "      <td>10.736066</td>\n",
       "    </tr>\n",
       "    <tr>\n",
       "      <td>3</td>\n",
       "      <td>E10+</td>\n",
       "      <td>12.389502</td>\n",
       "      <td>10.870617</td>\n",
       "      <td>4.176713</td>\n",
       "    </tr>\n",
       "    <tr>\n",
       "      <td>0</td>\n",
       "      <td>M</td>\n",
       "      <td>37.755545</td>\n",
       "      <td>37.126633</td>\n",
       "      <td>10.005673</td>\n",
       "    </tr>\n",
       "    <tr>\n",
       "      <td>4</td>\n",
       "      <td>T</td>\n",
       "      <td>11.373033</td>\n",
       "      <td>10.682183</td>\n",
       "      <td>14.600766</td>\n",
       "    </tr>\n",
       "    <tr>\n",
       "      <td>1</td>\n",
       "      <td>not_rated</td>\n",
       "      <td>20.425318</td>\n",
       "      <td>20.093708</td>\n",
       "      <td>60.480783</td>\n",
       "    </tr>\n",
       "  </tbody>\n",
       "</table>\n",
       "</div>"
      ],
      "text/plain": [
       "      rating         na         eu         jp\n",
       "2          E  18.056602  21.226860  10.736066\n",
       "3       E10+  12.389502  10.870617   4.176713\n",
       "0          M  37.755545  37.126633  10.005673\n",
       "4          T  11.373033  10.682183  14.600766\n",
       "1  not_rated  20.425318  20.093708  60.480783"
      ]
     },
     "metadata": {},
     "output_type": "display_data"
    }
   ],
   "source": [
    "rat = pd.merge(r_na, r_eu, on='rating', how='outer')\n",
    "rat = rat.merge(r_jp, on='rating', how='outer').fillna(0).sort_values(by='rating')\n",
    "display(rat)"
   ]
  },
  {
   "cell_type": "code",
   "execution_count": 71,
   "id": "4114dcde",
   "metadata": {},
   "outputs": [
    {
     "data": {
      "image/png": "[encoded data removed]",
      "text/plain": [
       "<Figure size 1080x360 with 1 Axes>"
      ]
     },
     "metadata": {
      "needs_background": "light"
     },
     "output_type": "display_data"
    }
   ],
   "source": [
    "rat.plot(kind='bar', x='rating', grid=True, figsize =(15, 5), title='Популярность рейтингов по регионам, в %');"
   ]
  },
  {
   "cell_type": "markdown",
   "id": "1f716287",
   "metadata": {},
   "source": [
    "### Выводы\n",
    "\n",
    "1. Европейский и американский потребители во многом схожи. Приоритетными жанрами являются практически одни и те же: Action и Shooter. В платформах отдается предпочтение PS4 и XOne (в Европе по-прежнему в почете также PS3). Игры с рейтингами M и E пользуются наибольшим спросом на обеих континентах. Впрочем, в Северной Америке велика доля (20%) игр без рейтинга (что несколько парадоксально, т.е. организация ESRB создана для работы на США и Канаду.\n",
    "2. Японские потребители имеют существенные отличия в предпочтениях как в части жарнов, так и в части используемых платформ. Отношение к североамериканскому рейтингу ESRB - нейтральное (этот рейтинг в Японии является факультативным, значимого влияния не оказывает).\n",
    "3. В конечном итоге, при формировании целевых портфелей продаж по георегионам Северную Америку и Европу можно считать едиными (за исключением некоторых второстепенных аспектов). В свою очередь, японский рынок весьма специфичен и при продажах (поставках) требует учета этой специфики."
   ]
  },
  {
   "cell_type": "markdown",
   "id": "51604cde",
   "metadata": {},
   "source": [
    "## Шаг 5. Проверка гипотез"
   ]
  },
  {
   "cell_type": "markdown",
   "id": "ce9e1dba",
   "metadata": {},
   "source": [
    "### Средние пользовательские рейтинги платформ Xbox One и PC одинаковые"
   ]
  },
  {
   "cell_type": "markdown",
   "id": "7fa3ba5b",
   "metadata": {},
   "source": [
    "\"Нулевая\" гипотеза: пользовательские рейтинги платформ Xbox One и PC совпадают.\n",
    "\n",
    "Альтернативная (Н1) гипотеза: пользовательские рейтинги платформ Xbox One и PC отличаются. Гипотеза двусторонняя (ненаправленная)."
   ]
  },
  {
   "cell_type": "markdown",
   "id": "a509cabd",
   "metadata": {},
   "source": [
    "Подготовим данные с учетом того, что для целей исследования важны актуальные оценки, то есть те, которые получили игры периода 2013-2016 годов (т.е. примем в качестве базы последние 4 года имеющейся базы данных)"
   ]
  },
  {
   "cell_type": "code",
   "execution_count": 72,
   "id": "16cd158d",
   "metadata": {},
   "outputs": [],
   "source": [
    "# Отсекаем \"технические\" оценки\n",
    "data_4_years_real = data_4_years.loc[(data['user_score'] > 0) & (data['user_score'] < 100)]"
   ]
  },
  {
   "cell_type": "code",
   "execution_count": 73,
   "id": "2112f7e5",
   "metadata": {},
   "outputs": [
    {
     "name": "stdout",
     "output_type": "stream",
     "text": [
      "Размеры выборок:    \n",
      "Xbox One: 182\n",
      "PC: 1037\n"
     ]
    }
   ],
   "source": [
    "array_xone = data_4_years_real.loc[data_4_years_real['platform'] == 'XOne']['user_score']\n",
    "array_pc = data_4_years_real.loc[data_4_years_real['platform'] != 'PC']['user_score']\n",
    "\n",
    "print(f'Размеры выборок:\\\n",
    "    \\nXbox One: {len(array_xone)}\\nPC: {len(array_pc)}')"
   ]
  },
  {
   "cell_type": "markdown",
   "id": "be43c075",
   "metadata": {},
   "source": [
    "Учитывая значительные (более 50) объемы выборок, установим пороговое значение alpha на уровне 5%."
   ]
  },
  {
   "cell_type": "code",
   "execution_count": 74,
   "id": "d037574f",
   "metadata": {},
   "outputs": [
    {
     "name": "stdout",
     "output_type": "stream",
     "text": [
      "Уровень статистической значимости: 33.280299%\n"
     ]
    }
   ],
   "source": [
    "p_value = st.ttest_ind(array_xone, array_pc, equal_var=False).pvalue\n",
    "print(f'Уровень статистической значимости: {p_value:%}')"
   ]
  },
  {
   "cell_type": "code",
   "execution_count": 75,
   "id": "70ce0365",
   "metadata": {},
   "outputs": [
    {
     "data": {
      "text/plain": [
       "count    182.000000\n",
       "mean       6.521429\n",
       "std        1.380941\n",
       "min        1.600000\n",
       "25%        5.800000\n",
       "50%        6.800000\n",
       "75%        7.500000\n",
       "max        9.200000\n",
       "Name: user_score, dtype: float64"
      ]
     },
     "execution_count": 75,
     "metadata": {},
     "output_type": "execute_result"
    }
   ],
   "source": [
    "array_xone.describe()"
   ]
  },
  {
   "cell_type": "code",
   "execution_count": 76,
   "id": "5f0fa5cd",
   "metadata": {},
   "outputs": [
    {
     "data": {
      "text/plain": [
       "count    1037.000000\n",
       "mean        6.631630\n",
       "std         1.585279\n",
       "min         0.200000\n",
       "25%         5.800000\n",
       "50%         7.000000\n",
       "75%         7.800000\n",
       "max         9.300000\n",
       "Name: user_score, dtype: float64"
      ]
     },
     "execution_count": 76,
     "metadata": {},
     "output_type": "execute_result"
    }
   ],
   "source": [
    "array_pc.describe()"
   ]
  },
  {
   "cell_type": "code",
   "execution_count": 77,
   "id": "2a1f9959",
   "metadata": {
    "scrolled": false
   },
   "outputs": [
    {
     "data": {
      "image/png": "[encoded data removed]",
      "text/plain": [
       "<Figure size 1080x432 with 1 Axes>"
      ]
     },
     "metadata": {
      "needs_background": "light"
     },
     "output_type": "display_data"
    }
   ],
   "source": [
    "array_xone.plot(kind='hist', histtype='step', bins=16, title='Сравнение пользовательских оценок двух платформ',\\\n",
    "                 label='Xbox One', figsize=(15, 6))\n",
    "array_pc.plot(kind='hist', histtype='step', bins=40, label='PC')\n",
    "plt.legend(loc='upper left', fontsize='x-large')\n",
    "plt.xlabel('Выставленные пользователями оценки')\n",
    "plt.ylabel('Частота (количество выставленных оценок)');"
   ]
  },
  {
   "cell_type": "markdown",
   "id": "5afe40c6",
   "metadata": {},
   "source": [
    "Полученное в результате t-теста значените уровня статистической значимости, равное 33% существенно превышает пороговое значение, принятое на уровне 5%. Таким образом, нет оснований опровергнуть \"нулевую\" гипотезу: пользовательские рейтинги платформ Xbox One и PC совпадают.\n",
    "\n",
    "Этот результат подтверждается и другими статистическими данными по обеим выборкам. Средние пользовательские оценки для XOne и PC равны, соответственно, 6,5 и 6,6, а мединанные - 6,8 и 7,0."
   ]
  },
  {
   "cell_type": "markdown",
   "id": "6266564d",
   "metadata": {},
   "source": [
    "###  Средние пользовательские рейтинги жанров Action и Sports разные"
   ]
  },
  {
   "cell_type": "markdown",
   "id": "863eae04",
   "metadata": {},
   "source": [
    "\"Нулевая\" гипотеза: пользовательские рейтинги жанров Action и Sports совпадают.\n",
    "\n",
    "Альтернативная (Н1) гипотеза: пользовательские рейтинги жанров Action и Sports отличаются. Гипотеза двусторонняя (ненаправленная)."
   ]
  },
  {
   "cell_type": "code",
   "execution_count": 78,
   "id": "2b5ad0c9",
   "metadata": {},
   "outputs": [
    {
     "name": "stdout",
     "output_type": "stream",
     "text": [
      "Размеры выборок:    \n",
      "Action: 392\n",
      "Sports: 160\n"
     ]
    }
   ],
   "source": [
    "array_action = data_4_years_real.loc[data_4_years_real['genre'] == 'Action']['user_score']\n",
    "array_sports = data_4_years_real.loc[data_4_years_real['genre'] == 'Sports']['user_score']\n",
    "\n",
    "print(f'Размеры выборок:\\\n",
    "    \\nAction: {len(array_action)}\\nSports: {len(array_sports)}')"
   ]
  },
  {
   "cell_type": "markdown",
   "id": "c36eebc1",
   "metadata": {},
   "source": [
    "Учитывая значительные (более 50) объемы выборок, установим пороговое значение alpha на уровне 5%."
   ]
  },
  {
   "cell_type": "code",
   "execution_count": 79,
   "id": "0c2b03e8",
   "metadata": {},
   "outputs": [
    {
     "name": "stdout",
     "output_type": "stream",
     "text": [
      "Уровень статистической значимости: 0.000000%\n"
     ]
    }
   ],
   "source": [
    "p_value = st.ttest_ind(array_action, array_sports, equal_var=False).pvalue\n",
    "print(f'Уровень статистической значимости: {p_value:%}')"
   ]
  },
  {
   "cell_type": "code",
   "execution_count": 80,
   "id": "cd3eb335",
   "metadata": {},
   "outputs": [
    {
     "data": {
      "text/plain": [
       "count    392.000000\n",
       "mean       6.837500\n",
       "std        1.329076\n",
       "min        2.000000\n",
       "25%        6.300000\n",
       "50%        7.100000\n",
       "75%        7.800000\n",
       "max        9.100000\n",
       "Name: user_score, dtype: float64"
      ]
     },
     "execution_count": 80,
     "metadata": {},
     "output_type": "execute_result"
    }
   ],
   "source": [
    "array_action.describe()"
   ]
  },
  {
   "cell_type": "code",
   "execution_count": 81,
   "id": "ac1d9529",
   "metadata": {},
   "outputs": [
    {
     "data": {
      "text/plain": [
       "count    160.000000\n",
       "mean       5.238125\n",
       "std        1.783427\n",
       "min        0.200000\n",
       "25%        4.100000\n",
       "50%        5.500000\n",
       "75%        6.500000\n",
       "max        8.800000\n",
       "Name: user_score, dtype: float64"
      ]
     },
     "execution_count": 81,
     "metadata": {},
     "output_type": "execute_result"
    }
   ],
   "source": [
    "array_sports.describe()"
   ]
  },
  {
   "cell_type": "code",
   "execution_count": 82,
   "id": "7c568e13",
   "metadata": {
    "scrolled": false
   },
   "outputs": [
    {
     "data": {
      "image/png": "[encoded data removed]",
      "text/plain": [
       "<Figure size 1080x432 with 1 Axes>"
      ]
     },
     "metadata": {
      "needs_background": "light"
     },
     "output_type": "display_data"
    }
   ],
   "source": [
    "array_action.plot(kind='hist', histtype='step', bins=20, title='Сравнение пользовательских оценок двух жанров',\\\n",
    "                 label='Action', figsize=(15, 6))\n",
    "array_sports.plot(kind='hist', histtype='step', bins=20, label='Sports')\n",
    "plt.legend(loc='upper left', fontsize='x-large')\n",
    "plt.xlabel('Выставленные пользователями оценки')\n",
    "plt.ylabel('Частота (количество выставленных оценок)');"
   ]
  },
  {
   "cell_type": "markdown",
   "id": "31ea0db5",
   "metadata": {},
   "source": [
    "Полученное в результате t-теста значените уровня статистической значимости, равное фактитчески нулю, никак недодтягивает до порогового значения, принятого на уровне 5%. Таким образом, есть всеские основания усомниться в \"нулевой\" гипотезе. То есть пользовательские рейтинги жанров Action и Sports, скорее всего, не совпадают.\n",
    "\n",
    "Этот результат подтверждается и другими статистическими данными по обеим выборкам. Средние пользовательские оценки для Action и Sports различаются - они равны 6,8 и 5,2 соответственно. Также различаются и медианные - они равны 7,1 и 5,5. Диаграммы распределения также не дают аргументы в пользу нулевой гипотезы."
   ]
  },
  {
   "cell_type": "markdown",
   "id": "1ab0b789",
   "metadata": {},
   "source": [
    "### Выводы по итогам проверки гипотез"
   ]
  },
  {
   "cell_type": "markdown",
   "id": "0bb0efa5",
   "metadata": {},
   "source": [
    "1. Предположение о том, что пользователи одинаково оценивают игры на платформах XOne и PC не было опровергнуто.\n",
    "2. Предположение о том, что пользователи одинаково оцениваюти жанры Action и Sports, скорее всего, несостоятельно.\n",
    "3. Схожесть распределения пользовательских оценок игр на разных платформах согласуется с ранее сделанным выводом об отсутствии связи между пользовательскими оценками и количеством проданных игр.\n",
    "4. Различие в оценках пользователей двух из трех наиболее популярных жанров (Action - 1 и Sports - 3) является достаточным основанием, чтобы с осторожностью относиться к пользовательским оценкам в жанровом аспекте.\n",
    "5. Всё это в совокупности приводит к заключению о том, что оценки пользователей не стоит принимать во внимание при планировании будущих продаж."
   ]
  },
  {
   "cell_type": "markdown",
   "id": "2fd0ed8e",
   "metadata": {},
   "source": [
    "## Шаг 6. Общий вывод"
   ]
  },
  {
   "cell_type": "markdown",
   "id": "ab306b75",
   "metadata": {},
   "source": [
    "1.\tРынок продаж компьютерных игр, по тенденции 2013-2016 годов, находится на спаде, предпосылок для перелома тенденции не выявлено. Уровень продаж соответствует примерно середине 1990-х годов.\n",
    "2.\tПроизводство новых игр в 2013-2016 годах стабильно, что на сжимающемся рынке ведет к росту конкуренции производителей. В этот период каждая новая игра в среднем выпускается почти на двух платформах (в двух вариантах), что ведет к большему разнообразию предложения.\n",
    "3.\tВ 2017 году следует ориентироваться на умеренно-пессимистический сценарий – продажи игр будут стагнировать.\n",
    "4.\tСредняя длительность жизненного цикла большинства основных платформ составляет примерно 8 лет. Все платформы, на которых выпускаются игры в 2016 году, либо подошли к концу своего жизненного цикла, либо находятся в его нисходящей фазе. Наиболее «молодые» платформы: PS4 и XOne. \n",
    "5.\tЛидируют по продажам игровые платформы PS4 (рыночная доля по итогам полностью завершившегося 2015 года 44%), XOne (22%) и 3DS (10%). Таким образом, имеет место существенная концентрация: более 75% рынка занимают игры, созданные на трех платформах.\n",
    "6.\tМожно предположить, что платформы PS4 и XOne будут наиболее продаваемыми в 2017 г. Однако новые игры на этих платформах, скорее всего, будут пользоваться меньшим спросом, чем их более старшие соплотформенные предшественники. Вместе с тем, велика вероятность появления в 2017 г. новых игровых платформ, которые, в силу спада на рынке, скорее всего, будут развитием действующих PS4 и XOne. Но игры, созданные на новых и обновленных платформах в 2017 году, еще не будут иметь пикового спроса.\n",
    "7.\tТаким образом, в рекламе следует делать акцент на игры на платформах PS4 и XOne, а также сформировать бюджетный резерв на случай выхода в свет игр на новых и обновленных платформах.\n",
    "8.\tРынок игр Японии специфичен, в отличие от рынков США и Европы, которые очень близки между собой по предпочтениям покупателей. Интернет-магазину «Стримчик» следует ориентироваться на американско-европейские предпочтения.\n",
    "9.\tНаиболее предпочтительные жанры для продвижения рекламой: Action, Shooter, Sports и Role-Playing.\n",
    "10.\tПри появлении новых игр следует прислушаться к оценкам критиков: как правило, высокие оценки критиков получают те игры, которые имеют высокий потенциал продаж. Но это относится только к играм на наиболее успешных с коммерческой точки зрения платформах (положительная корреляция между оценками критиков и продажами игр на сравнительно низкотиражных платформах снижается до незначительной, ее можно не принимать во внимание).\n",
    "11.\tОриентироваться на мнение (оценки) покупателей не имеет большого смысла (их оценки неинформативны – вне зависимости от коммерческого успеха платформы).\n",
    "12.\tНаибольшим спросом будут продолжать пользоваться игры, которые получили категории M и E североамериканского рейтинга ESRB. Будут оставаться популярными также и игры без рейтингов.\n",
    "13.\tВ конечном итоге, наиболее перспективными в 2017 году будут продажи игр, созданных на платформах **PS4** и **XOne** (а также, возможно, на новых или обновленных платформах) в жанрах **Action**, **Shooter**, **Sports** и **Role-Playing**. Наиболее востребованными будут категории **M** и **E** рейтинговой системы ESRB (но и игры **без рейтинга** также будут пользоваться достаточно высоким спросом). Исходя из этих констатаций целесообразно планировать рекламно-маркетинговый бюджет и формировать (готовить) соответствующие акценты в рекламе."
   ]
  }
 ],
 "metadata": {
  "ExecuteTimeLog": [
   {
    "duration": 1108,
    "start_time": "2022-02-15T08:18:50.159Z"
   },
   {
    "duration": 1936,
    "start_time": "2022-02-15T08:18:53.391Z"
   },
   {
    "duration": 58,
    "start_time": "2022-02-15T08:20:03.386Z"
   },
   {
    "duration": 13,
    "start_time": "2022-02-15T08:20:07.184Z"
   },
   {
    "duration": 19,
    "start_time": "2022-02-15T08:20:08.742Z"
   },
   {
    "duration": 11,
    "start_time": "2022-02-15T08:20:12.103Z"
   },
   {
    "duration": 19,
    "start_time": "2022-02-15T08:20:13.055Z"
   },
   {
    "duration": 20,
    "start_time": "2022-02-15T08:20:13.479Z"
   },
   {
    "duration": 25,
    "start_time": "2022-02-15T08:20:15.664Z"
   },
   {
    "duration": 126,
    "start_time": "2022-02-15T08:20:17.655Z"
   },
   {
    "duration": 13,
    "start_time": "2022-02-15T08:20:18.271Z"
   },
   {
    "duration": 19,
    "start_time": "2022-02-15T08:20:19.801Z"
   },
   {
    "duration": 21,
    "start_time": "2022-02-15T08:20:21.815Z"
   },
   {
    "duration": 10,
    "start_time": "2022-02-15T08:20:23.240Z"
   },
   {
    "duration": 5,
    "start_time": "2022-02-15T08:20:24.263Z"
   },
   {
    "duration": 12,
    "start_time": "2022-02-15T08:20:25.286Z"
   },
   {
    "duration": 28,
    "start_time": "2022-02-15T08:20:27.353Z"
   },
   {
    "duration": 11,
    "start_time": "2022-02-15T08:20:28.814Z"
   },
   {
    "duration": 11,
    "start_time": "2022-02-15T08:20:29.871Z"
   },
   {
    "duration": 18,
    "start_time": "2022-02-15T08:20:30.759Z"
   },
   {
    "duration": 9,
    "start_time": "2022-02-15T08:20:31.702Z"
   },
   {
    "duration": 9,
    "start_time": "2022-02-15T08:20:32.678Z"
   },
   {
    "duration": 7,
    "start_time": "2022-02-15T08:20:33.111Z"
   },
   {
    "duration": 17,
    "start_time": "2022-02-15T08:20:34.105Z"
   },
   {
    "duration": 33,
    "start_time": "2022-02-15T08:20:34.592Z"
   },
   {
    "duration": 7,
    "start_time": "2022-02-15T08:20:35.703Z"
   },
   {
    "duration": 45,
    "start_time": "2022-02-15T08:20:36.706Z"
   },
   {
    "duration": 8,
    "start_time": "2022-02-15T08:20:38.719Z"
   },
   {
    "duration": 43,
    "start_time": "2022-02-15T08:20:41.223Z"
   },
   {
    "duration": 23,
    "start_time": "2022-02-15T08:20:41.666Z"
   },
   {
    "duration": 364,
    "start_time": "2022-02-15T08:20:42.103Z"
   },
   {
    "duration": 287,
    "start_time": "2022-02-15T08:20:42.599Z"
   },
   {
    "duration": 352,
    "start_time": "2022-02-15T08:20:44.369Z"
   },
   {
    "duration": 301,
    "start_time": "2022-02-15T08:20:46.315Z"
   },
   {
    "duration": 6879,
    "start_time": "2022-02-15T08:20:49.612Z"
   },
   {
    "duration": 119,
    "start_time": "2022-02-15T08:20:56.375Z"
   },
   {
    "duration": 2169,
    "start_time": "2022-02-15T09:29:01.885Z"
   },
   {
    "duration": 61,
    "start_time": "2022-02-15T09:29:04.056Z"
   },
   {
    "duration": 15,
    "start_time": "2022-02-15T09:29:04.120Z"
   },
   {
    "duration": 16,
    "start_time": "2022-02-15T09:29:04.138Z"
   },
   {
    "duration": 6,
    "start_time": "2022-02-15T09:29:04.156Z"
   },
   {
    "duration": 48,
    "start_time": "2022-02-15T09:29:04.164Z"
   },
   {
    "duration": 17,
    "start_time": "2022-02-15T09:29:04.214Z"
   },
   {
    "duration": 24,
    "start_time": "2022-02-15T09:29:04.234Z"
   },
   {
    "duration": 149,
    "start_time": "2022-02-15T09:29:04.261Z"
   },
   {
    "duration": 14,
    "start_time": "2022-02-15T09:29:04.412Z"
   },
   {
    "duration": 17,
    "start_time": "2022-02-15T09:29:04.428Z"
   },
   {
    "duration": 21,
    "start_time": "2022-02-15T09:29:04.446Z"
   },
   {
    "duration": 39,
    "start_time": "2022-02-15T09:29:04.469Z"
   },
   {
    "duration": 4,
    "start_time": "2022-02-15T09:29:04.510Z"
   },
   {
    "duration": 17,
    "start_time": "2022-02-15T09:29:04.516Z"
   },
   {
    "duration": 30,
    "start_time": "2022-02-15T09:29:04.536Z"
   },
   {
    "duration": 11,
    "start_time": "2022-02-15T09:29:04.568Z"
   },
   {
    "duration": 12,
    "start_time": "2022-02-15T09:29:04.607Z"
   },
   {
    "duration": 12,
    "start_time": "2022-02-15T09:29:04.621Z"
   },
   {
    "duration": 8,
    "start_time": "2022-02-15T09:29:04.635Z"
   },
   {
    "duration": 13,
    "start_time": "2022-02-15T09:29:04.645Z"
   },
   {
    "duration": 10,
    "start_time": "2022-02-15T09:29:04.660Z"
   },
   {
    "duration": 42,
    "start_time": "2022-02-15T09:29:04.673Z"
   },
   {
    "duration": 21,
    "start_time": "2022-02-15T09:29:04.718Z"
   },
   {
    "duration": 5,
    "start_time": "2022-02-15T09:29:04.741Z"
   },
   {
    "duration": 35,
    "start_time": "2022-02-15T09:29:04.748Z"
   },
   {
    "duration": 25,
    "start_time": "2022-02-15T09:29:04.785Z"
   },
   {
    "duration": 28,
    "start_time": "2022-02-15T09:29:04.812Z"
   },
   {
    "duration": 15,
    "start_time": "2022-02-15T09:29:04.842Z"
   },
   {
    "duration": 379,
    "start_time": "2022-02-15T09:29:04.859Z"
   },
   {
    "duration": 289,
    "start_time": "2022-02-15T09:29:05.239Z"
   },
   {
    "duration": 306,
    "start_time": "2022-02-15T09:29:05.529Z"
   },
   {
    "duration": 19,
    "start_time": "2022-02-15T09:29:18.960Z"
   },
   {
    "duration": 47,
    "start_time": "2022-02-15T09:30:01.104Z"
   },
   {
    "duration": 47,
    "start_time": "2022-02-15T09:30:43.122Z"
   },
   {
    "duration": 7,
    "start_time": "2022-02-15T09:30:59.628Z"
   },
   {
    "duration": 362,
    "start_time": "2022-02-15T09:31:14.260Z"
   },
   {
    "duration": 6,
    "start_time": "2022-02-15T09:31:22.849Z"
   },
   {
    "duration": 481,
    "start_time": "2022-02-15T09:31:52.073Z"
   },
   {
    "duration": 5,
    "start_time": "2022-02-15T09:38:26.960Z"
   },
   {
    "duration": 1092,
    "start_time": "2022-02-15T09:43:48.082Z"
   },
   {
    "duration": 1187,
    "start_time": "2022-02-15T09:44:36.282Z"
   },
   {
    "duration": 5,
    "start_time": "2022-02-15T09:44:48.585Z"
   },
   {
    "duration": 5,
    "start_time": "2022-02-15T09:45:28.868Z"
   },
   {
    "duration": 27,
    "start_time": "2022-02-15T09:45:33.538Z"
   },
   {
    "duration": 300,
    "start_time": "2022-02-15T09:45:47.570Z"
   },
   {
    "duration": 24,
    "start_time": "2022-02-15T09:46:05.594Z"
   },
   {
    "duration": 30,
    "start_time": "2022-02-15T09:46:15.442Z"
   },
   {
    "duration": 9,
    "start_time": "2022-02-15T09:46:17.473Z"
   },
   {
    "duration": 147,
    "start_time": "2022-02-15T09:46:18.826Z"
   },
   {
    "duration": 3331,
    "start_time": "2022-02-15T09:46:33.002Z"
   },
   {
    "duration": 12,
    "start_time": "2022-02-15T09:47:31.811Z"
   },
   {
    "duration": 12,
    "start_time": "2022-02-15T09:48:07.035Z"
   },
   {
    "duration": 5,
    "start_time": "2022-02-15T09:48:14.041Z"
   },
   {
    "duration": 3,
    "start_time": "2022-02-15T09:50:58.579Z"
   },
   {
    "duration": 69,
    "start_time": "2022-02-15T09:50:58.585Z"
   },
   {
    "duration": 12,
    "start_time": "2022-02-15T09:50:58.657Z"
   },
   {
    "duration": 46,
    "start_time": "2022-02-15T09:50:58.672Z"
   },
   {
    "duration": 3,
    "start_time": "2022-02-15T09:50:58.720Z"
   },
   {
    "duration": 31,
    "start_time": "2022-02-15T09:50:58.725Z"
   },
   {
    "duration": 16,
    "start_time": "2022-02-15T09:50:58.759Z"
   },
   {
    "duration": 45,
    "start_time": "2022-02-15T09:50:58.778Z"
   },
   {
    "duration": 142,
    "start_time": "2022-02-15T09:50:58.825Z"
   },
   {
    "duration": 13,
    "start_time": "2022-02-15T09:50:58.970Z"
   },
   {
    "duration": 36,
    "start_time": "2022-02-15T09:50:58.985Z"
   },
   {
    "duration": 21,
    "start_time": "2022-02-15T09:50:59.023Z"
   },
   {
    "duration": 10,
    "start_time": "2022-02-15T09:50:59.046Z"
   },
   {
    "duration": 10,
    "start_time": "2022-02-15T09:50:59.057Z"
   },
   {
    "duration": 16,
    "start_time": "2022-02-15T09:50:59.070Z"
   },
   {
    "duration": 24,
    "start_time": "2022-02-15T09:50:59.108Z"
   },
   {
    "duration": 11,
    "start_time": "2022-02-15T09:50:59.134Z"
   },
   {
    "duration": 14,
    "start_time": "2022-02-15T09:50:59.147Z"
   },
   {
    "duration": 42,
    "start_time": "2022-02-15T09:50:59.165Z"
   },
   {
    "duration": 8,
    "start_time": "2022-02-15T09:50:59.210Z"
   },
   {
    "duration": 8,
    "start_time": "2022-02-15T09:50:59.220Z"
   },
   {
    "duration": 6,
    "start_time": "2022-02-15T09:50:59.230Z"
   },
   {
    "duration": 14,
    "start_time": "2022-02-15T09:50:59.238Z"
   },
   {
    "duration": 22,
    "start_time": "2022-02-15T09:50:59.254Z"
   },
   {
    "duration": 33,
    "start_time": "2022-02-15T09:50:59.278Z"
   },
   {
    "duration": 49,
    "start_time": "2022-02-15T09:50:59.313Z"
   },
   {
    "duration": 5,
    "start_time": "2022-02-15T09:50:59.364Z"
   },
   {
    "duration": 50,
    "start_time": "2022-02-15T09:50:59.371Z"
   },
   {
    "duration": 16,
    "start_time": "2022-02-15T09:50:59.424Z"
   },
   {
    "duration": 366,
    "start_time": "2022-02-15T09:50:59.442Z"
   },
   {
    "duration": 305,
    "start_time": "2022-02-15T09:50:59.810Z"
   },
   {
    "duration": 308,
    "start_time": "2022-02-15T09:51:00.117Z"
   },
   {
    "duration": 22,
    "start_time": "2022-02-15T09:51:03.998Z"
   },
   {
    "duration": 26,
    "start_time": "2022-02-15T09:51:10.380Z"
   },
   {
    "duration": 290,
    "start_time": "2022-02-15T09:51:11.324Z"
   },
   {
    "duration": 27,
    "start_time": "2022-02-15T09:51:12.915Z"
   },
   {
    "duration": 29,
    "start_time": "2022-02-15T09:54:20.223Z"
   },
   {
    "duration": 4,
    "start_time": "2022-02-15T09:55:45.634Z"
   },
   {
    "duration": 4,
    "start_time": "2022-02-15T09:55:53.260Z"
   },
   {
    "duration": 65,
    "start_time": "2022-02-15T09:55:53.266Z"
   },
   {
    "duration": 12,
    "start_time": "2022-02-15T09:55:53.334Z"
   },
   {
    "duration": 17,
    "start_time": "2022-02-15T09:55:53.348Z"
   },
   {
    "duration": 4,
    "start_time": "2022-02-15T09:55:53.367Z"
   },
   {
    "duration": 18,
    "start_time": "2022-02-15T09:55:53.409Z"
   },
   {
    "duration": 17,
    "start_time": "2022-02-15T09:55:53.431Z"
   },
   {
    "duration": 64,
    "start_time": "2022-02-15T09:55:53.451Z"
   },
   {
    "duration": 209,
    "start_time": "2022-02-15T09:55:53.517Z"
   },
   {
    "duration": 14,
    "start_time": "2022-02-15T09:55:53.729Z"
   },
   {
    "duration": 23,
    "start_time": "2022-02-15T09:55:53.744Z"
   },
   {
    "duration": 41,
    "start_time": "2022-02-15T09:55:53.769Z"
   },
   {
    "duration": 8,
    "start_time": "2022-02-15T09:55:53.812Z"
   },
   {
    "duration": 4,
    "start_time": "2022-02-15T09:55:53.821Z"
   },
   {
    "duration": 12,
    "start_time": "2022-02-15T09:55:53.827Z"
   },
   {
    "duration": 25,
    "start_time": "2022-02-15T09:55:53.840Z"
   },
   {
    "duration": 44,
    "start_time": "2022-02-15T09:55:53.867Z"
   },
   {
    "duration": 12,
    "start_time": "2022-02-15T09:55:53.913Z"
   },
   {
    "duration": 13,
    "start_time": "2022-02-15T09:55:53.928Z"
   },
   {
    "duration": 6,
    "start_time": "2022-02-15T09:55:53.943Z"
   },
   {
    "duration": 9,
    "start_time": "2022-02-15T09:55:53.951Z"
   },
   {
    "duration": 8,
    "start_time": "2022-02-15T09:55:53.962Z"
   },
   {
    "duration": 43,
    "start_time": "2022-02-15T09:55:53.972Z"
   },
   {
    "duration": 22,
    "start_time": "2022-02-15T09:55:54.017Z"
   },
   {
    "duration": 4,
    "start_time": "2022-02-15T09:55:54.041Z"
   },
   {
    "duration": 28,
    "start_time": "2022-02-15T09:55:54.047Z"
   },
   {
    "duration": 31,
    "start_time": "2022-02-15T09:55:54.077Z"
   },
   {
    "duration": 29,
    "start_time": "2022-02-15T09:55:54.110Z"
   },
   {
    "duration": 14,
    "start_time": "2022-02-15T09:55:54.141Z"
   },
   {
    "duration": 343,
    "start_time": "2022-02-15T09:55:54.157Z"
   },
   {
    "duration": 291,
    "start_time": "2022-02-15T09:55:54.502Z"
   },
   {
    "duration": 297,
    "start_time": "2022-02-15T09:55:54.795Z"
   },
   {
    "duration": 29,
    "start_time": "2022-02-15T09:55:55.094Z"
   },
   {
    "duration": 24,
    "start_time": "2022-02-15T09:55:55.125Z"
   },
   {
    "duration": 310,
    "start_time": "2022-02-15T09:55:55.151Z"
   },
   {
    "duration": 23,
    "start_time": "2022-02-15T09:55:55.463Z"
   },
   {
    "duration": 4,
    "start_time": "2022-02-15T09:55:59.831Z"
   },
   {
    "duration": 1194,
    "start_time": "2022-02-15T09:56:31.730Z"
   },
   {
    "duration": 58,
    "start_time": "2022-02-15T09:56:32.927Z"
   },
   {
    "duration": 22,
    "start_time": "2022-02-15T09:56:32.988Z"
   },
   {
    "duration": 18,
    "start_time": "2022-02-15T09:56:33.013Z"
   },
   {
    "duration": 3,
    "start_time": "2022-02-15T09:56:33.033Z"
   },
   {
    "duration": 19,
    "start_time": "2022-02-15T09:56:33.038Z"
   },
   {
    "duration": 50,
    "start_time": "2022-02-15T09:56:33.059Z"
   },
   {
    "duration": 24,
    "start_time": "2022-02-15T09:56:33.112Z"
   },
   {
    "duration": 143,
    "start_time": "2022-02-15T09:56:33.139Z"
   },
   {
    "duration": 26,
    "start_time": "2022-02-15T09:56:33.284Z"
   },
   {
    "duration": 18,
    "start_time": "2022-02-15T09:56:33.312Z"
   },
   {
    "duration": 20,
    "start_time": "2022-02-15T09:56:33.332Z"
   },
   {
    "duration": 10,
    "start_time": "2022-02-15T09:56:33.354Z"
   },
   {
    "duration": 5,
    "start_time": "2022-02-15T09:56:33.366Z"
   },
   {
    "duration": 45,
    "start_time": "2022-02-15T09:56:33.373Z"
   },
   {
    "duration": 26,
    "start_time": "2022-02-15T09:56:33.420Z"
   },
   {
    "duration": 11,
    "start_time": "2022-02-15T09:56:33.448Z"
   },
   {
    "duration": 15,
    "start_time": "2022-02-15T09:56:33.461Z"
   },
   {
    "duration": 13,
    "start_time": "2022-02-15T09:56:33.508Z"
   },
   {
    "duration": 8,
    "start_time": "2022-02-15T09:56:33.523Z"
   },
   {
    "duration": 15,
    "start_time": "2022-02-15T09:56:33.532Z"
   },
   {
    "duration": 12,
    "start_time": "2022-02-15T09:56:33.549Z"
   },
   {
    "duration": 17,
    "start_time": "2022-02-15T09:56:33.566Z"
   },
   {
    "duration": 22,
    "start_time": "2022-02-15T09:56:33.607Z"
   },
   {
    "duration": 4,
    "start_time": "2022-02-15T09:56:33.631Z"
   },
   {
    "duration": 36,
    "start_time": "2022-02-15T09:56:33.637Z"
   },
   {
    "duration": 5,
    "start_time": "2022-02-15T09:56:33.675Z"
   },
   {
    "duration": 49,
    "start_time": "2022-02-15T09:56:33.682Z"
   },
   {
    "duration": 16,
    "start_time": "2022-02-15T09:56:33.733Z"
   },
   {
    "duration": 372,
    "start_time": "2022-02-15T09:56:33.751Z"
   },
   {
    "duration": 289,
    "start_time": "2022-02-15T09:56:34.125Z"
   },
   {
    "duration": 320,
    "start_time": "2022-02-15T09:56:34.417Z"
   },
   {
    "duration": 22,
    "start_time": "2022-02-15T09:56:34.739Z"
   },
   {
    "duration": 25,
    "start_time": "2022-02-15T09:56:34.763Z"
   },
   {
    "duration": 324,
    "start_time": "2022-02-15T09:56:34.808Z"
   },
   {
    "duration": 24,
    "start_time": "2022-02-15T09:56:35.134Z"
   },
   {
    "duration": 379,
    "start_time": "2022-02-15T09:56:35.160Z"
   },
   {
    "duration": 230,
    "start_time": "2022-02-15T09:56:35.312Z"
   },
   {
    "duration": 226,
    "start_time": "2022-02-15T09:56:35.317Z"
   },
   {
    "duration": 221,
    "start_time": "2022-02-15T09:56:35.324Z"
   },
   {
    "duration": 216,
    "start_time": "2022-02-15T09:56:35.330Z"
   },
   {
    "duration": 211,
    "start_time": "2022-02-15T09:56:35.336Z"
   },
   {
    "duration": 188,
    "start_time": "2022-02-15T09:56:35.360Z"
   },
   {
    "duration": 181,
    "start_time": "2022-02-15T09:56:35.368Z"
   },
   {
    "duration": 176,
    "start_time": "2022-02-15T09:56:35.374Z"
   },
   {
    "duration": 171,
    "start_time": "2022-02-15T09:56:35.380Z"
   },
   {
    "duration": 167,
    "start_time": "2022-02-15T09:56:35.385Z"
   },
   {
    "duration": 162,
    "start_time": "2022-02-15T09:56:35.392Z"
   },
   {
    "duration": 158,
    "start_time": "2022-02-15T09:56:35.397Z"
   },
   {
    "duration": 152,
    "start_time": "2022-02-15T09:56:35.404Z"
   },
   {
    "duration": 148,
    "start_time": "2022-02-15T09:56:35.409Z"
   },
   {
    "duration": 143,
    "start_time": "2022-02-15T09:56:35.416Z"
   },
   {
    "duration": 139,
    "start_time": "2022-02-15T09:56:35.421Z"
   },
   {
    "duration": 133,
    "start_time": "2022-02-15T09:56:35.428Z"
   },
   {
    "duration": 129,
    "start_time": "2022-02-15T09:56:35.433Z"
   },
   {
    "duration": 123,
    "start_time": "2022-02-15T09:56:35.440Z"
   },
   {
    "duration": 119,
    "start_time": "2022-02-15T09:56:35.445Z"
   },
   {
    "duration": 115,
    "start_time": "2022-02-15T09:56:35.451Z"
   },
   {
    "duration": 102,
    "start_time": "2022-02-15T09:56:35.465Z"
   },
   {
    "duration": 96,
    "start_time": "2022-02-15T09:56:35.472Z"
   },
   {
    "duration": 92,
    "start_time": "2022-02-15T09:56:35.478Z"
   },
   {
    "duration": 87,
    "start_time": "2022-02-15T09:56:35.484Z"
   },
   {
    "duration": 82,
    "start_time": "2022-02-15T09:56:35.490Z"
   },
   {
    "duration": 77,
    "start_time": "2022-02-15T09:56:35.496Z"
   },
   {
    "duration": 70,
    "start_time": "2022-02-15T09:56:35.504Z"
   },
   {
    "duration": 65,
    "start_time": "2022-02-15T09:56:35.510Z"
   },
   {
    "duration": 60,
    "start_time": "2022-02-15T09:56:35.516Z"
   },
   {
    "duration": 56,
    "start_time": "2022-02-15T09:56:35.522Z"
   },
   {
    "duration": 51,
    "start_time": "2022-02-15T09:56:35.528Z"
   },
   {
    "duration": 72,
    "start_time": "2022-02-15T09:56:35.535Z"
   },
   {
    "duration": 69,
    "start_time": "2022-02-15T09:56:35.540Z"
   },
   {
    "duration": 64,
    "start_time": "2022-02-15T09:56:35.546Z"
   },
   {
    "duration": 59,
    "start_time": "2022-02-15T09:56:35.552Z"
   },
   {
    "duration": 54,
    "start_time": "2022-02-15T09:56:35.558Z"
   },
   {
    "duration": 49,
    "start_time": "2022-02-15T09:56:35.564Z"
   },
   {
    "duration": 35,
    "start_time": "2022-02-15T09:56:35.579Z"
   },
   {
    "duration": 29,
    "start_time": "2022-02-15T09:56:35.585Z"
   },
   {
    "duration": 23,
    "start_time": "2022-02-15T09:56:35.592Z"
   },
   {
    "duration": 18,
    "start_time": "2022-02-15T09:56:35.598Z"
   },
   {
    "duration": 12,
    "start_time": "2022-02-15T09:56:35.605Z"
   },
   {
    "duration": 8,
    "start_time": "2022-02-15T09:56:35.610Z"
   },
   {
    "duration": 2,
    "start_time": "2022-02-15T09:56:35.617Z"
   },
   {
    "duration": -14,
    "start_time": "2022-02-15T09:56:35.634Z"
   },
   {
    "duration": 240,
    "start_time": "2022-02-15T09:57:11.343Z"
   },
   {
    "duration": 28,
    "start_time": "2022-02-15T09:57:45.232Z"
   },
   {
    "duration": 28,
    "start_time": "2022-02-15T09:57:56.896Z"
   },
   {
    "duration": 5,
    "start_time": "2022-02-15T09:58:25.559Z"
   },
   {
    "duration": 27,
    "start_time": "2022-02-15T09:58:43.656Z"
   },
   {
    "duration": 5,
    "start_time": "2022-02-15T09:58:48.435Z"
   },
   {
    "duration": 9,
    "start_time": "2022-02-15T09:58:52.215Z"
   },
   {
    "duration": 135,
    "start_time": "2022-02-15T09:58:55.463Z"
   },
   {
    "duration": 5,
    "start_time": "2022-02-15T09:59:06.681Z"
   },
   {
    "duration": 459,
    "start_time": "2022-02-15T09:59:11.440Z"
   },
   {
    "duration": 4,
    "start_time": "2022-02-15T10:00:53.248Z"
   },
   {
    "duration": 9,
    "start_time": "2022-02-15T10:01:30.990Z"
   },
   {
    "duration": 16,
    "start_time": "2022-02-15T10:02:07.399Z"
   },
   {
    "duration": 23,
    "start_time": "2022-02-15T10:02:29.349Z"
   },
   {
    "duration": 4,
    "start_time": "2022-02-15T10:02:39.758Z"
   },
   {
    "duration": 78,
    "start_time": "2022-02-15T10:02:39.765Z"
   },
   {
    "duration": 18,
    "start_time": "2022-02-15T10:02:39.847Z"
   },
   {
    "duration": 43,
    "start_time": "2022-02-15T10:02:39.867Z"
   },
   {
    "duration": 3,
    "start_time": "2022-02-15T10:02:39.912Z"
   },
   {
    "duration": 25,
    "start_time": "2022-02-15T10:02:39.917Z"
   },
   {
    "duration": 16,
    "start_time": "2022-02-15T10:02:39.944Z"
   },
   {
    "duration": 55,
    "start_time": "2022-02-15T10:02:39.962Z"
   },
   {
    "duration": 148,
    "start_time": "2022-02-15T10:02:40.020Z"
   },
   {
    "duration": 15,
    "start_time": "2022-02-15T10:02:40.171Z"
   },
   {
    "duration": 39,
    "start_time": "2022-02-15T10:02:40.188Z"
   },
   {
    "duration": 24,
    "start_time": "2022-02-15T10:02:40.229Z"
   },
   {
    "duration": 9,
    "start_time": "2022-02-15T10:02:40.255Z"
   },
   {
    "duration": 10,
    "start_time": "2022-02-15T10:02:40.266Z"
   },
   {
    "duration": 35,
    "start_time": "2022-02-15T10:02:40.278Z"
   },
   {
    "duration": 25,
    "start_time": "2022-02-15T10:02:40.315Z"
   },
   {
    "duration": 13,
    "start_time": "2022-02-15T10:02:40.342Z"
   },
   {
    "duration": 15,
    "start_time": "2022-02-15T10:02:40.357Z"
   },
   {
    "duration": 43,
    "start_time": "2022-02-15T10:02:40.374Z"
   },
   {
    "duration": 8,
    "start_time": "2022-02-15T10:02:40.419Z"
   },
   {
    "duration": 13,
    "start_time": "2022-02-15T10:02:40.429Z"
   },
   {
    "duration": 7,
    "start_time": "2022-02-15T10:02:40.444Z"
   },
   {
    "duration": 14,
    "start_time": "2022-02-15T10:02:40.454Z"
   },
   {
    "duration": 55,
    "start_time": "2022-02-15T10:02:40.470Z"
   },
   {
    "duration": 8,
    "start_time": "2022-02-15T10:02:40.527Z"
   },
   {
    "duration": 32,
    "start_time": "2022-02-15T10:02:40.537Z"
   },
   {
    "duration": 4,
    "start_time": "2022-02-15T10:02:40.573Z"
   },
   {
    "duration": 50,
    "start_time": "2022-02-15T10:02:40.580Z"
   },
   {
    "duration": 15,
    "start_time": "2022-02-15T10:02:40.632Z"
   },
   {
    "duration": 363,
    "start_time": "2022-02-15T10:02:40.650Z"
   },
   {
    "duration": 302,
    "start_time": "2022-02-15T10:02:41.014Z"
   },
   {
    "duration": 308,
    "start_time": "2022-02-15T10:02:41.318Z"
   },
   {
    "duration": 20,
    "start_time": "2022-02-15T10:02:41.628Z"
   },
   {
    "duration": 24,
    "start_time": "2022-02-15T10:02:41.650Z"
   },
   {
    "duration": 399,
    "start_time": "2022-02-15T10:02:41.676Z"
   },
   {
    "duration": 38,
    "start_time": "2022-02-15T10:02:42.077Z"
   },
   {
    "duration": 28,
    "start_time": "2022-02-15T10:02:42.117Z"
   },
   {
    "duration": 8,
    "start_time": "2022-02-15T10:02:42.147Z"
   },
   {
    "duration": 165,
    "start_time": "2022-02-15T10:02:42.157Z"
   },
   {
    "duration": 10,
    "start_time": "2022-02-15T10:02:56.540Z"
   },
   {
    "duration": 466,
    "start_time": "2022-02-15T10:03:04.738Z"
   },
   {
    "duration": 348,
    "start_time": "2022-02-15T10:03:34.660Z"
   },
   {
    "duration": 438,
    "start_time": "2022-02-15T10:04:55.995Z"
   },
   {
    "duration": 5,
    "start_time": "2022-02-15T10:05:02.227Z"
   },
   {
    "duration": 248,
    "start_time": "2022-02-15T10:05:04.323Z"
   },
   {
    "duration": 267,
    "start_time": "2022-02-15T10:05:21.035Z"
   },
   {
    "duration": 263,
    "start_time": "2022-02-15T10:05:38.484Z"
   },
   {
    "duration": 1235,
    "start_time": "2022-02-15T10:05:58.785Z"
   },
   {
    "duration": 65,
    "start_time": "2022-02-15T10:06:00.023Z"
   },
   {
    "duration": 22,
    "start_time": "2022-02-15T10:06:00.091Z"
   },
   {
    "duration": 22,
    "start_time": "2022-02-15T10:06:00.116Z"
   },
   {
    "duration": 8,
    "start_time": "2022-02-15T10:06:00.140Z"
   },
   {
    "duration": 36,
    "start_time": "2022-02-15T10:06:00.150Z"
   },
   {
    "duration": 26,
    "start_time": "2022-02-15T10:06:00.188Z"
   },
   {
    "duration": 52,
    "start_time": "2022-02-15T10:06:00.217Z"
   },
   {
    "duration": 132,
    "start_time": "2022-02-15T10:06:00.271Z"
   },
   {
    "duration": 14,
    "start_time": "2022-02-15T10:06:00.407Z"
   },
   {
    "duration": 28,
    "start_time": "2022-02-15T10:06:00.423Z"
   },
   {
    "duration": 28,
    "start_time": "2022-02-15T10:06:00.453Z"
   },
   {
    "duration": 24,
    "start_time": "2022-02-15T10:06:00.483Z"
   },
   {
    "duration": 4,
    "start_time": "2022-02-15T10:06:00.510Z"
   },
   {
    "duration": 36,
    "start_time": "2022-02-15T10:06:00.516Z"
   },
   {
    "duration": 27,
    "start_time": "2022-02-15T10:06:00.554Z"
   },
   {
    "duration": 27,
    "start_time": "2022-02-15T10:06:00.583Z"
   },
   {
    "duration": 29,
    "start_time": "2022-02-15T10:06:00.612Z"
   },
   {
    "duration": 24,
    "start_time": "2022-02-15T10:06:00.643Z"
   },
   {
    "duration": 24,
    "start_time": "2022-02-15T10:06:00.669Z"
   },
   {
    "duration": 27,
    "start_time": "2022-02-15T10:06:00.695Z"
   },
   {
    "duration": 27,
    "start_time": "2022-02-15T10:06:00.724Z"
   },
   {
    "duration": 27,
    "start_time": "2022-02-15T10:06:00.756Z"
   },
   {
    "duration": 33,
    "start_time": "2022-02-15T10:06:00.786Z"
   },
   {
    "duration": 22,
    "start_time": "2022-02-15T10:06:00.821Z"
   },
   {
    "duration": 36,
    "start_time": "2022-02-15T10:06:00.845Z"
   },
   {
    "duration": 22,
    "start_time": "2022-02-15T10:06:00.882Z"
   },
   {
    "duration": 38,
    "start_time": "2022-02-15T10:06:00.907Z"
   },
   {
    "duration": 15,
    "start_time": "2022-02-15T10:06:00.948Z"
   },
   {
    "duration": 365,
    "start_time": "2022-02-15T10:06:00.965Z"
   },
   {
    "duration": 318,
    "start_time": "2022-02-15T10:06:01.332Z"
   },
   {
    "duration": 319,
    "start_time": "2022-02-15T10:06:01.652Z"
   },
   {
    "duration": 34,
    "start_time": "2022-02-15T10:06:01.973Z"
   },
   {
    "duration": 29,
    "start_time": "2022-02-15T10:06:02.009Z"
   },
   {
    "duration": 338,
    "start_time": "2022-02-15T10:06:02.041Z"
   },
   {
    "duration": 51,
    "start_time": "2022-02-15T10:06:02.382Z"
   },
   {
    "duration": 98,
    "start_time": "2022-02-15T10:06:02.436Z"
   },
   {
    "duration": 17,
    "start_time": "2022-02-15T10:06:02.536Z"
   },
   {
    "duration": 181,
    "start_time": "2022-02-15T10:06:02.555Z"
   },
   {
    "duration": 4205,
    "start_time": "2022-02-15T10:06:02.738Z"
   },
   {
    "duration": -15,
    "start_time": "2022-02-15T10:06:06.961Z"
   },
   {
    "duration": -38,
    "start_time": "2022-02-15T10:06:06.985Z"
   },
   {
    "duration": -80,
    "start_time": "2022-02-15T10:06:07.029Z"
   },
   {
    "duration": -86,
    "start_time": "2022-02-15T10:06:07.036Z"
   },
   {
    "duration": -155,
    "start_time": "2022-02-15T10:06:07.106Z"
   },
   {
    "duration": -263,
    "start_time": "2022-02-15T10:06:07.215Z"
   },
   {
    "duration": -425,
    "start_time": "2022-02-15T10:06:07.378Z"
   },
   {
    "duration": -444,
    "start_time": "2022-02-15T10:06:07.399Z"
   },
   {
    "duration": -461,
    "start_time": "2022-02-15T10:06:07.417Z"
   },
   {
    "duration": -491,
    "start_time": "2022-02-15T10:06:07.448Z"
   },
   {
    "duration": -509,
    "start_time": "2022-02-15T10:06:07.467Z"
   },
   {
    "duration": -541,
    "start_time": "2022-02-15T10:06:07.500Z"
   },
   {
    "duration": -558,
    "start_time": "2022-02-15T10:06:07.518Z"
   },
   {
    "duration": -589,
    "start_time": "2022-02-15T10:06:07.549Z"
   },
   {
    "duration": -594,
    "start_time": "2022-02-15T10:06:07.555Z"
   },
   {
    "duration": -601,
    "start_time": "2022-02-15T10:06:07.563Z"
   },
   {
    "duration": -640,
    "start_time": "2022-02-15T10:06:07.603Z"
   },
   {
    "duration": -646,
    "start_time": "2022-02-15T10:06:07.610Z"
   },
   {
    "duration": -650,
    "start_time": "2022-02-15T10:06:07.615Z"
   },
   {
    "duration": -656,
    "start_time": "2022-02-15T10:06:07.622Z"
   },
   {
    "duration": -661,
    "start_time": "2022-02-15T10:06:07.628Z"
   },
   {
    "duration": -666,
    "start_time": "2022-02-15T10:06:07.634Z"
   },
   {
    "duration": -670,
    "start_time": "2022-02-15T10:06:07.640Z"
   },
   {
    "duration": -689,
    "start_time": "2022-02-15T10:06:07.660Z"
   },
   {
    "duration": -701,
    "start_time": "2022-02-15T10:06:07.673Z"
   },
   {
    "duration": -720,
    "start_time": "2022-02-15T10:06:07.693Z"
   },
   {
    "duration": -737,
    "start_time": "2022-02-15T10:06:07.711Z"
   },
   {
    "duration": -758,
    "start_time": "2022-02-15T10:06:07.734Z"
   },
   {
    "duration": -774,
    "start_time": "2022-02-15T10:06:07.752Z"
   },
   {
    "duration": -807,
    "start_time": "2022-02-15T10:06:07.786Z"
   },
   {
    "duration": -835,
    "start_time": "2022-02-15T10:06:07.816Z"
   },
   {
    "duration": -851,
    "start_time": "2022-02-15T10:06:07.833Z"
   },
   {
    "duration": -844,
    "start_time": "2022-02-15T10:06:07.852Z"
   },
   {
    "duration": -875,
    "start_time": "2022-02-15T10:06:07.884Z"
   },
   {
    "duration": -889,
    "start_time": "2022-02-15T10:06:07.900Z"
   },
   {
    "duration": -894,
    "start_time": "2022-02-15T10:06:07.906Z"
   },
   {
    "duration": -898,
    "start_time": "2022-02-15T10:06:07.912Z"
   },
   {
    "duration": -902,
    "start_time": "2022-02-15T10:06:07.918Z"
   },
   {
    "duration": -907,
    "start_time": "2022-02-15T10:06:07.924Z"
   },
   {
    "duration": -911,
    "start_time": "2022-02-15T10:06:07.930Z"
   },
   {
    "duration": 1230,
    "start_time": "2022-02-15T10:07:06.278Z"
   },
   {
    "duration": 61,
    "start_time": "2022-02-15T10:07:07.511Z"
   },
   {
    "duration": 14,
    "start_time": "2022-02-15T10:07:07.575Z"
   },
   {
    "duration": 30,
    "start_time": "2022-02-15T10:07:07.591Z"
   },
   {
    "duration": 3,
    "start_time": "2022-02-15T10:07:07.623Z"
   },
   {
    "duration": 18,
    "start_time": "2022-02-15T10:07:07.628Z"
   },
   {
    "duration": 16,
    "start_time": "2022-02-15T10:07:07.648Z"
   },
   {
    "duration": 61,
    "start_time": "2022-02-15T10:07:07.667Z"
   },
   {
    "duration": 134,
    "start_time": "2022-02-15T10:07:07.731Z"
   },
   {
    "duration": 13,
    "start_time": "2022-02-15T10:07:07.867Z"
   },
   {
    "duration": 34,
    "start_time": "2022-02-15T10:07:07.882Z"
   },
   {
    "duration": 24,
    "start_time": "2022-02-15T10:07:07.919Z"
   },
   {
    "duration": 9,
    "start_time": "2022-02-15T10:07:07.946Z"
   },
   {
    "duration": 13,
    "start_time": "2022-02-15T10:07:07.957Z"
   },
   {
    "duration": 35,
    "start_time": "2022-02-15T10:07:07.972Z"
   },
   {
    "duration": 29,
    "start_time": "2022-02-15T10:07:08.010Z"
   },
   {
    "duration": 12,
    "start_time": "2022-02-15T10:07:08.041Z"
   },
   {
    "duration": 17,
    "start_time": "2022-02-15T10:07:08.055Z"
   },
   {
    "duration": 38,
    "start_time": "2022-02-15T10:07:08.074Z"
   },
   {
    "duration": 7,
    "start_time": "2022-02-15T10:07:08.115Z"
   },
   {
    "duration": 15,
    "start_time": "2022-02-15T10:07:08.124Z"
   },
   {
    "duration": 7,
    "start_time": "2022-02-15T10:07:08.141Z"
   },
   {
    "duration": 11,
    "start_time": "2022-02-15T10:07:08.153Z"
   },
   {
    "duration": 46,
    "start_time": "2022-02-15T10:07:08.167Z"
   },
   {
    "duration": 7,
    "start_time": "2022-02-15T10:07:08.215Z"
   },
   {
    "duration": 31,
    "start_time": "2022-02-15T10:07:08.224Z"
   },
   {
    "duration": 4,
    "start_time": "2022-02-15T10:07:08.257Z"
   },
   {
    "duration": 57,
    "start_time": "2022-02-15T10:07:08.263Z"
   },
   {
    "duration": 16,
    "start_time": "2022-02-15T10:07:08.322Z"
   },
   {
    "duration": 351,
    "start_time": "2022-02-15T10:07:08.340Z"
   },
   {
    "duration": 286,
    "start_time": "2022-02-15T10:07:08.693Z"
   },
   {
    "duration": 313,
    "start_time": "2022-02-15T10:07:08.981Z"
   },
   {
    "duration": 29,
    "start_time": "2022-02-15T10:07:09.296Z"
   },
   {
    "duration": 26,
    "start_time": "2022-02-15T10:07:09.328Z"
   },
   {
    "duration": 332,
    "start_time": "2022-02-15T10:07:09.356Z"
   },
   {
    "duration": 34,
    "start_time": "2022-02-15T10:07:09.690Z"
   },
   {
    "duration": 30,
    "start_time": "2022-02-15T10:07:09.726Z"
   },
   {
    "duration": 8,
    "start_time": "2022-02-15T10:07:09.757Z"
   },
   {
    "duration": 176,
    "start_time": "2022-02-15T10:07:09.767Z"
   },
   {
    "duration": 256,
    "start_time": "2022-02-15T10:07:09.945Z"
   },
   {
    "duration": 9,
    "start_time": "2022-02-15T10:07:10.202Z"
   },
   {
    "duration": 314,
    "start_time": "2022-02-15T10:07:10.213Z"
   },
   {
    "duration": 281,
    "start_time": "2022-02-15T10:07:10.529Z"
   },
   {
    "duration": 281,
    "start_time": "2022-02-15T10:07:10.813Z"
   },
   {
    "duration": 14,
    "start_time": "2022-02-15T10:07:11.095Z"
   },
   {
    "duration": 413,
    "start_time": "2022-02-15T10:07:11.111Z"
   },
   {
    "duration": 8,
    "start_time": "2022-02-15T10:07:11.526Z"
   },
   {
    "duration": 309,
    "start_time": "2022-02-15T10:07:11.536Z"
   },
   {
    "duration": 9,
    "start_time": "2022-02-15T10:07:11.847Z"
   },
   {
    "duration": 12,
    "start_time": "2022-02-15T10:07:11.858Z"
   },
   {
    "duration": 14,
    "start_time": "2022-02-15T10:07:11.872Z"
   },
   {
    "duration": 10,
    "start_time": "2022-02-15T10:07:11.908Z"
   },
   {
    "duration": 11,
    "start_time": "2022-02-15T10:07:11.920Z"
   },
   {
    "duration": 359,
    "start_time": "2022-02-15T10:07:11.933Z"
   },
   {
    "duration": 386,
    "start_time": "2022-02-15T10:07:12.294Z"
   },
   {
    "duration": 27,
    "start_time": "2022-02-15T10:07:12.682Z"
   },
   {
    "duration": 271,
    "start_time": "2022-02-15T10:07:12.711Z"
   },
   {
    "duration": 261,
    "start_time": "2022-02-15T10:07:12.984Z"
   },
   {
    "duration": 7,
    "start_time": "2022-02-15T10:07:13.247Z"
   },
   {
    "duration": 9,
    "start_time": "2022-02-15T10:07:13.256Z"
   },
   {
    "duration": 57,
    "start_time": "2022-02-15T10:07:13.267Z"
   },
   {
    "duration": 37,
    "start_time": "2022-02-15T10:07:13.326Z"
   },
   {
    "duration": 60,
    "start_time": "2022-02-15T10:07:13.365Z"
   },
   {
    "duration": 18,
    "start_time": "2022-02-15T10:07:13.427Z"
   },
   {
    "duration": 348,
    "start_time": "2022-02-15T10:07:13.447Z"
   },
   {
    "duration": 23,
    "start_time": "2022-02-15T10:07:13.797Z"
   },
   {
    "duration": 373,
    "start_time": "2022-02-15T10:07:13.822Z"
   },
   {
    "duration": 24,
    "start_time": "2022-02-15T10:07:14.200Z"
   },
   {
    "duration": 310,
    "start_time": "2022-02-15T10:07:14.226Z"
   },
   {
    "duration": 7,
    "start_time": "2022-02-15T10:07:14.538Z"
   },
   {
    "duration": 9,
    "start_time": "2022-02-15T10:07:14.547Z"
   },
   {
    "duration": 6,
    "start_time": "2022-02-15T10:07:14.558Z"
   },
   {
    "duration": 13,
    "start_time": "2022-02-15T10:07:14.565Z"
   },
   {
    "duration": 32,
    "start_time": "2022-02-15T10:07:14.580Z"
   },
   {
    "duration": 287,
    "start_time": "2022-02-15T10:07:14.614Z"
   },
   {
    "duration": 9,
    "start_time": "2022-02-15T10:07:14.908Z"
   },
   {
    "duration": 6,
    "start_time": "2022-02-15T10:07:14.919Z"
   },
   {
    "duration": 18,
    "start_time": "2022-02-15T10:07:14.928Z"
   },
   {
    "duration": 11,
    "start_time": "2022-02-15T10:07:14.949Z"
   },
   {
    "duration": 320,
    "start_time": "2022-02-15T10:07:14.962Z"
   },
   {
    "duration": 8,
    "start_time": "2022-02-15T10:15:09.413Z"
   },
   {
    "duration": 17,
    "start_time": "2022-02-15T10:15:24.412Z"
   },
   {
    "duration": 18,
    "start_time": "2022-02-15T10:15:30.580Z"
   },
   {
    "duration": 416,
    "start_time": "2022-02-15T10:15:36.364Z"
   },
   {
    "duration": 298,
    "start_time": "2022-02-15T10:16:51.398Z"
   },
   {
    "duration": 293,
    "start_time": "2022-02-15T10:16:57.693Z"
   },
   {
    "duration": 340,
    "start_time": "2022-02-15T10:26:26.358Z"
   },
   {
    "duration": 280,
    "start_time": "2022-02-15T10:26:31.958Z"
   },
   {
    "duration": 299,
    "start_time": "2022-02-15T10:27:29.396Z"
   },
   {
    "duration": 260,
    "start_time": "2022-02-15T10:31:42.984Z"
   },
   {
    "duration": 300,
    "start_time": "2022-02-15T10:34:05.911Z"
   },
   {
    "duration": 1415,
    "start_time": "2022-02-15T14:08:24.847Z"
   },
   {
    "duration": 73,
    "start_time": "2022-02-15T14:08:26.265Z"
   },
   {
    "duration": 16,
    "start_time": "2022-02-15T14:08:26.341Z"
   },
   {
    "duration": 20,
    "start_time": "2022-02-15T14:08:26.360Z"
   },
   {
    "duration": 4,
    "start_time": "2022-02-15T14:08:26.382Z"
   },
   {
    "duration": 31,
    "start_time": "2022-02-15T14:08:26.425Z"
   },
   {
    "duration": 32,
    "start_time": "2022-02-15T14:08:26.459Z"
   },
   {
    "duration": 50,
    "start_time": "2022-02-15T14:08:26.525Z"
   },
   {
    "duration": 327,
    "start_time": "2022-02-15T14:08:26.579Z"
   },
   {
    "duration": 28,
    "start_time": "2022-02-15T14:08:26.909Z"
   },
   {
    "duration": 35,
    "start_time": "2022-02-15T14:08:26.941Z"
   },
   {
    "duration": 66,
    "start_time": "2022-02-15T14:08:26.979Z"
   },
   {
    "duration": 18,
    "start_time": "2022-02-15T14:08:27.048Z"
   },
   {
    "duration": 6,
    "start_time": "2022-02-15T14:08:27.069Z"
   },
   {
    "duration": 46,
    "start_time": "2022-02-15T14:08:27.077Z"
   },
   {
    "duration": 54,
    "start_time": "2022-02-15T14:08:27.127Z"
   },
   {
    "duration": 12,
    "start_time": "2022-02-15T14:08:27.183Z"
   },
   {
    "duration": 37,
    "start_time": "2022-02-15T14:08:27.197Z"
   },
   {
    "duration": 27,
    "start_time": "2022-02-15T14:08:27.237Z"
   },
   {
    "duration": 10,
    "start_time": "2022-02-15T14:08:27.266Z"
   },
   {
    "duration": 50,
    "start_time": "2022-02-15T14:08:27.279Z"
   },
   {
    "duration": 8,
    "start_time": "2022-02-15T14:08:27.331Z"
   },
   {
    "duration": 15,
    "start_time": "2022-02-15T14:08:27.347Z"
   },
   {
    "duration": 64,
    "start_time": "2022-02-15T14:08:27.368Z"
   },
   {
    "duration": 8,
    "start_time": "2022-02-15T14:08:27.435Z"
   },
   {
    "duration": 77,
    "start_time": "2022-02-15T14:08:27.446Z"
   },
   {
    "duration": 8,
    "start_time": "2022-02-15T14:08:27.526Z"
   },
   {
    "duration": 36,
    "start_time": "2022-02-15T14:08:27.537Z"
   },
   {
    "duration": 47,
    "start_time": "2022-02-15T14:08:27.576Z"
   },
   {
    "duration": 509,
    "start_time": "2022-02-15T14:08:27.626Z"
   },
   {
    "duration": 435,
    "start_time": "2022-02-15T14:08:28.137Z"
   },
   {
    "duration": 459,
    "start_time": "2022-02-15T14:08:28.575Z"
   },
   {
    "duration": 39,
    "start_time": "2022-02-15T14:08:29.037Z"
   },
   {
    "duration": 62,
    "start_time": "2022-02-15T14:08:29.078Z"
   },
   {
    "duration": 541,
    "start_time": "2022-02-15T14:08:29.143Z"
   },
   {
    "duration": 62,
    "start_time": "2022-02-15T14:08:29.688Z"
   },
   {
    "duration": 41,
    "start_time": "2022-02-15T14:08:29.753Z"
   },
   {
    "duration": 37,
    "start_time": "2022-02-15T14:08:29.796Z"
   },
   {
    "duration": 224,
    "start_time": "2022-02-15T14:08:29.835Z"
   },
   {
    "duration": 392,
    "start_time": "2022-02-15T14:08:30.063Z"
   },
   {
    "duration": 9,
    "start_time": "2022-02-15T14:08:30.458Z"
   },
   {
    "duration": 461,
    "start_time": "2022-02-15T14:08:30.470Z"
   },
   {
    "duration": 418,
    "start_time": "2022-02-15T14:08:30.933Z"
   },
   {
    "duration": 422,
    "start_time": "2022-02-15T14:08:31.353Z"
   },
   {
    "duration": 12,
    "start_time": "2022-02-15T14:08:31.777Z"
   },
   {
    "duration": 534,
    "start_time": "2022-02-15T14:08:31.792Z"
   },
   {
    "duration": 12,
    "start_time": "2022-02-15T14:08:32.328Z"
   },
   {
    "duration": 421,
    "start_time": "2022-02-15T14:08:32.343Z"
   },
   {
    "duration": 11,
    "start_time": "2022-02-15T14:08:32.766Z"
   },
   {
    "duration": 16,
    "start_time": "2022-02-15T14:08:32.779Z"
   },
   {
    "duration": 33,
    "start_time": "2022-02-15T14:08:32.797Z"
   },
   {
    "duration": 13,
    "start_time": "2022-02-15T14:08:32.833Z"
   },
   {
    "duration": 16,
    "start_time": "2022-02-15T14:08:32.849Z"
   },
   {
    "duration": 523,
    "start_time": "2022-02-15T14:08:32.868Z"
   },
   {
    "duration": 502,
    "start_time": "2022-02-15T14:08:33.393Z"
   },
   {
    "duration": 35,
    "start_time": "2022-02-15T14:08:33.898Z"
   },
   {
    "duration": 531,
    "start_time": "2022-02-15T14:08:33.936Z"
   },
   {
    "duration": 371,
    "start_time": "2022-02-15T14:08:34.469Z"
   },
   {
    "duration": 11,
    "start_time": "2022-02-15T14:08:34.843Z"
   },
   {
    "duration": 11,
    "start_time": "2022-02-15T14:08:34.857Z"
   },
   {
    "duration": 82,
    "start_time": "2022-02-15T14:08:34.870Z"
   },
   {
    "duration": 73,
    "start_time": "2022-02-15T14:08:34.955Z"
   },
   {
    "duration": 55,
    "start_time": "2022-02-15T14:08:35.030Z"
   },
   {
    "duration": 50,
    "start_time": "2022-02-15T14:08:35.087Z"
   },
   {
    "duration": 544,
    "start_time": "2022-02-15T14:08:35.139Z"
   },
   {
    "duration": 46,
    "start_time": "2022-02-15T14:08:35.687Z"
   },
   {
    "duration": 575,
    "start_time": "2022-02-15T14:08:35.736Z"
   },
   {
    "duration": 27,
    "start_time": "2022-02-15T14:08:36.332Z"
   },
   {
    "duration": 426,
    "start_time": "2022-02-15T14:08:36.361Z"
   },
   {
    "duration": 11,
    "start_time": "2022-02-15T14:08:36.790Z"
   },
   {
    "duration": 28,
    "start_time": "2022-02-15T14:08:36.803Z"
   },
   {
    "duration": 9,
    "start_time": "2022-02-15T14:08:36.834Z"
   },
   {
    "duration": 15,
    "start_time": "2022-02-15T14:08:36.846Z"
   },
   {
    "duration": 19,
    "start_time": "2022-02-15T14:08:36.864Z"
   },
   {
    "duration": 464,
    "start_time": "2022-02-15T14:08:36.886Z"
   },
   {
    "duration": 10,
    "start_time": "2022-02-15T14:08:37.352Z"
   },
   {
    "duration": 18,
    "start_time": "2022-02-15T14:08:37.364Z"
   },
   {
    "duration": 11,
    "start_time": "2022-02-15T14:08:37.385Z"
   },
   {
    "duration": 14,
    "start_time": "2022-02-15T14:08:37.425Z"
   },
   {
    "duration": 544,
    "start_time": "2022-02-15T14:08:37.445Z"
   },
   {
    "duration": 1356,
    "start_time": "2022-02-23T07:22:09.462Z"
   },
   {
    "duration": 72,
    "start_time": "2022-02-23T07:22:10.820Z"
   },
   {
    "duration": 15,
    "start_time": "2022-02-23T07:22:10.895Z"
   },
   {
    "duration": 18,
    "start_time": "2022-02-23T07:22:10.913Z"
   },
   {
    "duration": 28,
    "start_time": "2022-02-23T07:22:10.933Z"
   },
   {
    "duration": 23,
    "start_time": "2022-02-23T07:22:10.964Z"
   },
   {
    "duration": 19,
    "start_time": "2022-02-23T07:22:10.989Z"
   },
   {
    "duration": 58,
    "start_time": "2022-02-23T07:22:11.011Z"
   },
   {
    "duration": 203,
    "start_time": "2022-02-23T07:22:11.072Z"
   },
   {
    "duration": 19,
    "start_time": "2022-02-23T07:22:11.278Z"
   },
   {
    "duration": 22,
    "start_time": "2022-02-23T07:22:11.300Z"
   },
   {
    "duration": 61,
    "start_time": "2022-02-23T07:22:11.325Z"
   },
   {
    "duration": 12,
    "start_time": "2022-02-23T07:22:11.389Z"
   },
   {
    "duration": 4,
    "start_time": "2022-02-23T07:22:11.404Z"
   },
   {
    "duration": 52,
    "start_time": "2022-02-23T07:22:11.410Z"
   },
   {
    "duration": 36,
    "start_time": "2022-02-23T07:22:11.465Z"
   },
   {
    "duration": 15,
    "start_time": "2022-02-23T07:22:11.504Z"
   },
   {
    "duration": 52,
    "start_time": "2022-02-23T07:22:11.522Z"
   },
   {
    "duration": 16,
    "start_time": "2022-02-23T07:22:11.577Z"
   },
   {
    "duration": 12,
    "start_time": "2022-02-23T07:22:11.595Z"
   },
   {
    "duration": 12,
    "start_time": "2022-02-23T07:22:11.610Z"
   },
   {
    "duration": 40,
    "start_time": "2022-02-23T07:22:11.625Z"
   },
   {
    "duration": 15,
    "start_time": "2022-02-23T07:22:11.671Z"
   },
   {
    "duration": 32,
    "start_time": "2022-02-23T07:22:11.689Z"
   },
   {
    "duration": 41,
    "start_time": "2022-02-23T07:22:11.724Z"
   },
   {
    "duration": 39,
    "start_time": "2022-02-23T07:22:11.767Z"
   },
   {
    "duration": 5,
    "start_time": "2022-02-23T07:22:11.808Z"
   },
   {
    "duration": 74,
    "start_time": "2022-02-23T07:22:11.816Z"
   },
   {
    "duration": 21,
    "start_time": "2022-02-23T07:22:11.893Z"
   },
   {
    "duration": 521,
    "start_time": "2022-02-23T07:22:11.916Z"
   },
   {
    "duration": 442,
    "start_time": "2022-02-23T07:22:12.439Z"
   },
   {
    "duration": 454,
    "start_time": "2022-02-23T07:22:12.884Z"
   },
   {
    "duration": 41,
    "start_time": "2022-02-23T07:22:13.341Z"
   },
   {
    "duration": 40,
    "start_time": "2022-02-23T07:22:13.384Z"
   },
   {
    "duration": 478,
    "start_time": "2022-02-23T07:22:13.427Z"
   },
   {
    "duration": 54,
    "start_time": "2022-02-23T07:22:13.908Z"
   },
   {
    "duration": 43,
    "start_time": "2022-02-23T07:22:13.965Z"
   },
   {
    "duration": 10,
    "start_time": "2022-02-23T07:22:14.010Z"
   },
   {
    "duration": 246,
    "start_time": "2022-02-23T07:22:14.023Z"
   },
   {
    "duration": 393,
    "start_time": "2022-02-23T07:22:14.272Z"
   },
   {
    "duration": 11,
    "start_time": "2022-02-23T07:22:14.668Z"
   },
   {
    "duration": 404,
    "start_time": "2022-02-23T07:23:47.297Z"
   },
   {
    "duration": 458,
    "start_time": "2022-02-23T07:23:53.312Z"
   },
   {
    "duration": 623,
    "start_time": "2022-02-23T07:23:58.049Z"
   },
   {
    "duration": 720,
    "start_time": "2022-02-23T07:30:01.302Z"
   },
   {
    "duration": 502,
    "start_time": "2022-02-23T07:38:25.459Z"
   },
   {
    "duration": 420,
    "start_time": "2022-02-23T07:45:14.173Z"
   },
   {
    "duration": 446,
    "start_time": "2022-02-23T08:02:54.719Z"
   },
   {
    "duration": 288,
    "start_time": "2022-02-23T08:08:31.827Z"
   },
   {
    "duration": 4,
    "start_time": "2022-02-23T08:08:38.900Z"
   },
   {
    "duration": 71,
    "start_time": "2022-02-23T08:08:38.910Z"
   },
   {
    "duration": 15,
    "start_time": "2022-02-23T08:08:38.984Z"
   },
   {
    "duration": 22,
    "start_time": "2022-02-23T08:08:39.002Z"
   },
   {
    "duration": 5,
    "start_time": "2022-02-23T08:08:39.062Z"
   },
   {
    "duration": 25,
    "start_time": "2022-02-23T08:08:39.069Z"
   },
   {
    "duration": 22,
    "start_time": "2022-02-23T08:08:39.097Z"
   },
   {
    "duration": 73,
    "start_time": "2022-02-23T08:08:39.122Z"
   },
   {
    "duration": 215,
    "start_time": "2022-02-23T08:08:39.199Z"
   },
   {
    "duration": 19,
    "start_time": "2022-02-23T08:08:39.417Z"
   },
   {
    "duration": 35,
    "start_time": "2022-02-23T08:08:39.438Z"
   },
   {
    "duration": 26,
    "start_time": "2022-02-23T08:08:39.476Z"
   },
   {
    "duration": 11,
    "start_time": "2022-02-23T08:08:39.505Z"
   },
   {
    "duration": 5,
    "start_time": "2022-02-23T08:08:39.518Z"
   },
   {
    "duration": 47,
    "start_time": "2022-02-23T08:08:39.525Z"
   },
   {
    "duration": 32,
    "start_time": "2022-02-23T08:08:39.574Z"
   },
   {
    "duration": 13,
    "start_time": "2022-02-23T08:08:39.608Z"
   },
   {
    "duration": 16,
    "start_time": "2022-02-23T08:08:39.662Z"
   },
   {
    "duration": 18,
    "start_time": "2022-02-23T08:08:39.681Z"
   },
   {
    "duration": 12,
    "start_time": "2022-02-23T08:08:39.701Z"
   },
   {
    "duration": 51,
    "start_time": "2022-02-23T08:08:39.715Z"
   },
   {
    "duration": 7,
    "start_time": "2022-02-23T08:08:39.768Z"
   },
   {
    "duration": 15,
    "start_time": "2022-02-23T08:08:39.777Z"
   },
   {
    "duration": 29,
    "start_time": "2022-02-23T08:08:39.797Z"
   },
   {
    "duration": 6,
    "start_time": "2022-02-23T08:08:39.862Z"
   },
   {
    "duration": 37,
    "start_time": "2022-02-23T08:08:39.871Z"
   },
   {
    "duration": 6,
    "start_time": "2022-02-23T08:08:39.910Z"
   },
   {
    "duration": 71,
    "start_time": "2022-02-23T08:08:39.918Z"
   },
   {
    "duration": 22,
    "start_time": "2022-02-23T08:08:39.991Z"
   },
   {
    "duration": 566,
    "start_time": "2022-02-23T08:08:40.015Z"
   },
   {
    "duration": 424,
    "start_time": "2022-02-23T08:08:40.583Z"
   },
   {
    "duration": 455,
    "start_time": "2022-02-23T08:08:41.009Z"
   },
   {
    "duration": 27,
    "start_time": "2022-02-23T08:08:41.466Z"
   },
   {
    "duration": 38,
    "start_time": "2022-02-23T08:08:41.495Z"
   },
   {
    "duration": 472,
    "start_time": "2022-02-23T08:08:41.562Z"
   },
   {
    "duration": 46,
    "start_time": "2022-02-23T08:08:42.037Z"
   },
   {
    "duration": 40,
    "start_time": "2022-02-23T08:08:42.086Z"
   },
   {
    "duration": 38,
    "start_time": "2022-02-23T08:08:42.128Z"
   },
   {
    "duration": 239,
    "start_time": "2022-02-23T08:08:42.168Z"
   },
   {
    "duration": 390,
    "start_time": "2022-02-23T08:08:42.410Z"
   },
   {
    "duration": 10,
    "start_time": "2022-02-23T08:08:42.803Z"
   },
   {
    "duration": 460,
    "start_time": "2022-02-23T08:08:42.815Z"
   },
   {
    "duration": 454,
    "start_time": "2022-02-23T08:08:43.277Z"
   },
   {
    "duration": 509,
    "start_time": "2022-02-23T08:08:43.736Z"
   },
   {
    "duration": 423,
    "start_time": "2022-02-23T08:08:44.249Z"
   },
   {
    "duration": 15,
    "start_time": "2022-02-23T08:08:44.675Z"
   },
   {
    "duration": 470,
    "start_time": "2022-02-23T08:08:44.692Z"
   },
   {
    "duration": 10,
    "start_time": "2022-02-23T08:08:45.165Z"
   },
   {
    "duration": 402,
    "start_time": "2022-02-23T08:08:45.177Z"
   },
   {
    "duration": 11,
    "start_time": "2022-02-23T08:08:45.582Z"
   },
   {
    "duration": 11,
    "start_time": "2022-02-23T08:08:45.595Z"
   },
   {
    "duration": 13,
    "start_time": "2022-02-23T08:08:45.610Z"
   },
   {
    "duration": 13,
    "start_time": "2022-02-23T08:08:45.661Z"
   },
   {
    "duration": 11,
    "start_time": "2022-02-23T08:08:45.677Z"
   },
   {
    "duration": 520,
    "start_time": "2022-02-23T08:08:45.690Z"
   },
   {
    "duration": 488,
    "start_time": "2022-02-23T08:08:46.212Z"
   },
   {
    "duration": 24,
    "start_time": "2022-02-23T08:08:46.702Z"
   },
   {
    "duration": 413,
    "start_time": "2022-02-23T08:08:46.729Z"
   },
   {
    "duration": 382,
    "start_time": "2022-02-23T08:08:47.145Z"
   },
   {
    "duration": 11,
    "start_time": "2022-02-23T08:08:47.530Z"
   },
   {
    "duration": 5,
    "start_time": "2022-02-23T08:08:47.561Z"
   },
   {
    "duration": 63,
    "start_time": "2022-02-23T08:08:47.568Z"
   },
   {
    "duration": 75,
    "start_time": "2022-02-23T08:08:47.633Z"
   },
   {
    "duration": 73,
    "start_time": "2022-02-23T08:08:47.711Z"
   },
   {
    "duration": 25,
    "start_time": "2022-02-23T08:08:47.786Z"
   },
   {
    "duration": 552,
    "start_time": "2022-02-23T08:08:47.813Z"
   },
   {
    "duration": 24,
    "start_time": "2022-02-23T08:08:48.368Z"
   },
   {
    "duration": 559,
    "start_time": "2022-02-23T08:08:48.395Z"
   },
   {
    "duration": 26,
    "start_time": "2022-02-23T08:08:48.961Z"
   },
   {
    "duration": 423,
    "start_time": "2022-02-23T08:08:48.990Z"
   },
   {
    "duration": 7,
    "start_time": "2022-02-23T08:08:49.416Z"
   },
   {
    "duration": 12,
    "start_time": "2022-02-23T08:08:49.426Z"
   },
   {
    "duration": 24,
    "start_time": "2022-02-23T08:08:49.441Z"
   },
   {
    "duration": 16,
    "start_time": "2022-02-23T08:08:49.468Z"
   },
   {
    "duration": 11,
    "start_time": "2022-02-23T08:08:49.487Z"
   },
   {
    "duration": 538,
    "start_time": "2022-02-23T08:08:49.500Z"
   },
   {
    "duration": 8,
    "start_time": "2022-02-23T08:08:50.040Z"
   },
   {
    "duration": 10,
    "start_time": "2022-02-23T08:08:54.802Z"
   },
   {
    "duration": 7,
    "start_time": "2022-02-23T08:08:59.162Z"
   },
   {
    "duration": 11,
    "start_time": "2022-02-23T08:09:11.609Z"
   },
   {
    "duration": 10,
    "start_time": "2022-02-23T08:09:12.322Z"
   },
   {
    "duration": 408,
    "start_time": "2022-02-23T08:09:13.138Z"
   },
   {
    "duration": 425,
    "start_time": "2022-02-23T08:11:59.967Z"
   },
   {
    "duration": 20,
    "start_time": "2022-02-23T08:53:55.341Z"
   },
   {
    "duration": 22,
    "start_time": "2022-02-23T08:54:47.356Z"
   },
   {
    "duration": 100,
    "start_time": "2022-02-23T08:54:55.651Z"
   },
   {
    "duration": 19,
    "start_time": "2022-02-23T08:55:08.884Z"
   },
   {
    "duration": 21,
    "start_time": "2022-02-23T08:55:18.324Z"
   },
   {
    "duration": 376,
    "start_time": "2022-02-23T09:01:57.776Z"
   },
   {
    "duration": 87,
    "start_time": "2022-02-23T09:02:31.434Z"
   },
   {
    "duration": 103,
    "start_time": "2022-02-23T09:02:39.248Z"
   },
   {
    "duration": 426,
    "start_time": "2022-02-23T09:02:49.668Z"
   },
   {
    "duration": 391,
    "start_time": "2022-02-23T09:03:03.696Z"
   },
   {
    "duration": 408,
    "start_time": "2022-02-23T09:03:08.417Z"
   },
   {
    "duration": 390,
    "start_time": "2022-02-23T09:03:32.321Z"
   },
   {
    "duration": 89,
    "start_time": "2022-02-23T09:09:46.269Z"
   },
   {
    "duration": 141,
    "start_time": "2022-02-23T09:10:16.276Z"
   },
   {
    "duration": 6885,
    "start_time": "2022-02-23T09:10:34.700Z"
   },
   {
    "duration": 8437,
    "start_time": "2022-02-23T09:11:32.118Z"
   },
   {
    "duration": 411,
    "start_time": "2022-02-23T09:12:28.094Z"
   },
   {
    "duration": 1268,
    "start_time": "2022-02-23T09:54:28.701Z"
   },
   {
    "duration": 73,
    "start_time": "2022-02-23T09:54:29.972Z"
   },
   {
    "duration": 25,
    "start_time": "2022-02-23T09:54:30.048Z"
   },
   {
    "duration": 20,
    "start_time": "2022-02-23T09:54:30.075Z"
   },
   {
    "duration": 4,
    "start_time": "2022-02-23T09:54:30.097Z"
   },
   {
    "duration": 24,
    "start_time": "2022-02-23T09:54:30.103Z"
   },
   {
    "duration": 50,
    "start_time": "2022-02-23T09:54:30.129Z"
   },
   {
    "duration": 31,
    "start_time": "2022-02-23T09:54:30.184Z"
   },
   {
    "duration": 242,
    "start_time": "2022-02-23T09:54:30.219Z"
   },
   {
    "duration": 17,
    "start_time": "2022-02-23T09:54:30.464Z"
   },
   {
    "duration": 22,
    "start_time": "2022-02-23T09:54:30.483Z"
   },
   {
    "duration": 72,
    "start_time": "2022-02-23T09:54:30.507Z"
   },
   {
    "duration": 11,
    "start_time": "2022-02-23T09:54:30.581Z"
   },
   {
    "duration": 5,
    "start_time": "2022-02-23T09:54:30.595Z"
   },
   {
    "duration": 26,
    "start_time": "2022-02-23T09:54:30.602Z"
   },
   {
    "duration": 65,
    "start_time": "2022-02-23T09:54:30.631Z"
   },
   {
    "duration": 13,
    "start_time": "2022-02-23T09:54:30.699Z"
   },
   {
    "duration": 28,
    "start_time": "2022-02-23T09:54:30.715Z"
   },
   {
    "duration": 28,
    "start_time": "2022-02-23T09:54:30.746Z"
   },
   {
    "duration": 11,
    "start_time": "2022-02-23T09:54:30.776Z"
   },
   {
    "duration": 20,
    "start_time": "2022-02-23T09:54:30.789Z"
   },
   {
    "duration": 16,
    "start_time": "2022-02-23T09:54:30.811Z"
   },
   {
    "duration": 38,
    "start_time": "2022-02-23T09:54:30.834Z"
   },
   {
    "duration": 39,
    "start_time": "2022-02-23T09:54:30.877Z"
   },
   {
    "duration": 28,
    "start_time": "2022-02-23T09:54:30.919Z"
   },
   {
    "duration": 66,
    "start_time": "2022-02-23T09:54:30.949Z"
   },
   {
    "duration": 15,
    "start_time": "2022-02-23T09:54:31.018Z"
   },
   {
    "duration": 36,
    "start_time": "2022-02-23T09:54:31.035Z"
   },
   {
    "duration": 19,
    "start_time": "2022-02-23T09:54:31.073Z"
   },
   {
    "duration": 536,
    "start_time": "2022-02-23T09:54:31.094Z"
   },
   {
    "duration": 431,
    "start_time": "2022-02-23T09:54:31.633Z"
   },
   {
    "duration": 480,
    "start_time": "2022-02-23T09:54:32.067Z"
   },
   {
    "duration": 36,
    "start_time": "2022-02-23T09:54:32.549Z"
   },
   {
    "duration": 39,
    "start_time": "2022-02-23T09:54:32.587Z"
   },
   {
    "duration": 472,
    "start_time": "2022-02-23T09:54:32.629Z"
   },
   {
    "duration": 33,
    "start_time": "2022-02-23T09:54:33.104Z"
   },
   {
    "duration": 57,
    "start_time": "2022-02-23T09:54:33.139Z"
   },
   {
    "duration": 9,
    "start_time": "2022-02-23T09:54:33.199Z"
   },
   {
    "duration": 224,
    "start_time": "2022-02-23T09:54:33.210Z"
   },
   {
    "duration": 397,
    "start_time": "2022-02-23T09:54:33.436Z"
   },
   {
    "duration": 9,
    "start_time": "2022-02-23T09:54:33.835Z"
   },
   {
    "duration": 478,
    "start_time": "2022-02-23T09:54:33.861Z"
   },
   {
    "duration": 438,
    "start_time": "2022-02-23T09:54:34.342Z"
   },
   {
    "duration": 417,
    "start_time": "2022-02-23T09:54:34.782Z"
   },
   {
    "duration": 508,
    "start_time": "2022-02-23T09:54:35.201Z"
   },
   {
    "duration": 11,
    "start_time": "2022-02-23T09:54:35.711Z"
   },
   {
    "duration": 442,
    "start_time": "2022-02-23T09:54:35.725Z"
   },
   {
    "duration": 11,
    "start_time": "2022-02-23T09:54:36.171Z"
   },
   {
    "duration": 404,
    "start_time": "2022-02-23T09:54:36.185Z"
   },
   {
    "duration": 12,
    "start_time": "2022-02-23T09:54:36.591Z"
   },
   {
    "duration": 13,
    "start_time": "2022-02-23T09:54:36.605Z"
   },
   {
    "duration": 42,
    "start_time": "2022-02-23T09:54:36.621Z"
   },
   {
    "duration": 13,
    "start_time": "2022-02-23T09:54:36.666Z"
   },
   {
    "duration": 15,
    "start_time": "2022-02-23T09:54:36.682Z"
   },
   {
    "duration": 528,
    "start_time": "2022-02-23T09:54:36.699Z"
   },
   {
    "duration": 491,
    "start_time": "2022-02-23T09:54:37.229Z"
   },
   {
    "duration": 42,
    "start_time": "2022-02-23T09:54:37.724Z"
   },
   {
    "duration": 397,
    "start_time": "2022-02-23T09:54:37.769Z"
   },
   {
    "duration": 380,
    "start_time": "2022-02-23T09:54:38.169Z"
   },
   {
    "duration": 416,
    "start_time": "2022-02-23T09:54:38.553Z"
   },
   {
    "duration": 9,
    "start_time": "2022-02-23T09:54:38.972Z"
   },
   {
    "duration": 8,
    "start_time": "2022-02-23T09:54:38.984Z"
   },
   {
    "duration": 75,
    "start_time": "2022-02-23T09:54:38.994Z"
   },
   {
    "duration": 53,
    "start_time": "2022-02-23T09:54:39.072Z"
   },
   {
    "duration": 77,
    "start_time": "2022-02-23T09:54:39.128Z"
   },
   {
    "duration": 24,
    "start_time": "2022-02-23T09:54:39.207Z"
   },
   {
    "duration": 538,
    "start_time": "2022-02-23T09:54:39.261Z"
   },
   {
    "duration": 25,
    "start_time": "2022-02-23T09:54:39.802Z"
   },
   {
    "duration": 570,
    "start_time": "2022-02-23T09:54:39.830Z"
   },
   {
    "duration": 25,
    "start_time": "2022-02-23T09:54:40.403Z"
   },
   {
    "duration": 443,
    "start_time": "2022-02-23T09:54:40.431Z"
   },
   {
    "duration": 9,
    "start_time": "2022-02-23T09:54:40.876Z"
   },
   {
    "duration": 12,
    "start_time": "2022-02-23T09:54:40.887Z"
   },
   {
    "duration": 7,
    "start_time": "2022-02-23T09:54:40.902Z"
   },
   {
    "duration": 53,
    "start_time": "2022-02-23T09:54:40.911Z"
   },
   {
    "duration": 13,
    "start_time": "2022-02-23T09:54:40.966Z"
   },
   {
    "duration": 522,
    "start_time": "2022-02-23T09:54:40.982Z"
   },
   {
    "duration": 8,
    "start_time": "2022-02-23T09:54:41.507Z"
   },
   {
    "duration": 8,
    "start_time": "2022-02-23T09:54:41.517Z"
   },
   {
    "duration": 38,
    "start_time": "2022-02-23T09:54:41.527Z"
   },
   {
    "duration": 12,
    "start_time": "2022-02-23T09:54:41.567Z"
   },
   {
    "duration": 459,
    "start_time": "2022-02-23T09:54:41.582Z"
   }
  ],
  "kernelspec": {
   "display_name": "Python 3 (ipykernel)",
   "language": "python",
   "name": "python3"
  },
  "language_info": {
   "codemirror_mode": {
    "name": "ipython",
    "version": 3
   },
   "file_extension": ".py",
   "mimetype": "text/x-python",
   "name": "python",
   "nbconvert_exporter": "python",
   "pygments_lexer": "ipython3",
   "version": "3.9.7"
  },
  "toc": {
   "base_numbering": 1,
   "nav_menu": {},
   "number_sections": false,
   "sideBar": true,
   "skip_h1_title": false,
   "title_cell": "Оглавление",
   "title_sidebar": "Contents",
   "toc_cell": true,
   "toc_position": {
    "height": "608.182px",
    "left": "423px",
    "top": "285.051px",
    "width": "290.994px"
   },
   "toc_section_display": true,
   "toc_window_display": true
  }
 },
 "nbformat": 4,
 "nbformat_minor": 5
}
