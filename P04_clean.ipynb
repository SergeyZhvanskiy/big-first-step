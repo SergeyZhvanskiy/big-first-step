{
 "cells": [
  {
   "cell_type": "markdown",
   "metadata": {},
   "source": [
    "# Определение перспективного тарифа для телеком-компании\n",
    "\n",
    "Вы аналитик компании «Мегалайн» — федерального оператора сотовой связи. Клиентам предлагают два тарифных плана: «Смарт» и «Ультра». Чтобы скорректировать рекламный бюджет, коммерческий департамент хочет понять, какой тариф приносит больше денег.\n",
    "Вам предстоит сделать предварительный анализ тарифов на небольшой выборке клиентов. В вашем распоряжении данные 500 пользователей «Мегалайна»: кто они, откуда, каким тарифом пользуются, сколько звонков и сообщений каждый отправил за 2018 год. Нужно проанализировать поведение клиентов и сделать вывод — какой тариф лучше."
   ]
  },
  {
   "cell_type": "markdown",
   "metadata": {
    "toc": true
   },
   "source": [
    "<h1>Оглавление<span class=\"tocSkip\"></span></h1>\n",
    "<div class=\"toc\"><ul class=\"toc-item\"><li><span><a href=\"#Описание-тарифов\" data-toc-modified-id=\"Описание-тарифов-1\"><span class=\"toc-item-num\">1&nbsp;&nbsp;</span>Описание тарифов</a></span></li><li><span><a href=\"#Изучение-данных-из-файлов\" data-toc-modified-id=\"Изучение-данных-из-файлов-2\"><span class=\"toc-item-num\">2&nbsp;&nbsp;</span>Изучение данных из файлов</a></span><ul class=\"toc-item\"><li><span><a href=\"#Загрузка-данных-и-поиск-особенностей\" data-toc-modified-id=\"Загрузка-данных-и-поиск-особенностей-2.1\"><span class=\"toc-item-num\">2.1&nbsp;&nbsp;</span>Загрузка данных и поиск особенностей</a></span></li><li><span><a href=\"#Выводы\" data-toc-modified-id=\"Выводы-2.2\"><span class=\"toc-item-num\">2.2&nbsp;&nbsp;</span>Выводы</a></span></li></ul></li><li><span><a href=\"#Подготовка-данных\" data-toc-modified-id=\"Подготовка-данных-3\"><span class=\"toc-item-num\">3&nbsp;&nbsp;</span>Подготовка данных</a></span><ul class=\"toc-item\"><li><span><a href=\"#Приведение-данных-к-нужным-типам\" data-toc-modified-id=\"Приведение-данных-к-нужным-типам-3.1\"><span class=\"toc-item-num\">3.1&nbsp;&nbsp;</span>Приведение данных к нужным типам</a></span></li><li><span><a href=\"#Расчет-данных-по-месяцам-для-каждого-пользователя\" data-toc-modified-id=\"Расчет-данных-по-месяцам-для-каждого-пользователя-3.2\"><span class=\"toc-item-num\">3.2&nbsp;&nbsp;</span>Расчет данных по месяцам для каждого пользователя</a></span></li><li><span><a href=\"#Выводы\" data-toc-modified-id=\"Выводы-3.3\"><span class=\"toc-item-num\">3.3&nbsp;&nbsp;</span>Выводы</a></span></li></ul></li><li><span><a href=\"#Анализ-данных\" data-toc-modified-id=\"Анализ-данных-4\"><span class=\"toc-item-num\">4&nbsp;&nbsp;</span>Анализ данных</a></span><ul class=\"toc-item\"><li><span><a href=\"#Анализ-длительности-разговоров-по-тарифам\" data-toc-modified-id=\"Анализ-длительности-разговоров-по-тарифам-4.1\"><span class=\"toc-item-num\">4.1&nbsp;&nbsp;</span>Анализ длительности разговоров по тарифам</a></span><ul class=\"toc-item\"><li><span><a href=\"#Тариф-&quot;Смарт&quot;\" data-toc-modified-id=\"Тариф-&quot;Смарт&quot;-4.1.1\"><span class=\"toc-item-num\">4.1.1&nbsp;&nbsp;</span>Тариф \"Смарт\"</a></span></li><li><span><a href=\"#Тариф-&quot;Ультра&quot;\" data-toc-modified-id=\"Тариф-&quot;Ультра&quot;-4.1.2\"><span class=\"toc-item-num\">4.1.2&nbsp;&nbsp;</span>Тариф \"Ультра\"</a></span></li></ul></li><li><span><a href=\"#Анализ-количества-сообщений-по-тарифам\" data-toc-modified-id=\"Анализ-количества-сообщений-по-тарифам-4.2\"><span class=\"toc-item-num\">4.2&nbsp;&nbsp;</span>Анализ количества сообщений по тарифам</a></span><ul class=\"toc-item\"><li><span><a href=\"#Тариф-&quot;Смарт&quot;\" data-toc-modified-id=\"Тариф-&quot;Смарт&quot;-4.2.1\"><span class=\"toc-item-num\">4.2.1&nbsp;&nbsp;</span>Тариф \"Смарт\"</a></span></li><li><span><a href=\"#Тариф-&quot;Ультра&quot;\" data-toc-modified-id=\"Тариф-&quot;Ультра&quot;-4.2.2\"><span class=\"toc-item-num\">4.2.2&nbsp;&nbsp;</span>Тариф \"Ультра\"</a></span></li></ul></li><li><span><a href=\"#Анализ-объема-интернет-трафика-по-тарифам\" data-toc-modified-id=\"Анализ-объема-интернет-трафика-по-тарифам-4.3\"><span class=\"toc-item-num\">4.3&nbsp;&nbsp;</span>Анализ объема интернет-трафика по тарифам</a></span><ul class=\"toc-item\"><li><span><a href=\"#Тариф-&quot;Смарт&quot;\" data-toc-modified-id=\"Тариф-&quot;Смарт&quot;-4.3.1\"><span class=\"toc-item-num\">4.3.1&nbsp;&nbsp;</span>Тариф \"Смарт\"</a></span></li><li><span><a href=\"#Тариф-&quot;Ульта&quot;\" data-toc-modified-id=\"Тариф-&quot;Ульта&quot;-4.3.2\"><span class=\"toc-item-num\">4.3.2&nbsp;&nbsp;</span>Тариф \"Ульта\"</a></span></li></ul></li><li><span><a href=\"#Корреляции\" data-toc-modified-id=\"Корреляции-4.4\"><span class=\"toc-item-num\">4.4&nbsp;&nbsp;</span>Корреляции</a></span></li><li><span><a href=\"#Выводы-по-итогам-анализа-данных\" data-toc-modified-id=\"Выводы-по-итогам-анализа-данных-4.5\"><span class=\"toc-item-num\">4.5&nbsp;&nbsp;</span>Выводы по итогам анализа данных</a></span></li></ul></li><li><span><a href=\"#Проверка-гипотез\" data-toc-modified-id=\"Проверка-гипотез-5\"><span class=\"toc-item-num\">5&nbsp;&nbsp;</span>Проверка гипотез</a></span><ul class=\"toc-item\"><li><span><a href=\"#Гипотеза:-средняя-выручка-пользователей-тарифов-«Ультра»-и-«Смарт»-различаются\" data-toc-modified-id=\"Гипотеза:-средняя-выручка-пользователей-тарифов-«Ультра»-и-«Смарт»-различаются-5.1\"><span class=\"toc-item-num\">5.1&nbsp;&nbsp;</span>Гипотеза: средняя выручка пользователей тарифов «Ультра» и «Смарт» различаются</a></span></li><li><span><a href=\"#Гипотеза:-средняя-выручка-пользователей-из-Москвы-отличается-от-выручки-пользователей-из-других-регионов\" data-toc-modified-id=\"Гипотеза:-средняя-выручка-пользователей-из-Москвы-отличается-от-выручки-пользователей-из-других-регионов-5.2\"><span class=\"toc-item-num\">5.2&nbsp;&nbsp;</span>Гипотеза: средняя выручка пользователей из Москвы отличается от выручки пользователей из других регионов</a></span></li></ul></li><li><span><a href=\"#Общий-вывод\" data-toc-modified-id=\"Общий-вывод-6\"><span class=\"toc-item-num\">6&nbsp;&nbsp;</span>Общий вывод</a></span></li></ul></div>"
   ]
  },
  {
   "cell_type": "markdown",
   "metadata": {},
   "source": [
    "## Описание тарифов\n",
    "\n",
    "**Тариф «Смарт»**\n",
    "* Ежемесячная плата: 550 рублей\n",
    "* Включено 500 минут разговора, 50 сообщений и 15 Гб интернет-трафика\n",
    "* Стоимость услуг сверх тарифного пакета: 1. минута разговора: 3 рубля («Мегалайн» всегда округляет вверх значения минут и мегабайтов. Если пользователь проговорил всего 1 секунду, в тарифе засчитывается целая минута); 2. сообщение: 3 рубля; 3. 1 Гб интернет-трафика: 200 рублей.\n",
    "\n",
    "**Тариф «Ультра»**\n",
    "* Ежемесячная плата: 1950 рублей\n",
    "* Включено 3000 минут разговора, 1000 сообщений и 30 Гб интернет-трафика\n",
    "* Стоимость услуг сверх тарифного пакета: 1. минута разговора: 1 рубль; 2. сообщение: 1 рубль; 3. 1 Гб интернет-трафика: 150 рублей."
   ]
  },
  {
   "cell_type": "markdown",
   "metadata": {},
   "source": [
    "**Примечание:**\n",
    "«Мегалайн» всегда округляет секунды до минут, а мегабайты — до гигабайт. Каждый звонок округляется отдельно: даже если он длился всего 1 секунду, будет засчитан как 1 минута.\n",
    "Для веб-трафика отдельные сессии не считаются. Вместо этого общая сумма за месяц округляется в бо́льшую сторону. Если абонент использует 1025 мегабайт в этом месяце, с него возьмут плату за 2 гигабайта."
   ]
  },
  {
   "cell_type": "markdown",
   "metadata": {},
   "source": [
    "## Изучение данных из файлов"
   ]
  },
  {
   "cell_type": "markdown",
   "metadata": {},
   "source": [
    "### Загрузка данных и поиск особенностей"
   ]
  },
  {
   "cell_type": "code",
   "execution_count": 1,
   "metadata": {},
   "outputs": [],
   "source": [
    "import pandas as pd\n",
    "import numpy as np\n",
    "from scipy import stats as st\n",
    "\n",
    "import matplotlib.pyplot as plt"
   ]
  },
  {
   "cell_type": "code",
   "execution_count": 2,
   "metadata": {},
   "outputs": [
    {
     "name": "stdout",
     "output_type": "stream",
     "text": [
      "<class 'pandas.core.frame.DataFrame'>\n",
      "RangeIndex: 202607 entries, 0 to 202606\n",
      "Data columns (total 4 columns):\n",
      "id           202607 non-null object\n",
      "call_date    202607 non-null object\n",
      "duration     202607 non-null float64\n",
      "user_id      202607 non-null int64\n",
      "dtypes: float64(1), int64(1), object(2)\n",
      "memory usage: 6.2+ MB\n",
      "              id   call_date  duration  user_id\n",
      "0         1000_0  2018-07-25      0.00     1000\n",
      "1         1000_1  2018-08-17      0.00     1000\n",
      "2         1000_2  2018-06-11      2.85     1000\n",
      "3         1000_3  2018-09-21     13.80     1000\n",
      "4         1000_4  2018-12-15      5.18     1000\n",
      "...          ...         ...       ...      ...\n",
      "202602  1499_215  2018-12-26      0.76     1499\n",
      "202603  1499_216  2018-10-18     18.83     1499\n",
      "202604  1499_217  2018-11-10     10.81     1499\n",
      "202605  1499_218  2018-10-06      4.27     1499\n",
      "202606  1499_219  2018-12-14     19.62     1499\n",
      "\n",
      "[202607 rows x 4 columns] None\n"
     ]
    }
   ],
   "source": [
    "calls = pd.read_csv('/datasets/calls.csv')\n",
    "\n",
    "# Читаем таблицу \"целикоим\", чтобы всю сразу охватить взглядом, а также смотрим на основные данные таблицы.\n",
    "# Аналогично поступим со всеми остальными данными.\n",
    "print(calls, calls.info())"
   ]
  },
  {
   "cell_type": "markdown",
   "metadata": {},
   "source": [
    "Таблица с ниформацией о звонках:\n",
    "* id — уникальный номер звонка\n",
    "* call_date — дата звонка\n",
    "* duration — длительность звонка в минутах\n",
    "* user_id — идентификатор пользователя, сделавшего звонок"
   ]
  },
  {
   "cell_type": "code",
   "execution_count": 3,
   "metadata": {},
   "outputs": [
    {
     "name": "stdout",
     "output_type": "stream",
     "text": [
      "Анализируемый период: 2018-01-01 - 2018-12-31\n"
     ]
    }
   ],
   "source": [
    "start = calls['call_date'].min()\n",
    "stop = calls['call_date'].max()\n",
    "print('Анализируемый период:', start, '-', stop)"
   ]
  },
  {
   "cell_type": "markdown",
   "metadata": {},
   "source": [
    "Проанализируем разброс длительностей разговоров для оценки качества данных."
   ]
  },
  {
   "cell_type": "code",
   "execution_count": 4,
   "metadata": {},
   "outputs": [
    {
     "data": {
      "text/plain": [
       "count    202607.000000\n",
       "mean          6.755887\n",
       "std           5.843365\n",
       "min           0.000000\n",
       "25%           1.300000\n",
       "50%           6.000000\n",
       "75%          10.700000\n",
       "max          38.000000\n",
       "Name: duration, dtype: float64"
      ]
     },
     "execution_count": 4,
     "metadata": {},
     "output_type": "execute_result"
    }
   ],
   "source": [
    "calls['duration'].describe()"
   ]
  },
  {
   "cell_type": "markdown",
   "metadata": {},
   "source": [
    "Длительность переговоров не вызывает вопросов.\n",
    "\n",
    "Аналогичный подход применим и к другим наборам данных."
   ]
  },
  {
   "cell_type": "code",
   "execution_count": 5,
   "metadata": {},
   "outputs": [
    {
     "name": "stdout",
     "output_type": "stream",
     "text": [
      "<class 'pandas.core.frame.DataFrame'>\n",
      "RangeIndex: 149396 entries, 0 to 149395\n",
      "Data columns (total 5 columns):\n",
      "Unnamed: 0      149396 non-null int64\n",
      "id              149396 non-null object\n",
      "mb_used         149396 non-null float64\n",
      "session_date    149396 non-null object\n",
      "user_id         149396 non-null int64\n",
      "dtypes: float64(1), int64(2), object(2)\n",
      "memory usage: 5.7+ MB\n",
      "        Unnamed: 0        id  mb_used session_date  user_id\n",
      "0                0    1000_0   112.95   2018-11-25     1000\n",
      "1                1    1000_1  1052.81   2018-09-07     1000\n",
      "2                2    1000_2  1197.26   2018-06-25     1000\n",
      "3                3    1000_3   550.27   2018-08-22     1000\n",
      "4                4    1000_4   302.56   2018-09-24     1000\n",
      "...            ...       ...      ...          ...      ...\n",
      "149391      149391  1499_152   318.90   2018-10-03     1499\n",
      "149392      149392  1499_153   490.13   2018-12-14     1499\n",
      "149393      149393  1499_154     0.00   2018-10-27     1499\n",
      "149394      149394  1499_155  1246.32   2018-11-26     1499\n",
      "149395      149395  1499_156   544.37   2018-10-26     1499\n",
      "\n",
      "[149396 rows x 5 columns] None\n"
     ]
    }
   ],
   "source": [
    "internet = pd.read_csv('/datasets/internet.csv')\n",
    "print(internet, internet.info())"
   ]
  },
  {
   "cell_type": "code",
   "execution_count": 6,
   "metadata": {},
   "outputs": [
    {
     "data": {
      "text/plain": [
       "count    149396.000000\n",
       "mean        370.192426\n",
       "std         278.300951\n",
       "min           0.000000\n",
       "25%         138.187500\n",
       "50%         348.015000\n",
       "75%         559.552500\n",
       "max        1724.830000\n",
       "Name: mb_used, dtype: float64"
      ]
     },
     "execution_count": 6,
     "metadata": {},
     "output_type": "execute_result"
    }
   ],
   "source": [
    "internet['mb_used'].describe()"
   ]
  },
  {
   "cell_type": "markdown",
   "metadata": {},
   "source": [
    "Таблица internet (информация об интернет-сессиях):\n",
    "* id — уникальный номер сессии\n",
    "* mb_used — объём потраченного за сессию интернет-трафика (в мегабайтах)\n",
    "* session_date — дата интернет-сессии\n",
    "* user_id — идентификатор пользователя\n",
    "\n",
    "Обращает на себя внимание двойная (задвоенная) кодировка строк."
   ]
  },
  {
   "cell_type": "code",
   "execution_count": 7,
   "metadata": {},
   "outputs": [
    {
     "name": "stdout",
     "output_type": "stream",
     "text": [
      "<class 'pandas.core.frame.DataFrame'>\n",
      "RangeIndex: 123036 entries, 0 to 123035\n",
      "Data columns (total 3 columns):\n",
      "id              123036 non-null object\n",
      "message_date    123036 non-null object\n",
      "user_id         123036 non-null int64\n",
      "dtypes: int64(1), object(2)\n",
      "memory usage: 2.8+ MB\n",
      "              id message_date  user_id\n",
      "0         1000_0   2018-06-27     1000\n",
      "1         1000_1   2018-10-08     1000\n",
      "2         1000_2   2018-08-04     1000\n",
      "3         1000_3   2018-06-16     1000\n",
      "4         1000_4   2018-12-05     1000\n",
      "...          ...          ...      ...\n",
      "123031  1499_179   2018-12-12     1499\n",
      "123032  1499_180   2018-09-28     1499\n",
      "123033  1499_181   2018-09-27     1499\n",
      "123034  1499_182   2018-11-15     1499\n",
      "123035  1499_183   2018-11-16     1499\n",
      "\n",
      "[123036 rows x 3 columns] None\n"
     ]
    }
   ],
   "source": [
    "messages = pd.read_csv('/datasets/messages.csv')\n",
    "print(messages, messages.info())"
   ]
  },
  {
   "cell_type": "markdown",
   "metadata": {},
   "source": [
    "Таблица messages (информация о сообщениях):\n",
    "* id — уникальный номер сообщения\n",
    "* message_date — дата сообщения\n",
    "* user_id — идентификатор пользователя, отправившего сообщение"
   ]
  },
  {
   "cell_type": "code",
   "execution_count": 8,
   "metadata": {},
   "outputs": [
    {
     "name": "stdout",
     "output_type": "stream",
     "text": [
      "<class 'pandas.core.frame.DataFrame'>\n",
      "RangeIndex: 2 entries, 0 to 1\n",
      "Data columns (total 8 columns):\n",
      "messages_included        2 non-null int64\n",
      "mb_per_month_included    2 non-null int64\n",
      "minutes_included         2 non-null int64\n",
      "rub_monthly_fee          2 non-null int64\n",
      "rub_per_gb               2 non-null int64\n",
      "rub_per_message          2 non-null int64\n",
      "rub_per_minute           2 non-null int64\n",
      "tariff_name              2 non-null object\n",
      "dtypes: int64(7), object(1)\n",
      "memory usage: 256.0+ bytes\n",
      "   messages_included  mb_per_month_included  minutes_included  \\\n",
      "0                 50                  15360               500   \n",
      "1               1000                  30720              3000   \n",
      "\n",
      "   rub_monthly_fee  rub_per_gb  rub_per_message  rub_per_minute tariff_name  \n",
      "0              550         200                3               3       smart  \n",
      "1             1950         150                1               1       ultra   None\n"
     ]
    }
   ],
   "source": [
    "tariffs = pd.read_csv('/datasets/tariffs.csv')\n",
    "print(tariffs, tariffs.info())"
   ]
  },
  {
   "cell_type": "markdown",
   "metadata": {},
   "source": [
    "Таблица tariffs (информация о тарифах - фактически тарифный справочник):\n",
    "* tariff_name — название тарифа\n",
    "* rub_monthly_fee — ежемесячная абонентская плата в рублях\n",
    "* minutes_included — количество минут разговора в месяц, включённых в абонентскую плату\n",
    "* messages_included — количество сообщений в месяц, включённых в абонентскую плату\n",
    "* mb_per_month_included — объём интернет-трафика, включённого в абонентскую плату (в мегабайтах)\n",
    "* rub_per_minute — стоимость минуты разговора сверх тарифного пакета (например, если в тарифе 100 минут разговора в месяц, то со 101 минуты будет взиматься плата)\n",
    "* rub_per_message — стоимость отправки сообщения сверх тарифного пакета\n",
    "* rub_per_gb — стоимость дополнительного гигабайта интернет-трафика сверх тарифного пакета (1 гигабайт = 1024 мегабайта).\n",
    "\n",
    "Всего два тарифа (\"Смарт\" и \"Ультра\"), как и должно было быть. Форматы переменных в норме."
   ]
  },
  {
   "cell_type": "code",
   "execution_count": 9,
   "metadata": {},
   "outputs": [
    {
     "name": "stdout",
     "output_type": "stream",
     "text": [
      "<class 'pandas.core.frame.DataFrame'>\n",
      "RangeIndex: 500 entries, 0 to 499\n",
      "Data columns (total 8 columns):\n",
      "user_id       500 non-null int64\n",
      "age           500 non-null int64\n",
      "churn_date    38 non-null object\n",
      "city          500 non-null object\n",
      "first_name    500 non-null object\n",
      "last_name     500 non-null object\n",
      "reg_date      500 non-null object\n",
      "tariff        500 non-null object\n",
      "dtypes: int64(2), object(6)\n",
      "memory usage: 31.4+ KB\n",
      "     user_id  age  churn_date         city first_name  last_name    reg_date  \\\n",
      "0       1000   52         NaN    Краснодар     Рафаил  Верещагин  2018-05-25   \n",
      "1       1001   41         NaN       Москва       Иван       Ежов  2018-11-01   \n",
      "2       1002   59         NaN  Стерлитамак    Евгений  Абрамович  2018-06-17   \n",
      "3       1003   23         NaN       Москва      Белла   Белякова  2018-08-17   \n",
      "4       1004   68         NaN  Новокузнецк    Татьяна   Авдеенко  2018-05-14   \n",
      "..       ...  ...         ...          ...        ...        ...         ...   \n",
      "495     1495   65         NaN      Иркутск  Авксентий      Фокин  2018-08-28   \n",
      "496     1496   36         NaN      Вологда     Трифон     Блохин  2018-01-27   \n",
      "497     1497   32         NaN    Челябинск   Каролина     Агеева  2018-10-09   \n",
      "498     1498   68  2018-10-25  Владикавказ   Всеволод    Акимчин  2018-07-19   \n",
      "499     1499   35         NaN        Пермь     Гектор   Корнилов  2018-09-27   \n",
      "\n",
      "    tariff  \n",
      "0    ultra  \n",
      "1    smart  \n",
      "2    smart  \n",
      "3    ultra  \n",
      "4    ultra  \n",
      "..     ...  \n",
      "495  ultra  \n",
      "496  smart  \n",
      "497  smart  \n",
      "498  smart  \n",
      "499  smart  \n",
      "\n",
      "[500 rows x 8 columns] None\n"
     ]
    }
   ],
   "source": [
    "users = pd.read_csv('/datasets/users.csv')\n",
    "print(users, users.info())"
   ]
  },
  {
   "cell_type": "markdown",
   "metadata": {},
   "source": [
    "Таблица users (информация о пользователях):\n",
    "* user_id — уникальный идентификатор пользователя\n",
    "* age — возраст пользователя (годы)\n",
    "* first_name — имя пользователя\n",
    "* last_name — фамилия пользователя\n",
    "* reg_date — дата подключения тарифа (день, месяц, год)\n",
    "* churn_date — дата прекращения пользования тарифом (если значение пропущено, то тариф ещё действовал на момент выгрузки данных)\n",
    "* city — город проживания пользователя\n",
    "* tariff — название тарифного плана.\n",
    "\n",
    "В данных есть пропуски: информация о времени прекращения действия тарифа заполнена по 38 пользователям из 500. Как быть с этим обстоятельством - разберемся на следующем этапе. "
   ]
  },
  {
   "cell_type": "markdown",
   "metadata": {},
   "source": [
    "### Выводы\n",
    "1. Имеются данные о 500 пользователях сотовой связи,\n",
    "2. Имеются данные по каждому направлению активности этих пользователей в сети сотовой связи за все 12 месяцев 2018 года (203 тыс. звонков, 149 тыс. обращений к интернету и 123 тыс. смс-сообщений).\n",
    "3. Во всех таблицах пользователи имеют единую кодировку (исключение - справочник тарифов). В свою очередь, имеется информация о привязке каждого пользователя к своему тарифу. Это позволит объединить данные при необходимости.\n",
    "4. Данные во всех таблицах о датах имеют тип object (при их использовании надо будет конвертировать их в соответствующий тип).\n",
    "4. Данные выглядят достаточно качественными, на начальном этапе явных изъянов в них не выявлено."
   ]
  },
  {
   "cell_type": "markdown",
   "metadata": {},
   "source": [
    "## Подготовка данных"
   ]
  },
  {
   "cell_type": "markdown",
   "metadata": {},
   "source": [
    "### Приведение данных к нужным типам"
   ]
  },
  {
   "cell_type": "markdown",
   "metadata": {},
   "source": [
    "**Проверка наличия дубликатов**"
   ]
  },
  {
   "cell_type": "code",
   "execution_count": 10,
   "metadata": {},
   "outputs": [
    {
     "data": {
      "text/plain": [
       "0"
      ]
     },
     "execution_count": 10,
     "metadata": {},
     "output_type": "execute_result"
    }
   ],
   "source": [
    "calls.duplicated().sum()"
   ]
  },
  {
   "cell_type": "code",
   "execution_count": 11,
   "metadata": {},
   "outputs": [
    {
     "data": {
      "text/plain": [
       "0"
      ]
     },
     "execution_count": 11,
     "metadata": {},
     "output_type": "execute_result"
    }
   ],
   "source": [
    "internet.duplicated().sum()"
   ]
  },
  {
   "cell_type": "code",
   "execution_count": 12,
   "metadata": {},
   "outputs": [
    {
     "data": {
      "text/plain": [
       "0"
      ]
     },
     "execution_count": 12,
     "metadata": {},
     "output_type": "execute_result"
    }
   ],
   "source": [
    "messages.duplicated().sum()"
   ]
  },
  {
   "cell_type": "markdown",
   "metadata": {},
   "source": [
    "Дубликаты в данных об активностях клиентов не обнаружены."
   ]
  },
  {
   "cell_type": "markdown",
   "metadata": {},
   "source": [
    "**Формат времени**"
   ]
  },
  {
   "cell_type": "code",
   "execution_count": 13,
   "metadata": {},
   "outputs": [],
   "source": [
    "calls['call_date'] = pd.to_datetime(calls['call_date'], format ='%Y-%m-%d')\n",
    "internet['session_date'] = pd.to_datetime(internet['session_date'], format ='%Y-%m-%d')\n",
    "messages['message_date'] = pd.to_datetime(messages['message_date'], format ='%Y-%m-%d')"
   ]
  },
  {
   "cell_type": "markdown",
   "metadata": {},
   "source": [
    "Учитывая, что анализируется полный 2018 год, пропуски в дате прекращения пользования тарифом интерпретируем как действие тарифа до конца анализируемого года (дальнейшее вне целей анализа) и заменяем на 31 декабря 2018 года."
   ]
  },
  {
   "cell_type": "code",
   "execution_count": 14,
   "metadata": {},
   "outputs": [],
   "source": [
    "users['churn_date'] = users['churn_date'].fillna('2018-12-31')"
   ]
  },
  {
   "cell_type": "code",
   "execution_count": 15,
   "metadata": {},
   "outputs": [],
   "source": [
    "users['reg_date'] = pd.to_datetime(users['reg_date'], format ='%Y-%m-%d')\n",
    "users['churn_date'] = pd.to_datetime(users['churn_date'], format ='%Y-%m-%d')"
   ]
  },
  {
   "cell_type": "markdown",
   "metadata": {},
   "source": [
    "**Удаление лишнего столбца в internet**"
   ]
  },
  {
   "cell_type": "code",
   "execution_count": 16,
   "metadata": {},
   "outputs": [],
   "source": [
    "internet = internet.drop('Unnamed: 0', 1)"
   ]
  },
  {
   "cell_type": "markdown",
   "metadata": {},
   "source": [
    "**Округление вверх до целых минут все телефонные звонки**"
   ]
  },
  {
   "cell_type": "code",
   "execution_count": 17,
   "metadata": {},
   "outputs": [],
   "source": [
    "calls['duration'] = calls['duration'].apply(np.ceil).astype('int')"
   ]
  },
  {
   "cell_type": "markdown",
   "metadata": {},
   "source": [
    "**Приведение к строковым форматам**"
   ]
  },
  {
   "cell_type": "code",
   "execution_count": 18,
   "metadata": {},
   "outputs": [
    {
     "name": "stdout",
     "output_type": "stream",
     "text": [
      "<class 'pandas.core.frame.DataFrame'>\n",
      "RangeIndex: 500 entries, 0 to 499\n",
      "Data columns (total 8 columns):\n",
      "user_id       500 non-null int64\n",
      "age           500 non-null int64\n",
      "churn_date    500 non-null datetime64[ns]\n",
      "city          500 non-null object\n",
      "first_name    500 non-null object\n",
      "last_name     500 non-null object\n",
      "reg_date      500 non-null datetime64[ns]\n",
      "tariff        500 non-null object\n",
      "dtypes: datetime64[ns](2), int64(2), object(4)\n",
      "memory usage: 31.4+ KB\n"
     ]
    }
   ],
   "source": [
    "users.info()"
   ]
  },
  {
   "cell_type": "code",
   "execution_count": 19,
   "metadata": {},
   "outputs": [],
   "source": [
    "users['user_id'] = users['user_id'].astype('str')"
   ]
  },
  {
   "cell_type": "markdown",
   "metadata": {},
   "source": [
    "### Расчет данных по месяцам для каждого пользователя"
   ]
  },
  {
   "cell_type": "code",
   "execution_count": 20,
   "metadata": {},
   "outputs": [],
   "source": [
    "calls['month_of_call'] = pd.DatetimeIndex(calls['call_date']).month\n",
    "internet['month_of_session'] = pd.DatetimeIndex(internet['session_date']).month\n",
    "messages['month_of_message'] = pd.DatetimeIndex(messages['message_date']).month"
   ]
  },
  {
   "cell_type": "markdown",
   "metadata": {},
   "source": [
    "**Количество сделанных звонков и израсходованных минут разговора**"
   ]
  },
  {
   "cell_type": "code",
   "execution_count": 21,
   "metadata": {
    "scrolled": true
   },
   "outputs": [
    {
     "data": {
      "text/html": [
       "<div>\n",
       "<style scoped>\n",
       "    .dataframe tbody tr th:only-of-type {\n",
       "        vertical-align: middle;\n",
       "    }\n",
       "\n",
       "    .dataframe tbody tr th {\n",
       "        vertical-align: top;\n",
       "    }\n",
       "\n",
       "    .dataframe thead th {\n",
       "        text-align: right;\n",
       "    }\n",
       "</style>\n",
       "<table border=\"1\" class=\"dataframe\">\n",
       "  <thead>\n",
       "    <tr style=\"text-align: right;\">\n",
       "      <th></th>\n",
       "      <th>user_id</th>\n",
       "      <th>month_of_call</th>\n",
       "      <th>month_calls_count</th>\n",
       "      <th>month_calls_duration</th>\n",
       "    </tr>\n",
       "  </thead>\n",
       "  <tbody>\n",
       "    <tr>\n",
       "      <td>0</td>\n",
       "      <td>1000</td>\n",
       "      <td>5</td>\n",
       "      <td>22</td>\n",
       "      <td>159</td>\n",
       "    </tr>\n",
       "    <tr>\n",
       "      <td>1</td>\n",
       "      <td>1000</td>\n",
       "      <td>6</td>\n",
       "      <td>43</td>\n",
       "      <td>172</td>\n",
       "    </tr>\n",
       "    <tr>\n",
       "      <td>2</td>\n",
       "      <td>1000</td>\n",
       "      <td>7</td>\n",
       "      <td>47</td>\n",
       "      <td>340</td>\n",
       "    </tr>\n",
       "    <tr>\n",
       "      <td>3</td>\n",
       "      <td>1000</td>\n",
       "      <td>8</td>\n",
       "      <td>52</td>\n",
       "      <td>408</td>\n",
       "    </tr>\n",
       "    <tr>\n",
       "      <td>4</td>\n",
       "      <td>1000</td>\n",
       "      <td>9</td>\n",
       "      <td>58</td>\n",
       "      <td>466</td>\n",
       "    </tr>\n",
       "    <tr>\n",
       "      <td>...</td>\n",
       "      <td>...</td>\n",
       "      <td>...</td>\n",
       "      <td>...</td>\n",
       "      <td>...</td>\n",
       "    </tr>\n",
       "    <tr>\n",
       "      <td>3169</td>\n",
       "      <td>1498</td>\n",
       "      <td>10</td>\n",
       "      <td>41</td>\n",
       "      <td>247</td>\n",
       "    </tr>\n",
       "    <tr>\n",
       "      <td>3170</td>\n",
       "      <td>1499</td>\n",
       "      <td>9</td>\n",
       "      <td>9</td>\n",
       "      <td>70</td>\n",
       "    </tr>\n",
       "    <tr>\n",
       "      <td>3171</td>\n",
       "      <td>1499</td>\n",
       "      <td>10</td>\n",
       "      <td>68</td>\n",
       "      <td>449</td>\n",
       "    </tr>\n",
       "    <tr>\n",
       "      <td>3172</td>\n",
       "      <td>1499</td>\n",
       "      <td>11</td>\n",
       "      <td>74</td>\n",
       "      <td>612</td>\n",
       "    </tr>\n",
       "    <tr>\n",
       "      <td>3173</td>\n",
       "      <td>1499</td>\n",
       "      <td>12</td>\n",
       "      <td>69</td>\n",
       "      <td>492</td>\n",
       "    </tr>\n",
       "  </tbody>\n",
       "</table>\n",
       "<p>3174 rows × 4 columns</p>\n",
       "</div>"
      ],
      "text/plain": [
       "      user_id  month_of_call  month_calls_count  month_calls_duration\n",
       "0        1000              5                 22                   159\n",
       "1        1000              6                 43                   172\n",
       "2        1000              7                 47                   340\n",
       "3        1000              8                 52                   408\n",
       "4        1000              9                 58                   466\n",
       "...       ...            ...                ...                   ...\n",
       "3169     1498             10                 41                   247\n",
       "3170     1499              9                  9                    70\n",
       "3171     1499             10                 68                   449\n",
       "3172     1499             11                 74                   612\n",
       "3173     1499             12                 69                   492\n",
       "\n",
       "[3174 rows x 4 columns]"
      ]
     },
     "execution_count": 21,
     "metadata": {},
     "output_type": "execute_result"
    }
   ],
   "source": [
    "pt_calls = calls.pivot_table(index=['user_id', 'month_of_call'], values='duration', aggfunc={'count', 'sum'}).reset_index()\n",
    "pt_calls.rename(columns = {'count':'month_calls_count', 'sum':'month_calls_duration'}, inplace = True)\n",
    "pt_calls"
   ]
  },
  {
   "cell_type": "markdown",
   "metadata": {},
   "source": [
    "**Количество отправленных сообщений по месяцам**"
   ]
  },
  {
   "cell_type": "code",
   "execution_count": 22,
   "metadata": {
    "scrolled": true
   },
   "outputs": [
    {
     "data": {
      "text/html": [
       "<div>\n",
       "<style scoped>\n",
       "    .dataframe tbody tr th:only-of-type {\n",
       "        vertical-align: middle;\n",
       "    }\n",
       "\n",
       "    .dataframe tbody tr th {\n",
       "        vertical-align: top;\n",
       "    }\n",
       "\n",
       "    .dataframe thead th {\n",
       "        text-align: right;\n",
       "    }\n",
       "</style>\n",
       "<table border=\"1\" class=\"dataframe\">\n",
       "  <thead>\n",
       "    <tr style=\"text-align: right;\">\n",
       "      <th></th>\n",
       "      <th>user_id</th>\n",
       "      <th>month_of_message</th>\n",
       "      <th>month_messages_count</th>\n",
       "    </tr>\n",
       "  </thead>\n",
       "  <tbody>\n",
       "    <tr>\n",
       "      <td>0</td>\n",
       "      <td>1000</td>\n",
       "      <td>5</td>\n",
       "      <td>22</td>\n",
       "    </tr>\n",
       "    <tr>\n",
       "      <td>1</td>\n",
       "      <td>1000</td>\n",
       "      <td>6</td>\n",
       "      <td>60</td>\n",
       "    </tr>\n",
       "    <tr>\n",
       "      <td>2</td>\n",
       "      <td>1000</td>\n",
       "      <td>7</td>\n",
       "      <td>75</td>\n",
       "    </tr>\n",
       "    <tr>\n",
       "      <td>3</td>\n",
       "      <td>1000</td>\n",
       "      <td>8</td>\n",
       "      <td>81</td>\n",
       "    </tr>\n",
       "    <tr>\n",
       "      <td>4</td>\n",
       "      <td>1000</td>\n",
       "      <td>9</td>\n",
       "      <td>57</td>\n",
       "    </tr>\n",
       "    <tr>\n",
       "      <td>...</td>\n",
       "      <td>...</td>\n",
       "      <td>...</td>\n",
       "      <td>...</td>\n",
       "    </tr>\n",
       "    <tr>\n",
       "      <td>2712</td>\n",
       "      <td>1498</td>\n",
       "      <td>10</td>\n",
       "      <td>42</td>\n",
       "    </tr>\n",
       "    <tr>\n",
       "      <td>2713</td>\n",
       "      <td>1499</td>\n",
       "      <td>9</td>\n",
       "      <td>11</td>\n",
       "    </tr>\n",
       "    <tr>\n",
       "      <td>2714</td>\n",
       "      <td>1499</td>\n",
       "      <td>10</td>\n",
       "      <td>48</td>\n",
       "    </tr>\n",
       "    <tr>\n",
       "      <td>2715</td>\n",
       "      <td>1499</td>\n",
       "      <td>11</td>\n",
       "      <td>59</td>\n",
       "    </tr>\n",
       "    <tr>\n",
       "      <td>2716</td>\n",
       "      <td>1499</td>\n",
       "      <td>12</td>\n",
       "      <td>66</td>\n",
       "    </tr>\n",
       "  </tbody>\n",
       "</table>\n",
       "<p>2717 rows × 3 columns</p>\n",
       "</div>"
      ],
      "text/plain": [
       "      user_id  month_of_message  month_messages_count\n",
       "0        1000                 5                    22\n",
       "1        1000                 6                    60\n",
       "2        1000                 7                    75\n",
       "3        1000                 8                    81\n",
       "4        1000                 9                    57\n",
       "...       ...               ...                   ...\n",
       "2712     1498                10                    42\n",
       "2713     1499                 9                    11\n",
       "2714     1499                10                    48\n",
       "2715     1499                11                    59\n",
       "2716     1499                12                    66\n",
       "\n",
       "[2717 rows x 3 columns]"
      ]
     },
     "execution_count": 22,
     "metadata": {},
     "output_type": "execute_result"
    }
   ],
   "source": [
    "pt_messages = messages.pivot_table(index=['user_id', 'month_of_message'], values='id', aggfunc='count').reset_index()\n",
    "pt_messages.rename(columns = {'id':'month_messages_count'}, inplace = True)\n",
    "pt_messages"
   ]
  },
  {
   "cell_type": "markdown",
   "metadata": {},
   "source": [
    "**Объем израсходованного интернет-трафика по месяцам**"
   ]
  },
  {
   "cell_type": "markdown",
   "metadata": {},
   "source": [
    "Одновременно переведем значения мегабайтов в целочисленные гигабайты за месяц."
   ]
  },
  {
   "cell_type": "code",
   "execution_count": 23,
   "metadata": {},
   "outputs": [
    {
     "data": {
      "text/html": [
       "<div>\n",
       "<style scoped>\n",
       "    .dataframe tbody tr th:only-of-type {\n",
       "        vertical-align: middle;\n",
       "    }\n",
       "\n",
       "    .dataframe tbody tr th {\n",
       "        vertical-align: top;\n",
       "    }\n",
       "\n",
       "    .dataframe thead th {\n",
       "        text-align: right;\n",
       "    }\n",
       "</style>\n",
       "<table border=\"1\" class=\"dataframe\">\n",
       "  <thead>\n",
       "    <tr style=\"text-align: right;\">\n",
       "      <th></th>\n",
       "      <th>user_id</th>\n",
       "      <th>month_of_session</th>\n",
       "      <th>month_gb_used</th>\n",
       "    </tr>\n",
       "  </thead>\n",
       "  <tbody>\n",
       "    <tr>\n",
       "      <td>0</td>\n",
       "      <td>1000</td>\n",
       "      <td>5</td>\n",
       "      <td>2253.49</td>\n",
       "    </tr>\n",
       "    <tr>\n",
       "      <td>1</td>\n",
       "      <td>1000</td>\n",
       "      <td>6</td>\n",
       "      <td>23233.77</td>\n",
       "    </tr>\n",
       "    <tr>\n",
       "      <td>2</td>\n",
       "      <td>1000</td>\n",
       "      <td>7</td>\n",
       "      <td>14003.64</td>\n",
       "    </tr>\n",
       "    <tr>\n",
       "      <td>3</td>\n",
       "      <td>1000</td>\n",
       "      <td>8</td>\n",
       "      <td>14055.93</td>\n",
       "    </tr>\n",
       "    <tr>\n",
       "      <td>4</td>\n",
       "      <td>1000</td>\n",
       "      <td>9</td>\n",
       "      <td>14568.91</td>\n",
       "    </tr>\n",
       "    <tr>\n",
       "      <td>...</td>\n",
       "      <td>...</td>\n",
       "      <td>...</td>\n",
       "      <td>...</td>\n",
       "    </tr>\n",
       "    <tr>\n",
       "      <td>3198</td>\n",
       "      <td>1498</td>\n",
       "      <td>10</td>\n",
       "      <td>20579.36</td>\n",
       "    </tr>\n",
       "    <tr>\n",
       "      <td>3199</td>\n",
       "      <td>1499</td>\n",
       "      <td>9</td>\n",
       "      <td>1845.75</td>\n",
       "    </tr>\n",
       "    <tr>\n",
       "      <td>3200</td>\n",
       "      <td>1499</td>\n",
       "      <td>10</td>\n",
       "      <td>17788.51</td>\n",
       "    </tr>\n",
       "    <tr>\n",
       "      <td>3201</td>\n",
       "      <td>1499</td>\n",
       "      <td>11</td>\n",
       "      <td>17963.31</td>\n",
       "    </tr>\n",
       "    <tr>\n",
       "      <td>3202</td>\n",
       "      <td>1499</td>\n",
       "      <td>12</td>\n",
       "      <td>13055.58</td>\n",
       "    </tr>\n",
       "  </tbody>\n",
       "</table>\n",
       "<p>3203 rows × 3 columns</p>\n",
       "</div>"
      ],
      "text/plain": [
       "      user_id  month_of_session  month_gb_used\n",
       "0        1000                 5        2253.49\n",
       "1        1000                 6       23233.77\n",
       "2        1000                 7       14003.64\n",
       "3        1000                 8       14055.93\n",
       "4        1000                 9       14568.91\n",
       "...       ...               ...            ...\n",
       "3198     1498                10       20579.36\n",
       "3199     1499                 9        1845.75\n",
       "3200     1499                10       17788.51\n",
       "3201     1499                11       17963.31\n",
       "3202     1499                12       13055.58\n",
       "\n",
       "[3203 rows x 3 columns]"
      ]
     },
     "execution_count": 23,
     "metadata": {},
     "output_type": "execute_result"
    }
   ],
   "source": [
    "pt_internet = internet.pivot_table(index=['user_id', 'month_of_session'], values='mb_used', aggfunc={'sum'}).reset_index()\n",
    "pt_internet.rename(columns = {'sum':'month_gb_used'}, inplace = True)\n",
    "pt_internet"
   ]
  },
  {
   "cell_type": "code",
   "execution_count": 24,
   "metadata": {},
   "outputs": [
    {
     "data": {
      "text/html": [
       "<div>\n",
       "<style scoped>\n",
       "    .dataframe tbody tr th:only-of-type {\n",
       "        vertical-align: middle;\n",
       "    }\n",
       "\n",
       "    .dataframe tbody tr th {\n",
       "        vertical-align: top;\n",
       "    }\n",
       "\n",
       "    .dataframe thead th {\n",
       "        text-align: right;\n",
       "    }\n",
       "</style>\n",
       "<table border=\"1\" class=\"dataframe\">\n",
       "  <thead>\n",
       "    <tr style=\"text-align: right;\">\n",
       "      <th></th>\n",
       "      <th>user_id</th>\n",
       "      <th>month_of_session</th>\n",
       "      <th>month_gb_used</th>\n",
       "    </tr>\n",
       "  </thead>\n",
       "  <tbody>\n",
       "    <tr>\n",
       "      <td>0</td>\n",
       "      <td>1000</td>\n",
       "      <td>5</td>\n",
       "      <td>3</td>\n",
       "    </tr>\n",
       "    <tr>\n",
       "      <td>1</td>\n",
       "      <td>1000</td>\n",
       "      <td>6</td>\n",
       "      <td>23</td>\n",
       "    </tr>\n",
       "    <tr>\n",
       "      <td>2</td>\n",
       "      <td>1000</td>\n",
       "      <td>7</td>\n",
       "      <td>14</td>\n",
       "    </tr>\n",
       "  </tbody>\n",
       "</table>\n",
       "</div>"
      ],
      "text/plain": [
       "   user_id  month_of_session  month_gb_used\n",
       "0     1000                 5              3\n",
       "1     1000                 6             23\n",
       "2     1000                 7             14"
      ]
     },
     "execution_count": 24,
     "metadata": {},
     "output_type": "execute_result"
    }
   ],
   "source": [
    "pt_internet['month_gb_used'] = pt_internet['month_gb_used'].div(1024).apply(np.ceil).astype('int')\n",
    "pt_internet.head(3)"
   ]
  },
  {
   "cell_type": "markdown",
   "metadata": {},
   "source": [
    "**Помесячная выручка с каждого пользователя**"
   ]
  },
  {
   "cell_type": "markdown",
   "metadata": {},
   "source": [
    "Для подсчета помесячной выручки придется объединить все таблицы. Причем ключом для объединения трафика надо сделать новую колонку - связку пользователя (user_id) и месяца. Это необходимо, так как все таблицы имеют разную длину (не все клиенты пользовались всеми сервисами каждый месяц).\n",
    "\n",
    "Начнем с подготовки данных о трафике."
   ]
  },
  {
   "cell_type": "code",
   "execution_count": 25,
   "metadata": {},
   "outputs": [
    {
     "name": "stdout",
     "output_type": "stream",
     "text": [
      "  user_id month_of_call  month_calls_count  month_calls_duration user_month_id\n",
      "0    1000             5                 22                   159        1000_5\n",
      "1    1000             6                 43                   172        1000_6\n",
      "2    1000             7                 47                   340        1000_7\n",
      "(3174, 5)\n"
     ]
    }
   ],
   "source": [
    "pt_calls['user_id'] = pt_calls['user_id'].astype('str')\n",
    "pt_calls['month_of_call'] = pt_calls['month_of_call'].astype('str')\n",
    "pt_calls['user_month_id'] = pt_calls['user_id'] + '_' + pt_calls['month_of_call']\n",
    "print(pt_calls.head(3), pt_calls.shape, sep='\\n')"
   ]
  },
  {
   "cell_type": "code",
   "execution_count": 26,
   "metadata": {},
   "outputs": [
    {
     "name": "stdout",
     "output_type": "stream",
     "text": [
      "  user_id month_of_message  month_messages_count user_month_id\n",
      "0    1000                5                    22        1000_5\n",
      "1    1000                6                    60        1000_6\n",
      "2    1000                7                    75        1000_7\n",
      "(2717, 4)\n"
     ]
    }
   ],
   "source": [
    "pt_messages['user_id'] = pt_messages['user_id'].astype('str')\n",
    "pt_messages['month_of_message'] = pt_messages['month_of_message'].astype('str')\n",
    "pt_messages['user_month_id'] = pt_messages['user_id'] + '_' + pt_messages['month_of_message']\n",
    "print(pt_messages.head(3), pt_messages.shape, sep='\\n')"
   ]
  },
  {
   "cell_type": "code",
   "execution_count": 27,
   "metadata": {},
   "outputs": [
    {
     "name": "stdout",
     "output_type": "stream",
     "text": [
      "  user_id month_of_session  month_gb_used user_month_id\n",
      "0    1000                5              3        1000_5\n",
      "1    1000                6             23        1000_6\n",
      "2    1000                7             14        1000_7\n",
      "(3203, 4)\n"
     ]
    }
   ],
   "source": [
    "pt_internet['user_id'] = pt_internet['user_id'].astype('str')\n",
    "pt_internet['month_of_session'] = pt_internet['month_of_session'].astype('str')\n",
    "pt_internet['user_month_id'] = pt_internet['user_id'] + '_' + pt_internet['month_of_session']\n",
    "print(pt_internet.head(3), pt_internet.shape, sep='\\n')"
   ]
  },
  {
   "cell_type": "markdown",
   "metadata": {},
   "source": [
    "Самая длинная таблица - интернет. К ней и присоединим остальные."
   ]
  },
  {
   "cell_type": "code",
   "execution_count": 28,
   "metadata": {},
   "outputs": [
    {
     "name": "stdout",
     "output_type": "stream",
     "text": [
      "  user_id_x month_of_session  month_gb_used user_month_id user_id_y  \\\n",
      "0      1000                5            3.0        1000_5      1000   \n",
      "1      1000                6           23.0        1000_6      1000   \n",
      "2      1000                7           14.0        1000_7      1000   \n",
      "\n",
      "  month_of_call  month_calls_count  month_calls_duration user_id  \\\n",
      "0             5               22.0                 159.0    1000   \n",
      "1             6               43.0                 172.0    1000   \n",
      "2             7               47.0                 340.0    1000   \n",
      "\n",
      "  month_of_message  month_messages_count  \n",
      "0                5                  22.0  \n",
      "1                6                  60.0  \n",
      "2                7                  75.0  \n",
      "(3214, 11)\n"
     ]
    }
   ],
   "source": [
    "data = pt_internet.merge(pt_calls, on='user_month_id', how='outer').merge(pt_messages, on='user_month_id', how='outer')\n",
    "print(data.head(3), data.shape, sep='\\n')"
   ]
  },
  {
   "cell_type": "markdown",
   "metadata": {},
   "source": [
    "Таблица увеличилась по числу строк."
   ]
  },
  {
   "cell_type": "code",
   "execution_count": 29,
   "metadata": {},
   "outputs": [
    {
     "name": "stdout",
     "output_type": "stream",
     "text": [
      "<class 'pandas.core.frame.DataFrame'>\n",
      "Int64Index: 3214 entries, 0 to 3213\n",
      "Data columns (total 11 columns):\n",
      "user_id_x               3203 non-null object\n",
      "month_of_session        3203 non-null object\n",
      "month_gb_used           3203 non-null float64\n",
      "user_month_id           3214 non-null object\n",
      "user_id_y               3174 non-null object\n",
      "month_of_call           3174 non-null object\n",
      "month_calls_count       3174 non-null float64\n",
      "month_calls_duration    3174 non-null float64\n",
      "user_id                 2717 non-null object\n",
      "month_of_message        2717 non-null object\n",
      "month_messages_count    2717 non-null float64\n",
      "dtypes: float64(4), object(7)\n",
      "memory usage: 301.3+ KB\n"
     ]
    }
   ],
   "source": [
    "data.info()"
   ]
  },
  {
   "cell_type": "markdown",
   "metadata": {},
   "source": [
    "Появились пропуски. Теперь предстоит нормализовать данные. Наиболее полные данные, естественно, по обобщенному индексу \"пользователь-месяц\". Собственно, принципиально важны пропуски в user_id_х и month_of_session. Их дополним за счет имеющихся аналогичных ненулевых полей. "
   ]
  },
  {
   "cell_type": "code",
   "execution_count": 30,
   "metadata": {},
   "outputs": [
    {
     "name": "stdout",
     "output_type": "stream",
     "text": [
      "<class 'pandas.core.frame.DataFrame'>\n",
      "Int64Index: 3214 entries, 0 to 3213\n",
      "Data columns (total 11 columns):\n",
      "user_id_x               3214 non-null object\n",
      "month_of_session        3214 non-null object\n",
      "month_gb_used           3203 non-null float64\n",
      "user_month_id           3214 non-null object\n",
      "user_id_y               3174 non-null object\n",
      "month_of_call           3174 non-null object\n",
      "month_calls_count       3174 non-null float64\n",
      "month_calls_duration    3174 non-null float64\n",
      "user_id                 2717 non-null object\n",
      "month_of_message        2717 non-null object\n",
      "month_messages_count    2717 non-null float64\n",
      "dtypes: float64(4), object(7)\n",
      "memory usage: 301.3+ KB\n"
     ]
    }
   ],
   "source": [
    "data['user_id_x'] = data['user_id_x'].fillna(data['user_id_y'])\n",
    "data['month_of_session'] = data['month_of_session'].fillna(data['month_of_call'])\n",
    "data.info()"
   ]
  },
  {
   "cell_type": "markdown",
   "metadata": {},
   "source": [
    "Оказалось, что данных в колонках о телефонных звонках достаточно. Информация из колонок о сообщениях не понадобилась.\n",
    "\n",
    "Теперь уберем лишние колонки, переназовем часть оставшихся и заполним нулями фактические данные, так как сейчас пропуски остались в тех полях, которые соответствуют невостребованным видам сервиса."
   ]
  },
  {
   "cell_type": "code",
   "execution_count": 31,
   "metadata": {},
   "outputs": [
    {
     "name": "stdout",
     "output_type": "stream",
     "text": [
      "<class 'pandas.core.frame.DataFrame'>\n",
      "Int64Index: 3214 entries, 0 to 3213\n",
      "Data columns (total 6 columns):\n",
      "user_id_x               3214 non-null object\n",
      "month_of_session        3214 non-null object\n",
      "month_gb_used           3203 non-null float64\n",
      "month_calls_count       3174 non-null float64\n",
      "month_calls_duration    3174 non-null float64\n",
      "month_messages_count    2717 non-null float64\n",
      "dtypes: float64(4), object(2)\n",
      "memory usage: 175.8+ KB\n"
     ]
    }
   ],
   "source": [
    "data = data.drop(['user_id_y', 'user_id', 'month_of_call', 'month_of_message', 'user_month_id'], 1)\n",
    "data.info()"
   ]
  },
  {
   "cell_type": "code",
   "execution_count": 32,
   "metadata": {},
   "outputs": [
    {
     "data": {
      "text/html": [
       "<div>\n",
       "<style scoped>\n",
       "    .dataframe tbody tr th:only-of-type {\n",
       "        vertical-align: middle;\n",
       "    }\n",
       "\n",
       "    .dataframe tbody tr th {\n",
       "        vertical-align: top;\n",
       "    }\n",
       "\n",
       "    .dataframe thead th {\n",
       "        text-align: right;\n",
       "    }\n",
       "</style>\n",
       "<table border=\"1\" class=\"dataframe\">\n",
       "  <thead>\n",
       "    <tr style=\"text-align: right;\">\n",
       "      <th></th>\n",
       "      <th>user_id</th>\n",
       "      <th>month</th>\n",
       "      <th>month_gb_used</th>\n",
       "      <th>month_calls_count</th>\n",
       "      <th>month_calls_duration</th>\n",
       "      <th>month_messages_count</th>\n",
       "    </tr>\n",
       "  </thead>\n",
       "  <tbody>\n",
       "    <tr>\n",
       "      <td>0</td>\n",
       "      <td>1000</td>\n",
       "      <td>5</td>\n",
       "      <td>3.0</td>\n",
       "      <td>22.0</td>\n",
       "      <td>159.0</td>\n",
       "      <td>22.0</td>\n",
       "    </tr>\n",
       "    <tr>\n",
       "      <td>1</td>\n",
       "      <td>1000</td>\n",
       "      <td>6</td>\n",
       "      <td>23.0</td>\n",
       "      <td>43.0</td>\n",
       "      <td>172.0</td>\n",
       "      <td>60.0</td>\n",
       "    </tr>\n",
       "    <tr>\n",
       "      <td>2</td>\n",
       "      <td>1000</td>\n",
       "      <td>7</td>\n",
       "      <td>14.0</td>\n",
       "      <td>47.0</td>\n",
       "      <td>340.0</td>\n",
       "      <td>75.0</td>\n",
       "    </tr>\n",
       "    <tr>\n",
       "      <td>3</td>\n",
       "      <td>1000</td>\n",
       "      <td>8</td>\n",
       "      <td>14.0</td>\n",
       "      <td>52.0</td>\n",
       "      <td>408.0</td>\n",
       "      <td>81.0</td>\n",
       "    </tr>\n",
       "    <tr>\n",
       "      <td>4</td>\n",
       "      <td>1000</td>\n",
       "      <td>9</td>\n",
       "      <td>15.0</td>\n",
       "      <td>58.0</td>\n",
       "      <td>466.0</td>\n",
       "      <td>57.0</td>\n",
       "    </tr>\n",
       "    <tr>\n",
       "      <td>...</td>\n",
       "      <td>...</td>\n",
       "      <td>...</td>\n",
       "      <td>...</td>\n",
       "      <td>...</td>\n",
       "      <td>...</td>\n",
       "      <td>...</td>\n",
       "    </tr>\n",
       "    <tr>\n",
       "      <td>3209</td>\n",
       "      <td>1273</td>\n",
       "      <td>11</td>\n",
       "      <td>0.0</td>\n",
       "      <td>45.0</td>\n",
       "      <td>272.0</td>\n",
       "      <td>29.0</td>\n",
       "    </tr>\n",
       "    <tr>\n",
       "      <td>3210</td>\n",
       "      <td>1273</td>\n",
       "      <td>12</td>\n",
       "      <td>0.0</td>\n",
       "      <td>41.0</td>\n",
       "      <td>260.0</td>\n",
       "      <td>39.0</td>\n",
       "    </tr>\n",
       "    <tr>\n",
       "      <td>3211</td>\n",
       "      <td>1377</td>\n",
       "      <td>2</td>\n",
       "      <td>0.0</td>\n",
       "      <td>23.0</td>\n",
       "      <td>179.0</td>\n",
       "      <td>2.0</td>\n",
       "    </tr>\n",
       "    <tr>\n",
       "      <td>3212</td>\n",
       "      <td>1392</td>\n",
       "      <td>2</td>\n",
       "      <td>0.0</td>\n",
       "      <td>2.0</td>\n",
       "      <td>13.0</td>\n",
       "      <td>3.0</td>\n",
       "    </tr>\n",
       "    <tr>\n",
       "      <td>3213</td>\n",
       "      <td>1446</td>\n",
       "      <td>8</td>\n",
       "      <td>0.0</td>\n",
       "      <td>4.0</td>\n",
       "      <td>50.0</td>\n",
       "      <td>1.0</td>\n",
       "    </tr>\n",
       "  </tbody>\n",
       "</table>\n",
       "<p>3214 rows × 6 columns</p>\n",
       "</div>"
      ],
      "text/plain": [
       "     user_id month  month_gb_used  month_calls_count  month_calls_duration  \\\n",
       "0       1000     5            3.0               22.0                 159.0   \n",
       "1       1000     6           23.0               43.0                 172.0   \n",
       "2       1000     7           14.0               47.0                 340.0   \n",
       "3       1000     8           14.0               52.0                 408.0   \n",
       "4       1000     9           15.0               58.0                 466.0   \n",
       "...      ...   ...            ...                ...                   ...   \n",
       "3209    1273    11            0.0               45.0                 272.0   \n",
       "3210    1273    12            0.0               41.0                 260.0   \n",
       "3211    1377     2            0.0               23.0                 179.0   \n",
       "3212    1392     2            0.0                2.0                  13.0   \n",
       "3213    1446     8            0.0                4.0                  50.0   \n",
       "\n",
       "      month_messages_count  \n",
       "0                     22.0  \n",
       "1                     60.0  \n",
       "2                     75.0  \n",
       "3                     81.0  \n",
       "4                     57.0  \n",
       "...                    ...  \n",
       "3209                  29.0  \n",
       "3210                  39.0  \n",
       "3211                   2.0  \n",
       "3212                   3.0  \n",
       "3213                   1.0  \n",
       "\n",
       "[3214 rows x 6 columns]"
      ]
     },
     "execution_count": 32,
     "metadata": {},
     "output_type": "execute_result"
    }
   ],
   "source": [
    "data.rename(columns = {'user_id_x':'user_id', 'month_of_session':'month'}, inplace = True)\n",
    "data = data.fillna(0)\n",
    "data"
   ]
  },
  {
   "cell_type": "markdown",
   "metadata": {},
   "source": [
    "Добавим данные из таблицы пользователей, где нас для дальнейшей работы интересуют, по сути, только тарифы и место жительства."
   ]
  },
  {
   "cell_type": "code",
   "execution_count": 33,
   "metadata": {},
   "outputs": [
    {
     "name": "stdout",
     "output_type": "stream",
     "text": [
      "<class 'pandas.core.frame.DataFrame'>\n",
      "Int64Index: 3216 entries, 0 to 3215\n",
      "Data columns (total 13 columns):\n",
      "user_id                 3216 non-null object\n",
      "month                   3214 non-null object\n",
      "month_gb_used           3214 non-null float64\n",
      "month_calls_count       3214 non-null float64\n",
      "month_calls_duration    3214 non-null float64\n",
      "month_messages_count    3214 non-null float64\n",
      "age                     3216 non-null int64\n",
      "churn_date              3216 non-null datetime64[ns]\n",
      "city                    3216 non-null object\n",
      "first_name              3216 non-null object\n",
      "last_name               3216 non-null object\n",
      "reg_date                3216 non-null datetime64[ns]\n",
      "tariff                  3216 non-null object\n",
      "dtypes: datetime64[ns](2), float64(4), int64(1), object(6)\n",
      "memory usage: 351.8+ KB\n"
     ]
    }
   ],
   "source": [
    "data = data.merge(users, on='user_id', how='outer')\n",
    "data.info()"
   ]
  },
  {
   "cell_type": "code",
   "execution_count": 34,
   "metadata": {},
   "outputs": [
    {
     "data": {
      "text/html": [
       "<div>\n",
       "<style scoped>\n",
       "    .dataframe tbody tr th:only-of-type {\n",
       "        vertical-align: middle;\n",
       "    }\n",
       "\n",
       "    .dataframe tbody tr th {\n",
       "        vertical-align: top;\n",
       "    }\n",
       "\n",
       "    .dataframe thead th {\n",
       "        text-align: right;\n",
       "    }\n",
       "</style>\n",
       "<table border=\"1\" class=\"dataframe\">\n",
       "  <thead>\n",
       "    <tr style=\"text-align: right;\">\n",
       "      <th></th>\n",
       "      <th>user_id</th>\n",
       "      <th>month</th>\n",
       "      <th>month_gb_used</th>\n",
       "      <th>month_calls_count</th>\n",
       "      <th>month_calls_duration</th>\n",
       "      <th>month_messages_count</th>\n",
       "      <th>age</th>\n",
       "      <th>churn_date</th>\n",
       "      <th>city</th>\n",
       "      <th>first_name</th>\n",
       "      <th>last_name</th>\n",
       "      <th>reg_date</th>\n",
       "      <th>tariff</th>\n",
       "    </tr>\n",
       "  </thead>\n",
       "  <tbody>\n",
       "    <tr>\n",
       "      <td>3211</td>\n",
       "      <td>1273</td>\n",
       "      <td>10</td>\n",
       "      <td>0.0</td>\n",
       "      <td>40.0</td>\n",
       "      <td>315.0</td>\n",
       "      <td>35.0</td>\n",
       "      <td>46</td>\n",
       "      <td>2018-12-31</td>\n",
       "      <td>Курган</td>\n",
       "      <td>Рэм</td>\n",
       "      <td>Корнилов</td>\n",
       "      <td>2018-05-15</td>\n",
       "      <td>ultra</td>\n",
       "    </tr>\n",
       "    <tr>\n",
       "      <td>3212</td>\n",
       "      <td>1273</td>\n",
       "      <td>11</td>\n",
       "      <td>0.0</td>\n",
       "      <td>45.0</td>\n",
       "      <td>272.0</td>\n",
       "      <td>29.0</td>\n",
       "      <td>46</td>\n",
       "      <td>2018-12-31</td>\n",
       "      <td>Курган</td>\n",
       "      <td>Рэм</td>\n",
       "      <td>Корнилов</td>\n",
       "      <td>2018-05-15</td>\n",
       "      <td>ultra</td>\n",
       "    </tr>\n",
       "    <tr>\n",
       "      <td>3213</td>\n",
       "      <td>1273</td>\n",
       "      <td>12</td>\n",
       "      <td>0.0</td>\n",
       "      <td>41.0</td>\n",
       "      <td>260.0</td>\n",
       "      <td>39.0</td>\n",
       "      <td>46</td>\n",
       "      <td>2018-12-31</td>\n",
       "      <td>Курган</td>\n",
       "      <td>Рэм</td>\n",
       "      <td>Корнилов</td>\n",
       "      <td>2018-05-15</td>\n",
       "      <td>ultra</td>\n",
       "    </tr>\n",
       "    <tr>\n",
       "      <td>3214</td>\n",
       "      <td>1128</td>\n",
       "      <td>NaN</td>\n",
       "      <td>NaN</td>\n",
       "      <td>NaN</td>\n",
       "      <td>NaN</td>\n",
       "      <td>NaN</td>\n",
       "      <td>51</td>\n",
       "      <td>2018-12-23</td>\n",
       "      <td>Волжский</td>\n",
       "      <td>Ксения</td>\n",
       "      <td>Агаева</td>\n",
       "      <td>2018-12-15</td>\n",
       "      <td>ultra</td>\n",
       "    </tr>\n",
       "    <tr>\n",
       "      <td>3215</td>\n",
       "      <td>1371</td>\n",
       "      <td>NaN</td>\n",
       "      <td>NaN</td>\n",
       "      <td>NaN</td>\n",
       "      <td>NaN</td>\n",
       "      <td>NaN</td>\n",
       "      <td>50</td>\n",
       "      <td>2018-12-30</td>\n",
       "      <td>Омск</td>\n",
       "      <td>Ириней</td>\n",
       "      <td>Трофимов</td>\n",
       "      <td>2018-12-25</td>\n",
       "      <td>smart</td>\n",
       "    </tr>\n",
       "  </tbody>\n",
       "</table>\n",
       "</div>"
      ],
      "text/plain": [
       "     user_id month  month_gb_used  month_calls_count  month_calls_duration  \\\n",
       "3211    1273    10            0.0               40.0                 315.0   \n",
       "3212    1273    11            0.0               45.0                 272.0   \n",
       "3213    1273    12            0.0               41.0                 260.0   \n",
       "3214    1128   NaN            NaN                NaN                   NaN   \n",
       "3215    1371   NaN            NaN                NaN                   NaN   \n",
       "\n",
       "      month_messages_count  age churn_date      city first_name last_name  \\\n",
       "3211                  35.0   46 2018-12-31    Курган        Рэм  Корнилов   \n",
       "3212                  29.0   46 2018-12-31    Курган        Рэм  Корнилов   \n",
       "3213                  39.0   46 2018-12-31    Курган        Рэм  Корнилов   \n",
       "3214                   NaN   51 2018-12-23  Волжский     Ксения    Агаева   \n",
       "3215                   NaN   50 2018-12-30      Омск     Ириней  Трофимов   \n",
       "\n",
       "       reg_date tariff  \n",
       "3211 2018-05-15  ultra  \n",
       "3212 2018-05-15  ultra  \n",
       "3213 2018-05-15  ultra  \n",
       "3214 2018-12-15  ultra  \n",
       "3215 2018-12-25  smart  "
      ]
     },
     "execution_count": 34,
     "metadata": {},
     "output_type": "execute_result"
    }
   ],
   "source": [
    "data.tail(5)"
   ]
  },
  {
   "cell_type": "markdown",
   "metadata": {},
   "source": [
    "В таблице появились два абонента, которые подключились к услугам компании в самом конце периода и не успели проявить активность. Удалим эти строки, а также избыточные колонки."
   ]
  },
  {
   "cell_type": "code",
   "execution_count": 35,
   "metadata": {},
   "outputs": [
    {
     "data": {
      "text/html": [
       "<div>\n",
       "<style scoped>\n",
       "    .dataframe tbody tr th:only-of-type {\n",
       "        vertical-align: middle;\n",
       "    }\n",
       "\n",
       "    .dataframe tbody tr th {\n",
       "        vertical-align: top;\n",
       "    }\n",
       "\n",
       "    .dataframe thead th {\n",
       "        text-align: right;\n",
       "    }\n",
       "</style>\n",
       "<table border=\"1\" class=\"dataframe\">\n",
       "  <thead>\n",
       "    <tr style=\"text-align: right;\">\n",
       "      <th></th>\n",
       "      <th>user_id</th>\n",
       "      <th>month</th>\n",
       "      <th>month_gb_used</th>\n",
       "      <th>month_calls_count</th>\n",
       "      <th>month_calls_duration</th>\n",
       "      <th>month_messages_count</th>\n",
       "      <th>city</th>\n",
       "      <th>tariff</th>\n",
       "    </tr>\n",
       "  </thead>\n",
       "  <tbody>\n",
       "    <tr>\n",
       "      <td>3211</td>\n",
       "      <td>1273</td>\n",
       "      <td>10</td>\n",
       "      <td>0.0</td>\n",
       "      <td>40.0</td>\n",
       "      <td>315.0</td>\n",
       "      <td>35.0</td>\n",
       "      <td>Курган</td>\n",
       "      <td>ultra</td>\n",
       "    </tr>\n",
       "    <tr>\n",
       "      <td>3212</td>\n",
       "      <td>1273</td>\n",
       "      <td>11</td>\n",
       "      <td>0.0</td>\n",
       "      <td>45.0</td>\n",
       "      <td>272.0</td>\n",
       "      <td>29.0</td>\n",
       "      <td>Курган</td>\n",
       "      <td>ultra</td>\n",
       "    </tr>\n",
       "    <tr>\n",
       "      <td>3213</td>\n",
       "      <td>1273</td>\n",
       "      <td>12</td>\n",
       "      <td>0.0</td>\n",
       "      <td>41.0</td>\n",
       "      <td>260.0</td>\n",
       "      <td>39.0</td>\n",
       "      <td>Курган</td>\n",
       "      <td>ultra</td>\n",
       "    </tr>\n",
       "  </tbody>\n",
       "</table>\n",
       "</div>"
      ],
      "text/plain": [
       "     user_id month  month_gb_used  month_calls_count  month_calls_duration  \\\n",
       "3211    1273    10            0.0               40.0                 315.0   \n",
       "3212    1273    11            0.0               45.0                 272.0   \n",
       "3213    1273    12            0.0               41.0                 260.0   \n",
       "\n",
       "      month_messages_count    city tariff  \n",
       "3211                  35.0  Курган  ultra  \n",
       "3212                  29.0  Курган  ultra  \n",
       "3213                  39.0  Курган  ultra  "
      ]
     },
     "execution_count": 35,
     "metadata": {},
     "output_type": "execute_result"
    }
   ],
   "source": [
    "data = data.dropna()\n",
    "data = data.drop(['age', 'churn_date', 'first_name', 'last_name', 'reg_date'], 1)\n",
    "data.tail(3)"
   ]
  },
  {
   "cell_type": "markdown",
   "metadata": {},
   "source": [
    "Наконец, добавим параметры тарифов. Объединение произведем по колонке tariff/"
   ]
  },
  {
   "cell_type": "code",
   "execution_count": 36,
   "metadata": {},
   "outputs": [
    {
     "data": {
      "text/html": [
       "<div>\n",
       "<style scoped>\n",
       "    .dataframe tbody tr th:only-of-type {\n",
       "        vertical-align: middle;\n",
       "    }\n",
       "\n",
       "    .dataframe tbody tr th {\n",
       "        vertical-align: top;\n",
       "    }\n",
       "\n",
       "    .dataframe thead th {\n",
       "        text-align: right;\n",
       "    }\n",
       "</style>\n",
       "<table border=\"1\" class=\"dataframe\">\n",
       "  <thead>\n",
       "    <tr style=\"text-align: right;\">\n",
       "      <th></th>\n",
       "      <th>user_id</th>\n",
       "      <th>month</th>\n",
       "      <th>month_gb_used</th>\n",
       "      <th>month_calls_count</th>\n",
       "      <th>month_calls_duration</th>\n",
       "      <th>month_messages_count</th>\n",
       "      <th>city</th>\n",
       "      <th>tariff</th>\n",
       "      <th>messages_included</th>\n",
       "      <th>mb_per_month_included</th>\n",
       "      <th>minutes_included</th>\n",
       "      <th>rub_monthly_fee</th>\n",
       "      <th>rub_per_gb</th>\n",
       "      <th>rub_per_message</th>\n",
       "      <th>rub_per_minute</th>\n",
       "    </tr>\n",
       "  </thead>\n",
       "  <tbody>\n",
       "    <tr>\n",
       "      <td>0</td>\n",
       "      <td>1000</td>\n",
       "      <td>5</td>\n",
       "      <td>3.0</td>\n",
       "      <td>22.0</td>\n",
       "      <td>159.0</td>\n",
       "      <td>22.0</td>\n",
       "      <td>Краснодар</td>\n",
       "      <td>ultra</td>\n",
       "      <td>1000</td>\n",
       "      <td>30720</td>\n",
       "      <td>3000</td>\n",
       "      <td>1950</td>\n",
       "      <td>150</td>\n",
       "      <td>1</td>\n",
       "      <td>1</td>\n",
       "    </tr>\n",
       "    <tr>\n",
       "      <td>1</td>\n",
       "      <td>1000</td>\n",
       "      <td>6</td>\n",
       "      <td>23.0</td>\n",
       "      <td>43.0</td>\n",
       "      <td>172.0</td>\n",
       "      <td>60.0</td>\n",
       "      <td>Краснодар</td>\n",
       "      <td>ultra</td>\n",
       "      <td>1000</td>\n",
       "      <td>30720</td>\n",
       "      <td>3000</td>\n",
       "      <td>1950</td>\n",
       "      <td>150</td>\n",
       "      <td>1</td>\n",
       "      <td>1</td>\n",
       "    </tr>\n",
       "    <tr>\n",
       "      <td>2</td>\n",
       "      <td>1000</td>\n",
       "      <td>7</td>\n",
       "      <td>14.0</td>\n",
       "      <td>47.0</td>\n",
       "      <td>340.0</td>\n",
       "      <td>75.0</td>\n",
       "      <td>Краснодар</td>\n",
       "      <td>ultra</td>\n",
       "      <td>1000</td>\n",
       "      <td>30720</td>\n",
       "      <td>3000</td>\n",
       "      <td>1950</td>\n",
       "      <td>150</td>\n",
       "      <td>1</td>\n",
       "      <td>1</td>\n",
       "    </tr>\n",
       "    <tr>\n",
       "      <td>3</td>\n",
       "      <td>1000</td>\n",
       "      <td>8</td>\n",
       "      <td>14.0</td>\n",
       "      <td>52.0</td>\n",
       "      <td>408.0</td>\n",
       "      <td>81.0</td>\n",
       "      <td>Краснодар</td>\n",
       "      <td>ultra</td>\n",
       "      <td>1000</td>\n",
       "      <td>30720</td>\n",
       "      <td>3000</td>\n",
       "      <td>1950</td>\n",
       "      <td>150</td>\n",
       "      <td>1</td>\n",
       "      <td>1</td>\n",
       "    </tr>\n",
       "    <tr>\n",
       "      <td>4</td>\n",
       "      <td>1000</td>\n",
       "      <td>9</td>\n",
       "      <td>15.0</td>\n",
       "      <td>58.0</td>\n",
       "      <td>466.0</td>\n",
       "      <td>57.0</td>\n",
       "      <td>Краснодар</td>\n",
       "      <td>ultra</td>\n",
       "      <td>1000</td>\n",
       "      <td>30720</td>\n",
       "      <td>3000</td>\n",
       "      <td>1950</td>\n",
       "      <td>150</td>\n",
       "      <td>1</td>\n",
       "      <td>1</td>\n",
       "    </tr>\n",
       "    <tr>\n",
       "      <td>...</td>\n",
       "      <td>...</td>\n",
       "      <td>...</td>\n",
       "      <td>...</td>\n",
       "      <td>...</td>\n",
       "      <td>...</td>\n",
       "      <td>...</td>\n",
       "      <td>...</td>\n",
       "      <td>...</td>\n",
       "      <td>...</td>\n",
       "      <td>...</td>\n",
       "      <td>...</td>\n",
       "      <td>...</td>\n",
       "      <td>...</td>\n",
       "      <td>...</td>\n",
       "      <td>...</td>\n",
       "    </tr>\n",
       "    <tr>\n",
       "      <td>3209</td>\n",
       "      <td>1273</td>\n",
       "      <td>8</td>\n",
       "      <td>0.0</td>\n",
       "      <td>53.0</td>\n",
       "      <td>253.0</td>\n",
       "      <td>41.0</td>\n",
       "      <td>Курган</td>\n",
       "      <td>ultra</td>\n",
       "      <td>1000</td>\n",
       "      <td>30720</td>\n",
       "      <td>3000</td>\n",
       "      <td>1950</td>\n",
       "      <td>150</td>\n",
       "      <td>1</td>\n",
       "      <td>1</td>\n",
       "    </tr>\n",
       "    <tr>\n",
       "      <td>3210</td>\n",
       "      <td>1273</td>\n",
       "      <td>9</td>\n",
       "      <td>0.0</td>\n",
       "      <td>33.0</td>\n",
       "      <td>223.0</td>\n",
       "      <td>32.0</td>\n",
       "      <td>Курган</td>\n",
       "      <td>ultra</td>\n",
       "      <td>1000</td>\n",
       "      <td>30720</td>\n",
       "      <td>3000</td>\n",
       "      <td>1950</td>\n",
       "      <td>150</td>\n",
       "      <td>1</td>\n",
       "      <td>1</td>\n",
       "    </tr>\n",
       "    <tr>\n",
       "      <td>3211</td>\n",
       "      <td>1273</td>\n",
       "      <td>10</td>\n",
       "      <td>0.0</td>\n",
       "      <td>40.0</td>\n",
       "      <td>315.0</td>\n",
       "      <td>35.0</td>\n",
       "      <td>Курган</td>\n",
       "      <td>ultra</td>\n",
       "      <td>1000</td>\n",
       "      <td>30720</td>\n",
       "      <td>3000</td>\n",
       "      <td>1950</td>\n",
       "      <td>150</td>\n",
       "      <td>1</td>\n",
       "      <td>1</td>\n",
       "    </tr>\n",
       "    <tr>\n",
       "      <td>3212</td>\n",
       "      <td>1273</td>\n",
       "      <td>11</td>\n",
       "      <td>0.0</td>\n",
       "      <td>45.0</td>\n",
       "      <td>272.0</td>\n",
       "      <td>29.0</td>\n",
       "      <td>Курган</td>\n",
       "      <td>ultra</td>\n",
       "      <td>1000</td>\n",
       "      <td>30720</td>\n",
       "      <td>3000</td>\n",
       "      <td>1950</td>\n",
       "      <td>150</td>\n",
       "      <td>1</td>\n",
       "      <td>1</td>\n",
       "    </tr>\n",
       "    <tr>\n",
       "      <td>3213</td>\n",
       "      <td>1273</td>\n",
       "      <td>12</td>\n",
       "      <td>0.0</td>\n",
       "      <td>41.0</td>\n",
       "      <td>260.0</td>\n",
       "      <td>39.0</td>\n",
       "      <td>Курган</td>\n",
       "      <td>ultra</td>\n",
       "      <td>1000</td>\n",
       "      <td>30720</td>\n",
       "      <td>3000</td>\n",
       "      <td>1950</td>\n",
       "      <td>150</td>\n",
       "      <td>1</td>\n",
       "      <td>1</td>\n",
       "    </tr>\n",
       "  </tbody>\n",
       "</table>\n",
       "<p>3214 rows × 15 columns</p>\n",
       "</div>"
      ],
      "text/plain": [
       "     user_id month  month_gb_used  month_calls_count  month_calls_duration  \\\n",
       "0       1000     5            3.0               22.0                 159.0   \n",
       "1       1000     6           23.0               43.0                 172.0   \n",
       "2       1000     7           14.0               47.0                 340.0   \n",
       "3       1000     8           14.0               52.0                 408.0   \n",
       "4       1000     9           15.0               58.0                 466.0   \n",
       "...      ...   ...            ...                ...                   ...   \n",
       "3209    1273     8            0.0               53.0                 253.0   \n",
       "3210    1273     9            0.0               33.0                 223.0   \n",
       "3211    1273    10            0.0               40.0                 315.0   \n",
       "3212    1273    11            0.0               45.0                 272.0   \n",
       "3213    1273    12            0.0               41.0                 260.0   \n",
       "\n",
       "      month_messages_count       city tariff  messages_included  \\\n",
       "0                     22.0  Краснодар  ultra               1000   \n",
       "1                     60.0  Краснодар  ultra               1000   \n",
       "2                     75.0  Краснодар  ultra               1000   \n",
       "3                     81.0  Краснодар  ultra               1000   \n",
       "4                     57.0  Краснодар  ultra               1000   \n",
       "...                    ...        ...    ...                ...   \n",
       "3209                  41.0     Курган  ultra               1000   \n",
       "3210                  32.0     Курган  ultra               1000   \n",
       "3211                  35.0     Курган  ultra               1000   \n",
       "3212                  29.0     Курган  ultra               1000   \n",
       "3213                  39.0     Курган  ultra               1000   \n",
       "\n",
       "      mb_per_month_included  minutes_included  rub_monthly_fee  rub_per_gb  \\\n",
       "0                     30720              3000             1950         150   \n",
       "1                     30720              3000             1950         150   \n",
       "2                     30720              3000             1950         150   \n",
       "3                     30720              3000             1950         150   \n",
       "4                     30720              3000             1950         150   \n",
       "...                     ...               ...              ...         ...   \n",
       "3209                  30720              3000             1950         150   \n",
       "3210                  30720              3000             1950         150   \n",
       "3211                  30720              3000             1950         150   \n",
       "3212                  30720              3000             1950         150   \n",
       "3213                  30720              3000             1950         150   \n",
       "\n",
       "      rub_per_message  rub_per_minute  \n",
       "0                   1               1  \n",
       "1                   1               1  \n",
       "2                   1               1  \n",
       "3                   1               1  \n",
       "4                   1               1  \n",
       "...               ...             ...  \n",
       "3209                1               1  \n",
       "3210                1               1  \n",
       "3211                1               1  \n",
       "3212                1               1  \n",
       "3213                1               1  \n",
       "\n",
       "[3214 rows x 15 columns]"
      ]
     },
     "execution_count": 36,
     "metadata": {},
     "output_type": "execute_result"
    }
   ],
   "source": [
    "tariffs.rename(columns = {'tariff_name':'tariff'}, inplace = True)\n",
    "data = data.merge(tariffs, on='tariff', how='left')\n",
    "data"
   ]
  },
  {
   "cell_type": "code",
   "execution_count": 37,
   "metadata": {},
   "outputs": [
    {
     "data": {
      "text/plain": [
       "smart    2229\n",
       "ultra     985\n",
       "Name: tariff, dtype: int64"
      ]
     },
     "execution_count": 37,
     "metadata": {},
     "output_type": "execute_result"
    }
   ],
   "source": [
    "data['tariff'].value_counts()"
   ]
  },
  {
   "cell_type": "markdown",
   "metadata": {},
   "source": [
    "Так как расчет трафика ведется в гигабайтах, то и лимит приведем к гигабайтам."
   ]
  },
  {
   "cell_type": "code",
   "execution_count": 38,
   "metadata": {},
   "outputs": [
    {
     "data": {
      "text/html": [
       "<div>\n",
       "<style scoped>\n",
       "    .dataframe tbody tr th:only-of-type {\n",
       "        vertical-align: middle;\n",
       "    }\n",
       "\n",
       "    .dataframe tbody tr th {\n",
       "        vertical-align: top;\n",
       "    }\n",
       "\n",
       "    .dataframe thead th {\n",
       "        text-align: right;\n",
       "    }\n",
       "</style>\n",
       "<table border=\"1\" class=\"dataframe\">\n",
       "  <thead>\n",
       "    <tr style=\"text-align: right;\">\n",
       "      <th></th>\n",
       "      <th>user_id</th>\n",
       "      <th>month</th>\n",
       "      <th>month_gb_used</th>\n",
       "      <th>month_calls_count</th>\n",
       "      <th>month_calls_duration</th>\n",
       "      <th>month_messages_count</th>\n",
       "      <th>city</th>\n",
       "      <th>tariff</th>\n",
       "      <th>messages_included</th>\n",
       "      <th>gb_per_month_included</th>\n",
       "      <th>minutes_included</th>\n",
       "      <th>rub_monthly_fee</th>\n",
       "      <th>rub_per_gb</th>\n",
       "      <th>rub_per_message</th>\n",
       "      <th>rub_per_minute</th>\n",
       "    </tr>\n",
       "  </thead>\n",
       "  <tbody>\n",
       "    <tr>\n",
       "      <td>0</td>\n",
       "      <td>1000</td>\n",
       "      <td>5</td>\n",
       "      <td>3.0</td>\n",
       "      <td>22.0</td>\n",
       "      <td>159.0</td>\n",
       "      <td>22.0</td>\n",
       "      <td>Краснодар</td>\n",
       "      <td>ultra</td>\n",
       "      <td>1000</td>\n",
       "      <td>30.0</td>\n",
       "      <td>3000</td>\n",
       "      <td>1950</td>\n",
       "      <td>150</td>\n",
       "      <td>1</td>\n",
       "      <td>1</td>\n",
       "    </tr>\n",
       "    <tr>\n",
       "      <td>1</td>\n",
       "      <td>1000</td>\n",
       "      <td>6</td>\n",
       "      <td>23.0</td>\n",
       "      <td>43.0</td>\n",
       "      <td>172.0</td>\n",
       "      <td>60.0</td>\n",
       "      <td>Краснодар</td>\n",
       "      <td>ultra</td>\n",
       "      <td>1000</td>\n",
       "      <td>30.0</td>\n",
       "      <td>3000</td>\n",
       "      <td>1950</td>\n",
       "      <td>150</td>\n",
       "      <td>1</td>\n",
       "      <td>1</td>\n",
       "    </tr>\n",
       "    <tr>\n",
       "      <td>2</td>\n",
       "      <td>1000</td>\n",
       "      <td>7</td>\n",
       "      <td>14.0</td>\n",
       "      <td>47.0</td>\n",
       "      <td>340.0</td>\n",
       "      <td>75.0</td>\n",
       "      <td>Краснодар</td>\n",
       "      <td>ultra</td>\n",
       "      <td>1000</td>\n",
       "      <td>30.0</td>\n",
       "      <td>3000</td>\n",
       "      <td>1950</td>\n",
       "      <td>150</td>\n",
       "      <td>1</td>\n",
       "      <td>1</td>\n",
       "    </tr>\n",
       "    <tr>\n",
       "      <td>3</td>\n",
       "      <td>1000</td>\n",
       "      <td>8</td>\n",
       "      <td>14.0</td>\n",
       "      <td>52.0</td>\n",
       "      <td>408.0</td>\n",
       "      <td>81.0</td>\n",
       "      <td>Краснодар</td>\n",
       "      <td>ultra</td>\n",
       "      <td>1000</td>\n",
       "      <td>30.0</td>\n",
       "      <td>3000</td>\n",
       "      <td>1950</td>\n",
       "      <td>150</td>\n",
       "      <td>1</td>\n",
       "      <td>1</td>\n",
       "    </tr>\n",
       "    <tr>\n",
       "      <td>4</td>\n",
       "      <td>1000</td>\n",
       "      <td>9</td>\n",
       "      <td>15.0</td>\n",
       "      <td>58.0</td>\n",
       "      <td>466.0</td>\n",
       "      <td>57.0</td>\n",
       "      <td>Краснодар</td>\n",
       "      <td>ultra</td>\n",
       "      <td>1000</td>\n",
       "      <td>30.0</td>\n",
       "      <td>3000</td>\n",
       "      <td>1950</td>\n",
       "      <td>150</td>\n",
       "      <td>1</td>\n",
       "      <td>1</td>\n",
       "    </tr>\n",
       "    <tr>\n",
       "      <td>...</td>\n",
       "      <td>...</td>\n",
       "      <td>...</td>\n",
       "      <td>...</td>\n",
       "      <td>...</td>\n",
       "      <td>...</td>\n",
       "      <td>...</td>\n",
       "      <td>...</td>\n",
       "      <td>...</td>\n",
       "      <td>...</td>\n",
       "      <td>...</td>\n",
       "      <td>...</td>\n",
       "      <td>...</td>\n",
       "      <td>...</td>\n",
       "      <td>...</td>\n",
       "      <td>...</td>\n",
       "    </tr>\n",
       "    <tr>\n",
       "      <td>3209</td>\n",
       "      <td>1273</td>\n",
       "      <td>8</td>\n",
       "      <td>0.0</td>\n",
       "      <td>53.0</td>\n",
       "      <td>253.0</td>\n",
       "      <td>41.0</td>\n",
       "      <td>Курган</td>\n",
       "      <td>ultra</td>\n",
       "      <td>1000</td>\n",
       "      <td>30.0</td>\n",
       "      <td>3000</td>\n",
       "      <td>1950</td>\n",
       "      <td>150</td>\n",
       "      <td>1</td>\n",
       "      <td>1</td>\n",
       "    </tr>\n",
       "    <tr>\n",
       "      <td>3210</td>\n",
       "      <td>1273</td>\n",
       "      <td>9</td>\n",
       "      <td>0.0</td>\n",
       "      <td>33.0</td>\n",
       "      <td>223.0</td>\n",
       "      <td>32.0</td>\n",
       "      <td>Курган</td>\n",
       "      <td>ultra</td>\n",
       "      <td>1000</td>\n",
       "      <td>30.0</td>\n",
       "      <td>3000</td>\n",
       "      <td>1950</td>\n",
       "      <td>150</td>\n",
       "      <td>1</td>\n",
       "      <td>1</td>\n",
       "    </tr>\n",
       "    <tr>\n",
       "      <td>3211</td>\n",
       "      <td>1273</td>\n",
       "      <td>10</td>\n",
       "      <td>0.0</td>\n",
       "      <td>40.0</td>\n",
       "      <td>315.0</td>\n",
       "      <td>35.0</td>\n",
       "      <td>Курган</td>\n",
       "      <td>ultra</td>\n",
       "      <td>1000</td>\n",
       "      <td>30.0</td>\n",
       "      <td>3000</td>\n",
       "      <td>1950</td>\n",
       "      <td>150</td>\n",
       "      <td>1</td>\n",
       "      <td>1</td>\n",
       "    </tr>\n",
       "    <tr>\n",
       "      <td>3212</td>\n",
       "      <td>1273</td>\n",
       "      <td>11</td>\n",
       "      <td>0.0</td>\n",
       "      <td>45.0</td>\n",
       "      <td>272.0</td>\n",
       "      <td>29.0</td>\n",
       "      <td>Курган</td>\n",
       "      <td>ultra</td>\n",
       "      <td>1000</td>\n",
       "      <td>30.0</td>\n",
       "      <td>3000</td>\n",
       "      <td>1950</td>\n",
       "      <td>150</td>\n",
       "      <td>1</td>\n",
       "      <td>1</td>\n",
       "    </tr>\n",
       "    <tr>\n",
       "      <td>3213</td>\n",
       "      <td>1273</td>\n",
       "      <td>12</td>\n",
       "      <td>0.0</td>\n",
       "      <td>41.0</td>\n",
       "      <td>260.0</td>\n",
       "      <td>39.0</td>\n",
       "      <td>Курган</td>\n",
       "      <td>ultra</td>\n",
       "      <td>1000</td>\n",
       "      <td>30.0</td>\n",
       "      <td>3000</td>\n",
       "      <td>1950</td>\n",
       "      <td>150</td>\n",
       "      <td>1</td>\n",
       "      <td>1</td>\n",
       "    </tr>\n",
       "  </tbody>\n",
       "</table>\n",
       "<p>3214 rows × 15 columns</p>\n",
       "</div>"
      ],
      "text/plain": [
       "     user_id month  month_gb_used  month_calls_count  month_calls_duration  \\\n",
       "0       1000     5            3.0               22.0                 159.0   \n",
       "1       1000     6           23.0               43.0                 172.0   \n",
       "2       1000     7           14.0               47.0                 340.0   \n",
       "3       1000     8           14.0               52.0                 408.0   \n",
       "4       1000     9           15.0               58.0                 466.0   \n",
       "...      ...   ...            ...                ...                   ...   \n",
       "3209    1273     8            0.0               53.0                 253.0   \n",
       "3210    1273     9            0.0               33.0                 223.0   \n",
       "3211    1273    10            0.0               40.0                 315.0   \n",
       "3212    1273    11            0.0               45.0                 272.0   \n",
       "3213    1273    12            0.0               41.0                 260.0   \n",
       "\n",
       "      month_messages_count       city tariff  messages_included  \\\n",
       "0                     22.0  Краснодар  ultra               1000   \n",
       "1                     60.0  Краснодар  ultra               1000   \n",
       "2                     75.0  Краснодар  ultra               1000   \n",
       "3                     81.0  Краснодар  ultra               1000   \n",
       "4                     57.0  Краснодар  ultra               1000   \n",
       "...                    ...        ...    ...                ...   \n",
       "3209                  41.0     Курган  ultra               1000   \n",
       "3210                  32.0     Курган  ultra               1000   \n",
       "3211                  35.0     Курган  ultra               1000   \n",
       "3212                  29.0     Курган  ultra               1000   \n",
       "3213                  39.0     Курган  ultra               1000   \n",
       "\n",
       "      gb_per_month_included  minutes_included  rub_monthly_fee  rub_per_gb  \\\n",
       "0                      30.0              3000             1950         150   \n",
       "1                      30.0              3000             1950         150   \n",
       "2                      30.0              3000             1950         150   \n",
       "3                      30.0              3000             1950         150   \n",
       "4                      30.0              3000             1950         150   \n",
       "...                     ...               ...              ...         ...   \n",
       "3209                   30.0              3000             1950         150   \n",
       "3210                   30.0              3000             1950         150   \n",
       "3211                   30.0              3000             1950         150   \n",
       "3212                   30.0              3000             1950         150   \n",
       "3213                   30.0              3000             1950         150   \n",
       "\n",
       "      rub_per_message  rub_per_minute  \n",
       "0                   1               1  \n",
       "1                   1               1  \n",
       "2                   1               1  \n",
       "3                   1               1  \n",
       "4                   1               1  \n",
       "...               ...             ...  \n",
       "3209                1               1  \n",
       "3210                1               1  \n",
       "3211                1               1  \n",
       "3212                1               1  \n",
       "3213                1               1  \n",
       "\n",
       "[3214 rows x 15 columns]"
      ]
     },
     "execution_count": 38,
     "metadata": {},
     "output_type": "execute_result"
    }
   ],
   "source": [
    "data['mb_per_month_included'] = data['mb_per_month_included'].div(1024)\n",
    "data.rename(columns = {'mb_per_month_included':'gb_per_month_included'}, inplace = True)\n",
    "data"
   ]
  },
  {
   "cell_type": "markdown",
   "metadata": {},
   "source": [
    "Теперь рассчитаем помесячную выручку по каждому пользователю."
   ]
  },
  {
   "cell_type": "code",
   "execution_count": 39,
   "metadata": {},
   "outputs": [
    {
     "data": {
      "text/html": [
       "<div>\n",
       "<style scoped>\n",
       "    .dataframe tbody tr th:only-of-type {\n",
       "        vertical-align: middle;\n",
       "    }\n",
       "\n",
       "    .dataframe tbody tr th {\n",
       "        vertical-align: top;\n",
       "    }\n",
       "\n",
       "    .dataframe thead th {\n",
       "        text-align: right;\n",
       "    }\n",
       "</style>\n",
       "<table border=\"1\" class=\"dataframe\">\n",
       "  <thead>\n",
       "    <tr style=\"text-align: right;\">\n",
       "      <th></th>\n",
       "      <th>user_id</th>\n",
       "      <th>month</th>\n",
       "      <th>month_gb_used</th>\n",
       "      <th>month_calls_count</th>\n",
       "      <th>month_calls_duration</th>\n",
       "      <th>month_messages_count</th>\n",
       "      <th>city</th>\n",
       "      <th>tariff</th>\n",
       "      <th>messages_included</th>\n",
       "      <th>gb_per_month_included</th>\n",
       "      <th>minutes_included</th>\n",
       "      <th>rub_monthly_fee</th>\n",
       "      <th>rub_per_gb</th>\n",
       "      <th>rub_per_message</th>\n",
       "      <th>rub_per_minute</th>\n",
       "      <th>internet_gain</th>\n",
       "      <th>calls_gain</th>\n",
       "      <th>messages_gain</th>\n",
       "      <th>total_gain</th>\n",
       "    </tr>\n",
       "  </thead>\n",
       "  <tbody>\n",
       "    <tr>\n",
       "      <td>0</td>\n",
       "      <td>1000</td>\n",
       "      <td>5</td>\n",
       "      <td>3.0</td>\n",
       "      <td>22.0</td>\n",
       "      <td>159.0</td>\n",
       "      <td>22.0</td>\n",
       "      <td>Краснодар</td>\n",
       "      <td>ultra</td>\n",
       "      <td>1000</td>\n",
       "      <td>30.0</td>\n",
       "      <td>3000</td>\n",
       "      <td>1950</td>\n",
       "      <td>150</td>\n",
       "      <td>1</td>\n",
       "      <td>1</td>\n",
       "      <td>0.0</td>\n",
       "      <td>0.0</td>\n",
       "      <td>0.0</td>\n",
       "      <td>1950.0</td>\n",
       "    </tr>\n",
       "    <tr>\n",
       "      <td>1</td>\n",
       "      <td>1000</td>\n",
       "      <td>6</td>\n",
       "      <td>23.0</td>\n",
       "      <td>43.0</td>\n",
       "      <td>172.0</td>\n",
       "      <td>60.0</td>\n",
       "      <td>Краснодар</td>\n",
       "      <td>ultra</td>\n",
       "      <td>1000</td>\n",
       "      <td>30.0</td>\n",
       "      <td>3000</td>\n",
       "      <td>1950</td>\n",
       "      <td>150</td>\n",
       "      <td>1</td>\n",
       "      <td>1</td>\n",
       "      <td>0.0</td>\n",
       "      <td>0.0</td>\n",
       "      <td>0.0</td>\n",
       "      <td>1950.0</td>\n",
       "    </tr>\n",
       "    <tr>\n",
       "      <td>2</td>\n",
       "      <td>1000</td>\n",
       "      <td>7</td>\n",
       "      <td>14.0</td>\n",
       "      <td>47.0</td>\n",
       "      <td>340.0</td>\n",
       "      <td>75.0</td>\n",
       "      <td>Краснодар</td>\n",
       "      <td>ultra</td>\n",
       "      <td>1000</td>\n",
       "      <td>30.0</td>\n",
       "      <td>3000</td>\n",
       "      <td>1950</td>\n",
       "      <td>150</td>\n",
       "      <td>1</td>\n",
       "      <td>1</td>\n",
       "      <td>0.0</td>\n",
       "      <td>0.0</td>\n",
       "      <td>0.0</td>\n",
       "      <td>1950.0</td>\n",
       "    </tr>\n",
       "    <tr>\n",
       "      <td>3</td>\n",
       "      <td>1000</td>\n",
       "      <td>8</td>\n",
       "      <td>14.0</td>\n",
       "      <td>52.0</td>\n",
       "      <td>408.0</td>\n",
       "      <td>81.0</td>\n",
       "      <td>Краснодар</td>\n",
       "      <td>ultra</td>\n",
       "      <td>1000</td>\n",
       "      <td>30.0</td>\n",
       "      <td>3000</td>\n",
       "      <td>1950</td>\n",
       "      <td>150</td>\n",
       "      <td>1</td>\n",
       "      <td>1</td>\n",
       "      <td>0.0</td>\n",
       "      <td>0.0</td>\n",
       "      <td>0.0</td>\n",
       "      <td>1950.0</td>\n",
       "    </tr>\n",
       "    <tr>\n",
       "      <td>4</td>\n",
       "      <td>1000</td>\n",
       "      <td>9</td>\n",
       "      <td>15.0</td>\n",
       "      <td>58.0</td>\n",
       "      <td>466.0</td>\n",
       "      <td>57.0</td>\n",
       "      <td>Краснодар</td>\n",
       "      <td>ultra</td>\n",
       "      <td>1000</td>\n",
       "      <td>30.0</td>\n",
       "      <td>3000</td>\n",
       "      <td>1950</td>\n",
       "      <td>150</td>\n",
       "      <td>1</td>\n",
       "      <td>1</td>\n",
       "      <td>0.0</td>\n",
       "      <td>0.0</td>\n",
       "      <td>0.0</td>\n",
       "      <td>1950.0</td>\n",
       "    </tr>\n",
       "  </tbody>\n",
       "</table>\n",
       "</div>"
      ],
      "text/plain": [
       "  user_id month  month_gb_used  month_calls_count  month_calls_duration  \\\n",
       "0    1000     5            3.0               22.0                 159.0   \n",
       "1    1000     6           23.0               43.0                 172.0   \n",
       "2    1000     7           14.0               47.0                 340.0   \n",
       "3    1000     8           14.0               52.0                 408.0   \n",
       "4    1000     9           15.0               58.0                 466.0   \n",
       "\n",
       "   month_messages_count       city tariff  messages_included  \\\n",
       "0                  22.0  Краснодар  ultra               1000   \n",
       "1                  60.0  Краснодар  ultra               1000   \n",
       "2                  75.0  Краснодар  ultra               1000   \n",
       "3                  81.0  Краснодар  ultra               1000   \n",
       "4                  57.0  Краснодар  ultra               1000   \n",
       "\n",
       "   gb_per_month_included  minutes_included  rub_monthly_fee  rub_per_gb  \\\n",
       "0                   30.0              3000             1950         150   \n",
       "1                   30.0              3000             1950         150   \n",
       "2                   30.0              3000             1950         150   \n",
       "3                   30.0              3000             1950         150   \n",
       "4                   30.0              3000             1950         150   \n",
       "\n",
       "   rub_per_message  rub_per_minute  internet_gain  calls_gain  messages_gain  \\\n",
       "0                1               1            0.0         0.0            0.0   \n",
       "1                1               1            0.0         0.0            0.0   \n",
       "2                1               1            0.0         0.0            0.0   \n",
       "3                1               1            0.0         0.0            0.0   \n",
       "4                1               1            0.0         0.0            0.0   \n",
       "\n",
       "   total_gain  \n",
       "0      1950.0  \n",
       "1      1950.0  \n",
       "2      1950.0  \n",
       "3      1950.0  \n",
       "4      1950.0  "
      ]
     },
     "execution_count": 39,
     "metadata": {},
     "output_type": "execute_result"
    }
   ],
   "source": [
    "# Плата за интернет сверх лимита\n",
    "data['internet_gain'] = 0\n",
    "data.loc[data['month_gb_used'] > data['gb_per_month_included'], 'internet_gain']=\\\n",
    "    (data['month_gb_used'] - data['gb_per_month_included']) * data['rub_per_gb']\n",
    "\n",
    "# Палата за телефонную связь сверх лимита\n",
    "data['calls_gain'] = 0\n",
    "data.loc[data['month_calls_duration'] > data['minutes_included'], 'calls_gain']=\\\n",
    "    (data['month_calls_duration'] - data['minutes_included']) * data['rub_per_minute']\n",
    "\n",
    "# Плата за сообщения сверх лимита\n",
    "data['messages_gain'] = 0\n",
    "data.loc[data['month_messages_count'] > data['messages_included'], 'messages_gain']=\\\n",
    "    (data['month_messages_count'] - data['messages_included']) * data['rub_per_message']\n",
    "\n",
    "# Полный доход от каждого абонента в месяц сверх лимита\n",
    "data['total_gain'] = data['rub_monthly_fee'] + data['internet_gain'] + data['calls_gain'] + data['messages_gain']\n",
    "\n",
    "data.head(5)"
   ]
  },
  {
   "cell_type": "code",
   "execution_count": 40,
   "metadata": {},
   "outputs": [
    {
     "name": "stdout",
     "output_type": "stream",
     "text": [
      "<class 'pandas.core.frame.DataFrame'>\n",
      "Int64Index: 3214 entries, 0 to 3213\n",
      "Data columns (total 19 columns):\n",
      "user_id                  3214 non-null object\n",
      "month                    3214 non-null object\n",
      "month_gb_used            3214 non-null float64\n",
      "month_calls_count        3214 non-null float64\n",
      "month_calls_duration     3214 non-null float64\n",
      "month_messages_count     3214 non-null float64\n",
      "city                     3214 non-null object\n",
      "tariff                   3214 non-null object\n",
      "messages_included        3214 non-null int64\n",
      "gb_per_month_included    3214 non-null float64\n",
      "minutes_included         3214 non-null int64\n",
      "rub_monthly_fee          3214 non-null int64\n",
      "rub_per_gb               3214 non-null int64\n",
      "rub_per_message          3214 non-null int64\n",
      "rub_per_minute           3214 non-null int64\n",
      "internet_gain            3214 non-null float64\n",
      "calls_gain               3214 non-null float64\n",
      "messages_gain            3214 non-null float64\n",
      "total_gain               3214 non-null float64\n",
      "dtypes: float64(9), int64(6), object(4)\n",
      "memory usage: 662.2+ KB\n"
     ]
    }
   ],
   "source": [
    "data.info()"
   ]
  },
  {
   "cell_type": "markdown",
   "metadata": {},
   "source": [
    "Таблица не имеет пропусков, форматы переменных соответствуют целям дальнейших расчетов (сочетание int и float не помешает операциям с ними). "
   ]
  },
  {
   "cell_type": "markdown",
   "metadata": {},
   "source": [
    "### Выводы\n",
    "\n",
    "По итогам подготовки данных получены величины доходов по каждому абоненту за каждый из месяцев 2018 года.\n",
    "\n",
    "При этом создана единая таблица с данными, предназначенная для дальнейших расчетов и анализа."
   ]
  },
  {
   "cell_type": "markdown",
   "metadata": {},
   "source": [
    "## Анализ данных"
   ]
  },
  {
   "cell_type": "markdown",
   "metadata": {},
   "source": [
    "### Анализ длительности разговоров по тарифам"
   ]
  },
  {
   "cell_type": "markdown",
   "metadata": {},
   "source": [
    "#### Тариф \"Смарт\""
   ]
  },
  {
   "cell_type": "code",
   "execution_count": 41,
   "metadata": {},
   "outputs": [],
   "source": [
    "# выделяем данные по тарифу \"Смарт\" для дальнейшего применения\n",
    "data_smart = data.query('tariff==\"smart\"')"
   ]
  },
  {
   "cell_type": "code",
   "execution_count": 42,
   "metadata": {},
   "outputs": [
    {
     "name": "stdout",
     "output_type": "stream",
     "text": [
      "count    2229.000000\n",
      "mean      417.934948\n",
      "std       190.313730\n",
      "min         0.000000\n",
      "25%       282.000000\n",
      "50%       422.000000\n",
      "75%       545.000000\n",
      "max      1435.000000\n",
      "Name: month_calls_duration, dtype: float64\n"
     ]
    }
   ],
   "source": [
    "# stat будет временной переменной в каждом из подблоков анализа данных (временное хранение результатов метода describe())\n",
    "stat = data_smart['month_calls_duration'].describe()\n",
    "print(stat)"
   ]
  },
  {
   "cell_type": "code",
   "execution_count": 43,
   "metadata": {
    "scrolled": true
   },
   "outputs": [
    {
     "data": {
      "image/png": "[encoded data removed]",
      "text/plain": [
       "<Figure size 432x288 with 1 Axes>"
      ]
     },
     "metadata": {
      "needs_background": "light"
     },
     "output_type": "display_data"
    }
   ],
   "source": [
    "data_smart['month_calls_duration'].hist(bins=30);"
   ]
  },
  {
   "cell_type": "markdown",
   "metadata": {},
   "source": [
    "Посмотрим на левый и правый края подробнее."
   ]
  },
  {
   "cell_type": "code",
   "execution_count": 44,
   "metadata": {},
   "outputs": [
    {
     "data": {
      "image/png": "[encoded data removed]",
      "text/plain": [
       "<Figure size 432x288 with 1 Axes>"
      ]
     },
     "metadata": {
      "needs_background": "light"
     },
     "output_type": "display_data"
    }
   ],
   "source": [
    "data_smart['month_calls_duration'].hist(bins=30, range=(0,10));"
   ]
  },
  {
   "cell_type": "markdown",
   "metadata": {},
   "source": [
    "Есть незначительное (8) число случаев, когда абоненты не пользовались телефонной связью в течение месяца. На расчеты эти случая не оказывают влияния."
   ]
  },
  {
   "cell_type": "code",
   "execution_count": 45,
   "metadata": {},
   "outputs": [
    {
     "data": {
      "image/png": "[encoded data removed]",
      "text/plain": [
       "<Figure size 432x288 with 1 Axes>"
      ]
     },
     "metadata": {
      "needs_background": "light"
     },
     "output_type": "display_data"
    }
   ],
   "source": [
    "data_smart['month_calls_duration'].hist(bins=30, range=(1000,1500));"
   ]
  },
  {
   "cell_type": "code",
   "execution_count": 46,
   "metadata": {},
   "outputs": [
    {
     "name": "stdout",
     "output_type": "stream",
     "text": [
      "Средняя: 417.93\n",
      "Медиана: 422.00\n",
      "Дисперсия: 36203.07\n",
      "Стандартное отклонение: 190.27\n"
     ]
    }
   ],
   "source": [
    "variance = np.var(data_smart['month_calls_duration'])\n",
    "std = np.sqrt(variance)\n",
    "print(f'Средняя: {stat[1]:.2f}\\nМедиана: {stat[5]:.2f}\\nДисперсия: {variance:.2f}\\nСтандартное отклонение: {std:.2f}')"
   ]
  },
  {
   "cell_type": "markdown",
   "metadata": {},
   "source": [
    "Примечательно, что средняя и медиана практически равны. \n",
    "Абонентам данного тарифа в среднем требуется около 420 минут разговоров в месяц. Максимум достигает почти 1450 минут (однако это такие случаи единичны, и третий квартиль находится на уровне 545 минут.\n",
    "\n",
    "Распределение в своей центральной части близко к нормальному. Периферийные части имеют скошееность вправо. "
   ]
  },
  {
   "cell_type": "code",
   "execution_count": 47,
   "metadata": {},
   "outputs": [],
   "source": [
    "# Заготовка для общей статистики по тарифам (эта заготовка и подобные ей будут использованы в разделе 4.3.3 - в выводах)\n",
    "smart_calls = [stat[1], stat[5], stat[6], variance, std]"
   ]
  },
  {
   "cell_type": "markdown",
   "metadata": {},
   "source": [
    "#### Тариф \"Ультра\""
   ]
  },
  {
   "cell_type": "code",
   "execution_count": 48,
   "metadata": {},
   "outputs": [],
   "source": [
    "# выделяем данные по тарифу \"Ультра\" для дальнейшего применения\n",
    "data_ultra = data.query('tariff==\"ultra\"')"
   ]
  },
  {
   "cell_type": "code",
   "execution_count": 49,
   "metadata": {},
   "outputs": [
    {
     "name": "stdout",
     "output_type": "stream",
     "text": [
      "count     985.000000\n",
      "mean      526.623350\n",
      "std       317.606098\n",
      "min         0.000000\n",
      "25%       284.000000\n",
      "50%       518.000000\n",
      "75%       752.000000\n",
      "max      1673.000000\n",
      "Name: month_calls_duration, dtype: float64\n"
     ]
    }
   ],
   "source": [
    "stat = data_ultra['month_calls_duration'].describe()\n",
    "print(stat)"
   ]
  },
  {
   "cell_type": "code",
   "execution_count": 50,
   "metadata": {},
   "outputs": [
    {
     "data": {
      "image/png": "[encoded data removed]",
      "text/plain": [
       "<Figure size 432x288 with 1 Axes>"
      ]
     },
     "metadata": {
      "needs_background": "light"
     },
     "output_type": "display_data"
    }
   ],
   "source": [
    "data_ultra['month_calls_duration'].hist(bins=30);"
   ]
  },
  {
   "cell_type": "code",
   "execution_count": 51,
   "metadata": {},
   "outputs": [
    {
     "data": {
      "image/png": "[encoded data removed]",
      "text/plain": [
       "<Figure size 432x288 with 1 Axes>"
      ]
     },
     "metadata": {
      "needs_background": "light"
     },
     "output_type": "display_data"
    }
   ],
   "source": [
    "data_ultra['month_calls_duration'].hist(bins=30, range=(0,10));"
   ]
  },
  {
   "cell_type": "code",
   "execution_count": 52,
   "metadata": {},
   "outputs": [
    {
     "data": {
      "image/png": "[encoded data removed]",
      "text/plain": [
       "<Figure size 432x288 with 1 Axes>"
      ]
     },
     "metadata": {
      "needs_background": "light"
     },
     "output_type": "display_data"
    }
   ],
   "source": [
    "data_ultra['month_calls_duration'].hist(bins=30, range=(1000,1750));"
   ]
  },
  {
   "cell_type": "code",
   "execution_count": 53,
   "metadata": {},
   "outputs": [
    {
     "name": "stdout",
     "output_type": "stream",
     "text": [
      "Средняя: 526.62\n",
      "Медиана: 518.00\n",
      "Дисперсия: 100771.22\n",
      "Стандартное отклонение: 317.44\n"
     ]
    }
   ],
   "source": [
    "variance = np.var(data_ultra['month_calls_duration'])\n",
    "std = np.sqrt(variance)\n",
    "print(f'Средняя: {stat[1]:.2f}\\nМедиана: {stat[5]:.2f}\\nДисперсия: {variance:.2f}\\nСтандартное отклонение: {std:.2f}')"
   ]
  },
  {
   "cell_type": "markdown",
   "metadata": {},
   "source": [
    "Среди пользователей тарифа \"Ультра\" среднее время и медианное также близки друг другу и составляет около 520 минут в месяц.\n",
    "\n",
    "Однако заметно выше доля случаев, когда абоненты не пользуются телефонной связью в течение месяца (3,6% всех случаев). Но при этом высоки максимальные значения: количество случаев с длительностями разговоров свыше 1000 минут (до 1700 минут) исчисляется десятками. Третий квартиль находится на уровне 752 минут.\n",
    "\n",
    "В целом распределение не похоже на нормальное. Его центральная часть близка к равномерному распределению с единственным выраженным пиком в районе моды (кстати, совпадающей со средним значением). Периферийные части имеют существенную скошенность вправо."
   ]
  },
  {
   "cell_type": "code",
   "execution_count": 54,
   "metadata": {},
   "outputs": [],
   "source": [
    "ultra_calls = [stat[1], stat[5], stat[6], variance, std]"
   ]
  },
  {
   "cell_type": "markdown",
   "metadata": {},
   "source": [
    "### Анализ количества сообщений по тарифам"
   ]
  },
  {
   "cell_type": "markdown",
   "metadata": {},
   "source": [
    "#### Тариф \"Смарт\""
   ]
  },
  {
   "cell_type": "code",
   "execution_count": 55,
   "metadata": {},
   "outputs": [
    {
     "name": "stdout",
     "output_type": "stream",
     "text": [
      "count    2229.000000\n",
      "mean       33.384029\n",
      "std        28.227876\n",
      "min         0.000000\n",
      "25%        10.000000\n",
      "50%        28.000000\n",
      "75%        51.000000\n",
      "max       143.000000\n",
      "Name: month_messages_count, dtype: float64\n"
     ]
    }
   ],
   "source": [
    "stat = data_smart['month_messages_count'].describe()\n",
    "print(stat)"
   ]
  },
  {
   "cell_type": "code",
   "execution_count": 56,
   "metadata": {},
   "outputs": [
    {
     "data": {
      "image/png": "[encoded data removed]",
      "text/plain": [
       "<Figure size 432x288 with 1 Axes>"
      ]
     },
     "metadata": {
      "needs_background": "light"
     },
     "output_type": "display_data"
    }
   ],
   "source": [
    "data_smart['month_messages_count'].hist(bins=30);"
   ]
  },
  {
   "cell_type": "code",
   "execution_count": 57,
   "metadata": {},
   "outputs": [
    {
     "data": {
      "image/png": "[encoded data removed]",
      "text/plain": [
       "<Figure size 432x288 with 1 Axes>"
      ]
     },
     "metadata": {
      "needs_background": "light"
     },
     "output_type": "display_data"
    }
   ],
   "source": [
    "data_smart['month_messages_count'].hist(bins=40, range=(0, 10));"
   ]
  },
  {
   "cell_type": "code",
   "execution_count": 58,
   "metadata": {},
   "outputs": [
    {
     "name": "stdout",
     "output_type": "stream",
     "text": [
      "Средняя: 33.38\n",
      "Медиана: 28.00\n",
      "Дисперсия: 796.46\n",
      "Стандартное отклонение: 28.22\n"
     ]
    }
   ],
   "source": [
    "variance = np.var(data_smart['month_messages_count'])\n",
    "std = np.sqrt(variance)\n",
    "print(f'Средняя: {stat[1]:.2f}\\nМедиана: {stat[5]:.2f}\\nДисперсия: {variance:.2f}\\nСтандартное отклонение: {std:.2f}')"
   ]
  },
  {
   "cell_type": "markdown",
   "metadata": {},
   "source": [
    "Среднее число сообщение составляет 33 в месяц (мединанное - 28). Значительна доля случаев (более 14%), когда абоненты вообще не пользуются сообщениями в течение месяца. Максимальное число сообщений достигает 150 в месяц.\n",
    "\n",
    "Распределение сильно скошено вправо. Существенной концентрации вблизи средних значений не наблюдается (дисперсия высока)."
   ]
  },
  {
   "cell_type": "code",
   "execution_count": 59,
   "metadata": {},
   "outputs": [],
   "source": [
    "smart_messages = [stat[1], stat[5], stat[6], variance, std]"
   ]
  },
  {
   "cell_type": "markdown",
   "metadata": {},
   "source": [
    "#### Тариф \"Ультра\""
   ]
  },
  {
   "cell_type": "code",
   "execution_count": 60,
   "metadata": {},
   "outputs": [
    {
     "name": "stdout",
     "output_type": "stream",
     "text": [
      "count    985.000000\n",
      "mean      49.363452\n",
      "std       47.804457\n",
      "min        0.000000\n",
      "25%        6.000000\n",
      "50%       38.000000\n",
      "75%       79.000000\n",
      "max      224.000000\n",
      "Name: month_messages_count, dtype: float64\n"
     ]
    }
   ],
   "source": [
    "stat = data_ultra['month_messages_count'].describe()\n",
    "print(stat)"
   ]
  },
  {
   "cell_type": "code",
   "execution_count": 61,
   "metadata": {},
   "outputs": [
    {
     "data": {
      "image/png": "[encoded data removed]",
      "text/plain": [
       "<Figure size 432x288 with 1 Axes>"
      ]
     },
     "metadata": {
      "needs_background": "light"
     },
     "output_type": "display_data"
    }
   ],
   "source": [
    "data_ultra['month_messages_count'].hist(bins=30);"
   ]
  },
  {
   "cell_type": "code",
   "execution_count": 62,
   "metadata": {},
   "outputs": [
    {
     "data": {
      "image/png": "[encoded data removed]",
      "text/plain": [
       "<Figure size 432x288 with 1 Axes>"
      ]
     },
     "metadata": {
      "needs_background": "light"
     },
     "output_type": "display_data"
    }
   ],
   "source": [
    "data_ultra['month_messages_count'].hist(bins=30, range=(0,10));"
   ]
  },
  {
   "cell_type": "code",
   "execution_count": 63,
   "metadata": {},
   "outputs": [
    {
     "name": "stdout",
     "output_type": "stream",
     "text": [
      "Средняя: 49.36\n",
      "Медиана: 38.00\n",
      "Дисперсия: 2282.95\n",
      "Стандартное отклонение: 47.78\n"
     ]
    }
   ],
   "source": [
    "variance = np.var(data_ultra['month_messages_count'])\n",
    "std = np.sqrt(variance)\n",
    "print(f'Средняя: {stat[1]:.2f}\\nМедиана: {stat[5]:.2f}\\nДисперсия: {variance:.2f}\\nСтандартное отклонение: {std:.2f}')"
   ]
  },
  {
   "cell_type": "markdown",
   "metadata": {},
   "source": [
    "Среднее число сообщение составляет 49 в месяц (мединанное - 38). Значительна доля случаев (около 19%), когда абоненты вообще не пользуются сообщениями в течение месяца. При этом максимальное число сообщений достигает почти 225 в месяц (против 150 по тарифу \"Смарт\").\n",
    "\n",
    "Распределение скошено вправо. Существенной концентрации вблизи средних значений нет: дисперсия высока (по соотношению стандартного отклонения и среднего значения примерно соответствует тарифу \"Смарт\")."
   ]
  },
  {
   "cell_type": "code",
   "execution_count": 64,
   "metadata": {},
   "outputs": [],
   "source": [
    "ultra_messages = [stat[1], stat[5], stat[6], variance, std]"
   ]
  },
  {
   "cell_type": "markdown",
   "metadata": {},
   "source": [
    "### Анализ объема интернет-трафика по тарифам"
   ]
  },
  {
   "cell_type": "markdown",
   "metadata": {},
   "source": [
    "#### Тариф \"Смарт\""
   ]
  },
  {
   "cell_type": "code",
   "execution_count": 65,
   "metadata": {},
   "outputs": [
    {
     "name": "stdout",
     "output_type": "stream",
     "text": [
      "count    2229.000000\n",
      "mean       16.328847\n",
      "std         5.747061\n",
      "min         0.000000\n",
      "25%        13.000000\n",
      "50%        17.000000\n",
      "75%        20.000000\n",
      "max        38.000000\n",
      "Name: month_gb_used, dtype: float64\n"
     ]
    }
   ],
   "source": [
    "stat = data_smart['month_gb_used'].describe()\n",
    "print(stat)"
   ]
  },
  {
   "cell_type": "code",
   "execution_count": 66,
   "metadata": {},
   "outputs": [
    {
     "data": {
      "image/png": "[encoded data removed]",
      "text/plain": [
       "<Figure size 432x288 with 1 Axes>"
      ]
     },
     "metadata": {
      "needs_background": "light"
     },
     "output_type": "display_data"
    }
   ],
   "source": [
    "data_smart['month_gb_used'].hist(bins=38);"
   ]
  },
  {
   "cell_type": "code",
   "execution_count": 67,
   "metadata": {},
   "outputs": [
    {
     "name": "stdout",
     "output_type": "stream",
     "text": [
      "Средняя: 16.33\n",
      "Медиана: 17.00\n",
      "Дисперсия: 33.01\n",
      "Стандартное отклонение: 5.75\n"
     ]
    }
   ],
   "source": [
    "variance = np.var(data_smart['month_gb_used'])\n",
    "std = np.sqrt(variance)\n",
    "print(f'Средняя: {stat[1]:.2f}\\nМедиана: {stat[5]:.2f}\\nДисперсия: {variance:.2f}\\nСтандартное отклонение: {std:.2f}')"
   ]
  },
  {
   "cell_type": "markdown",
   "metadata": {},
   "source": [
    "Наконец распределение, близкое к нормальному! Практически симметричное, без скошенности.\n",
    "\n",
    "Средняя и медианы близки друг другу - 16,3 и 17,0 Гб соответственно. Уровень дисперсии невелик. Отношение стандартного отклонения к среднему даже ниже, чем по минутам разговора этого же тарифа \"Смарт\".\n",
    "\n",
    "Маскимальный фактический потребный объем интернет-трафика составляет менее 40 Гб в месяц, при этом третий квартиль составляет всего 20 Гб. "
   ]
  },
  {
   "cell_type": "code",
   "execution_count": 68,
   "metadata": {},
   "outputs": [],
   "source": [
    "smart_gbs = [stat[1], stat[5], stat[6], variance, std]"
   ]
  },
  {
   "cell_type": "markdown",
   "metadata": {},
   "source": [
    "#### Тариф \"Ульта\""
   ]
  },
  {
   "cell_type": "code",
   "execution_count": 69,
   "metadata": {},
   "outputs": [
    {
     "name": "stdout",
     "output_type": "stream",
     "text": [
      "count    985.000000\n",
      "mean      19.494416\n",
      "std        9.853511\n",
      "min        0.000000\n",
      "25%       12.000000\n",
      "50%       19.000000\n",
      "75%       27.000000\n",
      "max       49.000000\n",
      "Name: month_gb_used, dtype: float64\n"
     ]
    }
   ],
   "source": [
    "stat = data_ultra['month_gb_used'].describe()\n",
    "print(stat)"
   ]
  },
  {
   "cell_type": "code",
   "execution_count": 70,
   "metadata": {},
   "outputs": [
    {
     "data": {
      "image/png": "[encoded data removed]",
      "text/plain": [
       "<Figure size 432x288 with 1 Axes>"
      ]
     },
     "metadata": {
      "needs_background": "light"
     },
     "output_type": "display_data"
    }
   ],
   "source": [
    "data_ultra['month_gb_used'].hist(bins=25);"
   ]
  },
  {
   "cell_type": "code",
   "execution_count": 71,
   "metadata": {},
   "outputs": [
    {
     "name": "stdout",
     "output_type": "stream",
     "text": [
      "Средняя: 19.49\n",
      "Медиана: 19.00\n",
      "Дисперсия: 96.99\n",
      "Стандартное отклонение: 9.85\n"
     ]
    }
   ],
   "source": [
    "variance = np.var(data_ultra['month_gb_used'])\n",
    "std = np.sqrt(variance)\n",
    "print(f'Средняя: {stat[1]:.2f}\\nМедиана: {stat[5]:.2f}\\nДисперсия: {variance:.2f}\\nСтандартное отклонение: {std:.2f}')"
   ]
  },
  {
   "cell_type": "markdown",
   "metadata": {},
   "source": [
    "Распределение тоже близко к нормальному, но несколько скошено вправо.\n",
    "\n",
    "Средний и медианный уровни практически совпадают - 20 Гб в месяц. Максимум достигает 50 Гб в месяц, а третий квартиль находится на уровне 27 Гб.\n",
    "\n",
    "Уровень дисперсии выше, чем у тарифа \"Смарт\"."
   ]
  },
  {
   "cell_type": "code",
   "execution_count": 72,
   "metadata": {},
   "outputs": [],
   "source": [
    "ultra_gbs = [stat[1], stat[5], stat[6], variance, std]"
   ]
  },
  {
   "cell_type": "markdown",
   "metadata": {},
   "source": [
    "### Корреляции"
   ]
  },
  {
   "cell_type": "markdown",
   "metadata": {},
   "source": [
    "Проанализируем абонентов обоих тарифов по трем взаимосвязям. Собственно проверим, как в обоих тарифах работают три предположения:\n",
    "1. кто больше говорит, тот больше пишет сообщений,\n",
    "2. кто больше говорит, тот больше пользуется интернетом,\n",
    "3. кто больше пользуется интренетом, тот больше пишет сообщений."
   ]
  },
  {
   "cell_type": "markdown",
   "metadata": {},
   "source": [
    "**Длительность разговоров и количество сообщений**"
   ]
  },
  {
   "cell_type": "code",
   "execution_count": 73,
   "metadata": {},
   "outputs": [
    {
     "name": "stdout",
     "output_type": "stream",
     "text": [
      "Коэффициенты корреляции между длительностью разговоров и количеством сообщений:    \n",
      "\"Смарт\": 0.203\n",
      "\"Ультра\": 0.082\n"
     ]
    }
   ],
   "source": [
    "smart_corr = data_smart['month_calls_duration'].corr(data_smart['month_messages_count'])\n",
    "ultra_corr = data_ultra['month_calls_duration'].corr(data_ultra['month_messages_count'])\n",
    "print(f'Коэффициенты корреляции между длительностью разговоров и количеством сообщений:\\\n",
    "    \\n\"Смарт\": {smart_corr:.3f}\\n\"Ультра\": {ultra_corr:.3f}')"
   ]
  },
  {
   "cell_type": "markdown",
   "metadata": {},
   "source": [
    "**Длительность разговоров и интернет-трафик**"
   ]
  },
  {
   "cell_type": "code",
   "execution_count": 74,
   "metadata": {},
   "outputs": [
    {
     "name": "stdout",
     "output_type": "stream",
     "text": [
      "Коэффициенты корреляции между длительностью разговоров и интренет-трафиком:    \n",
      "\"Смарт\": 0.339\n",
      "\"Ультра\": 0.177\n"
     ]
    }
   ],
   "source": [
    "smart_corr = data_smart['month_calls_duration'].corr(data_smart['month_gb_used'])\n",
    "ultra_corr = data_ultra['month_calls_duration'].corr(data_ultra['month_gb_used'])\n",
    "print(f'Коэффициенты корреляции между длительностью разговоров и интренет-трафиком:\\\n",
    "    \\n\"Смарт\": {smart_corr:.3f}\\n\"Ультра\": {ultra_corr:.3f}')"
   ]
  },
  {
   "cell_type": "markdown",
   "metadata": {},
   "source": [
    "**Интернет и сообщения**"
   ]
  },
  {
   "cell_type": "code",
   "execution_count": 75,
   "metadata": {},
   "outputs": [
    {
     "name": "stdout",
     "output_type": "stream",
     "text": [
      "Коэффициенты корреляции между интренет-трафиком и количеством сообщений:    \n",
      "\"Смарт\": 0.146\n",
      "\"Ультра\": 0.174\n"
     ]
    }
   ],
   "source": [
    "smart_corr = data_smart['month_gb_used'].corr(data_smart['month_messages_count'])\n",
    "ultra_corr = data_ultra['month_gb_used'].corr(data_ultra['month_messages_count'])\n",
    "print(f'Коэффициенты корреляции между интренет-трафиком и количеством сообщений:\\\n",
    "    \\n\"Смарт\": {smart_corr:.3f}\\n\"Ультра\": {ultra_corr:.3f}')"
   ]
  },
  {
   "cell_type": "markdown",
   "metadata": {},
   "source": [
    "**Результаты**"
   ]
  },
  {
   "cell_type": "markdown",
   "metadata": {},
   "source": [
    "1. У абонентов тарифа \"Смарт\" не ярковыраженная, но всё-таки есть связь между объемами потребления трех видов услуг. Чем более  абонент разговаривает по телефону, тем больше, в среднем, он использует и сообщения.\n",
    "\n",
    "2. У клиентов тарифа \"Ультра\" корреляции сообщений и интернета с телефонной связью незначительны. \n",
    "\n",
    "3. У клиентов обоих тарифов корреляция между интернетом и сообщениями невелика и соответствующие коэффициенты примерно равны между собой. Это объяснимо: сообщения - в основом способ межличностного общения (отправка своей информации), а интернет-трафик - в подавляющем большинстве случаев это способ получения внешней информации.\n",
    "\n",
    "4. В итоге, имеет место явное различие в предпочтениях клиентов:\n",
    "- абонентны \"Смарта\" склонны задействовать все виды предоставленной коммуникации, и объем потребления зависит от активности абонента (с учетом его финансовых возможностей),\n",
    "- абоненты тарифа \"Ультра\" в большей степени склонны отдавать определенное предпочтение какому-либо одному виду коммуникаций."
   ]
  },
  {
   "cell_type": "markdown",
   "metadata": {},
   "source": [
    "### Выводы по итогам анализа данных"
   ]
  },
  {
   "cell_type": "code",
   "execution_count": 76,
   "metadata": {
    "scrolled": true
   },
   "outputs": [
    {
     "name": "stdout",
     "output_type": "stream",
     "text": [
      "Тариф \"Смарт\" предпочитают: 70.20% пользователей      \n",
      "Тариф \"Ультра\" предпочитают: 29.80% пользователей\n"
     ]
    }
   ],
   "source": [
    "pref = users['tariff'].value_counts()\n",
    "pref_smart = pref[0] / (len(users))\n",
    "pref_ultra = pref[1] / (len(users))\n",
    "print(f'Тариф \"Смарт\" предпочитают: {pref_smart:.2%} пользователей\\\n",
    "      \\nТариф \"Ультра\" предпочитают: {pref_ultra:.2%} пользователей')"
   ]
  },
  {
   "cell_type": "code",
   "execution_count": 77,
   "metadata": {},
   "outputs": [
    {
     "name": "stdout",
     "output_type": "stream",
     "text": [
      "Тариф \"Смарт\" формирует: 58.51% дохода      \n",
      "Тариф \"Ультра\" пформирует: 41.49% дохода\n"
     ]
    }
   ],
   "source": [
    "smart_gain = data_smart['total_gain'].sum()\n",
    "ultra_gain = data_ultra['total_gain'].sum()\n",
    "gain = smart_gain + ultra_gain\n",
    "print(f'Тариф \"Смарт\" формирует: {smart_gain / gain:.2%} дохода\\\n",
    "      \\nТариф \"Ультра\" пформирует: {ultra_gain / gain:.2%} дохода')"
   ]
  },
  {
   "cell_type": "markdown",
   "metadata": {},
   "source": [
    "**Предпочтения  и доходы**\n",
    "1. Тариф \"Смарт\" является основным, наиболее массовым тарифом компании. Его выбирают 70% клиентов. Но он генерирует менее 59% дохода компании.\n",
    "2. Тариф \"Ультра\" является тарифом для существенно меньшей клиентской базы, очевидно, имеющей свои специфические потребности. Он дает более 41% доходов.\n",
    "\n",
    "Однако, учитывая различающиеся более чем в 3 раза уровени абонентнской платы (550 и 1950 руб. в месяц), \"Ультра\" мог бы играть более значимую роль в структуре доходов. Но этого не происходит. Причина: абоненты тарифа \"Смарт\" чаще выходят за пределы \"бесплатных\" лимитов и доплачивают за \"перерасход\", в то время как абоентнам тарифа \"Ультра\" чаще всего достаточно предоставленных им более высоких лимитов."
   ]
  },
  {
   "cell_type": "markdown",
   "metadata": {},
   "source": [
    "**Статистические характеристики использования тарифов**"
   ]
  },
  {
   "cell_type": "markdown",
   "metadata": {},
   "source": [
    "Сведем статистические характеристики всех активностей клиетов по обоим тарифам в единую таблицу."
   ]
  },
  {
   "cell_type": "code",
   "execution_count": 78,
   "metadata": {},
   "outputs": [
    {
     "data": {
      "text/html": [
       "<div>\n",
       "<style scoped>\n",
       "    .dataframe tbody tr th:only-of-type {\n",
       "        vertical-align: middle;\n",
       "    }\n",
       "\n",
       "    .dataframe tbody tr th {\n",
       "        vertical-align: top;\n",
       "    }\n",
       "\n",
       "    .dataframe thead th {\n",
       "        text-align: right;\n",
       "    }\n",
       "</style>\n",
       "<table border=\"1\" class=\"dataframe\">\n",
       "  <thead>\n",
       "    <tr style=\"text-align: right;\">\n",
       "      <th></th>\n",
       "      <th>Параметры</th>\n",
       "      <th>Звонки Смарт</th>\n",
       "      <th>Звонки Ультра</th>\n",
       "      <th>Сообщения Смарт</th>\n",
       "      <th>Сообщения Ультра</th>\n",
       "      <th>Интернет Смарт</th>\n",
       "      <th>Интернет Ультра</th>\n",
       "    </tr>\n",
       "  </thead>\n",
       "  <tbody>\n",
       "    <tr>\n",
       "      <td>0</td>\n",
       "      <td>Средняя</td>\n",
       "      <td>417.934948</td>\n",
       "      <td>526.623350</td>\n",
       "      <td>33.384029</td>\n",
       "      <td>49.363452</td>\n",
       "      <td>16.328847</td>\n",
       "      <td>19.494416</td>\n",
       "    </tr>\n",
       "    <tr>\n",
       "      <td>1</td>\n",
       "      <td>Медиана</td>\n",
       "      <td>422.000000</td>\n",
       "      <td>518.000000</td>\n",
       "      <td>28.000000</td>\n",
       "      <td>38.000000</td>\n",
       "      <td>17.000000</td>\n",
       "      <td>19.000000</td>\n",
       "    </tr>\n",
       "    <tr>\n",
       "      <td>2</td>\n",
       "      <td>3-й квартиль</td>\n",
       "      <td>545.000000</td>\n",
       "      <td>752.000000</td>\n",
       "      <td>51.000000</td>\n",
       "      <td>79.000000</td>\n",
       "      <td>20.000000</td>\n",
       "      <td>27.000000</td>\n",
       "    </tr>\n",
       "    <tr>\n",
       "      <td>3</td>\n",
       "      <td>Дисперсия</td>\n",
       "      <td>36203.066652</td>\n",
       "      <td>100771.223617</td>\n",
       "      <td>796.455483</td>\n",
       "      <td>2282.946075</td>\n",
       "      <td>33.013887</td>\n",
       "      <td>96.993116</td>\n",
       "    </tr>\n",
       "    <tr>\n",
       "      <td>4</td>\n",
       "      <td>Станд. отклонение</td>\n",
       "      <td>190.271035</td>\n",
       "      <td>317.444836</td>\n",
       "      <td>28.221543</td>\n",
       "      <td>47.780185</td>\n",
       "      <td>5.745771</td>\n",
       "      <td>9.848508</td>\n",
       "    </tr>\n",
       "  </tbody>\n",
       "</table>\n",
       "</div>"
      ],
      "text/plain": [
       "           Параметры  Звонки Смарт  Звонки Ультра  Сообщения Смарт  \\\n",
       "0            Средняя    417.934948     526.623350        33.384029   \n",
       "1            Медиана    422.000000     518.000000        28.000000   \n",
       "2       3-й квартиль    545.000000     752.000000        51.000000   \n",
       "3          Дисперсия  36203.066652  100771.223617       796.455483   \n",
       "4  Станд. отклонение    190.271035     317.444836        28.221543   \n",
       "\n",
       "   Сообщения Ультра  Интернет Смарт  Интернет Ультра  \n",
       "0         49.363452       16.328847        19.494416  \n",
       "1         38.000000       17.000000        19.000000  \n",
       "2         79.000000       20.000000        27.000000  \n",
       "3       2282.946075       33.013887        96.993116  \n",
       "4         47.780185        5.745771         9.848508  "
      ]
     },
     "metadata": {},
     "output_type": "display_data"
    }
   ],
   "source": [
    "data_stat = {'Параметры':['Средняя', 'Медиана', '3-й квартиль', 'Дисперсия', 'Станд. отклонение'],\\\n",
    "             'Звонки Смарт':smart_calls, 'Звонки Ультра':ultra_calls,\\\n",
    "             'Сообщения Смарт':smart_messages, 'Сообщения Ультра':ultra_messages,\n",
    "             'Интернет Смарт':smart_gbs, 'Интернет Ультра':ultra_gbs,\n",
    "            }\n",
    "stat_df = pd.DataFrame(data_stat)\n",
    "display(stat_df)"
   ]
  },
  {
   "cell_type": "markdown",
   "metadata": {},
   "source": [
    "Во всех без исключения показателях (по минутам телефонных звонков, по количеству сообщений, по трафику интернета) абоненты \"Смарта\" более \"собраны\":\n",
    "1. их активность находится в более узком диапазоне (абонетны тарифа \"Ультра\" потребляют больше услуг),\n",
    "2. стандартное отклонение показателей в использовании направлений тарифа \"Ультра\" в 1,5-2 раза шире, чем у тарифа \"Смарт\"."
   ]
  },
  {
   "cell_type": "markdown",
   "metadata": {},
   "source": [
    "**Характеристики пользователей**"
   ]
  },
  {
   "cell_type": "markdown",
   "metadata": {},
   "source": [
    "1. Абоненты тарифа \"Ультра\" более активны, в целом потребляют большее количество услуг, чем абоненты тарифа \"Смарт\".\n",
    "2. Однако востребованность услуг внутри тарифа \"Ультра\" неоднородна: так, уровень полной невостребованности текстовых сообщений значительно выше, чем у пользователей тарифа \"Смарт\". В целом, абоненты \"Смарта\" склонны примерно в равной мере использовать все виды коммуникации, в то время как абоненты тарифа \"Ультра\" склонны отдавать предпочтнение какому-либо из видов связи. \n",
    "3. Абоненты тарифа \"Смарт\" более однородны, они представляют собой наиболее массового потребителя услуг мобильной связи."
   ]
  },
  {
   "cell_type": "markdown",
   "metadata": {},
   "source": [
    "**Итоги анализа данных**\n",
    "\n",
    "Тариф \"Смарт\" является своего рода \"народным\" тарифом. Он вполне подходит для основной целевой группы компании.\n",
    "\n",
    "Можно предположить, что абоненты тарифа \"Ультра\" имеют более высокий доход и ведут более активную жизнь. При этом их  потребности разнообразны. Пользователи этого тарифа, скорее всего, представляют собой несколько социальных групп с разными потребностями в видах и объеме мобильной связи.\n",
    "\n",
    "Можно предложить маркетинговое изучение пользователей тарифа \"Ультра\" в социально-географических и потребительском аспектах. Возможно, по итогам исследования, компания сочтет возможным \"разделить\" тариф \"Ультра\" на два (или даже больше) тарифа с тем, чтобы новая тарифная структура точнее отвечала потребностям пользователей сегодняшнего тарифа \"Ультра\". Например, в одном из новых статусных тарифов сделать акцент на интрнете и телефонии (в ущерб сообщениям).\n",
    "\n",
    "Такое решение может способствовать повышению общего дохода компании в случае, если два (или три) новых, более специализированных, тарифа привлекут на обслуживание новых клиентов, чьи приоритеты в настоящее время не находят отклика в актуальном \"дорогом\", но слишком унифицированном тарифе \"Ультра\".\n",
    "\n",
    "*В случае, если такое решение будет принято, то со временем тарифы \"Ультра-1\" и \"Ультра-2\" (названия условные) будут демонстрировать меньшую дисперсию показателей, что будет означать, что они лучше попадают в свои целевые группы, чем актуальный тариф \"Ультра\".*"
   ]
  },
  {
   "cell_type": "markdown",
   "metadata": {},
   "source": [
    "## Проверка гипотез"
   ]
  },
  {
   "cell_type": "markdown",
   "metadata": {},
   "source": [
    "### Гипотеза: средняя выручка пользователей тарифов «Ультра» и «Смарт» различаются"
   ]
  },
  {
   "cell_type": "markdown",
   "metadata": {},
   "source": [
    "\"Нулевая\" гипотеза: средняя выручка от тарифа \"Смарт\" и тарифа \"Ультра\" совпадают.\n",
    "\n",
    "Альтернативная (Н1) гипотеза: средняя выручка от тарифа \"Смарт\" и тарифа \"Ультра\" отличаются (гипотеза двусторонняя, т.е. ненаправленная).\n",
    "\n",
    "Все данные для расчета уже имеются. Учитывая значительный объем выборки, установим пороговое значение alpha на уровне 5%"
   ]
  },
  {
   "cell_type": "code",
   "execution_count": 79,
   "metadata": {},
   "outputs": [
    {
     "name": "stdout",
     "output_type": "stream",
     "text": [
      "Уровень статистической значимости: 0.000000%\n"
     ]
    }
   ],
   "source": [
    "array_smart = data_smart['total_gain']\n",
    "array_ultra = data_ultra['total_gain']\n",
    "\n",
    "p_value = st.ttest_ind(array_smart, array_ultra, equal_var=False).pvalue\n",
    "print(f'Уровень статистической значимости: {p_value:%}')"
   ]
  },
  {
   "cell_type": "markdown",
   "metadata": {},
   "source": [
    "Фактический уровень статистической значимости исчезающе мал по сравнению с заявленным порогом в 5%."
   ]
  },
  {
   "cell_type": "code",
   "execution_count": 80,
   "metadata": {},
   "outputs": [
    {
     "data": {
      "text/plain": [
       "count    2229.000000\n",
       "mean     1289.973531\n",
       "std       818.404367\n",
       "min       550.000000\n",
       "25%       550.000000\n",
       "50%      1023.000000\n",
       "75%      1750.000000\n",
       "max      6770.000000\n",
       "Name: total_gain, dtype: float64"
      ]
     },
     "execution_count": 80,
     "metadata": {},
     "output_type": "execute_result"
    }
   ],
   "source": [
    "array_smart.describe()"
   ]
  },
  {
   "cell_type": "code",
   "execution_count": 81,
   "metadata": {},
   "outputs": [
    {
     "data": {
      "text/plain": [
       "count     985.000000\n",
       "mean     2070.152284\n",
       "std       376.187114\n",
       "min      1950.000000\n",
       "25%      1950.000000\n",
       "50%      1950.000000\n",
       "75%      1950.000000\n",
       "max      4800.000000\n",
       "Name: total_gain, dtype: float64"
      ]
     },
     "execution_count": 81,
     "metadata": {},
     "output_type": "execute_result"
    }
   ],
   "source": [
    "array_ultra.describe()"
   ]
  },
  {
   "cell_type": "markdown",
   "metadata": {},
   "source": [
    "Результат уже понятен, но добавим иллюстрацию."
   ]
  },
  {
   "cell_type": "code",
   "execution_count": 82,
   "metadata": {},
   "outputs": [
    {
     "data": {
      "image/png": "[encoded data removed]",
      "text/plain": [
       "<Figure size 1296x504 with 1 Axes>"
      ]
     },
     "metadata": {
      "needs_background": "light"
     },
     "output_type": "display_data"
    }
   ],
   "source": [
    "array_smart.plot(kind='hist', histtype='step', bins=45, title='Сравнение распределений платежей по тарифам',\\\n",
    "                 label='Смарт', figsize=(18, 7))\n",
    "array_ultra.plot(kind='hist', histtype='step', bins=20, label='Ультра', figsize=(18, 7))\n",
    "plt.legend(loc='upper right', fontsize='x-large')\n",
    "plt.xlim([500, 5000])\n",
    "plt.xlabel('Средний доход по тарифам, руб. в месяц')\n",
    "plt.ylabel('Частота (количество единичных доходов в месяц)');"
   ]
  },
  {
   "cell_type": "markdown",
   "metadata": {},
   "source": [
    "**Вывод**\n",
    "\n",
    "Полученное значение P-value (стремящееся к нулю) позволяет отвергнуть \"нулевую\" гипотезу о том, что средняя выручка от пользователей тарифов «Ультра» и «Смарт» равны. \n",
    "\n",
    "В свою очередь, статистические данные по выборкам свидетельствуют о том, что средняя выручка по тарифу \"Ультра\" больше, чем по тарифу \"Смарт\"."
   ]
  },
  {
   "cell_type": "markdown",
   "metadata": {},
   "source": [
    "### Гипотеза: средняя выручка пользователей из Москвы отличается от выручки пользователей из других регионов"
   ]
  },
  {
   "cell_type": "markdown",
   "metadata": {},
   "source": [
    "\"Нулевая\" гипотеза: средняя выручка пользователей из Москвы и других регионов совпадают.\n",
    "\n",
    "Альтернативная (Н1) гипотеза: средняя выручка пользователей из Москвы и других регионов отличаются (гипотеза двусторонняя, т.е. ненаправленная).\n",
    "\n",
    "Учитывая значительный объем выборки, установим пороговое значение alpha на уровне 5%.\n",
    "\n",
    "Для расчета сформируем соответствующие выборки."
   ]
  },
  {
   "cell_type": "code",
   "execution_count": 83,
   "metadata": {},
   "outputs": [
    {
     "name": "stdout",
     "output_type": "stream",
     "text": [
      "Размеры выборок:    \n",
      "Москва: 611\n",
      "Другие: 2603\n"
     ]
    }
   ],
   "source": [
    "array_moscow = data.loc[data['city'] == 'Москва']['total_gain']\n",
    "array_others = data.loc[data['city'] != 'Москва']['total_gain']\n",
    "\n",
    "print(f'Размеры выборок:\\\n",
    "    \\nМосква: {len(array_moscow)}\\nДругие: {len(array_others)}')"
   ]
  },
  {
   "cell_type": "code",
   "execution_count": 84,
   "metadata": {},
   "outputs": [
    {
     "name": "stdout",
     "output_type": "stream",
     "text": [
      "Уровень статистической значимости: 52.573767%\n"
     ]
    }
   ],
   "source": [
    "p_value = st.ttest_ind(array_moscow, array_others, equal_var=False).pvalue\n",
    "print(f'Уровень статистической значимости: {p_value:%}')"
   ]
  },
  {
   "cell_type": "markdown",
   "metadata": {},
   "source": [
    "Полученная величина P-value существенно превышает заданное пороговое значение."
   ]
  },
  {
   "cell_type": "code",
   "execution_count": 85,
   "metadata": {},
   "outputs": [
    {
     "data": {
      "text/plain": [
       "count     611.000000\n",
       "mean     1546.713584\n",
       "std       752.088071\n",
       "min       550.000000\n",
       "25%       780.500000\n",
       "50%      1750.000000\n",
       "75%      1950.000000\n",
       "max      5321.000000\n",
       "Name: total_gain, dtype: float64"
      ]
     },
     "execution_count": 85,
     "metadata": {},
     "output_type": "execute_result"
    }
   ],
   "source": [
    "array_moscow.describe()"
   ]
  },
  {
   "cell_type": "code",
   "execution_count": 86,
   "metadata": {},
   "outputs": [
    {
     "data": {
      "text/plain": [
       "count    2603.000000\n",
       "mean     1524.936227\n",
       "std       808.787752\n",
       "min       550.000000\n",
       "25%       750.000000\n",
       "50%      1583.000000\n",
       "75%      1950.000000\n",
       "max      6770.000000\n",
       "Name: total_gain, dtype: float64"
      ]
     },
     "execution_count": 86,
     "metadata": {},
     "output_type": "execute_result"
    }
   ],
   "source": [
    "array_others.describe()"
   ]
  },
  {
   "cell_type": "markdown",
   "metadata": {},
   "source": [
    "Результат уже понятен, но добавим иллюстрацию."
   ]
  },
  {
   "cell_type": "code",
   "execution_count": 87,
   "metadata": {},
   "outputs": [
    {
     "data": {
      "image/png": "[encoded data removed]",
      "text/plain": [
       "<Figure size 1296x504 with 1 Axes>"
      ]
     },
     "metadata": {
      "needs_background": "light"
     },
     "output_type": "display_data"
    }
   ],
   "source": [
    "array_moscow.plot(kind='hist', histtype='step', bins=30, title='Сравнение распределений сумм платежей по регионам',\\\n",
    "                 label='Москва', figsize=(18, 7))\n",
    "array_others.plot(kind='hist', histtype='step', bins=30, label='Другие регионы', figsize=(18, 7))\n",
    "plt.legend(loc='upper right', fontsize='x-large')\n",
    "plt.xlim([500, 6000])\n",
    "plt.xlabel('Средний доход по тарифам, руб. в месяц')\n",
    "plt.ylabel('Частота (количество единичных доходов в месяц)');"
   ]
  },
  {
   "cell_type": "markdown",
   "metadata": {},
   "source": [
    "**Вывод**\n",
    "\n",
    "Полученное значение p-value (почти 53%) позволяет не отвергать \"нулевую\" гипотезу о том, что средняя выручка абонентов компании в Москве и других регионах равны. \n",
    "\n",
    "В свою очередь, статистические данные по выборкам (средние по ним практически равны) не противоречат выводу, сделанному по итогам т-теста."
   ]
  },
  {
   "cell_type": "markdown",
   "metadata": {},
   "source": [
    "## Общий вывод"
   ]
  },
  {
   "cell_type": "markdown",
   "metadata": {},
   "source": [
    "**В ходе анализа установлено следующее:**\n",
    "\n",
    "1. Тариф \"Смарт\" является более массовым (70% абонентов), но менее доходным на одного абонента (на него приходится 58,5% суммарного дохода). Оставшиеся 30% клиентов и 41,5% дохода принадлежат тарифу \"Ультра\". Отсутствие статистически значимой схожести дохода на одного пользователя по этим тарифам подтверждается и статистическим анализом. \n",
    "2. Абоненты тарифа \"Смарт\" вынуждены чаще выходить за пределы установленных \"бесплатных\" лимитов (не менее половины из них платят за услуги сумму в два и более раз превышающую абонентскую плату), чем абоненты тарифа \"Ультра\" (три четверти из них укладываются в \"бесплатные\" лимиты).\n",
    "3. Абоненты тарифа \"Смарт\" представляют собой более однородную (с точки зрения использования всех трех способов коммуникации) совокупность потребителей, чем абоненты тарифа \"Ультра\". Пользователи тарифа \"Ультра\" включают в себя группы, предпочитающие разные виды связи (звонки или интренет или сообщения).\n",
    "4. Различий в доходе, получаемом от клиентов разных регионов, не выявлено."
   ]
  },
  {
   "cell_type": "markdown",
   "metadata": {},
   "source": [
    "**Рекомендация**\n",
    "    \n",
    "Проанализировать разнородные предпочтения различных социальных групп, пользующихся тарифом \"Ультра\", на основе чего проработать вопрос о разделении тарифа \"Ультра\" на два или более тарифов, точнее соответствующих предпочтениям каждой из групп, пользующихся им в настоящее время. Конечная цель - привлечь на обслуживании большее число клиентов, относящихся к этим социально-потребительским группам."
   ]
  }
 ],
 "metadata": {
  "ExecuteTimeLog": [
   {
    "duration": 92,
    "start_time": "2022-02-02T11:17:07.290Z"
   },
   {
    "duration": 564,
    "start_time": "2022-02-02T11:19:13.292Z"
   },
   {
    "duration": 240,
    "start_time": "2022-02-02T11:19:35.122Z"
   },
   {
    "duration": 162,
    "start_time": "2022-02-02T11:19:42.124Z"
   },
   {
    "duration": 169,
    "start_time": "2022-02-02T11:19:56.243Z"
   },
   {
    "duration": 160,
    "start_time": "2022-02-02T11:20:12.435Z"
   },
   {
    "duration": 333,
    "start_time": "2022-02-02T11:20:26.531Z"
   },
   {
    "duration": 150,
    "start_time": "2022-02-02T11:20:32.483Z"
   },
   {
    "duration": 154,
    "start_time": "2022-02-02T11:20:45.619Z"
   },
   {
    "duration": 171,
    "start_time": "2022-02-02T11:21:46.236Z"
   },
   {
    "duration": 172,
    "start_time": "2022-02-02T11:21:57.219Z"
   },
   {
    "duration": 166,
    "start_time": "2022-02-02T11:22:16.436Z"
   },
   {
    "duration": 155,
    "start_time": "2022-02-02T11:22:39.270Z"
   },
   {
    "duration": 173,
    "start_time": "2022-02-02T11:22:45.364Z"
   },
   {
    "duration": 168,
    "start_time": "2022-02-02T11:23:06.333Z"
   },
   {
    "duration": 166,
    "start_time": "2022-02-02T11:23:13.261Z"
   },
   {
    "duration": 175,
    "start_time": "2022-02-02T11:23:20.461Z"
   },
   {
    "duration": 162,
    "start_time": "2022-02-02T11:23:43.267Z"
   },
   {
    "duration": 147,
    "start_time": "2022-02-02T11:24:13.638Z"
   },
   {
    "duration": 139,
    "start_time": "2022-02-02T11:25:14.383Z"
   },
   {
    "duration": 168,
    "start_time": "2022-02-02T11:25:55.778Z"
   },
   {
    "duration": 153,
    "start_time": "2022-02-02T11:25:56.639Z"
   },
   {
    "duration": 167,
    "start_time": "2022-02-02T11:27:40.232Z"
   },
   {
    "duration": 184,
    "start_time": "2022-02-02T11:28:00.848Z"
   },
   {
    "duration": 332,
    "start_time": "2022-02-02T11:28:22.379Z"
   },
   {
    "duration": 168,
    "start_time": "2022-02-02T11:28:40.671Z"
   },
   {
    "duration": 145,
    "start_time": "2022-02-02T11:28:42.967Z"
   },
   {
    "duration": 344,
    "start_time": "2022-02-02T14:12:25.362Z"
   },
   {
    "duration": 742,
    "start_time": "2022-02-02T14:12:32.402Z"
   },
   {
    "duration": 195,
    "start_time": "2022-02-02T14:12:33.146Z"
   },
   {
    "duration": 158,
    "start_time": "2022-02-02T14:12:33.344Z"
   },
   {
    "duration": 205,
    "start_time": "2022-02-02T14:14:31.073Z"
   },
   {
    "duration": 167,
    "start_time": "2022-02-02T14:16:01.039Z"
   },
   {
    "duration": 216,
    "start_time": "2022-02-02T14:18:01.721Z"
   },
   {
    "duration": 204,
    "start_time": "2022-02-02T14:18:29.559Z"
   },
   {
    "duration": 376,
    "start_time": "2022-02-02T14:20:00.457Z"
   },
   {
    "duration": 99,
    "start_time": "2022-02-02T14:20:05.922Z"
   },
   {
    "duration": 120,
    "start_time": "2022-02-02T14:20:29.732Z"
   },
   {
    "duration": 183,
    "start_time": "2022-02-02T14:21:50.339Z"
   },
   {
    "duration": 27,
    "start_time": "2022-02-02T14:26:20.518Z"
   },
   {
    "duration": 37,
    "start_time": "2022-02-02T14:30:57.328Z"
   },
   {
    "duration": 242,
    "start_time": "2022-02-02T14:53:55.867Z"
   },
   {
    "duration": 24,
    "start_time": "2022-02-02T14:54:04.315Z"
   },
   {
    "duration": 17,
    "start_time": "2022-02-02T14:54:14.978Z"
   },
   {
    "duration": 16,
    "start_time": "2022-02-02T14:54:27.459Z"
   },
   {
    "duration": 176,
    "start_time": "2022-02-02T14:55:55.667Z"
   },
   {
    "duration": 30,
    "start_time": "2022-02-02T14:56:17.056Z"
   },
   {
    "duration": 554,
    "start_time": "2022-02-02T17:35:49.856Z"
   },
   {
    "duration": 180,
    "start_time": "2022-02-02T17:35:50.412Z"
   },
   {
    "duration": 38,
    "start_time": "2022-02-02T17:35:50.594Z"
   },
   {
    "duration": 153,
    "start_time": "2022-02-02T17:35:50.634Z"
   },
   {
    "duration": 95,
    "start_time": "2022-02-02T17:35:50.789Z"
   },
   {
    "duration": 18,
    "start_time": "2022-02-02T17:35:50.886Z"
   },
   {
    "duration": 62,
    "start_time": "2022-02-02T17:35:50.905Z"
   },
   {
    "duration": 589,
    "start_time": "2022-02-02T17:40:25.103Z"
   },
   {
    "duration": 174,
    "start_time": "2022-02-02T17:40:25.694Z"
   },
   {
    "duration": 42,
    "start_time": "2022-02-02T17:40:25.870Z"
   },
   {
    "duration": 142,
    "start_time": "2022-02-02T17:40:25.914Z"
   },
   {
    "duration": 101,
    "start_time": "2022-02-02T17:40:26.058Z"
   },
   {
    "duration": 20,
    "start_time": "2022-02-02T17:40:26.161Z"
   },
   {
    "duration": 45,
    "start_time": "2022-02-02T17:40:26.183Z"
   },
   {
    "duration": 602,
    "start_time": "2022-02-02T17:44:09.019Z"
   },
   {
    "duration": 173,
    "start_time": "2022-02-02T17:44:09.622Z"
   },
   {
    "duration": 34,
    "start_time": "2022-02-02T17:44:09.797Z"
   },
   {
    "duration": 144,
    "start_time": "2022-02-02T17:44:09.834Z"
   },
   {
    "duration": 106,
    "start_time": "2022-02-02T17:44:09.980Z"
   },
   {
    "duration": 20,
    "start_time": "2022-02-02T17:44:10.088Z"
   },
   {
    "duration": 36,
    "start_time": "2022-02-02T17:44:10.112Z"
   },
   {
    "duration": 1597,
    "start_time": "2022-02-02T17:44:50.601Z"
   },
   {
    "duration": 1622,
    "start_time": "2022-02-02T17:44:52.201Z"
   },
   {
    "duration": 31,
    "start_time": "2022-02-02T17:44:53.826Z"
   },
   {
    "duration": 154,
    "start_time": "2022-02-02T17:44:53.859Z"
   },
   {
    "duration": 96,
    "start_time": "2022-02-02T17:44:54.015Z"
   },
   {
    "duration": 19,
    "start_time": "2022-02-02T17:44:54.113Z"
   },
   {
    "duration": 57,
    "start_time": "2022-02-02T17:44:54.134Z"
   },
   {
    "duration": 564,
    "start_time": "2022-02-02T17:45:49.304Z"
   },
   {
    "duration": 161,
    "start_time": "2022-02-02T17:45:49.870Z"
   },
   {
    "duration": 28,
    "start_time": "2022-02-02T17:45:50.033Z"
   },
   {
    "duration": 141,
    "start_time": "2022-02-02T17:45:50.063Z"
   },
   {
    "duration": 91,
    "start_time": "2022-02-02T17:45:50.205Z"
   },
   {
    "duration": 19,
    "start_time": "2022-02-02T17:45:50.297Z"
   },
   {
    "duration": 44,
    "start_time": "2022-02-02T17:45:50.318Z"
   },
   {
    "duration": 506,
    "start_time": "2022-02-02T17:48:47.063Z"
   },
   {
    "duration": 165,
    "start_time": "2022-02-02T17:48:47.571Z"
   },
   {
    "duration": 28,
    "start_time": "2022-02-02T17:48:47.738Z"
   },
   {
    "duration": 141,
    "start_time": "2022-02-02T17:48:47.768Z"
   },
   {
    "duration": 92,
    "start_time": "2022-02-02T17:48:47.912Z"
   },
   {
    "duration": 18,
    "start_time": "2022-02-02T17:48:48.006Z"
   },
   {
    "duration": 37,
    "start_time": "2022-02-02T17:48:48.026Z"
   },
   {
    "duration": 626,
    "start_time": "2022-02-03T06:58:35.540Z"
   },
   {
    "duration": 190,
    "start_time": "2022-02-03T06:58:36.169Z"
   },
   {
    "duration": 31,
    "start_time": "2022-02-03T06:58:36.362Z"
   },
   {
    "duration": 158,
    "start_time": "2022-02-03T06:58:36.407Z"
   },
   {
    "duration": 106,
    "start_time": "2022-02-03T06:58:36.567Z"
   },
   {
    "duration": 24,
    "start_time": "2022-02-03T06:58:36.675Z"
   },
   {
    "duration": 41,
    "start_time": "2022-02-03T06:58:36.701Z"
   },
   {
    "duration": 298,
    "start_time": "2022-02-03T06:58:36.745Z"
   },
   {
    "duration": 54,
    "start_time": "2022-02-03T06:58:48.919Z"
   },
   {
    "duration": 13,
    "start_time": "2022-02-03T06:59:08.536Z"
   },
   {
    "duration": 20,
    "start_time": "2022-02-03T06:59:29.408Z"
   },
   {
    "duration": 7407,
    "start_time": "2022-02-03T07:00:35.105Z"
   },
   {
    "duration": 39,
    "start_time": "2022-02-03T07:00:54.145Z"
   },
   {
    "duration": 59,
    "start_time": "2022-02-03T07:02:01.365Z"
   },
   {
    "duration": 386,
    "start_time": "2022-02-03T07:03:53.714Z"
   },
   {
    "duration": 21,
    "start_time": "2022-02-03T07:03:58.713Z"
   },
   {
    "duration": 36,
    "start_time": "2022-02-03T07:04:29.993Z"
   },
   {
    "duration": 21,
    "start_time": "2022-02-03T07:05:22.298Z"
   },
   {
    "duration": 15,
    "start_time": "2022-02-03T07:05:41.210Z"
   },
   {
    "duration": 17,
    "start_time": "2022-02-03T07:05:48.330Z"
   },
   {
    "duration": 10,
    "start_time": "2022-02-03T07:05:51.529Z"
   },
   {
    "duration": 11,
    "start_time": "2022-02-03T07:08:58.292Z"
   },
   {
    "duration": 5,
    "start_time": "2022-02-03T07:10:15.068Z"
   },
   {
    "duration": 11,
    "start_time": "2022-02-03T07:10:16.117Z"
   },
   {
    "duration": 6,
    "start_time": "2022-02-03T07:10:53.868Z"
   },
   {
    "duration": 259,
    "start_time": "2022-02-03T07:13:50.822Z"
   },
   {
    "duration": 101,
    "start_time": "2022-02-03T07:14:00.718Z"
   },
   {
    "duration": 107,
    "start_time": "2022-02-03T07:14:05.582Z"
   },
   {
    "duration": 70,
    "start_time": "2022-02-03T07:14:23.847Z"
   },
   {
    "duration": 46,
    "start_time": "2022-02-03T07:14:44.079Z"
   },
   {
    "duration": 44,
    "start_time": "2022-02-03T07:15:11.719Z"
   },
   {
    "duration": 254,
    "start_time": "2022-02-03T07:19:11.537Z"
   },
   {
    "duration": 261,
    "start_time": "2022-02-03T07:19:41.259Z"
   },
   {
    "duration": 14,
    "start_time": "2022-02-03T07:20:18.873Z"
   },
   {
    "duration": 18,
    "start_time": "2022-02-03T07:20:37.786Z"
   },
   {
    "duration": 9,
    "start_time": "2022-02-03T07:25:15.541Z"
   },
   {
    "duration": 3,
    "start_time": "2022-02-03T07:30:07.858Z"
   },
   {
    "duration": 401,
    "start_time": "2022-02-03T07:32:50.441Z"
   },
   {
    "duration": 2,
    "start_time": "2022-02-03T07:37:20.198Z"
   },
   {
    "duration": 8,
    "start_time": "2022-02-03T07:38:13.716Z"
   },
   {
    "duration": 17,
    "start_time": "2022-02-03T07:38:41.639Z"
   },
   {
    "duration": 21,
    "start_time": "2022-02-03T07:38:56.573Z"
   },
   {
    "duration": 5,
    "start_time": "2022-02-03T07:39:28.773Z"
   },
   {
    "duration": 6,
    "start_time": "2022-02-03T07:40:05.814Z"
   },
   {
    "duration": 13,
    "start_time": "2022-02-03T07:43:45.703Z"
   },
   {
    "duration": 37,
    "start_time": "2022-02-03T07:48:18.194Z"
   },
   {
    "duration": 46,
    "start_time": "2022-02-03T07:48:28.857Z"
   },
   {
    "duration": 87,
    "start_time": "2022-02-03T07:49:46.684Z"
   },
   {
    "duration": 90,
    "start_time": "2022-02-03T07:50:06.874Z"
   },
   {
    "duration": 87,
    "start_time": "2022-02-03T07:50:47.162Z"
   },
   {
    "duration": 53,
    "start_time": "2022-02-03T07:50:53.635Z"
   },
   {
    "duration": 69,
    "start_time": "2022-02-03T07:52:10.467Z"
   },
   {
    "duration": 55,
    "start_time": "2022-02-03T07:52:22.276Z"
   },
   {
    "duration": 639,
    "start_time": "2022-02-03T07:52:31.211Z"
   },
   {
    "duration": 196,
    "start_time": "2022-02-03T07:52:31.853Z"
   },
   {
    "duration": 34,
    "start_time": "2022-02-03T07:52:32.052Z"
   },
   {
    "duration": 185,
    "start_time": "2022-02-03T07:52:32.089Z"
   },
   {
    "duration": 114,
    "start_time": "2022-02-03T07:52:32.276Z"
   },
   {
    "duration": 26,
    "start_time": "2022-02-03T07:52:32.392Z"
   },
   {
    "duration": 49,
    "start_time": "2022-02-03T07:52:32.420Z"
   },
   {
    "duration": 126,
    "start_time": "2022-02-03T07:52:32.472Z"
   },
   {
    "duration": 65,
    "start_time": "2022-02-03T07:52:32.600Z"
   },
   {
    "duration": 65,
    "start_time": "2022-02-03T07:52:32.667Z"
   },
   {
    "duration": 83,
    "start_time": "2022-02-03T07:52:32.735Z"
   },
   {
    "duration": 3,
    "start_time": "2022-02-03T07:52:32.821Z"
   },
   {
    "duration": 25,
    "start_time": "2022-02-03T07:52:32.826Z"
   },
   {
    "duration": 27,
    "start_time": "2022-02-03T07:52:32.853Z"
   },
   {
    "duration": 22,
    "start_time": "2022-02-03T07:52:32.882Z"
   },
   {
    "duration": 69,
    "start_time": "2022-02-03T07:52:32.906Z"
   },
   {
    "duration": 13,
    "start_time": "2022-02-03T07:52:32.977Z"
   },
   {
    "duration": 637,
    "start_time": "2022-02-03T07:52:32.992Z"
   },
   {
    "duration": 41,
    "start_time": "2022-02-03T07:57:26.094Z"
   },
   {
    "duration": 63,
    "start_time": "2022-02-03T07:57:36.621Z"
   },
   {
    "duration": 46,
    "start_time": "2022-02-03T07:58:40.095Z"
   },
   {
    "duration": 345,
    "start_time": "2022-02-03T08:00:22.095Z"
   },
   {
    "duration": 42,
    "start_time": "2022-02-03T08:00:30.273Z"
   },
   {
    "duration": 20,
    "start_time": "2022-02-03T08:03:03.001Z"
   },
   {
    "duration": 29,
    "start_time": "2022-02-03T08:03:11.121Z"
   },
   {
    "duration": 29,
    "start_time": "2022-02-03T08:03:52.146Z"
   },
   {
    "duration": 40,
    "start_time": "2022-02-03T08:09:40.829Z"
   },
   {
    "duration": 38,
    "start_time": "2022-02-03T08:15:58.931Z"
   },
   {
    "duration": 4,
    "start_time": "2022-02-03T08:19:07.292Z"
   },
   {
    "duration": 13,
    "start_time": "2022-02-03T08:19:14.523Z"
   },
   {
    "duration": 12,
    "start_time": "2022-02-03T08:19:57.708Z"
   },
   {
    "duration": 38,
    "start_time": "2022-02-03T08:20:52.837Z"
   },
   {
    "duration": 41,
    "start_time": "2022-02-03T08:21:13.805Z"
   },
   {
    "duration": 43,
    "start_time": "2022-02-03T08:21:41.084Z"
   },
   {
    "duration": 267,
    "start_time": "2022-02-03T08:24:58.759Z"
   },
   {
    "duration": 12,
    "start_time": "2022-02-03T08:26:02.430Z"
   },
   {
    "duration": 38,
    "start_time": "2022-02-03T08:27:12.448Z"
   },
   {
    "duration": 35,
    "start_time": "2022-02-03T08:28:28.481Z"
   },
   {
    "duration": 680,
    "start_time": "2022-02-03T08:31:42.504Z"
   },
   {
    "duration": 199,
    "start_time": "2022-02-03T08:31:43.186Z"
   },
   {
    "duration": 42,
    "start_time": "2022-02-03T08:31:43.387Z"
   },
   {
    "duration": 181,
    "start_time": "2022-02-03T08:31:43.431Z"
   },
   {
    "duration": 111,
    "start_time": "2022-02-03T08:31:43.614Z"
   },
   {
    "duration": 23,
    "start_time": "2022-02-03T08:31:43.727Z"
   },
   {
    "duration": 41,
    "start_time": "2022-02-03T08:31:43.752Z"
   },
   {
    "duration": 118,
    "start_time": "2022-02-03T08:31:43.796Z"
   },
   {
    "duration": 64,
    "start_time": "2022-02-03T08:31:43.917Z"
   },
   {
    "duration": 67,
    "start_time": "2022-02-03T08:31:43.983Z"
   },
   {
    "duration": 91,
    "start_time": "2022-02-03T08:31:44.051Z"
   },
   {
    "duration": 4,
    "start_time": "2022-02-03T08:31:44.144Z"
   },
   {
    "duration": 12,
    "start_time": "2022-02-03T08:31:44.150Z"
   },
   {
    "duration": 16,
    "start_time": "2022-02-03T08:31:44.164Z"
   },
   {
    "duration": 7,
    "start_time": "2022-02-03T08:31:44.182Z"
   },
   {
    "duration": 69,
    "start_time": "2022-02-03T08:31:44.191Z"
   },
   {
    "duration": 63,
    "start_time": "2022-02-03T08:31:44.262Z"
   },
   {
    "duration": 36,
    "start_time": "2022-02-03T08:31:44.327Z"
   },
   {
    "duration": 14,
    "start_time": "2022-02-03T08:33:14.712Z"
   },
   {
    "duration": 12,
    "start_time": "2022-02-03T08:34:27.063Z"
   },
   {
    "duration": 45,
    "start_time": "2022-02-03T08:35:00.025Z"
   },
   {
    "duration": 45,
    "start_time": "2022-02-03T08:35:45.592Z"
   },
   {
    "duration": 48,
    "start_time": "2022-02-03T08:37:16.714Z"
   },
   {
    "duration": 37,
    "start_time": "2022-02-03T08:37:38.569Z"
   },
   {
    "duration": 35,
    "start_time": "2022-02-03T08:37:47.945Z"
   },
   {
    "duration": 34,
    "start_time": "2022-02-03T08:39:07.610Z"
   },
   {
    "duration": 33,
    "start_time": "2022-02-03T08:40:04.963Z"
   },
   {
    "duration": 9,
    "start_time": "2022-02-03T08:41:53.340Z"
   },
   {
    "duration": 13,
    "start_time": "2022-02-03T08:42:05.731Z"
   },
   {
    "duration": 11,
    "start_time": "2022-02-03T08:42:54.780Z"
   },
   {
    "duration": 11,
    "start_time": "2022-02-03T08:43:27.820Z"
   },
   {
    "duration": 12,
    "start_time": "2022-02-03T08:43:31.948Z"
   },
   {
    "duration": 30,
    "start_time": "2022-02-03T08:43:42.990Z"
   },
   {
    "duration": 11,
    "start_time": "2022-02-03T08:43:43.598Z"
   },
   {
    "duration": 15,
    "start_time": "2022-02-03T08:44:17.109Z"
   },
   {
    "duration": 32,
    "start_time": "2022-02-03T08:44:21.996Z"
   },
   {
    "duration": 11,
    "start_time": "2022-02-03T08:44:22.592Z"
   },
   {
    "duration": 29,
    "start_time": "2022-02-03T08:45:11.477Z"
   },
   {
    "duration": 10,
    "start_time": "2022-02-03T08:45:22.133Z"
   },
   {
    "duration": 30,
    "start_time": "2022-02-03T08:46:49.150Z"
   },
   {
    "duration": 649,
    "start_time": "2022-02-03T08:46:55.788Z"
   },
   {
    "duration": 200,
    "start_time": "2022-02-03T08:46:56.440Z"
   },
   {
    "duration": 34,
    "start_time": "2022-02-03T08:46:56.643Z"
   },
   {
    "duration": 174,
    "start_time": "2022-02-03T08:46:56.680Z"
   },
   {
    "duration": 118,
    "start_time": "2022-02-03T08:46:56.857Z"
   },
   {
    "duration": 26,
    "start_time": "2022-02-03T08:46:56.977Z"
   },
   {
    "duration": 38,
    "start_time": "2022-02-03T08:46:57.008Z"
   },
   {
    "duration": 107,
    "start_time": "2022-02-03T08:46:57.050Z"
   },
   {
    "duration": 66,
    "start_time": "2022-02-03T08:46:57.159Z"
   },
   {
    "duration": 44,
    "start_time": "2022-02-03T08:46:57.227Z"
   },
   {
    "duration": 82,
    "start_time": "2022-02-03T08:46:57.273Z"
   },
   {
    "duration": 3,
    "start_time": "2022-02-03T08:46:57.357Z"
   },
   {
    "duration": 17,
    "start_time": "2022-02-03T08:46:57.362Z"
   },
   {
    "duration": 19,
    "start_time": "2022-02-03T08:46:57.381Z"
   },
   {
    "duration": 9,
    "start_time": "2022-02-03T08:46:57.402Z"
   },
   {
    "duration": 58,
    "start_time": "2022-02-03T08:46:57.413Z"
   },
   {
    "duration": 14,
    "start_time": "2022-02-03T08:46:57.473Z"
   },
   {
    "duration": 73,
    "start_time": "2022-02-03T08:46:57.489Z"
   },
   {
    "duration": 44,
    "start_time": "2022-02-03T08:46:57.564Z"
   },
   {
    "duration": 31,
    "start_time": "2022-02-03T08:46:57.611Z"
   },
   {
    "duration": 14,
    "start_time": "2022-02-03T08:46:57.644Z"
   },
   {
    "duration": 31,
    "start_time": "2022-02-03T08:47:29.649Z"
   },
   {
    "duration": 46,
    "start_time": "2022-02-03T08:48:01.963Z"
   },
   {
    "duration": 10,
    "start_time": "2022-02-03T08:49:41.851Z"
   },
   {
    "duration": 10,
    "start_time": "2022-02-03T08:53:42.111Z"
   },
   {
    "duration": 7,
    "start_time": "2022-02-03T08:55:16.831Z"
   },
   {
    "duration": 7,
    "start_time": "2022-02-03T08:56:30.599Z"
   },
   {
    "duration": 313,
    "start_time": "2022-02-03T08:56:47.319Z"
   },
   {
    "duration": 9,
    "start_time": "2022-02-03T08:56:53.263Z"
   },
   {
    "duration": 12,
    "start_time": "2022-02-03T08:57:44.208Z"
   },
   {
    "duration": 9,
    "start_time": "2022-02-03T08:57:58.793Z"
   },
   {
    "duration": 11,
    "start_time": "2022-02-03T08:58:02.674Z"
   },
   {
    "duration": 11,
    "start_time": "2022-02-03T08:58:16.840Z"
   },
   {
    "duration": 17,
    "start_time": "2022-02-03T08:58:27.696Z"
   },
   {
    "duration": 17,
    "start_time": "2022-02-03T08:58:56.617Z"
   },
   {
    "duration": 674,
    "start_time": "2022-02-03T09:02:24.386Z"
   },
   {
    "duration": 204,
    "start_time": "2022-02-03T09:02:25.063Z"
   },
   {
    "duration": 39,
    "start_time": "2022-02-03T09:02:25.269Z"
   },
   {
    "duration": 170,
    "start_time": "2022-02-03T09:02:25.311Z"
   },
   {
    "duration": 112,
    "start_time": "2022-02-03T09:02:25.483Z"
   },
   {
    "duration": 23,
    "start_time": "2022-02-03T09:02:25.597Z"
   },
   {
    "duration": 39,
    "start_time": "2022-02-03T09:02:25.622Z"
   },
   {
    "duration": 117,
    "start_time": "2022-02-03T09:02:25.663Z"
   },
   {
    "duration": 69,
    "start_time": "2022-02-03T09:02:25.782Z"
   },
   {
    "duration": 64,
    "start_time": "2022-02-03T09:02:25.853Z"
   },
   {
    "duration": 72,
    "start_time": "2022-02-03T09:02:25.919Z"
   },
   {
    "duration": 17,
    "start_time": "2022-02-03T09:02:25.993Z"
   },
   {
    "duration": 14,
    "start_time": "2022-02-03T09:02:26.012Z"
   },
   {
    "duration": 23,
    "start_time": "2022-02-03T09:02:26.028Z"
   },
   {
    "duration": 17,
    "start_time": "2022-02-03T09:02:26.054Z"
   },
   {
    "duration": 78,
    "start_time": "2022-02-03T09:02:26.074Z"
   },
   {
    "duration": 74,
    "start_time": "2022-02-03T09:02:26.154Z"
   },
   {
    "duration": 50,
    "start_time": "2022-02-03T09:02:26.231Z"
   },
   {
    "duration": 66,
    "start_time": "2022-02-03T09:02:26.283Z"
   },
   {
    "duration": 17,
    "start_time": "2022-02-03T09:02:26.351Z"
   },
   {
    "duration": 9,
    "start_time": "2022-02-03T09:02:26.370Z"
   },
   {
    "duration": 48,
    "start_time": "2022-02-03T09:02:26.381Z"
   },
   {
    "duration": 13,
    "start_time": "2022-02-03T09:07:11.490Z"
   },
   {
    "duration": 10,
    "start_time": "2022-02-03T09:07:36.762Z"
   },
   {
    "duration": 17,
    "start_time": "2022-02-03T09:08:55.602Z"
   },
   {
    "duration": 405,
    "start_time": "2022-02-03T14:28:07.940Z"
   },
   {
    "duration": 763,
    "start_time": "2022-02-03T14:28:32.878Z"
   },
   {
    "duration": 232,
    "start_time": "2022-02-03T14:28:33.643Z"
   },
   {
    "duration": 39,
    "start_time": "2022-02-03T14:28:33.878Z"
   },
   {
    "duration": 204,
    "start_time": "2022-02-03T14:28:33.920Z"
   },
   {
    "duration": 127,
    "start_time": "2022-02-03T14:28:34.126Z"
   },
   {
    "duration": 27,
    "start_time": "2022-02-03T14:28:34.259Z"
   },
   {
    "duration": 52,
    "start_time": "2022-02-03T14:28:34.289Z"
   },
   {
    "duration": 139,
    "start_time": "2022-02-03T14:28:34.346Z"
   },
   {
    "duration": 116,
    "start_time": "2022-02-03T14:28:34.489Z"
   },
   {
    "duration": 71,
    "start_time": "2022-02-03T14:28:34.608Z"
   },
   {
    "duration": 97,
    "start_time": "2022-02-03T14:28:34.681Z"
   },
   {
    "duration": 6,
    "start_time": "2022-02-03T14:28:34.781Z"
   },
   {
    "duration": 10,
    "start_time": "2022-02-03T14:28:34.790Z"
   },
   {
    "duration": 13,
    "start_time": "2022-02-03T14:28:34.803Z"
   },
   {
    "duration": 41,
    "start_time": "2022-02-03T14:28:34.818Z"
   },
   {
    "duration": 68,
    "start_time": "2022-02-03T14:28:34.862Z"
   },
   {
    "duration": 81,
    "start_time": "2022-02-03T14:28:34.933Z"
   },
   {
    "duration": 57,
    "start_time": "2022-02-03T14:28:35.016Z"
   },
   {
    "duration": 46,
    "start_time": "2022-02-03T14:28:35.076Z"
   },
   {
    "duration": 35,
    "start_time": "2022-02-03T14:28:35.124Z"
   },
   {
    "duration": 24,
    "start_time": "2022-02-03T14:28:35.161Z"
   },
   {
    "duration": 13,
    "start_time": "2022-02-03T14:28:35.188Z"
   },
   {
    "duration": 21,
    "start_time": "2022-02-03T14:28:35.205Z"
   },
   {
    "duration": 15,
    "start_time": "2022-02-03T14:28:35.258Z"
   },
   {
    "duration": 10933,
    "start_time": "2022-02-03T14:28:35.275Z"
   },
   {
    "duration": 22,
    "start_time": "2022-02-03T14:29:11.666Z"
   },
   {
    "duration": 403,
    "start_time": "2022-02-03T14:31:02.018Z"
   },
   {
    "duration": 14,
    "start_time": "2022-02-03T14:31:28.291Z"
   },
   {
    "duration": 14,
    "start_time": "2022-02-03T14:32:03.370Z"
   },
   {
    "duration": 13,
    "start_time": "2022-02-03T14:32:25.442Z"
   },
   {
    "duration": 14,
    "start_time": "2022-02-03T14:33:12.412Z"
   },
   {
    "duration": 5,
    "start_time": "2022-02-03T14:33:53.899Z"
   },
   {
    "duration": 759,
    "start_time": "2022-02-03T14:34:02.269Z"
   },
   {
    "duration": 241,
    "start_time": "2022-02-03T14:34:03.031Z"
   },
   {
    "duration": 41,
    "start_time": "2022-02-03T14:34:03.276Z"
   },
   {
    "duration": 220,
    "start_time": "2022-02-03T14:34:03.321Z"
   },
   {
    "duration": 135,
    "start_time": "2022-02-03T14:34:03.544Z"
   },
   {
    "duration": 29,
    "start_time": "2022-02-03T14:34:03.682Z"
   },
   {
    "duration": 43,
    "start_time": "2022-02-03T14:34:03.714Z"
   },
   {
    "duration": 152,
    "start_time": "2022-02-03T14:34:03.762Z"
   },
   {
    "duration": 106,
    "start_time": "2022-02-03T14:34:03.916Z"
   },
   {
    "duration": 74,
    "start_time": "2022-02-03T14:34:04.024Z"
   },
   {
    "duration": 101,
    "start_time": "2022-02-03T14:34:04.100Z"
   },
   {
    "duration": 5,
    "start_time": "2022-02-03T14:34:04.203Z"
   },
   {
    "duration": 11,
    "start_time": "2022-02-03T14:34:04.210Z"
   },
   {
    "duration": 36,
    "start_time": "2022-02-03T14:34:04.223Z"
   },
   {
    "duration": 8,
    "start_time": "2022-02-03T14:34:04.262Z"
   },
   {
    "duration": 67,
    "start_time": "2022-02-03T14:34:04.272Z"
   },
   {
    "duration": 79,
    "start_time": "2022-02-03T14:34:04.341Z"
   },
   {
    "duration": 65,
    "start_time": "2022-02-03T14:34:04.423Z"
   },
   {
    "duration": 46,
    "start_time": "2022-02-03T14:34:04.491Z"
   },
   {
    "duration": 19,
    "start_time": "2022-02-03T14:34:04.560Z"
   },
   {
    "duration": 5,
    "start_time": "2022-02-03T14:34:04.581Z"
   },
   {
    "duration": 20,
    "start_time": "2022-02-03T14:34:04.588Z"
   },
   {
    "duration": 48,
    "start_time": "2022-02-03T14:34:04.612Z"
   },
   {
    "duration": 14,
    "start_time": "2022-02-03T14:34:04.663Z"
   },
   {
    "duration": 23,
    "start_time": "2022-02-03T14:34:04.679Z"
   },
   {
    "duration": 134,
    "start_time": "2022-02-03T14:36:13.286Z"
   },
   {
    "duration": 13,
    "start_time": "2022-02-03T14:36:20.397Z"
   },
   {
    "duration": 135,
    "start_time": "2022-02-03T15:08:47.799Z"
   },
   {
    "duration": 15,
    "start_time": "2022-02-03T15:09:15.992Z"
   },
   {
    "duration": 11,
    "start_time": "2022-02-03T15:09:35.767Z"
   },
   {
    "duration": 23,
    "start_time": "2022-02-03T15:10:41.163Z"
   },
   {
    "duration": 13,
    "start_time": "2022-02-03T15:11:03.376Z"
   },
   {
    "duration": 13,
    "start_time": "2022-02-03T15:11:40.296Z"
   },
   {
    "duration": 28,
    "start_time": "2022-02-03T15:12:21.850Z"
   },
   {
    "duration": 13,
    "start_time": "2022-02-03T15:12:40.971Z"
   },
   {
    "duration": 10,
    "start_time": "2022-02-03T15:14:18.762Z"
   },
   {
    "duration": 438,
    "start_time": "2022-02-03T15:24:43.632Z"
   },
   {
    "duration": 6,
    "start_time": "2022-02-03T15:25:10.192Z"
   },
   {
    "duration": 11,
    "start_time": "2022-02-03T15:25:15.647Z"
   },
   {
    "duration": 13,
    "start_time": "2022-02-03T15:26:41.296Z"
   },
   {
    "duration": 379,
    "start_time": "2022-02-03T15:27:35.684Z"
   },
   {
    "duration": 20,
    "start_time": "2022-02-03T15:28:01.889Z"
   },
   {
    "duration": 21,
    "start_time": "2022-02-03T15:28:13.529Z"
   },
   {
    "duration": 370,
    "start_time": "2022-02-03T15:29:23.146Z"
   },
   {
    "duration": 7,
    "start_time": "2022-02-03T15:29:34.402Z"
   },
   {
    "duration": 7,
    "start_time": "2022-02-03T15:29:58.649Z"
   },
   {
    "duration": 8,
    "start_time": "2022-02-03T15:30:14.962Z"
   },
   {
    "duration": 7,
    "start_time": "2022-02-03T15:31:22.442Z"
   },
   {
    "duration": 5,
    "start_time": "2022-02-03T15:35:08.919Z"
   },
   {
    "duration": 14,
    "start_time": "2022-02-03T15:36:26.318Z"
   },
   {
    "duration": 6,
    "start_time": "2022-02-03T15:43:29.506Z"
   },
   {
    "duration": 426,
    "start_time": "2022-02-03T15:43:45.986Z"
   },
   {
    "duration": 10790,
    "start_time": "2022-02-03T15:43:53.520Z"
   },
   {
    "duration": 755,
    "start_time": "2022-02-03T15:44:23.169Z"
   },
   {
    "duration": 227,
    "start_time": "2022-02-03T15:44:23.927Z"
   },
   {
    "duration": 36,
    "start_time": "2022-02-03T15:44:24.157Z"
   },
   {
    "duration": 190,
    "start_time": "2022-02-03T15:44:24.196Z"
   },
   {
    "duration": 129,
    "start_time": "2022-02-03T15:44:24.388Z"
   },
   {
    "duration": 27,
    "start_time": "2022-02-03T15:44:24.519Z"
   },
   {
    "duration": 59,
    "start_time": "2022-02-03T15:44:24.558Z"
   },
   {
    "duration": 197,
    "start_time": "2022-02-03T15:44:24.622Z"
   },
   {
    "duration": 114,
    "start_time": "2022-02-03T15:44:24.822Z"
   },
   {
    "duration": 60,
    "start_time": "2022-02-03T15:44:24.939Z"
   },
   {
    "duration": 102,
    "start_time": "2022-02-03T15:44:25.001Z"
   },
   {
    "duration": 5,
    "start_time": "2022-02-03T15:44:25.105Z"
   },
   {
    "duration": 11,
    "start_time": "2022-02-03T15:44:25.112Z"
   },
   {
    "duration": 16,
    "start_time": "2022-02-03T15:44:25.125Z"
   },
   {
    "duration": 22,
    "start_time": "2022-02-03T15:44:25.143Z"
   },
   {
    "duration": 67,
    "start_time": "2022-02-03T15:44:25.167Z"
   },
   {
    "duration": 78,
    "start_time": "2022-02-03T15:44:25.236Z"
   },
   {
    "duration": 58,
    "start_time": "2022-02-03T15:44:25.316Z"
   },
   {
    "duration": 44,
    "start_time": "2022-02-03T15:44:25.377Z"
   },
   {
    "duration": 15,
    "start_time": "2022-02-03T15:44:25.423Z"
   },
   {
    "duration": 19,
    "start_time": "2022-02-03T15:44:25.460Z"
   },
   {
    "duration": 27,
    "start_time": "2022-02-03T15:44:25.481Z"
   },
   {
    "duration": 27,
    "start_time": "2022-02-03T15:44:25.512Z"
   },
   {
    "duration": 43,
    "start_time": "2022-02-03T15:44:25.542Z"
   },
   {
    "duration": 13,
    "start_time": "2022-02-03T15:44:25.587Z"
   },
   {
    "duration": 15,
    "start_time": "2022-02-03T15:44:25.603Z"
   },
   {
    "duration": 15,
    "start_time": "2022-02-03T15:44:25.660Z"
   },
   {
    "duration": 21,
    "start_time": "2022-02-03T15:44:25.677Z"
   },
   {
    "duration": 7,
    "start_time": "2022-02-03T15:44:25.701Z"
   },
   {
    "duration": 346,
    "start_time": "2022-02-03T15:44:57.699Z"
   },
   {
    "duration": 725,
    "start_time": "2022-02-03T15:45:04.987Z"
   },
   {
    "duration": 789,
    "start_time": "2022-02-03T15:45:13.731Z"
   },
   {
    "duration": 229,
    "start_time": "2022-02-03T15:45:14.523Z"
   },
   {
    "duration": 38,
    "start_time": "2022-02-03T15:45:14.755Z"
   },
   {
    "duration": 200,
    "start_time": "2022-02-03T15:45:14.796Z"
   },
   {
    "duration": 136,
    "start_time": "2022-02-03T15:45:14.999Z"
   },
   {
    "duration": 26,
    "start_time": "2022-02-03T15:45:15.137Z"
   },
   {
    "duration": 57,
    "start_time": "2022-02-03T15:45:15.165Z"
   },
   {
    "duration": 137,
    "start_time": "2022-02-03T15:45:15.226Z"
   },
   {
    "duration": 102,
    "start_time": "2022-02-03T15:45:15.366Z"
   },
   {
    "duration": 55,
    "start_time": "2022-02-03T15:45:15.471Z"
   },
   {
    "duration": 107,
    "start_time": "2022-02-03T15:45:15.529Z"
   },
   {
    "duration": 4,
    "start_time": "2022-02-03T15:45:15.639Z"
   },
   {
    "duration": 18,
    "start_time": "2022-02-03T15:45:15.645Z"
   },
   {
    "duration": 13,
    "start_time": "2022-02-03T15:45:15.666Z"
   },
   {
    "duration": 9,
    "start_time": "2022-02-03T15:45:15.682Z"
   },
   {
    "duration": 109,
    "start_time": "2022-02-03T15:45:15.694Z"
   },
   {
    "duration": 76,
    "start_time": "2022-02-03T15:45:15.806Z"
   },
   {
    "duration": 45,
    "start_time": "2022-02-03T15:45:15.885Z"
   },
   {
    "duration": 65,
    "start_time": "2022-02-03T15:45:15.933Z"
   },
   {
    "duration": 19,
    "start_time": "2022-02-03T15:45:16.001Z"
   },
   {
    "duration": 38,
    "start_time": "2022-02-03T15:45:16.023Z"
   },
   {
    "duration": 18,
    "start_time": "2022-02-03T15:45:16.063Z"
   },
   {
    "duration": 18,
    "start_time": "2022-02-03T15:45:16.085Z"
   },
   {
    "duration": 66,
    "start_time": "2022-02-03T15:45:16.106Z"
   },
   {
    "duration": 15,
    "start_time": "2022-02-03T15:45:16.175Z"
   },
   {
    "duration": 17,
    "start_time": "2022-02-03T15:45:16.193Z"
   },
   {
    "duration": 15,
    "start_time": "2022-02-03T15:45:16.213Z"
   },
   {
    "duration": 26,
    "start_time": "2022-02-03T15:45:16.261Z"
   },
   {
    "duration": 10,
    "start_time": "2022-02-03T15:45:16.289Z"
   },
   {
    "duration": 806,
    "start_time": "2022-02-03T15:46:15.408Z"
   },
   {
    "duration": 297,
    "start_time": "2022-02-03T15:46:16.218Z"
   },
   {
    "duration": 50,
    "start_time": "2022-02-03T15:46:16.518Z"
   },
   {
    "duration": 223,
    "start_time": "2022-02-03T15:46:16.572Z"
   },
   {
    "duration": 135,
    "start_time": "2022-02-03T15:46:16.797Z"
   },
   {
    "duration": 27,
    "start_time": "2022-02-03T15:46:16.934Z"
   },
   {
    "duration": 54,
    "start_time": "2022-02-03T15:46:16.964Z"
   },
   {
    "duration": 136,
    "start_time": "2022-02-03T15:46:17.023Z"
   },
   {
    "duration": 104,
    "start_time": "2022-02-03T15:46:17.162Z"
   },
   {
    "duration": 56,
    "start_time": "2022-02-03T15:46:17.268Z"
   },
   {
    "duration": 107,
    "start_time": "2022-02-03T15:46:17.326Z"
   },
   {
    "duration": 5,
    "start_time": "2022-02-03T15:46:17.435Z"
   },
   {
    "duration": 19,
    "start_time": "2022-02-03T15:46:17.442Z"
   },
   {
    "duration": 14,
    "start_time": "2022-02-03T15:46:17.463Z"
   },
   {
    "duration": 9,
    "start_time": "2022-02-03T15:46:17.479Z"
   },
   {
    "duration": 95,
    "start_time": "2022-02-03T15:46:17.490Z"
   },
   {
    "duration": 61,
    "start_time": "2022-02-03T15:46:17.588Z"
   },
   {
    "duration": 54,
    "start_time": "2022-02-03T15:46:17.651Z"
   },
   {
    "duration": 66,
    "start_time": "2022-02-03T15:46:17.708Z"
   },
   {
    "duration": 17,
    "start_time": "2022-02-03T15:46:17.776Z"
   },
   {
    "duration": 18,
    "start_time": "2022-02-03T15:46:17.795Z"
   },
   {
    "duration": 18,
    "start_time": "2022-02-03T15:46:17.816Z"
   },
   {
    "duration": 18,
    "start_time": "2022-02-03T15:46:17.863Z"
   },
   {
    "duration": 27,
    "start_time": "2022-02-03T15:46:17.883Z"
   },
   {
    "duration": 11,
    "start_time": "2022-02-03T15:46:17.912Z"
   },
   {
    "duration": 14,
    "start_time": "2022-02-03T15:46:17.959Z"
   },
   {
    "duration": 14,
    "start_time": "2022-02-03T15:46:17.976Z"
   },
   {
    "duration": 21,
    "start_time": "2022-02-03T15:46:17.992Z"
   },
   {
    "duration": 7,
    "start_time": "2022-02-03T15:46:18.015Z"
   },
   {
    "duration": 26,
    "start_time": "2022-02-03T15:47:24.873Z"
   },
   {
    "duration": 25,
    "start_time": "2022-02-03T15:48:31.915Z"
   },
   {
    "duration": 26,
    "start_time": "2022-02-03T15:48:37.922Z"
   },
   {
    "duration": 27,
    "start_time": "2022-02-03T15:49:37.179Z"
   },
   {
    "duration": 28,
    "start_time": "2022-02-03T15:49:52.108Z"
   },
   {
    "duration": 732,
    "start_time": "2022-02-03T15:51:18.189Z"
   },
   {
    "duration": 226,
    "start_time": "2022-02-03T15:51:18.924Z"
   },
   {
    "duration": 43,
    "start_time": "2022-02-03T15:51:19.152Z"
   },
   {
    "duration": 202,
    "start_time": "2022-02-03T15:51:19.197Z"
   },
   {
    "duration": 139,
    "start_time": "2022-02-03T15:51:19.402Z"
   },
   {
    "duration": 26,
    "start_time": "2022-02-03T15:51:19.543Z"
   },
   {
    "duration": 54,
    "start_time": "2022-02-03T15:51:19.572Z"
   },
   {
    "duration": 140,
    "start_time": "2022-02-03T15:51:19.629Z"
   },
   {
    "duration": 113,
    "start_time": "2022-02-03T15:51:19.772Z"
   },
   {
    "duration": 71,
    "start_time": "2022-02-03T15:51:19.888Z"
   },
   {
    "duration": 101,
    "start_time": "2022-02-03T15:51:19.962Z"
   },
   {
    "duration": 5,
    "start_time": "2022-02-03T15:51:20.066Z"
   },
   {
    "duration": 12,
    "start_time": "2022-02-03T15:51:20.073Z"
   },
   {
    "duration": 15,
    "start_time": "2022-02-03T15:51:20.087Z"
   },
   {
    "duration": 10,
    "start_time": "2022-02-03T15:51:20.105Z"
   },
   {
    "duration": 104,
    "start_time": "2022-02-03T15:51:20.117Z"
   },
   {
    "duration": 78,
    "start_time": "2022-02-03T15:51:20.224Z"
   },
   {
    "duration": 41,
    "start_time": "2022-02-03T15:51:20.304Z"
   },
   {
    "duration": 41,
    "start_time": "2022-02-03T15:51:20.360Z"
   },
   {
    "duration": 16,
    "start_time": "2022-02-03T15:51:20.404Z"
   },
   {
    "duration": 39,
    "start_time": "2022-02-03T15:51:20.423Z"
   },
   {
    "duration": 19,
    "start_time": "2022-02-03T15:51:20.464Z"
   },
   {
    "duration": 18,
    "start_time": "2022-02-03T15:51:20.487Z"
   },
   {
    "duration": 67,
    "start_time": "2022-02-03T15:51:20.509Z"
   },
   {
    "duration": 14,
    "start_time": "2022-02-03T15:51:20.579Z"
   },
   {
    "duration": 16,
    "start_time": "2022-02-03T15:51:20.596Z"
   },
   {
    "duration": 50,
    "start_time": "2022-02-03T15:51:20.614Z"
   },
   {
    "duration": 26,
    "start_time": "2022-02-03T15:51:20.667Z"
   },
   {
    "duration": 21,
    "start_time": "2022-02-03T15:51:20.695Z"
   },
   {
    "duration": 10,
    "start_time": "2022-02-03T15:51:20.718Z"
   },
   {
    "duration": 39,
    "start_time": "2022-02-03T15:54:36.425Z"
   },
   {
    "duration": 570,
    "start_time": "2022-02-03T15:55:45.962Z"
   },
   {
    "duration": 365,
    "start_time": "2022-02-03T15:56:41.436Z"
   },
   {
    "duration": 9,
    "start_time": "2022-02-03T15:57:15.877Z"
   },
   {
    "duration": 7,
    "start_time": "2022-02-03T15:58:45.573Z"
   },
   {
    "duration": 7,
    "start_time": "2022-02-03T15:59:22.460Z"
   },
   {
    "duration": 5,
    "start_time": "2022-02-03T16:00:59.199Z"
   },
   {
    "duration": 14,
    "start_time": "2022-02-03T16:01:08.090Z"
   },
   {
    "duration": 55,
    "start_time": "2022-02-03T16:01:15.894Z"
   },
   {
    "duration": 68,
    "start_time": "2022-02-03T16:01:47.283Z"
   },
   {
    "duration": 759,
    "start_time": "2022-02-03T16:01:58.387Z"
   },
   {
    "duration": 223,
    "start_time": "2022-02-03T16:01:59.149Z"
   },
   {
    "duration": 38,
    "start_time": "2022-02-03T16:01:59.375Z"
   },
   {
    "duration": 210,
    "start_time": "2022-02-03T16:01:59.416Z"
   },
   {
    "duration": 132,
    "start_time": "2022-02-03T16:01:59.628Z"
   },
   {
    "duration": 25,
    "start_time": "2022-02-03T16:01:59.763Z"
   },
   {
    "duration": 51,
    "start_time": "2022-02-03T16:01:59.791Z"
   },
   {
    "duration": 137,
    "start_time": "2022-02-03T16:01:59.846Z"
   },
   {
    "duration": 117,
    "start_time": "2022-02-03T16:01:59.986Z"
   },
   {
    "duration": 77,
    "start_time": "2022-02-03T16:02:00.105Z"
   },
   {
    "duration": 102,
    "start_time": "2022-02-03T16:02:00.185Z"
   },
   {
    "duration": 5,
    "start_time": "2022-02-03T16:02:00.290Z"
   },
   {
    "duration": 11,
    "start_time": "2022-02-03T16:02:00.297Z"
   },
   {
    "duration": 14,
    "start_time": "2022-02-03T16:02:00.310Z"
   },
   {
    "duration": 33,
    "start_time": "2022-02-03T16:02:00.327Z"
   },
   {
    "duration": 11,
    "start_time": "2022-02-03T16:02:00.363Z"
   },
   {
    "duration": 88,
    "start_time": "2022-02-03T16:02:00.377Z"
   },
   {
    "duration": 66,
    "start_time": "2022-02-03T16:02:00.468Z"
   },
   {
    "duration": 62,
    "start_time": "2022-02-03T16:02:00.537Z"
   },
   {
    "duration": 70,
    "start_time": "2022-02-03T16:02:00.603Z"
   },
   {
    "duration": 18,
    "start_time": "2022-02-03T16:02:00.676Z"
   },
   {
    "duration": 22,
    "start_time": "2022-02-03T16:02:00.697Z"
   },
   {
    "duration": 52,
    "start_time": "2022-02-03T16:02:00.726Z"
   },
   {
    "duration": 32,
    "start_time": "2022-02-03T16:02:00.781Z"
   },
   {
    "duration": 77,
    "start_time": "2022-02-03T16:02:00.816Z"
   },
   {
    "duration": 17,
    "start_time": "2022-02-03T16:02:00.896Z"
   },
   {
    "duration": 46,
    "start_time": "2022-02-03T16:02:00.916Z"
   },
   {
    "duration": 14,
    "start_time": "2022-02-03T16:02:00.965Z"
   },
   {
    "duration": 49,
    "start_time": "2022-02-03T16:02:00.981Z"
   },
   {
    "duration": 27,
    "start_time": "2022-02-03T16:02:01.033Z"
   },
   {
    "duration": 43,
    "start_time": "2022-02-03T16:02:01.063Z"
   },
   {
    "duration": 55,
    "start_time": "2022-02-03T16:02:01.109Z"
   },
   {
    "duration": 8,
    "start_time": "2022-02-03T16:02:01.166Z"
   },
   {
    "duration": 150,
    "start_time": "2022-02-03T16:03:45.688Z"
   },
   {
    "duration": 22,
    "start_time": "2022-02-03T16:03:53.927Z"
   },
   {
    "duration": 3,
    "start_time": "2022-02-03T16:04:11.728Z"
   },
   {
    "duration": 251,
    "start_time": "2022-02-03T16:04:11.734Z"
   },
   {
    "duration": 37,
    "start_time": "2022-02-03T16:04:11.988Z"
   },
   {
    "duration": 203,
    "start_time": "2022-02-03T16:04:12.028Z"
   },
   {
    "duration": 131,
    "start_time": "2022-02-03T16:04:12.233Z"
   },
   {
    "duration": 27,
    "start_time": "2022-02-03T16:04:12.366Z"
   },
   {
    "duration": 51,
    "start_time": "2022-02-03T16:04:12.396Z"
   },
   {
    "duration": 105,
    "start_time": "2022-02-03T16:04:12.451Z"
   },
   {
    "duration": 87,
    "start_time": "2022-02-03T16:04:12.559Z"
   },
   {
    "duration": 53,
    "start_time": "2022-02-03T16:04:12.659Z"
   },
   {
    "duration": 113,
    "start_time": "2022-02-03T16:04:12.715Z"
   },
   {
    "duration": 4,
    "start_time": "2022-02-03T16:04:12.831Z"
   },
   {
    "duration": 26,
    "start_time": "2022-02-03T16:04:12.838Z"
   },
   {
    "duration": 14,
    "start_time": "2022-02-03T16:04:12.866Z"
   },
   {
    "duration": 8,
    "start_time": "2022-02-03T16:04:12.883Z"
   },
   {
    "duration": 5,
    "start_time": "2022-02-03T16:04:12.894Z"
   },
   {
    "duration": 100,
    "start_time": "2022-02-03T16:04:12.901Z"
   },
   {
    "duration": 60,
    "start_time": "2022-02-03T16:04:13.004Z"
   },
   {
    "duration": 44,
    "start_time": "2022-02-03T16:04:13.066Z"
   },
   {
    "duration": 64,
    "start_time": "2022-02-03T16:04:13.113Z"
   },
   {
    "duration": 11,
    "start_time": "2022-02-03T16:04:13.180Z"
   },
   {
    "duration": 19,
    "start_time": "2022-02-03T16:04:13.193Z"
   },
   {
    "duration": 51,
    "start_time": "2022-02-03T16:04:13.218Z"
   },
   {
    "duration": 18,
    "start_time": "2022-02-03T16:04:13.272Z"
   },
   {
    "duration": 30,
    "start_time": "2022-02-03T16:04:13.293Z"
   },
   {
    "duration": 13,
    "start_time": "2022-02-03T16:04:13.358Z"
   },
   {
    "duration": 13,
    "start_time": "2022-02-03T16:04:13.373Z"
   },
   {
    "duration": 10,
    "start_time": "2022-02-03T16:04:13.388Z"
   },
   {
    "duration": 59,
    "start_time": "2022-02-03T16:04:13.401Z"
   },
   {
    "duration": 464,
    "start_time": "2022-02-03T16:04:34.367Z"
   },
   {
    "duration": 9713,
    "start_time": "2022-02-03T16:04:58.296Z"
   },
   {
    "duration": 9113,
    "start_time": "2022-02-03T16:05:11.176Z"
   },
   {
    "duration": 20,
    "start_time": "2022-02-03T16:05:31.878Z"
   },
   {
    "duration": 379,
    "start_time": "2022-02-03T16:09:58.691Z"
   },
   {
    "duration": 733,
    "start_time": "2022-02-03T16:10:05.301Z"
   },
   {
    "duration": 240,
    "start_time": "2022-02-03T16:10:06.037Z"
   },
   {
    "duration": 39,
    "start_time": "2022-02-03T16:10:06.280Z"
   },
   {
    "duration": 209,
    "start_time": "2022-02-03T16:10:06.322Z"
   },
   {
    "duration": 136,
    "start_time": "2022-02-03T16:10:06.534Z"
   },
   {
    "duration": 29,
    "start_time": "2022-02-03T16:10:06.673Z"
   },
   {
    "duration": 49,
    "start_time": "2022-02-03T16:10:06.705Z"
   },
   {
    "duration": 139,
    "start_time": "2022-02-03T16:10:06.759Z"
   },
   {
    "duration": 102,
    "start_time": "2022-02-03T16:10:06.902Z"
   },
   {
    "duration": 69,
    "start_time": "2022-02-03T16:10:07.007Z"
   },
   {
    "duration": 99,
    "start_time": "2022-02-03T16:10:07.079Z"
   },
   {
    "duration": 5,
    "start_time": "2022-02-03T16:10:07.180Z"
   },
   {
    "duration": 13,
    "start_time": "2022-02-03T16:10:07.187Z"
   },
   {
    "duration": 13,
    "start_time": "2022-02-03T16:10:07.202Z"
   },
   {
    "duration": 9,
    "start_time": "2022-02-03T16:10:07.218Z"
   },
   {
    "duration": 33,
    "start_time": "2022-02-03T16:10:07.229Z"
   },
   {
    "duration": 69,
    "start_time": "2022-02-03T16:10:07.264Z"
   },
   {
    "duration": 73,
    "start_time": "2022-02-03T16:10:07.335Z"
   },
   {
    "duration": 61,
    "start_time": "2022-02-03T16:10:07.411Z"
   },
   {
    "duration": 46,
    "start_time": "2022-02-03T16:10:07.474Z"
   },
   {
    "duration": 38,
    "start_time": "2022-02-03T16:10:07.522Z"
   },
   {
    "duration": 19,
    "start_time": "2022-02-03T16:10:07.562Z"
   },
   {
    "duration": 19,
    "start_time": "2022-02-03T16:10:07.586Z"
   },
   {
    "duration": 51,
    "start_time": "2022-02-03T16:10:07.608Z"
   },
   {
    "duration": 30,
    "start_time": "2022-02-03T16:10:07.662Z"
   },
   {
    "duration": 11,
    "start_time": "2022-02-03T16:10:07.694Z"
   },
   {
    "duration": 14,
    "start_time": "2022-02-03T16:10:07.708Z"
   },
   {
    "duration": 44,
    "start_time": "2022-02-03T16:10:07.724Z"
   },
   {
    "duration": 21,
    "start_time": "2022-02-03T16:10:07.770Z"
   },
   {
    "duration": 21,
    "start_time": "2022-02-03T16:10:07.793Z"
   },
   {
    "duration": 54,
    "start_time": "2022-02-03T16:10:07.817Z"
   },
   {
    "duration": 8,
    "start_time": "2022-02-03T16:10:07.874Z"
   },
   {
    "duration": 17,
    "start_time": "2022-02-03T16:10:48.224Z"
   },
   {
    "duration": 21,
    "start_time": "2022-02-03T16:11:30.343Z"
   },
   {
    "duration": 24,
    "start_time": "2022-02-03T16:11:32.713Z"
   },
   {
    "duration": 23,
    "start_time": "2022-02-03T16:11:46.071Z"
   },
   {
    "duration": 25,
    "start_time": "2022-02-03T16:13:58.465Z"
   },
   {
    "duration": 747,
    "start_time": "2022-02-03T16:14:13.577Z"
   },
   {
    "duration": 238,
    "start_time": "2022-02-03T16:14:14.327Z"
   },
   {
    "duration": 39,
    "start_time": "2022-02-03T16:14:14.569Z"
   },
   {
    "duration": 210,
    "start_time": "2022-02-03T16:14:14.611Z"
   },
   {
    "duration": 136,
    "start_time": "2022-02-03T16:14:14.823Z"
   },
   {
    "duration": 27,
    "start_time": "2022-02-03T16:14:14.961Z"
   },
   {
    "duration": 49,
    "start_time": "2022-02-03T16:14:14.990Z"
   },
   {
    "duration": 141,
    "start_time": "2022-02-03T16:14:15.043Z"
   },
   {
    "duration": 107,
    "start_time": "2022-02-03T16:14:15.187Z"
   },
   {
    "duration": 72,
    "start_time": "2022-02-03T16:14:15.297Z"
   },
   {
    "duration": 94,
    "start_time": "2022-02-03T16:14:15.372Z"
   },
   {
    "duration": 4,
    "start_time": "2022-02-03T16:14:15.469Z"
   },
   {
    "duration": 11,
    "start_time": "2022-02-03T16:14:15.476Z"
   },
   {
    "duration": 13,
    "start_time": "2022-02-03T16:14:15.489Z"
   },
   {
    "duration": 8,
    "start_time": "2022-02-03T16:14:15.505Z"
   },
   {
    "duration": 42,
    "start_time": "2022-02-03T16:14:15.516Z"
   },
   {
    "duration": 72,
    "start_time": "2022-02-03T16:14:15.561Z"
   },
   {
    "duration": 77,
    "start_time": "2022-02-03T16:14:15.636Z"
   },
   {
    "duration": 73,
    "start_time": "2022-02-03T16:14:15.716Z"
   },
   {
    "duration": 45,
    "start_time": "2022-02-03T16:14:15.792Z"
   },
   {
    "duration": 18,
    "start_time": "2022-02-03T16:14:15.859Z"
   },
   {
    "duration": 18,
    "start_time": "2022-02-03T16:14:15.879Z"
   },
   {
    "duration": 16,
    "start_time": "2022-02-03T16:14:15.902Z"
   },
   {
    "duration": 51,
    "start_time": "2022-02-03T16:14:15.921Z"
   },
   {
    "duration": 34,
    "start_time": "2022-02-03T16:14:15.975Z"
   },
   {
    "duration": 11,
    "start_time": "2022-02-03T16:14:16.011Z"
   },
   {
    "duration": 43,
    "start_time": "2022-02-03T16:14:16.025Z"
   },
   {
    "duration": 10,
    "start_time": "2022-02-03T16:14:16.071Z"
   },
   {
    "duration": 23,
    "start_time": "2022-02-03T16:14:16.084Z"
   },
   {
    "duration": 55,
    "start_time": "2022-02-03T16:14:16.109Z"
   },
   {
    "duration": 21,
    "start_time": "2022-02-03T16:14:16.166Z"
   },
   {
    "duration": 22,
    "start_time": "2022-02-03T16:14:16.189Z"
   },
   {
    "duration": 58,
    "start_time": "2022-02-03T16:14:16.213Z"
   },
   {
    "duration": 10,
    "start_time": "2022-02-03T16:14:16.274Z"
   },
   {
    "duration": 6,
    "start_time": "2022-02-03T16:21:33.869Z"
   },
   {
    "duration": 11,
    "start_time": "2022-02-03T16:24:03.733Z"
   },
   {
    "duration": 31,
    "start_time": "2022-02-03T16:24:09.476Z"
   },
   {
    "duration": 44,
    "start_time": "2022-02-03T16:24:43.446Z"
   },
   {
    "duration": 8,
    "start_time": "2022-02-03T16:26:01.630Z"
   },
   {
    "duration": 8,
    "start_time": "2022-02-03T16:26:25.774Z"
   },
   {
    "duration": 753,
    "start_time": "2022-02-03T16:26:47.095Z"
   },
   {
    "duration": 229,
    "start_time": "2022-02-03T16:26:47.850Z"
   },
   {
    "duration": 41,
    "start_time": "2022-02-03T16:26:48.082Z"
   },
   {
    "duration": 213,
    "start_time": "2022-02-03T16:26:48.126Z"
   },
   {
    "duration": 139,
    "start_time": "2022-02-03T16:26:48.341Z"
   },
   {
    "duration": 28,
    "start_time": "2022-02-03T16:26:48.482Z"
   },
   {
    "duration": 51,
    "start_time": "2022-02-03T16:26:48.512Z"
   },
   {
    "duration": 152,
    "start_time": "2022-02-03T16:26:48.567Z"
   },
   {
    "duration": 111,
    "start_time": "2022-02-03T16:26:48.722Z"
   },
   {
    "duration": 70,
    "start_time": "2022-02-03T16:26:48.835Z"
   },
   {
    "duration": 109,
    "start_time": "2022-02-03T16:26:48.907Z"
   },
   {
    "duration": 5,
    "start_time": "2022-02-03T16:26:49.018Z"
   },
   {
    "duration": 10,
    "start_time": "2022-02-03T16:26:49.025Z"
   },
   {
    "duration": 31,
    "start_time": "2022-02-03T16:26:49.037Z"
   },
   {
    "duration": 8,
    "start_time": "2022-02-03T16:26:49.070Z"
   },
   {
    "duration": 5,
    "start_time": "2022-02-03T16:26:49.080Z"
   },
   {
    "duration": 92,
    "start_time": "2022-02-03T16:26:49.087Z"
   },
   {
    "duration": 58,
    "start_time": "2022-02-03T16:26:49.182Z"
   },
   {
    "duration": 54,
    "start_time": "2022-02-03T16:26:49.243Z"
   },
   {
    "duration": 62,
    "start_time": "2022-02-03T16:26:49.299Z"
   },
   {
    "duration": 17,
    "start_time": "2022-02-03T16:26:49.363Z"
   },
   {
    "duration": 18,
    "start_time": "2022-02-03T16:26:49.382Z"
   },
   {
    "duration": 16,
    "start_time": "2022-02-03T16:26:49.405Z"
   },
   {
    "duration": 18,
    "start_time": "2022-02-03T16:26:49.460Z"
   },
   {
    "duration": 30,
    "start_time": "2022-02-03T16:26:49.480Z"
   },
   {
    "duration": 11,
    "start_time": "2022-02-03T16:26:49.513Z"
   },
   {
    "duration": 44,
    "start_time": "2022-02-03T16:26:49.526Z"
   },
   {
    "duration": 12,
    "start_time": "2022-02-03T16:26:49.572Z"
   },
   {
    "duration": 23,
    "start_time": "2022-02-03T16:26:49.587Z"
   },
   {
    "duration": 60,
    "start_time": "2022-02-03T16:26:49.613Z"
   },
   {
    "duration": 21,
    "start_time": "2022-02-03T16:26:49.675Z"
   },
   {
    "duration": 24,
    "start_time": "2022-02-03T16:26:49.698Z"
   },
   {
    "duration": 75,
    "start_time": "2022-02-03T16:26:49.725Z"
   },
   {
    "duration": 8,
    "start_time": "2022-02-03T16:26:49.802Z"
   },
   {
    "duration": 47,
    "start_time": "2022-02-03T16:26:49.812Z"
   },
   {
    "duration": 8,
    "start_time": "2022-02-03T16:26:49.862Z"
   },
   {
    "duration": 31,
    "start_time": "2022-02-03T16:29:47.127Z"
   },
   {
    "duration": 8771,
    "start_time": "2022-02-03T16:30:12.455Z"
   },
   {
    "duration": 723,
    "start_time": "2022-02-03T16:30:26.793Z"
   },
   {
    "duration": 229,
    "start_time": "2022-02-03T16:30:27.519Z"
   },
   {
    "duration": 42,
    "start_time": "2022-02-03T16:30:27.751Z"
   },
   {
    "duration": 233,
    "start_time": "2022-02-03T16:30:27.796Z"
   },
   {
    "duration": 133,
    "start_time": "2022-02-03T16:30:28.032Z"
   },
   {
    "duration": 26,
    "start_time": "2022-02-03T16:30:28.168Z"
   },
   {
    "duration": 42,
    "start_time": "2022-02-03T16:30:28.197Z"
   },
   {
    "duration": 140,
    "start_time": "2022-02-03T16:30:28.243Z"
   },
   {
    "duration": 109,
    "start_time": "2022-02-03T16:30:28.385Z"
   },
   {
    "duration": 69,
    "start_time": "2022-02-03T16:30:28.496Z"
   },
   {
    "duration": 99,
    "start_time": "2022-02-03T16:30:28.568Z"
   },
   {
    "duration": 4,
    "start_time": "2022-02-03T16:30:28.670Z"
   },
   {
    "duration": 15,
    "start_time": "2022-02-03T16:30:28.677Z"
   },
   {
    "duration": 17,
    "start_time": "2022-02-03T16:30:28.694Z"
   },
   {
    "duration": 7,
    "start_time": "2022-02-03T16:30:28.713Z"
   },
   {
    "duration": 10,
    "start_time": "2022-02-03T16:30:28.722Z"
   },
   {
    "duration": 91,
    "start_time": "2022-02-03T16:30:28.734Z"
   },
   {
    "duration": 76,
    "start_time": "2022-02-03T16:30:28.828Z"
   },
   {
    "duration": 55,
    "start_time": "2022-02-03T16:30:28.906Z"
   },
   {
    "duration": 48,
    "start_time": "2022-02-03T16:30:28.964Z"
   },
   {
    "duration": 18,
    "start_time": "2022-02-03T16:30:29.014Z"
   },
   {
    "duration": 40,
    "start_time": "2022-02-03T16:30:29.034Z"
   },
   {
    "duration": 19,
    "start_time": "2022-02-03T16:30:29.079Z"
   },
   {
    "duration": 21,
    "start_time": "2022-02-03T16:30:29.101Z"
   },
   {
    "duration": 61,
    "start_time": "2022-02-03T16:30:29.124Z"
   },
   {
    "duration": 11,
    "start_time": "2022-02-03T16:30:29.187Z"
   },
   {
    "duration": 13,
    "start_time": "2022-02-03T16:30:29.201Z"
   },
   {
    "duration": 46,
    "start_time": "2022-02-03T16:30:29.216Z"
   },
   {
    "duration": 23,
    "start_time": "2022-02-03T16:30:29.265Z"
   },
   {
    "duration": 20,
    "start_time": "2022-02-03T16:30:29.291Z"
   },
   {
    "duration": 68,
    "start_time": "2022-02-03T16:30:29.314Z"
   },
   {
    "duration": 36,
    "start_time": "2022-02-03T16:30:29.385Z"
   },
   {
    "duration": 75,
    "start_time": "2022-02-03T16:30:29.424Z"
   },
   {
    "duration": 8,
    "start_time": "2022-02-03T16:30:29.502Z"
   },
   {
    "duration": 60,
    "start_time": "2022-02-03T16:30:29.513Z"
   },
   {
    "duration": 19,
    "start_time": "2022-02-03T16:30:29.575Z"
   },
   {
    "duration": 9,
    "start_time": "2022-02-03T16:30:29.597Z"
   },
   {
    "duration": 11,
    "start_time": "2022-02-03T16:31:09.358Z"
   },
   {
    "duration": 771,
    "start_time": "2022-02-04T08:12:39.543Z"
   },
   {
    "duration": 219,
    "start_time": "2022-02-04T08:12:40.317Z"
   },
   {
    "duration": 47,
    "start_time": "2022-02-04T08:12:40.540Z"
   },
   {
    "duration": 198,
    "start_time": "2022-02-04T08:12:40.591Z"
   },
   {
    "duration": 127,
    "start_time": "2022-02-04T08:12:40.792Z"
   },
   {
    "duration": 27,
    "start_time": "2022-02-04T08:12:40.922Z"
   },
   {
    "duration": 42,
    "start_time": "2022-02-04T08:12:40.960Z"
   },
   {
    "duration": 141,
    "start_time": "2022-02-04T08:12:41.006Z"
   },
   {
    "duration": 111,
    "start_time": "2022-02-04T08:12:41.150Z"
   },
   {
    "duration": 60,
    "start_time": "2022-02-04T08:12:41.264Z"
   },
   {
    "duration": 105,
    "start_time": "2022-02-04T08:12:41.327Z"
   },
   {
    "duration": 6,
    "start_time": "2022-02-04T08:12:41.434Z"
   },
   {
    "duration": 10,
    "start_time": "2022-02-04T08:12:41.459Z"
   },
   {
    "duration": 13,
    "start_time": "2022-02-04T08:12:41.472Z"
   },
   {
    "duration": 9,
    "start_time": "2022-02-04T08:12:41.488Z"
   },
   {
    "duration": 5,
    "start_time": "2022-02-04T08:12:41.500Z"
   },
   {
    "duration": 112,
    "start_time": "2022-02-04T08:12:41.508Z"
   },
   {
    "duration": 77,
    "start_time": "2022-02-04T08:12:41.622Z"
   },
   {
    "duration": 58,
    "start_time": "2022-02-04T08:12:41.702Z"
   },
   {
    "duration": 44,
    "start_time": "2022-02-04T08:12:41.763Z"
   },
   {
    "duration": 19,
    "start_time": "2022-02-04T08:12:41.810Z"
   },
   {
    "duration": 43,
    "start_time": "2022-02-04T08:12:41.831Z"
   },
   {
    "duration": 16,
    "start_time": "2022-02-04T08:12:41.879Z"
   },
   {
    "duration": 18,
    "start_time": "2022-02-04T08:12:41.898Z"
   },
   {
    "duration": 66,
    "start_time": "2022-02-04T08:12:41.918Z"
   },
   {
    "duration": 11,
    "start_time": "2022-02-04T08:12:41.986Z"
   },
   {
    "duration": 13,
    "start_time": "2022-02-04T08:12:41.999Z"
   },
   {
    "duration": 45,
    "start_time": "2022-02-04T08:12:42.014Z"
   },
   {
    "duration": 23,
    "start_time": "2022-02-04T08:12:42.061Z"
   },
   {
    "duration": 19,
    "start_time": "2022-02-04T08:12:42.086Z"
   },
   {
    "duration": 51,
    "start_time": "2022-02-04T08:12:42.108Z"
   },
   {
    "duration": 21,
    "start_time": "2022-02-04T08:12:42.161Z"
   },
   {
    "duration": 34,
    "start_time": "2022-02-04T08:12:42.184Z"
   },
   {
    "duration": 8,
    "start_time": "2022-02-04T08:12:42.220Z"
   },
   {
    "duration": 34,
    "start_time": "2022-02-04T08:12:42.259Z"
   },
   {
    "duration": 20,
    "start_time": "2022-02-04T08:12:42.295Z"
   },
   {
    "duration": 41,
    "start_time": "2022-02-04T08:12:42.318Z"
   },
   {
    "duration": 4,
    "start_time": "2022-02-04T08:16:54.623Z"
   },
   {
    "duration": 8,
    "start_time": "2022-02-04T08:21:13.649Z"
   },
   {
    "duration": 57,
    "start_time": "2022-02-04T08:21:22.168Z"
   },
   {
    "duration": 17,
    "start_time": "2022-02-04T08:22:01.466Z"
   },
   {
    "duration": 22,
    "start_time": "2022-02-04T08:23:45.716Z"
   },
   {
    "duration": 134,
    "start_time": "2022-02-04T08:25:20.699Z"
   },
   {
    "duration": 14,
    "start_time": "2022-02-04T08:25:38.827Z"
   },
   {
    "duration": 14,
    "start_time": "2022-02-04T08:26:19.803Z"
   },
   {
    "duration": 15,
    "start_time": "2022-02-04T08:26:44.326Z"
   },
   {
    "duration": 31,
    "start_time": "2022-02-04T08:29:12.902Z"
   },
   {
    "duration": 21,
    "start_time": "2022-02-04T08:29:46.509Z"
   },
   {
    "duration": 30,
    "start_time": "2022-02-04T08:32:01.287Z"
   },
   {
    "duration": 28,
    "start_time": "2022-02-04T08:32:20.119Z"
   },
   {
    "duration": 29,
    "start_time": "2022-02-04T08:32:43.055Z"
   },
   {
    "duration": 27,
    "start_time": "2022-02-04T08:33:10.744Z"
   },
   {
    "duration": 28,
    "start_time": "2022-02-04T08:33:22.695Z"
   },
   {
    "duration": 29,
    "start_time": "2022-02-04T08:33:59.328Z"
   },
   {
    "duration": 30,
    "start_time": "2022-02-04T08:34:11.279Z"
   },
   {
    "duration": 27,
    "start_time": "2022-02-04T08:34:27.104Z"
   },
   {
    "duration": 31,
    "start_time": "2022-02-04T08:36:30.100Z"
   },
   {
    "duration": 29,
    "start_time": "2022-02-04T08:38:25.610Z"
   },
   {
    "duration": 7,
    "start_time": "2022-02-04T08:39:11.027Z"
   },
   {
    "duration": 7,
    "start_time": "2022-02-04T08:39:23.530Z"
   },
   {
    "duration": 17,
    "start_time": "2022-02-04T08:40:28.498Z"
   },
   {
    "duration": 16,
    "start_time": "2022-02-04T08:40:52.787Z"
   },
   {
    "duration": 184,
    "start_time": "2022-02-04T08:42:27.252Z"
   },
   {
    "duration": 18,
    "start_time": "2022-02-04T08:43:12.357Z"
   },
   {
    "duration": 127,
    "start_time": "2022-02-04T08:43:34.492Z"
   },
   {
    "duration": 129,
    "start_time": "2022-02-04T08:43:39.596Z"
   },
   {
    "duration": 45,
    "start_time": "2022-02-04T08:46:15.206Z"
   },
   {
    "duration": 12,
    "start_time": "2022-02-04T08:46:27.845Z"
   },
   {
    "duration": 8,
    "start_time": "2022-02-04T08:51:47.089Z"
   },
   {
    "duration": 8,
    "start_time": "2022-02-04T08:52:04.121Z"
   },
   {
    "duration": 20,
    "start_time": "2022-02-04T08:53:18.899Z"
   },
   {
    "duration": 451,
    "start_time": "2022-02-04T08:54:36.995Z"
   },
   {
    "duration": 377,
    "start_time": "2022-02-04T08:54:42.611Z"
   },
   {
    "duration": 353,
    "start_time": "2022-02-04T08:55:04.310Z"
   },
   {
    "duration": 392,
    "start_time": "2022-02-04T08:55:09.908Z"
   },
   {
    "duration": 21,
    "start_time": "2022-02-04T08:55:15.107Z"
   },
   {
    "duration": 20,
    "start_time": "2022-02-04T08:55:55.588Z"
   },
   {
    "duration": 786,
    "start_time": "2022-02-04T08:58:51.712Z"
   },
   {
    "duration": 226,
    "start_time": "2022-02-04T08:58:52.501Z"
   },
   {
    "duration": 55,
    "start_time": "2022-02-04T08:58:52.736Z"
   },
   {
    "duration": 29,
    "start_time": "2022-02-04T08:58:52.794Z"
   },
   {
    "duration": 203,
    "start_time": "2022-02-04T08:58:52.825Z"
   },
   {
    "duration": 30,
    "start_time": "2022-02-04T08:58:53.030Z"
   },
   {
    "duration": 126,
    "start_time": "2022-02-04T08:58:53.064Z"
   },
   {
    "duration": 27,
    "start_time": "2022-02-04T08:58:53.193Z"
   },
   {
    "duration": 45,
    "start_time": "2022-02-04T08:58:53.222Z"
   },
   {
    "duration": 134,
    "start_time": "2022-02-04T08:58:53.270Z"
   },
   {
    "duration": 103,
    "start_time": "2022-02-04T08:58:53.406Z"
   },
   {
    "duration": 67,
    "start_time": "2022-02-04T08:58:53.512Z"
   },
   {
    "duration": 97,
    "start_time": "2022-02-04T08:58:53.582Z"
   },
   {
    "duration": 4,
    "start_time": "2022-02-04T08:58:53.682Z"
   },
   {
    "duration": 12,
    "start_time": "2022-02-04T08:58:53.688Z"
   },
   {
    "duration": 13,
    "start_time": "2022-02-04T08:58:53.702Z"
   },
   {
    "duration": 8,
    "start_time": "2022-02-04T08:58:53.717Z"
   },
   {
    "duration": 34,
    "start_time": "2022-02-04T08:58:53.727Z"
   },
   {
    "duration": 68,
    "start_time": "2022-02-04T08:58:53.763Z"
   },
   {
    "duration": 77,
    "start_time": "2022-02-04T08:58:53.834Z"
   },
   {
    "duration": 55,
    "start_time": "2022-02-04T08:58:53.914Z"
   },
   {
    "duration": 43,
    "start_time": "2022-02-04T08:58:53.974Z"
   },
   {
    "duration": 16,
    "start_time": "2022-02-04T08:58:54.020Z"
   },
   {
    "duration": 19,
    "start_time": "2022-02-04T08:58:54.059Z"
   },
   {
    "duration": 23,
    "start_time": "2022-02-04T08:58:54.080Z"
   },
   {
    "duration": 21,
    "start_time": "2022-02-04T08:58:54.105Z"
   },
   {
    "duration": 31,
    "start_time": "2022-02-04T08:58:54.160Z"
   },
   {
    "duration": 12,
    "start_time": "2022-02-04T08:58:54.193Z"
   },
   {
    "duration": 52,
    "start_time": "2022-02-04T08:58:54.208Z"
   },
   {
    "duration": 11,
    "start_time": "2022-02-04T08:58:54.263Z"
   },
   {
    "duration": 25,
    "start_time": "2022-02-04T08:58:54.277Z"
   },
   {
    "duration": 55,
    "start_time": "2022-02-04T08:58:54.304Z"
   },
   {
    "duration": 21,
    "start_time": "2022-02-04T08:58:54.362Z"
   },
   {
    "duration": 28,
    "start_time": "2022-02-04T08:58:54.386Z"
   },
   {
    "duration": 71,
    "start_time": "2022-02-04T08:58:54.416Z"
   },
   {
    "duration": 9,
    "start_time": "2022-02-04T08:58:54.490Z"
   },
   {
    "duration": 64,
    "start_time": "2022-02-04T08:58:54.502Z"
   },
   {
    "duration": 53,
    "start_time": "2022-02-04T08:58:54.570Z"
   },
   {
    "duration": 38,
    "start_time": "2022-02-04T08:58:54.626Z"
   },
   {
    "duration": 5,
    "start_time": "2022-02-04T09:05:24.058Z"
   },
   {
    "duration": 3,
    "start_time": "2022-02-04T09:06:02.995Z"
   },
   {
    "duration": 450,
    "start_time": "2022-02-04T09:06:41.803Z"
   },
   {
    "duration": 9,
    "start_time": "2022-02-04T09:06:56.320Z"
   },
   {
    "duration": 11,
    "start_time": "2022-02-04T09:07:33.981Z"
   },
   {
    "duration": 7,
    "start_time": "2022-02-04T09:10:58.445Z"
   },
   {
    "duration": 363,
    "start_time": "2022-02-04T09:11:17.606Z"
   },
   {
    "duration": 9,
    "start_time": "2022-02-04T09:12:00.672Z"
   },
   {
    "duration": 1321,
    "start_time": "2022-02-04T09:13:14.721Z"
   },
   {
    "duration": 351,
    "start_time": "2022-02-04T09:13:24.382Z"
   },
   {
    "duration": 395,
    "start_time": "2022-02-04T09:14:34.695Z"
   },
   {
    "duration": 332,
    "start_time": "2022-02-04T09:15:25.608Z"
   },
   {
    "duration": 334,
    "start_time": "2022-02-04T09:15:56.384Z"
   },
   {
    "duration": 417,
    "start_time": "2022-02-04T09:17:15.121Z"
   },
   {
    "duration": 337,
    "start_time": "2022-02-04T09:18:04.969Z"
   },
   {
    "duration": 329,
    "start_time": "2022-02-04T09:18:51.130Z"
   },
   {
    "duration": 448,
    "start_time": "2022-02-04T09:18:55.938Z"
   },
   {
    "duration": 401,
    "start_time": "2022-02-04T09:19:01.938Z"
   },
   {
    "duration": 338,
    "start_time": "2022-02-04T09:19:15.938Z"
   },
   {
    "duration": 335,
    "start_time": "2022-02-04T09:20:36.170Z"
   },
   {
    "duration": 4,
    "start_time": "2022-02-04T09:25:29.510Z"
   },
   {
    "duration": -504,
    "start_time": "2022-02-04T09:26:03.626Z"
   },
   {
    "duration": 826,
    "start_time": "2022-02-04T09:26:11.589Z"
   },
   {
    "duration": 228,
    "start_time": "2022-02-04T09:26:12.418Z"
   },
   {
    "duration": 42,
    "start_time": "2022-02-04T09:26:12.649Z"
   },
   {
    "duration": 25,
    "start_time": "2022-02-04T09:26:12.694Z"
   },
   {
    "duration": 246,
    "start_time": "2022-02-04T09:26:12.721Z"
   },
   {
    "duration": 22,
    "start_time": "2022-02-04T09:26:12.970Z"
   },
   {
    "duration": 148,
    "start_time": "2022-02-04T09:26:12.995Z"
   },
   {
    "duration": 27,
    "start_time": "2022-02-04T09:26:13.149Z"
   },
   {
    "duration": 42,
    "start_time": "2022-02-04T09:26:13.178Z"
   },
   {
    "duration": 119,
    "start_time": "2022-02-04T09:26:13.222Z"
   },
   {
    "duration": 94,
    "start_time": "2022-02-04T09:26:13.343Z"
   },
   {
    "duration": 65,
    "start_time": "2022-02-04T09:26:13.440Z"
   },
   {
    "duration": 104,
    "start_time": "2022-02-04T09:26:13.507Z"
   },
   {
    "duration": 4,
    "start_time": "2022-02-04T09:26:13.614Z"
   },
   {
    "duration": 11,
    "start_time": "2022-02-04T09:26:13.620Z"
   },
   {
    "duration": 30,
    "start_time": "2022-02-04T09:26:13.633Z"
   },
   {
    "duration": 6,
    "start_time": "2022-02-04T09:26:13.665Z"
   },
   {
    "duration": 6,
    "start_time": "2022-02-04T09:26:13.673Z"
   },
   {
    "duration": 95,
    "start_time": "2022-02-04T09:26:13.681Z"
   },
   {
    "duration": 59,
    "start_time": "2022-02-04T09:26:13.778Z"
   },
   {
    "duration": 63,
    "start_time": "2022-02-04T09:26:13.839Z"
   },
   {
    "duration": 56,
    "start_time": "2022-02-04T09:26:13.904Z"
   },
   {
    "duration": 16,
    "start_time": "2022-02-04T09:26:13.965Z"
   },
   {
    "duration": 17,
    "start_time": "2022-02-04T09:26:13.984Z"
   },
   {
    "duration": 16,
    "start_time": "2022-02-04T09:26:14.004Z"
   },
   {
    "duration": 48,
    "start_time": "2022-02-04T09:26:14.023Z"
   },
   {
    "duration": 31,
    "start_time": "2022-02-04T09:26:14.073Z"
   },
   {
    "duration": 11,
    "start_time": "2022-02-04T09:26:14.106Z"
   },
   {
    "duration": 49,
    "start_time": "2022-02-04T09:26:14.119Z"
   },
   {
    "duration": 10,
    "start_time": "2022-02-04T09:26:14.170Z"
   },
   {
    "duration": 22,
    "start_time": "2022-02-04T09:26:14.182Z"
   },
   {
    "duration": 53,
    "start_time": "2022-02-04T09:26:14.206Z"
   },
   {
    "duration": 21,
    "start_time": "2022-02-04T09:26:14.261Z"
   },
   {
    "duration": 23,
    "start_time": "2022-02-04T09:26:14.284Z"
   },
   {
    "duration": 69,
    "start_time": "2022-02-04T09:26:14.309Z"
   },
   {
    "duration": 9,
    "start_time": "2022-02-04T09:26:14.381Z"
   },
   {
    "duration": 32,
    "start_time": "2022-02-04T09:26:14.393Z"
   },
   {
    "duration": 79,
    "start_time": "2022-02-04T09:26:14.427Z"
   },
   {
    "duration": 11,
    "start_time": "2022-02-04T09:26:14.509Z"
   },
   {
    "duration": 37,
    "start_time": "2022-02-04T09:26:14.523Z"
   },
   {
    "duration": 9,
    "start_time": "2022-02-04T09:26:14.562Z"
   },
   {
    "duration": 448,
    "start_time": "2022-02-04T09:26:14.574Z"
   },
   {
    "duration": 12,
    "start_time": "2022-02-04T09:26:15.025Z"
   },
   {
    "duration": 716,
    "start_time": "2022-02-04T09:26:34.398Z"
   },
   {
    "duration": 213,
    "start_time": "2022-02-04T09:26:35.117Z"
   },
   {
    "duration": 45,
    "start_time": "2022-02-04T09:26:35.333Z"
   },
   {
    "duration": 27,
    "start_time": "2022-02-04T09:26:35.381Z"
   },
   {
    "duration": 200,
    "start_time": "2022-02-04T09:26:35.410Z"
   },
   {
    "duration": 15,
    "start_time": "2022-02-04T09:26:35.613Z"
   },
   {
    "duration": 133,
    "start_time": "2022-02-04T09:26:35.630Z"
   },
   {
    "duration": 26,
    "start_time": "2022-02-04T09:26:35.767Z"
   },
   {
    "duration": 40,
    "start_time": "2022-02-04T09:26:35.796Z"
   },
   {
    "duration": 123,
    "start_time": "2022-02-04T09:26:35.838Z"
   },
   {
    "duration": 111,
    "start_time": "2022-02-04T09:26:35.964Z"
   },
   {
    "duration": 58,
    "start_time": "2022-02-04T09:26:36.078Z"
   },
   {
    "duration": 101,
    "start_time": "2022-02-04T09:26:36.139Z"
   },
   {
    "duration": 5,
    "start_time": "2022-02-04T09:26:36.242Z"
   },
   {
    "duration": 14,
    "start_time": "2022-02-04T09:26:36.261Z"
   },
   {
    "duration": 21,
    "start_time": "2022-02-04T09:26:36.278Z"
   },
   {
    "duration": 9,
    "start_time": "2022-02-04T09:26:36.302Z"
   },
   {
    "duration": 8,
    "start_time": "2022-02-04T09:26:36.314Z"
   },
   {
    "duration": 98,
    "start_time": "2022-02-04T09:26:36.325Z"
   },
   {
    "duration": 76,
    "start_time": "2022-02-04T09:26:36.425Z"
   },
   {
    "duration": 42,
    "start_time": "2022-02-04T09:26:36.503Z"
   },
   {
    "duration": 42,
    "start_time": "2022-02-04T09:26:36.559Z"
   },
   {
    "duration": 16,
    "start_time": "2022-02-04T09:26:36.606Z"
   },
   {
    "duration": 39,
    "start_time": "2022-02-04T09:26:36.625Z"
   },
   {
    "duration": 18,
    "start_time": "2022-02-04T09:26:36.667Z"
   },
   {
    "duration": 18,
    "start_time": "2022-02-04T09:26:36.687Z"
   },
   {
    "duration": 60,
    "start_time": "2022-02-04T09:26:36.708Z"
   },
   {
    "duration": 11,
    "start_time": "2022-02-04T09:26:36.771Z"
   },
   {
    "duration": 12,
    "start_time": "2022-02-04T09:26:36.784Z"
   },
   {
    "duration": 10,
    "start_time": "2022-02-04T09:26:36.798Z"
   },
   {
    "duration": 62,
    "start_time": "2022-02-04T09:26:36.810Z"
   },
   {
    "duration": 20,
    "start_time": "2022-02-04T09:26:36.875Z"
   },
   {
    "duration": 21,
    "start_time": "2022-02-04T09:26:36.897Z"
   },
   {
    "duration": 53,
    "start_time": "2022-02-04T09:26:36.921Z"
   },
   {
    "duration": 35,
    "start_time": "2022-02-04T09:26:36.977Z"
   },
   {
    "duration": 9,
    "start_time": "2022-02-04T09:26:37.015Z"
   },
   {
    "duration": 68,
    "start_time": "2022-02-04T09:26:37.027Z"
   },
   {
    "duration": 80,
    "start_time": "2022-02-04T09:26:37.098Z"
   },
   {
    "duration": 14,
    "start_time": "2022-02-04T09:26:37.181Z"
   },
   {
    "duration": 13,
    "start_time": "2022-02-04T09:26:37.198Z"
   },
   {
    "duration": 46,
    "start_time": "2022-02-04T09:26:37.214Z"
   },
   {
    "duration": 456,
    "start_time": "2022-02-04T09:26:37.263Z"
   },
   {
    "duration": 12,
    "start_time": "2022-02-04T09:26:37.722Z"
   },
   {
    "duration": 8146,
    "start_time": "2022-02-04T09:26:54.069Z"
   },
   {
    "duration": 789,
    "start_time": "2022-02-04T09:27:16.548Z"
   },
   {
    "duration": 219,
    "start_time": "2022-02-04T09:27:17.340Z"
   },
   {
    "duration": 38,
    "start_time": "2022-02-04T09:27:17.562Z"
   },
   {
    "duration": 27,
    "start_time": "2022-02-04T09:27:17.603Z"
   },
   {
    "duration": 203,
    "start_time": "2022-02-04T09:27:17.632Z"
   },
   {
    "duration": 31,
    "start_time": "2022-02-04T09:27:17.837Z"
   },
   {
    "duration": 122,
    "start_time": "2022-02-04T09:27:17.871Z"
   },
   {
    "duration": 25,
    "start_time": "2022-02-04T09:27:17.997Z"
   },
   {
    "duration": 39,
    "start_time": "2022-02-04T09:27:18.025Z"
   },
   {
    "duration": 120,
    "start_time": "2022-02-04T09:27:18.067Z"
   },
   {
    "duration": 99,
    "start_time": "2022-02-04T09:27:18.190Z"
   },
   {
    "duration": 54,
    "start_time": "2022-02-04T09:27:18.291Z"
   },
   {
    "duration": 86,
    "start_time": "2022-02-04T09:27:18.359Z"
   },
   {
    "duration": 13,
    "start_time": "2022-02-04T09:27:18.448Z"
   },
   {
    "duration": 9,
    "start_time": "2022-02-04T09:27:18.463Z"
   },
   {
    "duration": 12,
    "start_time": "2022-02-04T09:27:18.474Z"
   },
   {
    "duration": 6,
    "start_time": "2022-02-04T09:27:18.489Z"
   },
   {
    "duration": 9,
    "start_time": "2022-02-04T09:27:18.497Z"
   },
   {
    "duration": 103,
    "start_time": "2022-02-04T09:27:18.509Z"
   },
   {
    "duration": 71,
    "start_time": "2022-02-04T09:27:18.615Z"
   },
   {
    "duration": 44,
    "start_time": "2022-02-04T09:27:18.688Z"
   },
   {
    "duration": 57,
    "start_time": "2022-02-04T09:27:18.734Z"
   },
   {
    "duration": 17,
    "start_time": "2022-02-04T09:27:18.796Z"
   },
   {
    "duration": 19,
    "start_time": "2022-02-04T09:27:18.815Z"
   },
   {
    "duration": 37,
    "start_time": "2022-02-04T09:27:18.836Z"
   },
   {
    "duration": 19,
    "start_time": "2022-02-04T09:27:18.875Z"
   },
   {
    "duration": 29,
    "start_time": "2022-02-04T09:27:18.896Z"
   },
   {
    "duration": 41,
    "start_time": "2022-02-04T09:27:18.927Z"
   },
   {
    "duration": 13,
    "start_time": "2022-02-04T09:27:18.970Z"
   },
   {
    "duration": 10,
    "start_time": "2022-02-04T09:27:18.985Z"
   },
   {
    "duration": 25,
    "start_time": "2022-02-04T09:27:18.997Z"
   },
   {
    "duration": 20,
    "start_time": "2022-02-04T09:27:19.061Z"
   },
   {
    "duration": 19,
    "start_time": "2022-02-04T09:27:19.084Z"
   },
   {
    "duration": 54,
    "start_time": "2022-02-04T09:27:19.106Z"
   },
   {
    "duration": 34,
    "start_time": "2022-02-04T09:27:19.162Z"
   },
   {
    "duration": 8,
    "start_time": "2022-02-04T09:27:19.199Z"
   },
   {
    "duration": 60,
    "start_time": "2022-02-04T09:27:19.209Z"
   },
   {
    "duration": 44,
    "start_time": "2022-02-04T09:27:19.271Z"
   },
   {
    "duration": 11,
    "start_time": "2022-02-04T09:27:19.317Z"
   },
   {
    "duration": 37,
    "start_time": "2022-02-04T09:27:19.330Z"
   },
   {
    "duration": 8,
    "start_time": "2022-02-04T09:27:19.369Z"
   },
   {
    "duration": 486,
    "start_time": "2022-02-04T09:27:19.379Z"
   },
   {
    "duration": 10,
    "start_time": "2022-02-04T09:27:19.868Z"
   },
   {
    "duration": 7,
    "start_time": "2022-02-04T09:28:35.571Z"
   },
   {
    "duration": 9,
    "start_time": "2022-02-04T09:35:58.687Z"
   },
   {
    "duration": 10,
    "start_time": "2022-02-04T09:36:37.288Z"
   },
   {
    "duration": 11,
    "start_time": "2022-02-04T09:37:19.934Z"
   },
   {
    "duration": 300,
    "start_time": "2022-02-04T09:37:36.049Z"
   },
   {
    "duration": 8,
    "start_time": "2022-02-04T09:39:03.017Z"
   },
   {
    "duration": 342,
    "start_time": "2022-02-04T09:39:46.037Z"
   },
   {
    "duration": 370,
    "start_time": "2022-02-04T09:39:51.833Z"
   },
   {
    "duration": 1023,
    "start_time": "2022-02-04T09:40:30.393Z"
   },
   {
    "duration": 227,
    "start_time": "2022-02-04T09:40:31.419Z"
   },
   {
    "duration": 42,
    "start_time": "2022-02-04T09:40:31.649Z"
   },
   {
    "duration": 27,
    "start_time": "2022-02-04T09:40:31.694Z"
   },
   {
    "duration": 204,
    "start_time": "2022-02-04T09:40:31.724Z"
   },
   {
    "duration": 28,
    "start_time": "2022-02-04T09:40:31.930Z"
   },
   {
    "duration": 126,
    "start_time": "2022-02-04T09:40:31.961Z"
   },
   {
    "duration": 27,
    "start_time": "2022-02-04T09:40:32.091Z"
   },
   {
    "duration": 42,
    "start_time": "2022-02-04T09:40:32.121Z"
   },
   {
    "duration": 140,
    "start_time": "2022-02-04T09:40:32.166Z"
   },
   {
    "duration": 106,
    "start_time": "2022-02-04T09:40:32.309Z"
   },
   {
    "duration": 71,
    "start_time": "2022-02-04T09:40:32.418Z"
   },
   {
    "duration": 99,
    "start_time": "2022-02-04T09:40:32.492Z"
   },
   {
    "duration": 4,
    "start_time": "2022-02-04T09:40:32.594Z"
   },
   {
    "duration": 10,
    "start_time": "2022-02-04T09:40:32.600Z"
   },
   {
    "duration": 11,
    "start_time": "2022-02-04T09:40:32.613Z"
   },
   {
    "duration": 33,
    "start_time": "2022-02-04T09:40:32.626Z"
   },
   {
    "duration": 6,
    "start_time": "2022-02-04T09:40:32.661Z"
   },
   {
    "duration": 68,
    "start_time": "2022-02-04T09:40:32.670Z"
   },
   {
    "duration": 79,
    "start_time": "2022-02-04T09:40:32.740Z"
   },
   {
    "duration": 60,
    "start_time": "2022-02-04T09:40:32.822Z"
   },
   {
    "duration": 51,
    "start_time": "2022-02-04T09:40:32.884Z"
   },
   {
    "duration": 34,
    "start_time": "2022-02-04T09:40:32.939Z"
   },
   {
    "duration": 18,
    "start_time": "2022-02-04T09:40:32.976Z"
   },
   {
    "duration": 17,
    "start_time": "2022-02-04T09:40:32.997Z"
   },
   {
    "duration": 51,
    "start_time": "2022-02-04T09:40:33.017Z"
   },
   {
    "duration": 28,
    "start_time": "2022-02-04T09:40:33.070Z"
   },
   {
    "duration": 10,
    "start_time": "2022-02-04T09:40:33.101Z"
   },
   {
    "duration": 14,
    "start_time": "2022-02-04T09:40:33.113Z"
   },
   {
    "duration": 12,
    "start_time": "2022-02-04T09:40:33.160Z"
   },
   {
    "duration": 25,
    "start_time": "2022-02-04T09:40:33.175Z"
   },
   {
    "duration": 20,
    "start_time": "2022-02-04T09:40:33.202Z"
   },
   {
    "duration": 54,
    "start_time": "2022-02-04T09:40:33.224Z"
   },
   {
    "duration": 24,
    "start_time": "2022-02-04T09:40:33.282Z"
   },
   {
    "duration": 75,
    "start_time": "2022-02-04T09:40:33.308Z"
   },
   {
    "duration": 9,
    "start_time": "2022-02-04T09:40:33.386Z"
   },
   {
    "duration": 34,
    "start_time": "2022-02-04T09:40:33.397Z"
   },
   {
    "duration": 45,
    "start_time": "2022-02-04T09:40:33.459Z"
   },
   {
    "duration": 11,
    "start_time": "2022-02-04T09:40:33.506Z"
   },
   {
    "duration": 7,
    "start_time": "2022-02-04T09:40:33.519Z"
   },
   {
    "duration": 42,
    "start_time": "2022-02-04T09:40:33.527Z"
   },
   {
    "duration": 439,
    "start_time": "2022-02-04T09:40:33.571Z"
   },
   {
    "duration": 317,
    "start_time": "2022-02-04T09:40:48.970Z"
   },
   {
    "duration": 329,
    "start_time": "2022-02-04T09:41:18.914Z"
   },
   {
    "duration": 384,
    "start_time": "2022-02-04T09:41:33.570Z"
   },
   {
    "duration": 337,
    "start_time": "2022-02-04T09:43:05.740Z"
   },
   {
    "duration": 6,
    "start_time": "2022-02-04T09:47:32.861Z"
   },
   {
    "duration": 479,
    "start_time": "2022-02-04T09:49:12.184Z"
   },
   {
    "duration": 5,
    "start_time": "2022-02-04T09:49:24.543Z"
   },
   {
    "duration": 127,
    "start_time": "2022-02-04T09:52:04.776Z"
   },
   {
    "duration": 6,
    "start_time": "2022-02-04T09:52:21.616Z"
   },
   {
    "duration": 5,
    "start_time": "2022-02-04T09:52:39.208Z"
   },
   {
    "duration": 5,
    "start_time": "2022-02-04T09:56:48.947Z"
   },
   {
    "duration": 8,
    "start_time": "2022-02-04T09:58:09.507Z"
   },
   {
    "duration": 6,
    "start_time": "2022-02-04T10:01:16.518Z"
   },
   {
    "duration": 6,
    "start_time": "2022-02-04T10:01:37.479Z"
   },
   {
    "duration": 10,
    "start_time": "2022-02-04T10:02:24.030Z"
   },
   {
    "duration": 11057,
    "start_time": "2022-02-04T10:02:50.534Z"
   },
   {
    "duration": 11,
    "start_time": "2022-02-04T10:03:10.807Z"
   },
   {
    "duration": 11187,
    "start_time": "2022-02-04T10:03:24.087Z"
   },
   {
    "duration": 5,
    "start_time": "2022-02-04T10:03:38.719Z"
   },
   {
    "duration": 5,
    "start_time": "2022-02-04T10:04:49.671Z"
   },
   {
    "duration": 6,
    "start_time": "2022-02-04T10:05:03.980Z"
   },
   {
    "duration": 6,
    "start_time": "2022-02-04T10:05:45.249Z"
   },
   {
    "duration": 7,
    "start_time": "2022-02-04T10:09:51.002Z"
   },
   {
    "duration": 6,
    "start_time": "2022-02-04T10:11:00.619Z"
   },
   {
    "duration": 8,
    "start_time": "2022-02-04T10:12:34.475Z"
   },
   {
    "duration": 7,
    "start_time": "2022-02-04T10:12:53.476Z"
   },
   {
    "duration": 10,
    "start_time": "2022-02-04T10:13:01.164Z"
   },
   {
    "duration": 371,
    "start_time": "2022-02-04T10:13:22.900Z"
   },
   {
    "duration": 418,
    "start_time": "2022-02-04T10:13:53.061Z"
   },
   {
    "duration": 6,
    "start_time": "2022-02-04T10:14:42.189Z"
   },
   {
    "duration": 359,
    "start_time": "2022-02-04T10:15:51.870Z"
   },
   {
    "duration": 366,
    "start_time": "2022-02-04T10:16:00.967Z"
   },
   {
    "duration": 354,
    "start_time": "2022-02-04T10:16:06.957Z"
   },
   {
    "duration": 5,
    "start_time": "2022-02-04T10:17:00.343Z"
   },
   {
    "duration": 338,
    "start_time": "2022-02-04T10:22:29.745Z"
   },
   {
    "duration": 335,
    "start_time": "2022-02-04T10:22:36.793Z"
   },
   {
    "duration": 6,
    "start_time": "2022-02-04T10:25:28.067Z"
   },
   {
    "duration": 10,
    "start_time": "2022-02-04T10:27:04.812Z"
   },
   {
    "duration": 352,
    "start_time": "2022-02-04T10:32:18.943Z"
   },
   {
    "duration": 374,
    "start_time": "2022-02-04T10:34:55.832Z"
   },
   {
    "duration": 419,
    "start_time": "2022-02-04T10:35:20.040Z"
   },
   {
    "duration": 367,
    "start_time": "2022-02-04T10:35:31.528Z"
   },
   {
    "duration": 336,
    "start_time": "2022-02-04T10:35:44.288Z"
   },
   {
    "duration": 345,
    "start_time": "2022-02-04T10:35:55.115Z"
   },
   {
    "duration": 341,
    "start_time": "2022-02-04T10:36:01.337Z"
   },
   {
    "duration": 887,
    "start_time": "2022-02-04T10:40:45.409Z"
   },
   {
    "duration": 300,
    "start_time": "2022-02-04T10:40:46.299Z"
   },
   {
    "duration": 39,
    "start_time": "2022-02-04T10:40:46.603Z"
   },
   {
    "duration": 30,
    "start_time": "2022-02-04T10:40:46.661Z"
   },
   {
    "duration": 212,
    "start_time": "2022-02-04T10:40:46.694Z"
   },
   {
    "duration": 18,
    "start_time": "2022-02-04T10:40:46.909Z"
   },
   {
    "duration": 150,
    "start_time": "2022-02-04T10:40:46.931Z"
   },
   {
    "duration": 27,
    "start_time": "2022-02-04T10:40:47.087Z"
   },
   {
    "duration": 42,
    "start_time": "2022-02-04T10:40:47.118Z"
   },
   {
    "duration": 141,
    "start_time": "2022-02-04T10:40:47.163Z"
   },
   {
    "duration": 103,
    "start_time": "2022-02-04T10:40:47.307Z"
   },
   {
    "duration": 67,
    "start_time": "2022-02-04T10:40:47.413Z"
   },
   {
    "duration": 106,
    "start_time": "2022-02-04T10:40:47.483Z"
   },
   {
    "duration": 6,
    "start_time": "2022-02-04T10:40:47.592Z"
   },
   {
    "duration": 11,
    "start_time": "2022-02-04T10:40:47.601Z"
   },
   {
    "duration": 15,
    "start_time": "2022-02-04T10:40:47.614Z"
   },
   {
    "duration": 33,
    "start_time": "2022-02-04T10:40:47.632Z"
   },
   {
    "duration": 5,
    "start_time": "2022-02-04T10:40:47.669Z"
   },
   {
    "duration": 103,
    "start_time": "2022-02-04T10:40:47.677Z"
   },
   {
    "duration": 62,
    "start_time": "2022-02-04T10:40:47.783Z"
   },
   {
    "duration": 44,
    "start_time": "2022-02-04T10:40:47.860Z"
   },
   {
    "duration": 72,
    "start_time": "2022-02-04T10:40:47.908Z"
   },
   {
    "duration": 16,
    "start_time": "2022-02-04T10:40:47.987Z"
   },
   {
    "duration": 18,
    "start_time": "2022-02-04T10:40:48.007Z"
   },
   {
    "duration": 45,
    "start_time": "2022-02-04T10:40:48.028Z"
   },
   {
    "duration": 21,
    "start_time": "2022-02-04T10:40:48.075Z"
   },
   {
    "duration": 34,
    "start_time": "2022-02-04T10:40:48.098Z"
   },
   {
    "duration": 32,
    "start_time": "2022-02-04T10:40:48.135Z"
   },
   {
    "duration": 13,
    "start_time": "2022-02-04T10:40:48.170Z"
   },
   {
    "duration": 10,
    "start_time": "2022-02-04T10:40:48.185Z"
   },
   {
    "duration": 60,
    "start_time": "2022-02-04T10:40:48.198Z"
   },
   {
    "duration": 20,
    "start_time": "2022-02-04T10:40:48.261Z"
   },
   {
    "duration": 20,
    "start_time": "2022-02-04T10:40:48.283Z"
   },
   {
    "duration": 56,
    "start_time": "2022-02-04T10:40:48.305Z"
   },
   {
    "duration": 35,
    "start_time": "2022-02-04T10:40:48.363Z"
   },
   {
    "duration": 7,
    "start_time": "2022-02-04T10:40:48.400Z"
   },
   {
    "duration": 64,
    "start_time": "2022-02-04T10:40:48.409Z"
   },
   {
    "duration": 45,
    "start_time": "2022-02-04T10:40:48.475Z"
   },
   {
    "duration": 11,
    "start_time": "2022-02-04T10:40:48.523Z"
   },
   {
    "duration": 7,
    "start_time": "2022-02-04T10:40:48.560Z"
   },
   {
    "duration": 12,
    "start_time": "2022-02-04T10:40:48.569Z"
   },
   {
    "duration": 449,
    "start_time": "2022-02-04T10:40:48.584Z"
   },
   {
    "duration": 338,
    "start_time": "2022-02-04T10:40:49.036Z"
   },
   {
    "duration": 337,
    "start_time": "2022-02-04T10:40:49.376Z"
   },
   {
    "duration": 5,
    "start_time": "2022-02-04T10:40:49.716Z"
   },
   {
    "duration": 9,
    "start_time": "2022-02-04T10:40:49.724Z"
   },
   {
    "duration": 34,
    "start_time": "2022-02-04T10:40:49.735Z"
   },
   {
    "duration": 406,
    "start_time": "2022-02-04T10:40:49.772Z"
   },
   {
    "duration": 340,
    "start_time": "2022-02-04T10:40:50.182Z"
   },
   {
    "duration": 356,
    "start_time": "2022-02-04T10:40:50.525Z"
   },
   {
    "duration": 7,
    "start_time": "2022-02-04T10:40:50.884Z"
   },
   {
    "duration": 7,
    "start_time": "2022-02-04T10:40:50.893Z"
   },
   {
    "duration": 6,
    "start_time": "2022-02-04T10:40:50.902Z"
   },
   {
    "duration": 10,
    "start_time": "2022-02-04T10:43:21.897Z"
   },
   {
    "duration": 5,
    "start_time": "2022-02-04T10:43:28.609Z"
   },
   {
    "duration": 318,
    "start_time": "2022-02-04T10:43:52.658Z"
   },
   {
    "duration": 343,
    "start_time": "2022-02-04T10:44:15.698Z"
   },
   {
    "duration": 358,
    "start_time": "2022-02-04T10:44:21.306Z"
   },
   {
    "duration": 340,
    "start_time": "2022-02-04T10:44:26.481Z"
   },
   {
    "duration": 365,
    "start_time": "2022-02-04T10:45:04.946Z"
   },
   {
    "duration": 6,
    "start_time": "2022-02-04T10:46:11.075Z"
   },
   {
    "duration": 7,
    "start_time": "2022-02-04T10:46:30.627Z"
   },
   {
    "duration": 6,
    "start_time": "2022-02-04T10:46:48.773Z"
   },
   {
    "duration": 6,
    "start_time": "2022-02-04T10:48:40.932Z"
   },
   {
    "duration": 6,
    "start_time": "2022-02-04T10:49:48.164Z"
   },
   {
    "duration": 5,
    "start_time": "2022-02-04T10:50:57.606Z"
   },
   {
    "duration": 371,
    "start_time": "2022-02-04T10:55:22.368Z"
   },
   {
    "duration": 353,
    "start_time": "2022-02-04T10:55:30.696Z"
   },
   {
    "duration": 9,
    "start_time": "2022-02-04T10:58:53.905Z"
   },
   {
    "duration": 339,
    "start_time": "2022-02-04T10:59:28.786Z"
   },
   {
    "duration": 6,
    "start_time": "2022-02-04T10:59:44.707Z"
   },
   {
    "duration": 446,
    "start_time": "2022-02-04T11:00:08.819Z"
   },
   {
    "duration": 352,
    "start_time": "2022-02-04T11:00:21.522Z"
   },
   {
    "duration": 5,
    "start_time": "2022-02-04T11:00:34.882Z"
   },
   {
    "duration": 344,
    "start_time": "2022-02-04T11:01:20.318Z"
   },
   {
    "duration": 346,
    "start_time": "2022-02-04T11:01:27.716Z"
   },
   {
    "duration": 322,
    "start_time": "2022-02-04T11:01:59.716Z"
   },
   {
    "duration": 5,
    "start_time": "2022-02-04T11:02:18.780Z"
   },
   {
    "duration": 135,
    "start_time": "2022-02-04T11:03:43.948Z"
   },
   {
    "duration": 7,
    "start_time": "2022-02-04T11:04:11.708Z"
   },
   {
    "duration": 10,
    "start_time": "2022-02-04T11:05:34.693Z"
   },
   {
    "duration": 770,
    "start_time": "2022-02-04T11:07:42.781Z"
   },
   {
    "duration": 227,
    "start_time": "2022-02-04T11:07:43.554Z"
   },
   {
    "duration": 39,
    "start_time": "2022-02-04T11:07:43.784Z"
   },
   {
    "duration": 49,
    "start_time": "2022-02-04T11:07:43.825Z"
   },
   {
    "duration": 190,
    "start_time": "2022-02-04T11:07:43.876Z"
   },
   {
    "duration": 16,
    "start_time": "2022-02-04T11:07:44.069Z"
   },
   {
    "duration": 147,
    "start_time": "2022-02-04T11:07:44.087Z"
   },
   {
    "duration": 27,
    "start_time": "2022-02-04T11:07:44.239Z"
   },
   {
    "duration": 43,
    "start_time": "2022-02-04T11:07:44.268Z"
   },
   {
    "duration": 125,
    "start_time": "2022-02-04T11:07:44.313Z"
   },
   {
    "duration": 106,
    "start_time": "2022-02-04T11:07:44.440Z"
   },
   {
    "duration": 65,
    "start_time": "2022-02-04T11:07:44.548Z"
   },
   {
    "duration": 103,
    "start_time": "2022-02-04T11:07:44.616Z"
   },
   {
    "duration": 4,
    "start_time": "2022-02-04T11:07:44.722Z"
   },
   {
    "duration": 10,
    "start_time": "2022-02-04T11:07:44.728Z"
   },
   {
    "duration": 27,
    "start_time": "2022-02-04T11:07:44.740Z"
   },
   {
    "duration": 9,
    "start_time": "2022-02-04T11:07:44.770Z"
   },
   {
    "duration": 4,
    "start_time": "2022-02-04T11:07:44.781Z"
   },
   {
    "duration": 95,
    "start_time": "2022-02-04T11:07:44.788Z"
   },
   {
    "duration": 74,
    "start_time": "2022-02-04T11:07:44.885Z"
   },
   {
    "duration": 43,
    "start_time": "2022-02-04T11:07:44.961Z"
   },
   {
    "duration": 68,
    "start_time": "2022-02-04T11:07:45.007Z"
   },
   {
    "duration": 17,
    "start_time": "2022-02-04T11:07:45.081Z"
   },
   {
    "duration": 18,
    "start_time": "2022-02-04T11:07:45.101Z"
   },
   {
    "duration": 40,
    "start_time": "2022-02-04T11:07:45.121Z"
   },
   {
    "duration": 20,
    "start_time": "2022-02-04T11:07:45.164Z"
   },
   {
    "duration": 30,
    "start_time": "2022-02-04T11:07:45.186Z"
   },
   {
    "duration": 47,
    "start_time": "2022-02-04T11:07:45.218Z"
   },
   {
    "duration": 15,
    "start_time": "2022-02-04T11:07:45.267Z"
   },
   {
    "duration": 12,
    "start_time": "2022-02-04T11:07:45.285Z"
   },
   {
    "duration": 65,
    "start_time": "2022-02-04T11:07:45.300Z"
   },
   {
    "duration": 22,
    "start_time": "2022-02-04T11:07:45.368Z"
   },
   {
    "duration": 23,
    "start_time": "2022-02-04T11:07:45.392Z"
   },
   {
    "duration": 56,
    "start_time": "2022-02-04T11:07:45.418Z"
   },
   {
    "duration": 34,
    "start_time": "2022-02-04T11:07:45.476Z"
   },
   {
    "duration": 7,
    "start_time": "2022-02-04T11:07:45.513Z"
   },
   {
    "duration": 63,
    "start_time": "2022-02-04T11:07:45.523Z"
   },
   {
    "duration": 56,
    "start_time": "2022-02-04T11:07:45.588Z"
   },
   {
    "duration": 24,
    "start_time": "2022-02-04T11:07:45.646Z"
   },
   {
    "duration": 7,
    "start_time": "2022-02-04T11:07:45.672Z"
   },
   {
    "duration": 18,
    "start_time": "2022-02-04T11:07:45.681Z"
   },
   {
    "duration": 447,
    "start_time": "2022-02-04T11:07:45.701Z"
   },
   {
    "duration": 351,
    "start_time": "2022-02-04T11:07:46.151Z"
   },
   {
    "duration": 335,
    "start_time": "2022-02-04T11:07:46.504Z"
   },
   {
    "duration": 18,
    "start_time": "2022-02-04T11:07:46.842Z"
   },
   {
    "duration": 8,
    "start_time": "2022-02-04T11:07:46.863Z"
   },
   {
    "duration": 11,
    "start_time": "2022-02-04T11:07:46.874Z"
   },
   {
    "duration": 435,
    "start_time": "2022-02-04T11:07:46.888Z"
   },
   {
    "duration": 349,
    "start_time": "2022-02-04T11:07:47.326Z"
   },
   {
    "duration": 362,
    "start_time": "2022-02-04T11:07:47.678Z"
   },
   {
    "duration": 17,
    "start_time": "2022-02-04T11:07:48.043Z"
   },
   {
    "duration": 10,
    "start_time": "2022-02-04T11:07:48.062Z"
   },
   {
    "duration": 369,
    "start_time": "2022-02-04T11:07:48.075Z"
   },
   {
    "duration": 365,
    "start_time": "2022-02-04T11:07:48.447Z"
   },
   {
    "duration": 6,
    "start_time": "2022-02-04T11:07:48.814Z"
   },
   {
    "duration": 15,
    "start_time": "2022-02-04T11:07:48.822Z"
   },
   {
    "duration": 349,
    "start_time": "2022-02-04T11:07:48.840Z"
   },
   {
    "duration": 347,
    "start_time": "2022-02-04T11:07:49.192Z"
   },
   {
    "duration": 5,
    "start_time": "2022-02-04T11:07:49.542Z"
   },
   {
    "duration": 14,
    "start_time": "2022-02-04T11:07:49.549Z"
   },
   {
    "duration": 3,
    "start_time": "2022-02-04T11:13:10.434Z"
   },
   {
    "duration": 10,
    "start_time": "2022-02-04T11:14:23.770Z"
   },
   {
    "duration": 10,
    "start_time": "2022-02-04T11:14:32.883Z"
   },
   {
    "duration": 371,
    "start_time": "2022-02-04T11:15:24.955Z"
   },
   {
    "duration": 330,
    "start_time": "2022-02-04T11:15:30.580Z"
   },
   {
    "duration": 431,
    "start_time": "2022-02-04T11:15:50.092Z"
   },
   {
    "duration": 399,
    "start_time": "2022-02-04T11:15:55.628Z"
   },
   {
    "duration": 499,
    "start_time": "2022-02-04T11:16:04.252Z"
   },
   {
    "duration": 488,
    "start_time": "2022-02-04T11:16:26.342Z"
   },
   {
    "duration": 371,
    "start_time": "2022-02-04T11:16:31.547Z"
   },
   {
    "duration": 7,
    "start_time": "2022-02-04T11:17:29.676Z"
   },
   {
    "duration": 11,
    "start_time": "2022-02-04T11:18:24.364Z"
   },
   {
    "duration": 8,
    "start_time": "2022-02-04T11:20:07.664Z"
   },
   {
    "duration": 7,
    "start_time": "2022-02-04T11:20:14.223Z"
   },
   {
    "duration": 770,
    "start_time": "2022-02-04T11:20:21.164Z"
   },
   {
    "duration": 222,
    "start_time": "2022-02-04T11:20:21.937Z"
   },
   {
    "duration": 37,
    "start_time": "2022-02-04T11:20:22.162Z"
   },
   {
    "duration": 26,
    "start_time": "2022-02-04T11:20:22.202Z"
   },
   {
    "duration": 229,
    "start_time": "2022-02-04T11:20:22.231Z"
   },
   {
    "duration": 15,
    "start_time": "2022-02-04T11:20:22.462Z"
   },
   {
    "duration": 133,
    "start_time": "2022-02-04T11:20:22.480Z"
   },
   {
    "duration": 26,
    "start_time": "2022-02-04T11:20:22.617Z"
   },
   {
    "duration": 42,
    "start_time": "2022-02-04T11:20:22.646Z"
   },
   {
    "duration": 214,
    "start_time": "2022-02-04T11:20:22.690Z"
   },
   {
    "duration": 96,
    "start_time": "2022-02-04T11:20:22.907Z"
   },
   {
    "duration": 65,
    "start_time": "2022-02-04T11:20:23.005Z"
   },
   {
    "duration": 97,
    "start_time": "2022-02-04T11:20:23.072Z"
   },
   {
    "duration": 4,
    "start_time": "2022-02-04T11:20:23.171Z"
   },
   {
    "duration": 10,
    "start_time": "2022-02-04T11:20:23.177Z"
   },
   {
    "duration": 13,
    "start_time": "2022-02-04T11:20:23.189Z"
   },
   {
    "duration": 7,
    "start_time": "2022-02-04T11:20:23.205Z"
   },
   {
    "duration": 4,
    "start_time": "2022-02-04T11:20:23.214Z"
   },
   {
    "duration": 98,
    "start_time": "2022-02-04T11:20:23.220Z"
   },
   {
    "duration": 80,
    "start_time": "2022-02-04T11:20:23.321Z"
   },
   {
    "duration": 59,
    "start_time": "2022-02-04T11:20:23.403Z"
   },
   {
    "duration": 43,
    "start_time": "2022-02-04T11:20:23.465Z"
   },
   {
    "duration": 16,
    "start_time": "2022-02-04T11:20:23.513Z"
   },
   {
    "duration": 40,
    "start_time": "2022-02-04T11:20:23.532Z"
   },
   {
    "duration": 27,
    "start_time": "2022-02-04T11:20:23.576Z"
   },
   {
    "duration": 20,
    "start_time": "2022-02-04T11:20:23.606Z"
   },
   {
    "duration": 62,
    "start_time": "2022-02-04T11:20:23.629Z"
   },
   {
    "duration": 15,
    "start_time": "2022-02-04T11:20:23.694Z"
   },
   {
    "duration": 47,
    "start_time": "2022-02-04T11:20:23.712Z"
   },
   {
    "duration": 13,
    "start_time": "2022-02-04T11:20:23.762Z"
   },
   {
    "duration": 29,
    "start_time": "2022-02-04T11:20:23.778Z"
   },
   {
    "duration": 65,
    "start_time": "2022-02-04T11:20:23.810Z"
   },
   {
    "duration": 26,
    "start_time": "2022-02-04T11:20:23.879Z"
   },
   {
    "duration": 21,
    "start_time": "2022-02-04T11:20:23.907Z"
   },
   {
    "duration": 61,
    "start_time": "2022-02-04T11:20:23.930Z"
   },
   {
    "duration": 8,
    "start_time": "2022-02-04T11:20:23.993Z"
   },
   {
    "duration": 58,
    "start_time": "2022-02-04T11:20:24.004Z"
   },
   {
    "duration": 45,
    "start_time": "2022-02-04T11:20:24.064Z"
   },
   {
    "duration": 11,
    "start_time": "2022-02-04T11:20:24.111Z"
   },
   {
    "duration": 37,
    "start_time": "2022-02-04T11:20:24.124Z"
   },
   {
    "duration": 9,
    "start_time": "2022-02-04T11:20:24.163Z"
   },
   {
    "duration": 428,
    "start_time": "2022-02-04T11:20:24.174Z"
   },
   {
    "duration": 339,
    "start_time": "2022-02-04T11:20:24.604Z"
   },
   {
    "duration": 332,
    "start_time": "2022-02-04T11:20:24.946Z"
   },
   {
    "duration": 7,
    "start_time": "2022-02-04T11:20:25.281Z"
   },
   {
    "duration": 11,
    "start_time": "2022-02-04T11:20:25.291Z"
   },
   {
    "duration": 13,
    "start_time": "2022-02-04T11:20:25.304Z"
   },
   {
    "duration": 425,
    "start_time": "2022-02-04T11:20:25.319Z"
   },
   {
    "duration": 344,
    "start_time": "2022-02-04T11:20:25.747Z"
   },
   {
    "duration": 359,
    "start_time": "2022-02-04T11:20:26.093Z"
   },
   {
    "duration": 6,
    "start_time": "2022-02-04T11:20:26.459Z"
   },
   {
    "duration": 14,
    "start_time": "2022-02-04T11:20:26.467Z"
   },
   {
    "duration": 365,
    "start_time": "2022-02-04T11:20:26.484Z"
   },
   {
    "duration": 367,
    "start_time": "2022-02-04T11:20:26.851Z"
   },
   {
    "duration": 6,
    "start_time": "2022-02-04T11:20:27.220Z"
   },
   {
    "duration": 11,
    "start_time": "2022-02-04T11:20:27.228Z"
   },
   {
    "duration": 322,
    "start_time": "2022-02-04T11:20:27.260Z"
   },
   {
    "duration": 377,
    "start_time": "2022-02-04T11:20:27.585Z"
   },
   {
    "duration": 6,
    "start_time": "2022-02-04T11:20:27.964Z"
   },
   {
    "duration": 12,
    "start_time": "2022-02-04T11:20:27.972Z"
   },
   {
    "duration": 401,
    "start_time": "2022-02-04T11:20:27.986Z"
   },
   {
    "duration": 6,
    "start_time": "2022-02-04T11:20:28.390Z"
   },
   {
    "duration": 11,
    "start_time": "2022-02-04T11:20:28.398Z"
   },
   {
    "duration": 5,
    "start_time": "2022-02-04T11:20:28.412Z"
   },
   {
    "duration": 426,
    "start_time": "2022-02-04T11:21:10.174Z"
   },
   {
    "duration": 377,
    "start_time": "2022-02-04T11:21:17.462Z"
   },
   {
    "duration": 310,
    "start_time": "2022-02-04T11:21:36.422Z"
   },
   {
    "duration": 457,
    "start_time": "2022-02-04T11:21:46.967Z"
   },
   {
    "duration": 6,
    "start_time": "2022-02-04T11:22:35.663Z"
   },
   {
    "duration": 3,
    "start_time": "2022-02-04T11:34:59.510Z"
   },
   {
    "duration": 782,
    "start_time": "2022-02-04T11:49:49.697Z"
   },
   {
    "duration": 230,
    "start_time": "2022-02-04T11:49:50.483Z"
   },
   {
    "duration": 51,
    "start_time": "2022-02-04T11:49:50.716Z"
   },
   {
    "duration": 28,
    "start_time": "2022-02-04T11:49:50.769Z"
   },
   {
    "duration": 208,
    "start_time": "2022-02-04T11:49:50.799Z"
   },
   {
    "duration": 16,
    "start_time": "2022-02-04T11:49:51.010Z"
   },
   {
    "duration": 152,
    "start_time": "2022-02-04T11:49:51.029Z"
   },
   {
    "duration": 29,
    "start_time": "2022-02-04T11:49:51.184Z"
   },
   {
    "duration": 44,
    "start_time": "2022-02-04T11:49:51.216Z"
   },
   {
    "duration": 142,
    "start_time": "2022-02-04T11:49:51.262Z"
   },
   {
    "duration": 102,
    "start_time": "2022-02-04T11:49:51.406Z"
   },
   {
    "duration": 71,
    "start_time": "2022-02-04T11:49:51.511Z"
   },
   {
    "duration": 107,
    "start_time": "2022-02-04T11:49:51.585Z"
   },
   {
    "duration": 6,
    "start_time": "2022-02-04T11:49:51.694Z"
   },
   {
    "duration": 14,
    "start_time": "2022-02-04T11:49:51.703Z"
   },
   {
    "duration": 14,
    "start_time": "2022-02-04T11:49:51.719Z"
   },
   {
    "duration": 29,
    "start_time": "2022-02-04T11:49:51.735Z"
   },
   {
    "duration": 5,
    "start_time": "2022-02-04T11:49:51.767Z"
   },
   {
    "duration": 85,
    "start_time": "2022-02-04T11:49:51.775Z"
   },
   {
    "duration": 62,
    "start_time": "2022-02-04T11:49:51.863Z"
   },
   {
    "duration": 69,
    "start_time": "2022-02-04T11:49:51.928Z"
   },
   {
    "duration": 60,
    "start_time": "2022-02-04T11:49:51.999Z"
   },
   {
    "duration": 17,
    "start_time": "2022-02-04T11:49:52.065Z"
   },
   {
    "duration": 19,
    "start_time": "2022-02-04T11:49:52.086Z"
   },
   {
    "duration": 18,
    "start_time": "2022-02-04T11:49:52.107Z"
   },
   {
    "duration": 48,
    "start_time": "2022-02-04T11:49:52.127Z"
   },
   {
    "duration": 41,
    "start_time": "2022-02-04T11:49:52.177Z"
   },
   {
    "duration": 39,
    "start_time": "2022-02-04T11:49:52.220Z"
   },
   {
    "duration": 17,
    "start_time": "2022-02-04T11:49:52.262Z"
   },
   {
    "duration": 13,
    "start_time": "2022-02-04T11:49:52.281Z"
   },
   {
    "duration": 25,
    "start_time": "2022-02-04T11:49:52.296Z"
   },
   {
    "duration": 57,
    "start_time": "2022-02-04T11:49:52.323Z"
   },
   {
    "duration": 21,
    "start_time": "2022-02-04T11:49:52.382Z"
   },
   {
    "duration": 21,
    "start_time": "2022-02-04T11:49:52.405Z"
   },
   {
    "duration": 63,
    "start_time": "2022-02-04T11:49:52.429Z"
   },
   {
    "duration": 8,
    "start_time": "2022-02-04T11:49:52.494Z"
   },
   {
    "duration": 66,
    "start_time": "2022-02-04T11:49:52.504Z"
   },
   {
    "duration": 48,
    "start_time": "2022-02-04T11:49:52.572Z"
   },
   {
    "duration": 39,
    "start_time": "2022-02-04T11:49:52.622Z"
   },
   {
    "duration": 7,
    "start_time": "2022-02-04T11:49:52.663Z"
   },
   {
    "duration": 13,
    "start_time": "2022-02-04T11:49:52.673Z"
   },
   {
    "duration": 448,
    "start_time": "2022-02-04T11:49:52.689Z"
   },
   {
    "duration": 370,
    "start_time": "2022-02-04T11:49:53.139Z"
   },
   {
    "duration": 411,
    "start_time": "2022-02-04T11:49:53.511Z"
   },
   {
    "duration": 7,
    "start_time": "2022-02-04T11:49:53.924Z"
   },
   {
    "duration": 22,
    "start_time": "2022-02-04T11:49:53.933Z"
   },
   {
    "duration": 43,
    "start_time": "2022-02-04T11:49:53.957Z"
   },
   {
    "duration": 411,
    "start_time": "2022-02-04T11:49:54.002Z"
   },
   {
    "duration": 356,
    "start_time": "2022-02-04T11:49:54.416Z"
   },
   {
    "duration": 744,
    "start_time": "2022-02-04T11:49:54.774Z"
   },
   {
    "duration": 7,
    "start_time": "2022-02-04T11:49:55.521Z"
   },
   {
    "duration": 29,
    "start_time": "2022-02-04T11:49:55.531Z"
   },
   {
    "duration": 365,
    "start_time": "2022-02-04T11:49:55.563Z"
   },
   {
    "duration": 369,
    "start_time": "2022-02-04T11:49:55.932Z"
   },
   {
    "duration": 6,
    "start_time": "2022-02-04T11:49:56.304Z"
   },
   {
    "duration": 12,
    "start_time": "2022-02-04T11:49:56.313Z"
   },
   {
    "duration": 351,
    "start_time": "2022-02-04T11:49:56.328Z"
   },
   {
    "duration": 354,
    "start_time": "2022-02-04T11:49:56.682Z"
   },
   {
    "duration": 7,
    "start_time": "2022-02-04T11:49:57.039Z"
   },
   {
    "duration": 10,
    "start_time": "2022-02-04T11:49:57.059Z"
   },
   {
    "duration": 409,
    "start_time": "2022-02-04T11:49:57.071Z"
   },
   {
    "duration": 6,
    "start_time": "2022-02-04T11:49:57.483Z"
   },
   {
    "duration": 10,
    "start_time": "2022-02-04T11:49:57.491Z"
   },
   {
    "duration": 441,
    "start_time": "2022-02-04T11:49:57.504Z"
   },
   {
    "duration": 14,
    "start_time": "2022-02-04T11:49:57.948Z"
   },
   {
    "duration": 9,
    "start_time": "2022-02-04T11:49:57.965Z"
   },
   {
    "duration": 367,
    "start_time": "2022-02-04T12:00:36.303Z"
   },
   {
    "duration": 362,
    "start_time": "2022-02-04T12:01:59.535Z"
   },
   {
    "duration": 446,
    "start_time": "2022-02-04T12:02:07.583Z"
   },
   {
    "duration": 363,
    "start_time": "2022-02-04T12:02:13.607Z"
   },
   {
    "duration": 340,
    "start_time": "2022-02-04T12:02:26.719Z"
   },
   {
    "duration": 330,
    "start_time": "2022-02-04T12:02:46.552Z"
   },
   {
    "duration": 341,
    "start_time": "2022-02-04T12:03:12.367Z"
   },
   {
    "duration": 374,
    "start_time": "2022-02-04T12:03:19.359Z"
   },
   {
    "duration": 6,
    "start_time": "2022-02-04T12:17:55.187Z"
   },
   {
    "duration": 3,
    "start_time": "2022-02-04T12:18:21.874Z"
   },
   {
    "duration": 6,
    "start_time": "2022-02-04T12:18:50.929Z"
   },
   {
    "duration": 544,
    "start_time": "2022-02-04T12:28:31.312Z"
   },
   {
    "duration": 381,
    "start_time": "2022-02-04T12:30:44.175Z"
   },
   {
    "duration": 380,
    "start_time": "2022-02-04T12:32:28.347Z"
   },
   {
    "duration": 6,
    "start_time": "2022-02-04T12:32:38.640Z"
   },
   {
    "duration": 379,
    "start_time": "2022-02-04T12:32:55.392Z"
   },
   {
    "duration": 48,
    "start_time": "2022-02-04T12:33:00.804Z"
   },
   {
    "duration": 414,
    "start_time": "2022-02-04T12:33:16.095Z"
   },
   {
    "duration": 396,
    "start_time": "2022-02-04T12:33:27.610Z"
   },
   {
    "duration": 758,
    "start_time": "2022-02-04T12:36:16.103Z"
   },
   {
    "duration": 230,
    "start_time": "2022-02-04T12:36:16.864Z"
   },
   {
    "duration": 39,
    "start_time": "2022-02-04T12:36:17.097Z"
   },
   {
    "duration": 40,
    "start_time": "2022-02-04T12:36:17.139Z"
   },
   {
    "duration": 194,
    "start_time": "2022-02-04T12:36:17.181Z"
   },
   {
    "duration": 17,
    "start_time": "2022-02-04T12:36:17.377Z"
   },
   {
    "duration": 139,
    "start_time": "2022-02-04T12:36:17.397Z"
   },
   {
    "duration": 28,
    "start_time": "2022-02-04T12:36:17.540Z"
   },
   {
    "duration": 51,
    "start_time": "2022-02-04T12:36:17.572Z"
   },
   {
    "duration": 124,
    "start_time": "2022-02-04T12:36:17.625Z"
   },
   {
    "duration": 88,
    "start_time": "2022-02-04T12:36:17.751Z"
   },
   {
    "duration": 66,
    "start_time": "2022-02-04T12:36:17.841Z"
   },
   {
    "duration": 109,
    "start_time": "2022-02-04T12:36:17.910Z"
   },
   {
    "duration": 4,
    "start_time": "2022-02-04T12:36:18.022Z"
   },
   {
    "duration": 13,
    "start_time": "2022-02-04T12:36:18.028Z"
   },
   {
    "duration": 25,
    "start_time": "2022-02-04T12:36:18.044Z"
   },
   {
    "duration": 7,
    "start_time": "2022-02-04T12:36:18.071Z"
   },
   {
    "duration": 5,
    "start_time": "2022-02-04T12:36:18.080Z"
   },
   {
    "duration": 90,
    "start_time": "2022-02-04T12:36:18.087Z"
   },
   {
    "duration": 58,
    "start_time": "2022-02-04T12:36:18.180Z"
   },
   {
    "duration": 52,
    "start_time": "2022-02-04T12:36:18.241Z"
   },
   {
    "duration": 65,
    "start_time": "2022-02-04T12:36:18.296Z"
   },
   {
    "duration": 16,
    "start_time": "2022-02-04T12:36:18.367Z"
   },
   {
    "duration": 18,
    "start_time": "2022-02-04T12:36:18.386Z"
   },
   {
    "duration": 17,
    "start_time": "2022-02-04T12:36:18.406Z"
   },
   {
    "duration": 46,
    "start_time": "2022-02-04T12:36:18.426Z"
   },
   {
    "duration": 30,
    "start_time": "2022-02-04T12:36:18.474Z"
   },
   {
    "duration": 11,
    "start_time": "2022-02-04T12:36:18.506Z"
   },
   {
    "duration": 42,
    "start_time": "2022-02-04T12:36:18.519Z"
   },
   {
    "duration": 11,
    "start_time": "2022-02-04T12:36:18.563Z"
   },
   {
    "duration": 24,
    "start_time": "2022-02-04T12:36:18.576Z"
   },
   {
    "duration": 60,
    "start_time": "2022-02-04T12:36:18.603Z"
   },
   {
    "duration": 21,
    "start_time": "2022-02-04T12:36:18.666Z"
   },
   {
    "duration": 23,
    "start_time": "2022-02-04T12:36:18.689Z"
   },
   {
    "duration": 73,
    "start_time": "2022-02-04T12:36:18.714Z"
   },
   {
    "duration": 8,
    "start_time": "2022-02-04T12:36:18.789Z"
   },
   {
    "duration": 35,
    "start_time": "2022-02-04T12:36:18.799Z"
   },
   {
    "duration": 48,
    "start_time": "2022-02-04T12:36:18.859Z"
   },
   {
    "duration": 10,
    "start_time": "2022-02-04T12:36:18.909Z"
   },
   {
    "duration": 7,
    "start_time": "2022-02-04T12:36:18.921Z"
   },
   {
    "duration": 37,
    "start_time": "2022-02-04T12:36:18.930Z"
   },
   {
    "duration": 430,
    "start_time": "2022-02-04T12:36:18.969Z"
   },
   {
    "duration": 338,
    "start_time": "2022-02-04T12:36:19.402Z"
   },
   {
    "duration": 348,
    "start_time": "2022-02-04T12:36:19.742Z"
   },
   {
    "duration": 7,
    "start_time": "2022-02-04T12:36:20.092Z"
   },
   {
    "duration": 7,
    "start_time": "2022-02-04T12:36:20.101Z"
   },
   {
    "duration": 9,
    "start_time": "2022-02-04T12:36:20.110Z"
   },
   {
    "duration": 37,
    "start_time": "2022-02-04T12:36:20.122Z"
   },
   {
    "duration": 386,
    "start_time": "2022-02-04T12:36:20.161Z"
   },
   {
    "duration": 334,
    "start_time": "2022-02-04T12:36:20.550Z"
   },
   {
    "duration": 376,
    "start_time": "2022-02-04T12:36:20.886Z"
   },
   {
    "duration": 6,
    "start_time": "2022-02-04T12:36:21.264Z"
   },
   {
    "duration": 6,
    "start_time": "2022-02-04T12:36:21.272Z"
   },
   {
    "duration": 9,
    "start_time": "2022-02-04T12:36:21.281Z"
   },
   {
    "duration": 390,
    "start_time": "2022-02-04T12:36:21.293Z"
   },
   {
    "duration": 359,
    "start_time": "2022-02-04T12:36:21.686Z"
   },
   {
    "duration": 14,
    "start_time": "2022-02-04T12:36:22.048Z"
   },
   {
    "duration": 12,
    "start_time": "2022-02-04T12:36:22.065Z"
   },
   {
    "duration": 359,
    "start_time": "2022-02-04T12:36:22.080Z"
   },
   {
    "duration": 356,
    "start_time": "2022-02-04T12:36:22.442Z"
   },
   {
    "duration": 6,
    "start_time": "2022-02-04T12:36:22.802Z"
   },
   {
    "duration": 9,
    "start_time": "2022-02-04T12:36:22.811Z"
   },
   {
    "duration": 392,
    "start_time": "2022-02-04T12:36:22.823Z"
   },
   {
    "duration": 6,
    "start_time": "2022-02-04T12:36:23.217Z"
   },
   {
    "duration": 10,
    "start_time": "2022-02-04T12:36:23.226Z"
   },
   {
    "duration": 330,
    "start_time": "2022-02-04T12:36:23.260Z"
   },
   {
    "duration": 5,
    "start_time": "2022-02-04T12:36:23.593Z"
   },
   {
    "duration": 495,
    "start_time": "2022-02-04T12:36:23.609Z"
   },
   {
    "duration": -290,
    "start_time": "2022-02-04T12:36:24.397Z"
   },
   {
    "duration": -297,
    "start_time": "2022-02-04T12:36:24.405Z"
   },
   {
    "duration": 5,
    "start_time": "2022-02-04T12:36:44.736Z"
   },
   {
    "duration": 391,
    "start_time": "2022-02-04T12:36:48.159Z"
   },
   {
    "duration": 5,
    "start_time": "2022-02-04T12:44:02.261Z"
   },
   {
    "duration": 8,
    "start_time": "2022-02-04T12:44:11.541Z"
   },
   {
    "duration": 9,
    "start_time": "2022-02-04T12:44:43.252Z"
   },
   {
    "duration": 124,
    "start_time": "2022-02-04T12:46:53.878Z"
   },
   {
    "duration": 403,
    "start_time": "2022-02-04T12:47:10.621Z"
   },
   {
    "duration": 9,
    "start_time": "2022-02-04T12:47:18.862Z"
   },
   {
    "duration": 9,
    "start_time": "2022-02-04T12:48:23.152Z"
   },
   {
    "duration": 8,
    "start_time": "2022-02-04T12:48:43.862Z"
   },
   {
    "duration": 6,
    "start_time": "2022-02-04T12:50:13.480Z"
   },
   {
    "duration": 812,
    "start_time": "2022-02-04T12:50:41.998Z"
   },
   {
    "duration": 239,
    "start_time": "2022-02-04T12:50:42.814Z"
   },
   {
    "duration": 39,
    "start_time": "2022-02-04T12:50:43.055Z"
   },
   {
    "duration": 27,
    "start_time": "2022-02-04T12:50:43.097Z"
   },
   {
    "duration": 213,
    "start_time": "2022-02-04T12:50:43.126Z"
   },
   {
    "duration": 29,
    "start_time": "2022-02-04T12:50:43.341Z"
   },
   {
    "duration": 128,
    "start_time": "2022-02-04T12:50:43.372Z"
   },
   {
    "duration": 27,
    "start_time": "2022-02-04T12:50:43.503Z"
   },
   {
    "duration": 54,
    "start_time": "2022-02-04T12:50:43.533Z"
   },
   {
    "duration": 131,
    "start_time": "2022-02-04T12:50:43.590Z"
   },
   {
    "duration": 115,
    "start_time": "2022-02-04T12:50:43.724Z"
   },
   {
    "duration": 68,
    "start_time": "2022-02-04T12:50:43.841Z"
   },
   {
    "duration": 102,
    "start_time": "2022-02-04T12:50:43.912Z"
   },
   {
    "duration": 4,
    "start_time": "2022-02-04T12:50:44.016Z"
   },
   {
    "duration": 10,
    "start_time": "2022-02-04T12:50:44.022Z"
   },
   {
    "duration": 30,
    "start_time": "2022-02-04T12:50:44.034Z"
   },
   {
    "duration": 8,
    "start_time": "2022-02-04T12:50:44.066Z"
   },
   {
    "duration": 5,
    "start_time": "2022-02-04T12:50:44.076Z"
   },
   {
    "duration": 93,
    "start_time": "2022-02-04T12:50:44.083Z"
   },
   {
    "duration": 61,
    "start_time": "2022-02-04T12:50:44.178Z"
   },
   {
    "duration": 57,
    "start_time": "2022-02-04T12:50:44.241Z"
   },
   {
    "duration": 66,
    "start_time": "2022-02-04T12:50:44.301Z"
   },
   {
    "duration": 17,
    "start_time": "2022-02-04T12:50:44.374Z"
   },
   {
    "duration": 19,
    "start_time": "2022-02-04T12:50:44.395Z"
   },
   {
    "duration": 50,
    "start_time": "2022-02-04T12:50:44.417Z"
   },
   {
    "duration": 17,
    "start_time": "2022-02-04T12:50:44.470Z"
   },
   {
    "duration": 30,
    "start_time": "2022-02-04T12:50:44.490Z"
   },
   {
    "duration": 43,
    "start_time": "2022-02-04T12:50:44.523Z"
   },
   {
    "duration": 17,
    "start_time": "2022-02-04T12:50:44.568Z"
   },
   {
    "duration": 11,
    "start_time": "2022-02-04T12:50:44.588Z"
   },
   {
    "duration": 25,
    "start_time": "2022-02-04T12:50:44.602Z"
   },
   {
    "duration": 50,
    "start_time": "2022-02-04T12:50:44.629Z"
   },
   {
    "duration": 19,
    "start_time": "2022-02-04T12:50:44.681Z"
   },
   {
    "duration": 23,
    "start_time": "2022-02-04T12:50:44.702Z"
   },
   {
    "duration": 35,
    "start_time": "2022-02-04T12:50:44.759Z"
   },
   {
    "duration": 7,
    "start_time": "2022-02-04T12:50:44.796Z"
   },
   {
    "duration": 57,
    "start_time": "2022-02-04T12:50:44.805Z"
   },
   {
    "duration": 46,
    "start_time": "2022-02-04T12:50:44.864Z"
   },
   {
    "duration": 11,
    "start_time": "2022-02-04T12:50:44.912Z"
   },
   {
    "duration": 35,
    "start_time": "2022-02-04T12:50:44.926Z"
   },
   {
    "duration": 9,
    "start_time": "2022-02-04T12:50:44.964Z"
   },
   {
    "duration": 442,
    "start_time": "2022-02-04T12:50:44.976Z"
   },
   {
    "duration": 343,
    "start_time": "2022-02-04T12:50:45.421Z"
   },
   {
    "duration": 392,
    "start_time": "2022-02-04T12:50:45.768Z"
   },
   {
    "duration": 5,
    "start_time": "2022-02-04T12:50:46.163Z"
   },
   {
    "duration": 6,
    "start_time": "2022-02-04T12:50:46.171Z"
   },
   {
    "duration": 8,
    "start_time": "2022-02-04T12:50:46.180Z"
   },
   {
    "duration": 11,
    "start_time": "2022-02-04T12:50:46.190Z"
   },
   {
    "duration": 486,
    "start_time": "2022-02-04T12:50:46.203Z"
   },
   {
    "duration": 377,
    "start_time": "2022-02-04T12:50:46.691Z"
   },
   {
    "duration": 381,
    "start_time": "2022-02-04T12:50:47.070Z"
   },
   {
    "duration": 10,
    "start_time": "2022-02-04T12:50:47.453Z"
   },
   {
    "duration": 8,
    "start_time": "2022-02-04T12:50:47.466Z"
   },
   {
    "duration": 9,
    "start_time": "2022-02-04T12:50:47.476Z"
   },
   {
    "duration": 393,
    "start_time": "2022-02-04T12:50:47.487Z"
   },
   {
    "duration": 395,
    "start_time": "2022-02-04T12:50:47.883Z"
   },
   {
    "duration": 8,
    "start_time": "2022-02-04T12:50:48.281Z"
   },
   {
    "duration": 11,
    "start_time": "2022-02-04T12:50:48.292Z"
   },
   {
    "duration": 347,
    "start_time": "2022-02-04T12:50:48.305Z"
   },
   {
    "duration": 340,
    "start_time": "2022-02-04T12:50:48.655Z"
   },
   {
    "duration": 6,
    "start_time": "2022-02-04T12:50:48.997Z"
   },
   {
    "duration": 10,
    "start_time": "2022-02-04T12:50:49.005Z"
   },
   {
    "duration": 389,
    "start_time": "2022-02-04T12:50:49.017Z"
   },
   {
    "duration": 6,
    "start_time": "2022-02-04T12:50:49.408Z"
   },
   {
    "duration": 14,
    "start_time": "2022-02-04T12:50:49.416Z"
   },
   {
    "duration": 338,
    "start_time": "2022-02-04T12:50:49.433Z"
   },
   {
    "duration": 6,
    "start_time": "2022-02-04T12:50:49.773Z"
   },
   {
    "duration": 5,
    "start_time": "2022-02-04T12:50:49.786Z"
   },
   {
    "duration": 10,
    "start_time": "2022-02-04T12:50:49.793Z"
   },
   {
    "duration": 8,
    "start_time": "2022-02-04T12:50:49.805Z"
   },
   {
    "duration": 6,
    "start_time": "2022-02-04T12:52:56.936Z"
   },
   {
    "duration": 4,
    "start_time": "2022-02-04T12:53:04.160Z"
   },
   {
    "duration": 9,
    "start_time": "2022-02-04T12:53:23.584Z"
   },
   {
    "duration": 11,
    "start_time": "2022-02-04T12:53:38.521Z"
   },
   {
    "duration": 782,
    "start_time": "2022-02-04T12:54:12.983Z"
   },
   {
    "duration": 225,
    "start_time": "2022-02-04T12:54:13.767Z"
   },
   {
    "duration": 36,
    "start_time": "2022-02-04T12:54:13.995Z"
   },
   {
    "duration": 49,
    "start_time": "2022-02-04T12:54:14.034Z"
   },
   {
    "duration": 198,
    "start_time": "2022-02-04T12:54:14.086Z"
   },
   {
    "duration": 15,
    "start_time": "2022-02-04T12:54:14.287Z"
   },
   {
    "duration": 137,
    "start_time": "2022-02-04T12:54:14.304Z"
   },
   {
    "duration": 28,
    "start_time": "2022-02-04T12:54:14.445Z"
   },
   {
    "duration": 43,
    "start_time": "2022-02-04T12:54:14.476Z"
   },
   {
    "duration": 141,
    "start_time": "2022-02-04T12:54:14.522Z"
   },
   {
    "duration": 98,
    "start_time": "2022-02-04T12:54:14.665Z"
   },
   {
    "duration": 58,
    "start_time": "2022-02-04T12:54:14.765Z"
   },
   {
    "duration": 107,
    "start_time": "2022-02-04T12:54:14.825Z"
   },
   {
    "duration": 5,
    "start_time": "2022-02-04T12:54:14.934Z"
   },
   {
    "duration": 20,
    "start_time": "2022-02-04T12:54:14.941Z"
   },
   {
    "duration": 13,
    "start_time": "2022-02-04T12:54:14.963Z"
   },
   {
    "duration": 10,
    "start_time": "2022-02-04T12:54:14.978Z"
   },
   {
    "duration": 4,
    "start_time": "2022-02-04T12:54:14.990Z"
   },
   {
    "duration": 103,
    "start_time": "2022-02-04T12:54:14.997Z"
   },
   {
    "duration": 71,
    "start_time": "2022-02-04T12:54:15.102Z"
   },
   {
    "duration": 43,
    "start_time": "2022-02-04T12:54:15.176Z"
   },
   {
    "duration": 65,
    "start_time": "2022-02-04T12:54:15.221Z"
   },
   {
    "duration": 17,
    "start_time": "2022-02-04T12:54:15.292Z"
   },
   {
    "duration": 19,
    "start_time": "2022-02-04T12:54:15.313Z"
   },
   {
    "duration": 37,
    "start_time": "2022-02-04T12:54:15.334Z"
   },
   {
    "duration": 19,
    "start_time": "2022-02-04T12:54:15.373Z"
   },
   {
    "duration": 64,
    "start_time": "2022-02-04T12:54:15.395Z"
   },
   {
    "duration": 12,
    "start_time": "2022-02-04T12:54:15.461Z"
   },
   {
    "duration": 13,
    "start_time": "2022-02-04T12:54:15.476Z"
   },
   {
    "duration": 11,
    "start_time": "2022-02-04T12:54:15.491Z"
   },
   {
    "duration": 63,
    "start_time": "2022-02-04T12:54:15.504Z"
   },
   {
    "duration": 20,
    "start_time": "2022-02-04T12:54:15.570Z"
   },
   {
    "duration": 20,
    "start_time": "2022-02-04T12:54:15.593Z"
   },
   {
    "duration": 54,
    "start_time": "2022-02-04T12:54:15.615Z"
   },
   {
    "duration": 50,
    "start_time": "2022-02-04T12:54:15.672Z"
   },
   {
    "duration": 8,
    "start_time": "2022-02-04T12:54:15.725Z"
   },
   {
    "duration": 34,
    "start_time": "2022-02-04T12:54:15.760Z"
   },
   {
    "duration": 67,
    "start_time": "2022-02-04T12:54:15.797Z"
   },
   {
    "duration": 12,
    "start_time": "2022-02-04T12:54:15.866Z"
   },
   {
    "duration": 7,
    "start_time": "2022-02-04T12:54:15.881Z"
   },
   {
    "duration": 9,
    "start_time": "2022-02-04T12:54:15.891Z"
   },
   {
    "duration": 617,
    "start_time": "2022-02-04T12:54:15.903Z"
   },
   {
    "duration": 410,
    "start_time": "2022-02-04T12:54:16.523Z"
   },
   {
    "duration": 362,
    "start_time": "2022-02-04T12:54:16.935Z"
   },
   {
    "duration": 6,
    "start_time": "2022-02-04T12:54:17.299Z"
   },
   {
    "duration": 10,
    "start_time": "2022-02-04T12:54:17.307Z"
   },
   {
    "duration": 8,
    "start_time": "2022-02-04T12:54:17.320Z"
   },
   {
    "duration": 34,
    "start_time": "2022-02-04T12:54:17.331Z"
   },
   {
    "duration": 407,
    "start_time": "2022-02-04T12:54:17.367Z"
   },
   {
    "duration": 544,
    "start_time": "2022-02-04T12:54:17.776Z"
   },
   {
    "duration": 361,
    "start_time": "2022-02-04T12:54:18.323Z"
   },
   {
    "duration": 5,
    "start_time": "2022-02-04T12:54:18.687Z"
   },
   {
    "duration": 6,
    "start_time": "2022-02-04T12:54:18.695Z"
   },
   {
    "duration": 9,
    "start_time": "2022-02-04T12:54:18.704Z"
   },
   {
    "duration": 390,
    "start_time": "2022-02-04T12:54:18.715Z"
   },
   {
    "duration": 357,
    "start_time": "2022-02-04T12:54:19.107Z"
   },
   {
    "duration": 5,
    "start_time": "2022-02-04T12:54:19.467Z"
   },
   {
    "duration": 13,
    "start_time": "2022-02-04T12:54:19.475Z"
   },
   {
    "duration": 341,
    "start_time": "2022-02-04T12:54:19.490Z"
   },
   {
    "duration": 355,
    "start_time": "2022-02-04T12:54:19.833Z"
   },
   {
    "duration": 5,
    "start_time": "2022-02-04T12:54:20.191Z"
   },
   {
    "duration": 10,
    "start_time": "2022-02-04T12:54:20.199Z"
   },
   {
    "duration": 387,
    "start_time": "2022-02-04T12:54:20.212Z"
   },
   {
    "duration": 6,
    "start_time": "2022-02-04T12:54:20.602Z"
   },
   {
    "duration": 28,
    "start_time": "2022-02-04T12:54:20.610Z"
   },
   {
    "duration": 348,
    "start_time": "2022-02-04T12:54:20.640Z"
   },
   {
    "duration": 8,
    "start_time": "2022-02-04T12:54:20.991Z"
   },
   {
    "duration": 6,
    "start_time": "2022-02-04T12:54:21.008Z"
   },
   {
    "duration": 43,
    "start_time": "2022-02-04T12:54:21.017Z"
   },
   {
    "duration": 6,
    "start_time": "2022-02-04T12:54:21.062Z"
   },
   {
    "duration": 8,
    "start_time": "2022-02-04T12:58:08.011Z"
   },
   {
    "duration": 6,
    "start_time": "2022-02-04T12:58:48.676Z"
   },
   {
    "duration": 6,
    "start_time": "2022-02-04T12:59:33.293Z"
   },
   {
    "duration": 785,
    "start_time": "2022-02-04T12:59:46.816Z"
   },
   {
    "duration": 224,
    "start_time": "2022-02-04T12:59:47.604Z"
   },
   {
    "duration": 48,
    "start_time": "2022-02-04T12:59:47.831Z"
   },
   {
    "duration": 30,
    "start_time": "2022-02-04T12:59:47.881Z"
   },
   {
    "duration": 196,
    "start_time": "2022-02-04T12:59:47.914Z"
   },
   {
    "duration": 17,
    "start_time": "2022-02-04T12:59:48.113Z"
   },
   {
    "duration": 134,
    "start_time": "2022-02-04T12:59:48.132Z"
   },
   {
    "duration": 28,
    "start_time": "2022-02-04T12:59:48.271Z"
   },
   {
    "duration": 42,
    "start_time": "2022-02-04T12:59:48.301Z"
   },
   {
    "duration": 122,
    "start_time": "2022-02-04T12:59:48.345Z"
   },
   {
    "duration": 101,
    "start_time": "2022-02-04T12:59:48.469Z"
   },
   {
    "duration": 55,
    "start_time": "2022-02-04T12:59:48.572Z"
   },
   {
    "duration": 103,
    "start_time": "2022-02-04T12:59:48.629Z"
   },
   {
    "duration": 4,
    "start_time": "2022-02-04T12:59:48.735Z"
   },
   {
    "duration": 22,
    "start_time": "2022-02-04T12:59:48.741Z"
   },
   {
    "duration": 14,
    "start_time": "2022-02-04T12:59:48.765Z"
   },
   {
    "duration": 7,
    "start_time": "2022-02-04T12:59:48.781Z"
   },
   {
    "duration": 5,
    "start_time": "2022-02-04T12:59:48.790Z"
   },
   {
    "duration": 103,
    "start_time": "2022-02-04T12:59:48.798Z"
   },
   {
    "duration": 69,
    "start_time": "2022-02-04T12:59:48.903Z"
   },
   {
    "duration": 42,
    "start_time": "2022-02-04T12:59:48.974Z"
   },
   {
    "duration": 64,
    "start_time": "2022-02-04T12:59:49.018Z"
   },
   {
    "duration": 17,
    "start_time": "2022-02-04T12:59:49.088Z"
   },
   {
    "duration": 19,
    "start_time": "2022-02-04T12:59:49.108Z"
   },
   {
    "duration": 40,
    "start_time": "2022-02-04T12:59:49.129Z"
   },
   {
    "duration": 18,
    "start_time": "2022-02-04T12:59:49.171Z"
   },
   {
    "duration": 31,
    "start_time": "2022-02-04T12:59:49.191Z"
   },
   {
    "duration": 41,
    "start_time": "2022-02-04T12:59:49.224Z"
   },
   {
    "duration": 13,
    "start_time": "2022-02-04T12:59:49.267Z"
   },
   {
    "duration": 10,
    "start_time": "2022-02-04T12:59:49.283Z"
   },
   {
    "duration": 22,
    "start_time": "2022-02-04T12:59:49.296Z"
   },
   {
    "duration": 59,
    "start_time": "2022-02-04T12:59:49.321Z"
   },
   {
    "duration": 21,
    "start_time": "2022-02-04T12:59:49.382Z"
   },
   {
    "duration": 56,
    "start_time": "2022-02-04T12:59:49.405Z"
   },
   {
    "duration": 37,
    "start_time": "2022-02-04T12:59:49.463Z"
   },
   {
    "duration": 7,
    "start_time": "2022-02-04T12:59:49.502Z"
   },
   {
    "duration": 61,
    "start_time": "2022-02-04T12:59:49.511Z"
   },
   {
    "duration": 47,
    "start_time": "2022-02-04T12:59:49.574Z"
   },
   {
    "duration": 36,
    "start_time": "2022-02-04T12:59:49.623Z"
   },
   {
    "duration": 7,
    "start_time": "2022-02-04T12:59:49.661Z"
   },
   {
    "duration": 11,
    "start_time": "2022-02-04T12:59:49.670Z"
   },
   {
    "duration": 462,
    "start_time": "2022-02-04T12:59:49.683Z"
   },
   {
    "duration": 360,
    "start_time": "2022-02-04T12:59:50.147Z"
   },
   {
    "duration": 370,
    "start_time": "2022-02-04T12:59:50.509Z"
   },
   {
    "duration": 6,
    "start_time": "2022-02-04T12:59:50.882Z"
   },
   {
    "duration": 26,
    "start_time": "2022-02-04T12:59:50.890Z"
   },
   {
    "duration": 23,
    "start_time": "2022-02-04T12:59:50.920Z"
   },
   {
    "duration": 27,
    "start_time": "2022-02-04T12:59:50.946Z"
   },
   {
    "duration": 445,
    "start_time": "2022-02-04T12:59:50.975Z"
   },
   {
    "duration": 366,
    "start_time": "2022-02-04T12:59:51.423Z"
   },
   {
    "duration": 391,
    "start_time": "2022-02-04T12:59:51.793Z"
   },
   {
    "duration": 7,
    "start_time": "2022-02-04T12:59:52.186Z"
   },
   {
    "duration": 9,
    "start_time": "2022-02-04T12:59:52.195Z"
   },
   {
    "duration": 12,
    "start_time": "2022-02-04T12:59:52.206Z"
   },
   {
    "duration": 415,
    "start_time": "2022-02-04T12:59:52.220Z"
   },
   {
    "duration": 377,
    "start_time": "2022-02-04T12:59:52.638Z"
   },
   {
    "duration": 7,
    "start_time": "2022-02-04T12:59:53.017Z"
   },
   {
    "duration": 36,
    "start_time": "2022-02-04T12:59:53.027Z"
   },
   {
    "duration": 521,
    "start_time": "2022-02-04T12:59:53.066Z"
   },
   {
    "duration": 351,
    "start_time": "2022-02-04T12:59:53.590Z"
   },
   {
    "duration": 6,
    "start_time": "2022-02-04T12:59:53.944Z"
   },
   {
    "duration": 17,
    "start_time": "2022-02-04T12:59:53.952Z"
   },
   {
    "duration": 395,
    "start_time": "2022-02-04T12:59:53.972Z"
   },
   {
    "duration": 6,
    "start_time": "2022-02-04T12:59:54.369Z"
   },
   {
    "duration": 16,
    "start_time": "2022-02-04T12:59:54.378Z"
   },
   {
    "duration": 355,
    "start_time": "2022-02-04T12:59:54.396Z"
   },
   {
    "duration": 10,
    "start_time": "2022-02-04T12:59:54.753Z"
   },
   {
    "duration": 5,
    "start_time": "2022-02-04T12:59:54.770Z"
   },
   {
    "duration": 26,
    "start_time": "2022-02-04T12:59:54.777Z"
   },
   {
    "duration": 12,
    "start_time": "2022-02-04T12:59:54.805Z"
   },
   {
    "duration": 6,
    "start_time": "2022-02-04T13:00:31.429Z"
   },
   {
    "duration": 6,
    "start_time": "2022-02-04T13:01:14.053Z"
   },
   {
    "duration": 9,
    "start_time": "2022-02-04T13:01:20.046Z"
   },
   {
    "duration": 9,
    "start_time": "2022-02-04T13:02:02.726Z"
   },
   {
    "duration": 6,
    "start_time": "2022-02-04T13:02:09.422Z"
   },
   {
    "duration": 810,
    "start_time": "2022-02-04T13:02:19.528Z"
   },
   {
    "duration": 238,
    "start_time": "2022-02-04T13:02:20.340Z"
   },
   {
    "duration": 40,
    "start_time": "2022-02-04T13:02:20.581Z"
   },
   {
    "duration": 48,
    "start_time": "2022-02-04T13:02:20.623Z"
   },
   {
    "duration": 194,
    "start_time": "2022-02-04T13:02:20.673Z"
   },
   {
    "duration": 17,
    "start_time": "2022-02-04T13:02:20.870Z"
   },
   {
    "duration": 138,
    "start_time": "2022-02-04T13:02:20.890Z"
   },
   {
    "duration": 30,
    "start_time": "2022-02-04T13:02:21.034Z"
   },
   {
    "duration": 46,
    "start_time": "2022-02-04T13:02:21.068Z"
   },
   {
    "duration": 136,
    "start_time": "2022-02-04T13:02:21.117Z"
   },
   {
    "duration": 110,
    "start_time": "2022-02-04T13:02:21.259Z"
   },
   {
    "duration": 56,
    "start_time": "2022-02-04T13:02:21.371Z"
   },
   {
    "duration": 107,
    "start_time": "2022-02-04T13:02:21.430Z"
   },
   {
    "duration": 5,
    "start_time": "2022-02-04T13:02:21.539Z"
   },
   {
    "duration": 21,
    "start_time": "2022-02-04T13:02:21.546Z"
   },
   {
    "duration": 16,
    "start_time": "2022-02-04T13:02:21.569Z"
   },
   {
    "duration": 7,
    "start_time": "2022-02-04T13:02:21.587Z"
   },
   {
    "duration": 4,
    "start_time": "2022-02-04T13:02:21.597Z"
   },
   {
    "duration": 105,
    "start_time": "2022-02-04T13:02:21.604Z"
   },
   {
    "duration": 67,
    "start_time": "2022-02-04T13:02:21.712Z"
   },
   {
    "duration": 45,
    "start_time": "2022-02-04T13:02:21.782Z"
   },
   {
    "duration": 61,
    "start_time": "2022-02-04T13:02:21.829Z"
   },
   {
    "duration": 17,
    "start_time": "2022-02-04T13:02:21.896Z"
   },
   {
    "duration": 18,
    "start_time": "2022-02-04T13:02:21.917Z"
   },
   {
    "duration": 20,
    "start_time": "2022-02-04T13:02:21.958Z"
   },
   {
    "duration": 19,
    "start_time": "2022-02-04T13:02:21.981Z"
   },
   {
    "duration": 63,
    "start_time": "2022-02-04T13:02:22.002Z"
   },
   {
    "duration": 12,
    "start_time": "2022-02-04T13:02:22.067Z"
   },
   {
    "duration": 14,
    "start_time": "2022-02-04T13:02:22.081Z"
   },
   {
    "duration": 10,
    "start_time": "2022-02-04T13:02:22.097Z"
   },
   {
    "duration": 63,
    "start_time": "2022-02-04T13:02:22.110Z"
   },
   {
    "duration": 20,
    "start_time": "2022-02-04T13:02:22.175Z"
   },
   {
    "duration": 21,
    "start_time": "2022-02-04T13:02:22.197Z"
   },
   {
    "duration": 53,
    "start_time": "2022-02-04T13:02:22.220Z"
   },
   {
    "duration": 35,
    "start_time": "2022-02-04T13:02:22.276Z"
   },
   {
    "duration": 8,
    "start_time": "2022-02-04T13:02:22.313Z"
   },
   {
    "duration": 68,
    "start_time": "2022-02-04T13:02:22.323Z"
   },
   {
    "duration": 44,
    "start_time": "2022-02-04T13:02:22.394Z"
   },
   {
    "duration": 28,
    "start_time": "2022-02-04T13:02:22.440Z"
   },
   {
    "duration": 8,
    "start_time": "2022-02-04T13:02:22.470Z"
   },
   {
    "duration": 10,
    "start_time": "2022-02-04T13:02:22.480Z"
   },
   {
    "duration": 469,
    "start_time": "2022-02-04T13:02:22.492Z"
   },
   {
    "duration": 350,
    "start_time": "2022-02-04T13:02:22.963Z"
   },
   {
    "duration": 357,
    "start_time": "2022-02-04T13:02:23.316Z"
   },
   {
    "duration": 6,
    "start_time": "2022-02-04T13:02:23.676Z"
   },
   {
    "duration": 11,
    "start_time": "2022-02-04T13:02:23.684Z"
   },
   {
    "duration": 12,
    "start_time": "2022-02-04T13:02:23.697Z"
   },
   {
    "duration": 11,
    "start_time": "2022-02-04T13:02:23.711Z"
   },
   {
    "duration": 426,
    "start_time": "2022-02-04T13:02:23.724Z"
   },
   {
    "duration": 352,
    "start_time": "2022-02-04T13:02:24.153Z"
   },
   {
    "duration": 405,
    "start_time": "2022-02-04T13:02:24.508Z"
   },
   {
    "duration": 6,
    "start_time": "2022-02-04T13:02:24.915Z"
   },
   {
    "duration": 8,
    "start_time": "2022-02-04T13:02:24.923Z"
   },
   {
    "duration": 30,
    "start_time": "2022-02-04T13:02:24.933Z"
   },
   {
    "duration": 368,
    "start_time": "2022-02-04T13:02:24.965Z"
   },
   {
    "duration": 370,
    "start_time": "2022-02-04T13:02:25.336Z"
   },
   {
    "duration": 6,
    "start_time": "2022-02-04T13:02:25.709Z"
   },
   {
    "duration": 11,
    "start_time": "2022-02-04T13:02:25.717Z"
   },
   {
    "duration": 347,
    "start_time": "2022-02-04T13:02:25.731Z"
   },
   {
    "duration": 358,
    "start_time": "2022-02-04T13:02:26.080Z"
   },
   {
    "duration": 18,
    "start_time": "2022-02-04T13:02:26.441Z"
   },
   {
    "duration": 9,
    "start_time": "2022-02-04T13:02:26.462Z"
   },
   {
    "duration": 389,
    "start_time": "2022-02-04T13:02:26.474Z"
   },
   {
    "duration": 8,
    "start_time": "2022-02-04T13:02:26.866Z"
   },
   {
    "duration": 12,
    "start_time": "2022-02-04T13:02:26.876Z"
   },
   {
    "duration": 354,
    "start_time": "2022-02-04T13:02:26.890Z"
   },
   {
    "duration": 13,
    "start_time": "2022-02-04T13:02:27.246Z"
   },
   {
    "duration": 4,
    "start_time": "2022-02-04T13:02:27.267Z"
   },
   {
    "duration": 9,
    "start_time": "2022-02-04T13:02:27.273Z"
   },
   {
    "duration": 9,
    "start_time": "2022-02-04T13:02:27.284Z"
   },
   {
    "duration": 6,
    "start_time": "2022-02-04T13:42:02.516Z"
   },
   {
    "duration": 8,
    "start_time": "2022-02-04T13:42:11.555Z"
   },
   {
    "duration": 7,
    "start_time": "2022-02-04T13:44:41.823Z"
   },
   {
    "duration": 6,
    "start_time": "2022-02-04T13:47:12.542Z"
   },
   {
    "duration": 561,
    "start_time": "2022-02-04T13:47:58.294Z"
   },
   {
    "duration": 8,
    "start_time": "2022-02-04T13:48:12.943Z"
   },
   {
    "duration": 7,
    "start_time": "2022-02-04T13:48:26.167Z"
   },
   {
    "duration": 8,
    "start_time": "2022-02-04T13:48:52.879Z"
   },
   {
    "duration": 7,
    "start_time": "2022-02-04T13:49:27.615Z"
   },
   {
    "duration": 6,
    "start_time": "2022-02-04T13:49:33.183Z"
   },
   {
    "duration": 8,
    "start_time": "2022-02-04T13:49:53.362Z"
   },
   {
    "duration": 8,
    "start_time": "2022-02-04T13:50:02.441Z"
   },
   {
    "duration": 8,
    "start_time": "2022-02-04T13:50:13.641Z"
   },
   {
    "duration": 6,
    "start_time": "2022-02-04T13:50:22.888Z"
   },
   {
    "duration": 6,
    "start_time": "2022-02-04T13:50:32.344Z"
   },
   {
    "duration": 7,
    "start_time": "2022-02-04T13:51:24.489Z"
   },
   {
    "duration": 6,
    "start_time": "2022-02-04T13:51:49.970Z"
   },
   {
    "duration": 6,
    "start_time": "2022-02-04T13:52:01.249Z"
   },
   {
    "duration": 6,
    "start_time": "2022-02-04T13:53:47.010Z"
   },
   {
    "duration": 853,
    "start_time": "2022-02-04T13:54:01.549Z"
   },
   {
    "duration": 229,
    "start_time": "2022-02-04T13:54:02.405Z"
   },
   {
    "duration": 56,
    "start_time": "2022-02-04T13:54:02.638Z"
   },
   {
    "duration": 29,
    "start_time": "2022-02-04T13:54:02.697Z"
   },
   {
    "duration": 210,
    "start_time": "2022-02-04T13:54:02.728Z"
   },
   {
    "duration": 25,
    "start_time": "2022-02-04T13:54:02.941Z"
   },
   {
    "duration": 128,
    "start_time": "2022-02-04T13:54:02.968Z"
   },
   {
    "duration": 27,
    "start_time": "2022-02-04T13:54:03.100Z"
   },
   {
    "duration": 65,
    "start_time": "2022-02-04T13:54:03.132Z"
   },
   {
    "duration": 121,
    "start_time": "2022-02-04T13:54:03.200Z"
   },
   {
    "duration": 104,
    "start_time": "2022-02-04T13:54:03.324Z"
   },
   {
    "duration": 68,
    "start_time": "2022-02-04T13:54:03.431Z"
   },
   {
    "duration": 102,
    "start_time": "2022-02-04T13:54:03.502Z"
   },
   {
    "duration": 4,
    "start_time": "2022-02-04T13:54:03.606Z"
   },
   {
    "duration": 11,
    "start_time": "2022-02-04T13:54:03.613Z"
   },
   {
    "duration": 34,
    "start_time": "2022-02-04T13:54:03.626Z"
   },
   {
    "duration": 7,
    "start_time": "2022-02-04T13:54:03.662Z"
   },
   {
    "duration": 5,
    "start_time": "2022-02-04T13:54:03.671Z"
   },
   {
    "duration": 92,
    "start_time": "2022-02-04T13:54:03.678Z"
   },
   {
    "duration": 61,
    "start_time": "2022-02-04T13:54:03.772Z"
   },
   {
    "duration": 60,
    "start_time": "2022-02-04T13:54:03.835Z"
   },
   {
    "duration": 42,
    "start_time": "2022-02-04T13:54:03.898Z"
   },
   {
    "duration": 30,
    "start_time": "2022-02-04T13:54:03.945Z"
   },
   {
    "duration": 20,
    "start_time": "2022-02-04T13:54:03.979Z"
   },
   {
    "duration": 17,
    "start_time": "2022-02-04T13:54:04.001Z"
   },
   {
    "duration": 54,
    "start_time": "2022-02-04T13:54:04.021Z"
   },
   {
    "duration": 34,
    "start_time": "2022-02-04T13:54:04.077Z"
   },
   {
    "duration": 12,
    "start_time": "2022-02-04T13:54:04.113Z"
   },
   {
    "duration": 43,
    "start_time": "2022-02-04T13:54:04.128Z"
   },
   {
    "duration": 11,
    "start_time": "2022-02-04T13:54:04.174Z"
   },
   {
    "duration": 21,
    "start_time": "2022-02-04T13:54:04.188Z"
   },
   {
    "duration": 57,
    "start_time": "2022-02-04T13:54:04.212Z"
   },
   {
    "duration": 20,
    "start_time": "2022-02-04T13:54:04.272Z"
   },
   {
    "duration": 22,
    "start_time": "2022-02-04T13:54:04.295Z"
   },
   {
    "duration": 63,
    "start_time": "2022-02-04T13:54:04.319Z"
   },
   {
    "duration": 8,
    "start_time": "2022-02-04T13:54:04.384Z"
   },
   {
    "duration": 39,
    "start_time": "2022-02-04T13:54:04.394Z"
   },
   {
    "duration": 46,
    "start_time": "2022-02-04T13:54:04.459Z"
   },
   {
    "duration": 11,
    "start_time": "2022-02-04T13:54:04.507Z"
   },
   {
    "duration": 6,
    "start_time": "2022-02-04T13:54:04.520Z"
   },
   {
    "duration": 36,
    "start_time": "2022-02-04T13:54:04.528Z"
   },
   {
    "duration": 441,
    "start_time": "2022-02-04T13:54:04.566Z"
   },
   {
    "duration": 347,
    "start_time": "2022-02-04T13:54:05.009Z"
   },
   {
    "duration": 341,
    "start_time": "2022-02-04T13:54:05.359Z"
   },
   {
    "duration": 6,
    "start_time": "2022-02-04T13:54:05.702Z"
   },
   {
    "duration": 27,
    "start_time": "2022-02-04T13:54:05.710Z"
   },
   {
    "duration": 8,
    "start_time": "2022-02-04T13:54:05.740Z"
   },
   {
    "duration": 14,
    "start_time": "2022-02-04T13:54:05.750Z"
   },
   {
    "duration": 411,
    "start_time": "2022-02-04T13:54:05.766Z"
   },
   {
    "duration": 359,
    "start_time": "2022-02-04T13:54:06.179Z"
   },
   {
    "duration": 371,
    "start_time": "2022-02-04T13:54:06.540Z"
   },
   {
    "duration": 6,
    "start_time": "2022-02-04T13:54:06.913Z"
   },
   {
    "duration": 5,
    "start_time": "2022-02-04T13:54:06.921Z"
   },
   {
    "duration": 36,
    "start_time": "2022-02-04T13:54:06.928Z"
   },
   {
    "duration": 358,
    "start_time": "2022-02-04T13:54:06.966Z"
   },
   {
    "duration": 375,
    "start_time": "2022-02-04T13:54:07.327Z"
   },
   {
    "duration": 5,
    "start_time": "2022-02-04T13:54:07.705Z"
   },
   {
    "duration": 12,
    "start_time": "2022-02-04T13:54:07.713Z"
   },
   {
    "duration": 349,
    "start_time": "2022-02-04T13:54:07.728Z"
   },
   {
    "duration": 340,
    "start_time": "2022-02-04T13:54:08.082Z"
   },
   {
    "duration": 6,
    "start_time": "2022-02-04T13:54:08.424Z"
   },
   {
    "duration": 31,
    "start_time": "2022-02-04T13:54:08.433Z"
   },
   {
    "duration": 381,
    "start_time": "2022-02-04T13:54:08.466Z"
   },
   {
    "duration": 11,
    "start_time": "2022-02-04T13:54:08.850Z"
   },
   {
    "duration": 12,
    "start_time": "2022-02-04T13:54:08.864Z"
   },
   {
    "duration": 344,
    "start_time": "2022-02-04T13:54:08.878Z"
   },
   {
    "duration": 7,
    "start_time": "2022-02-04T13:54:09.224Z"
   },
   {
    "duration": 23,
    "start_time": "2022-02-04T13:54:09.238Z"
   },
   {
    "duration": 498,
    "start_time": "2022-02-04T13:54:09.263Z"
   },
   {
    "duration": -236,
    "start_time": "2022-02-04T13:54:10.000Z"
   },
   {
    "duration": 8,
    "start_time": "2022-02-04T13:54:53.711Z"
   },
   {
    "duration": 9,
    "start_time": "2022-02-04T13:55:43.359Z"
   },
   {
    "duration": 4,
    "start_time": "2022-02-04T13:57:53.376Z"
   },
   {
    "duration": 6,
    "start_time": "2022-02-04T13:58:14.864Z"
   },
   {
    "duration": 835,
    "start_time": "2022-02-04T13:58:23.242Z"
   },
   {
    "duration": 224,
    "start_time": "2022-02-04T13:58:24.080Z"
   },
   {
    "duration": 53,
    "start_time": "2022-02-04T13:58:24.307Z"
   },
   {
    "duration": 26,
    "start_time": "2022-02-04T13:58:24.363Z"
   },
   {
    "duration": 195,
    "start_time": "2022-02-04T13:58:24.391Z"
   },
   {
    "duration": 15,
    "start_time": "2022-02-04T13:58:24.588Z"
   },
   {
    "duration": 137,
    "start_time": "2022-02-04T13:58:24.606Z"
   },
   {
    "duration": 27,
    "start_time": "2022-02-04T13:58:24.747Z"
   },
   {
    "duration": 59,
    "start_time": "2022-02-04T13:58:24.777Z"
   },
   {
    "duration": 133,
    "start_time": "2022-02-04T13:58:24.839Z"
   },
   {
    "duration": 112,
    "start_time": "2022-02-04T13:58:24.974Z"
   },
   {
    "duration": 58,
    "start_time": "2022-02-04T13:58:25.088Z"
   },
   {
    "duration": 99,
    "start_time": "2022-02-04T13:58:25.160Z"
   },
   {
    "duration": 6,
    "start_time": "2022-02-04T13:58:25.262Z"
   },
   {
    "duration": 13,
    "start_time": "2022-02-04T13:58:25.270Z"
   },
   {
    "duration": 12,
    "start_time": "2022-02-04T13:58:25.285Z"
   },
   {
    "duration": 10,
    "start_time": "2022-02-04T13:58:25.300Z"
   },
   {
    "duration": 46,
    "start_time": "2022-02-04T13:58:25.313Z"
   },
   {
    "duration": 69,
    "start_time": "2022-02-04T13:58:25.362Z"
   },
   {
    "duration": 81,
    "start_time": "2022-02-04T13:58:25.434Z"
   },
   {
    "duration": 66,
    "start_time": "2022-02-04T13:58:25.518Z"
   },
   {
    "duration": 48,
    "start_time": "2022-02-04T13:58:25.587Z"
   },
   {
    "duration": 17,
    "start_time": "2022-02-04T13:58:25.662Z"
   },
   {
    "duration": 19,
    "start_time": "2022-02-04T13:58:25.684Z"
   },
   {
    "duration": 20,
    "start_time": "2022-02-04T13:58:25.706Z"
   },
   {
    "duration": 20,
    "start_time": "2022-02-04T13:58:25.761Z"
   },
   {
    "duration": 29,
    "start_time": "2022-02-04T13:58:25.783Z"
   },
   {
    "duration": 12,
    "start_time": "2022-02-04T13:58:25.814Z"
   },
   {
    "duration": 41,
    "start_time": "2022-02-04T13:58:25.828Z"
   },
   {
    "duration": 10,
    "start_time": "2022-02-04T13:58:25.872Z"
   },
   {
    "duration": 23,
    "start_time": "2022-02-04T13:58:25.884Z"
   },
   {
    "duration": 57,
    "start_time": "2022-02-04T13:58:25.910Z"
   },
   {
    "duration": 25,
    "start_time": "2022-02-04T13:58:25.970Z"
   },
   {
    "duration": 31,
    "start_time": "2022-02-04T13:58:25.997Z"
   },
   {
    "duration": 78,
    "start_time": "2022-02-04T13:58:26.031Z"
   },
   {
    "duration": 11,
    "start_time": "2022-02-04T13:58:26.111Z"
   },
   {
    "duration": 74,
    "start_time": "2022-02-04T13:58:26.124Z"
   },
   {
    "duration": 83,
    "start_time": "2022-02-04T13:58:26.201Z"
   },
   {
    "duration": 15,
    "start_time": "2022-02-04T13:58:26.287Z"
   },
   {
    "duration": 9,
    "start_time": "2022-02-04T13:58:26.305Z"
   },
   {
    "duration": 10,
    "start_time": "2022-02-04T13:58:26.317Z"
   },
   {
    "duration": 439,
    "start_time": "2022-02-04T13:58:26.359Z"
   },
   {
    "duration": 348,
    "start_time": "2022-02-04T13:58:26.800Z"
   },
   {
    "duration": 356,
    "start_time": "2022-02-04T13:58:27.150Z"
   },
   {
    "duration": 6,
    "start_time": "2022-02-04T13:58:27.509Z"
   },
   {
    "duration": 6,
    "start_time": "2022-02-04T13:58:27.518Z"
   },
   {
    "duration": 36,
    "start_time": "2022-02-04T13:58:27.527Z"
   },
   {
    "duration": 11,
    "start_time": "2022-02-04T13:58:27.565Z"
   },
   {
    "duration": 476,
    "start_time": "2022-02-04T13:58:27.578Z"
   },
   {
    "duration": 334,
    "start_time": "2022-02-04T13:58:28.060Z"
   },
   {
    "duration": 363,
    "start_time": "2022-02-04T13:58:28.396Z"
   },
   {
    "duration": 7,
    "start_time": "2022-02-04T13:58:28.761Z"
   },
   {
    "duration": 8,
    "start_time": "2022-02-04T13:58:28.770Z"
   },
   {
    "duration": 10,
    "start_time": "2022-02-04T13:58:28.780Z"
   },
   {
    "duration": 389,
    "start_time": "2022-02-04T13:58:28.792Z"
   },
   {
    "duration": 356,
    "start_time": "2022-02-04T13:58:29.184Z"
   },
   {
    "duration": 6,
    "start_time": "2022-02-04T13:58:29.542Z"
   },
   {
    "duration": 5,
    "start_time": "2022-02-04T13:58:29.560Z"
   },
   {
    "duration": 12,
    "start_time": "2022-02-04T13:58:29.568Z"
   },
   {
    "duration": 346,
    "start_time": "2022-02-04T13:58:29.583Z"
   },
   {
    "duration": 352,
    "start_time": "2022-02-04T13:58:29.931Z"
   },
   {
    "duration": 6,
    "start_time": "2022-02-04T13:58:30.285Z"
   },
   {
    "duration": 12,
    "start_time": "2022-02-04T13:58:30.293Z"
   },
   {
    "duration": 14,
    "start_time": "2022-02-04T13:58:30.308Z"
   },
   {
    "duration": 404,
    "start_time": "2022-02-04T13:58:30.325Z"
   },
   {
    "duration": 6,
    "start_time": "2022-02-04T13:58:30.732Z"
   },
   {
    "duration": 27,
    "start_time": "2022-02-04T13:58:30.740Z"
   },
   {
    "duration": 354,
    "start_time": "2022-02-04T13:58:30.774Z"
   },
   {
    "duration": 6,
    "start_time": "2022-02-04T13:58:31.132Z"
   },
   {
    "duration": 25,
    "start_time": "2022-02-04T13:58:31.141Z"
   },
   {
    "duration": 11,
    "start_time": "2022-02-04T13:58:31.169Z"
   },
   {
    "duration": 17,
    "start_time": "2022-02-04T13:58:31.183Z"
   },
   {
    "duration": 4,
    "start_time": "2022-02-04T14:01:13.902Z"
   },
   {
    "duration": 836,
    "start_time": "2022-02-04T14:01:20.330Z"
   },
   {
    "duration": 233,
    "start_time": "2022-02-04T14:01:21.169Z"
   },
   {
    "duration": 41,
    "start_time": "2022-02-04T14:01:21.405Z"
   },
   {
    "duration": 27,
    "start_time": "2022-02-04T14:01:21.461Z"
   },
   {
    "duration": 200,
    "start_time": "2022-02-04T14:01:21.491Z"
   },
   {
    "duration": 16,
    "start_time": "2022-02-04T14:01:21.693Z"
   },
   {
    "duration": 144,
    "start_time": "2022-02-04T14:01:21.712Z"
   },
   {
    "duration": 27,
    "start_time": "2022-02-04T14:01:21.860Z"
   },
   {
    "duration": 48,
    "start_time": "2022-02-04T14:01:21.891Z"
   },
   {
    "duration": 137,
    "start_time": "2022-02-04T14:01:21.942Z"
   },
   {
    "duration": 112,
    "start_time": "2022-02-04T14:01:22.081Z"
   },
   {
    "duration": 69,
    "start_time": "2022-02-04T14:01:22.195Z"
   },
   {
    "duration": 109,
    "start_time": "2022-02-04T14:01:22.267Z"
   },
   {
    "duration": 7,
    "start_time": "2022-02-04T14:01:22.378Z"
   },
   {
    "duration": 11,
    "start_time": "2022-02-04T14:01:22.388Z"
   },
   {
    "duration": 15,
    "start_time": "2022-02-04T14:01:22.402Z"
   },
   {
    "duration": 8,
    "start_time": "2022-02-04T14:01:22.419Z"
   },
   {
    "duration": 6,
    "start_time": "2022-02-04T14:01:22.459Z"
   },
   {
    "duration": 72,
    "start_time": "2022-02-04T14:01:22.467Z"
   },
   {
    "duration": 79,
    "start_time": "2022-02-04T14:01:22.541Z"
   },
   {
    "duration": 60,
    "start_time": "2022-02-04T14:01:22.622Z"
   },
   {
    "duration": 44,
    "start_time": "2022-02-04T14:01:22.684Z"
   },
   {
    "duration": 29,
    "start_time": "2022-02-04T14:01:22.734Z"
   },
   {
    "duration": 19,
    "start_time": "2022-02-04T14:01:22.767Z"
   },
   {
    "duration": 17,
    "start_time": "2022-02-04T14:01:22.788Z"
   },
   {
    "duration": 52,
    "start_time": "2022-02-04T14:01:22.807Z"
   },
   {
    "duration": 31,
    "start_time": "2022-02-04T14:01:22.863Z"
   },
   {
    "duration": 12,
    "start_time": "2022-02-04T14:01:22.897Z"
   },
   {
    "duration": 50,
    "start_time": "2022-02-04T14:01:22.911Z"
   },
   {
    "duration": 13,
    "start_time": "2022-02-04T14:01:22.964Z"
   },
   {
    "duration": 23,
    "start_time": "2022-02-04T14:01:22.979Z"
   },
   {
    "duration": 19,
    "start_time": "2022-02-04T14:01:23.004Z"
   },
   {
    "duration": 54,
    "start_time": "2022-02-04T14:01:23.026Z"
   },
   {
    "duration": 22,
    "start_time": "2022-02-04T14:01:23.082Z"
   },
   {
    "duration": 68,
    "start_time": "2022-02-04T14:01:23.107Z"
   },
   {
    "duration": 9,
    "start_time": "2022-02-04T14:01:23.177Z"
   },
   {
    "duration": 35,
    "start_time": "2022-02-04T14:01:23.188Z"
   },
   {
    "duration": 67,
    "start_time": "2022-02-04T14:01:23.225Z"
   },
   {
    "duration": 12,
    "start_time": "2022-02-04T14:01:23.295Z"
   },
   {
    "duration": 8,
    "start_time": "2022-02-04T14:01:23.309Z"
   },
   {
    "duration": 44,
    "start_time": "2022-02-04T14:01:23.319Z"
   },
   {
    "duration": 437,
    "start_time": "2022-02-04T14:01:23.365Z"
   },
   {
    "duration": 348,
    "start_time": "2022-02-04T14:01:23.805Z"
   },
   {
    "duration": 333,
    "start_time": "2022-02-04T14:01:24.159Z"
   },
   {
    "duration": 6,
    "start_time": "2022-02-04T14:01:24.495Z"
   },
   {
    "duration": 8,
    "start_time": "2022-02-04T14:01:24.504Z"
   },
   {
    "duration": 8,
    "start_time": "2022-02-04T14:01:24.514Z"
   },
   {
    "duration": 39,
    "start_time": "2022-02-04T14:01:24.525Z"
   },
   {
    "duration": 608,
    "start_time": "2022-02-04T14:01:24.567Z"
   },
   {
    "duration": 340,
    "start_time": "2022-02-04T14:01:25.178Z"
   },
   {
    "duration": 362,
    "start_time": "2022-02-04T14:01:25.520Z"
   },
   {
    "duration": 6,
    "start_time": "2022-02-04T14:01:25.885Z"
   },
   {
    "duration": 9,
    "start_time": "2022-02-04T14:01:25.893Z"
   },
   {
    "duration": 10,
    "start_time": "2022-02-04T14:01:25.904Z"
   },
   {
    "duration": 392,
    "start_time": "2022-02-04T14:01:25.916Z"
   },
   {
    "duration": 357,
    "start_time": "2022-02-04T14:01:26.310Z"
   },
   {
    "duration": 7,
    "start_time": "2022-02-04T14:01:26.669Z"
   },
   {
    "duration": 5,
    "start_time": "2022-02-04T14:01:26.679Z"
   },
   {
    "duration": 9,
    "start_time": "2022-02-04T14:01:26.686Z"
   },
   {
    "duration": 356,
    "start_time": "2022-02-04T14:01:26.698Z"
   },
   {
    "duration": 339,
    "start_time": "2022-02-04T14:01:27.060Z"
   },
   {
    "duration": 6,
    "start_time": "2022-02-04T14:01:27.401Z"
   },
   {
    "duration": 8,
    "start_time": "2022-02-04T14:01:27.410Z"
   },
   {
    "duration": 19,
    "start_time": "2022-02-04T14:01:27.421Z"
   },
   {
    "duration": 369,
    "start_time": "2022-02-04T14:01:27.458Z"
   },
   {
    "duration": 8,
    "start_time": "2022-02-04T14:01:27.830Z"
   },
   {
    "duration": 23,
    "start_time": "2022-02-04T14:01:27.841Z"
   },
   {
    "duration": 12,
    "start_time": "2022-02-04T14:01:27.872Z"
   },
   {
    "duration": 347,
    "start_time": "2022-02-04T14:01:27.887Z"
   },
   {
    "duration": 6,
    "start_time": "2022-02-04T14:01:28.237Z"
   },
   {
    "duration": 5,
    "start_time": "2022-02-04T14:01:28.260Z"
   },
   {
    "duration": 9,
    "start_time": "2022-02-04T14:01:28.268Z"
   },
   {
    "duration": 12,
    "start_time": "2022-02-04T14:01:28.279Z"
   },
   {
    "duration": 6,
    "start_time": "2022-02-04T14:01:28.294Z"
   },
   {
    "duration": 7,
    "start_time": "2022-02-04T14:02:07.133Z"
   },
   {
    "duration": 7,
    "start_time": "2022-02-04T14:03:13.557Z"
   },
   {
    "duration": 12,
    "start_time": "2022-02-04T14:12:02.794Z"
   },
   {
    "duration": 12,
    "start_time": "2022-02-04T14:12:29.434Z"
   },
   {
    "duration": 4,
    "start_time": "2022-02-04T14:50:57.522Z"
   },
   {
    "duration": 783,
    "start_time": "2022-02-04T14:51:36.219Z"
   },
   {
    "duration": 222,
    "start_time": "2022-02-04T14:51:37.005Z"
   },
   {
    "duration": 47,
    "start_time": "2022-02-04T14:51:37.230Z"
   },
   {
    "duration": 27,
    "start_time": "2022-02-04T14:51:37.281Z"
   },
   {
    "duration": 218,
    "start_time": "2022-02-04T14:51:37.311Z"
   },
   {
    "duration": 31,
    "start_time": "2022-02-04T14:51:37.532Z"
   },
   {
    "duration": 127,
    "start_time": "2022-02-04T14:51:37.565Z"
   },
   {
    "duration": 26,
    "start_time": "2022-02-04T14:51:37.696Z"
   },
   {
    "duration": 41,
    "start_time": "2022-02-04T14:51:37.726Z"
   },
   {
    "duration": 136,
    "start_time": "2022-02-04T14:51:37.770Z"
   },
   {
    "duration": 102,
    "start_time": "2022-02-04T14:51:37.908Z"
   },
   {
    "duration": 72,
    "start_time": "2022-02-04T14:51:38.012Z"
   },
   {
    "duration": 98,
    "start_time": "2022-02-04T14:51:38.087Z"
   },
   {
    "duration": 6,
    "start_time": "2022-02-04T14:51:38.188Z"
   },
   {
    "duration": 11,
    "start_time": "2022-02-04T14:51:38.197Z"
   },
   {
    "duration": 14,
    "start_time": "2022-02-04T14:51:38.210Z"
   },
   {
    "duration": 38,
    "start_time": "2022-02-04T14:51:38.227Z"
   },
   {
    "duration": 5,
    "start_time": "2022-02-04T14:51:38.268Z"
   },
   {
    "duration": 101,
    "start_time": "2022-02-04T14:51:38.276Z"
   },
   {
    "duration": 63,
    "start_time": "2022-02-04T14:51:38.380Z"
   },
   {
    "duration": 43,
    "start_time": "2022-02-04T14:51:38.460Z"
   },
   {
    "duration": 72,
    "start_time": "2022-02-04T14:51:38.506Z"
   },
   {
    "duration": 17,
    "start_time": "2022-02-04T14:51:38.586Z"
   },
   {
    "duration": 18,
    "start_time": "2022-02-04T14:51:38.608Z"
   },
   {
    "duration": 44,
    "start_time": "2022-02-04T14:51:38.629Z"
   },
   {
    "duration": 21,
    "start_time": "2022-02-04T14:51:38.676Z"
   },
   {
    "duration": 66,
    "start_time": "2022-02-04T14:51:38.700Z"
   },
   {
    "duration": 13,
    "start_time": "2022-02-04T14:51:38.769Z"
   },
   {
    "duration": 15,
    "start_time": "2022-02-04T14:51:38.785Z"
   },
   {
    "duration": 12,
    "start_time": "2022-02-04T14:51:38.803Z"
   },
   {
    "duration": 64,
    "start_time": "2022-02-04T14:51:38.818Z"
   },
   {
    "duration": 22,
    "start_time": "2022-02-04T14:51:38.885Z"
   },
   {
    "duration": 60,
    "start_time": "2022-02-04T14:51:38.910Z"
   },
   {
    "duration": 21,
    "start_time": "2022-02-04T14:51:38.973Z"
   },
   {
    "duration": 68,
    "start_time": "2022-02-04T14:51:38.996Z"
   },
   {
    "duration": 8,
    "start_time": "2022-02-04T14:51:39.066Z"
   },
   {
    "duration": 34,
    "start_time": "2022-02-04T14:51:39.076Z"
   },
   {
    "duration": 72,
    "start_time": "2022-02-04T14:51:39.112Z"
   },
   {
    "duration": 11,
    "start_time": "2022-02-04T14:51:39.186Z"
   },
   {
    "duration": 7,
    "start_time": "2022-02-04T14:51:39.199Z"
   },
   {
    "duration": 10,
    "start_time": "2022-02-04T14:51:39.208Z"
   },
   {
    "duration": 442,
    "start_time": "2022-02-04T14:51:39.220Z"
   },
   {
    "duration": 331,
    "start_time": "2022-02-04T14:51:39.665Z"
   },
   {
    "duration": 349,
    "start_time": "2022-02-04T14:51:39.999Z"
   },
   {
    "duration": 11,
    "start_time": "2022-02-04T14:51:40.350Z"
   },
   {
    "duration": 8,
    "start_time": "2022-02-04T14:51:40.363Z"
   },
   {
    "duration": 8,
    "start_time": "2022-02-04T14:51:40.373Z"
   },
   {
    "duration": 11,
    "start_time": "2022-02-04T14:51:40.383Z"
   },
   {
    "duration": 434,
    "start_time": "2022-02-04T14:51:40.396Z"
   },
   {
    "duration": 348,
    "start_time": "2022-02-04T14:51:40.832Z"
   },
   {
    "duration": 364,
    "start_time": "2022-02-04T14:51:41.183Z"
   },
   {
    "duration": 13,
    "start_time": "2022-02-04T14:51:41.550Z"
   },
   {
    "duration": 5,
    "start_time": "2022-02-04T14:51:41.566Z"
   },
   {
    "duration": 12,
    "start_time": "2022-02-04T14:51:41.574Z"
   },
   {
    "duration": 389,
    "start_time": "2022-02-04T14:51:41.589Z"
   },
   {
    "duration": 366,
    "start_time": "2022-02-04T14:51:41.981Z"
   },
   {
    "duration": 12,
    "start_time": "2022-02-04T14:51:42.350Z"
   },
   {
    "duration": 7,
    "start_time": "2022-02-04T14:51:42.365Z"
   },
   {
    "duration": 11,
    "start_time": "2022-02-04T14:51:42.375Z"
   },
   {
    "duration": 348,
    "start_time": "2022-02-04T14:51:42.388Z"
   },
   {
    "duration": 381,
    "start_time": "2022-02-04T14:51:42.739Z"
   },
   {
    "duration": 6,
    "start_time": "2022-02-04T14:51:43.123Z"
   },
   {
    "duration": 6,
    "start_time": "2022-02-04T14:51:43.131Z"
   },
   {
    "duration": 27,
    "start_time": "2022-02-04T14:51:43.139Z"
   },
   {
    "duration": 375,
    "start_time": "2022-02-04T14:51:43.169Z"
   },
   {
    "duration": 16,
    "start_time": "2022-02-04T14:51:43.547Z"
   },
   {
    "duration": 5,
    "start_time": "2022-02-04T14:51:43.566Z"
   },
   {
    "duration": 11,
    "start_time": "2022-02-04T14:51:43.580Z"
   },
   {
    "duration": 367,
    "start_time": "2022-02-04T14:51:43.595Z"
   },
   {
    "duration": 7,
    "start_time": "2022-02-04T14:51:43.965Z"
   },
   {
    "duration": 5,
    "start_time": "2022-02-04T14:51:43.975Z"
   },
   {
    "duration": 11,
    "start_time": "2022-02-04T14:51:43.983Z"
   },
   {
    "duration": 14,
    "start_time": "2022-02-04T14:51:43.996Z"
   },
   {
    "duration": 6,
    "start_time": "2022-02-04T14:51:44.060Z"
   },
   {
    "duration": 4,
    "start_time": "2022-02-04T15:21:44.507Z"
   },
   {
    "duration": 478,
    "start_time": "2022-02-04T15:23:30.098Z"
   },
   {
    "duration": 411,
    "start_time": "2022-02-04T15:24:32.276Z"
   },
   {
    "duration": 524,
    "start_time": "2022-02-04T15:24:52.108Z"
   },
   {
    "duration": 416,
    "start_time": "2022-02-04T15:25:11.540Z"
   },
   {
    "duration": 8,
    "start_time": "2022-02-04T15:25:21.099Z"
   },
   {
    "duration": 8,
    "start_time": "2022-02-04T15:26:22.164Z"
   },
   {
    "duration": 3,
    "start_time": "2022-02-04T15:27:39.719Z"
   },
   {
    "duration": 152,
    "start_time": "2022-02-04T15:28:13.573Z"
   },
   {
    "duration": 748,
    "start_time": "2022-02-04T15:28:40.949Z"
   },
   {
    "duration": 645,
    "start_time": "2022-02-04T15:29:02.325Z"
   },
   {
    "duration": 11,
    "start_time": "2022-02-04T15:29:41.606Z"
   },
   {
    "duration": 14,
    "start_time": "2022-02-04T15:29:56.088Z"
   },
   {
    "duration": 12,
    "start_time": "2022-02-04T15:30:07.350Z"
   },
   {
    "duration": 12,
    "start_time": "2022-02-04T15:30:54.120Z"
   },
   {
    "duration": 1222,
    "start_time": "2022-02-04T18:16:39.796Z"
   },
   {
    "duration": 189,
    "start_time": "2022-02-04T18:16:41.021Z"
   },
   {
    "duration": 34,
    "start_time": "2022-02-04T18:16:41.213Z"
   },
   {
    "duration": 24,
    "start_time": "2022-02-04T18:16:41.249Z"
   },
   {
    "duration": 188,
    "start_time": "2022-02-04T18:16:41.275Z"
   },
   {
    "duration": 16,
    "start_time": "2022-02-04T18:16:41.464Z"
   },
   {
    "duration": 126,
    "start_time": "2022-02-04T18:16:41.482Z"
   },
   {
    "duration": 25,
    "start_time": "2022-02-04T18:16:41.611Z"
   },
   {
    "duration": 55,
    "start_time": "2022-02-04T18:16:41.639Z"
   },
   {
    "duration": 112,
    "start_time": "2022-02-04T18:16:41.697Z"
   },
   {
    "duration": 66,
    "start_time": "2022-02-04T18:16:41.812Z"
   },
   {
    "duration": 68,
    "start_time": "2022-02-04T18:16:41.880Z"
   },
   {
    "duration": 83,
    "start_time": "2022-02-04T18:16:41.950Z"
   },
   {
    "duration": 4,
    "start_time": "2022-02-04T18:16:42.035Z"
   },
   {
    "duration": 12,
    "start_time": "2022-02-04T18:16:42.041Z"
   },
   {
    "duration": 16,
    "start_time": "2022-02-04T18:16:42.055Z"
   },
   {
    "duration": 13,
    "start_time": "2022-02-04T18:16:42.073Z"
   },
   {
    "duration": 5,
    "start_time": "2022-02-04T18:16:42.089Z"
   },
   {
    "duration": 64,
    "start_time": "2022-02-04T18:16:42.096Z"
   },
   {
    "duration": 85,
    "start_time": "2022-02-04T18:16:42.163Z"
   },
   {
    "duration": 37,
    "start_time": "2022-02-04T18:16:42.251Z"
   },
   {
    "duration": 49,
    "start_time": "2022-02-04T18:16:42.290Z"
   },
   {
    "duration": 17,
    "start_time": "2022-02-04T18:16:42.344Z"
   },
   {
    "duration": 17,
    "start_time": "2022-02-04T18:16:42.365Z"
   },
   {
    "duration": 21,
    "start_time": "2022-02-04T18:16:42.409Z"
   },
   {
    "duration": 53,
    "start_time": "2022-02-04T18:16:42.432Z"
   },
   {
    "duration": 24,
    "start_time": "2022-02-04T18:16:42.487Z"
   },
   {
    "duration": 9,
    "start_time": "2022-02-04T18:16:42.513Z"
   },
   {
    "duration": 11,
    "start_time": "2022-02-04T18:16:42.524Z"
   },
   {
    "duration": 8,
    "start_time": "2022-02-04T18:16:42.537Z"
   },
   {
    "duration": 24,
    "start_time": "2022-02-04T18:16:42.547Z"
   },
   {
    "duration": 46,
    "start_time": "2022-02-04T18:16:42.573Z"
   },
   {
    "duration": 15,
    "start_time": "2022-02-04T18:16:42.622Z"
   },
   {
    "duration": 19,
    "start_time": "2022-02-04T18:16:42.640Z"
   },
   {
    "duration": 61,
    "start_time": "2022-02-04T18:16:42.661Z"
   },
   {
    "duration": 7,
    "start_time": "2022-02-04T18:16:42.725Z"
   },
   {
    "duration": 38,
    "start_time": "2022-02-04T18:16:42.734Z"
   },
   {
    "duration": 61,
    "start_time": "2022-02-04T18:16:42.775Z"
   },
   {
    "duration": 9,
    "start_time": "2022-02-04T18:16:42.837Z"
   },
   {
    "duration": 6,
    "start_time": "2022-02-04T18:16:42.848Z"
   },
   {
    "duration": 10,
    "start_time": "2022-02-04T18:16:42.856Z"
   },
   {
    "duration": 374,
    "start_time": "2022-02-04T18:16:42.868Z"
   },
   {
    "duration": 239,
    "start_time": "2022-02-04T18:16:43.244Z"
   },
   {
    "duration": 235,
    "start_time": "2022-02-04T18:16:43.485Z"
   },
   {
    "duration": 4,
    "start_time": "2022-02-04T18:16:43.722Z"
   },
   {
    "duration": 7,
    "start_time": "2022-02-04T18:16:43.728Z"
   },
   {
    "duration": 10,
    "start_time": "2022-02-04T18:16:43.737Z"
   },
   {
    "duration": 10,
    "start_time": "2022-02-04T18:16:43.749Z"
   },
   {
    "duration": 273,
    "start_time": "2022-02-04T18:16:43.761Z"
   },
   {
    "duration": 230,
    "start_time": "2022-02-04T18:16:44.037Z"
   },
   {
    "duration": 277,
    "start_time": "2022-02-04T18:16:44.268Z"
   },
   {
    "duration": 5,
    "start_time": "2022-02-04T18:16:44.548Z"
   },
   {
    "duration": 9,
    "start_time": "2022-02-04T18:16:44.556Z"
   },
   {
    "duration": 12,
    "start_time": "2022-02-04T18:16:44.567Z"
   },
   {
    "duration": 298,
    "start_time": "2022-02-04T18:16:44.581Z"
   },
   {
    "duration": 283,
    "start_time": "2022-02-04T18:16:44.881Z"
   },
   {
    "duration": 4,
    "start_time": "2022-02-04T18:16:45.167Z"
   },
   {
    "duration": 8,
    "start_time": "2022-02-04T18:16:45.173Z"
   },
   {
    "duration": 25,
    "start_time": "2022-02-04T18:16:45.183Z"
   },
   {
    "duration": 298,
    "start_time": "2022-02-04T18:16:45.211Z"
   },
   {
    "duration": 228,
    "start_time": "2022-02-04T18:16:45.512Z"
   },
   {
    "duration": 6,
    "start_time": "2022-02-04T18:16:45.743Z"
   },
   {
    "duration": 8,
    "start_time": "2022-02-04T18:16:45.750Z"
   },
   {
    "duration": 15,
    "start_time": "2022-02-04T18:16:45.760Z"
   },
   {
    "duration": 283,
    "start_time": "2022-02-04T18:16:45.777Z"
   },
   {
    "duration": 6,
    "start_time": "2022-02-04T18:16:46.063Z"
   },
   {
    "duration": 5,
    "start_time": "2022-02-04T18:16:46.071Z"
   },
   {
    "duration": 30,
    "start_time": "2022-02-04T18:16:46.082Z"
   },
   {
    "duration": 261,
    "start_time": "2022-02-04T18:16:46.115Z"
   },
   {
    "duration": 5,
    "start_time": "2022-02-04T18:16:46.378Z"
   },
   {
    "duration": 22,
    "start_time": "2022-02-04T18:16:46.385Z"
   },
   {
    "duration": 7,
    "start_time": "2022-02-04T18:16:46.410Z"
   },
   {
    "duration": 11,
    "start_time": "2022-02-04T18:16:46.419Z"
   },
   {
    "duration": 10,
    "start_time": "2022-02-04T18:16:46.431Z"
   },
   {
    "duration": 11,
    "start_time": "2022-02-04T18:16:46.444Z"
   },
   {
    "duration": 11,
    "start_time": "2022-02-04T18:16:46.457Z"
   },
   {
    "duration": 3,
    "start_time": "2022-02-04T18:16:56.142Z"
   },
   {
    "duration": 6,
    "start_time": "2022-02-04T18:18:28.026Z"
   },
   {
    "duration": 331,
    "start_time": "2022-02-04T18:18:54.552Z"
   },
   {
    "duration": 5,
    "start_time": "2022-02-04T18:18:59.018Z"
   },
   {
    "duration": 5,
    "start_time": "2022-02-04T18:22:01.251Z"
   },
   {
    "duration": 6,
    "start_time": "2022-02-04T18:22:24.371Z"
   },
   {
    "duration": 7,
    "start_time": "2022-02-04T18:27:06.118Z"
   },
   {
    "duration": 6,
    "start_time": "2022-02-04T18:27:27.376Z"
   },
   {
    "duration": 6,
    "start_time": "2022-02-04T18:33:16.962Z"
   },
   {
    "duration": 6,
    "start_time": "2022-02-04T18:34:02.107Z"
   },
   {
    "duration": 6,
    "start_time": "2022-02-04T18:34:27.514Z"
   },
   {
    "duration": 218,
    "start_time": "2022-02-04T18:38:45.773Z"
   },
   {
    "duration": 6,
    "start_time": "2022-02-04T18:49:19.690Z"
   },
   {
    "duration": 248,
    "start_time": "2022-02-04T18:52:46.580Z"
   },
   {
    "duration": 5,
    "start_time": "2022-02-04T18:52:52.208Z"
   },
   {
    "duration": 5,
    "start_time": "2022-02-04T18:52:52.917Z"
   },
   {
    "duration": 4,
    "start_time": "2022-02-04T18:52:53.595Z"
   },
   {
    "duration": 4,
    "start_time": "2022-02-04T18:53:07.492Z"
   },
   {
    "duration": 6,
    "start_time": "2022-02-04T18:53:36.428Z"
   },
   {
    "duration": 6,
    "start_time": "2022-02-04T18:54:21.687Z"
   },
   {
    "duration": 6,
    "start_time": "2022-02-04T18:55:11.598Z"
   },
   {
    "duration": 1042,
    "start_time": "2022-02-04T18:55:54.727Z"
   },
   {
    "duration": 218,
    "start_time": "2022-02-04T18:55:55.771Z"
   },
   {
    "duration": 47,
    "start_time": "2022-02-04T18:55:55.991Z"
   },
   {
    "duration": 29,
    "start_time": "2022-02-04T18:55:56.041Z"
   },
   {
    "duration": 191,
    "start_time": "2022-02-04T18:55:56.072Z"
   },
   {
    "duration": 15,
    "start_time": "2022-02-04T18:55:56.265Z"
   },
   {
    "duration": 116,
    "start_time": "2022-02-04T18:55:56.282Z"
   },
   {
    "duration": 30,
    "start_time": "2022-02-04T18:55:56.401Z"
   },
   {
    "duration": 42,
    "start_time": "2022-02-04T18:55:56.434Z"
   },
   {
    "duration": 114,
    "start_time": "2022-02-04T18:55:56.478Z"
   },
   {
    "duration": 71,
    "start_time": "2022-02-04T18:55:56.593Z"
   },
   {
    "duration": 67,
    "start_time": "2022-02-04T18:55:56.665Z"
   },
   {
    "duration": 81,
    "start_time": "2022-02-04T18:55:56.734Z"
   },
   {
    "duration": 3,
    "start_time": "2022-02-04T18:55:56.817Z"
   },
   {
    "duration": 10,
    "start_time": "2022-02-04T18:55:56.822Z"
   },
   {
    "duration": 12,
    "start_time": "2022-02-04T18:55:56.834Z"
   },
   {
    "duration": 10,
    "start_time": "2022-02-04T18:55:56.848Z"
   },
   {
    "duration": 9,
    "start_time": "2022-02-04T18:55:56.860Z"
   },
   {
    "duration": 76,
    "start_time": "2022-02-04T18:55:56.871Z"
   },
   {
    "duration": 58,
    "start_time": "2022-02-04T18:55:56.949Z"
   },
   {
    "duration": 34,
    "start_time": "2022-02-04T18:55:57.010Z"
   },
   {
    "duration": 33,
    "start_time": "2022-02-04T18:55:57.046Z"
   },
   {
    "duration": 30,
    "start_time": "2022-02-04T18:55:57.083Z"
   },
   {
    "duration": 15,
    "start_time": "2022-02-04T18:55:57.116Z"
   },
   {
    "duration": 14,
    "start_time": "2022-02-04T18:55:57.132Z"
   },
   {
    "duration": 18,
    "start_time": "2022-02-04T18:55:57.148Z"
   },
   {
    "duration": 53,
    "start_time": "2022-02-04T18:55:57.168Z"
   },
   {
    "duration": 9,
    "start_time": "2022-02-04T18:55:57.223Z"
   },
   {
    "duration": 13,
    "start_time": "2022-02-04T18:55:57.234Z"
   },
   {
    "duration": 11,
    "start_time": "2022-02-04T18:55:57.249Z"
   },
   {
    "duration": 50,
    "start_time": "2022-02-04T18:55:57.262Z"
   },
   {
    "duration": 16,
    "start_time": "2022-02-04T18:55:57.314Z"
   },
   {
    "duration": 16,
    "start_time": "2022-02-04T18:55:57.332Z"
   },
   {
    "duration": 18,
    "start_time": "2022-02-04T18:55:57.350Z"
   },
   {
    "duration": 62,
    "start_time": "2022-02-04T18:55:57.370Z"
   },
   {
    "duration": 7,
    "start_time": "2022-02-04T18:55:57.434Z"
   },
   {
    "duration": 29,
    "start_time": "2022-02-04T18:55:57.443Z"
   },
   {
    "duration": 66,
    "start_time": "2022-02-04T18:55:57.474Z"
   },
   {
    "duration": 11,
    "start_time": "2022-02-04T18:55:57.542Z"
   },
   {
    "duration": 7,
    "start_time": "2022-02-04T18:55:57.555Z"
   },
   {
    "duration": 44,
    "start_time": "2022-02-04T18:55:57.564Z"
   },
   {
    "duration": 354,
    "start_time": "2022-02-04T18:55:57.610Z"
   },
   {
    "duration": 234,
    "start_time": "2022-02-04T18:55:57.966Z"
   },
   {
    "duration": 228,
    "start_time": "2022-02-04T18:55:58.202Z"
   },
   {
    "duration": 5,
    "start_time": "2022-02-04T18:55:58.432Z"
   },
   {
    "duration": 6,
    "start_time": "2022-02-04T18:55:58.439Z"
   },
   {
    "duration": 10,
    "start_time": "2022-02-04T18:55:58.447Z"
   },
   {
    "duration": 11,
    "start_time": "2022-02-04T18:55:58.459Z"
   },
   {
    "duration": 262,
    "start_time": "2022-02-04T18:55:58.472Z"
   },
   {
    "duration": 234,
    "start_time": "2022-02-04T18:55:58.736Z"
   },
   {
    "duration": 243,
    "start_time": "2022-02-04T18:55:58.972Z"
   },
   {
    "duration": 5,
    "start_time": "2022-02-04T18:55:59.217Z"
   },
   {
    "duration": 6,
    "start_time": "2022-02-04T18:55:59.224Z"
   },
   {
    "duration": 9,
    "start_time": "2022-02-04T18:55:59.232Z"
   },
   {
    "duration": 269,
    "start_time": "2022-02-04T18:55:59.243Z"
   },
   {
    "duration": 243,
    "start_time": "2022-02-04T18:55:59.514Z"
   },
   {
    "duration": 4,
    "start_time": "2022-02-04T18:55:59.759Z"
   },
   {
    "duration": 9,
    "start_time": "2022-02-04T18:55:59.765Z"
   },
   {
    "duration": 12,
    "start_time": "2022-02-04T18:55:59.776Z"
   },
   {
    "duration": 326,
    "start_time": "2022-02-04T18:55:59.790Z"
   },
   {
    "duration": 333,
    "start_time": "2022-02-04T18:56:00.118Z"
   },
   {
    "duration": 5,
    "start_time": "2022-02-04T18:56:00.453Z"
   },
   {
    "duration": 5,
    "start_time": "2022-02-04T18:56:00.460Z"
   },
   {
    "duration": 13,
    "start_time": "2022-02-04T18:56:00.467Z"
   },
   {
    "duration": 265,
    "start_time": "2022-02-04T18:56:00.482Z"
   },
   {
    "duration": 5,
    "start_time": "2022-02-04T18:56:00.749Z"
   },
   {
    "duration": 14,
    "start_time": "2022-02-04T18:56:00.755Z"
   },
   {
    "duration": 11,
    "start_time": "2022-02-04T18:56:00.775Z"
   },
   {
    "duration": 240,
    "start_time": "2022-02-04T18:56:00.788Z"
   },
   {
    "duration": 5,
    "start_time": "2022-02-04T18:56:01.031Z"
   },
   {
    "duration": 30,
    "start_time": "2022-02-04T18:56:01.038Z"
   },
   {
    "duration": 16,
    "start_time": "2022-02-04T18:56:01.070Z"
   },
   {
    "duration": 32,
    "start_time": "2022-02-04T18:56:01.088Z"
   },
   {
    "duration": 22,
    "start_time": "2022-02-04T18:56:01.122Z"
   },
   {
    "duration": 25,
    "start_time": "2022-02-04T18:56:01.147Z"
   },
   {
    "duration": 23,
    "start_time": "2022-02-04T18:56:01.174Z"
   },
   {
    "duration": 45,
    "start_time": "2022-02-04T18:56:01.199Z"
   },
   {
    "duration": 22,
    "start_time": "2022-02-04T18:56:01.246Z"
   },
   {
    "duration": 19,
    "start_time": "2022-02-04T18:56:01.270Z"
   },
   {
    "duration": 515,
    "start_time": "2022-02-05T06:32:26.307Z"
   },
   {
    "duration": 1366,
    "start_time": "2022-02-05T06:36:52.357Z"
   },
   {
    "duration": 223,
    "start_time": "2022-02-05T06:36:53.726Z"
   },
   {
    "duration": 41,
    "start_time": "2022-02-05T06:36:53.954Z"
   },
   {
    "duration": 50,
    "start_time": "2022-02-05T06:36:53.998Z"
   },
   {
    "duration": 198,
    "start_time": "2022-02-05T06:36:54.051Z"
   },
   {
    "duration": 24,
    "start_time": "2022-02-05T06:36:54.252Z"
   },
   {
    "duration": 200,
    "start_time": "2022-02-05T06:36:54.279Z"
   },
   {
    "duration": 25,
    "start_time": "2022-02-05T06:36:54.483Z"
   },
   {
    "duration": 38,
    "start_time": "2022-02-05T06:36:54.511Z"
   },
   {
    "duration": 141,
    "start_time": "2022-02-05T06:36:54.551Z"
   },
   {
    "duration": 130,
    "start_time": "2022-02-05T06:36:54.694Z"
   },
   {
    "duration": 56,
    "start_time": "2022-02-05T06:36:54.827Z"
   },
   {
    "duration": 106,
    "start_time": "2022-02-05T06:36:54.885Z"
   },
   {
    "duration": 5,
    "start_time": "2022-02-05T06:36:54.993Z"
   },
   {
    "duration": 27,
    "start_time": "2022-02-05T06:36:55.000Z"
   },
   {
    "duration": 18,
    "start_time": "2022-02-05T06:36:55.030Z"
   },
   {
    "duration": 9,
    "start_time": "2022-02-05T06:36:55.051Z"
   },
   {
    "duration": 7,
    "start_time": "2022-02-05T06:36:55.063Z"
   },
   {
    "duration": 97,
    "start_time": "2022-02-05T06:36:55.073Z"
   },
   {
    "duration": 69,
    "start_time": "2022-02-05T06:36:55.172Z"
   },
   {
    "duration": 47,
    "start_time": "2022-02-05T06:36:55.243Z"
   },
   {
    "duration": 68,
    "start_time": "2022-02-05T06:36:55.292Z"
   },
   {
    "duration": 23,
    "start_time": "2022-02-05T06:36:55.367Z"
   },
   {
    "duration": 32,
    "start_time": "2022-02-05T06:36:55.395Z"
   },
   {
    "duration": 23,
    "start_time": "2022-02-05T06:36:55.431Z"
   },
   {
    "duration": 22,
    "start_time": "2022-02-05T06:36:55.457Z"
   },
   {
    "duration": 63,
    "start_time": "2022-02-05T06:36:55.482Z"
   },
   {
    "duration": 11,
    "start_time": "2022-02-05T06:36:55.547Z"
   },
   {
    "duration": 16,
    "start_time": "2022-02-05T06:36:55.560Z"
   },
   {
    "duration": 45,
    "start_time": "2022-02-05T06:36:55.579Z"
   },
   {
    "duration": 26,
    "start_time": "2022-02-05T06:36:55.627Z"
   },
   {
    "duration": 22,
    "start_time": "2022-02-05T06:36:55.656Z"
   },
   {
    "duration": 55,
    "start_time": "2022-02-05T06:36:55.680Z"
   },
   {
    "duration": 26,
    "start_time": "2022-02-05T06:36:55.738Z"
   },
   {
    "duration": 73,
    "start_time": "2022-02-05T06:36:55.766Z"
   },
   {
    "duration": 8,
    "start_time": "2022-02-05T06:36:55.842Z"
   },
   {
    "duration": 45,
    "start_time": "2022-02-05T06:36:55.852Z"
   },
   {
    "duration": 69,
    "start_time": "2022-02-05T06:36:55.900Z"
   },
   {
    "duration": 13,
    "start_time": "2022-02-05T06:36:55.972Z"
   },
   {
    "duration": 35,
    "start_time": "2022-02-05T06:36:55.987Z"
   },
   {
    "duration": 12,
    "start_time": "2022-02-05T06:36:56.024Z"
   },
   {
    "duration": 503,
    "start_time": "2022-02-05T06:36:56.039Z"
   },
   {
    "duration": 381,
    "start_time": "2022-02-05T06:36:56.545Z"
   },
   {
    "duration": 338,
    "start_time": "2022-02-05T06:36:56.929Z"
   },
   {
    "duration": 6,
    "start_time": "2022-02-05T06:36:57.269Z"
   },
   {
    "duration": 6,
    "start_time": "2022-02-05T06:36:57.278Z"
   },
   {
    "duration": 39,
    "start_time": "2022-02-05T06:36:57.287Z"
   },
   {
    "duration": 10,
    "start_time": "2022-02-05T06:36:57.329Z"
   },
   {
    "duration": 379,
    "start_time": "2022-02-05T06:36:57.342Z"
   },
   {
    "duration": 349,
    "start_time": "2022-02-05T06:36:57.723Z"
   },
   {
    "duration": 382,
    "start_time": "2022-02-05T06:36:58.074Z"
   },
   {
    "duration": 12,
    "start_time": "2022-02-05T06:36:58.459Z"
   },
   {
    "duration": 10,
    "start_time": "2022-02-05T06:36:58.474Z"
   },
   {
    "duration": 14,
    "start_time": "2022-02-05T06:36:58.486Z"
   },
   {
    "duration": 369,
    "start_time": "2022-02-05T06:36:58.502Z"
   },
   {
    "duration": 379,
    "start_time": "2022-02-05T06:36:58.873Z"
   },
   {
    "duration": 6,
    "start_time": "2022-02-05T06:36:59.255Z"
   },
   {
    "duration": 5,
    "start_time": "2022-02-05T06:36:59.264Z"
   },
   {
    "duration": 12,
    "start_time": "2022-02-05T06:36:59.273Z"
   },
   {
    "duration": 446,
    "start_time": "2022-02-05T06:36:59.288Z"
   },
   {
    "duration": 360,
    "start_time": "2022-02-05T06:36:59.737Z"
   },
   {
    "duration": 7,
    "start_time": "2022-02-05T06:37:00.100Z"
   },
   {
    "duration": 5,
    "start_time": "2022-02-05T06:37:00.125Z"
   },
   {
    "duration": 13,
    "start_time": "2022-02-05T06:37:00.133Z"
   },
   {
    "duration": 408,
    "start_time": "2022-02-05T06:37:00.148Z"
   },
   {
    "duration": 7,
    "start_time": "2022-02-05T06:37:00.558Z"
   },
   {
    "duration": 12,
    "start_time": "2022-02-05T06:37:00.567Z"
   },
   {
    "duration": 13,
    "start_time": "2022-02-05T06:37:00.588Z"
   },
   {
    "duration": 365,
    "start_time": "2022-02-05T06:37:00.604Z"
   },
   {
    "duration": 6,
    "start_time": "2022-02-05T06:37:00.972Z"
   },
   {
    "duration": 18,
    "start_time": "2022-02-05T06:37:00.980Z"
   },
   {
    "duration": 31,
    "start_time": "2022-02-05T06:37:01.000Z"
   },
   {
    "duration": 17,
    "start_time": "2022-02-05T06:37:01.034Z"
   },
   {
    "duration": 18,
    "start_time": "2022-02-05T06:37:01.053Z"
   },
   {
    "duration": 31,
    "start_time": "2022-02-05T06:37:01.073Z"
   },
   {
    "duration": 35,
    "start_time": "2022-02-05T06:37:01.106Z"
   },
   {
    "duration": 28,
    "start_time": "2022-02-05T06:37:01.143Z"
   },
   {
    "duration": 29,
    "start_time": "2022-02-05T06:37:01.174Z"
   },
   {
    "duration": 15,
    "start_time": "2022-02-05T06:37:01.206Z"
   },
   {
    "duration": 24,
    "start_time": "2022-02-05T06:37:01.224Z"
   },
   {
    "duration": 7,
    "start_time": "2022-02-05T06:51:17.084Z"
   },
   {
    "duration": 11,
    "start_time": "2022-02-05T06:51:46.661Z"
   },
   {
    "duration": 11,
    "start_time": "2022-02-05T06:51:51.660Z"
   },
   {
    "duration": 13,
    "start_time": "2022-02-05T06:52:10.588Z"
   },
   {
    "duration": 9,
    "start_time": "2022-02-05T06:53:10.149Z"
   },
   {
    "duration": 523,
    "start_time": "2022-02-05T06:59:58.009Z"
   },
   {
    "duration": 529,
    "start_time": "2022-02-05T07:01:01.056Z"
   },
   {
    "duration": 15,
    "start_time": "2022-02-05T07:01:22.281Z"
   },
   {
    "duration": 16,
    "start_time": "2022-02-05T07:01:34.650Z"
   },
   {
    "duration": 14,
    "start_time": "2022-02-05T07:02:16.626Z"
   },
   {
    "duration": 13,
    "start_time": "2022-02-05T07:02:22.740Z"
   },
   {
    "duration": 7,
    "start_time": "2022-02-05T07:12:28.626Z"
   },
   {
    "duration": 10,
    "start_time": "2022-02-05T07:12:42.099Z"
   },
   {
    "duration": 99,
    "start_time": "2022-02-05T07:13:11.649Z"
   },
   {
    "duration": 9,
    "start_time": "2022-02-05T07:14:41.162Z"
   },
   {
    "duration": 106,
    "start_time": "2022-02-05T07:16:11.083Z"
   },
   {
    "duration": 11,
    "start_time": "2022-02-05T07:16:16.963Z"
   },
   {
    "duration": 10,
    "start_time": "2022-02-05T07:16:34.603Z"
   },
   {
    "duration": 11,
    "start_time": "2022-02-05T07:19:16.246Z"
   },
   {
    "duration": 10,
    "start_time": "2022-02-05T07:19:23.340Z"
   },
   {
    "duration": 6,
    "start_time": "2022-02-05T07:21:55.351Z"
   },
   {
    "duration": 8,
    "start_time": "2022-02-05T07:22:21.126Z"
   },
   {
    "duration": 9,
    "start_time": "2022-02-05T07:23:18.327Z"
   },
   {
    "duration": 15,
    "start_time": "2022-02-05T07:23:29.885Z"
   },
   {
    "duration": 12,
    "start_time": "2022-02-05T07:23:33.301Z"
   },
   {
    "duration": 13,
    "start_time": "2022-02-05T07:23:44.743Z"
   },
   {
    "duration": 13,
    "start_time": "2022-02-05T07:25:39.415Z"
   },
   {
    "duration": 1288,
    "start_time": "2022-02-05T07:31:23.141Z"
   },
   {
    "duration": 232,
    "start_time": "2022-02-05T07:31:24.432Z"
   },
   {
    "duration": 40,
    "start_time": "2022-02-05T07:31:24.667Z"
   },
   {
    "duration": 38,
    "start_time": "2022-02-05T07:31:24.710Z"
   },
   {
    "duration": 210,
    "start_time": "2022-02-05T07:31:24.750Z"
   },
   {
    "duration": 17,
    "start_time": "2022-02-05T07:31:24.962Z"
   },
   {
    "duration": 151,
    "start_time": "2022-02-05T07:31:24.982Z"
   },
   {
    "duration": 25,
    "start_time": "2022-02-05T07:31:25.137Z"
   },
   {
    "duration": 37,
    "start_time": "2022-02-05T07:31:25.165Z"
   },
   {
    "duration": 141,
    "start_time": "2022-02-05T07:31:25.204Z"
   },
   {
    "duration": 107,
    "start_time": "2022-02-05T07:31:25.348Z"
   },
   {
    "duration": 72,
    "start_time": "2022-02-05T07:31:25.457Z"
   },
   {
    "duration": 101,
    "start_time": "2022-02-05T07:31:25.531Z"
   },
   {
    "duration": 5,
    "start_time": "2022-02-05T07:31:25.634Z"
   },
   {
    "duration": 11,
    "start_time": "2022-02-05T07:31:25.641Z"
   },
   {
    "duration": 17,
    "start_time": "2022-02-05T07:31:25.654Z"
   },
   {
    "duration": 10,
    "start_time": "2022-02-05T07:31:25.673Z"
   },
   {
    "duration": 37,
    "start_time": "2022-02-05T07:31:25.686Z"
   },
   {
    "duration": 72,
    "start_time": "2022-02-05T07:31:25.726Z"
   },
   {
    "duration": 82,
    "start_time": "2022-02-05T07:31:25.800Z"
   },
   {
    "duration": 64,
    "start_time": "2022-02-05T07:31:25.885Z"
   },
   {
    "duration": 48,
    "start_time": "2022-02-05T07:31:25.952Z"
   },
   {
    "duration": 35,
    "start_time": "2022-02-05T07:31:26.006Z"
   },
   {
    "duration": 20,
    "start_time": "2022-02-05T07:31:26.046Z"
   },
   {
    "duration": 57,
    "start_time": "2022-02-05T07:31:26.069Z"
   },
   {
    "duration": 20,
    "start_time": "2022-02-05T07:31:26.128Z"
   },
   {
    "duration": 30,
    "start_time": "2022-02-05T07:31:26.151Z"
   },
   {
    "duration": 40,
    "start_time": "2022-02-05T07:31:26.184Z"
   },
   {
    "duration": 14,
    "start_time": "2022-02-05T07:31:26.226Z"
   },
   {
    "duration": 10,
    "start_time": "2022-02-05T07:31:26.243Z"
   },
   {
    "duration": 23,
    "start_time": "2022-02-05T07:31:26.256Z"
   },
   {
    "duration": 58,
    "start_time": "2022-02-05T07:31:26.282Z"
   },
   {
    "duration": 21,
    "start_time": "2022-02-05T07:31:26.343Z"
   },
   {
    "duration": 56,
    "start_time": "2022-02-05T07:31:26.367Z"
   },
   {
    "duration": 36,
    "start_time": "2022-02-05T07:31:26.426Z"
   },
   {
    "duration": 9,
    "start_time": "2022-02-05T07:31:26.464Z"
   },
   {
    "duration": 76,
    "start_time": "2022-02-05T07:31:26.475Z"
   },
   {
    "duration": 47,
    "start_time": "2022-02-05T07:31:26.553Z"
   },
   {
    "duration": 30,
    "start_time": "2022-02-05T07:31:26.602Z"
   },
   {
    "duration": 7,
    "start_time": "2022-02-05T07:31:26.634Z"
   },
   {
    "duration": 10,
    "start_time": "2022-02-05T07:31:26.644Z"
   },
   {
    "duration": 525,
    "start_time": "2022-02-05T07:31:26.656Z"
   },
   {
    "duration": 351,
    "start_time": "2022-02-05T07:31:27.183Z"
   },
   {
    "duration": 349,
    "start_time": "2022-02-05T07:31:27.536Z"
   },
   {
    "duration": 8,
    "start_time": "2022-02-05T07:31:27.888Z"
   },
   {
    "duration": 25,
    "start_time": "2022-02-05T07:31:27.899Z"
   },
   {
    "duration": 13,
    "start_time": "2022-02-05T07:31:27.927Z"
   },
   {
    "duration": 14,
    "start_time": "2022-02-05T07:31:27.942Z"
   },
   {
    "duration": 387,
    "start_time": "2022-02-05T07:31:27.959Z"
   },
   {
    "duration": 357,
    "start_time": "2022-02-05T07:31:28.349Z"
   },
   {
    "duration": 354,
    "start_time": "2022-02-05T07:31:28.710Z"
   },
   {
    "duration": 5,
    "start_time": "2022-02-05T07:31:29.067Z"
   },
   {
    "duration": 7,
    "start_time": "2022-02-05T07:31:29.075Z"
   },
   {
    "duration": 11,
    "start_time": "2022-02-05T07:31:29.084Z"
   },
   {
    "duration": 394,
    "start_time": "2022-02-05T07:31:29.097Z"
   },
   {
    "duration": 358,
    "start_time": "2022-02-05T07:31:29.494Z"
   },
   {
    "duration": 6,
    "start_time": "2022-02-05T07:31:29.854Z"
   },
   {
    "duration": 7,
    "start_time": "2022-02-05T07:31:29.863Z"
   },
   {
    "duration": 14,
    "start_time": "2022-02-05T07:31:29.872Z"
   },
   {
    "duration": 581,
    "start_time": "2022-02-05T07:31:29.889Z"
   },
   {
    "duration": 350,
    "start_time": "2022-02-05T07:31:30.473Z"
   },
   {
    "duration": 6,
    "start_time": "2022-02-05T07:31:30.825Z"
   },
   {
    "duration": 22,
    "start_time": "2022-02-05T07:31:30.833Z"
   },
   {
    "duration": 38,
    "start_time": "2022-02-05T07:31:30.857Z"
   },
   {
    "duration": 383,
    "start_time": "2022-02-05T07:31:30.898Z"
   },
   {
    "duration": 6,
    "start_time": "2022-02-05T07:31:31.283Z"
   },
   {
    "duration": 35,
    "start_time": "2022-02-05T07:31:31.292Z"
   },
   {
    "duration": 10,
    "start_time": "2022-02-05T07:31:31.336Z"
   },
   {
    "duration": 352,
    "start_time": "2022-02-05T07:31:31.349Z"
   },
   {
    "duration": 6,
    "start_time": "2022-02-05T07:31:31.704Z"
   },
   {
    "duration": 4,
    "start_time": "2022-02-05T07:31:31.724Z"
   },
   {
    "duration": 8,
    "start_time": "2022-02-05T07:31:31.731Z"
   },
   {
    "duration": 7,
    "start_time": "2022-02-05T07:31:31.742Z"
   },
   {
    "duration": 7,
    "start_time": "2022-02-05T07:31:31.752Z"
   },
   {
    "duration": 61,
    "start_time": "2022-02-05T07:31:31.762Z"
   },
   {
    "duration": 11,
    "start_time": "2022-02-05T07:31:31.826Z"
   },
   {
    "duration": 15,
    "start_time": "2022-02-05T07:31:31.840Z"
   },
   {
    "duration": 9,
    "start_time": "2022-02-05T07:31:31.857Z"
   },
   {
    "duration": 55,
    "start_time": "2022-02-05T07:31:31.869Z"
   },
   {
    "duration": 12,
    "start_time": "2022-02-05T07:31:31.926Z"
   },
   {
    "duration": 10,
    "start_time": "2022-02-05T07:31:31.940Z"
   },
   {
    "duration": 12,
    "start_time": "2022-02-05T07:31:31.953Z"
   },
   {
    "duration": 12,
    "start_time": "2022-02-05T07:31:31.968Z"
   },
   {
    "duration": 14,
    "start_time": "2022-02-05T07:31:32.024Z"
   },
   {
    "duration": 1320,
    "start_time": "2022-02-05T08:03:47.014Z"
   },
   {
    "duration": 232,
    "start_time": "2022-02-05T08:03:48.337Z"
   },
   {
    "duration": 38,
    "start_time": "2022-02-05T08:03:48.572Z"
   },
   {
    "duration": 29,
    "start_time": "2022-02-05T08:03:48.623Z"
   },
   {
    "duration": 201,
    "start_time": "2022-02-05T08:03:48.654Z"
   },
   {
    "duration": 15,
    "start_time": "2022-02-05T08:03:48.858Z"
   },
   {
    "duration": 140,
    "start_time": "2022-02-05T08:03:48.875Z"
   },
   {
    "duration": 24,
    "start_time": "2022-02-05T08:03:49.024Z"
   },
   {
    "duration": 36,
    "start_time": "2022-02-05T08:03:49.051Z"
   },
   {
    "duration": 123,
    "start_time": "2022-02-05T08:03:49.090Z"
   },
   {
    "duration": 91,
    "start_time": "2022-02-05T08:03:49.222Z"
   },
   {
    "duration": 61,
    "start_time": "2022-02-05T08:03:49.316Z"
   },
   {
    "duration": 111,
    "start_time": "2022-02-05T08:03:49.379Z"
   },
   {
    "duration": 5,
    "start_time": "2022-02-05T08:03:49.492Z"
   },
   {
    "duration": 25,
    "start_time": "2022-02-05T08:03:49.498Z"
   },
   {
    "duration": 16,
    "start_time": "2022-02-05T08:03:49.525Z"
   },
   {
    "duration": 7,
    "start_time": "2022-02-05T08:03:49.544Z"
   },
   {
    "duration": 10,
    "start_time": "2022-02-05T08:03:49.554Z"
   },
   {
    "duration": 90,
    "start_time": "2022-02-05T08:03:49.566Z"
   },
   {
    "duration": 67,
    "start_time": "2022-02-05T08:03:49.659Z"
   },
   {
    "duration": 44,
    "start_time": "2022-02-05T08:03:49.728Z"
   },
   {
    "duration": 65,
    "start_time": "2022-02-05T08:03:49.775Z"
   },
   {
    "duration": 17,
    "start_time": "2022-02-05T08:03:49.846Z"
   },
   {
    "duration": 18,
    "start_time": "2022-02-05T08:03:49.867Z"
   },
   {
    "duration": 43,
    "start_time": "2022-02-05T08:03:49.887Z"
   },
   {
    "duration": 22,
    "start_time": "2022-02-05T08:03:49.932Z"
   },
   {
    "duration": 34,
    "start_time": "2022-02-05T08:03:49.957Z"
   },
   {
    "duration": 32,
    "start_time": "2022-02-05T08:03:49.993Z"
   },
   {
    "duration": 14,
    "start_time": "2022-02-05T08:03:50.027Z"
   },
   {
    "duration": 18,
    "start_time": "2022-02-05T08:03:50.044Z"
   },
   {
    "duration": 28,
    "start_time": "2022-02-05T08:03:50.065Z"
   },
   {
    "duration": 46,
    "start_time": "2022-02-05T08:03:50.095Z"
   },
   {
    "duration": 21,
    "start_time": "2022-02-05T08:03:50.143Z"
   },
   {
    "duration": 23,
    "start_time": "2022-02-05T08:03:50.166Z"
   },
   {
    "duration": 67,
    "start_time": "2022-02-05T08:03:50.191Z"
   },
   {
    "duration": 7,
    "start_time": "2022-02-05T08:03:50.260Z"
   },
   {
    "duration": 64,
    "start_time": "2022-02-05T08:03:50.269Z"
   },
   {
    "duration": 47,
    "start_time": "2022-02-05T08:03:50.335Z"
   },
   {
    "duration": 42,
    "start_time": "2022-02-05T08:03:50.385Z"
   },
   {
    "duration": 8,
    "start_time": "2022-02-05T08:03:50.430Z"
   },
   {
    "duration": 12,
    "start_time": "2022-02-05T08:03:50.441Z"
   },
   {
    "duration": 505,
    "start_time": "2022-02-05T08:03:50.456Z"
   },
   {
    "duration": 336,
    "start_time": "2022-02-05T08:03:50.963Z"
   },
   {
    "duration": 331,
    "start_time": "2022-02-05T08:03:51.302Z"
   },
   {
    "duration": 5,
    "start_time": "2022-02-05T08:03:51.636Z"
   },
   {
    "duration": 5,
    "start_time": "2022-02-05T08:03:51.644Z"
   },
   {
    "duration": 12,
    "start_time": "2022-02-05T08:03:51.651Z"
   },
   {
    "duration": 11,
    "start_time": "2022-02-05T08:03:51.665Z"
   },
   {
    "duration": 373,
    "start_time": "2022-02-05T08:03:51.678Z"
   },
   {
    "duration": 338,
    "start_time": "2022-02-05T08:03:52.053Z"
   },
   {
    "duration": 354,
    "start_time": "2022-02-05T08:03:52.394Z"
   },
   {
    "duration": 6,
    "start_time": "2022-02-05T08:03:52.751Z"
   },
   {
    "duration": 6,
    "start_time": "2022-02-05T08:03:52.759Z"
   },
   {
    "duration": 10,
    "start_time": "2022-02-05T08:03:52.767Z"
   },
   {
    "duration": 386,
    "start_time": "2022-02-05T08:03:52.780Z"
   },
   {
    "duration": 364,
    "start_time": "2022-02-05T08:03:53.168Z"
   },
   {
    "duration": 6,
    "start_time": "2022-02-05T08:03:53.535Z"
   },
   {
    "duration": 5,
    "start_time": "2022-02-05T08:03:53.544Z"
   },
   {
    "duration": 14,
    "start_time": "2022-02-05T08:03:53.551Z"
   },
   {
    "duration": 403,
    "start_time": "2022-02-05T08:03:53.567Z"
   },
   {
    "duration": 337,
    "start_time": "2022-02-05T08:03:53.972Z"
   },
   {
    "duration": 15,
    "start_time": "2022-02-05T08:03:54.311Z"
   },
   {
    "duration": 8,
    "start_time": "2022-02-05T08:03:54.328Z"
   },
   {
    "duration": 14,
    "start_time": "2022-02-05T08:03:54.339Z"
   },
   {
    "duration": 391,
    "start_time": "2022-02-05T08:03:54.356Z"
   },
   {
    "duration": 6,
    "start_time": "2022-02-05T08:03:54.750Z"
   },
   {
    "duration": 4,
    "start_time": "2022-02-05T08:03:54.759Z"
   },
   {
    "duration": 10,
    "start_time": "2022-02-05T08:03:54.771Z"
   },
   {
    "duration": 366,
    "start_time": "2022-02-05T08:03:54.784Z"
   },
   {
    "duration": 6,
    "start_time": "2022-02-05T08:03:55.152Z"
   },
   {
    "duration": 5,
    "start_time": "2022-02-05T08:03:55.160Z"
   },
   {
    "duration": 13,
    "start_time": "2022-02-05T08:03:55.167Z"
   },
   {
    "duration": 6,
    "start_time": "2022-02-05T08:03:55.182Z"
   },
   {
    "duration": 37,
    "start_time": "2022-02-05T08:03:55.191Z"
   },
   {
    "duration": 11,
    "start_time": "2022-02-05T08:03:55.230Z"
   },
   {
    "duration": 5,
    "start_time": "2022-02-05T08:03:55.244Z"
   },
   {
    "duration": 13,
    "start_time": "2022-02-05T08:03:55.252Z"
   },
   {
    "duration": 7,
    "start_time": "2022-02-05T08:03:55.268Z"
   },
   {
    "duration": 11,
    "start_time": "2022-02-05T08:03:55.324Z"
   },
   {
    "duration": 13,
    "start_time": "2022-02-05T08:03:55.337Z"
   },
   {
    "duration": 10,
    "start_time": "2022-02-05T08:03:55.352Z"
   },
   {
    "duration": 8,
    "start_time": "2022-02-05T08:03:55.364Z"
   },
   {
    "duration": 55,
    "start_time": "2022-02-05T08:03:55.374Z"
   },
   {
    "duration": 12,
    "start_time": "2022-02-05T08:03:55.432Z"
   },
   {
    "duration": 1159,
    "start_time": "2022-02-05T10:40:53.303Z"
   },
   {
    "duration": 354,
    "start_time": "2022-02-05T10:41:35.418Z"
   },
   {
    "duration": 4,
    "start_time": "2022-02-05T10:43:31.179Z"
   },
   {
    "duration": 221,
    "start_time": "2022-02-05T10:43:31.185Z"
   },
   {
    "duration": 31,
    "start_time": "2022-02-05T10:43:31.408Z"
   },
   {
    "duration": 19,
    "start_time": "2022-02-05T10:43:31.441Z"
   },
   {
    "duration": 196,
    "start_time": "2022-02-05T10:43:31.461Z"
   },
   {
    "duration": 14,
    "start_time": "2022-02-05T10:43:31.659Z"
   },
   {
    "duration": 102,
    "start_time": "2022-02-05T10:43:31.675Z"
   },
   {
    "duration": 23,
    "start_time": "2022-02-05T10:43:31.780Z"
   },
   {
    "duration": 52,
    "start_time": "2022-02-05T10:43:31.804Z"
   },
   {
    "duration": 95,
    "start_time": "2022-02-05T10:43:31.858Z"
   },
   {
    "duration": 57,
    "start_time": "2022-02-05T10:43:31.955Z"
   },
   {
    "duration": 44,
    "start_time": "2022-02-05T10:43:32.014Z"
   },
   {
    "duration": 85,
    "start_time": "2022-02-05T10:43:32.060Z"
   },
   {
    "duration": 4,
    "start_time": "2022-02-05T10:43:32.146Z"
   },
   {
    "duration": 13,
    "start_time": "2022-02-05T10:43:32.152Z"
   },
   {
    "duration": 14,
    "start_time": "2022-02-05T10:43:32.167Z"
   },
   {
    "duration": 16,
    "start_time": "2022-02-05T10:43:32.182Z"
   },
   {
    "duration": 4,
    "start_time": "2022-02-05T10:43:32.200Z"
   },
   {
    "duration": 74,
    "start_time": "2022-02-05T10:43:32.207Z"
   },
   {
    "duration": 50,
    "start_time": "2022-02-05T10:43:32.283Z"
   },
   {
    "duration": 35,
    "start_time": "2022-02-05T10:43:32.335Z"
   },
   {
    "duration": 46,
    "start_time": "2022-02-05T10:43:32.372Z"
   },
   {
    "duration": 9,
    "start_time": "2022-02-05T10:43:32.420Z"
   },
   {
    "duration": 14,
    "start_time": "2022-02-05T10:43:32.431Z"
   },
   {
    "duration": 17,
    "start_time": "2022-02-05T10:43:32.447Z"
   },
   {
    "duration": 38,
    "start_time": "2022-02-05T10:43:32.466Z"
   },
   {
    "duration": 30,
    "start_time": "2022-02-05T10:43:32.506Z"
   },
   {
    "duration": 8,
    "start_time": "2022-02-05T10:43:32.538Z"
   },
   {
    "duration": 10,
    "start_time": "2022-02-05T10:43:32.548Z"
   },
   {
    "duration": 9,
    "start_time": "2022-02-05T10:43:32.559Z"
   },
   {
    "duration": 42,
    "start_time": "2022-02-05T10:43:32.569Z"
   },
   {
    "duration": 14,
    "start_time": "2022-02-05T10:43:32.612Z"
   },
   {
    "duration": 15,
    "start_time": "2022-02-05T10:43:32.628Z"
   },
   {
    "duration": 17,
    "start_time": "2022-02-05T10:43:32.645Z"
   },
   {
    "duration": 51,
    "start_time": "2022-02-05T10:43:32.664Z"
   },
   {
    "duration": 6,
    "start_time": "2022-02-05T10:43:32.716Z"
   },
   {
    "duration": 29,
    "start_time": "2022-02-05T10:43:32.723Z"
   },
   {
    "duration": 59,
    "start_time": "2022-02-05T10:43:32.754Z"
   },
   {
    "duration": 8,
    "start_time": "2022-02-05T10:43:32.814Z"
   },
   {
    "duration": 5,
    "start_time": "2022-02-05T10:43:32.824Z"
   },
   {
    "duration": 10,
    "start_time": "2022-02-05T10:43:32.831Z"
   },
   {
    "duration": 267,
    "start_time": "2022-02-05T10:43:32.843Z"
   },
   {
    "duration": 251,
    "start_time": "2022-02-05T10:43:33.111Z"
   },
   {
    "duration": 250,
    "start_time": "2022-02-05T10:43:33.364Z"
   },
   {
    "duration": 4,
    "start_time": "2022-02-05T10:43:33.616Z"
   },
   {
    "duration": 5,
    "start_time": "2022-02-05T10:43:33.621Z"
   },
   {
    "duration": 9,
    "start_time": "2022-02-05T10:43:33.628Z"
   },
   {
    "duration": 11,
    "start_time": "2022-02-05T10:43:33.639Z"
   },
   {
    "duration": 268,
    "start_time": "2022-02-05T10:43:33.652Z"
   },
   {
    "duration": 264,
    "start_time": "2022-02-05T10:43:33.921Z"
   },
   {
    "duration": 271,
    "start_time": "2022-02-05T10:43:34.187Z"
   },
   {
    "duration": 4,
    "start_time": "2022-02-05T10:43:34.460Z"
   },
   {
    "duration": 6,
    "start_time": "2022-02-05T10:43:34.466Z"
   },
   {
    "duration": 10,
    "start_time": "2022-02-05T10:43:34.473Z"
   },
   {
    "duration": 266,
    "start_time": "2022-02-05T10:43:34.502Z"
   },
   {
    "duration": 266,
    "start_time": "2022-02-05T10:43:34.770Z"
   },
   {
    "duration": 5,
    "start_time": "2022-02-05T10:43:35.038Z"
   },
   {
    "duration": 5,
    "start_time": "2022-02-05T10:43:35.045Z"
   },
   {
    "duration": 11,
    "start_time": "2022-02-05T10:43:35.052Z"
   },
   {
    "duration": 321,
    "start_time": "2022-02-05T10:43:35.065Z"
   },
   {
    "duration": 252,
    "start_time": "2022-02-05T10:43:35.388Z"
   },
   {
    "duration": 4,
    "start_time": "2022-02-05T10:43:35.642Z"
   },
   {
    "duration": 6,
    "start_time": "2022-02-05T10:43:35.648Z"
   },
   {
    "duration": 21,
    "start_time": "2022-02-05T10:43:35.656Z"
   },
   {
    "duration": 285,
    "start_time": "2022-02-05T10:43:35.679Z"
   },
   {
    "duration": 5,
    "start_time": "2022-02-05T10:43:35.966Z"
   },
   {
    "duration": 11,
    "start_time": "2022-02-05T10:43:35.973Z"
   },
   {
    "duration": 16,
    "start_time": "2022-02-05T10:43:35.986Z"
   },
   {
    "duration": 252,
    "start_time": "2022-02-05T10:43:36.004Z"
   },
   {
    "duration": 4,
    "start_time": "2022-02-05T10:43:36.258Z"
   },
   {
    "duration": 8,
    "start_time": "2022-02-05T10:43:36.264Z"
   },
   {
    "duration": 9,
    "start_time": "2022-02-05T10:43:36.274Z"
   },
   {
    "duration": 6,
    "start_time": "2022-02-05T10:43:36.299Z"
   },
   {
    "duration": 8,
    "start_time": "2022-02-05T10:43:36.307Z"
   },
   {
    "duration": 7,
    "start_time": "2022-02-05T10:43:36.316Z"
   },
   {
    "duration": 9,
    "start_time": "2022-02-05T10:43:36.325Z"
   },
   {
    "duration": 12,
    "start_time": "2022-02-05T10:43:36.335Z"
   },
   {
    "duration": 8,
    "start_time": "2022-02-05T10:43:36.348Z"
   },
   {
    "duration": 45,
    "start_time": "2022-02-05T10:43:36.358Z"
   },
   {
    "duration": 8,
    "start_time": "2022-02-05T10:43:36.404Z"
   },
   {
    "duration": 93,
    "start_time": "2022-02-05T10:43:36.414Z"
   },
   {
    "duration": -267,
    "start_time": "2022-02-05T10:43:36.776Z"
   },
   {
    "duration": -272,
    "start_time": "2022-02-05T10:43:36.782Z"
   },
   {
    "duration": -277,
    "start_time": "2022-02-05T10:43:36.788Z"
   },
   {
    "duration": -281,
    "start_time": "2022-02-05T10:43:36.794Z"
   },
   {
    "duration": 321,
    "start_time": "2022-02-05T10:44:06.331Z"
   },
   {
    "duration": 336,
    "start_time": "2022-02-05T10:44:20.979Z"
   },
   {
    "duration": 314,
    "start_time": "2022-02-05T10:45:16.113Z"
   },
   {
    "duration": 387,
    "start_time": "2022-02-05T10:45:28.132Z"
   },
   {
    "duration": 94,
    "start_time": "2022-02-05T10:46:09.092Z"
   },
   {
    "duration": 377,
    "start_time": "2022-02-05T10:46:18.005Z"
   },
   {
    "duration": 307,
    "start_time": "2022-02-05T10:47:02.213Z"
   },
   {
    "duration": 287,
    "start_time": "2022-02-05T10:48:07.434Z"
   },
   {
    "duration": 379,
    "start_time": "2022-02-05T10:48:16.183Z"
   },
   {
    "duration": 289,
    "start_time": "2022-02-05T10:48:21.981Z"
   },
   {
    "duration": 236,
    "start_time": "2022-02-05T10:48:43.757Z"
   },
   {
    "duration": 303,
    "start_time": "2022-02-05T10:48:49.302Z"
   },
   {
    "duration": 317,
    "start_time": "2022-02-05T10:48:55.654Z"
   },
   {
    "duration": 340,
    "start_time": "2022-02-05T10:50:48.775Z"
   },
   {
    "duration": 335,
    "start_time": "2022-02-05T10:51:02.703Z"
   },
   {
    "duration": 345,
    "start_time": "2022-02-05T10:51:07.478Z"
   },
   {
    "duration": 330,
    "start_time": "2022-02-05T10:51:37.254Z"
   },
   {
    "duration": 342,
    "start_time": "2022-02-05T10:52:08.520Z"
   },
   {
    "duration": 325,
    "start_time": "2022-02-05T10:52:59.519Z"
   },
   {
    "duration": 411,
    "start_time": "2022-02-05T10:53:13.735Z"
   },
   {
    "duration": 381,
    "start_time": "2022-02-05T10:53:55.152Z"
   },
   {
    "duration": 347,
    "start_time": "2022-02-05T10:54:20.993Z"
   },
   {
    "duration": 338,
    "start_time": "2022-02-05T10:56:00.465Z"
   },
   {
    "duration": 319,
    "start_time": "2022-02-05T10:56:16.321Z"
   },
   {
    "duration": 323,
    "start_time": "2022-02-05T10:56:26.945Z"
   },
   {
    "duration": 332,
    "start_time": "2022-02-05T10:56:32.026Z"
   },
   {
    "duration": 323,
    "start_time": "2022-02-05T10:56:40.345Z"
   },
   {
    "duration": 337,
    "start_time": "2022-02-05T10:56:48.433Z"
   },
   {
    "duration": 333,
    "start_time": "2022-02-05T10:57:33.026Z"
   },
   {
    "duration": 338,
    "start_time": "2022-02-05T10:58:41.322Z"
   },
   {
    "duration": 412,
    "start_time": "2022-02-05T10:59:07.842Z"
   },
   {
    "duration": 353,
    "start_time": "2022-02-05T10:59:23.879Z"
   },
   {
    "duration": 366,
    "start_time": "2022-02-05T10:59:36.123Z"
   },
   {
    "duration": 384,
    "start_time": "2022-02-05T10:59:52.732Z"
   },
   {
    "duration": 384,
    "start_time": "2022-02-05T11:00:00.341Z"
   },
   {
    "duration": 356,
    "start_time": "2022-02-05T11:04:23.599Z"
   },
   {
    "duration": 374,
    "start_time": "2022-02-05T11:04:42.757Z"
   },
   {
    "duration": 355,
    "start_time": "2022-02-05T11:06:22.465Z"
   },
   {
    "duration": 267,
    "start_time": "2022-02-05T11:07:04.129Z"
   },
   {
    "duration": 257,
    "start_time": "2022-02-05T11:08:05.879Z"
   },
   {
    "duration": 1129,
    "start_time": "2022-02-05T11:08:13.548Z"
   },
   {
    "duration": 188,
    "start_time": "2022-02-05T11:08:14.679Z"
   },
   {
    "duration": 36,
    "start_time": "2022-02-05T11:08:14.870Z"
   },
   {
    "duration": 19,
    "start_time": "2022-02-05T11:08:14.908Z"
   },
   {
    "duration": 163,
    "start_time": "2022-02-05T11:08:14.929Z"
   },
   {
    "duration": 14,
    "start_time": "2022-02-05T11:08:15.098Z"
   },
   {
    "duration": 114,
    "start_time": "2022-02-05T11:08:15.114Z"
   },
   {
    "duration": 23,
    "start_time": "2022-02-05T11:08:15.231Z"
   },
   {
    "duration": 42,
    "start_time": "2022-02-05T11:08:15.256Z"
   },
   {
    "duration": 107,
    "start_time": "2022-02-05T11:08:15.300Z"
   },
   {
    "duration": 64,
    "start_time": "2022-02-05T11:08:15.409Z"
   },
   {
    "duration": 59,
    "start_time": "2022-02-05T11:08:15.475Z"
   },
   {
    "duration": 81,
    "start_time": "2022-02-05T11:08:15.536Z"
   },
   {
    "duration": 3,
    "start_time": "2022-02-05T11:08:15.619Z"
   },
   {
    "duration": 11,
    "start_time": "2022-02-05T11:08:15.624Z"
   },
   {
    "duration": 13,
    "start_time": "2022-02-05T11:08:15.636Z"
   },
   {
    "duration": 8,
    "start_time": "2022-02-05T11:08:15.651Z"
   },
   {
    "duration": 11,
    "start_time": "2022-02-05T11:08:15.661Z"
   },
   {
    "duration": 68,
    "start_time": "2022-02-05T11:08:15.674Z"
   },
   {
    "duration": 75,
    "start_time": "2022-02-05T11:08:15.744Z"
   },
   {
    "duration": 37,
    "start_time": "2022-02-05T11:08:15.821Z"
   },
   {
    "duration": 51,
    "start_time": "2022-02-05T11:08:15.860Z"
   },
   {
    "duration": 11,
    "start_time": "2022-02-05T11:08:15.917Z"
   },
   {
    "duration": 15,
    "start_time": "2022-02-05T11:08:15.931Z"
   },
   {
    "duration": 25,
    "start_time": "2022-02-05T11:08:15.948Z"
   },
   {
    "duration": 29,
    "start_time": "2022-02-05T11:08:15.975Z"
   },
   {
    "duration": 25,
    "start_time": "2022-02-05T11:08:16.006Z"
   },
   {
    "duration": 9,
    "start_time": "2022-02-05T11:08:16.033Z"
   },
   {
    "duration": 11,
    "start_time": "2022-02-05T11:08:16.044Z"
   },
   {
    "duration": 9,
    "start_time": "2022-02-05T11:08:16.098Z"
   },
   {
    "duration": 18,
    "start_time": "2022-02-05T11:08:16.109Z"
   },
   {
    "duration": 15,
    "start_time": "2022-02-05T11:08:16.129Z"
   },
   {
    "duration": 55,
    "start_time": "2022-02-05T11:08:16.146Z"
   },
   {
    "duration": 18,
    "start_time": "2022-02-05T11:08:16.203Z"
   },
   {
    "duration": 25,
    "start_time": "2022-02-05T11:08:16.223Z"
   },
   {
    "duration": 7,
    "start_time": "2022-02-05T11:08:16.249Z"
   },
   {
    "duration": 64,
    "start_time": "2022-02-05T11:08:16.258Z"
   },
   {
    "duration": 35,
    "start_time": "2022-02-05T11:08:16.324Z"
   },
   {
    "duration": 38,
    "start_time": "2022-02-05T11:08:16.361Z"
   },
   {
    "duration": 6,
    "start_time": "2022-02-05T11:08:16.401Z"
   },
   {
    "duration": 11,
    "start_time": "2022-02-05T11:08:16.408Z"
   },
   {
    "duration": 291,
    "start_time": "2022-02-05T11:08:16.421Z"
   },
   {
    "duration": 273,
    "start_time": "2022-02-05T11:08:16.714Z"
   },
   {
    "duration": 266,
    "start_time": "2022-02-05T11:08:16.989Z"
   },
   {
    "duration": 5,
    "start_time": "2022-02-05T11:08:17.257Z"
   },
   {
    "duration": 10,
    "start_time": "2022-02-05T11:08:17.264Z"
   },
   {
    "duration": 11,
    "start_time": "2022-02-05T11:08:17.276Z"
   },
   {
    "duration": 8,
    "start_time": "2022-02-05T11:08:17.299Z"
   },
   {
    "duration": 283,
    "start_time": "2022-02-05T11:08:17.309Z"
   },
   {
    "duration": 263,
    "start_time": "2022-02-05T11:08:17.593Z"
   },
   {
    "duration": 277,
    "start_time": "2022-02-05T11:08:17.858Z"
   },
   {
    "duration": 5,
    "start_time": "2022-02-05T11:08:18.137Z"
   },
   {
    "duration": 7,
    "start_time": "2022-02-05T11:08:18.144Z"
   },
   {
    "duration": 17,
    "start_time": "2022-02-05T11:08:18.153Z"
   },
   {
    "duration": 300,
    "start_time": "2022-02-05T11:08:18.173Z"
   },
   {
    "duration": 275,
    "start_time": "2022-02-05T11:08:18.475Z"
   },
   {
    "duration": 6,
    "start_time": "2022-02-05T11:08:18.752Z"
   },
   {
    "duration": 10,
    "start_time": "2022-02-05T11:08:18.760Z"
   },
   {
    "duration": 11,
    "start_time": "2022-02-05T11:08:18.772Z"
   },
   {
    "duration": 353,
    "start_time": "2022-02-05T11:08:18.798Z"
   },
   {
    "duration": 260,
    "start_time": "2022-02-05T11:08:19.153Z"
   },
   {
    "duration": 5,
    "start_time": "2022-02-05T11:08:19.415Z"
   },
   {
    "duration": 5,
    "start_time": "2022-02-05T11:08:19.422Z"
   },
   {
    "duration": 14,
    "start_time": "2022-02-05T11:08:19.429Z"
   },
   {
    "duration": 314,
    "start_time": "2022-02-05T11:08:19.445Z"
   },
   {
    "duration": 5,
    "start_time": "2022-02-05T11:08:19.761Z"
   },
   {
    "duration": 7,
    "start_time": "2022-02-05T11:08:19.767Z"
   },
   {
    "duration": 24,
    "start_time": "2022-02-05T11:08:19.779Z"
   },
   {
    "duration": 273,
    "start_time": "2022-02-05T11:08:19.805Z"
   },
   {
    "duration": 5,
    "start_time": "2022-02-05T11:08:20.079Z"
   },
   {
    "duration": 4,
    "start_time": "2022-02-05T11:08:20.098Z"
   },
   {
    "duration": 9,
    "start_time": "2022-02-05T11:08:20.104Z"
   },
   {
    "duration": 9,
    "start_time": "2022-02-05T11:08:20.115Z"
   },
   {
    "duration": 8,
    "start_time": "2022-02-05T11:08:20.126Z"
   },
   {
    "duration": 8,
    "start_time": "2022-02-05T11:08:20.136Z"
   },
   {
    "duration": 9,
    "start_time": "2022-02-05T11:08:20.145Z"
   },
   {
    "duration": 45,
    "start_time": "2022-02-05T11:08:20.156Z"
   },
   {
    "duration": 14,
    "start_time": "2022-02-05T11:08:20.202Z"
   },
   {
    "duration": 13,
    "start_time": "2022-02-05T11:08:20.217Z"
   },
   {
    "duration": 11,
    "start_time": "2022-02-05T11:08:20.231Z"
   },
   {
    "duration": 421,
    "start_time": "2022-02-05T11:08:20.244Z"
   },
   {
    "duration": 7,
    "start_time": "2022-02-05T11:08:20.667Z"
   },
   {
    "duration": 24,
    "start_time": "2022-02-05T11:08:20.676Z"
   },
   {
    "duration": 8,
    "start_time": "2022-02-05T11:08:20.702Z"
   },
   {
    "duration": 14,
    "start_time": "2022-02-05T11:08:20.712Z"
   },
   {
    "duration": 669,
    "start_time": "2022-02-05T11:08:20.728Z"
   },
   {
    "duration": 353,
    "start_time": "2022-02-05T11:08:57.140Z"
   },
   {
    "duration": 376,
    "start_time": "2022-02-05T11:09:52.773Z"
   },
   {
    "duration": 372,
    "start_time": "2022-02-05T11:10:09.435Z"
   },
   {
    "duration": 374,
    "start_time": "2022-02-05T11:10:42.787Z"
   },
   {
    "duration": 367,
    "start_time": "2022-02-05T11:10:47.980Z"
   },
   {
    "duration": 441,
    "start_time": "2022-02-05T11:11:14.046Z"
   },
   {
    "duration": 383,
    "start_time": "2022-02-05T11:11:52.621Z"
   },
   {
    "duration": 361,
    "start_time": "2022-02-05T11:11:57.877Z"
   },
   {
    "duration": 360,
    "start_time": "2022-02-05T11:12:05.559Z"
   },
   {
    "duration": 364,
    "start_time": "2022-02-05T11:12:16.006Z"
   },
   {
    "duration": 364,
    "start_time": "2022-02-05T11:12:29.181Z"
   },
   {
    "duration": 377,
    "start_time": "2022-02-05T11:12:39.229Z"
   },
   {
    "duration": 385,
    "start_time": "2022-02-05T11:13:41.998Z"
   },
   {
    "duration": 386,
    "start_time": "2022-02-05T11:13:48.677Z"
   },
   {
    "duration": 392,
    "start_time": "2022-02-05T11:13:52.678Z"
   },
   {
    "duration": 384,
    "start_time": "2022-02-05T11:14:07.758Z"
   },
   {
    "duration": 472,
    "start_time": "2022-02-05T11:14:11.910Z"
   },
   {
    "duration": 383,
    "start_time": "2022-02-05T11:14:18.605Z"
   },
   {
    "duration": 391,
    "start_time": "2022-02-05T11:14:35.870Z"
   },
   {
    "duration": 386,
    "start_time": "2022-02-05T11:14:45.182Z"
   },
   {
    "duration": 1175,
    "start_time": "2022-02-05T11:15:28.502Z"
   },
   {
    "duration": 202,
    "start_time": "2022-02-05T11:15:29.680Z"
   },
   {
    "duration": 37,
    "start_time": "2022-02-05T11:15:29.884Z"
   },
   {
    "duration": 20,
    "start_time": "2022-02-05T11:15:29.923Z"
   },
   {
    "duration": 174,
    "start_time": "2022-02-05T11:15:29.945Z"
   },
   {
    "duration": 15,
    "start_time": "2022-02-05T11:15:30.120Z"
   },
   {
    "duration": 124,
    "start_time": "2022-02-05T11:15:30.137Z"
   },
   {
    "duration": 23,
    "start_time": "2022-02-05T11:15:30.264Z"
   },
   {
    "duration": 40,
    "start_time": "2022-02-05T11:15:30.290Z"
   },
   {
    "duration": 124,
    "start_time": "2022-02-05T11:15:30.332Z"
   },
   {
    "duration": 71,
    "start_time": "2022-02-05T11:15:30.458Z"
   },
   {
    "duration": 48,
    "start_time": "2022-02-05T11:15:30.530Z"
   },
   {
    "duration": 87,
    "start_time": "2022-02-05T11:15:30.580Z"
   },
   {
    "duration": 4,
    "start_time": "2022-02-05T11:15:30.668Z"
   },
   {
    "duration": 24,
    "start_time": "2022-02-05T11:15:30.674Z"
   },
   {
    "duration": 12,
    "start_time": "2022-02-05T11:15:30.700Z"
   },
   {
    "duration": 16,
    "start_time": "2022-02-05T11:15:30.714Z"
   },
   {
    "duration": 15,
    "start_time": "2022-02-05T11:15:30.732Z"
   },
   {
    "duration": 63,
    "start_time": "2022-02-05T11:15:30.749Z"
   },
   {
    "duration": 52,
    "start_time": "2022-02-05T11:15:30.814Z"
   },
   {
    "duration": 56,
    "start_time": "2022-02-05T11:15:30.868Z"
   },
   {
    "duration": 36,
    "start_time": "2022-02-05T11:15:30.926Z"
   },
   {
    "duration": 32,
    "start_time": "2022-02-05T11:15:30.967Z"
   },
   {
    "duration": 15,
    "start_time": "2022-02-05T11:15:31.003Z"
   },
   {
    "duration": 21,
    "start_time": "2022-02-05T11:15:31.020Z"
   },
   {
    "duration": 22,
    "start_time": "2022-02-05T11:15:31.044Z"
   },
   {
    "duration": 43,
    "start_time": "2022-02-05T11:15:31.068Z"
   },
   {
    "duration": 9,
    "start_time": "2022-02-05T11:15:31.112Z"
   },
   {
    "duration": 21,
    "start_time": "2022-02-05T11:15:31.123Z"
   },
   {
    "duration": 27,
    "start_time": "2022-02-05T11:15:31.145Z"
   },
   {
    "duration": 37,
    "start_time": "2022-02-05T11:15:31.174Z"
   },
   {
    "duration": 16,
    "start_time": "2022-02-05T11:15:31.213Z"
   },
   {
    "duration": 29,
    "start_time": "2022-02-05T11:15:31.232Z"
   },
   {
    "duration": 36,
    "start_time": "2022-02-05T11:15:31.263Z"
   },
   {
    "duration": 30,
    "start_time": "2022-02-05T11:15:31.301Z"
   },
   {
    "duration": 8,
    "start_time": "2022-02-05T11:15:31.333Z"
   },
   {
    "duration": 55,
    "start_time": "2022-02-05T11:15:31.343Z"
   },
   {
    "duration": 35,
    "start_time": "2022-02-05T11:15:31.400Z"
   },
   {
    "duration": 10,
    "start_time": "2022-02-05T11:15:31.436Z"
   },
   {
    "duration": 11,
    "start_time": "2022-02-05T11:15:31.447Z"
   },
   {
    "duration": 44,
    "start_time": "2022-02-05T11:15:31.459Z"
   },
   {
    "duration": 272,
    "start_time": "2022-02-05T11:15:31.504Z"
   },
   {
    "duration": 268,
    "start_time": "2022-02-05T11:15:31.778Z"
   },
   {
    "duration": 281,
    "start_time": "2022-02-05T11:15:32.048Z"
   },
   {
    "duration": 5,
    "start_time": "2022-02-05T11:15:32.331Z"
   },
   {
    "duration": 14,
    "start_time": "2022-02-05T11:15:32.338Z"
   },
   {
    "duration": 20,
    "start_time": "2022-02-05T11:15:32.355Z"
   },
   {
    "duration": 17,
    "start_time": "2022-02-05T11:15:32.378Z"
   },
   {
    "duration": 306,
    "start_time": "2022-02-05T11:15:32.399Z"
   },
   {
    "duration": 271,
    "start_time": "2022-02-05T11:15:32.707Z"
   },
   {
    "duration": 291,
    "start_time": "2022-02-05T11:15:32.980Z"
   },
   {
    "duration": 5,
    "start_time": "2022-02-05T11:15:33.273Z"
   },
   {
    "duration": 19,
    "start_time": "2022-02-05T11:15:33.280Z"
   },
   {
    "duration": 9,
    "start_time": "2022-02-05T11:15:33.301Z"
   },
   {
    "duration": 299,
    "start_time": "2022-02-05T11:15:33.312Z"
   },
   {
    "duration": 288,
    "start_time": "2022-02-05T11:15:33.613Z"
   },
   {
    "duration": 4,
    "start_time": "2022-02-05T11:15:33.904Z"
   },
   {
    "duration": 11,
    "start_time": "2022-02-05T11:15:33.910Z"
   },
   {
    "duration": 14,
    "start_time": "2022-02-05T11:15:33.922Z"
   },
   {
    "duration": 362,
    "start_time": "2022-02-05T11:15:33.938Z"
   },
   {
    "duration": 286,
    "start_time": "2022-02-05T11:15:34.302Z"
   },
   {
    "duration": 9,
    "start_time": "2022-02-05T11:15:34.590Z"
   },
   {
    "duration": 3,
    "start_time": "2022-02-05T11:15:34.601Z"
   },
   {
    "duration": 13,
    "start_time": "2022-02-05T11:15:34.606Z"
   },
   {
    "duration": 310,
    "start_time": "2022-02-05T11:15:34.621Z"
   },
   {
    "duration": 5,
    "start_time": "2022-02-05T11:15:34.933Z"
   },
   {
    "duration": 4,
    "start_time": "2022-02-05T11:15:34.940Z"
   },
   {
    "duration": 8,
    "start_time": "2022-02-05T11:15:34.951Z"
   },
   {
    "duration": 291,
    "start_time": "2022-02-05T11:15:34.962Z"
   },
   {
    "duration": 5,
    "start_time": "2022-02-05T11:15:35.254Z"
   },
   {
    "duration": 18,
    "start_time": "2022-02-05T11:15:35.261Z"
   },
   {
    "duration": 15,
    "start_time": "2022-02-05T11:15:35.281Z"
   },
   {
    "duration": 19,
    "start_time": "2022-02-05T11:15:35.298Z"
   },
   {
    "duration": 11,
    "start_time": "2022-02-05T11:15:35.319Z"
   },
   {
    "duration": 27,
    "start_time": "2022-02-05T11:15:35.333Z"
   },
   {
    "duration": 19,
    "start_time": "2022-02-05T11:15:35.363Z"
   },
   {
    "duration": 23,
    "start_time": "2022-02-05T11:15:35.385Z"
   },
   {
    "duration": 36,
    "start_time": "2022-02-05T11:15:35.411Z"
   },
   {
    "duration": 20,
    "start_time": "2022-02-05T11:15:35.449Z"
   },
   {
    "duration": 27,
    "start_time": "2022-02-05T11:15:35.472Z"
   },
   {
    "duration": 418,
    "start_time": "2022-02-05T11:15:35.502Z"
   },
   {
    "duration": 8,
    "start_time": "2022-02-05T11:15:35.922Z"
   },
   {
    "duration": 16,
    "start_time": "2022-02-05T11:15:35.932Z"
   },
   {
    "duration": 12,
    "start_time": "2022-02-05T11:15:35.950Z"
   },
   {
    "duration": 15,
    "start_time": "2022-02-05T11:15:35.964Z"
   },
   {
    "duration": 391,
    "start_time": "2022-02-05T11:15:35.981Z"
   },
   {
    "duration": 10,
    "start_time": "2022-02-05T11:16:45.545Z"
   },
   {
    "duration": 9,
    "start_time": "2022-02-05T11:17:21.575Z"
   },
   {
    "duration": 389,
    "start_time": "2022-02-05T11:18:42.809Z"
   },
   {
    "duration": 367,
    "start_time": "2022-02-05T11:18:49.673Z"
   },
   {
    "duration": 1122,
    "start_time": "2022-02-05T11:25:25.060Z"
   },
   {
    "duration": 194,
    "start_time": "2022-02-05T11:25:26.184Z"
   },
   {
    "duration": 38,
    "start_time": "2022-02-05T11:25:26.380Z"
   },
   {
    "duration": 19,
    "start_time": "2022-02-05T11:25:26.420Z"
   },
   {
    "duration": 171,
    "start_time": "2022-02-05T11:25:26.441Z"
   },
   {
    "duration": 14,
    "start_time": "2022-02-05T11:25:26.613Z"
   },
   {
    "duration": 122,
    "start_time": "2022-02-05T11:25:26.629Z"
   },
   {
    "duration": 22,
    "start_time": "2022-02-05T11:25:26.754Z"
   },
   {
    "duration": 37,
    "start_time": "2022-02-05T11:25:26.779Z"
   },
   {
    "duration": 107,
    "start_time": "2022-02-05T11:25:26.818Z"
   },
   {
    "duration": 77,
    "start_time": "2022-02-05T11:25:26.927Z"
   },
   {
    "duration": 46,
    "start_time": "2022-02-05T11:25:27.006Z"
   },
   {
    "duration": 86,
    "start_time": "2022-02-05T11:25:27.054Z"
   },
   {
    "duration": 4,
    "start_time": "2022-02-05T11:25:27.142Z"
   },
   {
    "duration": 9,
    "start_time": "2022-02-05T11:25:27.148Z"
   },
   {
    "duration": 12,
    "start_time": "2022-02-05T11:25:27.159Z"
   },
   {
    "duration": 8,
    "start_time": "2022-02-05T11:25:27.173Z"
   },
   {
    "duration": 18,
    "start_time": "2022-02-05T11:25:27.182Z"
   },
   {
    "duration": 57,
    "start_time": "2022-02-05T11:25:27.202Z"
   },
   {
    "duration": 65,
    "start_time": "2022-02-05T11:25:27.261Z"
   },
   {
    "duration": 36,
    "start_time": "2022-02-05T11:25:27.328Z"
   },
   {
    "duration": 52,
    "start_time": "2022-02-05T11:25:27.366Z"
   },
   {
    "duration": 10,
    "start_time": "2022-02-05T11:25:27.422Z"
   },
   {
    "duration": 15,
    "start_time": "2022-02-05T11:25:27.435Z"
   },
   {
    "duration": 15,
    "start_time": "2022-02-05T11:25:27.451Z"
   },
   {
    "duration": 41,
    "start_time": "2022-02-05T11:25:27.468Z"
   },
   {
    "duration": 24,
    "start_time": "2022-02-05T11:25:27.511Z"
   },
   {
    "duration": 7,
    "start_time": "2022-02-05T11:25:27.537Z"
   },
   {
    "duration": 10,
    "start_time": "2022-02-05T11:25:27.546Z"
   },
   {
    "duration": 13,
    "start_time": "2022-02-05T11:25:27.558Z"
   },
   {
    "duration": 16,
    "start_time": "2022-02-05T11:25:27.598Z"
   },
   {
    "duration": 15,
    "start_time": "2022-02-05T11:25:27.616Z"
   },
   {
    "duration": 15,
    "start_time": "2022-02-05T11:25:27.634Z"
   },
   {
    "duration": 17,
    "start_time": "2022-02-05T11:25:27.651Z"
   },
   {
    "duration": 26,
    "start_time": "2022-02-05T11:25:27.699Z"
   },
   {
    "duration": 7,
    "start_time": "2022-02-05T11:25:27.727Z"
   },
   {
    "duration": 28,
    "start_time": "2022-02-05T11:25:27.735Z"
   },
   {
    "duration": 63,
    "start_time": "2022-02-05T11:25:27.765Z"
   },
   {
    "duration": 7,
    "start_time": "2022-02-05T11:25:27.830Z"
   },
   {
    "duration": 6,
    "start_time": "2022-02-05T11:25:27.839Z"
   },
   {
    "duration": 9,
    "start_time": "2022-02-05T11:25:27.847Z"
   },
   {
    "duration": 302,
    "start_time": "2022-02-05T11:25:27.857Z"
   },
   {
    "duration": 262,
    "start_time": "2022-02-05T11:25:28.161Z"
   },
   {
    "duration": 269,
    "start_time": "2022-02-05T11:25:28.426Z"
   },
   {
    "duration": 5,
    "start_time": "2022-02-05T11:25:28.697Z"
   },
   {
    "duration": 6,
    "start_time": "2022-02-05T11:25:28.704Z"
   },
   {
    "duration": 13,
    "start_time": "2022-02-05T11:25:28.712Z"
   },
   {
    "duration": 12,
    "start_time": "2022-02-05T11:25:28.727Z"
   },
   {
    "duration": 281,
    "start_time": "2022-02-05T11:25:28.741Z"
   },
   {
    "duration": 264,
    "start_time": "2022-02-05T11:25:29.024Z"
   },
   {
    "duration": 280,
    "start_time": "2022-02-05T11:25:29.290Z"
   },
   {
    "duration": 5,
    "start_time": "2022-02-05T11:25:29.572Z"
   },
   {
    "duration": 20,
    "start_time": "2022-02-05T11:25:29.580Z"
   },
   {
    "duration": 9,
    "start_time": "2022-02-05T11:25:29.602Z"
   },
   {
    "duration": 279,
    "start_time": "2022-02-05T11:25:29.613Z"
   },
   {
    "duration": 281,
    "start_time": "2022-02-05T11:25:29.893Z"
   },
   {
    "duration": 5,
    "start_time": "2022-02-05T11:25:30.176Z"
   },
   {
    "duration": 40,
    "start_time": "2022-02-05T11:25:30.183Z"
   },
   {
    "duration": 22,
    "start_time": "2022-02-05T11:25:30.225Z"
   },
   {
    "duration": 345,
    "start_time": "2022-02-05T11:25:30.248Z"
   },
   {
    "duration": 258,
    "start_time": "2022-02-05T11:25:30.595Z"
   },
   {
    "duration": 5,
    "start_time": "2022-02-05T11:25:30.855Z"
   },
   {
    "duration": 12,
    "start_time": "2022-02-05T11:25:30.861Z"
   },
   {
    "duration": 29,
    "start_time": "2022-02-05T11:25:30.875Z"
   },
   {
    "duration": 299,
    "start_time": "2022-02-05T11:25:30.906Z"
   },
   {
    "duration": 5,
    "start_time": "2022-02-05T11:25:31.206Z"
   },
   {
    "duration": 17,
    "start_time": "2022-02-05T11:25:31.213Z"
   },
   {
    "duration": 24,
    "start_time": "2022-02-05T11:25:31.235Z"
   },
   {
    "duration": 258,
    "start_time": "2022-02-05T11:25:31.261Z"
   },
   {
    "duration": 5,
    "start_time": "2022-02-05T11:25:31.521Z"
   },
   {
    "duration": 12,
    "start_time": "2022-02-05T11:25:31.527Z"
   },
   {
    "duration": 29,
    "start_time": "2022-02-05T11:25:31.541Z"
   },
   {
    "duration": 30,
    "start_time": "2022-02-05T11:25:31.572Z"
   },
   {
    "duration": 16,
    "start_time": "2022-02-05T11:25:31.604Z"
   },
   {
    "duration": 14,
    "start_time": "2022-02-05T11:25:31.622Z"
   },
   {
    "duration": 14,
    "start_time": "2022-02-05T11:25:31.638Z"
   },
   {
    "duration": 30,
    "start_time": "2022-02-05T11:25:31.654Z"
   },
   {
    "duration": 23,
    "start_time": "2022-02-05T11:25:31.686Z"
   },
   {
    "duration": 13,
    "start_time": "2022-02-05T11:25:31.711Z"
   },
   {
    "duration": 27,
    "start_time": "2022-02-05T11:25:31.726Z"
   },
   {
    "duration": 383,
    "start_time": "2022-02-05T11:25:31.755Z"
   },
   {
    "duration": 9,
    "start_time": "2022-02-05T11:25:32.141Z"
   },
   {
    "duration": 14,
    "start_time": "2022-02-05T11:25:32.152Z"
   },
   {
    "duration": 14,
    "start_time": "2022-02-05T11:25:32.168Z"
   },
   {
    "duration": 22,
    "start_time": "2022-02-05T11:25:32.184Z"
   },
   {
    "duration": 374,
    "start_time": "2022-02-05T11:25:32.208Z"
   },
   {
    "duration": 1126,
    "start_time": "2022-02-05T11:44:29.149Z"
   },
   {
    "duration": 192,
    "start_time": "2022-02-05T11:44:30.277Z"
   },
   {
    "duration": 38,
    "start_time": "2022-02-05T11:44:30.471Z"
   },
   {
    "duration": 24,
    "start_time": "2022-02-05T11:44:30.511Z"
   },
   {
    "duration": 168,
    "start_time": "2022-02-05T11:44:30.538Z"
   },
   {
    "duration": 14,
    "start_time": "2022-02-05T11:44:30.708Z"
   },
   {
    "duration": 117,
    "start_time": "2022-02-05T11:44:30.724Z"
   },
   {
    "duration": 23,
    "start_time": "2022-02-05T11:44:30.844Z"
   },
   {
    "duration": 60,
    "start_time": "2022-02-05T11:44:30.869Z"
   },
   {
    "duration": 113,
    "start_time": "2022-02-05T11:44:30.932Z"
   },
   {
    "duration": 71,
    "start_time": "2022-02-05T11:44:31.047Z"
   },
   {
    "duration": 48,
    "start_time": "2022-02-05T11:44:31.120Z"
   },
   {
    "duration": 90,
    "start_time": "2022-02-05T11:44:31.170Z"
   },
   {
    "duration": 3,
    "start_time": "2022-02-05T11:44:31.262Z"
   },
   {
    "duration": 23,
    "start_time": "2022-02-05T11:44:31.267Z"
   },
   {
    "duration": 28,
    "start_time": "2022-02-05T11:44:31.291Z"
   },
   {
    "duration": 17,
    "start_time": "2022-02-05T11:44:31.321Z"
   },
   {
    "duration": 17,
    "start_time": "2022-02-05T11:44:31.340Z"
   },
   {
    "duration": 59,
    "start_time": "2022-02-05T11:44:31.359Z"
   },
   {
    "duration": 48,
    "start_time": "2022-02-05T11:44:31.420Z"
   },
   {
    "duration": 48,
    "start_time": "2022-02-05T11:44:31.470Z"
   },
   {
    "duration": 33,
    "start_time": "2022-02-05T11:44:31.520Z"
   },
   {
    "duration": 9,
    "start_time": "2022-02-05T11:44:31.557Z"
   },
   {
    "duration": 33,
    "start_time": "2022-02-05T11:44:31.569Z"
   },
   {
    "duration": 13,
    "start_time": "2022-02-05T11:44:31.604Z"
   },
   {
    "duration": 15,
    "start_time": "2022-02-05T11:44:31.619Z"
   },
   {
    "duration": 28,
    "start_time": "2022-02-05T11:44:31.636Z"
   },
   {
    "duration": 34,
    "start_time": "2022-02-05T11:44:31.666Z"
   },
   {
    "duration": 10,
    "start_time": "2022-02-05T11:44:31.702Z"
   },
   {
    "duration": 15,
    "start_time": "2022-02-05T11:44:31.714Z"
   },
   {
    "duration": 17,
    "start_time": "2022-02-05T11:44:31.731Z"
   },
   {
    "duration": 16,
    "start_time": "2022-02-05T11:44:31.749Z"
   },
   {
    "duration": 41,
    "start_time": "2022-02-05T11:44:31.766Z"
   },
   {
    "duration": 19,
    "start_time": "2022-02-05T11:44:31.810Z"
   },
   {
    "duration": 26,
    "start_time": "2022-02-05T11:44:31.831Z"
   },
   {
    "duration": 6,
    "start_time": "2022-02-05T11:44:31.859Z"
   },
   {
    "duration": 26,
    "start_time": "2022-02-05T11:44:31.899Z"
   },
   {
    "duration": 34,
    "start_time": "2022-02-05T11:44:31.927Z"
   },
   {
    "duration": 9,
    "start_time": "2022-02-05T11:44:31.963Z"
   },
   {
    "duration": 7,
    "start_time": "2022-02-05T11:44:31.998Z"
   },
   {
    "duration": 12,
    "start_time": "2022-02-05T11:44:32.006Z"
   },
   {
    "duration": 262,
    "start_time": "2022-02-05T11:44:32.020Z"
   },
   {
    "duration": 261,
    "start_time": "2022-02-05T11:44:32.284Z"
   },
   {
    "duration": 258,
    "start_time": "2022-02-05T11:44:32.547Z"
   },
   {
    "duration": 4,
    "start_time": "2022-02-05T11:44:32.807Z"
   },
   {
    "duration": 11,
    "start_time": "2022-02-05T11:44:32.813Z"
   },
   {
    "duration": 25,
    "start_time": "2022-02-05T11:44:32.827Z"
   },
   {
    "duration": 21,
    "start_time": "2022-02-05T11:44:32.854Z"
   },
   {
    "duration": 273,
    "start_time": "2022-02-05T11:44:32.877Z"
   },
   {
    "duration": 252,
    "start_time": "2022-02-05T11:44:33.152Z"
   },
   {
    "duration": 265,
    "start_time": "2022-02-05T11:44:33.406Z"
   },
   {
    "duration": 5,
    "start_time": "2022-02-05T11:44:33.673Z"
   },
   {
    "duration": 5,
    "start_time": "2022-02-05T11:44:33.679Z"
   },
   {
    "duration": 20,
    "start_time": "2022-02-05T11:44:33.686Z"
   },
   {
    "duration": 270,
    "start_time": "2022-02-05T11:44:33.708Z"
   },
   {
    "duration": 292,
    "start_time": "2022-02-05T11:44:33.980Z"
   },
   {
    "duration": 5,
    "start_time": "2022-02-05T11:44:34.274Z"
   },
   {
    "duration": 10,
    "start_time": "2022-02-05T11:44:34.281Z"
   },
   {
    "duration": 12,
    "start_time": "2022-02-05T11:44:34.292Z"
   },
   {
    "duration": 312,
    "start_time": "2022-02-05T11:44:34.306Z"
   },
   {
    "duration": 246,
    "start_time": "2022-02-05T11:44:34.620Z"
   },
   {
    "duration": 5,
    "start_time": "2022-02-05T11:44:34.868Z"
   },
   {
    "duration": 6,
    "start_time": "2022-02-05T11:44:34.875Z"
   },
   {
    "duration": 20,
    "start_time": "2022-02-05T11:44:34.883Z"
   },
   {
    "duration": 293,
    "start_time": "2022-02-05T11:44:34.905Z"
   },
   {
    "duration": 6,
    "start_time": "2022-02-05T11:44:35.200Z"
   },
   {
    "duration": 12,
    "start_time": "2022-02-05T11:44:35.209Z"
   },
   {
    "duration": 8,
    "start_time": "2022-02-05T11:44:35.227Z"
   },
   {
    "duration": 268,
    "start_time": "2022-02-05T11:44:35.238Z"
   },
   {
    "duration": 6,
    "start_time": "2022-02-05T11:44:35.508Z"
   },
   {
    "duration": 5,
    "start_time": "2022-02-05T11:44:35.516Z"
   },
   {
    "duration": 7,
    "start_time": "2022-02-05T11:44:35.523Z"
   },
   {
    "duration": 7,
    "start_time": "2022-02-05T11:44:35.532Z"
   },
   {
    "duration": 9,
    "start_time": "2022-02-05T11:44:35.542Z"
   },
   {
    "duration": 47,
    "start_time": "2022-02-05T11:44:35.553Z"
   },
   {
    "duration": 12,
    "start_time": "2022-02-05T11:44:35.602Z"
   },
   {
    "duration": 11,
    "start_time": "2022-02-05T11:44:35.617Z"
   },
   {
    "duration": 12,
    "start_time": "2022-02-05T11:44:35.630Z"
   },
   {
    "duration": 11,
    "start_time": "2022-02-05T11:44:35.644Z"
   },
   {
    "duration": 12,
    "start_time": "2022-02-05T11:44:35.657Z"
   },
   {
    "duration": 403,
    "start_time": "2022-02-05T11:44:35.671Z"
   },
   {
    "duration": 9,
    "start_time": "2022-02-05T11:44:36.077Z"
   },
   {
    "duration": 7,
    "start_time": "2022-02-05T11:44:36.098Z"
   },
   {
    "duration": 9,
    "start_time": "2022-02-05T11:44:36.107Z"
   },
   {
    "duration": 10,
    "start_time": "2022-02-05T11:44:36.119Z"
   },
   {
    "duration": 376,
    "start_time": "2022-02-05T11:44:36.131Z"
   },
   {
    "duration": 1506,
    "start_time": "2022-02-12T15:38:28.833Z"
   },
   {
    "duration": 292,
    "start_time": "2022-02-12T15:38:30.342Z"
   },
   {
    "duration": 60,
    "start_time": "2022-02-12T15:38:30.639Z"
   },
   {
    "duration": 32,
    "start_time": "2022-02-12T15:38:30.725Z"
   },
   {
    "duration": 330,
    "start_time": "2022-02-12T15:38:30.760Z"
   },
   {
    "duration": 48,
    "start_time": "2022-02-12T15:38:31.093Z"
   },
   {
    "duration": 165,
    "start_time": "2022-02-12T15:38:31.144Z"
   },
   {
    "duration": 38,
    "start_time": "2022-02-12T15:38:31.313Z"
   },
   {
    "duration": 55,
    "start_time": "2022-02-12T15:38:31.354Z"
   },
   {
    "duration": 137,
    "start_time": "2022-02-12T15:38:31.411Z"
   },
   {
    "duration": 107,
    "start_time": "2022-02-12T15:38:31.551Z"
   },
   {
    "duration": 69,
    "start_time": "2022-02-12T15:38:31.661Z"
   },
   {
    "duration": 101,
    "start_time": "2022-02-12T15:38:31.732Z"
   },
   {
    "duration": 5,
    "start_time": "2022-02-12T15:38:31.836Z"
   },
   {
    "duration": 13,
    "start_time": "2022-02-12T15:38:31.844Z"
   },
   {
    "duration": 14,
    "start_time": "2022-02-12T15:38:31.861Z"
   },
   {
    "duration": 9,
    "start_time": "2022-02-12T15:38:31.877Z"
   },
   {
    "duration": 40,
    "start_time": "2022-02-12T15:38:31.888Z"
   },
   {
    "duration": 93,
    "start_time": "2022-02-12T15:38:31.931Z"
   },
   {
    "duration": 75,
    "start_time": "2022-02-12T15:38:32.027Z"
   },
   {
    "duration": 79,
    "start_time": "2022-02-12T15:38:32.104Z"
   },
   {
    "duration": 83,
    "start_time": "2022-02-12T15:38:32.185Z"
   },
   {
    "duration": 18,
    "start_time": "2022-02-12T15:38:32.277Z"
   },
   {
    "duration": 33,
    "start_time": "2022-02-12T15:38:32.298Z"
   },
   {
    "duration": 32,
    "start_time": "2022-02-12T15:38:32.333Z"
   },
   {
    "duration": 20,
    "start_time": "2022-02-12T15:38:32.368Z"
   },
   {
    "duration": 49,
    "start_time": "2022-02-12T15:38:32.391Z"
   },
   {
    "duration": 11,
    "start_time": "2022-02-12T15:38:32.442Z"
   },
   {
    "duration": 14,
    "start_time": "2022-02-12T15:38:32.455Z"
   },
   {
    "duration": 20,
    "start_time": "2022-02-12T15:38:32.472Z"
   },
   {
    "duration": 24,
    "start_time": "2022-02-12T15:38:32.523Z"
   },
   {
    "duration": 22,
    "start_time": "2022-02-12T15:38:32.549Z"
   },
   {
    "duration": 51,
    "start_time": "2022-02-12T15:38:32.574Z"
   },
   {
    "duration": 25,
    "start_time": "2022-02-12T15:38:32.628Z"
   },
   {
    "duration": 78,
    "start_time": "2022-02-12T15:38:32.655Z"
   },
   {
    "duration": 11,
    "start_time": "2022-02-12T15:38:32.736Z"
   },
   {
    "duration": 83,
    "start_time": "2022-02-12T15:38:32.750Z"
   },
   {
    "duration": 89,
    "start_time": "2022-02-12T15:38:32.836Z"
   },
   {
    "duration": 13,
    "start_time": "2022-02-12T15:38:32.929Z"
   },
   {
    "duration": 14,
    "start_time": "2022-02-12T15:38:32.945Z"
   },
   {
    "duration": 17,
    "start_time": "2022-02-12T15:38:32.962Z"
   },
   {
    "duration": 429,
    "start_time": "2022-02-12T15:38:32.982Z"
   },
   {
    "duration": 632,
    "start_time": "2022-02-12T15:38:33.414Z"
   },
   {
    "duration": 439,
    "start_time": "2022-02-12T15:38:34.051Z"
   },
   {
    "duration": 6,
    "start_time": "2022-02-12T15:38:34.492Z"
   },
   {
    "duration": 22,
    "start_time": "2022-02-12T15:38:34.501Z"
   },
   {
    "duration": 9,
    "start_time": "2022-02-12T15:38:34.527Z"
   },
   {
    "duration": 18,
    "start_time": "2022-02-12T15:38:34.539Z"
   },
   {
    "duration": 491,
    "start_time": "2022-02-12T15:38:34.560Z"
   },
   {
    "duration": 674,
    "start_time": "2022-02-12T15:38:35.054Z"
   },
   {
    "duration": 391,
    "start_time": "2022-02-12T15:38:35.732Z"
   },
   {
    "duration": 8,
    "start_time": "2022-02-12T15:38:36.127Z"
   },
   {
    "duration": 18,
    "start_time": "2022-02-12T15:38:36.138Z"
   },
   {
    "duration": 14,
    "start_time": "2022-02-12T15:38:36.159Z"
   },
   {
    "duration": 471,
    "start_time": "2022-02-12T15:38:36.175Z"
   },
   {
    "duration": 452,
    "start_time": "2022-02-12T15:38:36.649Z"
   },
   {
    "duration": 5,
    "start_time": "2022-02-12T15:38:37.104Z"
   },
   {
    "duration": 4,
    "start_time": "2022-02-12T15:38:37.123Z"
   },
   {
    "duration": 11,
    "start_time": "2022-02-12T15:38:37.130Z"
   },
   {
    "duration": 426,
    "start_time": "2022-02-12T15:38:37.143Z"
   },
   {
    "duration": 475,
    "start_time": "2022-02-12T15:38:37.571Z"
   },
   {
    "duration": 8,
    "start_time": "2022-02-12T15:38:38.050Z"
   },
   {
    "duration": 5,
    "start_time": "2022-02-12T15:38:38.061Z"
   },
   {
    "duration": 16,
    "start_time": "2022-02-12T15:38:38.068Z"
   },
   {
    "duration": 425,
    "start_time": "2022-02-12T15:38:38.086Z"
   },
   {
    "duration": 16,
    "start_time": "2022-02-12T15:38:38.513Z"
   },
   {
    "duration": 25,
    "start_time": "2022-02-12T15:38:38.533Z"
   },
   {
    "duration": 11,
    "start_time": "2022-02-12T15:38:38.573Z"
   },
   {
    "duration": 636,
    "start_time": "2022-02-12T15:38:38.587Z"
   },
   {
    "duration": 8,
    "start_time": "2022-02-12T15:38:39.226Z"
   },
   {
    "duration": 9,
    "start_time": "2022-02-12T15:38:39.241Z"
   },
   {
    "duration": 14,
    "start_time": "2022-02-12T15:38:39.256Z"
   },
   {
    "duration": 6,
    "start_time": "2022-02-12T15:38:39.273Z"
   },
   {
    "duration": 43,
    "start_time": "2022-02-12T15:38:39.282Z"
   },
   {
    "duration": 15,
    "start_time": "2022-02-12T15:38:39.328Z"
   },
   {
    "duration": 9,
    "start_time": "2022-02-12T15:38:39.346Z"
   },
   {
    "duration": 15,
    "start_time": "2022-02-12T15:38:39.358Z"
   },
   {
    "duration": 7,
    "start_time": "2022-02-12T15:38:39.376Z"
   },
   {
    "duration": 55,
    "start_time": "2022-02-12T15:38:39.386Z"
   },
   {
    "duration": 22,
    "start_time": "2022-02-12T15:38:39.444Z"
   },
   {
    "duration": 659,
    "start_time": "2022-02-12T15:38:39.470Z"
   },
   {
    "duration": 24,
    "start_time": "2022-02-12T15:38:40.131Z"
   },
   {
    "duration": 17,
    "start_time": "2022-02-12T15:38:40.158Z"
   },
   {
    "duration": 18,
    "start_time": "2022-02-12T15:38:40.178Z"
   },
   {
    "duration": 43,
    "start_time": "2022-02-12T15:38:40.200Z"
   },
   {
    "duration": 704,
    "start_time": "2022-02-12T15:38:40.248Z"
   },
   {
    "duration": 26,
    "start_time": "2022-02-12T16:25:26.789Z"
   },
   {
    "duration": 9,
    "start_time": "2022-02-12T17:11:48.621Z"
   },
   {
    "duration": 9,
    "start_time": "2022-02-12T17:12:00.843Z"
   },
   {
    "duration": 1697,
    "start_time": "2022-02-13T06:50:23.422Z"
   },
   {
    "duration": 230,
    "start_time": "2022-02-13T06:50:25.124Z"
   },
   {
    "duration": 39,
    "start_time": "2022-02-13T06:50:25.357Z"
   },
   {
    "duration": 41,
    "start_time": "2022-02-13T06:50:25.399Z"
   },
   {
    "duration": 201,
    "start_time": "2022-02-13T06:50:25.442Z"
   },
   {
    "duration": 18,
    "start_time": "2022-02-13T06:50:25.645Z"
   },
   {
    "duration": 140,
    "start_time": "2022-02-13T06:50:25.665Z"
   },
   {
    "duration": 27,
    "start_time": "2022-02-13T06:50:25.809Z"
   },
   {
    "duration": 34,
    "start_time": "2022-02-13T06:50:25.840Z"
   },
   {
    "duration": 141,
    "start_time": "2022-02-13T06:50:25.877Z"
   },
   {
    "duration": 108,
    "start_time": "2022-02-13T06:50:26.023Z"
   },
   {
    "duration": 58,
    "start_time": "2022-02-13T06:50:26.134Z"
   },
   {
    "duration": 108,
    "start_time": "2022-02-13T06:50:26.195Z"
   },
   {
    "duration": 18,
    "start_time": "2022-02-13T06:50:26.307Z"
   },
   {
    "duration": 10,
    "start_time": "2022-02-13T06:50:26.328Z"
   },
   {
    "duration": 13,
    "start_time": "2022-02-13T06:50:26.341Z"
   },
   {
    "duration": 11,
    "start_time": "2022-02-13T06:50:26.356Z"
   },
   {
    "duration": 9,
    "start_time": "2022-02-13T06:50:26.370Z"
   },
   {
    "duration": 101,
    "start_time": "2022-02-13T06:50:26.381Z"
   },
   {
    "duration": 66,
    "start_time": "2022-02-13T06:50:26.484Z"
   },
   {
    "duration": 44,
    "start_time": "2022-02-13T06:50:26.552Z"
   },
   {
    "duration": 60,
    "start_time": "2022-02-13T06:50:26.599Z"
   },
   {
    "duration": 26,
    "start_time": "2022-02-13T06:50:26.665Z"
   },
   {
    "duration": 41,
    "start_time": "2022-02-13T06:50:26.695Z"
   },
   {
    "duration": 19,
    "start_time": "2022-02-13T06:50:26.738Z"
   },
   {
    "duration": 18,
    "start_time": "2022-02-13T06:50:26.759Z"
   },
   {
    "duration": 65,
    "start_time": "2022-02-13T06:50:26.780Z"
   },
   {
    "duration": 10,
    "start_time": "2022-02-13T06:50:26.848Z"
   },
   {
    "duration": 13,
    "start_time": "2022-02-13T06:50:26.860Z"
   },
   {
    "duration": 14,
    "start_time": "2022-02-13T06:50:26.875Z"
   },
   {
    "duration": 51,
    "start_time": "2022-02-13T06:50:26.892Z"
   },
   {
    "duration": 20,
    "start_time": "2022-02-13T06:50:26.946Z"
   },
   {
    "duration": 20,
    "start_time": "2022-02-13T06:50:26.968Z"
   },
   {
    "duration": 52,
    "start_time": "2022-02-13T06:50:26.990Z"
   },
   {
    "duration": 34,
    "start_time": "2022-02-13T06:50:27.045Z"
   },
   {
    "duration": 7,
    "start_time": "2022-02-13T06:50:27.082Z"
   },
   {
    "duration": 35,
    "start_time": "2022-02-13T06:50:27.123Z"
   },
   {
    "duration": 69,
    "start_time": "2022-02-13T06:50:27.161Z"
   },
   {
    "duration": 11,
    "start_time": "2022-02-13T06:50:27.233Z"
   },
   {
    "duration": 9,
    "start_time": "2022-02-13T06:50:27.246Z"
   },
   {
    "duration": 13,
    "start_time": "2022-02-13T06:50:27.258Z"
   },
   {
    "duration": 387,
    "start_time": "2022-02-13T06:50:27.274Z"
   },
   {
    "duration": 360,
    "start_time": "2022-02-13T06:50:27.663Z"
   },
   {
    "duration": 377,
    "start_time": "2022-02-13T06:50:28.026Z"
   },
   {
    "duration": 18,
    "start_time": "2022-02-13T06:50:28.406Z"
   },
   {
    "duration": 8,
    "start_time": "2022-02-13T06:50:28.428Z"
   },
   {
    "duration": 7,
    "start_time": "2022-02-13T06:50:28.439Z"
   },
   {
    "duration": 22,
    "start_time": "2022-02-13T06:50:28.448Z"
   },
   {
    "duration": 478,
    "start_time": "2022-02-13T06:50:28.473Z"
   },
   {
    "duration": 393,
    "start_time": "2022-02-13T06:50:28.961Z"
   },
   {
    "duration": 387,
    "start_time": "2022-02-13T06:50:29.356Z"
   },
   {
    "duration": 6,
    "start_time": "2022-02-13T06:50:29.746Z"
   },
   {
    "duration": 7,
    "start_time": "2022-02-13T06:50:29.755Z"
   },
   {
    "duration": 20,
    "start_time": "2022-02-13T06:50:29.767Z"
   },
   {
    "duration": 718,
    "start_time": "2022-02-13T06:50:29.791Z"
   },
   {
    "duration": 514,
    "start_time": "2022-02-13T06:50:30.512Z"
   },
   {
    "duration": 7,
    "start_time": "2022-02-13T06:50:31.029Z"
   },
   {
    "duration": 24,
    "start_time": "2022-02-13T06:50:31.039Z"
   },
   {
    "duration": 16,
    "start_time": "2022-02-13T06:50:31.066Z"
   },
   {
    "duration": 427,
    "start_time": "2022-02-13T06:50:31.084Z"
   },
   {
    "duration": 354,
    "start_time": "2022-02-13T06:50:31.514Z"
   },
   {
    "duration": 6,
    "start_time": "2022-02-13T06:50:31.870Z"
   },
   {
    "duration": 6,
    "start_time": "2022-02-13T06:50:31.878Z"
   },
   {
    "duration": 38,
    "start_time": "2022-02-13T06:50:31.886Z"
   },
   {
    "duration": 381,
    "start_time": "2022-02-13T06:50:31.926Z"
   },
   {
    "duration": 13,
    "start_time": "2022-02-13T06:50:32.310Z"
   },
   {
    "duration": 4,
    "start_time": "2022-02-13T06:50:32.326Z"
   },
   {
    "duration": 10,
    "start_time": "2022-02-13T06:50:32.337Z"
   },
   {
    "duration": 368,
    "start_time": "2022-02-13T06:50:32.350Z"
   },
   {
    "duration": 6,
    "start_time": "2022-02-13T06:50:32.724Z"
   },
   {
    "duration": 6,
    "start_time": "2022-02-13T06:50:32.733Z"
   },
   {
    "duration": 11,
    "start_time": "2022-02-13T06:50:32.742Z"
   },
   {
    "duration": 18,
    "start_time": "2022-02-13T06:50:32.756Z"
   },
   {
    "duration": 8,
    "start_time": "2022-02-13T06:50:32.777Z"
   },
   {
    "duration": 43,
    "start_time": "2022-02-13T06:50:32.788Z"
   },
   {
    "duration": 6,
    "start_time": "2022-02-13T06:50:32.834Z"
   },
   {
    "duration": 15,
    "start_time": "2022-02-13T06:50:32.842Z"
   },
   {
    "duration": 15,
    "start_time": "2022-02-13T06:50:32.860Z"
   },
   {
    "duration": 12,
    "start_time": "2022-02-13T06:50:32.877Z"
   },
   {
    "duration": 11,
    "start_time": "2022-02-13T06:50:32.924Z"
   },
   {
    "duration": 557,
    "start_time": "2022-02-13T06:50:32.937Z"
   },
   {
    "duration": 25,
    "start_time": "2022-02-13T06:50:33.498Z"
   },
   {
    "duration": 8,
    "start_time": "2022-02-13T06:50:33.526Z"
   },
   {
    "duration": 26,
    "start_time": "2022-02-13T06:50:33.536Z"
   },
   {
    "duration": 10,
    "start_time": "2022-02-13T06:50:33.564Z"
   },
   {
    "duration": 526,
    "start_time": "2022-02-13T06:50:33.576Z"
   },
   {
    "duration": 15,
    "start_time": "2022-02-13T06:52:17.443Z"
   },
   {
    "duration": 9,
    "start_time": "2022-02-13T06:52:24.897Z"
   },
   {
    "duration": 4,
    "start_time": "2022-02-13T06:53:03.544Z"
   },
   {
    "duration": 233,
    "start_time": "2022-02-13T06:53:03.552Z"
   },
   {
    "duration": 59,
    "start_time": "2022-02-13T06:53:03.788Z"
   },
   {
    "duration": 18,
    "start_time": "2022-02-13T06:53:03.850Z"
   },
   {
    "duration": 199,
    "start_time": "2022-02-13T06:53:03.870Z"
   },
   {
    "duration": 16,
    "start_time": "2022-02-13T06:53:04.072Z"
   },
   {
    "duration": 149,
    "start_time": "2022-02-13T06:53:04.092Z"
   },
   {
    "duration": 21,
    "start_time": "2022-02-13T06:53:04.243Z"
   },
   {
    "duration": 31,
    "start_time": "2022-02-13T06:53:04.266Z"
   },
   {
    "duration": 153,
    "start_time": "2022-02-13T06:53:04.299Z"
   },
   {
    "duration": 121,
    "start_time": "2022-02-13T06:53:04.455Z"
   },
   {
    "duration": 91,
    "start_time": "2022-02-13T06:53:04.579Z"
   },
   {
    "duration": 150,
    "start_time": "2022-02-13T06:53:04.673Z"
   },
   {
    "duration": 6,
    "start_time": "2022-02-13T06:53:04.826Z"
   },
   {
    "duration": 17,
    "start_time": "2022-02-13T06:53:04.834Z"
   },
   {
    "duration": 14,
    "start_time": "2022-02-13T06:53:04.854Z"
   },
   {
    "duration": 7,
    "start_time": "2022-02-13T06:53:04.871Z"
   },
   {
    "duration": 10,
    "start_time": "2022-02-13T06:53:10.394Z"
   },
   {
    "duration": 4,
    "start_time": "2022-02-13T07:09:18.751Z"
   },
   {
    "duration": 374,
    "start_time": "2022-02-13T07:09:18.757Z"
   },
   {
    "duration": 50,
    "start_time": "2022-02-13T07:09:19.136Z"
   },
   {
    "duration": 50,
    "start_time": "2022-02-13T07:09:19.189Z"
   },
   {
    "duration": 201,
    "start_time": "2022-02-13T07:09:19.242Z"
   },
   {
    "duration": 19,
    "start_time": "2022-02-13T07:09:19.446Z"
   },
   {
    "duration": 153,
    "start_time": "2022-02-13T07:09:19.470Z"
   },
   {
    "duration": 20,
    "start_time": "2022-02-13T07:09:19.626Z"
   },
   {
    "duration": 32,
    "start_time": "2022-02-13T07:09:19.648Z"
   },
   {
    "duration": 118,
    "start_time": "2022-02-13T07:09:19.682Z"
   },
   {
    "duration": 99,
    "start_time": "2022-02-13T07:09:19.803Z"
   },
   {
    "duration": 59,
    "start_time": "2022-02-13T07:09:19.924Z"
   },
   {
    "duration": 120,
    "start_time": "2022-02-13T07:09:19.986Z"
   },
   {
    "duration": 18,
    "start_time": "2022-02-13T07:09:20.109Z"
   },
   {
    "duration": 10,
    "start_time": "2022-02-13T07:09:20.129Z"
   },
   {
    "duration": 12,
    "start_time": "2022-02-13T07:09:20.142Z"
   },
   {
    "duration": 7,
    "start_time": "2022-02-13T07:09:20.157Z"
   },
   {
    "duration": 10,
    "start_time": "2022-02-13T07:09:20.167Z"
   },
   {
    "duration": 41,
    "start_time": "2022-02-13T07:09:20.184Z"
   },
   {
    "duration": 70,
    "start_time": "2022-02-13T07:09:20.229Z"
   },
   {
    "duration": 72,
    "start_time": "2022-02-13T07:09:20.303Z"
   },
   {
    "duration": 65,
    "start_time": "2022-02-13T07:09:20.378Z"
   },
   {
    "duration": 39,
    "start_time": "2022-02-13T07:09:20.446Z"
   },
   {
    "duration": 11,
    "start_time": "2022-02-13T07:09:20.487Z"
   },
   {
    "duration": 19,
    "start_time": "2022-02-13T07:09:20.525Z"
   },
   {
    "duration": 22,
    "start_time": "2022-02-13T07:09:20.548Z"
   },
   {
    "duration": 58,
    "start_time": "2022-02-13T07:09:20.572Z"
   },
   {
    "duration": 29,
    "start_time": "2022-02-13T07:09:20.633Z"
   },
   {
    "duration": 11,
    "start_time": "2022-02-13T07:09:20.665Z"
   },
   {
    "duration": 50,
    "start_time": "2022-02-13T07:09:20.679Z"
   },
   {
    "duration": 15,
    "start_time": "2022-02-13T07:09:20.732Z"
   },
   {
    "duration": 23,
    "start_time": "2022-02-13T07:09:20.749Z"
   },
   {
    "duration": 52,
    "start_time": "2022-02-13T07:09:20.774Z"
   },
   {
    "duration": 21,
    "start_time": "2022-02-13T07:09:20.829Z"
   },
   {
    "duration": 26,
    "start_time": "2022-02-13T07:09:20.853Z"
   },
   {
    "duration": 72,
    "start_time": "2022-02-13T07:09:20.881Z"
   },
   {
    "duration": 8,
    "start_time": "2022-02-13T07:09:20.956Z"
   },
   {
    "duration": 68,
    "start_time": "2022-02-13T07:09:20.966Z"
   },
   {
    "duration": 48,
    "start_time": "2022-02-13T07:09:21.037Z"
   },
   {
    "duration": 42,
    "start_time": "2022-02-13T07:09:21.088Z"
   },
   {
    "duration": 7,
    "start_time": "2022-02-13T07:09:21.132Z"
   },
   {
    "duration": 11,
    "start_time": "2022-02-13T07:09:21.142Z"
   },
   {
    "duration": 410,
    "start_time": "2022-02-13T07:09:21.155Z"
   },
   {
    "duration": 358,
    "start_time": "2022-02-13T07:09:21.568Z"
   },
   {
    "duration": 346,
    "start_time": "2022-02-13T07:09:21.928Z"
   },
   {
    "duration": 7,
    "start_time": "2022-02-13T07:09:22.276Z"
   },
   {
    "duration": 9,
    "start_time": "2022-02-13T07:09:22.285Z"
   },
   {
    "duration": 43,
    "start_time": "2022-02-13T07:09:22.297Z"
   },
   {
    "duration": 15,
    "start_time": "2022-02-13T07:09:22.344Z"
   },
   {
    "duration": 722,
    "start_time": "2022-02-13T07:09:22.363Z"
   },
   {
    "duration": 745,
    "start_time": "2022-02-13T07:09:23.089Z"
   },
   {
    "duration": 560,
    "start_time": "2022-02-13T07:09:23.836Z"
   },
   {
    "duration": 9,
    "start_time": "2022-02-13T07:09:24.400Z"
   },
   {
    "duration": 19,
    "start_time": "2022-02-13T07:40:20.333Z"
   },
   {
    "duration": 1410,
    "start_time": "2022-02-13T07:55:11.488Z"
   },
   {
    "duration": 245,
    "start_time": "2022-02-13T07:55:12.900Z"
   },
   {
    "duration": 51,
    "start_time": "2022-02-13T07:55:13.149Z"
   },
   {
    "duration": 46,
    "start_time": "2022-02-13T07:55:13.203Z"
   },
   {
    "duration": 229,
    "start_time": "2022-02-13T07:55:13.252Z"
   },
   {
    "duration": 18,
    "start_time": "2022-02-13T07:55:13.484Z"
   },
   {
    "duration": 173,
    "start_time": "2022-02-13T07:55:13.505Z"
   },
   {
    "duration": 24,
    "start_time": "2022-02-13T07:55:13.685Z"
   },
   {
    "duration": 32,
    "start_time": "2022-02-13T07:55:13.714Z"
   },
   {
    "duration": 156,
    "start_time": "2022-02-13T07:55:13.748Z"
   },
   {
    "duration": 128,
    "start_time": "2022-02-13T07:55:13.907Z"
   },
   {
    "duration": 57,
    "start_time": "2022-02-13T07:55:14.038Z"
   },
   {
    "duration": 112,
    "start_time": "2022-02-13T07:55:14.098Z"
   },
   {
    "duration": 11,
    "start_time": "2022-02-13T07:55:14.213Z"
   },
   {
    "duration": 12,
    "start_time": "2022-02-13T07:55:14.227Z"
   },
   {
    "duration": 15,
    "start_time": "2022-02-13T07:55:14.242Z"
   },
   {
    "duration": 7,
    "start_time": "2022-02-13T07:55:14.260Z"
   },
   {
    "duration": 54,
    "start_time": "2022-02-13T07:55:14.270Z"
   },
   {
    "duration": 11,
    "start_time": "2022-02-13T07:55:14.327Z"
   },
   {
    "duration": 85,
    "start_time": "2022-02-13T07:55:14.340Z"
   },
   {
    "duration": 61,
    "start_time": "2022-02-13T07:55:14.427Z"
   },
   {
    "duration": 59,
    "start_time": "2022-02-13T07:55:14.491Z"
   },
   {
    "duration": 44,
    "start_time": "2022-02-13T07:55:14.556Z"
   },
   {
    "duration": 33,
    "start_time": "2022-02-13T07:55:14.604Z"
   },
   {
    "duration": 19,
    "start_time": "2022-02-13T07:55:14.639Z"
   },
   {
    "duration": 18,
    "start_time": "2022-02-13T07:55:14.661Z"
   },
   {
    "duration": 57,
    "start_time": "2022-02-13T07:55:14.682Z"
   },
   {
    "duration": 32,
    "start_time": "2022-02-13T07:55:14.742Z"
   },
   {
    "duration": 46,
    "start_time": "2022-02-13T07:55:14.777Z"
   },
   {
    "duration": 15,
    "start_time": "2022-02-13T07:55:14.826Z"
   },
   {
    "duration": 13,
    "start_time": "2022-02-13T07:55:14.844Z"
   },
   {
    "duration": 23,
    "start_time": "2022-02-13T07:55:14.859Z"
   },
   {
    "duration": 23,
    "start_time": "2022-02-13T07:55:14.925Z"
   },
   {
    "duration": 20,
    "start_time": "2022-02-13T07:55:14.951Z"
   },
   {
    "duration": 54,
    "start_time": "2022-02-13T07:55:14.974Z"
   },
   {
    "duration": 56,
    "start_time": "2022-02-13T07:55:15.030Z"
   },
   {
    "duration": 36,
    "start_time": "2022-02-13T07:55:15.089Z"
   },
   {
    "duration": 35,
    "start_time": "2022-02-13T07:55:15.128Z"
   },
   {
    "duration": 75,
    "start_time": "2022-02-13T07:55:15.165Z"
   },
   {
    "duration": 12,
    "start_time": "2022-02-13T07:55:15.242Z"
   },
   {
    "duration": 7,
    "start_time": "2022-02-13T07:55:15.256Z"
   },
   {
    "duration": 11,
    "start_time": "2022-02-13T07:55:15.266Z"
   },
   {
    "duration": 379,
    "start_time": "2022-02-13T07:55:15.280Z"
   },
   {
    "duration": 353,
    "start_time": "2022-02-13T07:55:15.661Z"
   },
   {
    "duration": 657,
    "start_time": "2022-02-13T07:55:16.024Z"
   },
   {
    "duration": 7,
    "start_time": "2022-02-13T07:55:16.684Z"
   },
   {
    "duration": 11,
    "start_time": "2022-02-13T07:55:16.694Z"
   },
   {
    "duration": 14,
    "start_time": "2022-02-13T07:55:16.724Z"
   },
   {
    "duration": 13,
    "start_time": "2022-02-13T07:55:16.740Z"
   },
   {
    "duration": 603,
    "start_time": "2022-02-13T07:55:16.756Z"
   },
   {
    "duration": 702,
    "start_time": "2022-02-13T07:55:17.362Z"
   },
   {
    "duration": 655,
    "start_time": "2022-02-13T07:55:18.068Z"
   },
   {
    "duration": 7,
    "start_time": "2022-02-13T07:55:18.726Z"
   },
   {
    "duration": 9,
    "start_time": "2022-02-13T07:55:18.736Z"
   },
   {
    "duration": 15,
    "start_time": "2022-02-13T07:55:18.747Z"
   },
   {
    "duration": 412,
    "start_time": "2022-02-13T07:55:18.765Z"
   },
   {
    "duration": 379,
    "start_time": "2022-02-13T07:55:19.180Z"
   },
   {
    "duration": 7,
    "start_time": "2022-02-13T07:55:19.562Z"
   },
   {
    "duration": 6,
    "start_time": "2022-02-13T07:55:19.572Z"
   },
   {
    "duration": 12,
    "start_time": "2022-02-13T07:55:19.580Z"
   },
   {
    "duration": 530,
    "start_time": "2022-02-13T07:55:19.623Z"
   },
   {
    "duration": 351,
    "start_time": "2022-02-13T07:55:20.155Z"
   },
   {
    "duration": 17,
    "start_time": "2022-02-13T07:55:20.509Z"
   },
   {
    "duration": 8,
    "start_time": "2022-02-13T07:55:20.529Z"
   },
   {
    "duration": 12,
    "start_time": "2022-02-13T07:55:20.540Z"
   },
   {
    "duration": 504,
    "start_time": "2022-02-13T07:55:20.555Z"
   },
   {
    "duration": 6,
    "start_time": "2022-02-13T07:55:21.061Z"
   },
   {
    "duration": 4,
    "start_time": "2022-02-13T07:55:21.075Z"
   },
   {
    "duration": 44,
    "start_time": "2022-02-13T07:55:21.081Z"
   },
   {
    "duration": 341,
    "start_time": "2022-02-13T07:55:21.127Z"
   },
   {
    "duration": 8,
    "start_time": "2022-02-13T07:55:21.471Z"
   },
   {
    "duration": 5,
    "start_time": "2022-02-13T07:55:21.484Z"
   },
   {
    "duration": 36,
    "start_time": "2022-02-13T07:55:21.493Z"
   },
   {
    "duration": 8,
    "start_time": "2022-02-13T07:55:21.532Z"
   },
   {
    "duration": 9,
    "start_time": "2022-02-13T07:55:21.543Z"
   },
   {
    "duration": 11,
    "start_time": "2022-02-13T07:55:21.556Z"
   },
   {
    "duration": 59,
    "start_time": "2022-02-13T07:55:21.570Z"
   },
   {
    "duration": 20,
    "start_time": "2022-02-13T07:55:21.633Z"
   },
   {
    "duration": 8,
    "start_time": "2022-02-13T07:55:21.656Z"
   },
   {
    "duration": 57,
    "start_time": "2022-02-13T07:55:21.667Z"
   },
   {
    "duration": 12,
    "start_time": "2022-02-13T07:55:21.727Z"
   },
   {
    "duration": 524,
    "start_time": "2022-02-13T07:55:21.742Z"
   },
   {
    "duration": 9,
    "start_time": "2022-02-13T07:55:22.268Z"
   },
   {
    "duration": 6,
    "start_time": "2022-02-13T07:55:22.280Z"
   },
   {
    "duration": 37,
    "start_time": "2022-02-13T07:55:22.288Z"
   },
   {
    "duration": 12,
    "start_time": "2022-02-13T07:55:22.327Z"
   },
   {
    "duration": 516,
    "start_time": "2022-02-13T07:55:22.342Z"
   },
   {
    "duration": 1459,
    "start_time": "2022-02-13T08:06:03.907Z"
   },
   {
    "duration": 232,
    "start_time": "2022-02-13T08:06:05.368Z"
   },
   {
    "duration": 45,
    "start_time": "2022-02-13T08:06:05.603Z"
   },
   {
    "duration": 23,
    "start_time": "2022-02-13T08:06:05.651Z"
   },
   {
    "duration": 209,
    "start_time": "2022-02-13T08:06:05.677Z"
   },
   {
    "duration": 35,
    "start_time": "2022-02-13T08:06:05.889Z"
   },
   {
    "duration": 134,
    "start_time": "2022-02-13T08:06:05.927Z"
   },
   {
    "duration": 22,
    "start_time": "2022-02-13T08:06:06.067Z"
   },
   {
    "duration": 45,
    "start_time": "2022-02-13T08:06:06.093Z"
   },
   {
    "duration": 152,
    "start_time": "2022-02-13T08:06:06.141Z"
   },
   {
    "duration": 107,
    "start_time": "2022-02-13T08:06:06.296Z"
   },
   {
    "duration": 64,
    "start_time": "2022-02-13T08:06:06.406Z"
   },
   {
    "duration": 104,
    "start_time": "2022-02-13T08:06:06.473Z"
   },
   {
    "duration": 4,
    "start_time": "2022-02-13T08:06:06.579Z"
   },
   {
    "duration": 15,
    "start_time": "2022-02-13T08:06:06.585Z"
   },
   {
    "duration": 25,
    "start_time": "2022-02-13T08:06:06.603Z"
   },
   {
    "duration": 8,
    "start_time": "2022-02-13T08:06:06.631Z"
   },
   {
    "duration": 10,
    "start_time": "2022-02-13T08:06:06.641Z"
   },
   {
    "duration": 7,
    "start_time": "2022-02-13T08:06:06.654Z"
   },
   {
    "duration": 109,
    "start_time": "2022-02-13T08:06:06.664Z"
   },
   {
    "duration": 69,
    "start_time": "2022-02-13T08:06:06.776Z"
   },
   {
    "duration": 44,
    "start_time": "2022-02-13T08:06:06.848Z"
   },
   {
    "duration": 63,
    "start_time": "2022-02-13T08:06:06.897Z"
   },
   {
    "duration": 17,
    "start_time": "2022-02-13T08:06:06.965Z"
   },
   {
    "duration": 42,
    "start_time": "2022-02-13T08:06:06.984Z"
   },
   {
    "duration": 18,
    "start_time": "2022-02-13T08:06:07.028Z"
   },
   {
    "duration": 21,
    "start_time": "2022-02-13T08:06:07.050Z"
   },
   {
    "duration": 66,
    "start_time": "2022-02-13T08:06:07.074Z"
   },
   {
    "duration": 12,
    "start_time": "2022-02-13T08:06:07.142Z"
   },
   {
    "duration": 13,
    "start_time": "2022-02-13T08:06:07.157Z"
   },
   {
    "duration": 10,
    "start_time": "2022-02-13T08:06:07.172Z"
   },
   {
    "duration": 61,
    "start_time": "2022-02-13T08:06:07.185Z"
   },
   {
    "duration": 20,
    "start_time": "2022-02-13T08:06:07.248Z"
   },
   {
    "duration": 22,
    "start_time": "2022-02-13T08:06:07.271Z"
   },
   {
    "duration": 23,
    "start_time": "2022-02-13T08:06:07.324Z"
   },
   {
    "duration": 33,
    "start_time": "2022-02-13T08:06:07.349Z"
   },
   {
    "duration": 44,
    "start_time": "2022-02-13T08:06:07.385Z"
   },
   {
    "duration": 36,
    "start_time": "2022-02-13T08:06:07.432Z"
   },
   {
    "duration": 75,
    "start_time": "2022-02-13T08:06:07.471Z"
   },
   {
    "duration": 12,
    "start_time": "2022-02-13T08:06:07.549Z"
   },
   {
    "duration": 7,
    "start_time": "2022-02-13T08:06:07.563Z"
   },
   {
    "duration": 12,
    "start_time": "2022-02-13T08:06:07.572Z"
   },
   {
    "duration": 374,
    "start_time": "2022-02-13T08:06:07.587Z"
   },
   {
    "duration": 353,
    "start_time": "2022-02-13T08:06:07.963Z"
   },
   {
    "duration": 345,
    "start_time": "2022-02-13T08:06:08.318Z"
   },
   {
    "duration": 9,
    "start_time": "2022-02-13T08:06:08.667Z"
   },
   {
    "duration": 6,
    "start_time": "2022-02-13T08:06:08.679Z"
   },
   {
    "duration": 40,
    "start_time": "2022-02-13T08:06:08.688Z"
   },
   {
    "duration": 15,
    "start_time": "2022-02-13T08:06:08.732Z"
   },
   {
    "duration": 658,
    "start_time": "2022-02-13T08:06:08.750Z"
   },
   {
    "duration": 386,
    "start_time": "2022-02-13T08:06:09.411Z"
   },
   {
    "duration": 369,
    "start_time": "2022-02-13T08:06:09.799Z"
   },
   {
    "duration": 7,
    "start_time": "2022-02-13T08:06:10.170Z"
   },
   {
    "duration": 5,
    "start_time": "2022-02-13T08:06:10.180Z"
   },
   {
    "duration": 39,
    "start_time": "2022-02-13T08:06:10.187Z"
   },
   {
    "duration": 357,
    "start_time": "2022-02-13T08:06:10.228Z"
   },
   {
    "duration": 371,
    "start_time": "2022-02-13T08:06:10.587Z"
   },
   {
    "duration": 7,
    "start_time": "2022-02-13T08:06:10.961Z"
   },
   {
    "duration": 10,
    "start_time": "2022-02-13T08:06:10.971Z"
   },
   {
    "duration": 12,
    "start_time": "2022-02-13T08:06:10.984Z"
   },
   {
    "duration": 429,
    "start_time": "2022-02-13T08:06:10.998Z"
   },
   {
    "duration": 354,
    "start_time": "2022-02-13T08:06:11.430Z"
   },
   {
    "duration": 6,
    "start_time": "2022-02-13T08:06:11.786Z"
   },
   {
    "duration": 7,
    "start_time": "2022-02-13T08:06:11.795Z"
   },
   {
    "duration": 26,
    "start_time": "2022-02-13T08:06:11.804Z"
   },
   {
    "duration": 403,
    "start_time": "2022-02-13T08:06:11.833Z"
   },
   {
    "duration": 7,
    "start_time": "2022-02-13T08:06:12.239Z"
   },
   {
    "duration": 3,
    "start_time": "2022-02-13T08:06:12.255Z"
   },
   {
    "duration": 9,
    "start_time": "2022-02-13T08:06:12.261Z"
   },
   {
    "duration": 393,
    "start_time": "2022-02-13T08:06:12.273Z"
   },
   {
    "duration": 6,
    "start_time": "2022-02-13T08:06:12.668Z"
   },
   {
    "duration": 6,
    "start_time": "2022-02-13T08:06:12.676Z"
   },
   {
    "duration": 41,
    "start_time": "2022-02-13T08:06:12.684Z"
   },
   {
    "duration": 6,
    "start_time": "2022-02-13T08:06:12.728Z"
   },
   {
    "duration": 14,
    "start_time": "2022-02-13T08:06:12.736Z"
   },
   {
    "duration": 8,
    "start_time": "2022-02-13T08:06:12.752Z"
   },
   {
    "duration": 7,
    "start_time": "2022-02-13T08:06:12.762Z"
   },
   {
    "duration": 57,
    "start_time": "2022-02-13T08:06:12.771Z"
   },
   {
    "duration": 10,
    "start_time": "2022-02-13T08:06:12.831Z"
   },
   {
    "duration": 10,
    "start_time": "2022-02-13T08:06:12.843Z"
   },
   {
    "duration": 9,
    "start_time": "2022-02-13T08:06:12.856Z"
   },
   {
    "duration": 546,
    "start_time": "2022-02-13T08:06:12.867Z"
   },
   {
    "duration": 13,
    "start_time": "2022-02-13T08:06:13.424Z"
   },
   {
    "duration": 9,
    "start_time": "2022-02-13T08:06:13.439Z"
   },
   {
    "duration": 12,
    "start_time": "2022-02-13T08:06:13.451Z"
   },
   {
    "duration": 58,
    "start_time": "2022-02-13T08:06:13.465Z"
   },
   {
    "duration": 501,
    "start_time": "2022-02-13T08:06:13.526Z"
   },
   {
    "duration": 110,
    "start_time": "2022-02-14T08:00:06.747Z"
   }
  ],
  "kernelspec": {
   "display_name": "Python 3 (ipykernel)",
   "language": "python",
   "name": "python3"
  },
  "language_info": {
   "codemirror_mode": {
    "name": "ipython",
    "version": 3
   },
   "file_extension": ".py",
   "mimetype": "text/x-python",
   "name": "python",
   "nbconvert_exporter": "python",
   "pygments_lexer": "ipython3",
   "version": "3.9.7"
  },
  "toc": {
   "base_numbering": 1,
   "nav_menu": {},
   "number_sections": true,
   "sideBar": true,
   "skip_h1_title": true,
   "title_cell": "Оглавление",
   "title_sidebar": "Contents",
   "toc_cell": true,
   "toc_position": {
    "height": "calc(100% - 180px)",
    "left": "10px",
    "top": "150px",
    "width": "168px"
   },
   "toc_section_display": true,
   "toc_window_display": false
  }
 },
 "nbformat": 4,
 "nbformat_minor": 2
}
